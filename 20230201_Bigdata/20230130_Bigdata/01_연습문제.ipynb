{
 "cells": [
  {
   "cell_type": "code",
   "execution_count": 30,
   "metadata": {},
   "outputs": [
    {
     "name": "stdout",
     "output_type": "stream",
     "text": [
      "23\n"
     ]
    }
   ],
   "source": [
    "# 문제1\n",
    "list = []\n",
    "\n",
    "for i in range(10) :\n",
    "    if i%3 == 0 or i%5 == 0 :\n",
    "        list.append(i)\n",
    "\n",
    "print(sum(list))"
   ]
  },
  {
   "cell_type": "code",
   "execution_count": 31,
   "metadata": {},
   "outputs": [
    {
     "name": "stdout",
     "output_type": "stream",
     "text": [
      "2318\n"
     ]
    }
   ],
   "source": [
    "# 문제2\n",
    "list = []\n",
    "\n",
    "for i in range(100) :\n",
    "    if i%3 == 0 or i%5 == 0 :\n",
    "        list.append(i)\n",
    "\n",
    "print(sum(list))"
   ]
  },
  {
   "cell_type": "code",
   "execution_count": 29,
   "metadata": {},
   "outputs": [
    {
     "name": "stdout",
     "output_type": "stream",
     "text": [
      "18\n",
      "5\n",
      "23\n"
     ]
    }
   ],
   "source": [
    "#practice #1\n",
    "list_3 = []\n",
    "list_5 = []\n",
    "\n",
    "for i in range(3,10,3) :\n",
    "    list_3.append(i)\n",
    "print(sum(list_3))\n",
    "    \n",
    "for j in range(5,10,5) :\n",
    "    list_5.append(j)\n",
    "print(sum(list_5))\n",
    "\n",
    "print(sum(list_3)+sum(list_5))"
   ]
  },
  {
   "cell_type": "code",
   "execution_count": 10,
   "metadata": {},
   "outputs": [
    {
     "name": "stdout",
     "output_type": "stream",
     "text": [
      "2318\n"
     ]
    }
   ],
   "source": [
    "# 다른 풀이\n",
    "list3 = [i for i in range(3,100,3)]\n",
    "list5 = [i for i in range(5,100,5)]\n",
    "\n",
    "list_all = list3 + list5\n",
    "\n",
    "set_all = set(list_all)\n",
    "\n",
    "print(sum(set_all))"
   ]
  },
  {
   "cell_type": "code",
   "execution_count": 20,
   "metadata": {},
   "outputs": [
    {
     "name": "stdout",
     "output_type": "stream",
     "text": [
      "2318\n",
      "3\n",
      "99\n"
     ]
    }
   ],
   "source": [
    "# 논리 연산자\n",
    "# or : 둘 중 하나라도 만족하는 경우\n",
    "# and : 둘다 만족하는 경우\n",
    "\n",
    "list_all = []\n",
    "\n",
    "for i in range(1, 100) :\n",
    "    if i%3 == 0 or i%5 == 0 :\n",
    "        list_all.append(i)\n",
    "# print(list_all)\n",
    "print(sum(list_all))"
   ]
  }
 ],
 "metadata": {
  "kernelspec": {
   "display_name": "Python 3",
   "language": "python",
   "name": "python3"
  },
  "language_info": {
   "codemirror_mode": {
    "name": "ipython",
    "version": 3
   },
   "file_extension": ".py",
   "mimetype": "text/x-python",
   "name": "python",
   "nbconvert_exporter": "python",
   "pygments_lexer": "ipython3",
   "version": "3.10.9"
  },
  "orig_nbformat": 4,
  "vscode": {
   "interpreter": {
    "hash": "08804ff59ba42edf801cabf0150036e830ede650fb4c74b1d2ab081b0e1a309a"
   }
  }
 },
 "nbformat": 4,
 "nbformat_minor": 2
}
