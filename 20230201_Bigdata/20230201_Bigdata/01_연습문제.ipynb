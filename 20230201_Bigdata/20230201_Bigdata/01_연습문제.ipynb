{
 "cells": [
  {
   "cell_type": "code",
   "execution_count": 12,
   "metadata": {},
   "outputs": [
    {
     "name": "stdout",
     "output_type": "stream",
     "text": [
      "Prime Number!\n",
      "Prime Number!\n"
     ]
    }
   ],
   "source": [
    "# 소수(prime number) : 1과 자기 자신으로만 나누어 떨어지는 숫자.\n",
    "n = 13\n",
    "is_prime = ''\n",
    "flag = 0\n",
    "\n",
    "for i in range(2, 7) :\n",
    "    if n%i == 0 :\n",
    "        is_prime = \"Not Prime Number\"\n",
    "        flag = 1\n",
    "        break\n",
    "    else : \n",
    "        is_prime = \"Prime Number!\"\n",
    "\n",
    "print(is_prime)\n",
    "# 다른 방법\n",
    "if flag == 0 :\n",
    "    print('Prime Number!')\n",
    "else :\n",
    "    print(\"Not Prime Number\")"
   ]
  },
  {
   "cell_type": "code",
   "execution_count": 23,
   "metadata": {},
   "outputs": [
    {
     "name": "stdout",
     "output_type": "stream",
     "text": [
      "[2, 3, 5, 7, 11, 13, 17, 19, 23, 29, 31, 37, 41, 43, 47, 53, 59, 61, 67, 71, 73, 79, 83, 89, 97, 101, 103, 107, 109, 113, 127, 131, 137, 139, 149, 151, 157, 163, 167, 173, 179, 181, 191, 193, 197, 199, 211, 223, 227, 229, 233, 239, 241, 251, 257, 263, 269, 271, 277, 281, 283, 293, 307, 311, 313, 317, 331, 337, 347, 349, 353, 359, 367, 373, 379, 383, 389, 397, 401, 409, 419, 421, 431, 433, 439, 443, 449, 457, 461, 463, 467, 479, 487, 491, 499, 503, 509, 521, 523, 541, 547, 557, 563, 569, 571, 577, 587, 593, 599, 601, 607, 613, 617, 619, 631, 641, 643, 647, 653, 659, 661, 673, 677, 683, 691, 701, 709, 719, 727, 733, 739, 743, 751, 757, 761, 769, 773, 787, 797, 809, 811, 821, 823, 827, 829, 839, 853, 857, 859, 863, 877, 881, 883, 887, 907, 911, 919, 929, 937, 941, 947, 953, 967, 971, 977, 983, 991, 997]\n"
     ]
    }
   ],
   "source": [
    "prime_numbers = []\n",
    "flag = 0\n",
    "\n",
    "for i in range(2, 1000) :\n",
    "    flag = 0\n",
    "    for j in range(2, i) :\n",
    "        if i%j == 0 :\n",
    "            # print(i, 'Not Prime')\n",
    "            flag = 1\n",
    "            break\n",
    "    if flag == 0 :\n",
    "        #print(n, 'Prime')\n",
    "        prime_numbers.append(i)\n",
    "\n",
    "print(prime_numbers)"
   ]
  }
 ],
 "metadata": {
  "kernelspec": {
   "display_name": "Python 3",
   "language": "python",
   "name": "python3"
  },
  "language_info": {
   "codemirror_mode": {
    "name": "ipython",
    "version": 3
   },
   "file_extension": ".py",
   "mimetype": "text/x-python",
   "name": "python",
   "nbconvert_exporter": "python",
   "pygments_lexer": "ipython3",
   "version": "3.10.9"
  },
  "orig_nbformat": 4,
  "vscode": {
   "interpreter": {
    "hash": "08804ff59ba42edf801cabf0150036e830ede650fb4c74b1d2ab081b0e1a309a"
   }
  }
 },
 "nbformat": 4,
 "nbformat_minor": 2
}
