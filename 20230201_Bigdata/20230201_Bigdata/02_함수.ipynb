{
 "cells": [
  {
   "cell_type": "code",
   "execution_count": 74,
   "metadata": {},
   "outputs": [
    {
     "data": {
      "text/plain": [
       "[1, 2, 3, 5, 7, 11, 13, 17, 19, 23, 29]"
      ]
     },
     "execution_count": 74,
     "metadata": {},
     "output_type": "execute_result"
    }
   ],
   "source": [
    "# 함수(define)\n",
    "\n",
    "def prime_number(end_num) :\n",
    "    prime_numbers = [1]\n",
    "    flag = 0\n",
    "\n",
    "    for i in range(2, end_num) :\n",
    "        flag = 0\n",
    "        for j in range(2, i) :\n",
    "            if i%j == 0 :\n",
    "                # print(i, 'Not Prime')\n",
    "                flag = 1\n",
    "                break\n",
    "        if flag == 0 :\n",
    "            #print(n, 'Prime')\n",
    "            prime_numbers.append(i)\n",
    "    return prime_numbers\n",
    "\n",
    "prime_number(30)"
   ]
  },
  {
   "cell_type": "code",
   "execution_count": 33,
   "metadata": {},
   "outputs": [
    {
     "name": "stdout",
     "output_type": "stream",
     "text": [
      "o b\n"
     ]
    }
   ],
   "source": [
    "# 함수 매개변수 (argument)\n",
    "\n",
    "# 매개변수 1개\n",
    "def myfn1(arg1) :\n",
    "    print(arg1)\n",
    " \n",
    "# default 값을 주는 방법! (받아오는 값이 없는 경우 리턴할 값을 지정)\n",
    "def myfn2(arg1='hello') :\n",
    "    print(arg1)\n",
    "\n",
    "# 매개변수 2개\n",
    "def myfn3(arg2='none2', arg1='none1') :\n",
    "    print(arg1, arg2)\n",
    "\n",
    "\n",
    "def myfn4(arg1='o', arg2='x') :\n",
    "    print(arg1, arg2)\n",
    "\n",
    "# 함수 호출 시 매개변수를 지정할 수 있다!\n",
    "myfn4(arg2='b')\n",
    "\n",
    "# myfn1([1,2,3])\n",
    "# myfn2()\n",
    "# myfn2([1,2,3])\n",
    "# myfn3(1)\n",
    "# myfn3(1, 3)"
   ]
  },
  {
   "cell_type": "code",
   "execution_count": 43,
   "metadata": {},
   "outputs": [
    {
     "name": "stdout",
     "output_type": "stream",
     "text": [
      "1 2\n",
      "1 2\n",
      "1 2 3 4 5 6\n"
     ]
    }
   ],
   "source": [
    "# 매개변수 특수 처리\n",
    "\n",
    "# * 이후 매개변수는 keword_only argument로만 사용!\n",
    "def myfn5(arg1, *, arg2) :\n",
    "    print(arg1, arg2)\n",
    "\n",
    "# / 기준 좌측에 위치한 pogitional_only argument로만 사용! 즉 keword_only로 사용 불가!\n",
    "def myfn6(arg1, /, arg2) :\n",
    "    print(arg1, arg2)\n",
    "\n",
    "# 혼합 예시\n",
    "def myfn7(arg1, arg2, /, arg3, arg4, *, arg5, arg6) :\n",
    "    print(arg1, arg2, arg3, arg4, arg5, arg6)\n",
    "\n",
    "\n",
    "# myfn5(1, 2)  : 에러 발생! arg2=2 이런 형태로 명시를 해야만 에러가 발생하지 않는다!\n",
    "myfn5(1,arg2=2)\n",
    "\n",
    "# myfn6(arg1=1,2) : 에러 발생!\n",
    "myfn6(1,2)\n",
    "\n",
    "\n",
    "myfn7(1,2,3,4,arg5=5,arg6=6)"
   ]
  },
  {
   "cell_type": "code",
   "execution_count": 52,
   "metadata": {},
   "outputs": [
    {
     "name": "stdout",
     "output_type": "stream",
     "text": [
      "(1, 2, 3)\n",
      "{'a': 1, 'b': 2}\n"
     ]
    }
   ],
   "source": [
    "# 가변적인 매개변수 => 튜플 형태로 반영\n",
    "def myfn8(*arg1) :\n",
    "    # for i in arg1 :\n",
    "        # print(i) \n",
    "    print(arg1)\n",
    "\n",
    "# keyword argument를 가변적으로 받음! => 딕셔너리 형태로 반영\n",
    "def myfn9(**kwarg) :\n",
    "    print(kwarg)\n",
    "\n",
    "# 혼합 형태\n",
    "# def function(*arg, **kwarg) :\n",
    "#     pass\n",
    "\n",
    "\n",
    "myfn8(1,2,3)\n",
    "# myfn8(1,2,3,4,5)\n",
    "myfn9(a=1,b=2)"
   ]
  },
  {
   "cell_type": "code",
   "execution_count": 59,
   "metadata": {},
   "outputs": [
    {
     "name": "stdout",
     "output_type": "stream",
     "text": [
      "abc\n",
      "None\n",
      "100\n",
      "(120, 1200)\n",
      "120 1200\n"
     ]
    }
   ],
   "source": [
    "# 함수 반환값\n",
    "def myfn10(arg1) :\n",
    "    print(arg1)\n",
    "\n",
    "def myfn11(n) :\n",
    "    return n*10\n",
    "\n",
    "def myfn12(n) :\n",
    "    return n*10, n*100\n",
    "\n",
    "return_value = myfn10('abc')\n",
    "print(return_value)\n",
    "\n",
    "return_value = myfn11(10)\n",
    "print(return_value)\n",
    "\n",
    "return_value = myfn12(12)\n",
    "print(return_value)\n",
    "\n",
    "i, j = myfn12(12)\n",
    "print(i, j)"
   ]
  },
  {
   "cell_type": "code",
   "execution_count": 78,
   "metadata": {},
   "outputs": [
    {
     "data": {
      "text/plain": [
       "[1, 2, 3, 5, 7, 11, 13, 17, 19, 23, 29]"
      ]
     },
     "execution_count": 78,
     "metadata": {},
     "output_type": "execute_result"
    }
   ],
   "source": [
    "# 범위 내 소수를 구하는 함수(define)\n",
    "\n",
    "def is_prime(n) :\n",
    "    prime_numbers = [1]\n",
    "    flag = 0\n",
    "\n",
    "    for i in range(2, n) :\n",
    "        flag = 0\n",
    "        for j in range(2, i) :\n",
    "            if i%j == 0 :\n",
    "                # print(i, 'Not Prime')\n",
    "                flag = 1\n",
    "                break\n",
    "        if flag == 0 :\n",
    "            #print(n, 'Prime')\n",
    "            prime_numbers.append(i)\n",
    "    # return list(prime_numbers)\n",
    "    return prime_numbers\n",
    "    \n",
    "is_prime(30)"
   ]
  },
  {
   "cell_type": "code",
   "execution_count": 85,
   "metadata": {},
   "outputs": [
    {
     "name": "stdout",
     "output_type": "stream",
     "text": [
      "[2, 3, 5, 7, 11, 13, 17, 19, 23, 29, 31, 37, 41, 43, 47, 53, 59, 61, 67, 71, 73, 79, 83, 89, 97]\n"
     ]
    }
   ],
   "source": [
    "# 소수 구하는 함수\n",
    "\n",
    "def is_prime(n) :\n",
    "    for i in range(2, n) :\n",
    "        if n%i == 0 :\n",
    "            return False\n",
    "    return True\n",
    "\n",
    "primes=[]\n",
    "\n",
    "for n in range(2, 100) :\n",
    "    if is_prime(n) == True :\n",
    "        primes.append(n)\n",
    "\n",
    "print(primes)"
   ]
  }
 ],
 "metadata": {
  "kernelspec": {
   "display_name": "Python 3",
   "language": "python",
   "name": "python3"
  },
  "language_info": {
   "codemirror_mode": {
    "name": "ipython",
    "version": 3
   },
   "file_extension": ".py",
   "mimetype": "text/x-python",
   "name": "python",
   "nbconvert_exporter": "python",
   "pygments_lexer": "ipython3",
   "version": "3.10.9 (tags/v3.10.9:1dd9be6, Dec  6 2022, 20:01:21) [MSC v.1934 64 bit (AMD64)]"
  },
  "orig_nbformat": 4,
  "vscode": {
   "interpreter": {
    "hash": "08804ff59ba42edf801cabf0150036e830ede650fb4c74b1d2ab081b0e1a309a"
   }
  }
 },
 "nbformat": 4,
 "nbformat_minor": 2
}
