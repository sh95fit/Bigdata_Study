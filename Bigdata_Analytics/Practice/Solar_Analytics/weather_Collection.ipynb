{
 "cells": [
  {
   "cell_type": "code",
   "execution_count": 18,
   "metadata": {},
   "outputs": [],
   "source": [
    "import dotenv\n",
    "import os\n",
    "\n",
    "import requests\n",
    "import json\n",
    "\n",
    "from datetime import datetime"
   ]
  },
  {
   "cell_type": "code",
   "execution_count": 23,
   "metadata": {},
   "outputs": [
    {
     "name": "stdout",
     "output_type": "stream",
     "text": [
      "PTY\n",
      "REH\n",
      "RN1\n",
      "T1H\n",
      "UUU\n",
      "VEC\n",
      "VVV\n",
      "WSD\n"
     ]
    }
   ],
   "source": [
    "dotenv_file = dotenv.find_dotenv()\n",
    "dotenv.load_dotenv(dotenv_file)\n",
    "\n",
    "url = 'http://apis.data.go.kr/1360000/VilageFcstInfoService_2.0/getUltraSrtNcst'\n",
    "\n",
    "now = datetime.now()\n",
    "today = datetime.today().strftime('%Y%m%d')\n",
    "nx = 60\n",
    "ny = 127\n",
    "\n",
    "params ={'serviceKey' : os.environ[\"decode_key\"], 'pageNo' : '1', 'numOfRows' : '1000', 'dataType' : 'JSON', 'base_date' : today, 'base_time' : '0600', 'nx' : nx, 'ny' : ny }\n",
    "\n",
    "res = requests.get(url, params=params)\n",
    "result = json.loads(res.content)\n",
    "items = result['response']['body']['items']['item']\n",
    "# print(items)\n",
    "\n",
    "for i in items :\n",
    "  print(i['category'])"
   ]
  }
 ],
 "metadata": {
  "kernelspec": {
   "display_name": "Python 3",
   "language": "python",
   "name": "python3"
  },
  "language_info": {
   "codemirror_mode": {
    "name": "ipython",
    "version": 3
   },
   "file_extension": ".py",
   "mimetype": "text/x-python",
   "name": "python",
   "nbconvert_exporter": "python",
   "pygments_lexer": "ipython3",
   "version": "3.11.1"
  },
  "orig_nbformat": 4
 },
 "nbformat": 4,
 "nbformat_minor": 2
}
