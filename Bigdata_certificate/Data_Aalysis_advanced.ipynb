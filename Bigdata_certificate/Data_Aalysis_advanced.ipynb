{
 "cells": [
  {
   "cell_type": "markdown",
   "metadata": {},
   "source": [
    "#### Advanced 버전"
   ]
  },
  {
   "cell_type": "code",
   "execution_count": null,
   "metadata": {},
   "outputs": [],
   "source": [
    "# 라이브러리 및 데이터 확인\n",
    "\n",
    "import pandas as pd\n",
    "import numpy as np\n",
    "\n",
    "from sklearn.model_selection import train_test_split\n",
    "\n",
    "from sklearn.preprocessing import MinMaxScaler, StandardScaler\n",
    "\n",
    "from sklearn.ensemble import RandomForestClassifier, RandomForestRegressor\n",
    "\n",
    "# 분류 성능\n",
    "from sklearn.metrics import accuracy_score, f1_score, recall_score, precision_score, roc_auc_score\n",
    "\n",
    "# 회귀 성능\n",
    "from sklearn.metrics import r2_score, mean_squared_error\n",
    "\n",
    "# 출력 범위 조정\n",
    "pd.options.display.max_columns = 999"
   ]
  },
  {
   "cell_type": "code",
   "execution_count": null,
   "metadata": {},
   "outputs": [],
   "source": [
    "# GridSearch CV를 활용한 하이퍼파라미터 최적화\n",
    "# - GridSearch : 격자 탐색\n",
    "# - CV = CrossValidation, 교차 검증\n",
    "\n",
    "from sklearn.model_selection import GridSearchCV\n",
    "from sklearn.ensemble import RandomForestClassifier\n",
    "\n",
    "rf_params = {'n_estimators' : [30, 70, 100],\n",
    "             'max_depth' : [6, 8, 10],\n",
    "             'min_samples_leaf' : [1, 2, 3]}\n",
    "\n",
    "# n_estimators : tree의 개수\n",
    "# max_depth : tree의 최대 깊이\n",
    "# min_samples_leaf : leaf node(더이상 본할되지 않는 마지막 노드)가 되기 위해 필요한 최소 샘플 수\n",
    "# (이 값보다 작은 수의 샘플이 해당 노드에 있을 경우, 더이상 분할하지 않음!)\n",
    "\n",
    "# RandomForestClassifier 객체 생성 후 GridSearchCV 수행\n",
    "rf = RandomForestClassifier(random_state=2023)\n",
    "grid_rf = GridSearchCV(rf, param_grid=rf_params, cv=10)\n",
    "grid_rf.fit(x_train_ad, y_train_ad['target'])\n",
    "\n",
    "# y값 입력 시 주의(1차원 형태로 들어가야 한다!)\n",
    "\n",
    "print('최적 하이퍼파라미터 :', grid_rf.best_params_)\n",
    "print('Best 예측정확도 : ', grid_rf.best_score_)"
   ]
  },
  {
   "cell_type": "code",
   "execution_count": null,
   "metadata": {},
   "outputs": [],
   "source": [
    "# (참고) help 함수를 통한 함수 사용법 확인\n",
    "\n",
    "# from sklearn.model_selection import GridSearchCV\n",
    "# help(GridSearchCV)\n",
    "\n",
    "# from sklearn.ensemble import RandomForestClassifier\n",
    "# help(RandomForestClassifier)"
   ]
  },
  {
   "cell_type": "code",
   "execution_count": null,
   "metadata": {},
   "outputs": [],
   "source": [
    "# 위 최적 하이퍼파라미터로 랜덤포레스트 모델 생성\n",
    "from sklearn.ensemble import RandomForestClassifier\n",
    "\n",
    "model_h = RandomForestClassifier(n_estimators=70,\n",
    "                                 max_depth=10,\n",
    "                                 min_samples_leaf=3,\n",
    "                                 random_state=2023)\n",
    "\n",
    "model_h.fit(x_train_ad, y_train_ad['target']) # y 데이터 입력 시 주의"
   ]
  },
  {
   "cell_type": "code",
   "execution_count": null,
   "metadata": {},
   "outputs": [],
   "source": [
    "# 모델 성능 평가 (정확도, F1 score, AUC)\n",
    "from sklearn.metrics import accuracy_score, f1_score, roc_auc_score\n",
    "\n",
    "# test 데이터셋으로 성능평가\n",
    "y_pred_h = model_h.predict(x_test)\n",
    "\n",
    "acc_h = accuracy_score(y_test, y_pred_h)\n",
    "f1_h = f1_score(y_test, y_pred_h)\n",
    "auc_h = roc_auc_score(y_test, y_pred_h)"
   ]
  }
 ],
 "metadata": {
  "kernelspec": {
   "display_name": "Python 3",
   "language": "python",
   "name": "python3"
  },
  "language_info": {
   "codemirror_mode": {
    "name": "ipython",
    "version": 3
   },
   "file_extension": ".py",
   "mimetype": "text/x-python",
   "name": "python",
   "nbconvert_exporter": "python",
   "pygments_lexer": "ipython3",
   "version": "3.11.1"
  }
 },
 "nbformat": 4,
 "nbformat_minor": 2
}
