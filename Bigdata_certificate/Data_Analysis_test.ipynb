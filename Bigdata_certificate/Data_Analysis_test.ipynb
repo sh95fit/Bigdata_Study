{
 "cells": [
  {
   "cell_type": "code",
   "execution_count": 154,
   "metadata": {},
   "outputs": [],
   "source": [
    "import pandas as pd\n",
    "import numpy as np\n",
    "\n",
    "# 표준화/정규화\n",
    "from sklearn.preprocessing import MinMaxScaler, StandardScaler\n",
    "\n",
    "# 데이터 분리\n",
    "from sklearn.model_selection import train_test_split\n",
    "\n",
    "# 모델 가져오기\n",
    "from sklearn.ensemble import RandomForestClassifier, RandomForestRegressor\n",
    "\n",
    "# 모델 성능 평가 (roc_auc_score는 이진분류일 때만 사용 가능!)\n",
    "from sklearn.metrics import accuracy_score, f1_score, recall_score, precision_score, roc_auc_score"
   ]
  },
  {
   "cell_type": "markdown",
   "metadata": {},
   "source": [
    "## 제 2유형 연습하기\n",
    "### 와인 종류 분류\n",
    "\n",
    "#### 데이터 분석 순서\n",
    "1. 라이브러리 및 데이터 확인\n",
    "2. 데이터 탐색(EDA)\n",
    "3. 데이터 전처리 및 분리\n",
    "4. 모델링 및 성능 평가\n",
    "5. 예측값 제출"
   ]
  },
  {
   "cell_type": "code",
   "execution_count": 155,
   "metadata": {},
   "outputs": [],
   "source": [
    "from sklearn.datasets import load_wine\n",
    "wine = load_wine()\n",
    "x = pd.DataFrame(wine.data, columns=wine.feature_names)\n",
    "y = pd.DataFrame(wine.target)\n",
    "\n",
    "x_train, x_test, y_train, y_test = train_test_split(x, y, test_size=0.2, stratify=y, random_state=2023)\n",
    "\n",
    "x_train = pd.DataFrame(x_train)\n",
    "x_test = pd.DataFrame(x_test)\n",
    "y_train = pd.DataFrame(y_train)\n",
    "\n",
    "x_test.reset_index()\n",
    "y_train.columns = ['target']\n",
    "\n",
    "\n",
    "### 참고사항 ###\n",
    "# y_test는 실기 문제상에 주어지지 않음!!!\n",
    "\n",
    "# Tip : X를 대문자로 쓰지말고 소문자로 쓸 것! (시험에서 실수가 빈번하게 발생)\n",
    "# (참고 : 보통 X는 2차원 배열(행렬)이기 때문에 대문자로 쓰고, y는 1차원 배열(벡터)이기 때문에 소문자로 쓴다)\n",
    "\n",
    "# (참고) 실기시험 데이터 형식 (실제 시험장에서 다를 수 있으니 반드시 체크)\n",
    "# X_test = pd.read_csv(\"data/X_test.csv\")\n",
    "# X_test = pd.read_csv(\"data/X_train.csv\")\n",
    "# y_train = pd.read_csv(\"data/y_train.csv\")"
   ]
  },
  {
   "cell_type": "markdown",
   "metadata": {},
   "source": [
    "#### 데이터의 결측치, 이상치에 대해 처리하고 분류 모델을 사용하여 정확도, F1 score, AUC 값을 산출\n",
    "\n",
    "#### 제출은 result 변수에 담아 양식에 맞게 제출하시오."
   ]
  },
  {
   "cell_type": "code",
   "execution_count": 156,
   "metadata": {},
   "outputs": [
    {
     "name": "stdout",
     "output_type": "stream",
     "text": [
      ".. _wine_dataset:\n",
      "\n",
      "Wine recognition dataset\n",
      "------------------------\n",
      "\n",
      "**Data Set Characteristics:**\n",
      "\n",
      "    :Number of Instances: 178\n",
      "    :Number of Attributes: 13 numeric, predictive attributes and the class\n",
      "    :Attribute Information:\n",
      " \t\t- Alcohol\n",
      " \t\t- Malic acid\n",
      " \t\t- Ash\n",
      "\t\t- Alcalinity of ash  \n",
      " \t\t- Magnesium\n",
      "\t\t- Total phenols\n",
      " \t\t- Flavanoids\n",
      " \t\t- Nonflavanoid phenols\n",
      " \t\t- Proanthocyanins\n",
      "\t\t- Color intensity\n",
      " \t\t- Hue\n",
      " \t\t- OD280/OD315 of diluted wines\n",
      " \t\t- Proline\n",
      "\n",
      "    - class:\n",
      "            - class_0\n",
      "            - class_1\n",
      "            - class_2\n",
      "\t\t\n",
      "    :Summary Statistics:\n",
      "    \n",
      "    ============================= ==== ===== ======= =====\n",
      "                                   Min   Max   Mean     SD\n",
      "    ============================= ==== ===== ======= =====\n",
      "    Alcohol:                      11.0  14.8    13.0   0.8\n",
      "    Malic Acid:                   0.74  5.80    2.34  1.12\n",
      "    Ash:                          1.36  3.23    2.36  0.27\n",
      "    Alcalinity of Ash:            10.6  30.0    19.5   3.3\n",
      "    Magnesium:                    70.0 162.0    99.7  14.3\n",
      "    Total Phenols:                0.98  3.88    2.29  0.63\n",
      "    Flavanoids:                   0.34  5.08    2.03  1.00\n",
      "    Nonflavanoid Phenols:         0.13  0.66    0.36  0.12\n",
      "    Proanthocyanins:              0.41  3.58    1.59  0.57\n",
      "    Colour Intensity:              1.3  13.0     5.1   2.3\n",
      "    Hue:                          0.48  1.71    0.96  0.23\n",
      "    OD280/OD315 of diluted wines: 1.27  4.00    2.61  0.71\n",
      "    Proline:                       278  1680     746   315\n",
      "    ============================= ==== ===== ======= =====\n",
      "\n",
      "    :Missing Attribute Values: None\n",
      "    :Class Distribution: class_0 (59), class_1 (71), class_2 (48)\n",
      "    :Creator: R.A. Fisher\n",
      "    :Donor: Michael Marshall (MARSHALL%PLU@io.arc.nasa.gov)\n",
      "    :Date: July, 1988\n",
      "\n",
      "This is a copy of UCI ML Wine recognition datasets.\n",
      "https://archive.ics.uci.edu/ml/machine-learning-databases/wine/wine.data\n",
      "\n",
      "The data is the results of a chemical analysis of wines grown in the same\n",
      "region in Italy by three different cultivators. There are thirteen different\n",
      "measurements taken for different constituents found in the three types of\n",
      "wine.\n",
      "\n",
      "Original Owners: \n",
      "\n",
      "Forina, M. et al, PARVUS - \n",
      "An Extendible Package for Data Exploration, Classification and Correlation. \n",
      "Institute of Pharmaceutical and Food Analysis and Technologies,\n",
      "Via Brigata Salerno, 16147 Genoa, Italy.\n",
      "\n",
      "Citation:\n",
      "\n",
      "Lichman, M. (2013). UCI Machine Learning Repository\n",
      "[https://archive.ics.uci.edu/ml]. Irvine, CA: University of California,\n",
      "School of Information and Computer Science. \n",
      "\n",
      ".. topic:: References\n",
      "\n",
      "  (1) S. Aeberhard, D. Coomans and O. de Vel, \n",
      "  Comparison of Classifiers in High Dimensional Settings, \n",
      "  Tech. Rep. no. 92-02, (1992), Dept. of Computer Science and Dept. of  \n",
      "  Mathematics and Statistics, James Cook University of North Queensland. \n",
      "  (Also submitted to Technometrics). \n",
      "\n",
      "  The data was used with many others for comparing various \n",
      "  classifiers. The classes are separable, though only RDA \n",
      "  has achieved 100% correct classification. \n",
      "  (RDA : 100%, QDA 99.4%, LDA 98.9%, 1NN 96.1% (z-transformed data)) \n",
      "  (All results using the leave-one-out technique) \n",
      "\n",
      "  (2) S. Aeberhard, D. Coomans and O. de Vel, \n",
      "  \"THE CLASSIFICATION PERFORMANCE OF RDA\" \n",
      "  Tech. Rep. no. 92-01, (1992), Dept. of Computer Science and Dept. of \n",
      "  Mathematics and Statistics, James Cook University of North Queensland. \n",
      "  (Also submitted to Journal of Chemometrics).\n",
      "\n"
     ]
    }
   ],
   "source": [
    "# 데이터 설명\n",
    "\n",
    "print(wine.DESCR)"
   ]
  },
  {
   "cell_type": "markdown",
   "metadata": {},
   "source": [
    "#### 01. 데이터 탐색(EDA)"
   ]
  },
  {
   "cell_type": "code",
   "execution_count": 157,
   "metadata": {},
   "outputs": [
    {
     "name": "stdout",
     "output_type": "stream",
     "text": [
      "(142, 13)\n",
      "(36, 13)\n",
      "(142, 1)\n"
     ]
    }
   ],
   "source": [
    "# 데이터 행, 열 확인\n",
    "\n",
    "print(x_train.shape)\n",
    "print(x_test.shape)\n",
    "print(y_train.shape)"
   ]
  },
  {
   "cell_type": "code",
   "execution_count": 158,
   "metadata": {},
   "outputs": [
    {
     "name": "stdout",
     "output_type": "stream",
     "text": [
      "     alcohol  malic_acid   ash  alcalinity_of_ash  magnesium  total_phenols  \\\n",
      "52     13.82        1.75  2.42               14.0      111.0           3.88   \n",
      "146    13.88        5.04  2.23               20.0       80.0           0.98   \n",
      "44     13.05        1.77  2.10               17.0      107.0           3.00   \n",
      "\n",
      "     flavanoids  nonflavanoid_phenols  proanthocyanins  color_intensity   hue  \\\n",
      "52         3.74                  0.32             1.87             7.05  1.01   \n",
      "146        0.34                  0.40             0.68             4.90  0.58   \n",
      "44         3.00                  0.28             2.03             5.04  0.88   \n",
      "\n",
      "     od280/od315_of_diluted_wines  proline  \n",
      "52                           3.26   1190.0  \n",
      "146                          1.33    415.0  \n",
      "44                           3.35    885.0  \n",
      "     alcohol  malic_acid   ash  alcalinity_of_ash  magnesium  total_phenols  \\\n",
      "168    13.58        2.58  2.69               24.5      105.0           1.55   \n",
      "144    12.25        3.88  2.20               18.5      112.0           1.38   \n",
      "151    12.79        2.67  2.48               22.0      112.0           1.48   \n",
      "\n",
      "     flavanoids  nonflavanoid_phenols  proanthocyanins  color_intensity   hue  \\\n",
      "168        0.84                  0.39             1.54             8.66  0.74   \n",
      "144        0.78                  0.29             1.14             8.21  0.65   \n",
      "151        1.36                  0.24             1.26            10.80  0.48   \n",
      "\n",
      "     od280/od315_of_diluted_wines  proline  \n",
      "168                          1.80    750.0  \n",
      "144                          2.00    855.0  \n",
      "151                          1.47    480.0  \n",
      "     target\n",
      "52        0\n",
      "146       2\n",
      "44        0\n"
     ]
    }
   ],
   "source": [
    "# 초기 데이터 확인\n",
    "\n",
    "print(x_train.head(3))\n",
    "print(x_test.head(3))\n",
    "print(y_train.head(3))"
   ]
  },
  {
   "cell_type": "code",
   "execution_count": 159,
   "metadata": {},
   "outputs": [
    {
     "name": "stdout",
     "output_type": "stream",
     "text": [
      "<class 'pandas.core.frame.DataFrame'>\n",
      "Int64Index: 142 entries, 52 to 115\n",
      "Data columns (total 13 columns):\n",
      " #   Column                        Non-Null Count  Dtype  \n",
      "---  ------                        --------------  -----  \n",
      " 0   alcohol                       142 non-null    float64\n",
      " 1   malic_acid                    142 non-null    float64\n",
      " 2   ash                           142 non-null    float64\n",
      " 3   alcalinity_of_ash             142 non-null    float64\n",
      " 4   magnesium                     142 non-null    float64\n",
      " 5   total_phenols                 142 non-null    float64\n",
      " 6   flavanoids                    142 non-null    float64\n",
      " 7   nonflavanoid_phenols          142 non-null    float64\n",
      " 8   proanthocyanins               142 non-null    float64\n",
      " 9   color_intensity               142 non-null    float64\n",
      " 10  hue                           142 non-null    float64\n",
      " 11  od280/od315_of_diluted_wines  142 non-null    float64\n",
      " 12  proline                       142 non-null    float64\n",
      "dtypes: float64(13)\n",
      "memory usage: 15.5 KB\n",
      "None\n",
      "<class 'pandas.core.frame.DataFrame'>\n",
      "Int64Index: 36 entries, 168 to 55\n",
      "Data columns (total 13 columns):\n",
      " #   Column                        Non-Null Count  Dtype  \n",
      "---  ------                        --------------  -----  \n",
      " 0   alcohol                       36 non-null     float64\n",
      " 1   malic_acid                    36 non-null     float64\n",
      " 2   ash                           36 non-null     float64\n",
      " 3   alcalinity_of_ash             36 non-null     float64\n",
      " 4   magnesium                     36 non-null     float64\n",
      " 5   total_phenols                 36 non-null     float64\n",
      " 6   flavanoids                    36 non-null     float64\n",
      " 7   nonflavanoid_phenols          36 non-null     float64\n",
      " 8   proanthocyanins               36 non-null     float64\n",
      " 9   color_intensity               36 non-null     float64\n",
      " 10  hue                           36 non-null     float64\n",
      " 11  od280/od315_of_diluted_wines  36 non-null     float64\n",
      " 12  proline                       36 non-null     float64\n",
      "dtypes: float64(13)\n",
      "memory usage: 3.9 KB\n",
      "None\n",
      "<class 'pandas.core.frame.DataFrame'>\n",
      "Int64Index: 142 entries, 52 to 115\n",
      "Data columns (total 1 columns):\n",
      " #   Column  Non-Null Count  Dtype\n",
      "---  ------  --------------  -----\n",
      " 0   target  142 non-null    int32\n",
      "dtypes: int32(1)\n",
      "memory usage: 1.7 KB\n",
      "None\n"
     ]
    }
   ],
   "source": [
    "# 변수명과 데이터 타입이 매칭이 되는지, 결측치가 있는지 확인\n",
    "\n",
    "print(x_train.info())\n",
    "print(x_test.info())\n",
    "print(y_train.info())"
   ]
  },
  {
   "cell_type": "code",
   "execution_count": 160,
   "metadata": {},
   "outputs": [
    {
     "name": "stdout",
     "output_type": "stream",
     "text": [
      "                              count        mean         std     min       25%  \\\n",
      "alcohol                       142.0   13.025915    0.812423   11.03   12.3700   \n",
      "malic_acid                    142.0    2.354296    1.142722    0.74    1.6100   \n",
      "ash                           142.0    2.340211    0.279910    1.36    2.1900   \n",
      "alcalinity_of_ash             142.0   19.354225    3.476825   10.60   16.8000   \n",
      "magnesium                     142.0   98.732394   13.581859   70.00   88.0000   \n",
      "total_phenols                 142.0    2.303592    0.633955    0.98    1.7575   \n",
      "flavanoids                    142.0    2.043592    1.033597    0.34    1.2275   \n",
      "nonflavanoid_phenols          142.0    0.361479    0.124627    0.14    0.2700   \n",
      "proanthocyanins               142.0    1.575070    0.576798    0.41    1.2425   \n",
      "color_intensity               142.0    5.005070    2.150186    1.28    3.3000   \n",
      "hue                           142.0    0.950394    0.220736    0.54    0.7825   \n",
      "od280/od315_of_diluted_wines  142.0    2.603592    0.709751    1.27    1.9225   \n",
      "proline                       142.0  742.112676  317.057395  290.00  496.2500   \n",
      "\n",
      "                                  50%       75%      max  \n",
      "alcohol                        13.050   13.6850    14.83  \n",
      "malic_acid                      1.820    3.1150     5.80  \n",
      "ash                             2.320    2.5100     3.23  \n",
      "alcalinity_of_ash              19.300   21.5000    30.00  \n",
      "magnesium                      97.000  106.7500   151.00  \n",
      "total_phenols                   2.335    2.8000     3.88  \n",
      "flavanoids                      2.100    2.9175     5.08  \n",
      "nonflavanoid_phenols            0.325    0.4375     0.63  \n",
      "proanthocyanins                 1.555    1.9500     3.58  \n",
      "color_intensity                 4.850    6.1225    13.00  \n",
      "hue                             0.960    1.0975     1.71  \n",
      "od280/od315_of_diluted_wines    2.780    3.1700     3.92  \n",
      "proline                       660.000  981.2500  1680.00  \n",
      "                              count        mean         std     min       25%  \\\n",
      "alcohol                        36.0   12.900833    0.813112   11.64   12.2300   \n",
      "malic_acid                     36.0    2.265556    1.021943    0.89    1.5925   \n",
      "ash                            36.0    2.470278    0.226066    2.00    2.3000   \n",
      "alcalinity_of_ash              36.0   20.050000    2.702750   14.60   18.0000   \n",
      "magnesium                      36.0  103.722222   16.371772   84.00   91.5000   \n",
      "total_phenols                  36.0    2.261667    0.600259    1.35    1.7150   \n",
      "flavanoids                     36.0    1.972778    0.858882    0.66    1.1750   \n",
      "nonflavanoid_phenols           36.0    0.363333    0.125516    0.13    0.2675   \n",
      "proanthocyanins                36.0    1.653333    0.558012    0.84    1.3200   \n",
      "color_intensity                36.0    5.267222    2.915076    2.08    2.8750   \n",
      "hue                            36.0    0.985278    0.258694    0.48    0.7875   \n",
      "od280/od315_of_diluted_wines   36.0    2.643611    0.720100    1.29    2.0375   \n",
      "proline                        36.0  765.750000  309.948510  278.00  542.5000   \n",
      "\n",
      "                                  50%       75%      max  \n",
      "alcohol                        12.835   13.6350    14.39  \n",
      "malic_acid                      1.885    2.7925     4.95  \n",
      "ash                             2.470    2.6050     3.22  \n",
      "alcalinity_of_ash              19.500   21.7000    26.50  \n",
      "magnesium                     101.000  112.0000   162.00  \n",
      "total_phenols                   2.420    2.6025     3.85  \n",
      "flavanoids                      2.175    2.6825     3.49  \n",
      "nonflavanoid_phenols            0.395    0.4350     0.66  \n",
      "proanthocyanins                 1.550    1.9725     3.28  \n",
      "color_intensity                 4.325    6.9000    11.75  \n",
      "hue                             0.985    1.1675     1.45  \n",
      "od280/od315_of_diluted_wines    2.790    3.1925     4.00  \n",
      "proline                       682.500  996.2500  1480.00  \n",
      "        count     mean       std  min  25%  50%  75%  max\n",
      "target  142.0  0.93662  0.773816  0.0  0.0  1.0  2.0  2.0\n"
     ]
    }
   ],
   "source": [
    "# x_train과 x_test 데이터의 기초통계량 비교\n",
    "\n",
    "print(x_train.describe().T)\n",
    "print(x_test.describe().T)\n",
    "print(y_train.describe().T)"
   ]
  },
  {
   "cell_type": "code",
   "execution_count": 161,
   "metadata": {},
   "outputs": [
    {
     "name": "stdout",
     "output_type": "stream",
     "text": [
      "     target\n",
      "52        0\n",
      "146       2\n",
      "44        0\n",
      "67        1\n",
      "43        0\n",
      "target\n",
      "1         57\n",
      "0         47\n",
      "2         38\n",
      "dtype: int64\n"
     ]
    }
   ],
   "source": [
    "# y 데이터 확인\n",
    "\n",
    "print(y_train.head())\n",
    "print(y_train.value_counts())"
   ]
  },
  {
   "cell_type": "markdown",
   "metadata": {},
   "source": [
    "#### 02. 데이터 전처리 및 분리\n",
    "\n",
    "##### 1) 결측치, 2) 이상치, 3) 변수 처리"
   ]
  },
  {
   "cell_type": "code",
   "execution_count": 162,
   "metadata": {},
   "outputs": [
    {
     "name": "stdout",
     "output_type": "stream",
     "text": [
      "alcohol                         0\n",
      "malic_acid                      0\n",
      "ash                             0\n",
      "alcalinity_of_ash               0\n",
      "magnesium                       0\n",
      "total_phenols                   0\n",
      "flavanoids                      0\n",
      "nonflavanoid_phenols            0\n",
      "proanthocyanins                 0\n",
      "color_intensity                 0\n",
      "hue                             0\n",
      "od280/od315_of_diluted_wines    0\n",
      "proline                         0\n",
      "dtype: int64\n",
      "alcohol                         0\n",
      "malic_acid                      0\n",
      "ash                             0\n",
      "alcalinity_of_ash               0\n",
      "magnesium                       0\n",
      "total_phenols                   0\n",
      "flavanoids                      0\n",
      "nonflavanoid_phenols            0\n",
      "proanthocyanins                 0\n",
      "color_intensity                 0\n",
      "hue                             0\n",
      "od280/od315_of_diluted_wines    0\n",
      "proline                         0\n",
      "dtype: int64\n",
      "target    0\n",
      "dtype: int64\n"
     ]
    }
   ],
   "source": [
    "# 결측치 확인\n",
    "\n",
    "print(x_train.isnull().sum())\n",
    "print(x_test.isnull().sum())\n",
    "print(y_train.isnull().sum())"
   ]
  },
  {
   "cell_type": "code",
   "execution_count": 163,
   "metadata": {},
   "outputs": [],
   "source": [
    "# 결측치 제거\n",
    "\n",
    "# 만약 결측치가 있는 경우 dropna() 사용\n",
    "# Default : 행을 기준으로 삭제!\n",
    "# df = df.dropna()\n",
    "# print(df)\n",
    "# print(df.dropna().shape)"
   ]
  },
  {
   "cell_type": "code",
   "execution_count": 164,
   "metadata": {},
   "outputs": [],
   "source": [
    "# 결측치 대체(평균값, 중앙값, 최빈값)\n",
    "\n",
    "# 연속형의 경우 이상값에 영향이 가장 적은 중앙값 활용\n",
    "# 범주형의 경우 최빈값을 활용\n",
    "# 평균(mean), 중앙값(median), 최빈값(mode)\n",
    "# ex> df['예시'].median()\n",
    "\n",
    "# df['예시'] = df['예시'].fillna(대체값)"
   ]
  },
  {
   "cell_type": "code",
   "execution_count": 165,
   "metadata": {},
   "outputs": [],
   "source": [
    "# 변수 처리\n",
    "\n",
    "# 불필요한 변수 제거\n",
    "# 방법1. df = df.drop(columns= ['변수1', '변수2'])\n",
    "# 방법2. df = df.drop(['변수1', '변수2'], axis=1)\n",
    "\n",
    "# 필요시 변수 추가 (파생변수 생성)\n",
    "# ex> df['파생변수'] = df['A']*df['B'] (파생변수 생성 형태)\n",
    "\n",
    "# 원핫인코딩 (가변수 처리)\n",
    "# x_train = pd.get_dummies(x_train)\n",
    "# x_test = pd.get_dummies(x_test)\n",
    "# y_train = pd.get_dummies(y_train)\n",
    "# print문으로 확인"
   ]
  },
  {
   "cell_type": "markdown",
   "metadata": {},
   "source": [
    "#### 03. 데이터 분리"
   ]
  },
  {
   "cell_type": "code",
   "execution_count": 166,
   "metadata": {},
   "outputs": [
    {
     "name": "stdout",
     "output_type": "stream",
     "text": [
      "(113, 13)\n",
      "(29, 13)\n",
      "(113,)\n",
      "(29,)\n"
     ]
    }
   ],
   "source": [
    "# 데이터 훈련 세트와 검증용 세트로 분할 (80% 훈련, 20% 검증)\n",
    "\n",
    "x_train, x_val, y_train, y_val = train_test_split(x_train, y_train['target'], test_size=0.2, stratify=y_train['target'], random_state=2023)\n",
    "\n",
    "print(x_train.shape)\n",
    "print(x_val.shape)\n",
    "print(y_train.shape)\n",
    "print(y_val.shape)"
   ]
  },
  {
   "cell_type": "markdown",
   "metadata": {},
   "source": [
    "#### 04. 모델링 및 성능평가"
   ]
  },
  {
   "cell_type": "code",
   "execution_count": 167,
   "metadata": {},
   "outputs": [
    {
     "data": {
      "text/html": [
       "<style>#sk-container-id-3 {color: black;background-color: white;}#sk-container-id-3 pre{padding: 0;}#sk-container-id-3 div.sk-toggleable {background-color: white;}#sk-container-id-3 label.sk-toggleable__label {cursor: pointer;display: block;width: 100%;margin-bottom: 0;padding: 0.3em;box-sizing: border-box;text-align: center;}#sk-container-id-3 label.sk-toggleable__label-arrow:before {content: \"▸\";float: left;margin-right: 0.25em;color: #696969;}#sk-container-id-3 label.sk-toggleable__label-arrow:hover:before {color: black;}#sk-container-id-3 div.sk-estimator:hover label.sk-toggleable__label-arrow:before {color: black;}#sk-container-id-3 div.sk-toggleable__content {max-height: 0;max-width: 0;overflow: hidden;text-align: left;background-color: #f0f8ff;}#sk-container-id-3 div.sk-toggleable__content pre {margin: 0.2em;color: black;border-radius: 0.25em;background-color: #f0f8ff;}#sk-container-id-3 input.sk-toggleable__control:checked~div.sk-toggleable__content {max-height: 200px;max-width: 100%;overflow: auto;}#sk-container-id-3 input.sk-toggleable__control:checked~label.sk-toggleable__label-arrow:before {content: \"▾\";}#sk-container-id-3 div.sk-estimator input.sk-toggleable__control:checked~label.sk-toggleable__label {background-color: #d4ebff;}#sk-container-id-3 div.sk-label input.sk-toggleable__control:checked~label.sk-toggleable__label {background-color: #d4ebff;}#sk-container-id-3 input.sk-hidden--visually {border: 0;clip: rect(1px 1px 1px 1px);clip: rect(1px, 1px, 1px, 1px);height: 1px;margin: -1px;overflow: hidden;padding: 0;position: absolute;width: 1px;}#sk-container-id-3 div.sk-estimator {font-family: monospace;background-color: #f0f8ff;border: 1px dotted black;border-radius: 0.25em;box-sizing: border-box;margin-bottom: 0.5em;}#sk-container-id-3 div.sk-estimator:hover {background-color: #d4ebff;}#sk-container-id-3 div.sk-parallel-item::after {content: \"\";width: 100%;border-bottom: 1px solid gray;flex-grow: 1;}#sk-container-id-3 div.sk-label:hover label.sk-toggleable__label {background-color: #d4ebff;}#sk-container-id-3 div.sk-serial::before {content: \"\";position: absolute;border-left: 1px solid gray;box-sizing: border-box;top: 0;bottom: 0;left: 50%;z-index: 0;}#sk-container-id-3 div.sk-serial {display: flex;flex-direction: column;align-items: center;background-color: white;padding-right: 0.2em;padding-left: 0.2em;position: relative;}#sk-container-id-3 div.sk-item {position: relative;z-index: 1;}#sk-container-id-3 div.sk-parallel {display: flex;align-items: stretch;justify-content: center;background-color: white;position: relative;}#sk-container-id-3 div.sk-item::before, #sk-container-id-3 div.sk-parallel-item::before {content: \"\";position: absolute;border-left: 1px solid gray;box-sizing: border-box;top: 0;bottom: 0;left: 50%;z-index: -1;}#sk-container-id-3 div.sk-parallel-item {display: flex;flex-direction: column;z-index: 1;position: relative;background-color: white;}#sk-container-id-3 div.sk-parallel-item:first-child::after {align-self: flex-end;width: 50%;}#sk-container-id-3 div.sk-parallel-item:last-child::after {align-self: flex-start;width: 50%;}#sk-container-id-3 div.sk-parallel-item:only-child::after {width: 0;}#sk-container-id-3 div.sk-dashed-wrapped {border: 1px dashed gray;margin: 0 0.4em 0.5em 0.4em;box-sizing: border-box;padding-bottom: 0.4em;background-color: white;}#sk-container-id-3 div.sk-label label {font-family: monospace;font-weight: bold;display: inline-block;line-height: 1.2em;}#sk-container-id-3 div.sk-label-container {text-align: center;}#sk-container-id-3 div.sk-container {/* jupyter's `normalize.less` sets `[hidden] { display: none; }` but bootstrap.min.css set `[hidden] { display: none !important; }` so we also need the `!important` here to be able to override the default hidden behavior on the sphinx rendered scikit-learn.org. See: https://github.com/scikit-learn/scikit-learn/issues/21755 */display: inline-block !important;position: relative;}#sk-container-id-3 div.sk-text-repr-fallback {display: none;}</style><div id=\"sk-container-id-3\" class=\"sk-top-container\"><div class=\"sk-text-repr-fallback\"><pre>RandomForestClassifier()</pre><b>In a Jupyter environment, please rerun this cell to show the HTML representation or trust the notebook. <br />On GitHub, the HTML representation is unable to render, please try loading this page with nbviewer.org.</b></div><div class=\"sk-container\" hidden><div class=\"sk-item\"><div class=\"sk-estimator sk-toggleable\"><input class=\"sk-toggleable__control sk-hidden--visually\" id=\"sk-estimator-id-3\" type=\"checkbox\" checked><label for=\"sk-estimator-id-3\" class=\"sk-toggleable__label sk-toggleable__label-arrow\">RandomForestClassifier</label><div class=\"sk-toggleable__content\"><pre>RandomForestClassifier()</pre></div></div></div></div></div>"
      ],
      "text/plain": [
       "RandomForestClassifier()"
      ]
     },
     "execution_count": 167,
     "metadata": {},
     "output_type": "execute_result"
    }
   ],
   "source": [
    "# 랜덤 포레스트 사용\n",
    "# 회귀 : RandomForestRegressor, 분류 : RandomForestClassifier\n",
    "\n",
    "model = RandomForestClassifier()\n",
    "\n",
    "model.fit(x_train, y_train)"
   ]
  },
  {
   "cell_type": "code",
   "execution_count": 168,
   "metadata": {},
   "outputs": [],
   "source": [
    "# 모델을 사용하여 테스트 데이터 예측\n",
    "\n",
    "y_pred = model.predict(x_val)"
   ]
  },
  {
   "cell_type": "code",
   "execution_count": 169,
   "metadata": {},
   "outputs": [
    {
     "name": "stdout",
     "output_type": "stream",
     "text": [
      "정확도 :  1.0\n",
      "macro f1 score :  1.0\n"
     ]
    }
   ],
   "source": [
    "# 모델 성능 평가 (정확도 : accuracy_score, 민감도(재현율) : recall_score, 특이도 : precision_score, ROC-AUC : roc_auc_score (이진 분류 때만 사용 가능!))\n",
    "\n",
    "acc = accuracy_score(y_val, y_pred)   # 순서 주의  (실제값, 예측값)\n",
    "f1 = f1_score(y_val, y_pred, average='macro')   # 순서 주의 (실제값, 예측값)\n",
    "\n",
    "print(\"정확도 : \", acc)\n",
    "print(\"macro f1 score : \", f1)"
   ]
  },
  {
   "cell_type": "markdown",
   "metadata": {},
   "source": [
    "#### 05. 예측값 제출\n",
    "\n",
    "##### 주의! test셋을 모델에 넣어 나온 예측값을 제출해야함!!"
   ]
  },
  {
   "cell_type": "code",
   "execution_count": 170,
   "metadata": {},
   "outputs": [
    {
     "name": "stdout",
     "output_type": "stream",
     "text": [
      "[2 2 2 0 1]\n",
      "[[0.02 0.   0.98]\n",
      " [0.07 0.09 0.84]\n",
      " [0.   0.11 0.89]\n",
      " [0.98 0.01 0.01]\n",
      " [0.03 0.91 0.06]]\n"
     ]
    }
   ],
   "source": [
    "# 아래 코드 예측변수와 수험번호를 개인별로 변경하여 활용\n",
    "# pd.DataFrame({\"result\": y_result}).to_csv('수험번호.csv', index=False)\n",
    "\n",
    "# 모델을 사용하여 테스트 데이터 예측\n",
    "\n",
    "# 1. 특정 클래스로 분류할 경우 (predict)\n",
    "y_result = model.predict(x_test)\n",
    "print(y_result[:5])\n",
    "\n",
    "# 2. 특정 클래스로 분류될 확률을 구할 경우 (predict_proba)\n",
    "y_result_proba = model.predict_proba(x_test)\n",
    "print(y_result_proba[:5])"
   ]
  },
  {
   "cell_type": "code",
   "execution_count": 171,
   "metadata": {},
   "outputs": [
    {
     "data": {
      "text/html": [
       "<div>\n",
       "<style scoped>\n",
       "    .dataframe tbody tr th:only-of-type {\n",
       "        vertical-align: middle;\n",
       "    }\n",
       "\n",
       "    .dataframe tbody tr th {\n",
       "        vertical-align: top;\n",
       "    }\n",
       "\n",
       "    .dataframe thead th {\n",
       "        text-align: right;\n",
       "    }\n",
       "</style>\n",
       "<table border=\"1\" class=\"dataframe\">\n",
       "  <thead>\n",
       "    <tr style=\"text-align: right;\">\n",
       "      <th></th>\n",
       "      <th>result</th>\n",
       "      <th>prob_0</th>\n",
       "      <th>prob_1</th>\n",
       "      <th>prob_2</th>\n",
       "    </tr>\n",
       "  </thead>\n",
       "  <tbody>\n",
       "    <tr>\n",
       "      <th>0</th>\n",
       "      <td>2</td>\n",
       "      <td>0.02</td>\n",
       "      <td>0.00</td>\n",
       "      <td>0.98</td>\n",
       "    </tr>\n",
       "    <tr>\n",
       "      <th>1</th>\n",
       "      <td>2</td>\n",
       "      <td>0.07</td>\n",
       "      <td>0.09</td>\n",
       "      <td>0.84</td>\n",
       "    </tr>\n",
       "    <tr>\n",
       "      <th>2</th>\n",
       "      <td>2</td>\n",
       "      <td>0.00</td>\n",
       "      <td>0.11</td>\n",
       "      <td>0.89</td>\n",
       "    </tr>\n",
       "    <tr>\n",
       "      <th>3</th>\n",
       "      <td>0</td>\n",
       "      <td>0.98</td>\n",
       "      <td>0.01</td>\n",
       "      <td>0.01</td>\n",
       "    </tr>\n",
       "    <tr>\n",
       "      <th>4</th>\n",
       "      <td>1</td>\n",
       "      <td>0.03</td>\n",
       "      <td>0.91</td>\n",
       "      <td>0.06</td>\n",
       "    </tr>\n",
       "  </tbody>\n",
       "</table>\n",
       "</div>"
      ],
      "text/plain": [
       "   result  prob_0  prob_1  prob_2\n",
       "0       2    0.02    0.00    0.98\n",
       "1       2    0.07    0.09    0.84\n",
       "2       2    0.00    0.11    0.89\n",
       "3       0    0.98    0.01    0.01\n",
       "4       1    0.03    0.91    0.06"
      ]
     },
     "execution_count": 171,
     "metadata": {},
     "output_type": "execute_result"
    }
   ],
   "source": [
    "result_prob = pd.DataFrame({\n",
    "  'result' : y_result,\n",
    "  'prob_0' : y_result_proba[:,0],\n",
    "  'prob_1' : y_result_proba[:,1],\n",
    "  'prob_2' : y_result_proba[:,2]\n",
    "})\n",
    "\n",
    "# class가 0일 확률 : prob_0\n",
    "# class가 1일 확률 : prob_1\n",
    "# class가 2일 확률 : prob_2\n",
    "\n",
    "result_prob.head()"
   ]
  },
  {
   "cell_type": "code",
   "execution_count": 173,
   "metadata": {},
   "outputs": [
    {
     "name": "stdout",
     "output_type": "stream",
     "text": [
      "   result\n",
      "0       2\n",
      "1       2\n",
      "2       2\n",
      "3       0\n",
      "4       1\n"
     ]
    }
   ],
   "source": [
    "# 데이터 저장\n",
    "# pd.DataFrame({\"result\": y_result}).to_csv('수험번호1.csv', index=False)\n",
    "\n",
    "# tip! 데이터를 저장한 다음 불러와서 제대로 제출했는지 확인해보자\n",
    "df_check = pd.read_csv('수험번호.csv')\n",
    "print(df_check.head())"
   ]
  }
 ],
 "metadata": {
  "kernelspec": {
   "display_name": "Python 3",
   "language": "python",
   "name": "python3"
  },
  "language_info": {
   "codemirror_mode": {
    "name": "ipython",
    "version": 3
   },
   "file_extension": ".py",
   "mimetype": "text/x-python",
   "name": "python",
   "nbconvert_exporter": "python",
   "pygments_lexer": "ipython3",
   "version": "3.11.1"
  }
 },
 "nbformat": 4,
 "nbformat_minor": 2
}
