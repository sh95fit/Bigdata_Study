{
 "cells": [
  {
   "cell_type": "markdown",
   "metadata": {},
   "source": [
    "### 제2유형 연습하기. 당뇨 진척 정도 (회귀)"
   ]
  },
  {
   "cell_type": "code",
   "execution_count": 173,
   "metadata": {},
   "outputs": [],
   "source": [
    "import pandas as pd\n",
    "import numpy as np\n",
    "\n",
    "# 표준화, 정규화\n",
    "from sklearn.preprocessing import MinMaxScaler, StandardScaler\n",
    "\n",
    "# 변수 분리\n",
    "from sklearn.model_selection import train_test_split\n",
    "\n",
    "# 모델 선정 (RandomForest)\n",
    "from sklearn.ensemble import RandomForestRegressor\n",
    "\n",
    "# 모델 성능 평가 관련\n",
    "from sklearn.metrics import accuracy_score, f1_score, precision_score, recall_score, roc_auc_score, mean_squared_error, r2_score\n",
    "\n",
    "\n",
    "from sklearn.datasets import load_diabetes\n",
    "\n",
    "# diabetes 데이터셋 로드\n",
    "\n",
    "diabetes = load_diabetes()\n",
    "\n",
    "x = pd.DataFrame(diabetes.data, columns=diabetes.feature_names)\n",
    "y = pd.DataFrame(diabetes.target)\n",
    "\n",
    "# print(x.head())\n",
    "# print(y.head())\n",
    "\n",
    "# 실기 시험 데이터셋 셋팅\n",
    "\n",
    "x_train, x_test, y_train, y_test = train_test_split(x, y, test_size=0.2, random_state=2023)\n",
    "# y_test는 실제로 주어지지 않으므로 무시!\n",
    "\n",
    "x_train = pd.DataFrame(x_train.reset_index())\n",
    "x_test = pd.DataFrame(x_test.reset_index())\n",
    "y_train = pd.DataFrame(y_train.reset_index())\n",
    "\n",
    "x_train.rename(columns={'index':'cust_id'}, inplace=True)\n",
    "x_test.rename(columns={'index':'cust_id'}, inplace=True)\n",
    "y_train.columns = ({'cust_id', 'target'})\n",
    "\n",
    "# print(x_train.head())\n",
    "# print(x_test.head())\n",
    "# print(y_train.head())"
   ]
  },
  {
   "cell_type": "code",
   "execution_count": 174,
   "metadata": {},
   "outputs": [
    {
     "name": "stdout",
     "output_type": "stream",
     "text": [
      ".. _diabetes_dataset:\n",
      "\n",
      "Diabetes dataset\n",
      "----------------\n",
      "\n",
      "Ten baseline variables, age, sex, body mass index, average blood\n",
      "pressure, and six blood serum measurements were obtained for each of n =\n",
      "442 diabetes patients, as well as the response of interest, a\n",
      "quantitative measure of disease progression one year after baseline.\n",
      "\n",
      "**Data Set Characteristics:**\n",
      "\n",
      "  :Number of Instances: 442\n",
      "\n",
      "  :Number of Attributes: First 10 columns are numeric predictive values\n",
      "\n",
      "  :Target: Column 11 is a quantitative measure of disease progression one year after baseline\n",
      "\n",
      "  :Attribute Information:\n",
      "      - age     age in years\n",
      "      - sex\n",
      "      - bmi     body mass index\n",
      "      - bp      average blood pressure\n",
      "      - s1      tc, total serum cholesterol\n",
      "      - s2      ldl, low-density lipoproteins\n",
      "      - s3      hdl, high-density lipoproteins\n",
      "      - s4      tch, total cholesterol / HDL\n",
      "      - s5      ltg, possibly log of serum triglycerides level\n",
      "      - s6      glu, blood sugar level\n",
      "\n",
      "Note: Each of these 10 feature variables have been mean centered and scaled by the standard deviation times the square root of `n_samples` (i.e. the sum of squares of each column totals 1).\n",
      "\n",
      "Source URL:\n",
      "https://www4.stat.ncsu.edu/~boos/var.select/diabetes.html\n",
      "\n",
      "For more information see:\n",
      "Bradley Efron, Trevor Hastie, Iain Johnstone and Robert Tibshirani (2004) \"Least Angle Regression,\" Annals of Statistics (with discussion), 407-499.\n",
      "(https://web.stanford.edu/~hastie/Papers/LARS/LeastAngle_2002.pdf)\n",
      "\n"
     ]
    }
   ],
   "source": [
    "print(diabetes.DESCR)"
   ]
  },
  {
   "cell_type": "markdown",
   "metadata": {},
   "source": [
    "#### 01. 데이터 탐색(EDA)"
   ]
  },
  {
   "cell_type": "code",
   "execution_count": 175,
   "metadata": {},
   "outputs": [
    {
     "name": "stdout",
     "output_type": "stream",
     "text": [
      "         count        mean         std       min         25%         50%  \\\n",
      "cust_id  353.0  212.634561  126.668903  0.000000  105.000000  210.000000   \n",
      "age      353.0    0.000804    0.047617 -0.107226   -0.038207    0.005383   \n",
      "sex      353.0    0.000724    0.047673 -0.044642   -0.044642   -0.044642   \n",
      "bmi      353.0    0.000640    0.048141 -0.084886   -0.035307   -0.006206   \n",
      "bp       353.0   -0.000326    0.046585 -0.112399   -0.033213   -0.005670   \n",
      "s1       353.0    0.001179    0.047891 -0.126781   -0.033216   -0.002945   \n",
      "s2       353.0    0.001110    0.048248 -0.115613   -0.029184   -0.001314   \n",
      "s3       353.0   -0.000452    0.048600 -0.102307   -0.039719   -0.006584   \n",
      "s4       353.0    0.000901    0.048045 -0.076395   -0.039493   -0.002592   \n",
      "s5       353.0    0.001446    0.047160 -0.126097   -0.033246    0.000272   \n",
      "s6       353.0    0.000589    0.048122 -0.137767   -0.034215    0.003064   \n",
      "\n",
      "                75%         max  \n",
      "cust_id  322.000000  441.000000  \n",
      "age        0.038076    0.110727  \n",
      "sex        0.050680    0.050680  \n",
      "bmi        0.030440    0.170555  \n",
      "bp         0.032201    0.125158  \n",
      "s1         0.027326    0.153914  \n",
      "s2         0.031567    0.198788  \n",
      "s3         0.030232    0.181179  \n",
      "s4         0.034309    0.185234  \n",
      "s5         0.033654    0.133597  \n",
      "s6         0.032059    0.135612  \n",
      "         count        mean         std       min         25%         50%  \\\n",
      "cust_id   89.0  251.696629  127.901365  9.000000  148.000000  280.000000   \n",
      "age       89.0   -0.003188    0.047761 -0.099961   -0.034575   -0.001882   \n",
      "sex       89.0   -0.002871    0.047563 -0.044642   -0.044642   -0.044642   \n",
      "bmi       89.0   -0.002537    0.045665 -0.090275   -0.030996   -0.009439   \n",
      "bp        89.0    0.001292    0.051777 -0.108956   -0.036656   -0.005670   \n",
      "s1        89.0   -0.004676    0.046493 -0.091006   -0.037344   -0.009825   \n",
      "s2        89.0   -0.004401    0.045030 -0.089935   -0.030437   -0.014153   \n",
      "s3        89.0    0.001792    0.043723 -0.080217   -0.028674   -0.002903   \n",
      "s4        89.0   -0.003575    0.045980 -0.076395   -0.039493   -0.002592   \n",
      "s5        89.0   -0.005737    0.049252 -0.104366   -0.038460   -0.014960   \n",
      "s6        89.0   -0.002334    0.045757 -0.129483   -0.030072   -0.005220   \n",
      "\n",
      "                75%         max  \n",
      "cust_id  366.000000  436.000000  \n",
      "age        0.030811    0.096197  \n",
      "sex        0.050680    0.050680  \n",
      "bmi        0.034751    0.137143  \n",
      "bp         0.042529    0.132044  \n",
      "s1         0.031454    0.119515  \n",
      "s2         0.020607    0.130208  \n",
      "s3         0.022869    0.122273  \n",
      "s4         0.003312    0.141322  \n",
      "s5         0.024055    0.133597  \n",
      "s6         0.019633    0.135612  \n",
      "         count        mean         std   min    25%    50%    75%    max\n",
      "target   353.0  212.634561  126.668903   0.0  105.0  210.0  322.0  441.0\n",
      "cust_id  353.0  152.943343   75.324692  37.0   90.0  141.0  208.0  346.0\n"
     ]
    }
   ],
   "source": [
    "print(x_train.describe().T)\n",
    "print(x_test.describe().T)\n",
    "print(y_train.describe().T)"
   ]
  },
  {
   "cell_type": "code",
   "execution_count": 176,
   "metadata": {},
   "outputs": [
    {
     "name": "stdout",
     "output_type": "stream",
     "text": [
      "cust_id    0\n",
      "age        0\n",
      "sex        0\n",
      "bmi        0\n",
      "bp         0\n",
      "s1         0\n",
      "s2         0\n",
      "s3         0\n",
      "s4         0\n",
      "s5         0\n",
      "s6         0\n",
      "dtype: int64\n",
      "cust_id    0\n",
      "age        0\n",
      "sex        0\n",
      "bmi        0\n",
      "bp         0\n",
      "s1         0\n",
      "s2         0\n",
      "s3         0\n",
      "s4         0\n",
      "s5         0\n",
      "s6         0\n",
      "dtype: int64\n",
      "target     0\n",
      "cust_id    0\n",
      "dtype: int64\n"
     ]
    }
   ],
   "source": [
    "# 결측치 확인\n",
    "\n",
    "print(x_train.isnull().sum())\n",
    "print(x_test.isnull().sum())\n",
    "print(y_train.isnull().sum())"
   ]
  },
  {
   "cell_type": "code",
   "execution_count": 177,
   "metadata": {},
   "outputs": [
    {
     "name": "stdout",
     "output_type": "stream",
     "text": [
      "<class 'pandas.core.frame.DataFrame'>\n",
      "RangeIndex: 353 entries, 0 to 352\n",
      "Data columns (total 11 columns):\n",
      " #   Column   Non-Null Count  Dtype  \n",
      "---  ------   --------------  -----  \n",
      " 0   cust_id  353 non-null    int64  \n",
      " 1   age      353 non-null    float64\n",
      " 2   sex      353 non-null    float64\n",
      " 3   bmi      353 non-null    float64\n",
      " 4   bp       353 non-null    float64\n",
      " 5   s1       353 non-null    float64\n",
      " 6   s2       353 non-null    float64\n",
      " 7   s3       353 non-null    float64\n",
      " 8   s4       353 non-null    float64\n",
      " 9   s5       353 non-null    float64\n",
      " 10  s6       353 non-null    float64\n",
      "dtypes: float64(10), int64(1)\n",
      "memory usage: 30.5 KB\n",
      "None\n",
      "<class 'pandas.core.frame.DataFrame'>\n",
      "RangeIndex: 89 entries, 0 to 88\n",
      "Data columns (total 11 columns):\n",
      " #   Column   Non-Null Count  Dtype  \n",
      "---  ------   --------------  -----  \n",
      " 0   cust_id  89 non-null     int64  \n",
      " 1   age      89 non-null     float64\n",
      " 2   sex      89 non-null     float64\n",
      " 3   bmi      89 non-null     float64\n",
      " 4   bp       89 non-null     float64\n",
      " 5   s1       89 non-null     float64\n",
      " 6   s2       89 non-null     float64\n",
      " 7   s3       89 non-null     float64\n",
      " 8   s4       89 non-null     float64\n",
      " 9   s5       89 non-null     float64\n",
      " 10  s6       89 non-null     float64\n",
      "dtypes: float64(10), int64(1)\n",
      "memory usage: 7.8 KB\n",
      "None\n",
      "<class 'pandas.core.frame.DataFrame'>\n",
      "RangeIndex: 353 entries, 0 to 352\n",
      "Data columns (total 2 columns):\n",
      " #   Column   Non-Null Count  Dtype  \n",
      "---  ------   --------------  -----  \n",
      " 0   target   353 non-null    int64  \n",
      " 1   cust_id  353 non-null    float64\n",
      "dtypes: float64(1), int64(1)\n",
      "memory usage: 5.6 KB\n",
      "None\n"
     ]
    }
   ],
   "source": [
    "print(x_train.info())\n",
    "print(x_test.info())\n",
    "print(y_train.info())"
   ]
  },
  {
   "cell_type": "markdown",
   "metadata": {},
   "source": [
    "#### 당뇨병 환자의 질병 진행 정도 예측\n",
    "#### - 데이터의 결측치, 이상치, 변수들에 대해 전처리\n",
    "#### - 회귀모델을 사용하여 Rsq, MSE 값 산출\n",
    "#### - 제출은 cust_id, target 변수를 가진 DataFrame 형태로 제출"
   ]
  },
  {
   "cell_type": "code",
   "execution_count": 178,
   "metadata": {},
   "outputs": [],
   "source": [
    "# 변수 처리\n",
    "# cust_id는 모델에는 반영이 되면 안 되는 데이터!\n",
    "\n",
    "cust_id = x_test['cust_id'].copy()\n",
    "\n",
    "x_train = x_train.drop(columns=['cust_id'], axis=1)\n",
    "x_test = x_test.drop(columns=['cust_id'], axis=1)\n",
    "# y_train = y_train.drop(columns=['cust_id'], axis=1)"
   ]
  },
  {
   "cell_type": "code",
   "execution_count": 179,
   "metadata": {},
   "outputs": [
    {
     "data": {
      "text/html": [
       "<style>#sk-container-id-10 {color: black;background-color: white;}#sk-container-id-10 pre{padding: 0;}#sk-container-id-10 div.sk-toggleable {background-color: white;}#sk-container-id-10 label.sk-toggleable__label {cursor: pointer;display: block;width: 100%;margin-bottom: 0;padding: 0.3em;box-sizing: border-box;text-align: center;}#sk-container-id-10 label.sk-toggleable__label-arrow:before {content: \"▸\";float: left;margin-right: 0.25em;color: #696969;}#sk-container-id-10 label.sk-toggleable__label-arrow:hover:before {color: black;}#sk-container-id-10 div.sk-estimator:hover label.sk-toggleable__label-arrow:before {color: black;}#sk-container-id-10 div.sk-toggleable__content {max-height: 0;max-width: 0;overflow: hidden;text-align: left;background-color: #f0f8ff;}#sk-container-id-10 div.sk-toggleable__content pre {margin: 0.2em;color: black;border-radius: 0.25em;background-color: #f0f8ff;}#sk-container-id-10 input.sk-toggleable__control:checked~div.sk-toggleable__content {max-height: 200px;max-width: 100%;overflow: auto;}#sk-container-id-10 input.sk-toggleable__control:checked~label.sk-toggleable__label-arrow:before {content: \"▾\";}#sk-container-id-10 div.sk-estimator input.sk-toggleable__control:checked~label.sk-toggleable__label {background-color: #d4ebff;}#sk-container-id-10 div.sk-label input.sk-toggleable__control:checked~label.sk-toggleable__label {background-color: #d4ebff;}#sk-container-id-10 input.sk-hidden--visually {border: 0;clip: rect(1px 1px 1px 1px);clip: rect(1px, 1px, 1px, 1px);height: 1px;margin: -1px;overflow: hidden;padding: 0;position: absolute;width: 1px;}#sk-container-id-10 div.sk-estimator {font-family: monospace;background-color: #f0f8ff;border: 1px dotted black;border-radius: 0.25em;box-sizing: border-box;margin-bottom: 0.5em;}#sk-container-id-10 div.sk-estimator:hover {background-color: #d4ebff;}#sk-container-id-10 div.sk-parallel-item::after {content: \"\";width: 100%;border-bottom: 1px solid gray;flex-grow: 1;}#sk-container-id-10 div.sk-label:hover label.sk-toggleable__label {background-color: #d4ebff;}#sk-container-id-10 div.sk-serial::before {content: \"\";position: absolute;border-left: 1px solid gray;box-sizing: border-box;top: 0;bottom: 0;left: 50%;z-index: 0;}#sk-container-id-10 div.sk-serial {display: flex;flex-direction: column;align-items: center;background-color: white;padding-right: 0.2em;padding-left: 0.2em;position: relative;}#sk-container-id-10 div.sk-item {position: relative;z-index: 1;}#sk-container-id-10 div.sk-parallel {display: flex;align-items: stretch;justify-content: center;background-color: white;position: relative;}#sk-container-id-10 div.sk-item::before, #sk-container-id-10 div.sk-parallel-item::before {content: \"\";position: absolute;border-left: 1px solid gray;box-sizing: border-box;top: 0;bottom: 0;left: 50%;z-index: -1;}#sk-container-id-10 div.sk-parallel-item {display: flex;flex-direction: column;z-index: 1;position: relative;background-color: white;}#sk-container-id-10 div.sk-parallel-item:first-child::after {align-self: flex-end;width: 50%;}#sk-container-id-10 div.sk-parallel-item:last-child::after {align-self: flex-start;width: 50%;}#sk-container-id-10 div.sk-parallel-item:only-child::after {width: 0;}#sk-container-id-10 div.sk-dashed-wrapped {border: 1px dashed gray;margin: 0 0.4em 0.5em 0.4em;box-sizing: border-box;padding-bottom: 0.4em;background-color: white;}#sk-container-id-10 div.sk-label label {font-family: monospace;font-weight: bold;display: inline-block;line-height: 1.2em;}#sk-container-id-10 div.sk-label-container {text-align: center;}#sk-container-id-10 div.sk-container {/* jupyter's `normalize.less` sets `[hidden] { display: none; }` but bootstrap.min.css set `[hidden] { display: none !important; }` so we also need the `!important` here to be able to override the default hidden behavior on the sphinx rendered scikit-learn.org. See: https://github.com/scikit-learn/scikit-learn/issues/21755 */display: inline-block !important;position: relative;}#sk-container-id-10 div.sk-text-repr-fallback {display: none;}</style><div id=\"sk-container-id-10\" class=\"sk-top-container\"><div class=\"sk-text-repr-fallback\"><pre>RandomForestRegressor(random_state=2023)</pre><b>In a Jupyter environment, please rerun this cell to show the HTML representation or trust the notebook. <br />On GitHub, the HTML representation is unable to render, please try loading this page with nbviewer.org.</b></div><div class=\"sk-container\" hidden><div class=\"sk-item\"><div class=\"sk-estimator sk-toggleable\"><input class=\"sk-toggleable__control sk-hidden--visually\" id=\"sk-estimator-id-10\" type=\"checkbox\" checked><label for=\"sk-estimator-id-10\" class=\"sk-toggleable__label sk-toggleable__label-arrow\">RandomForestRegressor</label><div class=\"sk-toggleable__content\"><pre>RandomForestRegressor(random_state=2023)</pre></div></div></div></div></div>"
      ],
      "text/plain": [
       "RandomForestRegressor(random_state=2023)"
      ]
     },
     "execution_count": 179,
     "metadata": {},
     "output_type": "execute_result"
    }
   ],
   "source": [
    "# 모델 적용\n",
    "\n",
    "model = RandomForestRegressor(random_state=2023)\n",
    "\n",
    "model.fit(x_train, y_train['target'])"
   ]
  },
  {
   "cell_type": "code",
   "execution_count": 180,
   "metadata": {},
   "outputs": [
    {
     "name": "stdout",
     "output_type": "stream",
     "text": [
      "(282, 10)\n",
      "(89, 10)\n",
      "(282,)\n",
      "(89, 1)\n"
     ]
    }
   ],
   "source": [
    "# 훈련용 데이터, 검증용 데이터 분리\n",
    "\n",
    "x_train, x_val, y_train, y_val = train_test_split(x_train, y_train['target'], test_size=0.2, random_state=23)\n",
    "\n",
    "print(x_train.shape)\n",
    "print(x_test.shape)\n",
    "print(y_train.shape)\n",
    "print(y_test.shape)"
   ]
  },
  {
   "cell_type": "code",
   "execution_count": 181,
   "metadata": {},
   "outputs": [],
   "source": [
    "# 모델을 이용한 검증용 데이터 예측\n",
    "\n",
    "y_pred = model.predict(x_val)"
   ]
  },
  {
   "cell_type": "code",
   "execution_count": 182,
   "metadata": {},
   "outputs": [
    {
     "name": "stdout",
     "output_type": "stream",
     "text": [
      "MSE :  2031.0410535211272\n",
      "r2(rsq) :  0.841090674401238\n"
     ]
    }
   ],
   "source": [
    "mse = mean_squared_error(y_val, y_pred)\n",
    "r2 = r2_score(y_val, y_pred)\n",
    "\n",
    "print(\"MSE : \", mse)\n",
    "print(\"r2(rsq) : \", r2)"
   ]
  },
  {
   "cell_type": "code",
   "execution_count": null,
   "metadata": {},
   "outputs": [],
   "source": []
  }
 ],
 "metadata": {
  "kernelspec": {
   "display_name": "Python 3",
   "language": "python",
   "name": "python3"
  },
  "language_info": {
   "codemirror_mode": {
    "name": "ipython",
    "version": 3
   },
   "file_extension": ".py",
   "mimetype": "text/x-python",
   "name": "python",
   "nbconvert_exporter": "python",
   "pygments_lexer": "ipython3",
   "version": "3.11.1"
  }
 },
 "nbformat": 4,
 "nbformat_minor": 2
}
