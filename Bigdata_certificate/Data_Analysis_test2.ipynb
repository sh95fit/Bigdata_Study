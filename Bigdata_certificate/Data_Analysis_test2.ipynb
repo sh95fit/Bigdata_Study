{
 "cells": [
  {
   "cell_type": "markdown",
   "metadata": {},
   "source": [
    "### 제2유형 연습하기. 팁 예측하기 (회귀)"
   ]
  },
  {
   "cell_type": "code",
   "execution_count": 324,
   "metadata": {},
   "outputs": [],
   "source": [
    "import pandas as pd\n",
    "import numpy as np\n",
    "\n",
    "# 표준화, 정규화\n",
    "from sklearn.preprocessing import MinMaxScaler, StandardScaler\n",
    "\n",
    "# 데이터 분리\n",
    "from sklearn.model_selection import train_test_split\n",
    "\n",
    "# 지도 학습 모델 선정 (by 랜덤 포레스트)\n",
    "from sklearn.ensemble import RandomForestClassifier, RandomForestRegressor\n",
    "\n",
    "# 분류 관련 성능 평가\n",
    "from sklearn.metrics import accuracy_score, f1_score, precision_score, recall_score, roc_auc_score\n",
    "\n",
    "# 회귀 관련 성능 평가\n",
    "from sklearn.metrics import mean_squared_error, r2_score"
   ]
  },
  {
   "cell_type": "code",
   "execution_count": 325,
   "metadata": {},
   "outputs": [],
   "source": [
    "import seaborn as sns\n",
    "\n",
    "df = sns.load_dataset('tips')\n",
    "\n",
    "# df.head()\n",
    "\n",
    "x = df.drop(columns='tip')\n",
    "y = df['tip']\n",
    "\n",
    "# print(x.columns)\n",
    "\n",
    "x_train, x_test, y_train, y_test = train_test_split(x, y, test_size=0.2, random_state=2023)\n",
    "\n",
    "# print(x_train.shape)\n",
    "# print(x_test.shape)\n",
    "# print(y_train.shape)\n",
    "\n",
    "# x_train.dtypes\n",
    "# y_train.dtypes\n",
    "\n",
    "# print(x_train.head())\n",
    "\n",
    "x_train = pd.DataFrame(x_train.reset_index())\n",
    "x_test = pd.DataFrame(x_test.reset_index())\n",
    "y_train = pd.DataFrame(y_train.reset_index())\n",
    "\n",
    "x_train.rename(columns={'index':'cust_id'}, inplace=True)\n",
    "x_test.rename(columns={'index':'cust_id'}, inplace=True)\n",
    "y_train.columns = ['cust_id', 'tip']\n",
    "\n",
    "# print(x_test.head())\n",
    "cust_id = x_test['cust_id'].copy()\n",
    "\n",
    "# print(x_train.head())\n",
    "# print(y_train.head())"
   ]
  },
  {
   "cell_type": "markdown",
   "metadata": {},
   "source": [
    "### 레스토랑의 tip 예측 문제\n",
    "\n",
    "#### - 데이터의 결측치, 이상치, 변수에 대해 처리하고\n",
    "#### - 회귀모델을 사용하여 Rsq, MSE 값을 산출하시오.\n",
    "\n",
    "#### 데이터셋 설명\n",
    "* total_bill(총 청구액) : 손님의 식사 총 청구액\n",
    "* tip(팁) : 팁의 양\n",
    "* sex(성별) : 손님의 성별\n",
    "* smoker(흡연자) : 손님의 흡연 여부 (\"Yes\" 또는 \"No\")\n",
    "* day(요일) : 식사가 이루어진 요일\n",
    "* time(시간) : 점심 또는 저녁 중 언제 식사가 이루어졌는지\n",
    "* size(인원 수) : 식사에 참석한 인원수"
   ]
  },
  {
   "cell_type": "markdown",
   "metadata": {},
   "source": [
    "##### 데이터 탐색(EDA)"
   ]
  },
  {
   "cell_type": "code",
   "execution_count": 326,
   "metadata": {},
   "outputs": [
    {
     "name": "stdout",
     "output_type": "stream",
     "text": [
      "<class 'pandas.core.frame.DataFrame'>\n",
      "RangeIndex: 195 entries, 0 to 194\n",
      "Data columns (total 7 columns):\n",
      " #   Column      Non-Null Count  Dtype   \n",
      "---  ------      --------------  -----   \n",
      " 0   cust_id     195 non-null    int64   \n",
      " 1   total_bill  195 non-null    float64 \n",
      " 2   sex         195 non-null    category\n",
      " 3   smoker      195 non-null    category\n",
      " 4   day         195 non-null    category\n",
      " 5   time        195 non-null    category\n",
      " 6   size        195 non-null    int64   \n",
      "dtypes: category(4), float64(1), int64(2)\n",
      "memory usage: 6.0 KB\n",
      "None\n",
      "<class 'pandas.core.frame.DataFrame'>\n",
      "RangeIndex: 49 entries, 0 to 48\n",
      "Data columns (total 7 columns):\n",
      " #   Column      Non-Null Count  Dtype   \n",
      "---  ------      --------------  -----   \n",
      " 0   cust_id     49 non-null     int64   \n",
      " 1   total_bill  49 non-null     float64 \n",
      " 2   sex         49 non-null     category\n",
      " 3   smoker      49 non-null     category\n",
      " 4   day         49 non-null     category\n",
      " 5   time        49 non-null     category\n",
      " 6   size        49 non-null     int64   \n",
      "dtypes: category(4), float64(1), int64(2)\n",
      "memory usage: 2.0 KB\n",
      "None\n",
      "<class 'pandas.core.frame.DataFrame'>\n",
      "RangeIndex: 195 entries, 0 to 194\n",
      "Data columns (total 2 columns):\n",
      " #   Column   Non-Null Count  Dtype  \n",
      "---  ------   --------------  -----  \n",
      " 0   cust_id  195 non-null    int64  \n",
      " 1   tip      195 non-null    float64\n",
      "dtypes: float64(1), int64(1)\n",
      "memory usage: 3.2 KB\n",
      "None\n"
     ]
    }
   ],
   "source": [
    "#결측치 확인\n",
    "\n",
    "print(x_train.info())\n",
    "print(x_test.info())\n",
    "print(y_train.info())"
   ]
  },
  {
   "cell_type": "code",
   "execution_count": 327,
   "metadata": {},
   "outputs": [
    {
     "name": "stdout",
     "output_type": "stream",
     "text": [
      "cust_id       0\n",
      "total_bill    0\n",
      "sex           0\n",
      "smoker        0\n",
      "day           0\n",
      "time          0\n",
      "size          0\n",
      "dtype: int64\n",
      "cust_id       0\n",
      "total_bill    0\n",
      "sex           0\n",
      "smoker        0\n",
      "day           0\n",
      "time          0\n",
      "size          0\n",
      "dtype: int64\n",
      "cust_id    0\n",
      "tip        0\n",
      "dtype: int64\n"
     ]
    }
   ],
   "source": [
    "print(x_train.isnull().sum())\n",
    "print(x_test.isnull().sum())\n",
    "print(y_train.isnull().sum())"
   ]
  },
  {
   "cell_type": "code",
   "execution_count": 328,
   "metadata": {},
   "outputs": [
    {
     "name": "stdout",
     "output_type": "stream",
     "text": [
      "cust_id          int64\n",
      "total_bill     float64\n",
      "sex           category\n",
      "smoker        category\n",
      "day           category\n",
      "time          category\n",
      "size             int64\n",
      "dtype: object\n"
     ]
    }
   ],
   "source": [
    "# 데이터 형태 확인\n",
    "print(x_train.dtypes)"
   ]
  },
  {
   "cell_type": "code",
   "execution_count": 329,
   "metadata": {},
   "outputs": [
    {
     "name": "stdout",
     "output_type": "stream",
     "text": [
      "Male      125\n",
      "Female     70\n",
      "Name: sex, dtype: int64\n",
      "No     120\n",
      "Yes     75\n",
      "Name: smoker, dtype: int64\n",
      "Sat     71\n",
      "Sun     62\n",
      "Thur    47\n",
      "Fri     15\n",
      "Name: day, dtype: int64\n",
      "Dinner    142\n",
      "Lunch      53\n",
      "Name: time, dtype: int64\n"
     ]
    }
   ],
   "source": [
    "# 각 카테고리별 종류 확인 (x_train)\n",
    "\n",
    "print(x_train['sex'].value_counts())\n",
    "print(x_train['smoker'].value_counts())\n",
    "print(x_train['day'].value_counts())\n",
    "print(x_train['time'].value_counts())"
   ]
  },
  {
   "cell_type": "code",
   "execution_count": 330,
   "metadata": {},
   "outputs": [
    {
     "name": "stdout",
     "output_type": "stream",
     "text": [
      "Male      32\n",
      "Female    17\n",
      "Name: sex, dtype: int64\n",
      "No     31\n",
      "Yes    18\n",
      "Name: smoker, dtype: int64\n",
      "Sat     16\n",
      "Thur    15\n",
      "Sun     14\n",
      "Fri      4\n",
      "Name: day, dtype: int64\n",
      "Dinner    34\n",
      "Lunch     15\n",
      "Name: time, dtype: int64\n"
     ]
    }
   ],
   "source": [
    "# 각 카테고리별 종류 확인 (x_test)\n",
    "\n",
    "print(x_test['sex'].value_counts())\n",
    "print(x_test['smoker'].value_counts())\n",
    "print(x_test['day'].value_counts())\n",
    "print(x_test['time'].value_counts())"
   ]
  },
  {
   "cell_type": "code",
   "execution_count": 331,
   "metadata": {},
   "outputs": [
    {
     "name": "stdout",
     "output_type": "stream",
     "text": [
      "            count        mean        std   min    25%     50%      75%     max\n",
      "cust_id     195.0  122.056410  70.668034  0.00  59.50  121.00  182.500  243.00\n",
      "total_bill  195.0   20.054667   8.961645  3.07  13.42   17.92   24.395   50.81\n",
      "size        195.0    2.543590   0.942631  1.00   2.00    2.00    3.000    6.00\n",
      "            count        mean        std   min    25%     50%     75%    max\n",
      "cust_id      49.0  119.285714  70.918674  2.00  62.00  123.00  180.00  239.0\n",
      "total_bill   49.0   18.716531   8.669864  5.75  12.74   16.66   21.01   44.3\n",
      "size         49.0    2.673469   0.987162  2.00   2.00    2.00    3.00    6.0\n",
      "         count        mean        std  min   25%     50%     75%    max\n",
      "cust_id  195.0  122.056410  70.668034  0.0  59.5  121.00  182.50  243.0\n",
      "tip      195.0    3.021692   1.402690  1.0   2.0    2.92    3.53   10.0\n"
     ]
    }
   ],
   "source": [
    "# 연속값 - 이상치 확인\n",
    "# 범주형 데이터의 경우 include = 'category' | 'object'\n",
    "\n",
    "# print(x_train.describe(include='category').T)\n",
    "# print(x_test.describe(include='category').T)\n",
    "print(x_train.describe().T)\n",
    "print(x_test.describe().T)\n",
    "print(y_train.describe().T)"
   ]
  },
  {
   "cell_type": "code",
   "execution_count": 332,
   "metadata": {},
   "outputs": [
    {
     "name": "stdout",
     "output_type": "stream",
     "text": [
      "   cust_id   tip\n",
      "0      158  2.61\n",
      "1      186  3.50\n",
      "2       21  2.75\n",
      "3       74  2.20\n",
      "4       43  1.32\n"
     ]
    }
   ],
   "source": [
    "# y 데이터 분석\n",
    "\n",
    "print(y_train.head())"
   ]
  },
  {
   "cell_type": "markdown",
   "metadata": {},
   "source": [
    "#### 원핫 인코딩 및 모델링"
   ]
  },
  {
   "cell_type": "code",
   "execution_count": 333,
   "metadata": {},
   "outputs": [
    {
     "name": "stdout",
     "output_type": "stream",
     "text": [
      "(195, 12)\n",
      "(49, 12)\n"
     ]
    }
   ],
   "source": [
    "x_train = pd.get_dummies(x_train)\n",
    "x_test = pd.get_dummies(x_test)\n",
    "\n",
    "x_train.drop(columns={'cust_id'}, axis=1, inplace=True)\n",
    "x_test.drop(columns={'cust_id'}, axis=1, inplace=True)\n",
    "\n",
    "print(x_train.shape)\n",
    "print(x_test.shape)"
   ]
  },
  {
   "cell_type": "code",
   "execution_count": 334,
   "metadata": {},
   "outputs": [
    {
     "name": "stdout",
     "output_type": "stream",
     "text": [
      "   total_bill  size  sex_Male  sex_Female  smoker_Yes  smoker_No  day_Thur  \\\n",
      "0       13.39     2         0           1           0          1         0   \n",
      "1       20.90     3         0           1           1          0         0   \n",
      "2       20.29     2         0           1           0          1         0   \n",
      "\n",
      "   day_Fri  day_Sat  day_Sun  time_Lunch  time_Dinner  \n",
      "0        0        0        1           0            1  \n",
      "1        0        0        1           0            1  \n",
      "2        0        1        0           0            1  \n",
      "   total_bill  size  sex_Male  sex_Female  smoker_Yes  smoker_No  day_Thur  \\\n",
      "0       19.77     4         1           0           0          1         0   \n",
      "1       24.59     4         0           1           0          1         0   \n",
      "2        9.55     2         1           0           0          1         0   \n",
      "\n",
      "   day_Fri  day_Sat  day_Sun  time_Lunch  time_Dinner  \n",
      "0        0        0        1           0            1  \n",
      "1        0        0        1           0            1  \n",
      "2        0        1        0           0            1  \n"
     ]
    }
   ],
   "source": [
    "print(x_train.head(3))\n",
    "print(x_test.head(3))"
   ]
  },
  {
   "cell_type": "code",
   "execution_count": 335,
   "metadata": {},
   "outputs": [
    {
     "data": {
      "text/html": [
       "<style>#sk-container-id-15 {color: black;background-color: white;}#sk-container-id-15 pre{padding: 0;}#sk-container-id-15 div.sk-toggleable {background-color: white;}#sk-container-id-15 label.sk-toggleable__label {cursor: pointer;display: block;width: 100%;margin-bottom: 0;padding: 0.3em;box-sizing: border-box;text-align: center;}#sk-container-id-15 label.sk-toggleable__label-arrow:before {content: \"▸\";float: left;margin-right: 0.25em;color: #696969;}#sk-container-id-15 label.sk-toggleable__label-arrow:hover:before {color: black;}#sk-container-id-15 div.sk-estimator:hover label.sk-toggleable__label-arrow:before {color: black;}#sk-container-id-15 div.sk-toggleable__content {max-height: 0;max-width: 0;overflow: hidden;text-align: left;background-color: #f0f8ff;}#sk-container-id-15 div.sk-toggleable__content pre {margin: 0.2em;color: black;border-radius: 0.25em;background-color: #f0f8ff;}#sk-container-id-15 input.sk-toggleable__control:checked~div.sk-toggleable__content {max-height: 200px;max-width: 100%;overflow: auto;}#sk-container-id-15 input.sk-toggleable__control:checked~label.sk-toggleable__label-arrow:before {content: \"▾\";}#sk-container-id-15 div.sk-estimator input.sk-toggleable__control:checked~label.sk-toggleable__label {background-color: #d4ebff;}#sk-container-id-15 div.sk-label input.sk-toggleable__control:checked~label.sk-toggleable__label {background-color: #d4ebff;}#sk-container-id-15 input.sk-hidden--visually {border: 0;clip: rect(1px 1px 1px 1px);clip: rect(1px, 1px, 1px, 1px);height: 1px;margin: -1px;overflow: hidden;padding: 0;position: absolute;width: 1px;}#sk-container-id-15 div.sk-estimator {font-family: monospace;background-color: #f0f8ff;border: 1px dotted black;border-radius: 0.25em;box-sizing: border-box;margin-bottom: 0.5em;}#sk-container-id-15 div.sk-estimator:hover {background-color: #d4ebff;}#sk-container-id-15 div.sk-parallel-item::after {content: \"\";width: 100%;border-bottom: 1px solid gray;flex-grow: 1;}#sk-container-id-15 div.sk-label:hover label.sk-toggleable__label {background-color: #d4ebff;}#sk-container-id-15 div.sk-serial::before {content: \"\";position: absolute;border-left: 1px solid gray;box-sizing: border-box;top: 0;bottom: 0;left: 50%;z-index: 0;}#sk-container-id-15 div.sk-serial {display: flex;flex-direction: column;align-items: center;background-color: white;padding-right: 0.2em;padding-left: 0.2em;position: relative;}#sk-container-id-15 div.sk-item {position: relative;z-index: 1;}#sk-container-id-15 div.sk-parallel {display: flex;align-items: stretch;justify-content: center;background-color: white;position: relative;}#sk-container-id-15 div.sk-item::before, #sk-container-id-15 div.sk-parallel-item::before {content: \"\";position: absolute;border-left: 1px solid gray;box-sizing: border-box;top: 0;bottom: 0;left: 50%;z-index: -1;}#sk-container-id-15 div.sk-parallel-item {display: flex;flex-direction: column;z-index: 1;position: relative;background-color: white;}#sk-container-id-15 div.sk-parallel-item:first-child::after {align-self: flex-end;width: 50%;}#sk-container-id-15 div.sk-parallel-item:last-child::after {align-self: flex-start;width: 50%;}#sk-container-id-15 div.sk-parallel-item:only-child::after {width: 0;}#sk-container-id-15 div.sk-dashed-wrapped {border: 1px dashed gray;margin: 0 0.4em 0.5em 0.4em;box-sizing: border-box;padding-bottom: 0.4em;background-color: white;}#sk-container-id-15 div.sk-label label {font-family: monospace;font-weight: bold;display: inline-block;line-height: 1.2em;}#sk-container-id-15 div.sk-label-container {text-align: center;}#sk-container-id-15 div.sk-container {/* jupyter's `normalize.less` sets `[hidden] { display: none; }` but bootstrap.min.css set `[hidden] { display: none !important; }` so we also need the `!important` here to be able to override the default hidden behavior on the sphinx rendered scikit-learn.org. See: https://github.com/scikit-learn/scikit-learn/issues/21755 */display: inline-block !important;position: relative;}#sk-container-id-15 div.sk-text-repr-fallback {display: none;}</style><div id=\"sk-container-id-15\" class=\"sk-top-container\"><div class=\"sk-text-repr-fallback\"><pre>RandomForestRegressor()</pre><b>In a Jupyter environment, please rerun this cell to show the HTML representation or trust the notebook. <br />On GitHub, the HTML representation is unable to render, please try loading this page with nbviewer.org.</b></div><div class=\"sk-container\" hidden><div class=\"sk-item\"><div class=\"sk-estimator sk-toggleable\"><input class=\"sk-toggleable__control sk-hidden--visually\" id=\"sk-estimator-id-15\" type=\"checkbox\" checked><label for=\"sk-estimator-id-15\" class=\"sk-toggleable__label sk-toggleable__label-arrow\">RandomForestRegressor</label><div class=\"sk-toggleable__content\"><pre>RandomForestRegressor()</pre></div></div></div></div></div>"
      ],
      "text/plain": [
       "RandomForestRegressor()"
      ]
     },
     "execution_count": 335,
     "metadata": {},
     "output_type": "execute_result"
    }
   ],
   "source": [
    "# 모델링 적용\n",
    "\n",
    "model = RandomForestRegressor()\n",
    "\n",
    "model.fit(x_train, y_train['tip'])"
   ]
  },
  {
   "cell_type": "code",
   "execution_count": 336,
   "metadata": {},
   "outputs": [
    {
     "name": "stdout",
     "output_type": "stream",
     "text": [
      "(39,)\n",
      "(39,)\n"
     ]
    }
   ],
   "source": [
    "# 검증 데이터 분리 및 성능 측정\n",
    "\n",
    "X_train, X_val, Y_train, Y_val = train_test_split(x_train, y_train['tip'], test_size=0.2, random_state=23)\n",
    "\n",
    "model_val = RandomForestRegressor()\n",
    "model_val.fit(X_train, Y_train)\n",
    "\n",
    "y_pred = model_val.predict(X_val)\n",
    "\n",
    "print(y_pred.shape)\n",
    "print(Y_val.shape)"
   ]
  },
  {
   "cell_type": "code",
   "execution_count": 337,
   "metadata": {},
   "outputs": [
    {
     "name": "stdout",
     "output_type": "stream",
     "text": [
      "MSE :  1.010733282564102\n",
      "R2 Score :  0.41146924198196044\n",
      "RMSE :  1.0215817684828048\n"
     ]
    }
   ],
   "source": [
    "mse = mean_squared_error(Y_val, y_pred)\n",
    "rsq = r2_score(Y_val, y_pred)\n",
    "\n",
    "print(\"MSE : \", mse)\n",
    "print(\"R2 Score : \", rsq)\n",
    "print(\"RMSE : \", mse**2)"
   ]
  },
  {
   "cell_type": "code",
   "execution_count": 338,
   "metadata": {},
   "outputs": [
    {
     "name": "stdout",
     "output_type": "stream",
     "text": [
      "(49,)\n"
     ]
    }
   ],
   "source": [
    "# 실제 예측값 적용\n",
    "\n",
    "\n",
    "\n",
    "y_result = model.predict(x_test)\n",
    "\n",
    "print(y_result.shape)\n",
    "# print(y_test.shape)"
   ]
  },
  {
   "cell_type": "code",
   "execution_count": 339,
   "metadata": {},
   "outputs": [
    {
     "name": "stdout",
     "output_type": "stream",
     "text": [
      "    cust_id  result\n",
      "0       154  3.2726\n",
      "1         4  2.9059\n",
      "2        30  1.6660\n",
      "3        75  1.6438\n",
      "4        33  3.1181\n",
      "5       149  1.4469\n",
      "6       164  2.9235\n",
      "7        61  2.2072\n",
      "8       136  1.8987\n",
      "9       211  3.5402\n",
      "10      102  4.4278\n",
      "11      132  1.9858\n",
      "12      205  2.8505\n",
      "13      185  3.2585\n",
      "14       99  2.1420\n",
      "15       92  1.5273\n",
      "16       91  3.7163\n",
      "17      117  1.9291\n",
      "18      207  4.3078\n",
      "19      239  3.3520\n",
      "20      147  2.0672\n",
      "21      174  2.7447\n",
      "22        2  3.2302\n",
      "23      141  4.8880\n",
      "24       81  2.9451\n",
      "25      180  3.9564\n",
      "26      151  2.4156\n",
      "27      206  3.1855\n",
      "28      238  4.9943\n",
      "29       24  3.1584\n",
      "30       42  2.4493\n",
      "31       96  2.7677\n",
      "32       84  2.2739\n",
      "33      123  2.2739\n",
      "34        8  2.6288\n",
      "35       62  1.7001\n",
      "36      201  2.1357\n",
      "37      172  1.7421\n",
      "38       68  3.1116\n",
      "39      191  3.0421\n",
      "40      215  2.2695\n",
      "41       79  3.0245\n",
      "42       16  2.3242\n",
      "43       13  3.0356\n",
      "44       32  2.4278\n",
      "45      204  3.6830\n",
      "46      202  2.1024\n",
      "47      167  5.2858\n",
      "48       40  2.6315\n"
     ]
    }
   ],
   "source": [
    "# 결과값 가공 및 저장\n",
    "\n",
    "final_result = pd.DataFrame({'cust_id':cust_id, 'result':y_result})\n",
    "\n",
    "print(final_result)\n",
    "\n",
    "final_result.to_csv('result.csv', index=False)"
   ]
  },
  {
   "cell_type": "code",
   "execution_count": 340,
   "metadata": {},
   "outputs": [
    {
     "name": "stdout",
     "output_type": "stream",
     "text": [
      "    cust_id  result\n",
      "0       154  3.2726\n",
      "1         4  2.9059\n",
      "2        30  1.6660\n",
      "3        75  1.6438\n",
      "4        33  3.1181\n",
      "5       149  1.4469\n",
      "6       164  2.9235\n",
      "7        61  2.2072\n",
      "8       136  1.8987\n",
      "9       211  3.5402\n",
      "10      102  4.4278\n",
      "11      132  1.9858\n",
      "12      205  2.8505\n",
      "13      185  3.2585\n",
      "14       99  2.1420\n",
      "15       92  1.5273\n",
      "16       91  3.7163\n",
      "17      117  1.9291\n",
      "18      207  4.3078\n",
      "19      239  3.3520\n",
      "20      147  2.0672\n",
      "21      174  2.7447\n",
      "22        2  3.2302\n",
      "23      141  4.8880\n",
      "24       81  2.9451\n",
      "25      180  3.9564\n",
      "26      151  2.4156\n",
      "27      206  3.1855\n",
      "28      238  4.9943\n",
      "29       24  3.1584\n",
      "30       42  2.4493\n",
      "31       96  2.7677\n",
      "32       84  2.2739\n",
      "33      123  2.2739\n",
      "34        8  2.6288\n",
      "35       62  1.7001\n",
      "36      201  2.1357\n",
      "37      172  1.7421\n",
      "38       68  3.1116\n",
      "39      191  3.0421\n",
      "40      215  2.2695\n",
      "41       79  3.0245\n",
      "42       16  2.3242\n",
      "43       13  3.0356\n",
      "44       32  2.4278\n",
      "45      204  3.6830\n",
      "46      202  2.1024\n",
      "47      167  5.2858\n",
      "48       40  2.6315\n"
     ]
    }
   ],
   "source": [
    "# 제출한 결과 확인\n",
    "\n",
    "print(pd.read_csv('result.csv'))"
   ]
  },
  {
   "cell_type": "code",
   "execution_count": 341,
   "metadata": {},
   "outputs": [
    {
     "name": "stdout",
     "output_type": "stream",
     "text": [
      "MSE :  0.972653893265306\n",
      "R2 Score :  0.4256291839049009\n",
      "RMSE :  0.9460555960841573\n"
     ]
    }
   ],
   "source": [
    "# 성능 평가\n",
    "\n",
    "mse = mean_squared_error(y_test, y_result)\n",
    "rsq = r2_score(y_test, y_result)\n",
    "\n",
    "print(\"MSE : \", mse)\n",
    "print(\"R2 Score : \", rsq)\n",
    "print(\"RMSE : \", mse**2)"
   ]
  }
 ],
 "metadata": {
  "kernelspec": {
   "display_name": "Python 3",
   "language": "python",
   "name": "python3"
  },
  "language_info": {
   "codemirror_mode": {
    "name": "ipython",
    "version": 3
   },
   "file_extension": ".py",
   "mimetype": "text/x-python",
   "name": "python",
   "nbconvert_exporter": "python",
   "pygments_lexer": "ipython3",
   "version": "3.11.1"
  }
 },
 "nbformat": 4,
 "nbformat_minor": 2
}
