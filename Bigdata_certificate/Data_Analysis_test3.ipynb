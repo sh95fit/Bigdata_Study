{
 "cells": [
  {
   "cell_type": "markdown",
   "metadata": {},
   "source": [
    "#### 제2유형 연습하기. iris 종 분류"
   ]
  },
  {
   "cell_type": "code",
   "execution_count": 153,
   "metadata": {},
   "outputs": [],
   "source": [
    "# 라이브러리 불러오기\n",
    "\n",
    "import pandas as pd\n",
    "import numpy as np\n",
    "\n",
    "from sklearn.preprocessing import MinMaxScaler, StandardScaler\n",
    "\n",
    "from sklearn.model_selection import train_test_split\n",
    "\n",
    "from sklearn.ensemble import RandomForestClassifier, RandomForestRegressor\n",
    "\n",
    "from sklearn.metrics import accuracy_score, recall_score, f1_score, precision_score, roc_auc_score, mean_squared_error, r2_score"
   ]
  },
  {
   "cell_type": "code",
   "execution_count": 154,
   "metadata": {},
   "outputs": [],
   "source": [
    "from sklearn.datasets import load_iris\n",
    "\n",
    "iris = load_iris()\n",
    "\n",
    "x = pd.DataFrame(iris.data, columns=['sepal_length', 'sepal_width', 'petal_length', 'petal_width'])\n",
    "y = iris.target\n",
    "\n",
    "# 이진 분류로 변경 (setosa = 0, 나머지 = 1)\n",
    "# print(y)\n",
    "\n",
    "y = np.where(y>0, 1, 0)\n",
    "# print(y)\n",
    "\n",
    "# 데이터 분리\n",
    "x_train, x_test, y_train, y_test = train_test_split(x, y, stratify=y, test_size=0.2, random_state=23)\n",
    "\n",
    "x_train = pd.DataFrame(x_train)\n",
    "x_test = pd.DataFrame(x_test)\n",
    "y_train = pd.DataFrame(y_train)\n",
    "\n",
    "# 기존 넘파이 어레이에서 데이터 프레임으로 변경 후 컬럼명 지정\n",
    "y_train.columns = ['species']\n",
    "\n",
    "# 결측치 삽입\n",
    "x_test['sepal_length'].iloc[0] = None\n",
    "x_train['sepal_length'].iloc[0] = None\n",
    "\n",
    "# 이상치 삽입\n",
    "x_train['sepal_width'].iloc[0] = 150"
   ]
  },
  {
   "cell_type": "markdown",
   "metadata": {},
   "source": [
    "#### 데이터 탐색(EDA)"
   ]
  },
  {
   "cell_type": "code",
   "execution_count": 155,
   "metadata": {},
   "outputs": [
    {
     "name": "stdout",
     "output_type": "stream",
     "text": [
      "(120, 4)\n",
      "(30, 4)\n",
      "(120, 1)\n"
     ]
    }
   ],
   "source": [
    "print(x_train.shape)\n",
    "print(x_test.shape)\n",
    "print(y_train.shape)"
   ]
  },
  {
   "cell_type": "code",
   "execution_count": 156,
   "metadata": {},
   "outputs": [
    {
     "name": "stdout",
     "output_type": "stream",
     "text": [
      "<class 'pandas.core.frame.DataFrame'>\n",
      "Int64Index: 120 entries, 117 to 51\n",
      "Data columns (total 4 columns):\n",
      " #   Column        Non-Null Count  Dtype  \n",
      "---  ------        --------------  -----  \n",
      " 0   sepal_length  119 non-null    float64\n",
      " 1   sepal_width   120 non-null    float64\n",
      " 2   petal_length  120 non-null    float64\n",
      " 3   petal_width   120 non-null    float64\n",
      "dtypes: float64(4)\n",
      "memory usage: 4.7 KB\n",
      "None\n",
      "<class 'pandas.core.frame.DataFrame'>\n",
      "Int64Index: 30 entries, 144 to 128\n",
      "Data columns (total 4 columns):\n",
      " #   Column        Non-Null Count  Dtype  \n",
      "---  ------        --------------  -----  \n",
      " 0   sepal_length  29 non-null     float64\n",
      " 1   sepal_width   30 non-null     float64\n",
      " 2   petal_length  30 non-null     float64\n",
      " 3   petal_width   30 non-null     float64\n",
      "dtypes: float64(4)\n",
      "memory usage: 1.2 KB\n",
      "None\n",
      "<class 'pandas.core.frame.DataFrame'>\n",
      "RangeIndex: 120 entries, 0 to 119\n",
      "Data columns (total 1 columns):\n",
      " #   Column   Non-Null Count  Dtype\n",
      "---  ------   --------------  -----\n",
      " 0   species  120 non-null    int32\n",
      "dtypes: int32(1)\n",
      "memory usage: 608.0 bytes\n",
      "None\n"
     ]
    }
   ],
   "source": [
    "print(x_train.info())\n",
    "print(x_test.info())\n",
    "print(y_train.info())"
   ]
  },
  {
   "cell_type": "code",
   "execution_count": 157,
   "metadata": {},
   "outputs": [
    {
     "name": "stdout",
     "output_type": "stream",
     "text": [
      "sepal_length    1\n",
      "sepal_width     0\n",
      "petal_length    0\n",
      "petal_width     0\n",
      "dtype: int64\n",
      "sepal_length    1\n",
      "sepal_width     0\n",
      "petal_length    0\n",
      "petal_width     0\n",
      "dtype: int64\n",
      "species    0\n",
      "dtype: int64\n"
     ]
    }
   ],
   "source": [
    "print(x_train.isnull().sum())\n",
    "print(x_test.isnull().sum())\n",
    "print(y_train.isnull().sum())"
   ]
  },
  {
   "cell_type": "code",
   "execution_count": 158,
   "metadata": {},
   "outputs": [
    {
     "name": "stdout",
     "output_type": "stream",
     "text": [
      "              count      mean        std  min  25%   50%   75%    max\n",
      "sepal_length  119.0  5.801681   0.805488  4.3  5.1  5.70  6.35    7.9\n",
      "sepal_width   120.0  4.275000  13.422352  2.0  2.8  3.00  3.40  150.0\n",
      "petal_length  120.0  3.745000   1.758430  1.0  1.6  4.35  5.10    6.9\n",
      "petal_width   120.0  1.186667   0.752467  0.1  0.3  1.30  1.80    2.5\n",
      "              count     mean       std  min    25%   50%    75%  max\n",
      "sepal_length   29.0  5.92069  0.867006  4.4  5.100  6.10  6.500  7.6\n",
      "sepal_width    30.0  3.06000  0.321205  2.4  2.825  3.00  3.275  3.8\n",
      "petal_length   30.0  3.81000  1.821964  1.3  1.500  4.40  5.175  6.6\n",
      "petal_width    30.0  1.25000  0.811448  0.1  0.325  1.35  1.900  2.5\n",
      "         count      mean       std  min  25%  50%  75%  max\n",
      "species  120.0  0.666667  0.473381  0.0  0.0  1.0  1.0  1.0\n"
     ]
    }
   ],
   "source": [
    "print(x_train.describe().T)\n",
    "print(x_test.describe().T)\n",
    "print(y_train.describe().T)"
   ]
  },
  {
   "cell_type": "code",
   "execution_count": 159,
   "metadata": {},
   "outputs": [
    {
     "name": "stdout",
     "output_type": "stream",
     "text": [
      "sepal_length    0\n",
      "sepal_width     0\n",
      "petal_length    0\n",
      "petal_width     0\n",
      "dtype: int64\n",
      "sepal_length    0\n",
      "sepal_width     0\n",
      "petal_length    0\n",
      "petal_width     0\n",
      "dtype: int64\n"
     ]
    }
   ],
   "source": [
    "# 결측치 제거\n",
    "# 제거 전 drop 시킬지 대체할지 결정\n",
    "\n",
    "x_train['sepal_length'] = x_train['sepal_length'].fillna(x['sepal_length'].median())\n",
    "x_test['sepal_length'] = x_test['sepal_length'].fillna(x['sepal_length'].median())\n",
    "\n",
    "# x_train.dropna(inplace=True)\n",
    "# x_test.dropna(inplace=True)\n",
    "\n",
    "print(x_train.isnull().sum())\n",
    "print(x_test.isnull().sum())"
   ]
  },
  {
   "cell_type": "code",
   "execution_count": 160,
   "metadata": {},
   "outputs": [],
   "source": [
    "# 이상치 제거\n",
    "# print(x_train.describe().T)\n",
    "# print(x_test.describe().T)\n",
    "\n",
    "# sepal_width에서 x_train의 max값 불량 확인\n",
    "# Q1 = x_train['sepal_width'].quantile(.25)\n",
    "# Q3 = x_train['sepal_width'].quantile(.75)\n",
    "# IQR = abs(Q1-Q3)\n",
    "# # print(Q1, Q3, IQR)\n",
    "\n",
    "# upper = Q3+1.5*IQR\n",
    "# lower = Q1-1.5*IQR\n",
    "\n",
    "# cond1 = (x_train['sepal_width'] <= upper)\n",
    "# cond2 = (x_train['sepal_width'] >= lower)\n",
    "\n",
    "\n",
    "# print(x_train.describe().T)\n",
    "# print(x_test.describe().T)"
   ]
  },
  {
   "cell_type": "code",
   "execution_count": 161,
   "metadata": {},
   "outputs": [
    {
     "name": "stdout",
     "output_type": "stream",
     "text": [
      "              count      mean       std  min  25%   50%    75%  max\n",
      "sepal_length  120.0  5.801667  0.802096  4.3  5.1  5.75  6.325  7.9\n",
      "sepal_width   120.0  3.061667  0.472466  2.0  2.8  3.00  3.400  4.4\n",
      "petal_length  120.0  3.745000  1.758430  1.0  1.6  4.35  5.100  6.9\n",
      "petal_width   120.0  1.186667  0.752467  0.1  0.3  1.30  1.800  2.5\n",
      "              count      mean       std  min    25%   50%    75%  max\n",
      "sepal_length   30.0  5.916667  0.852211  4.4  5.125  5.95  6.500  7.6\n",
      "sepal_width    30.0  3.060000  0.321205  2.4  2.825  3.00  3.275  3.8\n",
      "petal_length   30.0  3.810000  1.821964  1.3  1.500  4.40  5.175  6.6\n",
      "petal_width    30.0  1.250000  0.811448  0.1  0.325  1.35  1.900  2.5\n"
     ]
    }
   ],
   "source": [
    "# 이상치 대체 (최대값으로 대체)\n",
    "\n",
    "cond1 = (x_train['sepal_width'] <= 10)\n",
    "max_sw = x_train[cond1]['sepal_width'].max()\n",
    "# print(max_sw)\n",
    "\n",
    "x_train['sepal_width'] = np.where(x_train['sepal_width'] >= 10, max_sw, x_train['sepal_width'])\n",
    "\n",
    "print(x_train.describe().T)\n",
    "print(x_test.describe().T)"
   ]
  },
  {
   "cell_type": "code",
   "execution_count": 162,
   "metadata": {},
   "outputs": [
    {
     "name": "stderr",
     "output_type": "stream",
     "text": [
      "C:\\Users\\user\\AppData\\Local\\Temp\\ipykernel_23032\\2863692258.py:5: DataConversionWarning: A column-vector y was passed when a 1d array was expected. Please change the shape of y to (n_samples,), for example using ravel().\n",
      "  model.fit(x_train, y_train)\n"
     ]
    },
    {
     "data": {
      "text/html": [
       "<style>#sk-container-id-4 {color: black;background-color: white;}#sk-container-id-4 pre{padding: 0;}#sk-container-id-4 div.sk-toggleable {background-color: white;}#sk-container-id-4 label.sk-toggleable__label {cursor: pointer;display: block;width: 100%;margin-bottom: 0;padding: 0.3em;box-sizing: border-box;text-align: center;}#sk-container-id-4 label.sk-toggleable__label-arrow:before {content: \"▸\";float: left;margin-right: 0.25em;color: #696969;}#sk-container-id-4 label.sk-toggleable__label-arrow:hover:before {color: black;}#sk-container-id-4 div.sk-estimator:hover label.sk-toggleable__label-arrow:before {color: black;}#sk-container-id-4 div.sk-toggleable__content {max-height: 0;max-width: 0;overflow: hidden;text-align: left;background-color: #f0f8ff;}#sk-container-id-4 div.sk-toggleable__content pre {margin: 0.2em;color: black;border-radius: 0.25em;background-color: #f0f8ff;}#sk-container-id-4 input.sk-toggleable__control:checked~div.sk-toggleable__content {max-height: 200px;max-width: 100%;overflow: auto;}#sk-container-id-4 input.sk-toggleable__control:checked~label.sk-toggleable__label-arrow:before {content: \"▾\";}#sk-container-id-4 div.sk-estimator input.sk-toggleable__control:checked~label.sk-toggleable__label {background-color: #d4ebff;}#sk-container-id-4 div.sk-label input.sk-toggleable__control:checked~label.sk-toggleable__label {background-color: #d4ebff;}#sk-container-id-4 input.sk-hidden--visually {border: 0;clip: rect(1px 1px 1px 1px);clip: rect(1px, 1px, 1px, 1px);height: 1px;margin: -1px;overflow: hidden;padding: 0;position: absolute;width: 1px;}#sk-container-id-4 div.sk-estimator {font-family: monospace;background-color: #f0f8ff;border: 1px dotted black;border-radius: 0.25em;box-sizing: border-box;margin-bottom: 0.5em;}#sk-container-id-4 div.sk-estimator:hover {background-color: #d4ebff;}#sk-container-id-4 div.sk-parallel-item::after {content: \"\";width: 100%;border-bottom: 1px solid gray;flex-grow: 1;}#sk-container-id-4 div.sk-label:hover label.sk-toggleable__label {background-color: #d4ebff;}#sk-container-id-4 div.sk-serial::before {content: \"\";position: absolute;border-left: 1px solid gray;box-sizing: border-box;top: 0;bottom: 0;left: 50%;z-index: 0;}#sk-container-id-4 div.sk-serial {display: flex;flex-direction: column;align-items: center;background-color: white;padding-right: 0.2em;padding-left: 0.2em;position: relative;}#sk-container-id-4 div.sk-item {position: relative;z-index: 1;}#sk-container-id-4 div.sk-parallel {display: flex;align-items: stretch;justify-content: center;background-color: white;position: relative;}#sk-container-id-4 div.sk-item::before, #sk-container-id-4 div.sk-parallel-item::before {content: \"\";position: absolute;border-left: 1px solid gray;box-sizing: border-box;top: 0;bottom: 0;left: 50%;z-index: -1;}#sk-container-id-4 div.sk-parallel-item {display: flex;flex-direction: column;z-index: 1;position: relative;background-color: white;}#sk-container-id-4 div.sk-parallel-item:first-child::after {align-self: flex-end;width: 50%;}#sk-container-id-4 div.sk-parallel-item:last-child::after {align-self: flex-start;width: 50%;}#sk-container-id-4 div.sk-parallel-item:only-child::after {width: 0;}#sk-container-id-4 div.sk-dashed-wrapped {border: 1px dashed gray;margin: 0 0.4em 0.5em 0.4em;box-sizing: border-box;padding-bottom: 0.4em;background-color: white;}#sk-container-id-4 div.sk-label label {font-family: monospace;font-weight: bold;display: inline-block;line-height: 1.2em;}#sk-container-id-4 div.sk-label-container {text-align: center;}#sk-container-id-4 div.sk-container {/* jupyter's `normalize.less` sets `[hidden] { display: none; }` but bootstrap.min.css set `[hidden] { display: none !important; }` so we also need the `!important` here to be able to override the default hidden behavior on the sphinx rendered scikit-learn.org. See: https://github.com/scikit-learn/scikit-learn/issues/21755 */display: inline-block !important;position: relative;}#sk-container-id-4 div.sk-text-repr-fallback {display: none;}</style><div id=\"sk-container-id-4\" class=\"sk-top-container\"><div class=\"sk-text-repr-fallback\"><pre>RandomForestClassifier()</pre><b>In a Jupyter environment, please rerun this cell to show the HTML representation or trust the notebook. <br />On GitHub, the HTML representation is unable to render, please try loading this page with nbviewer.org.</b></div><div class=\"sk-container\" hidden><div class=\"sk-item\"><div class=\"sk-estimator sk-toggleable\"><input class=\"sk-toggleable__control sk-hidden--visually\" id=\"sk-estimator-id-4\" type=\"checkbox\" checked><label for=\"sk-estimator-id-4\" class=\"sk-toggleable__label sk-toggleable__label-arrow\">RandomForestClassifier</label><div class=\"sk-toggleable__content\"><pre>RandomForestClassifier()</pre></div></div></div></div></div>"
      ],
      "text/plain": [
       "RandomForestClassifier()"
      ]
     },
     "execution_count": 162,
     "metadata": {},
     "output_type": "execute_result"
    }
   ],
   "source": [
    "# 모델링 적용\n",
    "\n",
    "model = RandomForestClassifier()\n",
    "\n",
    "model.fit(x_train, y_train)"
   ]
  },
  {
   "cell_type": "code",
   "execution_count": 163,
   "metadata": {},
   "outputs": [
    {
     "name": "stdout",
     "output_type": "stream",
     "text": [
      "1.0\n",
      "1.0\n",
      "1.0\n"
     ]
    }
   ],
   "source": [
    "y_pred = model.predict(x_test)\n",
    "\n",
    "accuracy = accuracy_score(y_test, y_pred)\n",
    "f1_score = f1_score(y_test, y_pred, average='macro')\n",
    "roc_auc = roc_auc_score(y_test, y_pred)\n",
    "\n",
    "print(accuracy)\n",
    "print(f1_score)\n",
    "print(roc_auc)"
   ]
  },
  {
   "cell_type": "code",
   "execution_count": 166,
   "metadata": {},
   "outputs": [],
   "source": [
    "y_prob = model.predict_proba(x_test)\n",
    "# print(y_prob)"
   ]
  },
  {
   "cell_type": "code",
   "execution_count": 169,
   "metadata": {},
   "outputs": [
    {
     "name": "stdout",
     "output_type": "stream",
     "text": [
      "   result  prob_0\n",
      "0       1    0.01\n",
      "1       0    1.00\n",
      "2       0    1.00\n",
      "3       1    0.00\n",
      "4       1    0.00\n"
     ]
    }
   ],
   "source": [
    "result = pd.DataFrame({\n",
    "  'result': y_pred,\n",
    "  'prob_0': y_prob[:,0]\n",
    "})\n",
    "\n",
    "print(result[:5])"
   ]
  },
  {
   "cell_type": "code",
   "execution_count": 170,
   "metadata": {},
   "outputs": [],
   "source": [
    "result.to_csv('test.csv',index=False)"
   ]
  },
  {
   "cell_type": "code",
   "execution_count": 171,
   "metadata": {},
   "outputs": [
    {
     "name": "stdout",
     "output_type": "stream",
     "text": [
      "   result  prob_0\n",
      "0       1    0.01\n",
      "1       0    1.00\n",
      "2       0    1.00\n",
      "3       1    0.00\n",
      "4       1    0.00\n"
     ]
    }
   ],
   "source": [
    "print(pd.read_csv('test.csv').head())"
   ]
  }
 ],
 "metadata": {
  "kernelspec": {
   "display_name": "Python 3",
   "language": "python",
   "name": "python3"
  },
  "language_info": {
   "codemirror_mode": {
    "name": "ipython",
    "version": 3
   },
   "file_extension": ".py",
   "mimetype": "text/x-python",
   "name": "python",
   "nbconvert_exporter": "python",
   "pygments_lexer": "ipython3",
   "version": "3.11.1"
  }
 },
 "nbformat": 4,
 "nbformat_minor": 2
}
