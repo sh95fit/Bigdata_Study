{
 "cells": [
  {
   "cell_type": "code",
   "execution_count": 72,
   "metadata": {},
   "outputs": [],
   "source": [
    "import pandas as pd\n",
    "import numpy as np\n",
    "\n",
    "from scipy.stats import chisquare, chi2_contingency"
   ]
  },
  {
   "cell_type": "markdown",
   "metadata": {},
   "source": [
    "##### 제3유형 카이제곱 검정\n",
    "\n",
    "분석 Case\n",
    "- Case 1. 적합도 검정 - 각 범주에 속할 확률이 같은지?\n",
    "- Case 2. 독립성 검정 - 두 개의 범주형 변수가 서로 독립인지?"
   ]
  },
  {
   "cell_type": "markdown",
   "metadata": {},
   "source": [
    "가설 검정 순서\n",
    "\n",
    "1. 가설 설정\n",
    "2. 유의수준 확인\n",
    "3. 검정 실시 (통계량, p-value 확인) + 기대값 확인\n",
    "4. 귀무가설 기각여부 결정 (채택/기각)"
   ]
  },
  {
   "cell_type": "markdown",
   "metadata": {},
   "source": [
    "예제문제\n",
    "\n",
    "Case 1. 적합도 검정 - 각 범주에 속할 확률이 같은지?\n",
    "\n",
    "문제1-1\n",
    "\n",
    "랜덤박스에 상품 A,B,C,D가 들어있다.\n",
    "\n",
    "다음은 랜덤박스에서 100번 상품을 꺼냈을 때의 상품 데이터라고 할 때\n",
    "\n",
    "상품이 동일한 비율로 들어있다고 할 수 있는지 검정해보시오.\n",
    "\n",
    "- 귀무가설(H0) : 상품이 동일한 비율로 들어있다.\n",
    "- 대립가설(H1) : 상품이 동일한 비율로 들어있지 않다"
   ]
  },
  {
   "cell_type": "code",
   "execution_count": 73,
   "metadata": {},
   "outputs": [
    {
     "data": {
      "text/html": [
       "<div>\n",
       "<style scoped>\n",
       "    .dataframe tbody tr th:only-of-type {\n",
       "        vertical-align: middle;\n",
       "    }\n",
       "\n",
       "    .dataframe tbody tr th {\n",
       "        vertical-align: top;\n",
       "    }\n",
       "\n",
       "    .dataframe thead th {\n",
       "        text-align: right;\n",
       "    }\n",
       "</style>\n",
       "<table border=\"1\" class=\"dataframe\">\n",
       "  <thead>\n",
       "    <tr style=\"text-align: right;\">\n",
       "      <th></th>\n",
       "      <th>A</th>\n",
       "      <th>B</th>\n",
       "      <th>C</th>\n",
       "      <th>D</th>\n",
       "    </tr>\n",
       "  </thead>\n",
       "  <tbody>\n",
       "    <tr>\n",
       "      <th>0</th>\n",
       "      <td>30</td>\n",
       "      <td>20</td>\n",
       "      <td>15</td>\n",
       "      <td>35</td>\n",
       "    </tr>\n",
       "  </tbody>\n",
       "</table>\n",
       "</div>"
      ],
      "text/plain": [
       "    A   B   C   D\n",
       "0  30  20  15  35"
      ]
     },
     "execution_count": 73,
     "metadata": {},
     "output_type": "execute_result"
    }
   ],
   "source": [
    "# 데이터 생성\n",
    "row1 = [30, 20, 15, 35]\n",
    "\n",
    "df = pd.DataFrame([row1], columns=['A','B','C','D'])\n",
    "\n",
    "df"
   ]
  },
  {
   "cell_type": "code",
   "execution_count": 74,
   "metadata": {},
   "outputs": [
    {
     "name": "stdout",
     "output_type": "stream",
     "text": [
      "10.0 0.01856613546304325\n",
      "A,B,C,D가 동일한 비율로 들어있지 않다\n"
     ]
    }
   ],
   "source": [
    "# 관측빈도과 기대빈도 구하기\n",
    "\n",
    "f_obs = [30,20,15,35]\n",
    "f_exp = [100*0.25,100*0.25,100*0.25,100*0.25]\n",
    "\n",
    "statistic, pvalue = chisquare(f_obs=f_obs, f_exp=f_exp)\n",
    "\n",
    "print(statistic, pvalue)\n",
    "\n",
    "if pvalue > 0.05 :\n",
    "  print('A,B,C,D가 동일한 비율로 들어있다')\n",
    "else :\n",
    "  print('A,B,C,D가 동일한 비율로 들어있지 않다')"
   ]
  },
  {
   "cell_type": "markdown",
   "metadata": {},
   "source": [
    "문제1-2\n",
    "\n",
    "랜덤 박스에 상품 A, B, C가 들어있다.\n",
    "\n",
    "다음은 랜덤박스에서 150번 상품을 꺼냈을 때의 상품 데이터라고 할 때\n",
    "\n",
    "상품별로 A 30%, B 15%, C 55% 비율로 들어있다고 할 수 있는지 검정해보시오"
   ]
  },
  {
   "cell_type": "code",
   "execution_count": 75,
   "metadata": {},
   "outputs": [
    {
     "data": {
      "text/html": [
       "<div>\n",
       "<style scoped>\n",
       "    .dataframe tbody tr th:only-of-type {\n",
       "        vertical-align: middle;\n",
       "    }\n",
       "\n",
       "    .dataframe tbody tr th {\n",
       "        vertical-align: top;\n",
       "    }\n",
       "\n",
       "    .dataframe thead th {\n",
       "        text-align: right;\n",
       "    }\n",
       "</style>\n",
       "<table border=\"1\" class=\"dataframe\">\n",
       "  <thead>\n",
       "    <tr style=\"text-align: right;\">\n",
       "      <th></th>\n",
       "      <th>A</th>\n",
       "      <th>B</th>\n",
       "      <th>C</th>\n",
       "    </tr>\n",
       "  </thead>\n",
       "  <tbody>\n",
       "    <tr>\n",
       "      <th>0</th>\n",
       "      <td>50</td>\n",
       "      <td>25</td>\n",
       "      <td>75</td>\n",
       "    </tr>\n",
       "  </tbody>\n",
       "</table>\n",
       "</div>"
      ],
      "text/plain": [
       "    A   B   C\n",
       "0  50  25  75"
      ]
     },
     "execution_count": 75,
     "metadata": {},
     "output_type": "execute_result"
    }
   ],
   "source": [
    "# 데이터 생성\n",
    "row1 = [50,25,75]\n",
    "\n",
    "df= pd.DataFrame([row1],columns=['A','B','C'])\n",
    "\n",
    "df"
   ]
  },
  {
   "cell_type": "code",
   "execution_count": 76,
   "metadata": {},
   "outputs": [
    {
     "name": "stdout",
     "output_type": "stream",
     "text": [
      "0.46880153914023537\n",
      "A,B,C가 해당 비율로 들어있다\n"
     ]
    }
   ],
   "source": [
    "# 카이제곱 검정 실시\n",
    "\n",
    "f_obs = [50,25,75]\n",
    "f_exp = [150*0.3,150*0.15,150*0.55]\n",
    "\n",
    "statistic, pvalue = chisquare(f_obs=f_obs, f_exp=f_exp)\n",
    "\n",
    "print(pvalue)\n",
    "\n",
    "if pvalue > 0.05 :\n",
    "  print('A,B,C가 해당 비율로 들어있다')\n",
    "else :\n",
    "  print('A,B,C가 해당 비율로 들어있지 않다')"
   ]
  },
  {
   "cell_type": "markdown",
   "metadata": {},
   "source": [
    "Case 2. 독립성 검정 - 두 개의 범주형 변수가 서로 독립인가?\n",
    "\n",
    "문제2-1\n",
    "\n",
    "연령대에 따라 먹는 아이스크림의 차이가 있는지 독립성 검정을 실시하시오.\n",
    "\n",
    "- 귀무가설(H0) : 연령대와 먹는 아이스크림 종류는 서로 관련이 없다\n",
    "- 대립가설(H1) : 연령대와 먹는 아이스크림 종류는 서로 관련이 있다"
   ]
  },
  {
   "cell_type": "code",
   "execution_count": 77,
   "metadata": {},
   "outputs": [
    {
     "data": {
      "text/html": [
       "<div>\n",
       "<style scoped>\n",
       "    .dataframe tbody tr th:only-of-type {\n",
       "        vertical-align: middle;\n",
       "    }\n",
       "\n",
       "    .dataframe tbody tr th {\n",
       "        vertical-align: top;\n",
       "    }\n",
       "\n",
       "    .dataframe thead th {\n",
       "        text-align: right;\n",
       "    }\n",
       "</style>\n",
       "<table border=\"1\" class=\"dataframe\">\n",
       "  <thead>\n",
       "    <tr style=\"text-align: right;\">\n",
       "      <th></th>\n",
       "      <th>딸기</th>\n",
       "      <th>초코</th>\n",
       "      <th>바닐라</th>\n",
       "    </tr>\n",
       "  </thead>\n",
       "  <tbody>\n",
       "    <tr>\n",
       "      <th>10대</th>\n",
       "      <td>200</td>\n",
       "      <td>190</td>\n",
       "      <td>250</td>\n",
       "    </tr>\n",
       "    <tr>\n",
       "      <th>20대</th>\n",
       "      <td>220</td>\n",
       "      <td>250</td>\n",
       "      <td>300</td>\n",
       "    </tr>\n",
       "  </tbody>\n",
       "</table>\n",
       "</div>"
      ],
      "text/plain": [
       "      딸기   초코  바닐라\n",
       "10대  200  190  250\n",
       "20대  220  250  300"
      ]
     },
     "execution_count": 77,
     "metadata": {},
     "output_type": "execute_result"
    }
   ],
   "source": [
    "# 데이터 생성\n",
    "\n",
    "row1, row2 = [200, 190, 250], [220, 250, 300]\n",
    "\n",
    "df = pd.DataFrame([row1, row2], columns=['딸기','초코','바닐라'], index=['10대','20대'])\n",
    "\n",
    "df"
   ]
  },
  {
   "cell_type": "code",
   "execution_count": 78,
   "metadata": {},
   "outputs": [
    {
     "name": "stdout",
     "output_type": "stream",
     "text": [
      "1.708360126075226\n",
      "0.4256320394874311\n",
      "2\n",
      "[[190.64 199.72 249.65]\n",
      " [229.36 240.28 300.35]]\n",
      "귀무가설 채택 - 연령대와 먹는 아이스크림 종류는 관련이 없다(영향을 주지 않는다)\n"
     ]
    }
   ],
   "source": [
    "# chi2_contingency 항목 순서\n",
    "# 검정통계량, p-value, 자유도, 기대값\n",
    "\n",
    "statistic, pvalue, dof, expected = chi2_contingency(df)\n",
    "\n",
    "print(statistic)\n",
    "print(pvalue)\n",
    "print(dof)  # 자유도 = (행-1)(열-1)\n",
    "print(np.round(expected,2))\n",
    "\n",
    "if pvalue > 0.05 :\n",
    "  print('귀무가설 채택 - 연령대와 먹는 아이스크림 종류는 관련이 없다(영향을 주지 않는다)')\n",
    "else :\n",
    "  print('귀무가설 기각 - 연령대와 먹는 아이스크림 종류는 관련이 있다(영향을 준다)')"
   ]
  },
  {
   "cell_type": "code",
   "execution_count": 79,
   "metadata": {},
   "outputs": [
    {
     "data": {
      "text/html": [
       "<div>\n",
       "<style scoped>\n",
       "    .dataframe tbody tr th:only-of-type {\n",
       "        vertical-align: middle;\n",
       "    }\n",
       "\n",
       "    .dataframe tbody tr th {\n",
       "        vertical-align: top;\n",
       "    }\n",
       "\n",
       "    .dataframe thead th {\n",
       "        text-align: right;\n",
       "    }\n",
       "</style>\n",
       "<table border=\"1\" class=\"dataframe\">\n",
       "  <thead>\n",
       "    <tr style=\"text-align: right;\">\n",
       "      <th></th>\n",
       "      <th>아이스크림</th>\n",
       "      <th>연령</th>\n",
       "      <th>인원</th>\n",
       "    </tr>\n",
       "  </thead>\n",
       "  <tbody>\n",
       "    <tr>\n",
       "      <th>0</th>\n",
       "      <td>딸기</td>\n",
       "      <td>10대</td>\n",
       "      <td>200</td>\n",
       "    </tr>\n",
       "    <tr>\n",
       "      <th>1</th>\n",
       "      <td>초코</td>\n",
       "      <td>10대</td>\n",
       "      <td>190</td>\n",
       "    </tr>\n",
       "    <tr>\n",
       "      <th>2</th>\n",
       "      <td>바닐라</td>\n",
       "      <td>10대</td>\n",
       "      <td>250</td>\n",
       "    </tr>\n",
       "    <tr>\n",
       "      <th>3</th>\n",
       "      <td>딸기</td>\n",
       "      <td>20대</td>\n",
       "      <td>220</td>\n",
       "    </tr>\n",
       "    <tr>\n",
       "      <th>4</th>\n",
       "      <td>초코</td>\n",
       "      <td>20대</td>\n",
       "      <td>250</td>\n",
       "    </tr>\n",
       "    <tr>\n",
       "      <th>5</th>\n",
       "      <td>바닐라</td>\n",
       "      <td>20대</td>\n",
       "      <td>300</td>\n",
       "    </tr>\n",
       "  </tbody>\n",
       "</table>\n",
       "</div>"
      ],
      "text/plain": [
       "  아이스크림   연령   인원\n",
       "0    딸기  10대  200\n",
       "1    초코  10대  190\n",
       "2   바닐라  10대  250\n",
       "3    딸기  20대  220\n",
       "4    초코  20대  250\n",
       "5   바닐라  20대  300"
      ]
     },
     "execution_count": 79,
     "metadata": {},
     "output_type": "execute_result"
    }
   ],
   "source": [
    "# 만약 데이터 형태가 다른 경우!\n",
    "\n",
    "df = pd.DataFrame({\n",
    "  '아이스크림' : ['딸기','초코','바닐라','딸기','초코','바닐라'],\n",
    "  '연령' : ['10대','10대','10대','20대','20대','20대'],\n",
    "  '인원' : [200,190,250,220,250,300]\n",
    "})\n",
    "\n",
    "df"
   ]
  },
  {
   "cell_type": "code",
   "execution_count": 80,
   "metadata": {},
   "outputs": [
    {
     "data": {
      "text/html": [
       "<div>\n",
       "<style scoped>\n",
       "    .dataframe tbody tr th:only-of-type {\n",
       "        vertical-align: middle;\n",
       "    }\n",
       "\n",
       "    .dataframe tbody tr th {\n",
       "        vertical-align: top;\n",
       "    }\n",
       "\n",
       "    .dataframe thead th {\n",
       "        text-align: right;\n",
       "    }\n",
       "</style>\n",
       "<table border=\"1\" class=\"dataframe\">\n",
       "  <thead>\n",
       "    <tr style=\"text-align: right;\">\n",
       "      <th>아이스크림</th>\n",
       "      <th>딸기</th>\n",
       "      <th>바닐라</th>\n",
       "      <th>초코</th>\n",
       "    </tr>\n",
       "    <tr>\n",
       "      <th>연령</th>\n",
       "      <th></th>\n",
       "      <th></th>\n",
       "      <th></th>\n",
       "    </tr>\n",
       "  </thead>\n",
       "  <tbody>\n",
       "    <tr>\n",
       "      <th>10대</th>\n",
       "      <td>200</td>\n",
       "      <td>250</td>\n",
       "      <td>190</td>\n",
       "    </tr>\n",
       "    <tr>\n",
       "      <th>20대</th>\n",
       "      <td>220</td>\n",
       "      <td>300</td>\n",
       "      <td>250</td>\n",
       "    </tr>\n",
       "  </tbody>\n",
       "</table>\n",
       "</div>"
      ],
      "text/plain": [
       "아이스크림   딸기  바닐라   초코\n",
       "연령                  \n",
       "10대    200  250  190\n",
       "20대    220  300  250"
      ]
     },
     "execution_count": 80,
     "metadata": {},
     "output_type": "execute_result"
    }
   ],
   "source": [
    "# pd.crosstab 활용 데이터프레임 형태 변경\n",
    "# pd.crosstab(index= , columns= , values=, aggfunc=sum)\n",
    "\n",
    "# index와 columns 순서 꼭 확인하기 (순서에 따라 값이 다르게 출력!)\n",
    "# df1 = pd.crosstab(index=df['연령'], columns=df['아이스크림'], values=df['인원'], aggfunc=sum)\n",
    "df1 = pd.crosstab(df['연령'], df['아이스크림'], df['인원'], aggfunc=sum)\n",
    "\n",
    "df1"
   ]
  },
  {
   "cell_type": "code",
   "execution_count": 81,
   "metadata": {},
   "outputs": [
    {
     "name": "stdout",
     "output_type": "stream",
     "text": [
      "1.708360126075226\n",
      "0.4256320394874311\n",
      "2\n",
      "[[190.64 249.65 199.72]\n",
      " [229.36 300.35 240.28]]\n"
     ]
    }
   ],
   "source": [
    "# 동일하게 검정 실시\n",
    "\n",
    "statistic, pvalue, dof, expected = chi2_contingency(df1)\n",
    "\n",
    "print(statistic)\n",
    "print(pvalue)\n",
    "print(dof)  # 자유도 = (행-1)(열-1)\n",
    "print(np.round(expected,2))"
   ]
  },
  {
   "cell_type": "markdown",
   "metadata": {},
   "source": [
    "문제2-2\n",
    "\n",
    "타이타닉 데이터에서 성별(sex)와 생존여부(survived) 변수 간 독립성 검정을 실시하시오."
   ]
  },
  {
   "cell_type": "code",
   "execution_count": 82,
   "metadata": {},
   "outputs": [
    {
     "name": "stdout",
     "output_type": "stream",
     "text": [
      "<class 'pandas.core.frame.DataFrame'>\n",
      "RangeIndex: 891 entries, 0 to 890\n",
      "Data columns (total 15 columns):\n",
      " #   Column       Non-Null Count  Dtype   \n",
      "---  ------       --------------  -----   \n",
      " 0   survived     891 non-null    int64   \n",
      " 1   pclass       891 non-null    int64   \n",
      " 2   sex          891 non-null    object  \n",
      " 3   age          714 non-null    float64 \n",
      " 4   sibsp        891 non-null    int64   \n",
      " 5   parch        891 non-null    int64   \n",
      " 6   fare         891 non-null    float64 \n",
      " 7   embarked     889 non-null    object  \n",
      " 8   class        891 non-null    category\n",
      " 9   who          891 non-null    object  \n",
      " 10  adult_male   891 non-null    bool    \n",
      " 11  deck         203 non-null    category\n",
      " 12  embark_town  889 non-null    object  \n",
      " 13  alive        891 non-null    object  \n",
      " 14  alone        891 non-null    bool    \n",
      "dtypes: bool(2), category(2), float64(2), int64(4), object(5)\n",
      "memory usage: 80.7+ KB\n"
     ]
    }
   ],
   "source": [
    "import seaborn as sns\n",
    "\n",
    "df = sns.load_dataset('titanic')\n",
    "\n",
    "df.info()"
   ]
  },
  {
   "cell_type": "code",
   "execution_count": 83,
   "metadata": {},
   "outputs": [
    {
     "data": {
      "text/html": [
       "<div>\n",
       "<style scoped>\n",
       "    .dataframe tbody tr th:only-of-type {\n",
       "        vertical-align: middle;\n",
       "    }\n",
       "\n",
       "    .dataframe tbody tr th {\n",
       "        vertical-align: top;\n",
       "    }\n",
       "\n",
       "    .dataframe thead th {\n",
       "        text-align: right;\n",
       "    }\n",
       "</style>\n",
       "<table border=\"1\" class=\"dataframe\">\n",
       "  <thead>\n",
       "    <tr style=\"text-align: right;\">\n",
       "      <th></th>\n",
       "      <th>survived</th>\n",
       "      <th>pclass</th>\n",
       "      <th>sex</th>\n",
       "      <th>age</th>\n",
       "      <th>sibsp</th>\n",
       "      <th>parch</th>\n",
       "      <th>fare</th>\n",
       "      <th>embarked</th>\n",
       "      <th>class</th>\n",
       "      <th>who</th>\n",
       "      <th>adult_male</th>\n",
       "      <th>deck</th>\n",
       "      <th>embark_town</th>\n",
       "      <th>alive</th>\n",
       "      <th>alone</th>\n",
       "    </tr>\n",
       "  </thead>\n",
       "  <tbody>\n",
       "    <tr>\n",
       "      <th>0</th>\n",
       "      <td>0</td>\n",
       "      <td>3</td>\n",
       "      <td>male</td>\n",
       "      <td>22.0</td>\n",
       "      <td>1</td>\n",
       "      <td>0</td>\n",
       "      <td>7.2500</td>\n",
       "      <td>S</td>\n",
       "      <td>Third</td>\n",
       "      <td>man</td>\n",
       "      <td>True</td>\n",
       "      <td>NaN</td>\n",
       "      <td>Southampton</td>\n",
       "      <td>no</td>\n",
       "      <td>False</td>\n",
       "    </tr>\n",
       "    <tr>\n",
       "      <th>1</th>\n",
       "      <td>1</td>\n",
       "      <td>1</td>\n",
       "      <td>female</td>\n",
       "      <td>38.0</td>\n",
       "      <td>1</td>\n",
       "      <td>0</td>\n",
       "      <td>71.2833</td>\n",
       "      <td>C</td>\n",
       "      <td>First</td>\n",
       "      <td>woman</td>\n",
       "      <td>False</td>\n",
       "      <td>C</td>\n",
       "      <td>Cherbourg</td>\n",
       "      <td>yes</td>\n",
       "      <td>False</td>\n",
       "    </tr>\n",
       "    <tr>\n",
       "      <th>2</th>\n",
       "      <td>1</td>\n",
       "      <td>3</td>\n",
       "      <td>female</td>\n",
       "      <td>26.0</td>\n",
       "      <td>0</td>\n",
       "      <td>0</td>\n",
       "      <td>7.9250</td>\n",
       "      <td>S</td>\n",
       "      <td>Third</td>\n",
       "      <td>woman</td>\n",
       "      <td>False</td>\n",
       "      <td>NaN</td>\n",
       "      <td>Southampton</td>\n",
       "      <td>yes</td>\n",
       "      <td>True</td>\n",
       "    </tr>\n",
       "    <tr>\n",
       "      <th>3</th>\n",
       "      <td>1</td>\n",
       "      <td>1</td>\n",
       "      <td>female</td>\n",
       "      <td>35.0</td>\n",
       "      <td>1</td>\n",
       "      <td>0</td>\n",
       "      <td>53.1000</td>\n",
       "      <td>S</td>\n",
       "      <td>First</td>\n",
       "      <td>woman</td>\n",
       "      <td>False</td>\n",
       "      <td>C</td>\n",
       "      <td>Southampton</td>\n",
       "      <td>yes</td>\n",
       "      <td>False</td>\n",
       "    </tr>\n",
       "    <tr>\n",
       "      <th>4</th>\n",
       "      <td>0</td>\n",
       "      <td>3</td>\n",
       "      <td>male</td>\n",
       "      <td>35.0</td>\n",
       "      <td>0</td>\n",
       "      <td>0</td>\n",
       "      <td>8.0500</td>\n",
       "      <td>S</td>\n",
       "      <td>Third</td>\n",
       "      <td>man</td>\n",
       "      <td>True</td>\n",
       "      <td>NaN</td>\n",
       "      <td>Southampton</td>\n",
       "      <td>no</td>\n",
       "      <td>True</td>\n",
       "    </tr>\n",
       "  </tbody>\n",
       "</table>\n",
       "</div>"
      ],
      "text/plain": [
       "   survived  pclass     sex   age  sibsp  parch     fare embarked  class  \\\n",
       "0         0       3    male  22.0      1      0   7.2500        S  Third   \n",
       "1         1       1  female  38.0      1      0  71.2833        C  First   \n",
       "2         1       3  female  26.0      0      0   7.9250        S  Third   \n",
       "3         1       1  female  35.0      1      0  53.1000        S  First   \n",
       "4         0       3    male  35.0      0      0   8.0500        S  Third   \n",
       "\n",
       "     who  adult_male deck  embark_town alive  alone  \n",
       "0    man        True  NaN  Southampton    no  False  \n",
       "1  woman       False    C    Cherbourg   yes  False  \n",
       "2  woman       False  NaN  Southampton   yes   True  \n",
       "3  woman       False    C  Southampton   yes  False  \n",
       "4    man        True  NaN  Southampton    no   True  "
      ]
     },
     "execution_count": 83,
     "metadata": {},
     "output_type": "execute_result"
    }
   ],
   "source": [
    "df.head()"
   ]
  },
  {
   "cell_type": "code",
   "execution_count": 84,
   "metadata": {},
   "outputs": [
    {
     "name": "stdout",
     "output_type": "stream",
     "text": [
      "survived    0    1\n",
      "sex               \n",
      "female     81  233\n",
      "male      468  109\n"
     ]
    }
   ],
   "source": [
    "df1 = pd.crosstab(index=df['sex'],columns=df['survived'])\n",
    "\n",
    "print(df1)"
   ]
  },
  {
   "cell_type": "markdown",
   "metadata": {},
   "source": [
    "카이제곱 검정\n",
    "- 귀무가설(H0) : 성별과 생존여부는 관계가 없다\n",
    "- 대립가설(H1) : 성별과 생존여부는 관계가 있다"
   ]
  },
  {
   "cell_type": "code",
   "execution_count": 85,
   "metadata": {},
   "outputs": [
    {
     "name": "stdout",
     "output_type": "stream",
     "text": [
      "260.71702016732104\n",
      "1.1973570627755645e-58\n",
      "1\n",
      "[[193.475 120.525]\n",
      " [355.525 221.475]]\n",
      "성별과 생존여부는 서로 관련이 있다 (귀무가설 기각 H1)\n"
     ]
    }
   ],
   "source": [
    "statistic, pvalue, dof, expected = chi2_contingency(df1)\n",
    "\n",
    "print(statistic)\n",
    "print(pvalue)\n",
    "print(dof)\n",
    "print(np.round(expected,3))\n",
    "\n",
    "if pvalue > 0.05 :\n",
    "  print('성별과 생존여부는 서로 관련이 없다 (귀무가설 채택 H0)')\n",
    "else :\n",
    "  print(\"성별과 생존여부는 서로 관련이 있다 (귀무가설 기각 H1)\")"
   ]
  },
  {
   "cell_type": "code",
   "execution_count": 86,
   "metadata": {},
   "outputs": [
    {
     "data": {
      "text/html": [
       "<div>\n",
       "<style scoped>\n",
       "    .dataframe tbody tr th:only-of-type {\n",
       "        vertical-align: middle;\n",
       "    }\n",
       "\n",
       "    .dataframe tbody tr th {\n",
       "        vertical-align: top;\n",
       "    }\n",
       "\n",
       "    .dataframe thead th {\n",
       "        text-align: right;\n",
       "    }\n",
       "</style>\n",
       "<table border=\"1\" class=\"dataframe\">\n",
       "  <thead>\n",
       "    <tr style=\"text-align: right;\">\n",
       "      <th></th>\n",
       "      <th>0</th>\n",
       "      <th>1</th>\n",
       "    </tr>\n",
       "  </thead>\n",
       "  <tbody>\n",
       "    <tr>\n",
       "      <th>female</th>\n",
       "      <td>160</td>\n",
       "      <td>160</td>\n",
       "    </tr>\n",
       "    <tr>\n",
       "      <th>male</th>\n",
       "      <td>250</td>\n",
       "      <td>220</td>\n",
       "    </tr>\n",
       "  </tbody>\n",
       "</table>\n",
       "</div>"
      ],
      "text/plain": [
       "          0    1\n",
       "female  160  160\n",
       "male    250  220"
      ]
     },
     "execution_count": 86,
     "metadata": {},
     "output_type": "execute_result"
    }
   ],
   "source": [
    "# 임의 데이터 생성\n",
    "\n",
    "row1, row2 =  [160,160], [250,220]\n",
    "\n",
    "df = pd.DataFrame([row1,row2], columns=['0','1'], index=['female','male'])\n",
    "\n",
    "df"
   ]
  },
  {
   "cell_type": "code",
   "execution_count": 88,
   "metadata": {},
   "outputs": [
    {
     "name": "stdout",
     "output_type": "stream",
     "text": [
      "0.6541895872879862\n",
      "0.41861876333789727\n",
      "1\n",
      "[[166.076 153.924]\n",
      " [243.924 226.076]]\n",
      "성별과 생존여부는 서로 관계가 없다(영향이 없다) 귀무가설 채택\n"
     ]
    }
   ],
   "source": [
    "# 카이제곱 검정 및 데이터 확인\n",
    "\n",
    "statistic, pvalue, dof, expected = chi2_contingency(df)\n",
    "\n",
    "print(statistic)\n",
    "print(pvalue)\n",
    "print(dof)\n",
    "print(np.round(expected,3))\n",
    "\n",
    "if pvalue > 0.05 :\n",
    "  print('성별과 생존여부는 서로 관계가 없다(영향이 없다) 귀무가설 채택')\n",
    "else :\n",
    "  print('성별과 생존여부는 서로 관계가 있다(영향이 있다) 귀무가설 기각')"
   ]
  },
  {
   "cell_type": "code",
   "execution_count": null,
   "metadata": {},
   "outputs": [],
   "source": []
  }
 ],
 "metadata": {
  "kernelspec": {
   "display_name": "Python 3",
   "language": "python",
   "name": "python3"
  },
  "language_info": {
   "codemirror_mode": {
    "name": "ipython",
    "version": 3
   },
   "file_extension": ".py",
   "mimetype": "text/x-python",
   "name": "python",
   "nbconvert_exporter": "python",
   "pygments_lexer": "ipython3",
   "version": "3.11.1"
  }
 },
 "nbformat": 4,
 "nbformat_minor": 2
}
