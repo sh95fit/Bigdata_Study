{
 "cells": [
  {
   "cell_type": "code",
   "execution_count": 268,
   "metadata": {},
   "outputs": [],
   "source": [
    "import pandas as pd\n",
    "import numpy as np\n",
    "\n",
    "import datetime as dt\n",
    "\n",
    "from scipy.stats import ttest_ind, ttest_rel, ttest_1samp\n",
    "from scipy.stats import f_oneway, pearsonr, chisquare, chi2_contingency\n",
    "from scipy.stats import shapiro, levene, bartlett"
   ]
  },
  {
   "cell_type": "code",
   "execution_count": 269,
   "metadata": {},
   "outputs": [
    {
     "data": {
      "text/html": [
       "<div>\n",
       "<style scoped>\n",
       "    .dataframe tbody tr th:only-of-type {\n",
       "        vertical-align: middle;\n",
       "    }\n",
       "\n",
       "    .dataframe tbody tr th {\n",
       "        vertical-align: top;\n",
       "    }\n",
       "\n",
       "    .dataframe thead th {\n",
       "        text-align: right;\n",
       "    }\n",
       "</style>\n",
       "<table border=\"1\" class=\"dataframe\">\n",
       "  <thead>\n",
       "    <tr style=\"text-align: right;\">\n",
       "      <th></th>\n",
       "      <th>구급보고서번호</th>\n",
       "      <th>소방서명</th>\n",
       "      <th>환자증상구분명1</th>\n",
       "      <th>신고일자</th>\n",
       "      <th>신고시각</th>\n",
       "      <th>출동일자</th>\n",
       "      <th>출동시각</th>\n",
       "      <th>환자직업명</th>\n",
       "      <th>사고발생장소</th>\n",
       "    </tr>\n",
       "  </thead>\n",
       "  <tbody>\n",
       "    <tr>\n",
       "      <th>0</th>\n",
       "      <td>20211122103M01526</td>\n",
       "      <td>중랑소방서</td>\n",
       "      <td>심계항진</td>\n",
       "      <td>20210330</td>\n",
       "      <td>104800</td>\n",
       "      <td>20210330</td>\n",
       "      <td>105042</td>\n",
       "      <td>무직</td>\n",
       "      <td>집</td>\n",
       "    </tr>\n",
       "    <tr>\n",
       "      <th>1</th>\n",
       "      <td>20211111105M00771</td>\n",
       "      <td>노원소방서</td>\n",
       "      <td>복통</td>\n",
       "      <td>20210412</td>\n",
       "      <td>225600</td>\n",
       "      <td>20210412</td>\n",
       "      <td>225827</td>\n",
       "      <td>기타</td>\n",
       "      <td>집</td>\n",
       "    </tr>\n",
       "    <tr>\n",
       "      <th>2</th>\n",
       "      <td>20211115104M00864</td>\n",
       "      <td>서초소방서</td>\n",
       "      <td>심계항진</td>\n",
       "      <td>20210303</td>\n",
       "      <td>194100</td>\n",
       "      <td>20210303</td>\n",
       "      <td>194500</td>\n",
       "      <td>직장인</td>\n",
       "      <td>상업시설</td>\n",
       "    </tr>\n",
       "    <tr>\n",
       "      <th>3</th>\n",
       "      <td>20211113107M01869</td>\n",
       "      <td>마포소방서</td>\n",
       "      <td>고열</td>\n",
       "      <td>20211225</td>\n",
       "      <td>235400</td>\n",
       "      <td>20211226</td>\n",
       "      <td>331</td>\n",
       "      <td>유아</td>\n",
       "      <td>집</td>\n",
       "    </tr>\n",
       "    <tr>\n",
       "      <th>4</th>\n",
       "      <td>20211118102M05820</td>\n",
       "      <td>강동소방서</td>\n",
       "      <td>고열</td>\n",
       "      <td>20211019</td>\n",
       "      <td>12100</td>\n",
       "      <td>20211019</td>\n",
       "      <td>12322</td>\n",
       "      <td>무직</td>\n",
       "      <td>집</td>\n",
       "    </tr>\n",
       "  </tbody>\n",
       "</table>\n",
       "</div>"
      ],
      "text/plain": [
       "             구급보고서번호   소방서명 환자증상구분명1      신고일자    신고시각      출동일자    출동시각  \\\n",
       "0  20211122103M01526  중랑소방서     심계항진  20210330  104800  20210330  105042   \n",
       "1  20211111105M00771  노원소방서       복통  20210412  225600  20210412  225827   \n",
       "2  20211115104M00864  서초소방서     심계항진  20210303  194100  20210303  194500   \n",
       "3  20211113107M01869  마포소방서       고열  20211225  235400  20211226     331   \n",
       "4  20211118102M05820  강동소방서       고열  20211019   12100  20211019   12322   \n",
       "\n",
       "  환자직업명 사고발생장소  \n",
       "0    무직      집  \n",
       "1    기타      집  \n",
       "2   직장인   상업시설  \n",
       "3    유아      집  \n",
       "4    무직      집  "
      ]
     },
     "execution_count": 269,
     "metadata": {},
     "output_type": "execute_result"
    }
   ],
   "source": [
    "# 데이터 불러오기\n",
    "df = pd.read_csv('https://raw.githubusercontent.com/Datamanim/datarepo/main/krdatacertificate/e6_p1_1.csv')\n",
    "\n",
    "df.head()"
   ]
  },
  {
   "cell_type": "code",
   "execution_count": 270,
   "metadata": {},
   "outputs": [
    {
     "name": "stdout",
     "output_type": "stream",
     "text": [
      "0    20210330104800\n",
      "1    20210412225600\n",
      "2    20210303194100\n",
      "3    20211225235400\n",
      "4    20211019012100\n",
      "5    20210810122800\n",
      "6    20211024091500\n",
      "7    20210315235900\n",
      "8    20210228091500\n",
      "9    20210729124900\n",
      "Name: 신고_DATE, dtype: object\n"
     ]
    }
   ],
   "source": [
    "df['신고일자'] = df['신고일자'].astype('str')\n",
    "df['신고시각'] = df['신고시각'].astype('str')\n",
    "\n",
    "df['신고시각'] = df['신고시각'].map(lambda x:str(x).zfill(6))\n",
    "\n",
    "df['신고_DATE'] = df['신고일자'] + df['신고시각']\n",
    "\n",
    "print(df['신고_DATE'].head(10))"
   ]
  },
  {
   "cell_type": "code",
   "execution_count": 271,
   "metadata": {},
   "outputs": [
    {
     "name": "stdout",
     "output_type": "stream",
     "text": [
      "0    20210330105042\n",
      "1    20210412225827\n",
      "2    20210303194500\n",
      "3    20211226000331\n",
      "4    20211019012322\n",
      "5    20210810122900\n",
      "6    20211024091725\n",
      "7    20210316000239\n",
      "8    20210228091900\n",
      "9    20210729125146\n",
      "Name: 출동_DATE, dtype: object\n"
     ]
    }
   ],
   "source": [
    "df['출동일자'] = df['출동일자'].astype('str')\n",
    "df['출동시각'] = df['출동시각'].astype('str')\n",
    "\n",
    "df['출동시각'] = df['출동시각'].map(lambda x:str(x).zfill(6))\n",
    "\n",
    "df['출동_DATE'] = df['출동일자'] + df['출동시각']\n",
    "\n",
    "print(df['출동_DATE'].head(10))"
   ]
  },
  {
   "cell_type": "code",
   "execution_count": 272,
   "metadata": {},
   "outputs": [
    {
     "name": "stdout",
     "output_type": "stream",
     "text": [
      "<class 'pandas.core.frame.DataFrame'>\n",
      "RangeIndex: 2762 entries, 0 to 2761\n",
      "Data columns (total 11 columns):\n",
      " #   Column    Non-Null Count  Dtype \n",
      "---  ------    --------------  ----- \n",
      " 0   구급보고서번호   2762 non-null   object\n",
      " 1   소방서명      2762 non-null   object\n",
      " 2   환자증상구분명1  2762 non-null   object\n",
      " 3   신고일자      2762 non-null   object\n",
      " 4   신고시각      2762 non-null   object\n",
      " 5   출동일자      2762 non-null   object\n",
      " 6   출동시각      2762 non-null   object\n",
      " 7   환자직업명     2762 non-null   object\n",
      " 8   사고발생장소    2762 non-null   object\n",
      " 9   신고_DATE   2762 non-null   object\n",
      " 10  출동_DATE   2762 non-null   object\n",
      "dtypes: object(11)\n",
      "memory usage: 237.5+ KB\n"
     ]
    }
   ],
   "source": [
    "df.info()"
   ]
  },
  {
   "cell_type": "markdown",
   "metadata": {},
   "source": [
    "##### 문제 1-1\n",
    "- 각 구급보고서별 출동시각과 신고시각의 차이 -> '소요시간' 컬럼으로 추가 (초 단위)\n",
    "- 소방서별 소요시간의 평균을 오름차순으로 정렬했을 때\n",
    "- 3번째로 작은 소요시간 값과 소방서명을 출력하라"
   ]
  },
  {
   "cell_type": "code",
   "execution_count": 273,
   "metadata": {},
   "outputs": [],
   "source": [
    "df['신고_DATE'] = pd.to_datetime(df['신고_DATE'])\n",
    "df['출동_DATE'] = pd.to_datetime(df['출동_DATE'])\n",
    "\n",
    "df['소요시각'] = df['출동_DATE']-df['신고_DATE']"
   ]
  },
  {
   "cell_type": "code",
   "execution_count": 274,
   "metadata": {},
   "outputs": [
    {
     "name": "stdout",
     "output_type": "stream",
     "text": [
      "['종로소방서' Timedelta('0 days 00:02:55.500000')]\n"
     ]
    }
   ],
   "source": [
    "# df['소요시각'] = (\n",
    "#                 pd.to_datetime(\n",
    "#                     df['출동일자'].astype('str') + df['출동시각'].astype('str').str.zfill(6)\n",
    "#                 )\n",
    "\n",
    "#                 - \n",
    "    \n",
    "#                 pd.to_datetime(\n",
    "#                     df['신고일자'].astype('str') + df['신고시각'].astype('str').str.zfill(6)\n",
    "#                 )\n",
    "#                 ).dt.total_seconds()\n",
    "\n",
    "\n",
    "result = df.groupby(['소방서명'])['소요시각'].mean().sort_values().reset_index().iloc[2].values\n",
    "print(result)"
   ]
  }
 ],
 "metadata": {
  "kernelspec": {
   "display_name": "Python 3",
   "language": "python",
   "name": "python3"
  },
  "language_info": {
   "codemirror_mode": {
    "name": "ipython",
    "version": 3
   },
   "file_extension": ".py",
   "mimetype": "text/x-python",
   "name": "python",
   "nbconvert_exporter": "python",
   "pygments_lexer": "ipython3",
   "version": "3.11.0"
  }
 },
 "nbformat": 4,
 "nbformat_minor": 2
}
