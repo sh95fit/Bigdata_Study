{
 "cells": [
  {
   "cell_type": "code",
   "execution_count": 50,
   "metadata": {},
   "outputs": [],
   "source": [
    "import pandas as pd\n",
    "import numpy as np\n",
    "\n",
    "from sklearn.preprocessing import MinMaxScaler, StandardScaler\n",
    "\n",
    "from sklearn.model_selection import train_test_split\n",
    "\n",
    "from sklearn.ensemble import RandomForestClassifier, RandomForestRegressor\n",
    "\n",
    "from sklearn.metrics import accuracy_score, f1_score, recall_score, precision_score, roc_auc_score\n",
    "from sklearn.metrics import r2_score, mean_squared_error\n",
    "\n",
    "from scipy.stats import ttest_1samp, ttest_ind, ttest_rel, shapiro, levene, f_oneway, wilcoxon, mannwhitneyu\n",
    "\n",
    "from sklearn.linear_model import LinearRegression, LogisticRegression"
   ]
  },
  {
   "cell_type": "markdown",
   "metadata": {},
   "source": [
    "#### 제3유형. 모집단 1개 (집단의 평균 vs 특정값)\n",
    "\n",
    "검정방법\n",
    "1) 정규성 O : 단일표본 검정(ttest_1samp)  (모수 검정)\n",
    "2) 정규성 X : 윌콕슨 부호순위 검정  (비모수 검정)"
   ]
  },
  {
   "cell_type": "markdown",
   "metadata": {},
   "source": [
    "가설검정 순서\n",
    "\n",
    "1) 가설 설정\n",
    "2) 유의수준 확인\n",
    "3) 정규성 검정\n",
    "4) 검정 실시 (통계량, p-value)\n",
    "5) 귀무가설 기각 여부 결정"
   ]
  },
  {
   "cell_type": "code",
   "execution_count": 51,
   "metadata": {},
   "outputs": [
    {
     "data": {
      "text/html": [
       "<div>\n",
       "<style scoped>\n",
       "    .dataframe tbody tr th:only-of-type {\n",
       "        vertical-align: middle;\n",
       "    }\n",
       "\n",
       "    .dataframe tbody tr th {\n",
       "        vertical-align: top;\n",
       "    }\n",
       "\n",
       "    .dataframe thead th {\n",
       "        text-align: right;\n",
       "    }\n",
       "</style>\n",
       "<table border=\"1\" class=\"dataframe\">\n",
       "  <thead>\n",
       "    <tr style=\"text-align: right;\">\n",
       "      <th></th>\n",
       "      <th>car</th>\n",
       "      <th>mpg</th>\n",
       "      <th>cyl</th>\n",
       "      <th>disp</th>\n",
       "      <th>hp</th>\n",
       "      <th>drat</th>\n",
       "      <th>wt</th>\n",
       "      <th>qsec</th>\n",
       "      <th>vs</th>\n",
       "      <th>am</th>\n",
       "      <th>gear</th>\n",
       "      <th>carb</th>\n",
       "    </tr>\n",
       "  </thead>\n",
       "  <tbody>\n",
       "    <tr>\n",
       "      <th>0</th>\n",
       "      <td>Mazda RX4</td>\n",
       "      <td>21.0</td>\n",
       "      <td>6</td>\n",
       "      <td>160.0</td>\n",
       "      <td>110</td>\n",
       "      <td>3.90</td>\n",
       "      <td>2.620</td>\n",
       "      <td>16.46</td>\n",
       "      <td>0</td>\n",
       "      <td>1</td>\n",
       "      <td>4</td>\n",
       "      <td>4</td>\n",
       "    </tr>\n",
       "    <tr>\n",
       "      <th>1</th>\n",
       "      <td>Mazda RX4 Wag</td>\n",
       "      <td>21.0</td>\n",
       "      <td>6</td>\n",
       "      <td>160.0</td>\n",
       "      <td>110</td>\n",
       "      <td>3.90</td>\n",
       "      <td>2.875</td>\n",
       "      <td>17.02</td>\n",
       "      <td>0</td>\n",
       "      <td>1</td>\n",
       "      <td>4</td>\n",
       "      <td>4</td>\n",
       "    </tr>\n",
       "    <tr>\n",
       "      <th>2</th>\n",
       "      <td>Datsun 710</td>\n",
       "      <td>22.8</td>\n",
       "      <td>4</td>\n",
       "      <td>108.0</td>\n",
       "      <td>93</td>\n",
       "      <td>3.85</td>\n",
       "      <td>2.320</td>\n",
       "      <td>18.61</td>\n",
       "      <td>1</td>\n",
       "      <td>1</td>\n",
       "      <td>4</td>\n",
       "      <td>1</td>\n",
       "    </tr>\n",
       "  </tbody>\n",
       "</table>\n",
       "</div>"
      ],
      "text/plain": [
       "             car   mpg  cyl   disp   hp  drat     wt   qsec  vs  am  gear  \\\n",
       "0      Mazda RX4  21.0    6  160.0  110  3.90  2.620  16.46   0   1     4   \n",
       "1  Mazda RX4 Wag  21.0    6  160.0  110  3.90  2.875  17.02   0   1     4   \n",
       "2     Datsun 710  22.8    4  108.0   93  3.85  2.320  18.61   1   1     4   \n",
       "\n",
       "   carb  \n",
       "0     4  \n",
       "1     4  \n",
       "2     1  "
      ]
     },
     "execution_count": 51,
     "metadata": {},
     "output_type": "execute_result"
    }
   ],
   "source": [
    "df = pd.read_csv('mtcars.csv', encoding='cp949')\n",
    "\n",
    "df.rename(columns={'Unnamed: 0':'car'}, inplace=True)\n",
    "\n",
    "df.head(3)"
   ]
  },
  {
   "cell_type": "code",
   "execution_count": 55,
   "metadata": {},
   "outputs": [
    {
     "name": "stdout",
     "output_type": "stream",
     "text": [
      "검정통계량 :  0.9475648403167725\n",
      "p_value :  0.1228824257850647\n",
      "정규성을 따른다\n",
      "검정통계량 :  0.08506003568133688\n",
      "p_value :  0.9327606409093872\n",
      "모평균 = 20 (귀무가설 채택)\n",
      "실제 평균 값 :  20.0906\n"
     ]
    }
   ],
   "source": [
    "# 예제 문제 1\n",
    "# mtcars 데이터셋의 mpg열 데이터의 평균이 20과 같다고 할 수 있는지 검정하시오. (유의수준 5%)\n",
    "\n",
    "# 귀무가설(H0) : 모평균 = 20\n",
    "# 대립가설(H1) : 모평균 <> 20\n",
    "\n",
    "# 정규성 검정 (by shapiro)\n",
    "\n",
    "# 귀무가설(H0) : 정규성을 따른다\n",
    "# 대립가설(H1) : 정규성을 따르지 않는다\n",
    "\n",
    "n_s, n_pvalue = shapiro(df['mpg'])\n",
    "print(\"검정통계량 : \", n_s)\n",
    "print(\"p_value : \", n_pvalue)\n",
    "\n",
    "if n_pvalue > 0.05 :\n",
    "  print(\"정규성을 따른다\")\n",
    "else :\n",
    "  print(\"정규성을 따르지 않는다\")\n",
    "\n",
    "\n",
    "t, p_value = ttest_1samp(df['mpg'], popmean=20, alternative='two-sided')\n",
    "\n",
    "print(\"검정통계량 : \", t)\n",
    "print(\"p_value : \", p_value)\n",
    "\n",
    "if p_value > 0.05 :\n",
    "  print(\"모평균 = 20 (귀무가설 채택)\")\n",
    "else :\n",
    "  print(\"모평균 <> 20 (대립가설 채택)\")\n",
    "\n",
    "print(\"실제 평균 값 : \", round(df['mpg'].mean(),4))"
   ]
  },
  {
   "cell_type": "code",
   "execution_count": 53,
   "metadata": {},
   "outputs": [
    {
     "name": "stdout",
     "output_type": "stream",
     "text": [
      "249.0 0.7891\n"
     ]
    }
   ],
   "source": [
    "# 만약 정규성을 따르지 않는 경우! 비모수 검정 사용 (윌콕슨 부호순위 검정)\n",
    "statistic, pvalue = wilcoxon(df['mpg']-20, alternative='two-sided')\n",
    "print(round(statistic, 4), f\"{pvalue:.4f}\")"
   ]
  },
  {
   "cell_type": "code",
   "execution_count": 59,
   "metadata": {},
   "outputs": [
    {
     "name": "stdout",
     "output_type": "stream",
     "text": [
      "정규성을 따른다\n",
      "2.9008 0.0034\n",
      "평균이 17보다 크다\n"
     ]
    }
   ],
   "source": [
    "# 예상 문제 2 (단측검정)\n",
    "# mtcars 데이터셋의 mpg 열 데이터의 평균이 17보다 크다고 할 수 있는지 검정하시오 (유의수준 5%)\n",
    "\n",
    "# 귀무가설(H0) : 모평균 <= 17\n",
    "# 대립가설(H1) : 모평균 > 17\n",
    "\n",
    "n_statistic, n_pvalue = shapiro(df['mpg'])\n",
    "if n_pvalue > 0.05 :\n",
    "  print(\"정규성을 따른다\")\n",
    "else :\n",
    "  print(\"정규성을 따르지 않는다\")\n",
    "\n",
    "\n",
    "statistic, pvalue = ttest_1samp(df['mpg'], popmean=17, alternative=\"greater\")\n",
    "\n",
    "print(round(statistic,4), round(pvalue,4))\n",
    "if pvalue > 0.05 :\n",
    "  print(\"평균이 17보다 작거나 같다\")\n",
    "else :\n",
    "  print(\"평균이 17보다 크다\")"
   ]
  },
  {
   "cell_type": "code",
   "execution_count": 62,
   "metadata": {},
   "outputs": [
    {
     "name": "stdout",
     "output_type": "stream",
     "text": [
      "395.5 0.0066\n",
      "평균이 17보다 크다\n"
     ]
    }
   ],
   "source": [
    "# 정규성을 만족하지 않는 경우\n",
    "\n",
    "nx_statistic, nx_pvalue = wilcoxon(df['mpg']-17, alternative='greater')\n",
    "print(round(nx_statistic,4), round(nx_pvalue,4))\n",
    "if nx_pvalue > 0.05 :\n",
    "  print(\"평균이 17보다 작거나 크다\")\n",
    "else :\n",
    "  print(\"평균이 17보다 크다\")"
   ]
  },
  {
   "cell_type": "code",
   "execution_count": 64,
   "metadata": {},
   "outputs": [
    {
     "name": "stdout",
     "output_type": "stream",
     "text": [
      "0.9476 0.1229\n",
      "2.9008 0.9966\n",
      "평균이 17보다 크거나 같다\n"
     ]
    }
   ],
   "source": [
    "# 예상 문제 3\n",
    "# mtcars 데이터셋의 mpg열 데이터의 평균이 17보다 작다고 할 수 있는지 검정하시오 (유의수준 5%)\n",
    "\n",
    "# 귀무가설(H0) : 평균이 17보다 크거나 같다\n",
    "# 대립가설(H1) : 평균이 17보다 작다\n",
    "\n",
    "n_statistic, n_pvalue = shapiro(df['mpg'])\n",
    "print(round(n_statistic,4), round(n_pvalue,4))\n",
    "\n",
    "statistic, pvalue = ttest_1samp(df['mpg'], 17, alternative='less')\n",
    "print(round(statistic,4),round(pvalue,4))\n",
    "\n",
    "if pvalue > 0.05 :\n",
    "  print(\"평균이 17보다 크거나 같다\")\n",
    "else :\n",
    "  print(\"평균이 17보다 작다\")\n"
   ]
  },
  {
   "cell_type": "code",
   "execution_count": 65,
   "metadata": {},
   "outputs": [
    {
     "name": "stdout",
     "output_type": "stream",
     "text": [
      "395.5 0.9938\n"
     ]
    }
   ],
   "source": [
    "# 정규성을 만족하지 않을 경우\n",
    "\n",
    "nx_statistic, nx_pvalue = wilcoxon(df['mpg']-17, alternative='less')\n",
    "\n",
    "print(round(nx_statistic,4), round(nx_pvalue,4))"
   ]
  }
 ],
 "metadata": {
  "kernelspec": {
   "display_name": "Python 3",
   "language": "python",
   "name": "python3"
  },
  "language_info": {
   "codemirror_mode": {
    "name": "ipython",
    "version": 3
   },
   "file_extension": ".py",
   "mimetype": "text/x-python",
   "name": "python",
   "nbconvert_exporter": "python",
   "pygments_lexer": "ipython3",
   "version": "3.11.1"
  }
 },
 "nbformat": 4,
 "nbformat_minor": 2
}
