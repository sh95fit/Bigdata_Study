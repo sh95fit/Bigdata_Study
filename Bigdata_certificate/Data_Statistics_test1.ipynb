{
 "cells": [
  {
   "cell_type": "code",
   "execution_count": 43,
   "metadata": {},
   "outputs": [],
   "source": [
    "import pandas as pd\n",
    "import numpy as np\n",
    "\n",
    "from scipy.stats import ttest_1samp, ttest_ind, ttest_rel, shapiro, wilcoxon, mannwhitneyu, f_oneway, pearsonr, chisquare, chi2_contingency, ranksums, levene, bartlett, kruskal"
   ]
  },
  {
   "cell_type": "markdown",
   "metadata": {},
   "source": [
    "#### 제3유형 모집단 2개\n",
    "\n",
    "검정방법\n",
    "\n",
    "1. 대응표본(쌍체) : 동일한 객체의 전 vs 후 평균 비교\n",
    "  - 정규성 O : 대응표본 t-test(paired t-test)  - ttest_rel 사용\n",
    "  - 정규성 X : 윌콕슨 부호순위 검정 - wilcoxon\n",
    "  \n",
    "2. 독립표본 : A집단 평균 vs B집단 평균\n",
    "  - 정규성 O : 독립표본 t-test - ttest_ind 사용\n",
    "  - 정규성 X : 윌콕슨 순위합 검정 - ranksums 사용"
   ]
  },
  {
   "cell_type": "markdown",
   "metadata": {},
   "source": [
    "대응표본(쌍체) t검정 (paired t-test)\n",
    "\n",
    "가설검정 순서\n",
    "\n",
    "1. 가설 설정\n",
    "2. 유의수준 확인\n",
    "3. 정규성 검정 (주의) 차이값에 대한 정규성!\n",
    "4. 검정 실시 (통계량, p-value)\n",
    "5. 귀무가설 기각 여부 결정"
   ]
  },
  {
   "cell_type": "markdown",
   "metadata": {},
   "source": [
    "독립표본 t검정 (2sample t-test)\n",
    "\n",
    "가설검정 순서\n",
    "\n",
    "1. 가설 설정\n",
    "2. 유의수준 확인\n",
    "3. 정규성 검정  (주의) 두 집단 모두 정규성을 만족해야 모수 검정이 가능하다!\n",
    "4. 등분산성 검정 \n",
    "5. 검정 실시 (통계랑, p-value)  (주의) 등분산성 여부 확인 (equal_var)\n",
    "6. 귀무가설 기각여부 결정"
   ]
  },
  {
   "cell_type": "markdown",
   "metadata": {},
   "source": [
    "예상 문제\n",
    "\n",
    "Case 1) 대응표본(쌍체) t검정(paired t-test)\n",
    "\n",
    "문제 1-1\n",
    "다음은 혈압약을 먹은 전, 후의 혈압 데이터이다.\n",
    "혈압약을 먹기 전, 후의 차이가 있는지 쌍체 t 검정을 실시하시오\n",
    "\n",
    "(유의수준 5%)\n",
    "\n",
    "* before : 혈압약을 먹기 전 혈압, after : 혈압약을 먹은 후의 혈압\n",
    "\n",
    "* 귀무가설(H0) : 먹기 전, 후가 같다  (after - before = 0)\n",
    "* 대립가설(H1) : 먹기 전, 후가 다르다 (after - before <> 0)"
   ]
  },
  {
   "cell_type": "code",
   "execution_count": 44,
   "metadata": {},
   "outputs": [],
   "source": [
    "# 데이터 만들기\n",
    "\n",
    "df = pd.DataFrame( {\n",
    "    'before': [120, 135, 122, 124, 135, 122, 145, 160, 155, 142, 144, 135, 167],\n",
    "    'after' : [110, 132, 123, 119, 123, 115, 140, 162, 142, 138, 135, 142, 160] })"
   ]
  },
  {
   "cell_type": "code",
   "execution_count": 45,
   "metadata": {},
   "outputs": [
    {
     "name": "stdout",
     "output_type": "stream",
     "text": [
      "0.9589 0.7363\n",
      "정규성을 따른다\n"
     ]
    }
   ],
   "source": [
    "# 정규성 검정\n",
    "diff = df['after'] - df['before']\n",
    "\n",
    "n_statistic, n_pvalue = shapiro(diff)\n",
    "\n",
    "print(round(n_statistic,4), round(n_pvalue,4))\n",
    "\n",
    "if n_pvalue > 0.05 :\n",
    "  print('정규성을 따른다')\n",
    "else :\n",
    "  print('정규성을 따르지 않는다')"
   ]
  },
  {
   "cell_type": "code",
   "execution_count": 46,
   "metadata": {},
   "outputs": [
    {
     "name": "stdout",
     "output_type": "stream",
     "text": [
      "-3.1382 0.0086\n",
      "혈압약을 복용한 전, 후가 다르다\n"
     ]
    }
   ],
   "source": [
    "# t-test 실시\n",
    "\n",
    "statistic, pvalue = ttest_rel(df['after'],df['before'],alternative='two-sided')    # 순서 주의!!! 부호가 바뀌기 때문에 확인 필요\n",
    "\n",
    "print(round(statistic,4), round(pvalue,4))\n",
    "\n",
    "if pvalue > 0.05 :\n",
    "  print('혈압약을 복용한 전, 후가 같다')\n",
    "else :\n",
    "  print('혈압약을 복용한 전, 후가 다르다')"
   ]
  },
  {
   "cell_type": "code",
   "execution_count": 47,
   "metadata": {},
   "outputs": [
    {
     "name": "stdout",
     "output_type": "stream",
     "text": [
      "11.0 0.0134\n"
     ]
    }
   ],
   "source": [
    "# 정규성을 따르지 않는 경우\n",
    "\n",
    "nx_statistic, nx_pvalue = wilcoxon(diff, alternative='two-sided')\n",
    "\n",
    "print(round(nx_statistic,4), round(nx_pvalue,4))"
   ]
  },
  {
   "cell_type": "markdown",
   "metadata": {},
   "source": [
    "예상 문제\n",
    "\n",
    "Case 2) 독립표본 t검정 (2sample t-test)\n",
    "\n",
    "문제2-1\n",
    "다음은 A그룹과 B그룹 인원의 혈압 데이터이다.\n",
    "\n",
    "두 그룹의 혈압 평균이 다르다고 할 수 있는지 독립표본 t 검정을 실시하시오. (양측 검정)\n",
    "\n",
    "유의수준 5%\n",
    "\n",
    "- A : A그룹 인원의 혈압, B : B그룹 인원의 혈압\n",
    "- H0(귀무가설) : A=B\n",
    "- H1(대립가설) : A<>B"
   ]
  },
  {
   "cell_type": "code",
   "execution_count": 48,
   "metadata": {},
   "outputs": [
    {
     "name": "stdout",
     "output_type": "stream",
     "text": [
      "     A    B\n",
      "0  120  110\n",
      "1  135  132\n",
      "2  122  123\n",
      "3  124  119\n",
      "4  135  123\n"
     ]
    }
   ],
   "source": [
    "# 데이터 만들기\n",
    "\n",
    "df = pd.DataFrame({\n",
    "  'A' : [120, 135, 122, 124, 135, 122, 145, 160, 155, 142, 144, 135, 167],\n",
    "  'B' : [110, 132, 123, 119, 123, 115, 140, 162, 142, 138, 135, 142, 160]\n",
    "})\n",
    "\n",
    "print(df.head())"
   ]
  },
  {
   "cell_type": "code",
   "execution_count": 49,
   "metadata": {},
   "outputs": [
    {
     "name": "stdout",
     "output_type": "stream",
     "text": [
      "A의 검정통계량 :  0.9314 A의 p-value :  0.3559\n",
      "B의 검정통계량 :  0.9498 B의 p-value :  0.5956\n",
      "A, B 모두 정규성을 만족한다\n"
     ]
    }
   ],
   "source": [
    "# A, B 각각 정규성 검정 (scipy.stats.shapiro)\n",
    "# 둘다 정규성을 만족하여야 한다! 하나라도 만족하지 않을 경우 윌콕슨 순위합 비모수 검정 실시\n",
    "\n",
    "a_statistic, a_pvalue = shapiro(df['A'])\n",
    "b_statistic, b_pvalue = shapiro(df['B'])\n",
    "\n",
    "print('A의 검정통계량 : ', round(a_statistic,4), 'A의 p-value : ', round(a_pvalue,4))\n",
    "print('B의 검정통계량 : ', round(b_statistic,4), 'B의 p-value : ', round(b_pvalue,4))\n",
    "\n",
    "if a_pvalue > 0.05 and b_pvalue > 0.05 :\n",
    "  print(\"A, B 모두 정규성을 만족한다\")\n",
    "else :\n",
    "  print(\"A, B 둘 중 하나 이상 정규성을 만족하지 않는다\")"
   ]
  },
  {
   "cell_type": "code",
   "execution_count": 50,
   "metadata": {},
   "outputs": [
    {
     "name": "stdout",
     "output_type": "stream",
     "text": [
      "0.8862 0.8673\n"
     ]
    }
   ],
   "source": [
    "# 독립표본 검정에서는 등분산성을 고려하여야 한다 (by levene, bartlett)\n",
    "# 귀무가설(H0) : 등분산성을 가진다\n",
    "# 대립가설(H1) : 등분산성을 가지지 않는다\n",
    "\n",
    "eq_statistic1, eq_pvalue1 = levene(df['A'], df['B'])\n",
    "eq_statistic2, eq_pvalue2 = bartlett(df['A'], df['B'])\n",
    "\n",
    "print(round(eq_pvalue1,4), round(eq_pvalue2,4))"
   ]
  },
  {
   "cell_type": "code",
   "execution_count": 51,
   "metadata": {},
   "outputs": [
    {
     "name": "stdout",
     "output_type": "stream",
     "text": [
      "0.8192 0.4207\n",
      "두 그룹의 혈압 평균은 같다 (귀무가설 채택)\n"
     ]
    }
   ],
   "source": [
    "# 정규성과 등분산성을 모두 만족하는 경우 t-test 진행  (등분산을 하지 않으면 equal_var을 False로 지정한다)\n",
    "\n",
    "# 정규성이 확실한 경우 : barlett\n",
    "# 정규성이 확실하지 않은 경우 : levene\n",
    "\n",
    "statistic, pvalue = ttest_ind(df['A'], df['B'], equal_var=True, alternative='two-sided')\n",
    "\n",
    "print(round(statistic,4), round(pvalue,4))\n",
    "\n",
    "if pvalue > 0.05 :\n",
    "  print('두 그룹의 혈압 평균은 같다 (귀무가설 채택)')\n",
    "else :\n",
    "  print(\"두 그룹 간 혈압 평균이 다르다 (귀무가설 기각)\")"
   ]
  },
  {
   "cell_type": "code",
   "execution_count": 52,
   "metadata": {},
   "outputs": [
    {
     "name": "stdout",
     "output_type": "stream",
     "text": [
      "0.3975\n"
     ]
    }
   ],
   "source": [
    "# 정규성을 만족하지 않는 경우 비모수 검정 (순위합 검정 실시)\n",
    "\n",
    "statistic, pvalue = ranksums(df['A'], df['B'], alternative=\"two-sided\")\n",
    "\n",
    "print(round(pvalue,4))"
   ]
  },
  {
   "cell_type": "markdown",
   "metadata": {},
   "source": [
    "문제2-2\n",
    "다음은 A그룹과 B그룹 인원의 혈압 데이터이다.\n",
    "\n",
    "A그룹의 혈압 평균이 B그룹보다 크다고 할 수 있는지 독립표본 t검정을 실시하시오. (단측검정)\n",
    "\n",
    "유의수준 5%\n",
    "\n",
    "- 귀무가설(H0) : A <= B   (A그룹이 B그룹보다 작거나 같다)\n",
    "- 대립가설(H1) : A > B    (A그룹이 B그룹보다 크다)"
   ]
  },
  {
   "cell_type": "code",
   "execution_count": 54,
   "metadata": {},
   "outputs": [
    {
     "name": "stdout",
     "output_type": "stream",
     "text": [
      "0.35585272312164307 0.5955665707588196\n"
     ]
    }
   ],
   "source": [
    "# 정규성 검정\n",
    "# 각각 정규성을 검증하여 둘다 귀무가설 채택, 즉 정규성을 만족해야 t-test가 가능하다!\n",
    "\n",
    "a_statistic, a_pvalue = shapiro(df['A'])\n",
    "b_statistic, b_pvalue = shapiro(df['B'])\n",
    "\n",
    "print(a_pvalue, b_pvalue)"
   ]
  },
  {
   "cell_type": "code",
   "execution_count": 55,
   "metadata": {},
   "outputs": [
    {
     "name": "stdout",
     "output_type": "stream",
     "text": [
      "0.867271716287991\n"
     ]
    }
   ],
   "source": [
    "# 등분산성 검정\n",
    "# 둘다 정규성을 만족하는 경우 bartlett 사용\n",
    "\n",
    "eq_statistic, eq_pvalue = bartlett(df['A'], df['B'])\n",
    "\n",
    "print(eq_pvalue)"
   ]
  },
  {
   "cell_type": "code",
   "execution_count": 59,
   "metadata": {},
   "outputs": [
    {
     "name": "stdout",
     "output_type": "stream",
     "text": [
      "0.2103743106970833\n",
      "A그룹은 B그룹보다 작거나 같다 (귀무가설 채택)\n"
     ]
    }
   ],
   "source": [
    "# 정규성과 등분산성을 모두 만족하는 경우 t-test 실시\n",
    "\n",
    "statistic, pvalue = ttest_ind(df['A'], df['B'], equal_var=True, alternative='greater')\n",
    "\n",
    "print(pvalue)\n",
    "if pvalue > 0.05 :\n",
    "  print('A그룹은 B그룹보다 작거나 같다 (귀무가설 채택)')\n",
    "else :\n",
    "  print('A그룹은 B그룹보다 크다')"
   ]
  },
  {
   "cell_type": "code",
   "execution_count": 62,
   "metadata": {},
   "outputs": [
    {
     "name": "stdout",
     "output_type": "stream",
     "text": [
      "0.19873346271129638\n",
      "A그룹은 B그룹보다 작거나 같다 (귀무가설 채택)\n"
     ]
    }
   ],
   "source": [
    "# 만약 정규성을 만족하지 않는 경우 (윌콕슨 순위합 검정 실시)\n",
    "\n",
    "x_statistic, x_pvalue = ranksums(df['A'], df['B'], alternative='greater')\n",
    "\n",
    "print(x_pvalue)\n",
    "if x_pvalue > 0.05 :\n",
    "  print('A그룹은 B그룹보다 작거나 같다 (귀무가설 채택)')\n",
    "else :\n",
    "  print('A그룹은 B그룹보다 크다')"
   ]
  },
  {
   "cell_type": "code",
   "execution_count": null,
   "metadata": {},
   "outputs": [],
   "source": []
  }
 ],
 "metadata": {
  "kernelspec": {
   "display_name": "Python 3",
   "language": "python",
   "name": "python3"
  },
  "language_info": {
   "codemirror_mode": {
    "name": "ipython",
    "version": 3
   },
   "file_extension": ".py",
   "mimetype": "text/x-python",
   "name": "python",
   "nbconvert_exporter": "python",
   "pygments_lexer": "ipython3",
   "version": "3.11.1"
  }
 },
 "nbformat": 4,
 "nbformat_minor": 2
}
