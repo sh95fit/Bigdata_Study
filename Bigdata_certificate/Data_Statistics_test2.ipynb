{
 "cells": [
  {
   "cell_type": "code",
   "execution_count": 2,
   "metadata": {},
   "outputs": [],
   "source": [
    "import pandas as pd\n",
    "import numpy as np\n",
    "\n",
    "from sklearn.preprocessing import MinMaxScaler, StandardScaler\n",
    "\n",
    "from sklearn.model_selection import train_test_split\n",
    "\n",
    "from sklearn.ensemble import RandomForestClassifier, RandomForestRegressor\n",
    "\n",
    "from sklearn.linear_model import LogisticRegression, LinearRegression\n",
    "\n",
    "from sklearn.metrics import accuracy_score, f1_score, recall_score, precision_score, roc_auc_score\n",
    "\n",
    "from sklearn.metrics import r2_score, mean_squared_error\n",
    "\n",
    "from scipy.stats import ttest_1samp, ttest_rel, ttest_ind, f_oneway, shapiro, levene, bartlett, chisquare, chi2_contingency, kruskal"
   ]
  },
  {
   "cell_type": "markdown",
   "metadata": {},
   "source": [
    "#### 제3유형\n",
    "\n",
    "검정 방법\n",
    "\n",
    "1. 분산분석(ANOVA) : A집단 vs B집단 vs C집단 ....\n",
    "- (정규성O) ANOVA 분석\n",
    "- (정규성X) 크루스칼-왈리스 검정(kruskal)"
   ]
  },
  {
   "cell_type": "markdown",
   "metadata": {},
   "source": [
    "가설검정 순서\n",
    "\n",
    "1. 가설 검정\n",
    "2. 유의수준 확인\n",
    "3. 정규성 검정 (주의) 집단 모두 정규성을 따라야한다!!\n",
    "4. 등분산 검정\n",
    "5. 검정 실시(통계량, p-value 확인)  (주의) 등분산 여부 확인   (f_oneway는 등분산을 가정하고 적용)\n",
    "6. 귀무가설 기각여부 결정 (채택/기각)"
   ]
  },
  {
   "cell_type": "markdown",
   "metadata": {},
   "source": [
    "##### 예제 문제\n",
    "\n",
    "문제1-1\n",
    "다음은 A,B,C 그룹 인원 성적 데이터이다.\n",
    "\n",
    "세 그룹의 성적 평균이 같다고 할 수 있는지 ANOVA 분석을 실시하시오.\n",
    "\n",
    "유의수준 5%\n",
    "\n",
    "- A, B, C : 각 그룹 인원의 성적\n",
    "- 귀무가설(H0) : 세 그룹의 성적 평균이 같다\n",
    "- 대립가설(H1) : 세 그룹의 성적 평균이 같지 않다"
   ]
  },
  {
   "cell_type": "code",
   "execution_count": 4,
   "metadata": {},
   "outputs": [
    {
     "data": {
      "text/html": [
       "<div>\n",
       "<style scoped>\n",
       "    .dataframe tbody tr th:only-of-type {\n",
       "        vertical-align: middle;\n",
       "    }\n",
       "\n",
       "    .dataframe tbody tr th {\n",
       "        vertical-align: top;\n",
       "    }\n",
       "\n",
       "    .dataframe thead th {\n",
       "        text-align: right;\n",
       "    }\n",
       "</style>\n",
       "<table border=\"1\" class=\"dataframe\">\n",
       "  <thead>\n",
       "    <tr style=\"text-align: right;\">\n",
       "      <th></th>\n",
       "      <th>A</th>\n",
       "      <th>B</th>\n",
       "      <th>C</th>\n",
       "    </tr>\n",
       "  </thead>\n",
       "  <tbody>\n",
       "    <tr>\n",
       "      <th>0</th>\n",
       "      <td>120</td>\n",
       "      <td>110</td>\n",
       "      <td>130</td>\n",
       "    </tr>\n",
       "    <tr>\n",
       "      <th>1</th>\n",
       "      <td>135</td>\n",
       "      <td>132</td>\n",
       "      <td>120</td>\n",
       "    </tr>\n",
       "    <tr>\n",
       "      <th>2</th>\n",
       "      <td>122</td>\n",
       "      <td>123</td>\n",
       "      <td>115</td>\n",
       "    </tr>\n",
       "    <tr>\n",
       "      <th>3</th>\n",
       "      <td>124</td>\n",
       "      <td>119</td>\n",
       "      <td>122</td>\n",
       "    </tr>\n",
       "    <tr>\n",
       "      <th>4</th>\n",
       "      <td>135</td>\n",
       "      <td>123</td>\n",
       "      <td>133</td>\n",
       "    </tr>\n",
       "  </tbody>\n",
       "</table>\n",
       "</div>"
      ],
      "text/plain": [
       "     A    B    C\n",
       "0  120  110  130\n",
       "1  135  132  120\n",
       "2  122  123  115\n",
       "3  124  119  122\n",
       "4  135  123  133"
      ]
     },
     "execution_count": 4,
     "metadata": {},
     "output_type": "execute_result"
    }
   ],
   "source": [
    "# 데이터 만들기\n",
    "df = pd.DataFrame( {\n",
    "    'A': [120, 135, 122, 124, 135, 122, 145, 160, 155, 142, 144, 135, 167],\n",
    "    'B' : [110, 132, 123, 119, 123, 115, 140, 162, 142, 138, 135, 142, 160],\n",
    "    'C' : [130, 120, 115, 122, 133, 144, 122, 120, 110, 134, 125, 122, 122]})\n",
    "\n",
    "df.head()"
   ]
  },
  {
   "cell_type": "code",
   "execution_count": 6,
   "metadata": {},
   "outputs": [
    {
     "name": "stdout",
     "output_type": "stream",
     "text": [
      "0.35585272312164307 0.5955665707588196 0.45265132188796997\n",
      "A, B, C 모두 정규성을 만족한다\n"
     ]
    }
   ],
   "source": [
    "# 각각 정규성 확인\n",
    "\n",
    "a_statistic, a_pvalue = shapiro(df['A'])\n",
    "b_statistic, b_pvalue = shapiro(df['B'])\n",
    "c_statistic, c_pvalue = shapiro(df['C'])\n",
    "\n",
    "print(a_pvalue, b_pvalue, c_pvalue)\n",
    "\n",
    "if a_pvalue > 0.05 and b_pvalue > 0.05 and c_pvalue > 0.05 :\n",
    "  print(\"A, B, C 모두 정규성을 만족한다\")\n",
    "else :\n",
    "  print(\"A, B, C 중 1개 이상 정규성을 만족하지 않는다\")"
   ]
  },
  {
   "cell_type": "code",
   "execution_count": 7,
   "metadata": {},
   "outputs": [
    {
     "name": "stdout",
     "output_type": "stream",
     "text": [
      "0.12110174433684852\n"
     ]
    }
   ],
   "source": [
    "# 등분산성 확인\n",
    "\n",
    "eq_statistic, eq_pvalue = bartlett(df['A'],df['B'],df['C'])\n",
    "\n",
    "print(eq_pvalue)"
   ]
  },
  {
   "cell_type": "code",
   "execution_count": 10,
   "metadata": {},
   "outputs": [
    {
     "name": "stdout",
     "output_type": "stream",
     "text": [
      "0.0346491232068625\n",
      "A, B, C 그룹 성적 평균이 같지 않다\n"
     ]
    }
   ],
   "source": [
    "# 정규성, 등분산성을 만족하는 경우 ANOVA (f_oneway) 검정 실시\n",
    "\n",
    "statistic, pvalue = f_oneway(df['A'],df['B'],df['C'])\n",
    "\n",
    "print(pvalue)\n",
    "\n",
    "if pvalue > 0.05 :\n",
    "  print(\"A, B, C 그룹 성적 평균이 같다\")\n",
    "else :\n",
    "  print(\"A, B, C 그룹 성적 평균이 같지 않다\")"
   ]
  },
  {
   "cell_type": "code",
   "execution_count": 12,
   "metadata": {},
   "outputs": [
    {
     "name": "stdout",
     "output_type": "stream",
     "text": [
      "0.03179333314266727\n",
      "A, B, C 그룹 성적 평균이 같지 않다\n"
     ]
    }
   ],
   "source": [
    "# 만약 정규성을 따르지 않는 경우 (kruskal)\n",
    "\n",
    "x_statistic, x_pvalue = kruskal(df['A'],df['B'],df['C'])\n",
    "\n",
    "print(x_pvalue)\n",
    "if x_pvalue > 0.05 :\n",
    "  print(\"A, B, C 그룹 성적 평균이 같다\")\n",
    "else :\n",
    "  print(\"A, B, C 그룹 성적 평균이 같지 않다\")"
   ]
  },
  {
   "cell_type": "code",
   "execution_count": 13,
   "metadata": {},
   "outputs": [],
   "source": [
    "# 등분산성을 만족하지 않는 경우 Welch-ANOVA 분석\n",
    "# import pingouin as pg   # 현재 시험 환경에서는 미지원!\n",
    "# pg.welch_anova(dv='그룹변수명', between='성적데이터', data=데이터)\n",
    "# pg.welch_anova(df['A'],df['B'],df['C']) 형태로 분석 불가"
   ]
  },
  {
   "cell_type": "markdown",
   "metadata": {},
   "source": [
    "문제1-2 데이터 형태가 다른경우"
   ]
  },
  {
   "cell_type": "code",
   "execution_count": 14,
   "metadata": {},
   "outputs": [],
   "source": [
    "# 데이터 만들기\n",
    "df2 = pd.DataFrame( {\n",
    "    '항목': ['A','A','A','A','A','A','A','A','A','A','A','A','A',\n",
    "           'B','B','B','B','B','B','B','B','B','B','B','B','B',\n",
    "           'C','C','C','C','C','C','C','C','C','C','C','C','C',],\n",
    "    'value': [120, 135, 122, 124, 135, 122, 145, 160, 155, 142, 144, 135, 167,\n",
    "             110, 132, 123, 119, 123, 115, 140, 162, 142, 138, 135, 142, 160,\n",
    "             130, 120, 115, 122, 133, 144, 122, 120, 110, 134, 125, 122, 122]\n",
    "    })"
   ]
  },
  {
   "cell_type": "code",
   "execution_count": 18,
   "metadata": {},
   "outputs": [
    {
     "name": "stdout",
     "output_type": "stream",
     "text": [
      "(13,) (13,) (13,)\n"
     ]
    }
   ],
   "source": [
    "# 데이터가 합쳐져 있는 경우 각각 케이스별로 분류하여 진행하여야 한다\n",
    "df_a = df2[df2['항목']=='A']['value']\n",
    "df_b = df2[df2['항목']=='B']['value']\n",
    "df_c = df2[df2['항목']=='C']['value']\n",
    "\n",
    "print(df_a.shape, df_b.shape, df_c.shape)"
   ]
  },
  {
   "cell_type": "code",
   "execution_count": 20,
   "metadata": {},
   "outputs": [
    {
     "name": "stdout",
     "output_type": "stream",
     "text": [
      "0.35585272312164307 0.5955665707588196 0.45265132188796997\n"
     ]
    }
   ],
   "source": [
    "# 정규성 확인\n",
    "\n",
    "a_statistic, a_pvalue = shapiro(df_a)\n",
    "b_statistic, b_pvalue = shapiro(df_b)\n",
    "c_statistic, c_pvalue = shapiro(df_c)\n",
    "\n",
    "print(a_pvalue, b_pvalue, c_pvalue)"
   ]
  },
  {
   "cell_type": "code",
   "execution_count": 21,
   "metadata": {},
   "outputs": [
    {
     "name": "stdout",
     "output_type": "stream",
     "text": [
      "0.12110174433684852\n"
     ]
    }
   ],
   "source": [
    "# 등분산성 확인\n",
    "\n",
    "eq_statistic, eq_pvalue = bartlett(df_a, df_b, df_c)\n",
    "\n",
    "print(eq_pvalue)"
   ]
  },
  {
   "cell_type": "code",
   "execution_count": 22,
   "metadata": {},
   "outputs": [
    {
     "name": "stdout",
     "output_type": "stream",
     "text": [
      "0.0346491232068625\n",
      "A, B, C 그룹 성적 평균이 같지 않다\n"
     ]
    }
   ],
   "source": [
    "# 정규성, 등분산성을 만족하는 경우 ANOVA (f_oneway)\n",
    "\n",
    "statistic, pvalue = f_oneway(df_a, df_b, df_c)\n",
    "\n",
    "print(pvalue)\n",
    "if pvalue > 0.05 :\n",
    "  print('A, B, C 그룹 성적 평균이 같다')\n",
    "else :\n",
    "  print('A, B, C 그룹 성적 평균이 같지 않다')"
   ]
  }
 ],
 "metadata": {
  "kernelspec": {
   "display_name": "Python 3",
   "language": "python",
   "name": "python3"
  },
  "language_info": {
   "codemirror_mode": {
    "name": "ipython",
    "version": 3
   },
   "file_extension": ".py",
   "mimetype": "text/x-python",
   "name": "python",
   "nbconvert_exporter": "python",
   "pygments_lexer": "ipython3",
   "version": "3.11.1"
  }
 },
 "nbformat": 4,
 "nbformat_minor": 2
}
