{
 "cells": [
  {
   "cell_type": "markdown",
   "metadata": {},
   "source": [
    "## 핵심문제 27개 (21~27번)"
   ]
  },
  {
   "cell_type": "code",
   "execution_count": 243,
   "metadata": {},
   "outputs": [],
   "source": [
    "import pandas as pd\n",
    "import numpy as np\n",
    "from sklearn.preprocessing import MinMaxScaler, StandardScaler"
   ]
  },
  {
   "cell_type": "code",
   "execution_count": 244,
   "metadata": {},
   "outputs": [
    {
     "name": "stdout",
     "output_type": "stream",
     "text": [
      "          날짜 제품  판매수  개당수익\n",
      "0   20220103  A    3   300\n",
      "1   20220105  B    5   400\n",
      "2   20230105  A    5   500\n",
      "3   20230127  B   10   600\n",
      "4   20220203  A   10   400\n",
      "5   20220205  B   10   500\n",
      "6   20230210  A   15   500\n",
      "7   20230223  B   15   600\n",
      "8   20230312  A   20   600\n",
      "9   20230422  B   25   700\n",
      "10  20220505  A   30   600\n",
      "11  20230511  A   40   600\n"
     ]
    }
   ],
   "source": [
    "# 문제 21. 22년 1분기 A제품의 매출액을 구하시오\n",
    "# 매출액 = 판매수*개당수익\n",
    "\n",
    "# 데이터 생성\n",
    "df = pd.DataFrame( {\n",
    "    '날짜': ['20220103','20220105', '20230105','20230127','20220203', '20220205','20230210','20230223','20230312','20230422','20220505','20230511'],\n",
    "    '제품' : ['A','B', 'A', 'B', 'A', 'B','A', 'B', 'A', 'B', 'A', 'A'],\n",
    "    '판매수': [3, 5, 5, 10, 10, 10, 15, 15, 20, 25, 30, 40],\n",
    "    '개당수익': [300, 400, 500, 600, 400, 500, 500, 600, 600, 700, 600, 600] })\n",
    "\n",
    "\n",
    "print(df)"
   ]
  },
  {
   "cell_type": "code",
   "execution_count": 245,
   "metadata": {},
   "outputs": [
    {
     "name": "stdout",
     "output_type": "stream",
     "text": [
      "4900\n",
      "4900\n",
      "4900\n"
     ]
    }
   ],
   "source": [
    "df1 = df.copy()\n",
    "\n",
    "df1['매출액'] = df1['판매수']*df1['개당수익']\n",
    "\n",
    "df1['날짜'] = pd.to_datetime(df1['날짜'])\n",
    "df1['year'] = df1['날짜'].dt.year\n",
    "df1['month'] = df1['날짜'].dt.month\n",
    "df1['day'] = df1['날짜'].dt.day\n",
    "\n",
    "# print(df1)\n",
    "\n",
    "cond1 = (df1['제품'] == 'A')\n",
    "cond2 = (df1['year'] == 2022)\n",
    "cond3 = (df1['month'] <= 3)\n",
    "\n",
    "# print(df1[cond1&cond2&cond3])\n",
    "\n",
    "print(df1[cond1&cond2&cond3]['매출액'].sum())\n",
    "\n",
    "# 다른 풀이\n",
    "df1_ = df.copy()\n",
    "\n",
    "df1_['날짜'] = pd.to_datetime(df1_['날짜'])\n",
    "\n",
    "df1_['매출액'] = df1_['판매수']*df1_['개당수익']\n",
    "\n",
    "df_after = df1_[df1_['날짜'].between('2022-01-01', '2022-04-01')] # 4월 1일 미포함\n",
    "print(df_after['매출액'][df1_['제품']=='A'].sum())\n",
    "\n",
    "# 다른 풀이 2\n",
    "\n",
    "df1_1 = df.copy()\n",
    "\n",
    "df1_1['날짜'] = pd.to_datetime(df1_1['날짜'])\n",
    "\n",
    "df1_1['매출액'] = df1_1['판매수']*df1_1['개당수익']\n",
    "\n",
    "# 날짜 인덱스로 설정 후 loc 사용\n",
    "df1_1 = df1_1.set_index('날짜')\n",
    "\n",
    "# print(df1_1.index)\n",
    "df1_after = df1_1.loc[(df1_1.index <= '2022-03-31') & (df1_1.index >= '2022-01-01')]\n",
    "\n",
    "print(df1_after['매출액'][df1_1['제품']=='A'].sum())"
   ]
  },
  {
   "cell_type": "code",
   "execution_count": 246,
   "metadata": {},
   "outputs": [
    {
     "name": "stdout",
     "output_type": "stream",
     "text": [
      "48600\n"
     ]
    }
   ],
   "source": [
    "# 문제 22. 22년과 23년의 총 매출액 차이를 절대값으로 구하시오\n",
    "# (매출액 = 판매수*개당수익)\n",
    "df22 = df.copy()\n",
    "\n",
    "df22['날짜'] = pd.to_datetime(df22['날짜'])\n",
    "\n",
    "df22['매출액'] = df22['판매수']*df22['개당수익']\n",
    "\n",
    "df22['year'] = df22['날짜'].dt.year\n",
    "df22['month'] = df22['날짜'].dt.month\n",
    "df22['day'] = df22['날짜'].dt.day\n",
    "\n",
    "# print(df22)\n",
    "\n",
    "cond1 = (df22['year'] == 2022)\n",
    "cond2 = (df22['year'] == 2023)\n",
    "\n",
    "sum_2022 = df22['매출액'][cond1].sum()\n",
    "sum_2023 = df22['매출액'][cond2].sum()\n",
    "\n",
    "print(abs(sum_2022-sum_2023))"
   ]
  },
  {
   "cell_type": "code",
   "execution_count": 247,
   "metadata": {},
   "outputs": [
    {
     "name": "stdout",
     "output_type": "stream",
     "text": [
      "A 80\n"
     ]
    }
   ],
   "source": [
    "# 문제 23. 23년 총 매출액이 큰 제품의 23년 판매수를 구하시오\n",
    "# (매출액 = 판매수*개당수익)\n",
    "\n",
    "df23 = df.copy()\n",
    "\n",
    "df23['매출액'] = df23['판매수']*df23['개당수익']\n",
    "\n",
    "df23['날짜'] = pd.to_datetime(df23['날짜'])\n",
    "df23['year'] = df23['날짜'].dt.year\n",
    "\n",
    "cond_2023 = (df23['year'] == 2023)\n",
    "cond_a = (df23['제품'] == 'A')\n",
    "cond_b = (df23['제품'] == 'B')\n",
    "\n",
    "total_a = df23['매출액'][cond_2023&cond_a].sum()\n",
    "total_b = df23['매출액'][cond_2023&cond_b].sum()\n",
    "\n",
    "if total_a > total_b :\n",
    "  print(df['제품'][cond_2023&cond_a].iloc[0], df23['판매수'][cond_2023&cond_a].sum())\n",
    "else:\n",
    "  print(df['제품'][cond_2023&cond_b].iloc[0], df23['판매수'][cond_2023&cond_b].sum())"
   ]
  },
  {
   "cell_type": "code",
   "execution_count": 248,
   "metadata": {},
   "outputs": [
    {
     "name": "stdout",
     "output_type": "stream",
     "text": [
      "4\n"
     ]
    }
   ],
   "source": [
    "# 문제 24. 매출액이 4천원 초과, 1만원 미만인 데이터 수를 출력하시오.\n",
    "# 매출액 = 판매수*개당수익\n",
    "\n",
    "df24 = df.copy()\n",
    "\n",
    "df24['매출액'] = df24['판매수']*df24['개당수익']\n",
    "\n",
    "cond1 = (df24['매출액'] > 4000)\n",
    "cond2 = (df24['매출액'] < 10000)\n",
    "\n",
    "print(len(df24['매출액'][cond1&cond2]))\n"
   ]
  },
  {
   "cell_type": "code",
   "execution_count": 249,
   "metadata": {},
   "outputs": [
    {
     "name": "stdout",
     "output_type": "stream",
     "text": [
      "<class 'pandas.core.frame.DataFrame'>\n",
      "RangeIndex: 7 entries, 0 to 6\n",
      "Data columns (total 4 columns):\n",
      " #   Column  Non-Null Count  Dtype         \n",
      "---  ------  --------------  -----         \n",
      " 0   time    7 non-null      datetime64[ns]\n",
      " 1   물품      7 non-null      object        \n",
      " 2   판매수     7 non-null      int64         \n",
      " 3   개당수익    7 non-null      int64         \n",
      "dtypes: datetime64[ns](1), int64(2), object(1)\n",
      "memory usage: 352.0+ bytes\n",
      "None\n"
     ]
    },
    {
     "data": {
      "text/html": [
       "<div>\n",
       "<style scoped>\n",
       "    .dataframe tbody tr th:only-of-type {\n",
       "        vertical-align: middle;\n",
       "    }\n",
       "\n",
       "    .dataframe tbody tr th {\n",
       "        vertical-align: top;\n",
       "    }\n",
       "\n",
       "    .dataframe thead th {\n",
       "        text-align: right;\n",
       "    }\n",
       "</style>\n",
       "<table border=\"1\" class=\"dataframe\">\n",
       "  <thead>\n",
       "    <tr style=\"text-align: right;\">\n",
       "      <th></th>\n",
       "      <th>time</th>\n",
       "      <th>물품</th>\n",
       "      <th>판매수</th>\n",
       "      <th>개당수익</th>\n",
       "    </tr>\n",
       "  </thead>\n",
       "  <tbody>\n",
       "    <tr>\n",
       "      <th>0</th>\n",
       "      <td>2023-09-24 12:25:00</td>\n",
       "      <td>A</td>\n",
       "      <td>5</td>\n",
       "      <td>500</td>\n",
       "    </tr>\n",
       "    <tr>\n",
       "      <th>1</th>\n",
       "      <td>2023-09-24 16:48:25</td>\n",
       "      <td>B</td>\n",
       "      <td>10</td>\n",
       "      <td>600</td>\n",
       "    </tr>\n",
       "    <tr>\n",
       "      <th>2</th>\n",
       "      <td>2023-09-24 21:11:50</td>\n",
       "      <td>A</td>\n",
       "      <td>15</td>\n",
       "      <td>500</td>\n",
       "    </tr>\n",
       "    <tr>\n",
       "      <th>3</th>\n",
       "      <td>2023-09-25 01:35:15</td>\n",
       "      <td>B</td>\n",
       "      <td>15</td>\n",
       "      <td>600</td>\n",
       "    </tr>\n",
       "    <tr>\n",
       "      <th>4</th>\n",
       "      <td>2023-09-25 05:58:40</td>\n",
       "      <td>A</td>\n",
       "      <td>20</td>\n",
       "      <td>600</td>\n",
       "    </tr>\n",
       "  </tbody>\n",
       "</table>\n",
       "</div>"
      ],
      "text/plain": [
       "                 time 물품  판매수  개당수익\n",
       "0 2023-09-24 12:25:00  A    5   500\n",
       "1 2023-09-24 16:48:25  B   10   600\n",
       "2 2023-09-24 21:11:50  A   15   500\n",
       "3 2023-09-25 01:35:15  B   15   600\n",
       "4 2023-09-25 05:58:40  A   20   600"
      ]
     },
     "execution_count": 249,
     "metadata": {},
     "output_type": "execute_result"
    }
   ],
   "source": [
    "df = pd.DataFrame( {\n",
    "    '물품' : ['A', 'B', 'A', 'B', 'A', 'B', 'A'],\n",
    "    '판매수': [5, 10, 15, 15, 20, 25, 40],\n",
    "    '개당수익': [500, 600, 500, 600, 600, 700, 600] })\n",
    "time = pd.date_range('2023-09-24 12:25:00','2023-09-25 14:45:30', periods= 7)\n",
    "df['time']=time\n",
    "df = df[ ['time','물품','판매수','개당수익']]\n",
    "\n",
    "print(df.info())\n",
    "df.head()\n"
   ]
  },
  {
   "cell_type": "code",
   "execution_count": 250,
   "metadata": {},
   "outputs": [
    {
     "name": "stdout",
     "output_type": "stream",
     "text": [
      "25\n",
      "25\n",
      "25\n"
     ]
    }
   ],
   "source": [
    "# 문제 25. 23년 9월 24일 16:00~22:00 사이에 전체 제품의 판매수를 구하시오.\n",
    "\n",
    "df25 = df.copy()\n",
    "\n",
    "# df25['time'] = pd.to_datetime(df25['time'])\n",
    "\n",
    "df25 = df25.set_index('time')\n",
    "\n",
    "# loc의 2가지 형태 활용\n",
    "df25_filter = df25.loc['2023-09-24 16:00:00':'2023-09-24 22:00:00']\n",
    "print(df25_filter['판매수'].sum())\n",
    "\n",
    "df25_filter = df25.loc[(df25.index >= '2023-09-24 16:00:00') & (df25.index <= '2023-09-24 22:00:00')]\n",
    "print(df25_filter['판매수'].sum())\n",
    "\n",
    "# 다른 방식\n",
    "\n",
    "df25_ = df.copy()\n",
    "df25_['time'] = pd.to_datetime(df25_['time'])\n",
    "\n",
    "df25_ = df25_.set_index('time', drop=False)\n",
    "\n",
    "# print(df25_)\n",
    "\n",
    "cond1 = (df25_['time'].between('2023-09-24', '2023-09-25'))   # between에서 '2023-09-25'는 미포함!\n",
    "\n",
    "df25_after = df25_[cond1]\n",
    "\n",
    "df25_after = df25_after.between_time(start_time=\"16:00\", end_time=\"22:00\")  # 포함 기준!\n",
    "\n",
    "print(df25_after['판매수'].sum())"
   ]
  },
  {
   "cell_type": "code",
   "execution_count": 251,
   "metadata": {},
   "outputs": [
    {
     "data": {
      "text/html": [
       "<div>\n",
       "<style scoped>\n",
       "    .dataframe tbody tr th:only-of-type {\n",
       "        vertical-align: middle;\n",
       "    }\n",
       "\n",
       "    .dataframe tbody tr th {\n",
       "        vertical-align: top;\n",
       "    }\n",
       "\n",
       "    .dataframe thead th {\n",
       "        text-align: right;\n",
       "    }\n",
       "</style>\n",
       "<table border=\"1\" class=\"dataframe\">\n",
       "  <thead>\n",
       "    <tr style=\"text-align: right;\">\n",
       "      <th></th>\n",
       "      <th>time</th>\n",
       "      <th>물품</th>\n",
       "      <th>판매수</th>\n",
       "      <th>개당수익</th>\n",
       "    </tr>\n",
       "  </thead>\n",
       "  <tbody>\n",
       "    <tr>\n",
       "      <th>0</th>\n",
       "      <td>2023-09-24 12:25:00</td>\n",
       "      <td>A</td>\n",
       "      <td>5</td>\n",
       "      <td>500</td>\n",
       "    </tr>\n",
       "    <tr>\n",
       "      <th>1</th>\n",
       "      <td>2023-09-24 16:48:25</td>\n",
       "      <td>B</td>\n",
       "      <td>10</td>\n",
       "      <td>600</td>\n",
       "    </tr>\n",
       "    <tr>\n",
       "      <th>2</th>\n",
       "      <td>2023-09-24 21:11:50</td>\n",
       "      <td>A</td>\n",
       "      <td>15</td>\n",
       "      <td>500</td>\n",
       "    </tr>\n",
       "    <tr>\n",
       "      <th>3</th>\n",
       "      <td>2023-09-25 01:35:15</td>\n",
       "      <td>B</td>\n",
       "      <td>15</td>\n",
       "      <td>600</td>\n",
       "    </tr>\n",
       "    <tr>\n",
       "      <th>4</th>\n",
       "      <td>2023-09-25 05:58:40</td>\n",
       "      <td>A</td>\n",
       "      <td>20</td>\n",
       "      <td>600</td>\n",
       "    </tr>\n",
       "    <tr>\n",
       "      <th>5</th>\n",
       "      <td>2023-09-25 10:22:05</td>\n",
       "      <td>B</td>\n",
       "      <td>25</td>\n",
       "      <td>700</td>\n",
       "    </tr>\n",
       "    <tr>\n",
       "      <th>6</th>\n",
       "      <td>2023-09-25 14:45:30</td>\n",
       "      <td>A</td>\n",
       "      <td>40</td>\n",
       "      <td>600</td>\n",
       "    </tr>\n",
       "  </tbody>\n",
       "</table>\n",
       "</div>"
      ],
      "text/plain": [
       "                 time 물품  판매수  개당수익\n",
       "0 2023-09-24 12:25:00  A    5   500\n",
       "1 2023-09-24 16:48:25  B   10   600\n",
       "2 2023-09-24 21:11:50  A   15   500\n",
       "3 2023-09-25 01:35:15  B   15   600\n",
       "4 2023-09-25 05:58:40  A   20   600\n",
       "5 2023-09-25 10:22:05  B   25   700\n",
       "6 2023-09-25 14:45:30  A   40   600"
      ]
     },
     "execution_count": 251,
     "metadata": {},
     "output_type": "execute_result"
    }
   ],
   "source": [
    "# 문제 26. 9월 25일 00:00~12:00 까지의 B물품의 매출액 총합을 구하시오.\n",
    "# 매출액 = 판매수*개당수익\n",
    "\n",
    "df = pd.DataFrame( {\n",
    "    '물품' : ['A', 'B', 'A', 'B', 'A', 'B', 'A'],\n",
    "    '판매수': [5, 10, 15, 15, 20, 25, 40],\n",
    "    '개당수익': [500, 600, 500, 600, 600, 700, 600] } )\n",
    "df['time'] = pd.date_range('2023-09-24 12:25:00','2023-09-25 14:45:30', periods= 7)\n",
    "df = df[ ['time','물품','판매수','개당수익'] ]\n",
    "\n",
    "df"
   ]
  },
  {
   "cell_type": "code",
   "execution_count": 252,
   "metadata": {},
   "outputs": [
    {
     "name": "stdout",
     "output_type": "stream",
     "text": [
      "26500\n",
      "26500\n",
      "26500\n"
     ]
    }
   ],
   "source": [
    "df26 = df.copy()\n",
    "\n",
    "df26['time'] = pd.to_datetime(df26['time'])\n",
    "\n",
    "df26['매출액'] = df26['판매수']*df26['개당수익']\n",
    "\n",
    "df26 = df26.set_index('time', drop=False)\n",
    "\n",
    "cond1 = (df26['물품'] == 'B')\n",
    "\n",
    "df26_filter = df26.loc['2023-09-25 00:00:00':'2023-09-25 12:00:00']\n",
    "print(df26_filter['매출액'][cond1].sum())\n",
    "\n",
    "df26_filter = df26.loc[(df26.index >= '2023-09-25 00:00:00') & (df26.index <= '2023-09-25 12:00:00')]\n",
    "print(df26_filter['매출액'][cond1].sum())\n",
    "\n",
    "# between 함수는 변수에 위치해야 적용 가능\n",
    "cond2 = df26['time'].between('2023-09-25','2023-09-26')\n",
    "# 시간 필터는 index에 위치해야만 적용 가능\n",
    "df26_filter = df26.between_time(start_time='00:00', end_time='12:00')\n",
    "print(df26_filter['매출액'][cond1&cond2].sum())"
   ]
  },
  {
   "cell_type": "code",
   "execution_count": 259,
   "metadata": {},
   "outputs": [
    {
     "name": "stdout",
     "output_type": "stream",
     "text": [
      "10000\n",
      "10000\n",
      "10000\n"
     ]
    }
   ],
   "source": [
    "# 문제 27. 9월 24일 12:00~24:00 까지의 A 물품의 매출액 총합을 구하시오.\n",
    "# 매출액 = 판매수*개당수익\n",
    "\n",
    "df27 = df.copy()\n",
    "\n",
    "df27['time'] = pd.to_datetime(df27['time'])\n",
    "\n",
    "df27['매출액'] = df27['판매수']*df27['개당수익']\n",
    "\n",
    "df27 = df27.set_index('time', drop=False)\n",
    "\n",
    "cond1 = (df27['물품'] == 'A')\n",
    "\n",
    "# 1. loc 인덱스 슬라이싱\n",
    "df27_filter = df27.loc['2023-09-24 12:00:00':'2023-09-25 00:00:00']\n",
    "print(df27_filter['매출액'][cond1].sum())\n",
    "\n",
    "# 2. 인덱스 활용\n",
    "df27_filter = df27.loc[(df27.index >= '2023-09-24 12:00:00') & (df27.index <= '2023-09-25 00:00:00')]\n",
    "print(df27_filter['매출액'][cond1].sum())\n",
    "\n",
    "# 3. between 함수와 between_time 함수 사용\n",
    "cond2 = (df27['time'].between('2023-09-24', '2023-09-25'))\n",
    "df27_filter = df27.between_time(start_time=\"12:00\", end_time=\"23:59\")\n",
    "print(df27_filter['매출액'][cond1&cond2].sum())"
   ]
  }
 ],
 "metadata": {
  "kernelspec": {
   "display_name": "Python 3",
   "language": "python",
   "name": "python3"
  },
  "language_info": {
   "codemirror_mode": {
    "name": "ipython",
    "version": 3
   },
   "file_extension": ".py",
   "mimetype": "text/x-python",
   "name": "python",
   "nbconvert_exporter": "python",
   "pygments_lexer": "ipython3",
   "version": "3.11.1"
  }
 },
 "nbformat": 4,
 "nbformat_minor": 2
}
