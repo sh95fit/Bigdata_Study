{
 "cells": [
  {
   "cell_type": "code",
   "execution_count": 123,
   "metadata": {},
   "outputs": [],
   "source": [
    "import pandas as pd\n",
    "import numpy as np\n",
    "\n",
    "from scipy.stats import ttest_1samp, shapiro"
   ]
  },
  {
   "cell_type": "code",
   "execution_count": 124,
   "metadata": {},
   "outputs": [
    {
     "data": {
      "text/html": [
       "<div>\n",
       "<style scoped>\n",
       "    .dataframe tbody tr th:only-of-type {\n",
       "        vertical-align: middle;\n",
       "    }\n",
       "\n",
       "    .dataframe tbody tr th {\n",
       "        vertical-align: top;\n",
       "    }\n",
       "\n",
       "    .dataframe thead th {\n",
       "        text-align: right;\n",
       "    }\n",
       "</style>\n",
       "<table border=\"1\" class=\"dataframe\">\n",
       "  <thead>\n",
       "    <tr style=\"text-align: right;\">\n",
       "      <th></th>\n",
       "      <th>height</th>\n",
       "    </tr>\n",
       "  </thead>\n",
       "  <tbody>\n",
       "    <tr>\n",
       "      <th>0</th>\n",
       "      <td>160.237691</td>\n",
       "    </tr>\n",
       "    <tr>\n",
       "      <th>1</th>\n",
       "      <td>164.747324</td>\n",
       "    </tr>\n",
       "    <tr>\n",
       "      <th>2</th>\n",
       "      <td>165.401628</td>\n",
       "    </tr>\n",
       "    <tr>\n",
       "      <th>3</th>\n",
       "      <td>168.801627</td>\n",
       "    </tr>\n",
       "    <tr>\n",
       "      <th>4</th>\n",
       "      <td>153.199021</td>\n",
       "    </tr>\n",
       "  </tbody>\n",
       "</table>\n",
       "</div>"
      ],
      "text/plain": [
       "       height\n",
       "0  160.237691\n",
       "1  164.747324\n",
       "2  165.401628\n",
       "3  168.801627\n",
       "4  153.199021"
      ]
     },
     "execution_count": 124,
     "metadata": {},
     "output_type": "execute_result"
    }
   ],
   "source": [
    "# 100명의 키 정보가 들어 있는 데이터가 있다.\n",
    "# 데이터가 정규성을 만족하는지 확인하라\n",
    "# 그리고 평균키는 165라 판단할 수 있는지 귀무가설과 대립가설을 설정한 후 유의수준 5%로 검정하라\n",
    "\n",
    "# 귀무가설(H0) : 평균키 = 165\n",
    "# 대립가설(H1) : 평균키 <> 165\n",
    "\n",
    "# 데이터\n",
    "df = pd.read_csv(\"https://raw.githubusercontent.com/Datamanim/datarepo/main/scipy/height1.csv\")\n",
    "\n",
    "df.head()"
   ]
  },
  {
   "cell_type": "code",
   "execution_count": 125,
   "metadata": {},
   "outputs": [
    {
     "name": "stdout",
     "output_type": "stream",
     "text": [
      "0.4558176100254059\n"
     ]
    }
   ],
   "source": [
    "# 정규성 확인\n",
    "\n",
    "statistic, pvalue = shapiro(df)\n",
    "\n",
    "print(pvalue)"
   ]
  },
  {
   "cell_type": "code",
   "execution_count": 126,
   "metadata": {},
   "outputs": [
    {
     "name": "stdout",
     "output_type": "stream",
     "text": [
      "0.0018\n"
     ]
    }
   ],
   "source": [
    "# 정규성 만족 -> ttest_1samp\n",
    "\n",
    "statistic, pvalue = ttest_1samp(df, popmean=165, alternative='two-sided')\n",
    "\n",
    "print(round(pvalue[0],4))"
   ]
  },
  {
   "cell_type": "code",
   "execution_count": 127,
   "metadata": {},
   "outputs": [
    {
     "data": {
      "text/html": [
       "<div>\n",
       "<style scoped>\n",
       "    .dataframe tbody tr th:only-of-type {\n",
       "        vertical-align: middle;\n",
       "    }\n",
       "\n",
       "    .dataframe tbody tr th {\n",
       "        vertical-align: top;\n",
       "    }\n",
       "\n",
       "    .dataframe thead th {\n",
       "        text-align: right;\n",
       "    }\n",
       "</style>\n",
       "<table border=\"1\" class=\"dataframe\">\n",
       "  <thead>\n",
       "    <tr style=\"text-align: right;\">\n",
       "      <th></th>\n",
       "      <th>class</th>\n",
       "      <th>score</th>\n",
       "    </tr>\n",
       "  </thead>\n",
       "  <tbody>\n",
       "    <tr>\n",
       "      <th>0</th>\n",
       "      <td>A</td>\n",
       "      <td>84</td>\n",
       "    </tr>\n",
       "    <tr>\n",
       "      <th>1</th>\n",
       "      <td>A</td>\n",
       "      <td>59</td>\n",
       "    </tr>\n",
       "    <tr>\n",
       "      <th>2</th>\n",
       "      <td>A</td>\n",
       "      <td>49</td>\n",
       "    </tr>\n",
       "    <tr>\n",
       "      <th>3</th>\n",
       "      <td>A</td>\n",
       "      <td>57</td>\n",
       "    </tr>\n",
       "    <tr>\n",
       "      <th>4</th>\n",
       "      <td>A</td>\n",
       "      <td>82</td>\n",
       "    </tr>\n",
       "  </tbody>\n",
       "</table>\n",
       "</div>"
      ],
      "text/plain": [
       "  class  score\n",
       "0     A     84\n",
       "1     A     59\n",
       "2     A     49\n",
       "3     A     57\n",
       "4     A     82"
      ]
     },
     "execution_count": 127,
     "metadata": {},
     "output_type": "execute_result"
    }
   ],
   "source": [
    "# 등분산 검정\n",
    "\n",
    "df = pd.read_csv('https://raw.githubusercontent.com/Datamanim/datarepo/main/scipy/scipy2.csv')\n",
    "\n",
    "df.head()"
   ]
  },
  {
   "cell_type": "code",
   "execution_count": 128,
   "metadata": {},
   "outputs": [
    {
     "name": "stdout",
     "output_type": "stream",
     "text": [
      "<class 'pandas.core.frame.DataFrame'>\n",
      "RangeIndex: 480 entries, 0 to 479\n",
      "Data columns (total 2 columns):\n",
      " #   Column  Non-Null Count  Dtype \n",
      "---  ------  --------------  ----- \n",
      " 0   class   480 non-null    object\n",
      " 1   score   480 non-null    int64 \n",
      "dtypes: int64(1), object(1)\n",
      "memory usage: 7.6+ KB\n"
     ]
    }
   ],
   "source": [
    "df.info()"
   ]
  },
  {
   "cell_type": "code",
   "execution_count": 129,
   "metadata": {},
   "outputs": [
    {
     "data": {
      "text/plain": [
       "A    300\n",
       "B    180\n",
       "Name: class, dtype: int64"
      ]
     },
     "execution_count": 129,
     "metadata": {},
     "output_type": "execute_result"
    }
   ],
   "source": [
    "df['class'].value_counts()"
   ]
  },
  {
   "cell_type": "code",
   "execution_count": 130,
   "metadata": {},
   "outputs": [],
   "source": [
    "from sklearn.preprocessing import LabelEncoder\n",
    "\n",
    "le = LabelEncoder()\n",
    "df['class'] = le.fit_transform(df['class'])\n",
    "\n",
    "cond_a = (df['class'] == 0)\n",
    "cond_b = (df['class'] == 1)\n",
    "\n",
    "df_a = df[cond_a]\n",
    "df_b = df[cond_b]"
   ]
  },
  {
   "cell_type": "code",
   "execution_count": 131,
   "metadata": {},
   "outputs": [
    {
     "name": "stdout",
     "output_type": "stream",
     "text": [
      "4.097050521068013e-08 1.1735706948456937e-06\n"
     ]
    }
   ],
   "source": [
    "# 정규성 확인\n",
    "\n",
    "\n",
    "a_statistic, a_pvalue = shapiro(df_a['score'])\n",
    "b_statistic, b_pvalue = shapiro(df_b['score'])\n",
    "\n",
    "print(a_pvalue, b_pvalue) # 정규성을 가지지 않는다"
   ]
  },
  {
   "cell_type": "code",
   "execution_count": 132,
   "metadata": {},
   "outputs": [
    {
     "name": "stdout",
     "output_type": "stream",
     "text": [
      "0.3145466542912649 0.5751662820554713\n"
     ]
    }
   ],
   "source": [
    "from scipy.stats import levene\n",
    "\n",
    "eq_statistic, eq_pvalue = levene(df_a['score'], df_b['score'])\n",
    "\n",
    "print(eq_statistic, eq_pvalue)"
   ]
  },
  {
   "cell_type": "code",
   "execution_count": 133,
   "metadata": {},
   "outputs": [],
   "source": [
    "import pandas as pd\n",
    "import numpy as np\n",
    "\n",
    "from sklearn.preprocessing import MinMaxScaler, StandardScaler, LabelEncoder\n",
    "\n",
    "from sklearn.model_selection import train_test_split\n",
    "\n",
    "from sklearn.ensemble import RandomForestClassifier\n",
    "\n",
    "from sklearn.metrics import accuracy_score, f1_score, recall_score, precision_score, roc_auc_score"
   ]
  },
  {
   "cell_type": "code",
   "execution_count": 134,
   "metadata": {},
   "outputs": [
    {
     "name": "stdout",
     "output_type": "stream",
     "text": [
      "(6499, 12) (3501, 12) (6499, 2)\n"
     ]
    }
   ],
   "source": [
    "x_train = pd.read_csv(\"https://raw.githubusercontent.com/Datamanim/datarepo/main/churnk/X_train.csv\")\n",
    "x_test = pd.read_csv(\"https://raw.githubusercontent.com/Datamanim/datarepo/main/churnk/X_test.csv\")\n",
    "y_train = pd.read_csv(\"https://raw.githubusercontent.com/Datamanim/datarepo/main/churnk/y_train.csv\")\n",
    "\n",
    "\n",
    "print(x_train.shape, x_test.shape, y_train.shape)"
   ]
  },
  {
   "cell_type": "code",
   "execution_count": 135,
   "metadata": {},
   "outputs": [
    {
     "name": "stdout",
     "output_type": "stream",
     "text": [
      "<class 'pandas.core.frame.DataFrame'>\n",
      "RangeIndex: 6499 entries, 0 to 6498\n",
      "Data columns (total 12 columns):\n",
      " #   Column           Non-Null Count  Dtype  \n",
      "---  ------           --------------  -----  \n",
      " 0   CustomerId       6499 non-null   int64  \n",
      " 1   Surname          6499 non-null   object \n",
      " 2   CreditScore      6499 non-null   int64  \n",
      " 3   Geography        6499 non-null   object \n",
      " 4   Gender           6499 non-null   object \n",
      " 5   Age              6499 non-null   int64  \n",
      " 6   Tenure           6499 non-null   int64  \n",
      " 7   Balance          6499 non-null   float64\n",
      " 8   NumOfProducts    6499 non-null   int64  \n",
      " 9   HasCrCard        6499 non-null   int64  \n",
      " 10  IsActiveMember   6499 non-null   int64  \n",
      " 11  EstimatedSalary  6499 non-null   float64\n",
      "dtypes: float64(2), int64(7), object(3)\n",
      "memory usage: 609.4+ KB\n",
      "None\n"
     ]
    }
   ],
   "source": [
    "print(x_train.info())"
   ]
  },
  {
   "cell_type": "code",
   "execution_count": 136,
   "metadata": {},
   "outputs": [
    {
     "name": "stdout",
     "output_type": "stream",
     "text": [
      "<class 'pandas.core.frame.DataFrame'>\n",
      "RangeIndex: 3501 entries, 0 to 3500\n",
      "Data columns (total 12 columns):\n",
      " #   Column           Non-Null Count  Dtype  \n",
      "---  ------           --------------  -----  \n",
      " 0   CustomerId       3501 non-null   int64  \n",
      " 1   Surname          3501 non-null   object \n",
      " 2   CreditScore      3501 non-null   int64  \n",
      " 3   Geography        3501 non-null   object \n",
      " 4   Gender           3501 non-null   object \n",
      " 5   Age              3501 non-null   int64  \n",
      " 6   Tenure           3501 non-null   int64  \n",
      " 7   Balance          3501 non-null   float64\n",
      " 8   NumOfProducts    3501 non-null   int64  \n",
      " 9   HasCrCard        3501 non-null   int64  \n",
      " 10  IsActiveMember   3501 non-null   int64  \n",
      " 11  EstimatedSalary  3501 non-null   float64\n",
      "dtypes: float64(2), int64(7), object(3)\n",
      "memory usage: 328.3+ KB\n",
      "None\n"
     ]
    }
   ],
   "source": [
    "print(x_test.info())\n",
    "cust_id = x_test['CustomerId']"
   ]
  },
  {
   "cell_type": "code",
   "execution_count": 137,
   "metadata": {},
   "outputs": [
    {
     "name": "stdout",
     "output_type": "stream",
     "text": [
      "<class 'pandas.core.frame.DataFrame'>\n",
      "RangeIndex: 6499 entries, 0 to 6498\n",
      "Data columns (total 2 columns):\n",
      " #   Column      Non-Null Count  Dtype\n",
      "---  ------      --------------  -----\n",
      " 0   CustomerId  6499 non-null   int64\n",
      " 1   Exited      6499 non-null   int64\n",
      "dtypes: int64(2)\n",
      "memory usage: 101.7 KB\n",
      "None\n"
     ]
    }
   ],
   "source": [
    "print(y_train.info())"
   ]
  },
  {
   "cell_type": "code",
   "execution_count": 138,
   "metadata": {},
   "outputs": [
    {
     "name": "stdout",
     "output_type": "stream",
     "text": [
      "CustomerId         0\n",
      "Surname            0\n",
      "CreditScore        0\n",
      "Geography          0\n",
      "Gender             0\n",
      "Age                0\n",
      "Tenure             0\n",
      "Balance            0\n",
      "NumOfProducts      0\n",
      "HasCrCard          0\n",
      "IsActiveMember     0\n",
      "EstimatedSalary    0\n",
      "dtype: int64\n"
     ]
    }
   ],
   "source": [
    "print(x_train.isnull().sum())\n"
   ]
  },
  {
   "cell_type": "code",
   "execution_count": 139,
   "metadata": {},
   "outputs": [
    {
     "name": "stdout",
     "output_type": "stream",
     "text": [
      "CustomerId         0\n",
      "Surname            0\n",
      "CreditScore        0\n",
      "Geography          0\n",
      "Gender             0\n",
      "Age                0\n",
      "Tenure             0\n",
      "Balance            0\n",
      "NumOfProducts      0\n",
      "HasCrCard          0\n",
      "IsActiveMember     0\n",
      "EstimatedSalary    0\n",
      "dtype: int64\n"
     ]
    }
   ],
   "source": [
    "print(x_test.isnull().sum())"
   ]
  },
  {
   "cell_type": "code",
   "execution_count": 140,
   "metadata": {},
   "outputs": [
    {
     "name": "stdout",
     "output_type": "stream",
     "text": [
      "CustomerId    0\n",
      "Exited        0\n",
      "dtype: int64\n"
     ]
    }
   ],
   "source": [
    "print(y_train.isnull().sum())"
   ]
  },
  {
   "cell_type": "code",
   "execution_count": 141,
   "metadata": {},
   "outputs": [
    {
     "name": "stdout",
     "output_type": "stream",
     "text": [
      "                  count          mean           std          min  \\\n",
      "CustomerId       6499.0  1.569157e+07  71875.840384  15565701.00   \n",
      "CreditScore      6499.0  6.503968e+02     96.618957       350.00   \n",
      "Age              6499.0  3.895707e+01     10.502803        18.00   \n",
      "Tenure           6499.0  5.041545e+00      2.891779         0.00   \n",
      "Balance          6499.0  7.683658e+04  62407.570894         0.00   \n",
      "NumOfProducts    6499.0  1.519772e+00      0.578975         1.00   \n",
      "HasCrCard        6499.0  7.088783e-01      0.454314         0.00   \n",
      "IsActiveMember   6499.0  5.143868e-01      0.499831         0.00   \n",
      "EstimatedSalary  6499.0  1.003466e+05  57944.655305        11.58   \n",
      "\n",
      "                          25%          50%           75%          max  \n",
      "CustomerId       1.562949e+07  15691808.00  1.575358e+07  15815660.00  \n",
      "CreditScore      5.840000e+02       651.00  7.180000e+02       850.00  \n",
      "Age              3.200000e+01        37.00  4.400000e+01        92.00  \n",
      "Tenure           3.000000e+00         5.00  8.000000e+00        10.00  \n",
      "Balance          0.000000e+00     97560.16  1.278447e+05    238387.56  \n",
      "NumOfProducts    1.000000e+00         1.00  2.000000e+00         4.00  \n",
      "HasCrCard        0.000000e+00         1.00  1.000000e+00         1.00  \n",
      "IsActiveMember   0.000000e+00         1.00  1.000000e+00         1.00  \n",
      "EstimatedSalary  5.090757e+04    100496.84  1.504802e+05    199970.74  \n",
      "                  count          mean           std          min          25%  \\\n",
      "CustomerId       3501.0  1.568977e+07  72043.598095  15565714.00  15626475.00   \n",
      "CreditScore      3501.0  6.507738e+02     96.730345       376.00       583.00   \n",
      "Age              3501.0  3.885633e+01     10.461094        18.00        32.00   \n",
      "Tenure           3501.0  4.959440e+00      2.892564         0.00         2.00   \n",
      "Balance          3501.0  7.583489e+04  62382.215537         0.00         0.00   \n",
      "NumOfProducts    3501.0  1.549557e+00      0.586187         1.00         1.00   \n",
      "HasCrCard        3501.0  6.992288e-01      0.458659         0.00         0.00   \n",
      "IsActiveMember   3501.0  5.164239e-01      0.499802         0.00         0.00   \n",
      "EstimatedSalary  3501.0  9.961442e+04  56700.884072        91.75     51229.17   \n",
      "\n",
      "                         50%          75%          max  \n",
      "CustomerId       15689168.00  15752601.00  15815690.00  \n",
      "CreditScore           652.00       717.00       850.00  \n",
      "Age                    37.00        44.00        85.00  \n",
      "Tenure                  5.00         7.00        10.00  \n",
      "Balance             96196.24    127286.04    250898.09  \n",
      "NumOfProducts           2.00         2.00         4.00  \n",
      "HasCrCard               1.00         1.00         1.00  \n",
      "IsActiveMember          1.00         1.00         1.00  \n",
      "EstimatedSalary     99770.30    146411.41    199992.48  \n"
     ]
    }
   ],
   "source": [
    "print(x_train.describe().T)\n",
    "print(x_test.describe().T)"
   ]
  },
  {
   "cell_type": "code",
   "execution_count": 142,
   "metadata": {},
   "outputs": [
    {
     "name": "stdout",
     "output_type": "stream",
     "text": [
      "(6499, 12) (3501, 12)\n",
      "   CustomerId  Surname  CreditScore  Geography  Gender  Age  Tenure  \\\n",
      "0    15799217     2913          791          1       1   35       7   \n",
      "1    15748986      256          705          1       2   42       8   \n",
      "2    15722004     1234          543          0       1   31       4   \n",
      "\n",
      "     Balance  NumOfProducts  HasCrCard  IsActiveMember  EstimatedSalary  \n",
      "0   52436.20              1          1               0        161051.75  \n",
      "1  166685.92              2          1               1         55313.51  \n",
      "2  138317.94              1          0               0         61843.73  \n",
      "   CustomerId  Surname  CreditScore  Geography  Gender  Age  Tenure  \\\n",
      "0    15601012        3          802          0       1   60       3   \n",
      "1    15734762     1275          602          0       1   56       3   \n",
      "2    15586757       87          801          0       1   32       4   \n",
      "\n",
      "     Balance  NumOfProducts  HasCrCard  IsActiveMember  EstimatedSalary  \n",
      "0   92887.06              1          1               0         39473.63  \n",
      "1  115895.22              3          1               0          4176.17  \n",
      "2   75170.54              1          1               1         37898.50  \n"
     ]
    }
   ],
   "source": [
    "# Surname, Geography, Gender\n",
    "\n",
    "le = LabelEncoder()\n",
    "\n",
    "x_total = pd.concat([x_train, x_test])\n",
    "\n",
    "x_total['Surname'] = le.fit_transform(x_total['Surname'])\n",
    "x_total['Geography'] = le.fit_transform(x_total['Geography'])\n",
    "x_total['Gender'] = le.fit_transform(x_total['Gender'])\n",
    "\n",
    "x_train = x_total.iloc[:6499, :]\n",
    "x_test = x_total.iloc[6499:, :]\n",
    "\n",
    "# x_total.shape\n",
    "\n",
    "print(x_train.shape, x_test.shape)\n",
    "\n",
    "print(x_train.head(3))\n",
    "print(x_test.head(3))"
   ]
  },
  {
   "cell_type": "code",
   "execution_count": 143,
   "metadata": {},
   "outputs": [
    {
     "name": "stdout",
     "output_type": "stream",
     "text": [
      "<class 'pandas.core.frame.DataFrame'>\n",
      "Int64Index: 6499 entries, 0 to 6498\n",
      "Data columns (total 12 columns):\n",
      " #   Column           Non-Null Count  Dtype  \n",
      "---  ------           --------------  -----  \n",
      " 0   CustomerId       6499 non-null   int64  \n",
      " 1   Surname          6499 non-null   int32  \n",
      " 2   CreditScore      6499 non-null   int64  \n",
      " 3   Geography        6499 non-null   int32  \n",
      " 4   Gender           6499 non-null   int32  \n",
      " 5   Age              6499 non-null   int64  \n",
      " 6   Tenure           6499 non-null   int64  \n",
      " 7   Balance          6499 non-null   float64\n",
      " 8   NumOfProducts    6499 non-null   int64  \n",
      " 9   HasCrCard        6499 non-null   int64  \n",
      " 10  IsActiveMember   6499 non-null   int64  \n",
      " 11  EstimatedSalary  6499 non-null   float64\n",
      "dtypes: float64(2), int32(3), int64(7)\n",
      "memory usage: 583.9 KB\n",
      "None\n"
     ]
    }
   ],
   "source": [
    "print(x_train.info())"
   ]
  },
  {
   "cell_type": "code",
   "execution_count": 144,
   "metadata": {},
   "outputs": [
    {
     "name": "stdout",
     "output_type": "stream",
     "text": [
      "<class 'pandas.core.frame.DataFrame'>\n",
      "Int64Index: 3501 entries, 0 to 3500\n",
      "Data columns (total 12 columns):\n",
      " #   Column           Non-Null Count  Dtype  \n",
      "---  ------           --------------  -----  \n",
      " 0   CustomerId       3501 non-null   int64  \n",
      " 1   Surname          3501 non-null   int32  \n",
      " 2   CreditScore      3501 non-null   int64  \n",
      " 3   Geography        3501 non-null   int32  \n",
      " 4   Gender           3501 non-null   int32  \n",
      " 5   Age              3501 non-null   int64  \n",
      " 6   Tenure           3501 non-null   int64  \n",
      " 7   Balance          3501 non-null   float64\n",
      " 8   NumOfProducts    3501 non-null   int64  \n",
      " 9   HasCrCard        3501 non-null   int64  \n",
      " 10  IsActiveMember   3501 non-null   int64  \n",
      " 11  EstimatedSalary  3501 non-null   float64\n",
      "dtypes: float64(2), int32(3), int64(7)\n",
      "memory usage: 314.5 KB\n",
      "None\n"
     ]
    }
   ],
   "source": [
    "print(x_test.info())"
   ]
  },
  {
   "cell_type": "code",
   "execution_count": 145,
   "metadata": {},
   "outputs": [],
   "source": [
    "model = RandomForestClassifier()\n",
    "\n",
    "model.fit(x_train, y_train['Exited'])\n",
    "\n",
    "pred = model.predict(x_test)"
   ]
  },
  {
   "cell_type": "code",
   "execution_count": 146,
   "metadata": {},
   "outputs": [],
   "source": [
    "X_train, X_val, Y_train, Y_val = train_test_split(x_train, y_train['Exited'], stratify=y_train['Exited'], test_size=0.2)\n",
    "\n",
    "val_model = RandomForestClassifier()\n",
    "val_model.fit(X_train, Y_train)\n",
    "\n",
    "val_pred = val_model.predict(X_val)"
   ]
  },
  {
   "cell_type": "code",
   "execution_count": 147,
   "metadata": {},
   "outputs": [
    {
     "name": "stdout",
     "output_type": "stream",
     "text": [
      "0.8592307692307692 0.7108650077476985\n"
     ]
    }
   ],
   "source": [
    "accuracy = accuracy_score(Y_val, val_pred)\n",
    "roc_auc = roc_auc_score(Y_val, val_pred)\n",
    "\n",
    "print(accuracy, roc_auc)"
   ]
  },
  {
   "cell_type": "code",
   "execution_count": 148,
   "metadata": {},
   "outputs": [],
   "source": [
    "# 결과값 제출\n",
    "\n",
    "result = pd.DataFrame({'cust_id':cust_id, 'pred':pred})\n",
    "\n",
    "result.to_csv(\"result.csv\", index=False)"
   ]
  },
  {
   "cell_type": "code",
   "execution_count": 149,
   "metadata": {},
   "outputs": [
    {
     "name": "stdout",
     "output_type": "stream",
     "text": [
      "(3501, 2)\n",
      "    cust_id  pred\n",
      "0  15601012     1\n",
      "1  15734762     1\n",
      "2  15586757     0\n"
     ]
    }
   ],
   "source": [
    "res = pd.read_csv(\"result.csv\")\n",
    "\n",
    "print(res.shape)\n",
    "print(res.head(3))"
   ]
  }
 ],
 "metadata": {
  "kernelspec": {
   "display_name": "Python 3",
   "language": "python",
   "name": "python3"
  },
  "language_info": {
   "codemirror_mode": {
    "name": "ipython",
    "version": 3
   },
   "file_extension": ".py",
   "mimetype": "text/x-python",
   "name": "python",
   "nbconvert_exporter": "python",
   "pygments_lexer": "ipython3",
   "version": "3.11.0"
  }
 },
 "nbformat": 4,
 "nbformat_minor": 2
}
