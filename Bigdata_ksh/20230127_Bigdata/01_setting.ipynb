{
 "cells": [
  {
   "cell_type": "code",
   "execution_count": 29,
   "metadata": {},
   "outputs": [
    {
     "name": "stdout",
     "output_type": "stream",
     "text": [
      "3.10.9 (tags/v3.10.9:1dd9be6, Dec  6 2022, 20:01:21) [MSC v.1934 64 bit (AMD64)]\n"
     ]
    }
   ],
   "source": [
    "import sys\n",
    "print(sys.version)"
   ]
  },
  {
   "cell_type": "code",
   "execution_count": 30,
   "metadata": {},
   "outputs": [
    {
     "name": "stdout",
     "output_type": "stream",
     "text": [
      "10\n",
      "20\n",
      "20\n"
     ]
    }
   ],
   "source": [
    "a = 10\n",
    "print(a)\n",
    "\n",
    "a = 20\n",
    "print(a)\n",
    "\n",
    "변수_1 = 20\n",
    "print(변수_1)"
   ]
  },
  {
   "cell_type": "code",
   "execution_count": 31,
   "metadata": {},
   "outputs": [
    {
     "name": "stdout",
     "output_type": "stream",
     "text": [
      "10\n"
     ]
    }
   ],
   "source": [
    "# 변수\n",
    "a = 10\n",
    "print(a)"
   ]
  },
  {
   "cell_type": "code",
   "execution_count": 32,
   "metadata": {},
   "outputs": [
    {
     "name": "stdout",
     "output_type": "stream",
     "text": [
      "<class 'int'>\n",
      "<class 'float'>\n",
      "<class 'int'>\n",
      "<class 'bool'>\n",
      "<class 'str'>\n"
     ]
    }
   ],
   "source": [
    "# 자료형\n",
    "a = 10\n",
    "# print(a)\n",
    "print(type(a))\n",
    "\n",
    "b = 10.5\n",
    "# print(b)\n",
    "print(type(b))\n",
    "\n",
    "b = 20\n",
    "print(type(b))\n",
    "\n",
    "c = True    # or False\n",
    "print(type(c))\n",
    "\n",
    "d = \"My String\"\n",
    "print(type(d))\n",
    "\n",
    "# del b\n"
   ]
  },
  {
   "cell_type": "code",
   "execution_count": 35,
   "metadata": {},
   "outputs": [
    {
     "name": "stdout",
     "output_type": "stream",
     "text": [
      "20\n"
     ]
    }
   ],
   "source": [
    "# 셀이 다르더라도 인터프리터 형태 그대로 코드가 실행된다!\n",
    "print(b)"
   ]
  },
  {
   "cell_type": "code",
   "execution_count": 38,
   "metadata": {},
   "outputs": [
    {
     "name": "stdout",
     "output_type": "stream",
     "text": [
      "12\n",
      "2\n",
      "2\n",
      "1\n",
      "1.4\n",
      "35\n",
      "16807\n"
     ]
    }
   ],
   "source": [
    "# 산술 연산자\n",
    "a = 7\n",
    "b = 5\n",
    "print(a+b)\n",
    "print(a-b)\n",
    "print(a%b)  # 나머지\n",
    "print(a//b) # 몫\n",
    "print(a/b)  # 나누기\n",
    "print(a*b)  \n",
    "print(a**b)"
   ]
  },
  {
   "cell_type": "code",
   "execution_count": 41,
   "metadata": {},
   "outputs": [
    {
     "name": "stdout",
     "output_type": "stream",
     "text": [
      "False\n",
      "True\n",
      "True\n",
      "False\n",
      "True\n",
      "False\n"
     ]
    }
   ],
   "source": [
    "# 비교 연산자\n",
    "a = 7\n",
    "b = 5\n",
    "\n",
    "print(a==b)\n",
    "print(a!=b)\n",
    "print(a>b)\n",
    "print(a<b)\n",
    "print(a>=b)\n",
    "print(a<=b)"
   ]
  },
  {
   "cell_type": "code",
   "execution_count": 62,
   "metadata": {},
   "outputs": [
    {
     "name": "stdout",
     "output_type": "stream",
     "text": [
      "[1, 2, 3, 4]\n",
      "<class 'list'>\n",
      "[1, 10.5, 'abc']\n",
      "(1, 2, 3, 4)\n",
      "(1, 10.5, 'abc')\n",
      "[1, 20.5, 'abc']\n"
     ]
    }
   ],
   "source": [
    "# list, tuple, set, dictionary\n",
    "\n",
    "\n",
    "# list\n",
    "'''\n",
    "\n",
    "'''\n",
    "list1 = [1,2,3,4]\n",
    "print(list1)\n",
    "print(type(list1))\n",
    "\n",
    "list2 = [1, 10.5, 'abc']\n",
    "print(list2)\n",
    "\n",
    "\n",
    "\n",
    "# tuple\n",
    "\n",
    "tuple1 = (1,2,3,4)\n",
    "print(tuple1)\n",
    "\n",
    "tuple2 = (1,10.5,'abc')\n",
    "print(tuple2)\n",
    "\n",
    "list2[1] = 20.5\n",
    "print(list2)\n",
    "\n",
    "# 튜플은 값을 변경하지 못 하므로 에러가 발생!\n",
    "# tuple2[1] = 20.5\n",
    "# print(tuple2)"
   ]
  },
  {
   "cell_type": "code",
   "execution_count": 65,
   "metadata": {},
   "outputs": [
    {
     "name": "stdout",
     "output_type": "stream",
     "text": [
      "{1, 2, 3, 4}\n",
      "{1, 10.5, 'abc'}\n",
      "{1, 2, 3, 5}\n"
     ]
    }
   ],
   "source": [
    "# set\n",
    "set1 = {1,2,3,4}\n",
    "print(set1)\n",
    "\n",
    "set2 = {1, 10.5, 'abc'}\n",
    "print(set2)\n",
    "\n",
    "# set의 경우 중복되는 값은 한 번만 출력!\n",
    "set3 = {1, 1,2,3,5,5,5}\n",
    "print(set3)\n",
    "\n",
    "# set은 인덱스 접근을 허용하지 않는다!\n",
    "# print(set3[1])"
   ]
  },
  {
   "cell_type": "code",
   "execution_count": 70,
   "metadata": {},
   "outputs": [
    {
     "name": "stdout",
     "output_type": "stream",
     "text": [
      "{'a': 1, 'b': 2, 'c': 3}\n",
      "{1: 'A', 2: 'B'}\n",
      "A\n"
     ]
    }
   ],
   "source": [
    "# dictionary\n",
    "dict1 = {'a' : 1, 'b' : 2, 'c' : 3}\n",
    "print(dict1)\n",
    "\n",
    "dict2 = {1 : 'A', 2 : 'B'}\n",
    "print(dict2)\n",
    "\n",
    "print(dict2[1])"
   ]
  },
  {
   "cell_type": "code",
   "execution_count": 82,
   "metadata": {},
   "outputs": [
    {
     "name": "stdout",
     "output_type": "stream",
     "text": [
      "10.0\n",
      "<class 'float'>\n",
      "123\n",
      "<class 'int'>\n",
      "123.5\n",
      "<class 'str'>\n",
      "123.5\n",
      "<class 'float'>\n",
      "<class 'float'>\n",
      "123.5\n",
      "<class 'str'>\n",
      "True\n",
      "<class 'bool'>\n"
     ]
    }
   ],
   "source": [
    "# type casting : 데이터 타입 변환\n",
    "a = 10\n",
    "a = float(a)\n",
    "print(a)\n",
    "print(type(a))\n",
    "\n",
    "b = 123.5\n",
    "b = int(b)\n",
    "print(b)\n",
    "print(type(b))\n",
    "\n",
    "c = '123.5'\n",
    "print(c)\n",
    "print(type(c))\n",
    "\n",
    "c = float(c)\n",
    "print(c)\n",
    "print(type(c))\n",
    "\n",
    "d = 123.5\n",
    "print(type(d))\n",
    "d = str(d)\n",
    "print(d)\n",
    "print(type(d))\n",
    "d = bool(d)\n",
    "print(d)\n",
    "print(type(d))"
   ]
  },
  {
   "cell_type": "code",
   "execution_count": 87,
   "metadata": {},
   "outputs": [
    {
     "name": "stdout",
     "output_type": "stream",
     "text": [
      "[1, 2, 3, 4, 4]\n",
      "(1, 2, 3, 4, 4)\n",
      "{1, 2, 3, 4}\n"
     ]
    }
   ],
   "source": [
    "# type casting - list, tuple, set, dictionary\n",
    "list1 = [1,2,3,4,4]\n",
    "print(list1)\n",
    "tuple1 = tuple(list1)\n",
    "print(tuple1)\n",
    "set1 = set(list1)\n",
    "print(set1)"
   ]
  },
  {
   "cell_type": "code",
   "execution_count": 106,
   "metadata": {},
   "outputs": [
    {
     "name": "stdout",
     "output_type": "stream",
     "text": [
      "[1, 2, 3, 4, 5, 6, 7]\n",
      "2\n",
      "4\n",
      "7\n",
      "5\n",
      "[2, 3]\n",
      "[2, 4, 6]\n",
      "[7, 6, 5, 4, 3, 2, 1]\n",
      "['b', 'c', 'd', 'e', 'f']\n",
      "['a', 'c', 'e']\n",
      "['f', 'd']\n",
      "['b', 'e']\n"
     ]
    }
   ],
   "source": [
    "# list indexing\n",
    "list1 = [1,2,3,4,5,6,7]\n",
    "print(list1)\n",
    "\n",
    "# 특정 인덱스 출력\n",
    "print(list1[1])\n",
    "print(list1[3])\n",
    "\n",
    "# 마지막 인덱스 출력\n",
    "print(list1[-1])\n",
    "\n",
    "# 거꾸로 특정 데이터 출력\n",
    "print(list1[-3])\n",
    "\n",
    "\n",
    "# 인덱스 범위 출력\n",
    "print(list1[1:3])\n",
    "print(list1[1:6:2])     # [start, stop, step]\n",
    "print(list1[-1::-1])\n",
    "\n",
    "\n",
    "list2 = ['a','b','c','d','e','f','g']\n",
    "print(list2[1:6])\n",
    "print(list2[:6:2])\n",
    "print(list2[5:1:-2])\n",
    "print(list2[1:-1:3])"
   ]
  },
  {
   "cell_type": "code",
   "execution_count": 108,
   "metadata": {},
   "outputs": [
    {
     "name": "stdout",
     "output_type": "stream",
     "text": [
      "['a', 'b', 'c', 'd', 'e', 'f', 'g', 'h', 'i', 'j']\n"
     ]
    }
   ],
   "source": [
    "# list 만들기\n",
    "list2 = list('abcdefghij')\n",
    "print(list2)"
   ]
  }
 ],
 "metadata": {
  "kernelspec": {
   "display_name": "Python 3",
   "language": "python",
   "name": "python3"
  },
  "language_info": {
   "codemirror_mode": {
    "name": "ipython",
    "version": 3
   },
   "file_extension": ".py",
   "mimetype": "text/x-python",
   "name": "python",
   "nbconvert_exporter": "python",
   "pygments_lexer": "ipython3",
   "version": "3.10.9"
  },
  "orig_nbformat": 4,
  "vscode": {
   "interpreter": {
    "hash": "08804ff59ba42edf801cabf0150036e830ede650fb4c74b1d2ab081b0e1a309a"
   }
  }
 },
 "nbformat": 4,
 "nbformat_minor": 2
}
