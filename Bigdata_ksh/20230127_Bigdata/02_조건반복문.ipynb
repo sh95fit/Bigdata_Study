{
 "cells": [
  {
   "cell_type": "code",
   "execution_count": 10,
   "metadata": {},
   "outputs": [
    {
     "name": "stdout",
     "output_type": "stream",
     "text": [
      "a is greater than 1.\n",
      "second line.\n"
     ]
    }
   ],
   "source": [
    "# 조건문 : if\n",
    "# Flow Control - 분기\n",
    "a = 5\n",
    "\n",
    "if a > 1 :\n",
    "    print(\"a is greater than 1.\")\n",
    "    print(\"second line.\")\n",
    "else :\n",
    "    print(\"a is smaller than 1.\")"
   ]
  },
  {
   "cell_type": "code",
   "execution_count": 17,
   "metadata": {},
   "outputs": [
    {
     "name": "stdout",
     "output_type": "stream",
     "text": [
      "Even\n"
     ]
    }
   ],
   "source": [
    "# if문 예제\n",
    "\n",
    "a = 12\n",
    "\n",
    "if a%2 == 0 :\n",
    "    print(\"Even\")  # 짝수\n",
    "else :\n",
    "    print(\"Odd\")    # 홀수"
   ]
  },
  {
   "cell_type": "code",
   "execution_count": 21,
   "metadata": {},
   "outputs": [
    {
     "name": "stdout",
     "output_type": "stream",
     "text": [
      "greater than 1\n"
     ]
    }
   ],
   "source": [
    "# 조건문 : if - elif - else\n",
    "# 첫 조건이 맞으면 다음 조건을 고려하지 않고 조건문 종료!\n",
    "\n",
    "a = 5\n",
    "\n",
    "if a > 1 :\n",
    "    print('greater than 1')\n",
    "elif a > 3 :\n",
    "    print('greater than 3')\n",
    "else :\n",
    "    print('something else')\n",
    "\n"
   ]
  },
  {
   "cell_type": "code",
   "execution_count": 29,
   "metadata": {},
   "outputs": [
    {
     "name": "stdout",
     "output_type": "stream",
     "text": [
      "1\n",
      "2\n",
      "3\n",
      "4\n",
      "0\n",
      "1\n",
      "2\n",
      "3\n",
      "1 반복\n",
      "2 반복\n",
      "3 반복\n",
      "4 반복\n",
      "인덱스 없는 반복\n",
      "인덱스 없는 반복\n",
      "인덱스 없는 반복\n",
      "인덱스 없는 반복\n",
      "range 범위만큼 반복\n",
      "range 범위만큼 반복\n",
      "range 범위만큼 반복\n",
      "range 범위만큼 반복\n"
     ]
    }
   ],
   "source": [
    "# 반복문 : for\n",
    "for i in [1,2,3,4] :\n",
    "    print(i)\n",
    "\n",
    "for i in range(4) :\n",
    "    print(i)\n",
    "\n",
    "for j in [1,2,3,4] :\n",
    "    print(j, \"반복\")\n",
    "\n",
    "# 인덱스 없는 반복\n",
    "for _ in [1,2,3,4] :\n",
    "    print('인덱스 없는 반복')\n",
    "\n",
    "for _ in range(4) :\n",
    "    print('range 범위만큼 반복')"
   ]
  },
  {
   "cell_type": "code",
   "execution_count": 8,
   "metadata": {},
   "outputs": [
    {
     "name": "stdout",
     "output_type": "stream",
     "text": [
      "range(0, 4)\n",
      "<class 'range'>\n",
      "------\n",
      "0\n",
      "1\n",
      "2\n",
      "3\n",
      "------\n",
      "1\n",
      "2\n",
      "3\n",
      "------\n",
      "3\n",
      "4\n",
      "5\n",
      "6\n",
      "7\n",
      "8\n",
      "9\n",
      "------\n",
      "3\n",
      "5\n",
      "7\n",
      "9\n"
     ]
    }
   ],
   "source": [
    "# range 함수 분석 - 제너레이터의 일종!\n",
    "# 필요 시에 생성하여 사용함으로써 메모리 사용을 줄인다!\n",
    "a = range(4)\n",
    "print(a)\n",
    "print(type(a))\n",
    "\n",
    "print('------')\n",
    "\n",
    "for i in range(4) :\n",
    "    print(i)\n",
    "\n",
    "print('------')\n",
    "\n",
    "for i in range(1,4) :\n",
    "    print(i)\n",
    "\n",
    "print('------')\n",
    "\n",
    "for i in range(3,10) :\n",
    "    print(i)\n",
    "\n",
    "print('------')\n",
    "\n",
    "for i in range(3,10,2) :\n",
    "    print(i)"
   ]
  },
  {
   "cell_type": "code",
   "execution_count": 16,
   "metadata": {},
   "outputs": [
    {
     "name": "stdout",
     "output_type": "stream",
     "text": [
      "0\n",
      "2\n",
      "4\n",
      "6\n",
      "8\n",
      "[0, 2, 4, 6, 8]\n"
     ]
    }
   ],
   "source": [
    "# 10을 포함하지 않는 0~9 사이 짝수 출력\n",
    "list1 = []\n",
    "\n",
    "for i in range(0,10,2) :\n",
    "    list1.append(i)\n",
    "    print(i)\n",
    "\n",
    "print(list1)"
   ]
  },
  {
   "cell_type": "code",
   "execution_count": 1,
   "metadata": {},
   "outputs": [
    {
     "name": "stdout",
     "output_type": "stream",
     "text": [
      "[0, 2, 4, 6, 8, 10, 12, 14, 16, 18, 20, 22, 24, 26, 28, 30, 32, 34, 36, 38, 40, 42, 44, 46, 48, 50, 52, 54, 56, 58, 60, 62, 64, 66, 68, 70, 72, 74, 76, 78, 80, 82, 84, 86, 88, 90, 92, 94, 96, 98]\n",
      "[0, 4, 16, 36, 64, 100, 144, 196, 256, 324, 400, 484, 576, 676, 784, 900, 1024, 1156, 1296, 1444, 1600, 1764, 1936, 2116, 2304, 2500, 2704, 2916, 3136, 3364, 3600, 3844, 4096, 4356, 4624, 4900, 5184, 5476, 5776, 6084, 6400, 6724, 7056, 7396, 7744, 8100, 8464, 8836, 9216, 9604]\n"
     ]
    }
   ],
   "source": [
    "# 리스트 컴프리헨션\n",
    "list2 = [x for x in range(0,100,2)]\n",
    "print(list2)\n",
    "\n",
    "list3 = [x**2 for x in range(0,100,2)]\n",
    "print(list3)\n"
   ]
  },
  {
   "cell_type": "code",
   "execution_count": 3,
   "metadata": {},
   "outputs": [
    {
     "name": "stdout",
     "output_type": "stream",
     "text": [
      "23\n"
     ]
    }
   ],
   "source": [
    "# 문제1\n",
    "list = []\n",
    "\n",
    "for i in range(10) :\n",
    "    if i%3 == 0 or i%5 == 0 :\n",
    "        list.append(i)\n",
    "\n",
    "print(sum(list))"
   ]
  },
  {
   "cell_type": "code",
   "execution_count": 4,
   "metadata": {},
   "outputs": [
    {
     "name": "stdout",
     "output_type": "stream",
     "text": [
      "2318\n"
     ]
    }
   ],
   "source": [
    "# 문제2\n",
    "list = []\n",
    "\n",
    "for i in range(100) :\n",
    "    if i%3 == 0 or i%5 == 0 :\n",
    "        list.append(i)\n",
    "\n",
    "print(sum(list))"
   ]
  }
 ],
 "metadata": {
  "kernelspec": {
   "display_name": "Python 3",
   "language": "python",
   "name": "python3"
  },
  "language_info": {
   "codemirror_mode": {
    "name": "ipython",
    "version": 3
   },
   "file_extension": ".py",
   "mimetype": "text/x-python",
   "name": "python",
   "nbconvert_exporter": "python",
   "pygments_lexer": "ipython3",
   "version": "3.10.9 (tags/v3.10.9:1dd9be6, Dec  6 2022, 20:01:21) [MSC v.1934 64 bit (AMD64)]"
  },
  "orig_nbformat": 4,
  "vscode": {
   "interpreter": {
    "hash": "08804ff59ba42edf801cabf0150036e830ede650fb4c74b1d2ab081b0e1a309a"
   }
  }
 },
 "nbformat": 4,
 "nbformat_minor": 2
}
