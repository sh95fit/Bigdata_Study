{
 "cells": [
  {
   "cell_type": "code",
   "execution_count": 3,
   "metadata": {},
   "outputs": [],
   "source": [
    "# 리스트 예시\n",
    "list_all = []\n",
    "\n",
    "for i in range(1, 100) :\n",
    "    if i%3 == 0 or i%5 == 0 :\n",
    "        list_all.append(i)"
   ]
  },
  {
   "cell_type": "code",
   "execution_count": 6,
   "metadata": {},
   "outputs": [
    {
     "name": "stdout",
     "output_type": "stream",
     "text": [
      "3\n",
      "99\n"
     ]
    }
   ],
   "source": [
    "# 리스트 내 최대/최소 확인하기\n",
    "print(min(list_all))\n",
    "print(max(list_all))"
   ]
  },
  {
   "cell_type": "code",
   "execution_count": 16,
   "metadata": {},
   "outputs": [
    {
     "name": "stdout",
     "output_type": "stream",
     "text": [
      "IN\n"
     ]
    }
   ],
   "source": [
    "list_ex = 30\n",
    "\n",
    "if list_ex in list_all :\n",
    "    print('IN')\n",
    "else :\n",
    "    print('Not IN')"
   ]
  },
  {
   "cell_type": "code",
   "execution_count": 19,
   "metadata": {},
   "outputs": [
    {
     "name": "stdout",
     "output_type": "stream",
     "text": [
      "[99, 96, 95, 93, 90, 87, 85, 84, 81, 80, 78, 75, 72, 70, 69, 66, 65, 63, 60, 57, 55, 54, 51, 50, 48, 45, 42, 40, 39, 36, 35, 33, 30, 27, 25, 24, 21, 20, 18, 15, 12, 10, 9, 6, 5, 3]\n"
     ]
    }
   ],
   "source": [
    "list_all.sort(reverse=True)\n",
    "print(list_all)"
   ]
  },
  {
   "cell_type": "code",
   "execution_count": 28,
   "metadata": {},
   "outputs": [
    {
     "name": "stdout",
     "output_type": "stream",
     "text": [
      "8\n"
     ]
    }
   ],
   "source": [
    "list_a = [1,1,3,3,3,3,4,4,4,4,4,4,4,4,5]\n",
    "print(list_a.count(4))"
   ]
  },
  {
   "cell_type": "code",
   "execution_count": 40,
   "metadata": {},
   "outputs": [
    {
     "name": "stdout",
     "output_type": "stream",
     "text": [
      "2\n",
      "7\n",
      "7\n"
     ]
    }
   ],
   "source": [
    "list_b = list('abcdefgcgc')\n",
    "# 인덱스 함수는 해당 값 중 가장 먼저 검색된 위치의 인덱스만 출력해준다!\n",
    "print(list_b.index('c'))\n",
    "print(list_b.index('c', 4))     # x.index(찾을 값, 인덱스 기준(~이후 가장 가까운 인덱스 값))\n",
    "print(list_b.index('c', 3, 8))    # x.index(찾을 값, 인덱스 기준(~이후 가장 가까운 인덱스 값), 인덱스 기준(~ 이전까지 포함되는 인덱스 값))"
   ]
  },
  {
   "cell_type": "code",
   "execution_count": 50,
   "metadata": {},
   "outputs": [
    {
     "name": "stdout",
     "output_type": "stream",
     "text": [
      "0 a\n",
      "1 b\n",
      "2 c\n",
      "3 d\n",
      "4 e\n",
      "5 f\n",
      "6 g\n",
      "7 c\n",
      "8 g\n",
      "9 c\n",
      "(0, 'a') <class 'tuple'>\n",
      "(1, 'b') <class 'tuple'>\n",
      "(2, 'c') <class 'tuple'>\n",
      "(3, 'd') <class 'tuple'>\n",
      "(4, 'e') <class 'tuple'>\n",
      "(5, 'f') <class 'tuple'>\n",
      "(6, 'g') <class 'tuple'>\n",
      "(7, 'c') <class 'tuple'>\n",
      "(8, 'g') <class 'tuple'>\n",
      "(9, 'c') <class 'tuple'>\n"
     ]
    }
   ],
   "source": [
    "for i, j in enumerate(list_b) :\n",
    "    print(i, j)\n",
    "\n",
    "# for i, j in enumerate(list_b) :\n",
    "#     print(i)\n",
    "\n",
    "for i in enumerate(list_b) :\n",
    "    print(i, type(i))"
   ]
  }
 ],
 "metadata": {
  "kernelspec": {
   "display_name": "Python 3",
   "language": "python",
   "name": "python3"
  },
  "language_info": {
   "codemirror_mode": {
    "name": "ipython",
    "version": 3
   },
   "file_extension": ".py",
   "mimetype": "text/x-python",
   "name": "python",
   "nbconvert_exporter": "python",
   "pygments_lexer": "ipython3",
   "version": "3.10.9"
  },
  "orig_nbformat": 4,
  "vscode": {
   "interpreter": {
    "hash": "08804ff59ba42edf801cabf0150036e830ede650fb4c74b1d2ab081b0e1a309a"
   }
  }
 },
 "nbformat": 4,
 "nbformat_minor": 2
}
