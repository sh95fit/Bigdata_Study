{
 "cells": [
  {
   "cell_type": "code",
   "execution_count": 3,
   "metadata": {},
   "outputs": [
    {
     "name": "stdout",
     "output_type": "stream",
     "text": [
      "{'a': 1, 'b': 2, 'c': 3, 'd': 4, 'e': 5}\n",
      "['a', 'b', 'c']\n",
      "[1, 2, 3]\n",
      "{'a': 1, 'b': 2, 'c': 3}\n",
      "\n",
      "\n",
      "[('a', 1), ('b', 2), ('c', 3)]\n",
      "['a', 'b', 'c']\n",
      "['a', 'b', 'c']\n",
      "[1, 2, 3]\n"
     ]
    }
   ],
   "source": [
    "d1 = {'a':1, 'b':2, 'c':3, 'd':4, 'e':5}\n",
    "print(d1)\n",
    "\n",
    "list_1 = list('abc')\n",
    "list_2 = [1,2,3]\n",
    "print(list_1)\n",
    "print(list_2)\n",
    "\n",
    "d2 = dict(zip(list_1, list_2))  # dictionary 만드는 함수 : zip\n",
    "print(d2)\n",
    "print('\\n')\n",
    "print(list(d2.items())) \n",
    "print(list(d2))\n",
    "print(list(d2.keys()))\n",
    "print(list(d2.values()))"
   ]
  },
  {
   "cell_type": "code",
   "execution_count": 4,
   "metadata": {},
   "outputs": [
    {
     "name": "stdout",
     "output_type": "stream",
     "text": [
      "1\n",
      "1\n",
      "None\n",
      "{'a': 1, 'b': 2, 'c': 3}\n",
      "['a', 'b', 'c']\n",
      "[1, 2, 3]\n",
      "a\n",
      "b\n",
      "c\n"
     ]
    }
   ],
   "source": [
    "# 키 값을 통해 값 가져오기\n",
    "# 키 값이 없으면 에러가 발생하므로 예외 처리를 해주어야 한다! (대괄호 사용 시 없으면 에러)\n",
    "# get 함수를 활용해 에러 발생 시 None이 나오도록 처리할 수 있다!\n",
    "print(d2['a'])\n",
    "print(d2.get('a'))\n",
    "print(d2.get(2))\n",
    "print(d2)\n",
    "print(list(d2.keys()))\n",
    "print(list(d2.values()))\n",
    "\n",
    "for i in d2.keys() :\n",
    "    print(i)"
   ]
  }
 ],
 "metadata": {
  "kernelspec": {
   "display_name": "Python 3",
   "language": "python",
   "name": "python3"
  },
  "language_info": {
   "codemirror_mode": {
    "name": "ipython",
    "version": 3
   },
   "file_extension": ".py",
   "mimetype": "text/x-python",
   "name": "python",
   "nbconvert_exporter": "python",
   "pygments_lexer": "ipython3",
   "version": "3.10.9"
  },
  "orig_nbformat": 4,
  "vscode": {
   "interpreter": {
    "hash": "08804ff59ba42edf801cabf0150036e830ede650fb4c74b1d2ab081b0e1a309a"
   }
  }
 },
 "nbformat": 4,
 "nbformat_minor": 2
}
