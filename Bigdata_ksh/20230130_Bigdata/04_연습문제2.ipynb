{
 "cells": [
  {
   "cell_type": "code",
   "execution_count": 22,
   "metadata": {},
   "outputs": [
    {
     "name": "stdout",
     "output_type": "stream",
     "text": [
      "A의 개수 : 19\n",
      "B의 개수 : 7\n",
      "C의 개수 : 10\n",
      "D의 개수 : 11\n",
      "E의 개수 : 29\n",
      "F의 개수 : 4\n",
      "G의 개수 : 4\n",
      "H의 개수 : 14\n",
      "I의 개수 : 19\n",
      "J의 개수 : 0\n",
      "K의 개수 : 0\n",
      "L의 개수 : 10\n",
      "M의 개수 : 6\n",
      "N의 개수 : 20\n",
      "O의 개수 : 15\n",
      "P의 개수 : 6\n",
      "Q의 개수 : 0\n",
      "R의 개수 : 15\n",
      "S의 개수 : 18\n",
      "T의 개수 : 26\n",
      "U의 개수 : 6\n",
      "V의 개수 : 0\n",
      "W의 개수 : 2\n",
      "X의 개수 : 2\n",
      "Y의 개수 : 8\n",
      "Z의 개수 : 0\n"
     ]
    }
   ],
   "source": [
    "s = 'While The Python Language Reference describes the exact syntax and semantics of the Python language, this library reference manual describes the standard library that is distributed with Python. It also describes some of the optional components that are commonly included in Python distributions.'\n",
    "s = s.lower()\n",
    "\n",
    "alpha_list = []\n",
    "list_count = []\n",
    "\n",
    "# 아스키코드 소문자 범위 97~122  숫자 to 아스키 : chr()\n",
    "\n",
    "for i in range(97, 123) :\n",
    "    alpha_list.append(chr(i-32))\n",
    "    list_count.append(s.count(chr(i)))\n",
    "\n",
    "alpha_count = zip(alpha_list, list_count)\n",
    "# print(list(alpha_count))\n",
    "\n",
    "for k, v in dict(alpha_count).items() :\n",
    "    print(f'{k}의 개수 : {v}')\n"
   ]
  },
  {
   "cell_type": "code",
   "execution_count": 33,
   "metadata": {},
   "outputs": [
    {
     "name": "stdout",
     "output_type": "stream",
     "text": [
      "{'h': 14, 'P': 4, 'b': 7, 'w': 1, 'W': 1, 'R': 1, 's': 18, 'u': 6, 'a': 19, ' ': 42, 'o': 15, 'f': 4, ',': 1, 'e': 29, 'i': 18, 'm': 6, 'T': 1, 'r': 14, 'g': 4, 'n': 20, 'l': 9, 'L': 1, '.': 2, 'd': 11, 'y': 8, 't': 25, 'x': 2, 'c': 10, 'p': 2, 'I': 1}\n"
     ]
    }
   ],
   "source": [
    "s = 'While The Python Language Reference describes the exact syntax and semantics of the Python language, this library reference manual describes the standard library that is distributed with Python. It also describes some of the optional components that are commonly included in Python distributions.'\n",
    "\n",
    "list_s = list(s)\n",
    "# print(list_s)\n",
    "\n",
    "set_s = set(list_s)\n",
    "# print(set_s)\n",
    "\n",
    "key_list = []\n",
    "value_list = []\n",
    "\n",
    "for i in set_s :\n",
    "    # print(i, s.count(i))\n",
    "    key_list.append(i)\n",
    "    value_list.append(list_s.count(i))\n",
    "\n",
    "d1 = dict(zip(key_list, value_list))\n",
    "print(d1)\n"
   ]
  }
 ],
 "metadata": {
  "kernelspec": {
   "display_name": "Python 3",
   "language": "python",
   "name": "python3"
  },
  "language_info": {
   "codemirror_mode": {
    "name": "ipython",
    "version": 3
   },
   "file_extension": ".py",
   "mimetype": "text/x-python",
   "name": "python",
   "nbconvert_exporter": "python",
   "pygments_lexer": "ipython3",
   "version": "3.10.9"
  },
  "orig_nbformat": 4,
  "vscode": {
   "interpreter": {
    "hash": "08804ff59ba42edf801cabf0150036e830ede650fb4c74b1d2ab081b0e1a309a"
   }
  }
 },
 "nbformat": 4,
 "nbformat_minor": 2
}
