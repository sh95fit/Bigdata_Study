{
 "cells": [
  {
   "cell_type": "code",
   "execution_count": 19,
   "metadata": {},
   "outputs": [
    {
     "name": "stdout",
     "output_type": "stream",
     "text": [
      "7\n"
     ]
    }
   ],
   "source": [
    "# 라이브러리 활용 (random 모듈)\n",
    "import random\n",
    "\n",
    "print(random.randrange(1, 100))    # 매개변수 1개만 줄 경우 : 0부터 해당 매개변수까지를 범위로 적용 / 2개일 경우 : (start, stop) start부터 stop 전까지"
   ]
  },
  {
   "cell_type": "code",
   "execution_count": 22,
   "metadata": {},
   "outputs": [
    {
     "name": "stdout",
     "output_type": "stream",
     "text": [
      "91\n"
     ]
    }
   ],
   "source": [
    "from random import randrange\n",
    "\n",
    "print(randrange(1,100))"
   ]
  },
  {
   "cell_type": "code",
   "execution_count": 26,
   "metadata": {},
   "outputs": [
    {
     "name": "stdout",
     "output_type": "stream",
     "text": [
      "56\n",
      "50\n",
      "66\n",
      "51\n",
      "55\n",
      "57\n",
      "50\n",
      "51\n",
      "54\n",
      "61\n"
     ]
    }
   ],
   "source": [
    "import random\n",
    "\n",
    "# seed를 동일하게 하면 동일한 랜덤값이 나온다!\n",
    "random.seed(15)\n",
    "for _ in range(10) :\n",
    "    print(random.randrange(50,70))"
   ]
  },
  {
   "cell_type": "code",
   "execution_count": 3,
   "metadata": {},
   "outputs": [
    {
     "name": "stdout",
     "output_type": "stream",
     "text": [
      "0 7\n",
      "1 14\n",
      "2 7\n",
      "3 9\n",
      "4 8\n",
      "5 12\n",
      "6 8\n",
      "7 11\n",
      "8 13\n",
      "9 11\n"
     ]
    }
   ],
   "source": [
    "# seed : 50\n",
    "# 10~10000 미만 랜덤 숫자 100개 추출\n",
    "# 1000 단위 통계 (10~1000, 1100~1200 ...)\n",
    "\n",
    "import random\n",
    "\n",
    "list_r = []\n",
    "list_s = []\n",
    "random.seed(50)\n",
    "for _ in range(100) :\n",
    "    list_r.append(random.randrange(10, 10000))\n",
    "\n",
    "# print(list_r)\n",
    "\n",
    "for i in list_r :\n",
    "    list_s.append(int(i)//1000)\n",
    "\n",
    "# print(list_s)\n",
    "\n",
    "list = []\n",
    "for i in set(list_s) :\n",
    "    list.append(list_s.count(i))\n",
    "    print(i, list_s.count(i))\n",
    "# print(list)"
   ]
  }
 ],
 "metadata": {
  "kernelspec": {
   "display_name": "Python 3",
   "language": "python",
   "name": "python3"
  },
  "language_info": {
   "codemirror_mode": {
    "name": "ipython",
    "version": 3
   },
   "file_extension": ".py",
   "mimetype": "text/x-python",
   "name": "python",
   "nbconvert_exporter": "python",
   "pygments_lexer": "ipython3",
   "version": "3.10.9"
  },
  "orig_nbformat": 4,
  "vscode": {
   "interpreter": {
    "hash": "08804ff59ba42edf801cabf0150036e830ede650fb4c74b1d2ab081b0e1a309a"
   }
  }
 },
 "nbformat": 4,
 "nbformat_minor": 2
}
