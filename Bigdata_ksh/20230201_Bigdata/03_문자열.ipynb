{
 "cells": [
  {
   "cell_type": "code",
   "execution_count": 16,
   "metadata": {},
   "outputs": [
    {
     "name": "stdout",
     "output_type": "stream",
     "text": [
      "ab\\cde\n",
      "f\tghi\n",
      "['a', 'b', '\\\\', 'c', 'd', 'e', '\\n', 'f', '\\t', 'g', 'h', 'i']\n",
      "c\n",
      "cde\n",
      "ce\n",
      "1\n",
      "7\n"
     ]
    }
   ],
   "source": [
    "# 문자열\n",
    "\n",
    "s = 'ab\\\\cde\\nf\\tghi'\n",
    "print(s)\n",
    "print(list(s))\n",
    "print(s[3])\n",
    "print(s[3:6])\n",
    "print(s[3:6:2])\n",
    "print(s.count('c'))\n",
    "print(s.index('f'))"
   ]
  },
  {
   "cell_type": "code",
   "execution_count": 22,
   "metadata": {},
   "outputs": [
    {
     "name": "stdout",
     "output_type": "stream",
     "text": [
      "my 10 message def\n",
      "hello 10 Hi def\n"
     ]
    }
   ],
   "source": [
    "a = 10\n",
    "b = 'def'\n",
    "\n",
    "print('my {} message {}'.format(a, b))\n",
    "print('hello {0} Hi {1}'.format(a, b))"
   ]
  },
  {
   "cell_type": "code",
   "execution_count": 27,
   "metadata": {},
   "outputs": [
    {
     "name": "stdout",
     "output_type": "stream",
     "text": [
      "different\n"
     ]
    }
   ],
   "source": [
    "a = 'abc'\n",
    "b = '  abc'\n",
    "\n",
    "if a == b :\n",
    "    print('same')\n",
    "else :\n",
    "    print('different')"
   ]
  },
  {
   "cell_type": "code",
   "execution_count": 49,
   "metadata": {},
   "outputs": [
    {
     "name": "stdout",
     "output_type": "stream",
     "text": [
      "abc\n",
      "abc\n",
      "def\n",
      "ghi\n",
      "jklmno\n"
     ]
    }
   ],
   "source": [
    "# 문자열 여백 지우기\n",
    "\n",
    "c = '  abc'\n",
    "d = '  def        '\n",
    "e = '.....ghi'\n",
    "f = '...jkl...mno...'\n",
    "\n",
    "print(c[2:])\n",
    "print(c.lstrip())\n",
    "print(d.strip())\n",
    "print(e.lstrip('.'))\n",
    "print(f.split('...')[1]+f.split('...')[2])"
   ]
  },
  {
   "cell_type": "code",
   "execution_count": 57,
   "metadata": {},
   "outputs": [
    {
     "name": "stdout",
     "output_type": "stream",
     "text": [
      "['Create', 'a', 'new', 'string', 'object,', 'from', 'the', 'given', 'object.']\n",
      "['Create a new string object', ' from the given object.']\n",
      "['Create a new string object', ' from the given object.']\n"
     ]
    }
   ],
   "source": [
    "s = 'Create a new string object, from the given object.'\n",
    "# s.split()\n",
    "print(s.split())\n",
    "print(s.split(','))\n",
    "print(s.split(sep=','))"
   ]
  }
 ],
 "metadata": {
  "kernelspec": {
   "display_name": "Python 3",
   "language": "python",
   "name": "python3"
  },
  "language_info": {
   "codemirror_mode": {
    "name": "ipython",
    "version": 3
   },
   "file_extension": ".py",
   "mimetype": "text/x-python",
   "name": "python",
   "nbconvert_exporter": "python",
   "pygments_lexer": "ipython3",
   "version": "3.10.9 (tags/v3.10.9:1dd9be6, Dec  6 2022, 20:01:21) [MSC v.1934 64 bit (AMD64)]"
  },
  "orig_nbformat": 4,
  "vscode": {
   "interpreter": {
    "hash": "08804ff59ba42edf801cabf0150036e830ede650fb4c74b1d2ab081b0e1a309a"
   }
  }
 },
 "nbformat": 4,
 "nbformat_minor": 2
}
