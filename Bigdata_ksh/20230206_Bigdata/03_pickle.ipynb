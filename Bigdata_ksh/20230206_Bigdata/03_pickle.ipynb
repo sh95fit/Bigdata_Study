{
 "cells": [
  {
   "cell_type": "code",
   "execution_count": 4,
   "metadata": {},
   "outputs": [
    {
     "name": "stdout",
     "output_type": "stream",
     "text": [
      "어린이공원 : 8800\n",
      "근린공원 : 3799\n",
      "소공원 : 2582\n",
      "기타 : 524\n",
      "문화공원 : 373\n",
      "수변공원 : 325\n",
      "체육공원 : 244\n",
      "역사공원 : 184\n",
      "마을마당 : 48\n",
      "묘지공원 : 34\n",
      "기타공원 : 30\n",
      "도시농업공원 : 7\n",
      "도시자연공원 : 3\n",
      "주제공원 : 2\n",
      "도시자연공원구역 : 2\n",
      "어린인공원 : 1\n",
      "B블럭)\" : 1\n",
      "원정 : 1\n",
      "화산 : 1\n",
      "복림\" : 1\n",
      "장등\" : 1\n",
      "세 : 1\n",
      "송정\" : 1\n",
      "평림\" : 1\n",
      "용수\" : 1\n",
      " 태릉입구 5번 출구)\" : 1\n",
      "5호공원\" : 1\n"
     ]
    }
   ],
   "source": [
    "list=[]\n",
    "sor=[]\n",
    "klist=[]\n",
    "vlist=[]\n",
    "d1={}\n",
    "d1_sort=[]\n",
    "with open('전국도시공원정보표준데이터.csv', encoding='cp949') as f :       #cp949 : 코드페이지 949 인코딩 방식도 존재\n",
    "    for line in f :\n",
    "        list.append(line[:-1].split(','))\n",
    "\n",
    "    for i in range(len(list)) :\n",
    "        sor.append(list[i][2])\n",
    "\n",
    "    for k in set(sor[1:]) :\n",
    "        klist.append(k)\n",
    "        vlist.append(sor.count(k))\n",
    "    d1=dict(zip(klist,vlist))\n",
    "    # print(d1)\n",
    "    \n",
    "    # for k, v in d1.items() :\n",
    "        # print(f\"{k} : {v}\")\n",
    "    \n",
    "    d1_sort = dict(sorted(d1.items(), key=lambda x:x[1], reverse=True))\n",
    "    for k, v in d1_sort.items() :\n",
    "        # if v != 1 :\n",
    "        print(f\"{k} : {v}\")"
   ]
  },
  {
   "cell_type": "code",
   "execution_count": 10,
   "metadata": {},
   "outputs": [],
   "source": [
    "import pickle\n",
    "\n",
    "\n",
    "pickle_dict = {'description':'this file is ...', 'data':d1_sort}\n",
    "\n",
    "with open('park_count.pickle', 'wb') as f :\n",
    "    # 이진형태로 파일 저장\n",
    "    pickle.dump(pickle_dict, f)"
   ]
  },
  {
   "cell_type": "code",
   "execution_count": 11,
   "metadata": {},
   "outputs": [],
   "source": [
    "with open('park_text.txt', 'w', encoding='UTF-8') as f :\n",
    "    f.write('park count')"
   ]
  }
 ],
 "metadata": {
  "kernelspec": {
   "display_name": "Python 3",
   "language": "python",
   "name": "python3"
  },
  "language_info": {
   "codemirror_mode": {
    "name": "ipython",
    "version": 3
   },
   "file_extension": ".py",
   "mimetype": "text/x-python",
   "name": "python",
   "nbconvert_exporter": "python",
   "pygments_lexer": "ipython3",
   "version": "3.10.9"
  },
  "orig_nbformat": 4,
  "vscode": {
   "interpreter": {
    "hash": "08804ff59ba42edf801cabf0150036e830ede650fb4c74b1d2ab081b0e1a309a"
   }
  }
 },
 "nbformat": 4,
 "nbformat_minor": 2
}
