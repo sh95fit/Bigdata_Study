{
 "cells": [
  {
   "cell_type": "code",
   "execution_count": 1,
   "metadata": {},
   "outputs": [
    {
     "name": "stdout",
     "output_type": "stream",
     "text": [
      "{'어린이공원': 8800, '근린공원': 3799, '소공원': 2582, '기타': 524, '문화공원': 373, '수변공원': 325, '체육공원': 244, '역사공원': 184, '마을마당': 48, '묘지공원': 34, '기타공원': 30, '도시농업공원': 7, '도시자연공원': 3, '주제공원': 2, '도시자연공원구역': 2, '어린인공원': 1, 'B블럭)\"': 1, '원정': 1, '화산': 1, '복림\"': 1, '장등\"': 1, '세': 1, '송정\"': 1, '평림\"': 1, '용수\"': 1, ' 태릉입구 5번 출구)\"': 1, '5호공원\"': 1}\n"
     ]
    }
   ],
   "source": [
    "import pickle\n",
    "\n",
    "with open('park_count.pickle', 'rb') as f :\n",
    "    data = pickle.load(f)\n",
    "\n",
    "print(data)"
   ]
  }
 ],
 "metadata": {
  "kernelspec": {
   "display_name": "Python 3",
   "language": "python",
   "name": "python3"
  },
  "language_info": {
   "codemirror_mode": {
    "name": "ipython",
    "version": 3
   },
   "file_extension": ".py",
   "mimetype": "text/x-python",
   "name": "python",
   "nbconvert_exporter": "python",
   "pygments_lexer": "ipython3",
   "version": "3.10.9"
  },
  "orig_nbformat": 4,
  "vscode": {
   "interpreter": {
    "hash": "08804ff59ba42edf801cabf0150036e830ede650fb4c74b1d2ab081b0e1a309a"
   }
  }
 },
 "nbformat": 4,
 "nbformat_minor": 2
}
