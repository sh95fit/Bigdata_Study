{
 "cells": [
  {
   "attachments": {},
   "cell_type": "markdown",
   "metadata": {},
   "source": [
    " <!-- HTML 기본 형태 -->\n",
    " \n",
    " <html>\n",
    "    <head></head>\n",
    "    <title></title>\n",
    "    <body></body>\n",
    " </html>"
   ]
  },
  {
   "attachments": {},
   "cell_type": "markdown",
   "metadata": {},
   "source": [
    "<!-- XML 기본 형태 -->\n",
    "\n",
    "<person>\n",
    "  <name>abcd</name>\n",
    "  <age>100</age>\n",
    "</person>\n",
    "\n",
    "* 참고 : .json"
   ]
  },
  {
   "cell_type": "code",
   "execution_count": 55,
   "metadata": {},
   "outputs": [],
   "source": [
    "from lxml import etree\n",
    "\n",
    "sample_xml='''\n",
    "  <AAA>\n",
    "    <BBB id=\"a\">\n",
    "      <XXX>\n",
    "      </XXX>\n",
    "      <ZZZ />\n",
    "    </BBB>\n",
    "    <CCC id=\"a\">\n",
    "      <ZZZ>test string</ZZZ>\n",
    "    </CCC>\n",
    "    <BBB id=\"b\">\n",
    "      <yyy></yyy>\n",
    "    </BBB>\n",
    "    <BBB></BBB>\n",
    "  </AAA>\n",
    "\n",
    "'''\n",
    "\n",
    "et = etree.fromstring(sample_xml)\n"
   ]
  },
  {
   "cell_type": "code",
   "execution_count": 39,
   "metadata": {},
   "outputs": [
    {
     "name": "stdout",
     "output_type": "stream",
     "text": [
      "<Element AAA at 0x1cfee6c2100>\n",
      "b'<AAA>\\n    <BBB>\\n      <XXX>\\n      </XXX>\\n      <ZZZ/>\\n    </BBB>\\n    <CCC>\\n      <ZZZ>test string</ZZZ>\\n    </CCC>\\n    <BBB>\\n      <yyy/>\\n    </BBB>\\n  </AAA>'\n"
     ]
    }
   ],
   "source": [
    "print(et)\n",
    "print(etree.tostring(et))"
   ]
  },
  {
   "cell_type": "code",
   "execution_count": 40,
   "metadata": {},
   "outputs": [
    {
     "name": "stdout",
     "output_type": "stream",
     "text": [
      "[<Element BBB at 0x1cfee7dbbc0>, <Element BBB at 0x1cfee7db740>]\n",
      "b'<BBB>\\n      <XXX>\\n      </XXX>\\n      <ZZZ/>\\n    </BBB>\\n    '\n",
      "b'<AAA>\\n    <BBB>\\n      <XXX>\\n      </XXX>\\n      <ZZZ/>\\n    </BBB>\\n    <CCC>\\n      <ZZZ>test string</ZZZ>\\n    </CCC>\\n    <BBB>\\n      <yyy/>\\n    </BBB>\\n  </AAA>'\n"
     ]
    }
   ],
   "source": [
    "k = et.xpath('/AAA')\n",
    "r = et.xpath('/AAA/BBB')\n",
    "m = et.xpath('/AAA/BBB/XXX')\n",
    "\n",
    "print(r)\n",
    "print(etree.tostring(r[0]))\n",
    "print(etree.tostring(k[0]))\n"
   ]
  },
  {
   "cell_type": "code",
   "execution_count": 41,
   "metadata": {},
   "outputs": [
    {
     "name": "stdout",
     "output_type": "stream",
     "text": [
      "[<Element ZZZ at 0x1cfee7114c0>, <Element ZZZ at 0x1cfee7be200>]\n",
      "b'<ZZZ/>\\n    '\n",
      "b'<ZZZ>test string</ZZZ>\\n    '\n"
     ]
    }
   ],
   "source": [
    "t = et.xpath('//ZZZ')\n",
    "\n",
    "print(t)\n",
    "print(etree.tostring(t[0]))\n",
    "print(etree.tostring(t[1]))"
   ]
  },
  {
   "cell_type": "code",
   "execution_count": 43,
   "metadata": {},
   "outputs": [
    {
     "name": "stdout",
     "output_type": "stream",
     "text": [
      "[<Element XXX at 0x1cfee7db900>]\n"
     ]
    }
   ],
   "source": [
    "r = et.xpath('//BBB/XXX')\n",
    "print(r)"
   ]
  },
  {
   "cell_type": "code",
   "execution_count": 46,
   "metadata": {},
   "outputs": [
    {
     "name": "stdout",
     "output_type": "stream",
     "text": [
      "[<Element AAA at 0x1cfee6c2100>, <Element BBB at 0x1cfee75d840>, <Element XXX at 0x1cfee7db900>, <Element ZZZ at 0x1cfee7114c0>, <Element CCC at 0x1cfee75d2c0>, <Element ZZZ at 0x1cfee7be200>, <Element BBB at 0x1cfee75c480>, <Element yyy at 0x1cfee75e840>] 8\n"
     ]
    }
   ],
   "source": [
    "r = et.xpath('//*')\n",
    "print(r, len(r))"
   ]
  },
  {
   "cell_type": "code",
   "execution_count": 48,
   "metadata": {},
   "outputs": [
    {
     "name": "stdout",
     "output_type": "stream",
     "text": [
      "[<Element XXX at 0x1cfee7db900>, <Element ZZZ at 0x1cfee7114c0>, <Element yyy at 0x1cfee75e840>]\n"
     ]
    }
   ],
   "source": [
    "r = et.xpath('//BBB/*')\n",
    "print(r)"
   ]
  },
  {
   "cell_type": "code",
   "execution_count": 50,
   "metadata": {},
   "outputs": [
    {
     "name": "stdout",
     "output_type": "stream",
     "text": [
      "[<Element yyy at 0x1cfee75e840>]\n"
     ]
    }
   ],
   "source": [
    "r = et.xpath('//*/yyy')\n",
    "print(r)"
   ]
  },
  {
   "cell_type": "code",
   "execution_count": 60,
   "metadata": {},
   "outputs": [
    {
     "name": "stdout",
     "output_type": "stream",
     "text": [
      "[<Element BBB at 0x1cfee7c78c0>, <Element CCC at 0x1cfed356680>]\n"
     ]
    }
   ],
   "source": [
    "r = et.xpath('//@id')\n",
    "r = et.xpath('//BBB[@id]')\n",
    "r = et.xpath('//BBB[@id=\"a\"]')\n",
    "r = et.xpath('//*[@id=\"a\"]')\n",
    "print(r)"
   ]
  }
 ],
 "metadata": {
  "kernelspec": {
   "display_name": "Python 3",
   "language": "python",
   "name": "python3"
  },
  "language_info": {
   "codemirror_mode": {
    "name": "ipython",
    "version": 3
   },
   "file_extension": ".py",
   "mimetype": "text/x-python",
   "name": "python",
   "nbconvert_exporter": "python",
   "pygments_lexer": "ipython3",
   "version": "3.10.9"
  },
  "orig_nbformat": 4,
  "vscode": {
   "interpreter": {
    "hash": "08804ff59ba42edf801cabf0150036e830ede650fb4c74b1d2ab081b0e1a309a"
   }
  }
 },
 "nbformat": 4,
 "nbformat_minor": 2
}
