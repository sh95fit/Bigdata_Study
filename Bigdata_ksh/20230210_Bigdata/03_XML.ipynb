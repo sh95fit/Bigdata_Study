{
 "cells": [
  {
   "cell_type": "code",
   "execution_count": 13,
   "metadata": {},
   "outputs": [],
   "source": [
    "from lxml import etree\n",
    "\n",
    "\n",
    "sample_xml = '''\n",
    "<AAA>\n",
    "    <BBB id=\"b1\"> 1 </BBB>\n",
    "    <BBB id=\"b2\"> 2 </BBB>\n",
    "    <BBB class=\"X\"> 3 </BBB>\n",
    "    <BBB> 4 </BBB>\n",
    "</AAA>\n",
    "'''\n",
    "\n",
    "xml = etree.fromstring(sample_xml)"
   ]
  },
  {
   "cell_type": "code",
   "execution_count": 15,
   "metadata": {},
   "outputs": [
    {
     "name": "stdout",
     "output_type": "stream",
     "text": [
      "[<Element BBB at 0x25282756a80>]\n",
      "b'<BBB> 4 </BBB>\\n'\n"
     ]
    }
   ],
   "source": [
    "# Attribute를 가지고 있는 모든 태그 가져오기\n",
    "b = xml.xpath('//BBB[@*]')\n",
    "b = xml.xpath('//BBB[not(@*)]')\n",
    "print(b)\n",
    "for i in b :\n",
    "    print(etree.tostring(i))"
   ]
  }
 ],
 "metadata": {
  "kernelspec": {
   "display_name": "Python 3",
   "language": "python",
   "name": "python3"
  },
  "language_info": {
   "codemirror_mode": {
    "name": "ipython",
    "version": 3
   },
   "file_extension": ".py",
   "mimetype": "text/x-python",
   "name": "python",
   "nbconvert_exporter": "python",
   "pygments_lexer": "ipython3",
   "version": "3.10.9"
  },
  "orig_nbformat": 4,
  "vscode": {
   "interpreter": {
    "hash": "08804ff59ba42edf801cabf0150036e830ede650fb4c74b1d2ab081b0e1a309a"
   }
  }
 },
 "nbformat": 4,
 "nbformat_minor": 2
}
