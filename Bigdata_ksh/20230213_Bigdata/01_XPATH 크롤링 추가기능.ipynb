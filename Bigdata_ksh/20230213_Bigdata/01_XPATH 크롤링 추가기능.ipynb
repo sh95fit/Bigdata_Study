{
 "cells": [
  {
   "attachments": {},
   "cell_type": "markdown",
   "metadata": {},
   "source": [
    "#### 네이버 현재 상영 영화\n",
    "\n",
    "url = \"https://movie.naver.com/movie/running/current.naver\"\n",
    "\n",
    "* 현재 상영영화 페이지에서 아래 데이터 수집, 리스트로 저장\n",
    " - 영화 제목\n",
    " - 평점(네티즌)\n",
    " - 추가 보너스 : 개봉일자, 상영시간\n",
    "\n",
    "[['라스트버스, 9.60], ['원웨이', 5.75], ...]"
   ]
  },
  {
   "cell_type": "code",
   "execution_count": 1,
   "metadata": {},
   "outputs": [],
   "source": [
    "import requests\n",
    "from lxml import etree"
   ]
  },
  {
   "cell_type": "code",
   "execution_count": 2,
   "metadata": {},
   "outputs": [],
   "source": [
    "url = \"https://movie.naver.com/movie/running/current.naver\"\n",
    "\n",
    "page = requests.get(url)"
   ]
  },
  {
   "cell_type": "code",
   "execution_count": 3,
   "metadata": {},
   "outputs": [],
   "source": [
    "pp = etree.fromstring(page.text, parser=etree.HTMLParser())"
   ]
  },
  {
   "cell_type": "code",
   "execution_count": 4,
   "metadata": {},
   "outputs": [],
   "source": [
    "r = pp.xpath('//dt[@class=\"tit\"]/a')\n",
    "\n",
    "movie_name_list = []\n",
    "for e in r :\n",
    "    # print(e.text)\n",
    "    movie_name_list.append(e.text)"
   ]
  },
  {
   "cell_type": "code",
   "execution_count": 5,
   "metadata": {},
   "outputs": [
    {
     "name": "stdout",
     "output_type": "stream",
     "text": [
      "애정 103\n"
     ]
    }
   ],
   "source": [
    "print(movie_name_list[-1], len(movie_name_list))"
   ]
  },
  {
   "cell_type": "code",
   "execution_count": 6,
   "metadata": {},
   "outputs": [
    {
     "name": "stdout",
     "output_type": "stream",
     "text": [
      "103\n"
     ]
    }
   ],
   "source": [
    "r = pp.xpath('//dt[@class=\"tit_t1\"]/following::dd[1]/div[@class=\"star_t1\"]/a/span[@class=\"num\"]')\n",
    "r = pp.xpath('//a[contains(@href,\"pointAfterTab\")]/span[@class=\"num\"]')\n",
    "\n",
    "print(len(r))\n",
    "\n",
    "movie_star_list = []\n",
    "\n",
    "for e in r :\n",
    "    # print(e.text)\n",
    "    movie_star_list.append(float(e.text))"
   ]
  },
  {
   "cell_type": "code",
   "execution_count": 7,
   "metadata": {},
   "outputs": [
    {
     "name": "stdout",
     "output_type": "stream",
     "text": [
      "['라스트 버스', '원 웨이', '울프 하운드']\n",
      "[9.22, 5.25, 5.18]\n"
     ]
    }
   ],
   "source": [
    "print(movie_name_list[:3])\n",
    "print(movie_star_list[:3])"
   ]
  },
  {
   "cell_type": "code",
   "execution_count": 8,
   "metadata": {},
   "outputs": [
    {
     "name": "stdout",
     "output_type": "stream",
     "text": [
      "[('라스트 버스', 9.22), ('원 웨이', 5.25), ('울프 하운드', 5.18)]\n"
     ]
    }
   ],
   "source": [
    "final_data = [] \n",
    "for e in zip(movie_name_list, movie_star_list) :\n",
    "    final_data.append(e)\n",
    "print(final_data[:3])"
   ]
  },
  {
   "cell_type": "code",
   "execution_count": 9,
   "metadata": {},
   "outputs": [
    {
     "name": "stdout",
     "output_type": "stream",
     "text": [
      "[['라스트 버스', 9.22], ['원 웨이', 5.25], ['울프 하운드', 5.18]]\n"
     ]
    }
   ],
   "source": [
    "# 다른 방식\n",
    "final_data2 = []\n",
    "for n,s in zip(movie_name_list, movie_star_list) :\n",
    "    final_data2.append([n, s])\n",
    "print(final_data2[:3])"
   ]
  },
  {
   "cell_type": "code",
   "execution_count": 10,
   "metadata": {},
   "outputs": [
    {
     "name": "stdout",
     "output_type": "stream",
     "text": [
      "마이클 B. 체이트\n",
      "네가 떨어뜨린 푸른 하늘\n",
      "레오나르도 디카프리오\n",
      "어쩌면 우린 헤어졌는지 모른다\n",
      "우리 사랑이 향기로 남을 때\n",
      "타넬리 무스토넨\n",
      "트리스탄 루게리\n",
      "궁지에 몰린 쥐는 치즈 꿈을 꾼다\n",
      "유키사다 이사오\n",
      "오쿠라 타다요시\n",
      "디텍티브 나이트: 가면의 밤\n",
      "에드워드 드레이크\n",
      "지미 장 루이스\n",
      "자흐라 아미르 에브라히미\n",
      "메흐디 바제스타니\n",
      "안녕, 소중한 사람\n",
      "가스파르 울리엘\n",
      "몬스터 하우스2: 인비져블 피닉스\n",
      "데니스 체르노프\n",
      "극장판 전생했더니 슬라임이었던 건에 대하여: 홍련의 인연편\n",
      "키쿠치 야스히토\n",
      "후루카와 마코토\n",
      "토요구치 메구미\n",
      "방탄소년단: 옛 투 컴 인 시네마\n",
      "올리비에 아사야스\n",
      "장 피에르 레오\n",
      "다니엘 아르비드\n",
      "세르게이 폴루닌\n",
      "극장판 겁쟁이 페달\n",
      "앨리슨 윌리암스\n",
      "바이올렛 맥그로우\n",
      "안드레이 고글레프\n",
      "모하매드 카이란디시\n",
      "천룡팔부: 교봉전\n",
      "400번의 구타\n",
      "프랑수아 트뤼포\n",
      "장 피에르 레오\n",
      "프랑수아 트뤼포\n",
      "위르실라 메이에\n",
      "스테파니 블렁슈\n",
      "발레리아 브루니 테데스키\n",
      "엘리 스파그놀로\n",
      "열여덟, 어른이 되는 나이\n",
      "엄마의 땅: 그리샤와 숲의 주인\n",
      "새를 사랑한 화가\n",
      "극장판 파워레인저 캡틴포스: 지구를 위한 싸움\n",
      "나카자와 쇼지로\n",
      "캐리와 슈퍼콜라\n",
      "라일 라일 크로커다일\n",
      "하비에르 바르뎀\n",
      "윈슬로우 페글리\n",
      "시간을 꿈꾸는 소녀\n",
      "나는 마을 방과후 교사입니다\n",
      "애슐리 티스데일\n",
      "해시태그 시그네\n",
      "크리스토퍼 보글리\n",
      "크리스틴 쿠야트 소프\n",
      "앤더스 다니엘슨 리\n",
      "더 퍼스트 슬램덩크\n",
      "이노우에 다케히코\n",
      "장화신은 고양이: 끝내주는 모험\n",
      "안토니오 반데라스\n",
      "더바인 조이 랜돌프\n",
      "3000년의 기다림\n",
      "아피찻퐁 위라세타쿤\n",
      "피네건 올드필드\n",
      "자밀 맥크레이븐\n",
      "파리다 라우아디\n",
      "드라이브 마이 카\n",
      "하마구치 류스케\n",
      "니시지마 히데토시\n",
      "핑크퐁 시네마 콘서트 2: 원더스타 콘서트 대작전\n",
      "페르시아어 수업\n",
      "나우엘 페레즈 비스카야트\n",
      "라르스 아이딩어\n",
      "아바타: 물의 길\n",
      "지오바니 리비시\n",
      "신비아파트 극장판 차원도깨비와 7개의 세계\n",
      "유아사 마사아키\n",
      "모리야마 미라이\n",
      "극장판 뽀로로와 친구들: 바이러스를 없애줘!\n",
      "오늘 밤, 세계에서 이 사랑이 사라진다 해도\n",
      "미치에다 슌스케 \n",
      "후루카와 코토네\n",
      "마츠모토 호노카\n",
      "루카 구아다니노\n",
      "원피스 필름 레드\n",
      "오카무라 아케미\n",
      "야마구치 캇페이\n",
      "히라타 히로아키\n",
      "오오타니 이쿠에\n",
      "야마구치 유리코\n",
      "그 겨울, 나는\n",
      "양자경의 더 모든 날 모든 순간\n",
      "다니엘 쉐이너트\n",
      "제이미 리 커티스\n",
      "같은 속옷을 입는 두 여자\n",
      "이마이시 히로유키\n",
      "마츠야마 켄이치\n",
      "사오토메 타이치\n",
      "에브리씽 에브리웨어 올 앳 원스\n",
      "다니엘 쉐이너트\n",
      "제이미 리 커티스\n",
      "바다 탐험대 옥토넛 : 탐험선 대작전\n",
      "극장판 주술회전 0\n",
      "우치야마 코우키\n",
      "나카무라 유이치\n",
      "사쿠라이 타카히로\n",
      "뱅드림! 필름 라이브 세컨드 스테이지\n",
      "히라이즈미 세이\n",
      "카미키 류노스케\n",
      "카미시라이시 모네\n",
      "루크레시아 마르텔\n",
      "다니엘 기메네즈 카쵸\n",
      "릴리 슈슈의 모든 것\n",
      "이치하라 하야토\n",
      "알렉시스 마넨티\n",
      "유어 아이즈 텔\n",
      "요시타카 유리코\n",
      "요코하마 류세이\n",
      "타이페이 스토리\n",
      "뱅드림! 필름 라이브\n",
      "오오하시 아야카\n",
      "안드레 S. 라바르트\n",
      "하나 그리고 둘\n",
      "구름의 저편, 약속의 장소\n",
      "하기와라 마사토\n",
      "요시오카 히데타카\n",
      "별을 쫓는 아이\n",
      "카네모토 히사코\n",
      "이노우에 카즈히코\n",
      "북북서로 진로를 돌려라\n",
      "알프레드 히치콕\n",
      "에바 마리 세인트\n",
      "클라렌스 브라운\n",
      "고객센터 DB제보 문의하기\n",
      "책임의 한계와 법적고지\n",
      "사업자등록정보 확인\n",
      "NAVER Corp.\n"
     ]
    }
   ],
   "source": [
    "# text()\n",
    "# contains, starts-with, string-length\n",
    "\n",
    "r = pp.xpath('//dt[text()=\"개요\"]')\n",
    "# print(r)\n",
    "# for i in r :\n",
    "#     print(i.text)\n",
    "\n",
    "r = pp.xpath('//dt[contains(text(),\"네티\")]')\n",
    "# for i in r :\n",
    "#      print(i.text)\n",
    "\n",
    "r = pp.xpath('//dt[starts-with(text(),\"네티\")]')\n",
    "# for i in r :\n",
    "#      print(i.text)\n",
    "\n",
    "r = pp.xpath('//a[starts-with(@href,\"/movie\")]')\n",
    "# for i in r :\n",
    "#     print(i.text)\n",
    "\n",
    "r = pp.xpath('//a[string-length(text())>7]')\n",
    "for i in r :\n",
    "    print(i.text)"
   ]
  },
  {
   "cell_type": "code",
   "execution_count": 11,
   "metadata": {},
   "outputs": [
    {
     "name": "stdout",
     "output_type": "stream",
     "text": [
      "[<Element li at 0x18aa7fa8ec0>] 1\n"
     ]
    }
   ],
   "source": [
    "# 순서, 인덱스\n",
    "\n",
    "r = pp.xpath('//ul[@class=\"lst_detail_t1\"]/li[1]')\n",
    "r = pp.xpath('//ul[@class=\"lst_detail_t1\"]/li[last()]')\n",
    "print(r,len(r))\n",
    "# print(etree.tostring(r[0]))\n"
   ]
  },
  {
   "cell_type": "code",
   "execution_count": 12,
   "metadata": {},
   "outputs": [
    {
     "name": "stdout",
     "output_type": "stream",
     "text": [
      "103\n"
     ]
    }
   ],
   "source": [
    "r = pp.xpath('//dt[@class=\"tit_t1\"]/following-sibling::dd[1]//span[@class=\"num\"]')\n",
    "\n",
    "print(len(r))"
   ]
  },
  {
   "cell_type": "code",
   "execution_count": 13,
   "metadata": {},
   "outputs": [],
   "source": [
    "# parent:: / ancestor::\n",
    "# child::  / decendent::\n",
    "# following-sibling:: / preceding-sibling::"
   ]
  }
 ],
 "metadata": {
  "kernelspec": {
   "display_name": "Python 3",
   "language": "python",
   "name": "python3"
  },
  "language_info": {
   "codemirror_mode": {
    "name": "ipython",
    "version": 3
   },
   "file_extension": ".py",
   "mimetype": "text/x-python",
   "name": "python",
   "nbconvert_exporter": "python",
   "pygments_lexer": "ipython3",
   "version": "3.10.9"
  },
  "orig_nbformat": 4,
  "vscode": {
   "interpreter": {
    "hash": "08804ff59ba42edf801cabf0150036e830ede650fb4c74b1d2ab081b0e1a309a"
   }
  }
 },
 "nbformat": 4,
 "nbformat_minor": 2
}
