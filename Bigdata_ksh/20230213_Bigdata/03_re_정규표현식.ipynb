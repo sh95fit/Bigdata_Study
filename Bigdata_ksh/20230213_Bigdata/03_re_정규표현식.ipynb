{
 "cells": [
  {
   "cell_type": "code",
   "execution_count": 44,
   "metadata": {},
   "outputs": [
    {
     "name": "stdout",
     "output_type": "stream",
     "text": [
      "<re.Match object; span=(0, 10), match='TestString'>\n"
     ]
    }
   ],
   "source": [
    "import re\n",
    "\n",
    "s = 'TestString'\n",
    "# s = 'tg'\n",
    "\n",
    "r = re.match('.', s)    # \\n 제외 모든 문자\n",
    "r = re.match('\\w', s)   # 알파벳+숫자 문자 중 하나\n",
    "r = re.match('.*', s)   # * : 반복(0~다수)  반복 횟수가 0이상인 경우 적용!\n",
    "r = re.match('.+', s)   # + : 반복(1~다수)  반복 횟수가 1이상인 경우 적용!\n",
    "r = re.match('.?', s)  # ? : 0 or 1 존재\n",
    "r = re.match('^T', s)   # ^x : x로 시작\n",
    "r = re.match('.*g$', s)   # g$ : g로 끝\n",
    "print(r)\n"
   ]
  },
  {
   "cell_type": "code",
   "execution_count": 54,
   "metadata": {},
   "outputs": [
    {
     "name": "stdout",
     "output_type": "stream",
     "text": [
      "<re.Match object; span=(0, 10), match='TestString'>\n"
     ]
    }
   ],
   "source": [
    "s = 'TestString'\n",
    "\n",
    "r = re.match('^T.*g$', s)\n",
    "r = re.match('^t.*g$', s)\n",
    "r = re.match('^Te.*g$', s)\n",
    "# r = re.match('^T.*g$', s)\n",
    "# r = re.match('^T.+g$', s)\n",
    "\n",
    "print(r)"
   ]
  },
  {
   "cell_type": "code",
   "execution_count": 52,
   "metadata": {},
   "outputs": [
    {
     "name": "stdout",
     "output_type": "stream",
     "text": [
      "[['Olivia', 'F', '17728'], ['Emma', 'F', '15433'], ['Charlotte', 'F', '13285']]\n"
     ]
    }
   ],
   "source": [
    "name_list = []\n",
    "\n",
    "with open('yob2021.txt') as f :\n",
    "    for line in f :\n",
    "        name_list.append(line[:-1].split(','))\n",
    "\n",
    "print(name_list[:3])"
   ]
  },
  {
   "cell_type": "code",
   "execution_count": 56,
   "metadata": {},
   "outputs": [
    {
     "name": "stdout",
     "output_type": "stream",
     "text": [
      "Ava\n",
      "Ada\n",
      "Amy\n",
      "Ana\n",
      "Ari\n",
      "Aya\n",
      "Ann\n",
      "Ali\n",
      "Asa\n",
      "Ara\n",
      "Ani\n",
      "Ami\n",
      "Aja\n",
      "Aly\n",
      "Avi\n",
      "Awa\n",
      "Avy\n",
      "Ace\n",
      "Anh\n",
      "Ala\n",
      "Ama\n",
      "Ave\n",
      "Adi\n",
      "Ary\n",
      "Aza\n",
      "Abi\n",
      "Ash\n",
      "Ase\n",
      "Aby\n",
      "Ame\n",
      "Any\n",
      "Anu\n",
      "Ayo\n",
      "Ace\n",
      "Ali\n",
      "Ari\n",
      "Asa\n",
      "Avi\n",
      "Axl\n",
      "Ash\n",
      "Abe\n",
      "Art\n",
      "Alp\n",
      "Adi\n",
      "Ase\n",
      "Aws\n",
      "Aly\n",
      "Amr\n",
      "Ara\n",
      "Aki\n",
      "Ade\n",
      "Anh\n",
      "Alo\n",
      "Anu\n",
      "Aro\n",
      "Ata\n",
      "Ayo\n",
      "Azi\n",
      "Aum\n",
      "Ava\n",
      "Abu\n",
      "Ami\n",
      "Ark\n",
      "Axe\n"
     ]
    }
   ],
   "source": [
    "for p in name_list :\n",
    "    if re.match('^A..$', p[0]) is not None :\n",
    "        print(p[0])"
   ]
  },
  {
   "cell_type": "code",
   "execution_count": 60,
   "metadata": {},
   "outputs": [
    {
     "name": "stdout",
     "output_type": "stream",
     "text": [
      "['Sofia', 'F', '6933']\n",
      "['Sasha', 'F', '529']\n",
      "['Siena', 'F', '484']\n",
      "['Skyla', 'F', '467']\n",
      "['Salma', 'F', '287']\n",
      "['Sonia', 'F', '191']\n",
      "['Shyla', 'F', '142']\n",
      "['Saira', 'F', '122']\n",
      "['Sanaa', 'F', '108']\n",
      "['Sonya', 'F', '99']\n",
      "['Samia', 'F', '87']\n",
      "['Sidra', 'F', '75']\n",
      "['Shira', 'F', '74']\n",
      "['Sonja', 'F', '67']\n",
      "['Selma', 'F', '63']\n",
      "['Senna', 'F', '60']\n",
      "['Siara', 'F', '56']\n",
      "['Safia', 'F', '54']\n",
      "['Sayla', 'F', '53']\n",
      "['Siana', 'F', '53']\n",
      "['Syeda', 'F', '42']\n",
      "['Swara', 'F', '40']\n",
      "['Samya', 'F', '39']\n",
      "['Saria', 'F', '34']\n",
      "['Sedra', 'F', '32']\n",
      "['Salwa', 'F', '31']\n",
      "['Shaya', 'F', '31']\n",
      "['Sadia', 'F', '30']\n",
      "['Sanya', 'F', '28']\n",
      "['Saiya', 'F', '27']\n",
      "['Saida', 'F', '24']\n",
      "['Sania', 'F', '23']\n",
      "['Safaa', 'F', '22']\n",
      "['Sansa', 'F', '22']\n",
      "['Sayra', 'F', '21']\n",
      "['Saina', 'F', '20']\n",
      "['Sahra', 'F', '17']\n",
      "['Siona', 'F', '14']\n",
      "['Stela', 'F', '14']\n",
      "['Senia', 'F', '13']\n",
      "['Smaya', 'F', '13']\n",
      "['Sofya', 'F', '13']\n",
      "['Saima', 'F', '12']\n",
      "['Shana', 'F', '12']\n",
      "['Saara', 'F', '11']\n",
      "['Skyra', 'F', '11']\n",
      "['Sloka', 'F', '11']\n",
      "['Sayda', 'F', '10']\n",
      "['Serra', 'F', '10']\n",
      "['Shara', 'F', '10']\n",
      "['Shifa', 'F', '10']\n",
      "['Shiza', 'F', '10']\n",
      "['Sanna', 'F', '9']\n",
      "['Sarya', 'F', '9']\n",
      "['Seela', 'F', '9']\n",
      "['Sriya', 'F', '9']\n",
      "['Surya', 'F', '9']\n",
      "['Sacha', 'F', '8']\n",
      "['Samaa', 'F', '8']\n",
      "['Satya', 'F', '8']\n",
      "['Seana', 'F', '8']\n",
      "['Shyra', 'F', '8']\n",
      "['Synia', 'F', '8']\n",
      "['Saija', 'F', '7']\n",
      "['Saila', 'F', '7']\n",
      "['Samra', 'F', '7']\n",
      "['Seina', 'F', '7']\n",
      "['Selia', 'F', '7']\n",
      "['Sabra', 'F', '6']\n",
      "['Salia', 'F', '6']\n",
      "['Savya', 'F', '6']\n",
      "['Sheva', 'F', '6']\n",
      "['Shiva', 'F', '6']\n",
      "['Shiya', 'F', '6']\n",
      "['Sneha', 'F', '6']\n",
      "['Stina', 'F', '6']\n",
      "['Suria', 'F', '6']\n",
      "['Syria', 'F', '6']\n",
      "['Saela', 'F', '5']\n",
      "['Sahla', 'F', '5']\n",
      "['Sajda', 'F', '5']\n",
      "['Salea', 'F', '5']\n",
      "['Santa', 'F', '5']\n",
      "['Savia', 'F', '5']\n",
      "['Semma', 'F', '5']\n",
      "['Senua', 'F', '5']\n",
      "['Shaia', 'F', '5']\n",
      "['Shona', 'F', '5']\n",
      "['Silya', 'F', '5']\n",
      "['Sitra', 'F', '5']\n",
      "['Syara', 'F', '5']\n",
      "['Sypha', 'F', '5']\n",
      "['Shaya', 'M', '98']\n",
      "['Sasha', 'M', '54']\n",
      "['Surya', 'M', '54']\n",
      "['Sacha', 'M', '42']\n",
      "['Shiva', 'M', '24']\n",
      "['Simba', 'M', '17']\n",
      "['Shaka', 'M', '14']\n",
      "['Satya', 'M', '9']\n",
      "['Savva', 'M', '8']\n",
      "['Seiya', 'M', '8']\n",
      "['Shiya', 'M', '7']\n",
      "['Senna', 'M', '6']\n",
      "['Sofia', 'M', '6']\n",
      "['Sitka', 'M', '5']\n"
     ]
    }
   ],
   "source": [
    "# S로 시작하고, 이름 길이가 5, a로 끝나는 이름\n",
    "for p in name_list :\n",
    "    if re.match('^S.{3}a$', p[0]) is not None :\n",
    "        print(p)"
   ]
  }
 ],
 "metadata": {
  "kernelspec": {
   "display_name": "Python 3",
   "language": "python",
   "name": "python3"
  },
  "language_info": {
   "codemirror_mode": {
    "name": "ipython",
    "version": 3
   },
   "file_extension": ".py",
   "mimetype": "text/x-python",
   "name": "python",
   "nbconvert_exporter": "python",
   "pygments_lexer": "ipython3",
   "version": "3.10.9"
  },
  "orig_nbformat": 4,
  "vscode": {
   "interpreter": {
    "hash": "08804ff59ba42edf801cabf0150036e830ede650fb4c74b1d2ab081b0e1a309a"
   }
  }
 },
 "nbformat": 4,
 "nbformat_minor": 2
}
