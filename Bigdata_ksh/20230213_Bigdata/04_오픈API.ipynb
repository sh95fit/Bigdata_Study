{
 "cells": [
  {
   "cell_type": "code",
   "execution_count": 1,
   "metadata": {},
   "outputs": [
    {
     "name": "stdout",
     "output_type": "stream",
     "text": [
      "<Response [200]>\n"
     ]
    }
   ],
   "source": [
    "# 일반 인증키(Encoding) : Mnhqdym445eB3ewZjmZ7OoSLkYkjiIkGqbDCvlwqBwFcqxC6tyy6OC6P2sh2gqwAtknGBjtppx2GHab5D%2BQNgQ%3D%3D\n",
    "# 일반 인증키(Decoding) : Mnhqdym445eB3ewZjmZ7OoSLkYkjiIkGqbDCvlwqBwFcqxC6tyy6OC6P2sh2gqwAtknGBjtppx2GHab5D+QNgQ==\n",
    "\n",
    "# OPEN API\n",
    "import requests\n",
    "from lxml import etree\n",
    "# \"apis.data.go.kr/1360000/VilageFcstMsgService\"\n",
    "url = \"http://apis.data.go.kr/1360000/VilageFcstMsgService\" +'/getWthrSituation'\n",
    "k = \"Mnhqdym445eB3ewZjmZ7OoSLkYkjiIkGqbDCvlwqBwFcqxC6tyy6OC6P2sh2gqwAtknGBjtppx2GHab5D+QNgQ==\"\n",
    "p =  {'serviceKey': k, 'pageNo' : '1', 'numOfRows' : '10', 'dataType' : 'XML', 'stnId' : '108'}\n",
    "# http://apis.data.go.kr/1360000/VilageFcstMsgService/getWthrSituation?pageNo=1,type=xmls\n",
    "xml_data = requests.get(url, params=p)\n",
    "print(xml_data)"
   ]
  },
  {
   "cell_type": "code",
   "execution_count": 2,
   "metadata": {},
   "outputs": [
    {
     "name": "stdout",
     "output_type": "stream",
     "text": [
      "<?xml version=\"1.0\" encoding=\"UTF-8\"?>\n",
      "<response><header><resultCode>00</resultCode><resultMsg>NORMAL_SERVICE</resultMsg></header><body><dataType>XML</dataType><items><item><stnId>108</stnId><tmFc>202302151700</tmFc><wfSv1>□ (종합) 오늘 동해안 중심 눈, 빙판길과 도로 살얼음 주의, 대부분 해상 높은 물결, 강원동해안과 경상권해안, 제주도해안 너울 유의\n",
      "  ○ (오늘) 전국 대체로 흐림, 제주도 비 또는 눈, 밤(18~24시)까지 강원영동과 경상권해안, 경북북동산지 비 또는 눈, 전라권과 경상권내륙 빗방울 또는 눈 날림 곳\n",
      "  ○ (내일) 전국 대체로 흐림, 낮(12~15시)까지 제주도 가끔 비 또는 눈, \n",
      "            새벽(03~06시)부터 오후(12~18시) 사이 수도권과 강원영서, 충청북부 한때 비 또는 눈 조금, 충청권남부와 전북 빗방울 또는 눈 날림 곳\n",
      "  ○ (모레) 전국 구름많음\n",
      "  ○ (글피) 전국 흐리고 비\n",
      "\n",
      "□ 예상 적설(15일)\n",
      "  ○ 강원중.남부동해안, 경북북부동해안, (16일까지) 제주도산지: 2~8cm\n",
      "  ○ 강원산지, 강원북부동해안, 경북북동산지, 경북남부동해안, 울산: 1~5cm(울산 1cm 미만)\n",
      "  ○ 전라권, 경상권내륙, 울릉도.독도: 0.1cm 미만 눈 날림\n",
      "\n",
      "□ 예상 강수량(15일)\n",
      "  ○ 강원중.남부동해안, 경북북부동해안, (16일까지) 제주도: 5~10mm\n",
      "  ○ 강원산지, 강원북부동해안, 경북북동산지, 경북남부동해안, 경남권해안: 5mm 내외\n",
      "  ○ 전라권, 경상권내륙, 울릉도.독도: 0.1mm 미만 빗방울\n",
      "\n",
      "□ 예상 적설/ 강수량(16일)\n",
      "  ○ 수도권, 강원영서, 충청북부: 1cm 미만/ 1mm 내외\n",
      "  ○ 충청권남부, 전북: 0.1cm 미만 눈 날림/ 0.1mm 미만 빗방울</wfSv1><wn>※ 특보 및 예비특보 발표현황은 아래의 사이트를 참고하시기 바랍니다.\n",
      "- 기상청 홈페이지(http://www.weather.go.kr)\n",
      "- 모바일(http://m.kma.go.kr)\n",
      "- 방재기상정보시스템(http://afso.kma.go.kr)\n",
      "※ 특정관리해역 특보현황(http://afso.kma.go.kr/m/wrnSpec.jsp)</wn><wr>o 없음</wr></item></items><numOfRows>10</numOfRows><pageNo>1</pageNo><totalCount>1</totalCount></body></response>\n",
      "\n"
     ]
    }
   ],
   "source": [
    "print(xml_data.text)"
   ]
  }
 ],
 "metadata": {
  "kernelspec": {
   "display_name": "Python 3",
   "language": "python",
   "name": "python3"
  },
  "language_info": {
   "codemirror_mode": {
    "name": "ipython",
    "version": 3
   },
   "file_extension": ".py",
   "mimetype": "text/x-python",
   "name": "python",
   "nbconvert_exporter": "python",
   "pygments_lexer": "ipython3",
   "version": "3.10.9"
  },
  "orig_nbformat": 4,
  "vscode": {
   "interpreter": {
    "hash": "08804ff59ba42edf801cabf0150036e830ede650fb4c74b1d2ab081b0e1a309a"
   }
  }
 },
 "nbformat": 4,
 "nbformat_minor": 2
}
