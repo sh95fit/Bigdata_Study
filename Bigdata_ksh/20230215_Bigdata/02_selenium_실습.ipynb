{
 "cells": [
  {
   "cell_type": "code",
   "execution_count": 1,
   "metadata": {},
   "outputs": [],
   "source": [
    "from selenium import webdriver\n",
    "from selenium.webdriver.common.by import By\n",
    "from selenium.webdriver.common.keys import Keys\n",
    "from selenium.webdriver.support.wait import WebDriverWait"
   ]
  },
  {
   "cell_type": "markdown",
   "metadata": {},
   "source": [
    "NAVER 검색"
   ]
  },
  {
   "cell_type": "code",
   "execution_count": 2,
   "metadata": {},
   "outputs": [],
   "source": [
    "driver = webdriver.Chrome()\n",
    "driver.get('http://www.naver.com')"
   ]
  },
  {
   "cell_type": "code",
   "execution_count": 3,
   "metadata": {},
   "outputs": [],
   "source": [
    "search_box = driver.find_elements(By.XPATH, '//input[@id=\"query\"]')\n",
    "# print(search_box)\n",
    "# search_box[0].send_keys(\"오늘의 운세\" + Keys.ENTER)\n",
    "search_box[0].send_keys(\"오늘의 운세\\n\")"
   ]
  },
  {
   "cell_type": "code",
   "execution_count": 4,
   "metadata": {},
   "outputs": [],
   "source": [
    "# 페이지 전환 시 대기\n",
    "select_luck = WebDriverWait(driver, timeout=10).until(lambda x: x.find_elements(By.XPATH, '//li[@class=\"zo_li\"]/a')) "
   ]
  },
  {
   "cell_type": "code",
   "execution_count": 5,
   "metadata": {},
   "outputs": [],
   "source": [
    "# search_button = driver.find_elements(By.XPATH, '//button[@id=\"search_btn\"]')\n",
    "# search_button[0].click()"
   ]
  },
  {
   "cell_type": "code",
   "execution_count": 6,
   "metadata": {},
   "outputs": [],
   "source": [
    "# select_luck  = driver.find_elements(By.XPATH, '//ul[@class=\"tab_wrap\"]//li[3]/a')\n",
    "# select_luck  = driver.find_elements(By.XPATH, '//ul[@class=\"tab_wrap\"]//li[@class=\"zo_li\"]/a')\n",
    "# select_luck  = driver.find_elements(By.XPATH, '//li[@class=\"zo_li\"]/a')\n",
    "select_luck[0].click()"
   ]
  },
  {
   "cell_type": "code",
   "execution_count": 7,
   "metadata": {},
   "outputs": [],
   "source": [
    "# 페이지 전환 시 대기\n",
    "zo_name = WebDriverWait(driver, timeout=10).until(lambda x: x.find_elements(By.XPATH, '//dt[@class=\"tit\"]/a'))"
   ]
  },
  {
   "cell_type": "code",
   "execution_count": 8,
   "metadata": {},
   "outputs": [
    {
     "name": "stdout",
     "output_type": "stream",
     "text": [
      "['쥐띠', '소띠', '호랑이띠', '토끼띠', '용띠', '뱀띠', '말띠', '양띠', '원숭이띠', '닭띠', '개띠', '돼지띠']\n",
      "['쥐띠', '호랑이띠', '용띠', '말띠', '원숭이띠', '개띠', '소띠', '토끼띠', '뱀띠', '양띠', '닭띠', '돼지띠']\n"
     ]
    }
   ],
   "source": [
    "name_li = []\n",
    "\n",
    "# zo_name = driver.find_elements(By.XPATH, '//dt[@class=\"tit\"]/a')\n",
    " \n",
    "for i in zo_name :\n",
    "    name_li.append(i.text)\n",
    "print(name_li)\n",
    "\n",
    "name_sort_li = []\n",
    "for i in range(len(name_li)) :\n",
    "    if i%2 == 0 :\n",
    "        name_sort_li.append(name_li[i])\n",
    "for i in range(len(name_li)) :\n",
    "    if i%2 != 0 :\n",
    "        name_sort_li.append(name_li[i])\n",
    "print(name_sort_li)"
   ]
  },
  {
   "cell_type": "code",
   "execution_count": 9,
   "metadata": {},
   "outputs": [],
   "source": [
    "# 페이지 전환 시 대기\n",
    "# content = WebDriverWait(driver, timeout=10).until(lambda x: x.find_elements(By.XPATH, '//li[@class=\"lst_r\"]/p'))\n",
    "content = WebDriverWait(driver, timeout=10).until(lambda x: x.find_elements(By.XPATH, '//li/p'))"
   ]
  },
  {
   "cell_type": "code",
   "execution_count": 10,
   "metadata": {},
   "outputs": [
    {
     "name": "stdout",
     "output_type": "stream",
     "text": [
      "['외모에 신경 쓰기보다는 내면을 충실히 가꾸는 데 힘을 쏟는 게 좋..', '경쟁을 하게 되더라도 대립보다는 타협과 서로에 대한 조화가 후에 ..', '집안에 슬픔과 기쁜 일이 동시에 발생하니 마음을 잘 다스려야 할 ..', '직장을 다니는 사람이라면 멀지 않아 승진이나 원하는 자리로 전출..', '지나친 욕심은 손해를 불러 일으킬 수 있으니 늘 조심하는 게 좋다...', '어려운 일에 처한 상황이라면 가장 절실하게 필요한 것은 당신의 정..', '자신에게 정작 필요한 일이 무엇인지 생각하고 움직이는 게 좋다. ..', '신용에 약간의 문제가 생길 수 있는데, 차분하게 대처한다면 큰 문..', '물건을 팔고 사는 것도 순리대로 해야만 나중에 뒷말이 없는 날이다..', '사사로운 정에 이끌리지 않도록 공과 사의 구분을 확실히 하는 게 ..', '당신 앞에 처해 있는 어떤 일을 결정하기에 앞서 먼저 자신의 신변..', '말로 열 번 하는 것보다 행동으로 한 번 보여주는 게 상대방에게 더..'] 12\n"
     ]
    }
   ],
   "source": [
    "content_all = []\n",
    "\n",
    "# content = driver.find_elements(By.XPATH, '//li[@class=\"lst_r\"]/p')\n",
    "for i in content :\n",
    "    content_all.append(i.text)\n",
    "print(content_all, len(content_all))"
   ]
  },
  {
   "cell_type": "code",
   "execution_count": 13,
   "metadata": {},
   "outputs": [
    {
     "name": "stdout",
     "output_type": "stream",
     "text": [
      "12\n",
      "12\n",
      "[('쥐띠', '외모에 신경 쓰기보다는 내면을 충실히 가꾸는 데 힘을 쏟는 게 좋..'), ('소띠', '경쟁을 하게 되더라도 대립보다는 타협과 서로에 대한 조화가 후에 ..'), ('호랑이띠', '집안에 슬픔과 기쁜 일이 동시에 발생하니 마음을 잘 다스려야 할 ..'), ('토끼띠', '직장을 다니는 사람이라면 멀지 않아 승진이나 원하는 자리로 전출..'), ('용띠', '지나친 욕심은 손해를 불러 일으킬 수 있으니 늘 조심하는 게 좋다...'), ('뱀띠', '어려운 일에 처한 상황이라면 가장 절실하게 필요한 것은 당신의 정..'), ('말띠', '자신에게 정작 필요한 일이 무엇인지 생각하고 움직이는 게 좋다. ..'), ('양띠', '신용에 약간의 문제가 생길 수 있는데, 차분하게 대처한다면 큰 문..'), ('원숭이띠', '물건을 팔고 사는 것도 순리대로 해야만 나중에 뒷말이 없는 날이다..'), ('닭띠', '사사로운 정에 이끌리지 않도록 공과 사의 구분을 확실히 하는 게 ..'), ('개띠', '당신 앞에 처해 있는 어떤 일을 결정하기에 앞서 먼저 자신의 신변..'), ('돼지띠', '말로 열 번 하는 것보다 행동으로 한 번 보여주는 게 상대방에게 더..')]\n"
     ]
    }
   ],
   "source": [
    "print(len(name_li))\n",
    "print(len(content_all))\n",
    "total = list(zip(name_li, content_all))\n",
    "print(total)"
   ]
  }
 ],
 "metadata": {
  "kernelspec": {
   "display_name": "Python 3",
   "language": "python",
   "name": "python3"
  },
  "language_info": {
   "codemirror_mode": {
    "name": "ipython",
    "version": 3
   },
   "file_extension": ".py",
   "mimetype": "text/x-python",
   "name": "python",
   "nbconvert_exporter": "python",
   "pygments_lexer": "ipython3",
   "version": "3.10.9"
  },
  "orig_nbformat": 4,
  "vscode": {
   "interpreter": {
    "hash": "08804ff59ba42edf801cabf0150036e830ede650fb4c74b1d2ab081b0e1a309a"
   }
  }
 },
 "nbformat": 4,
 "nbformat_minor": 2
}
