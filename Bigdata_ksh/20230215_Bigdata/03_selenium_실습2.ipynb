{
 "cells": [
  {
   "attachments": {},
   "cell_type": "markdown",
   "metadata": {},
   "source": [
    "네이버 영화 평점순\n",
    "\n",
    "시작 URL : https://movie.naver.com/movie/sdb/rank/rmovie.naver\n",
    "\n",
    "1. 평점순(모든영화) 클릭\n",
    "2.  1페이지부터 10페이지까지 각 페이지별 50개 영화제목, 평점 가지고 오기. (총 500개 영화)"
   ]
  },
  {
   "cell_type": "code",
   "execution_count": 25,
   "metadata": {},
   "outputs": [],
   "source": [
    "from selenium import webdriver\n",
    "from selenium.webdriver.common.by import By\n",
    "from selenium.webdriver.common.keys import Keys\n",
    "from selenium.webdriver.support.wait import WebDriverWait"
   ]
  },
  {
   "cell_type": "code",
   "execution_count": 26,
   "metadata": {},
   "outputs": [],
   "source": [
    "driver = webdriver.Chrome()\n",
    "driver.get('https://movie.naver.com/movie/sdb/rank/rmovie.naver')"
   ]
  },
  {
   "cell_type": "code",
   "execution_count": 27,
   "metadata": {},
   "outputs": [],
   "source": [
    "# 탭 전환\n",
    "select_tab = WebDriverWait(driver, timeout=10).until(lambda x: x.find_elements(By.XPATH, '//div[@class=\"tab_type_6\"]//li[3]/a'))\n",
    "select_tab[0].click() "
   ]
  },
  {
   "cell_type": "code",
   "execution_count": 28,
   "metadata": {},
   "outputs": [],
   "source": [
    "title_list = []\n",
    "point_list = []\n",
    "title = WebDriverWait(driver, timeout=5).until(lambda x: x.find_elements(By.XPATH, '//table[@class=\"list_ranking\"]//td[@class=\"title\"]'))\n",
    "point = WebDriverWait(driver, timeout=5).until(lambda x: x.find_elements(By.XPATH, '//table[@class=\"list_ranking\"]//td[@class=\"point\"]'))\n",
    "for i in title :\n",
    "    title_list.append(i.text)\n",
    "for j in point :\n",
    "    point_list.append(j.text)"
   ]
  },
  {
   "cell_type": "code",
   "execution_count": 29,
   "metadata": {},
   "outputs": [],
   "source": [
    "# 페이지 전환 다른 방식 (다음 버튼을 눌러 페이지 이동)\n",
    "# r = driver.find_elements(By.XPATH, '//td[@class=\"next\"]/a')\n",
    "# r[0].click()"
   ]
  },
  {
   "cell_type": "code",
   "execution_count": 30,
   "metadata": {},
   "outputs": [],
   "source": [
    "for p in range(2,11) :\n",
    "    # select_page = WebDriverWait(driver, timeout=10).until(lambda x: x.find_elements(By.XPATH, f'//div[@class=\"pagenavigation\"]//td[{p}]'))  # 9페이지에서 11페이지로 전환\n",
    "    select_page = WebDriverWait(driver, timeout=10).until(lambda x: x.find_elements(By.XPATH, f'//div[@class=\"pagenavigation\"]//td/a[contains(@href,\"page={p}\")]'))\n",
    "    select_page[0].click()\n",
    "    title = WebDriverWait(driver, timeout=10).until(lambda x: x.find_elements(By.XPATH, '//table[@class=\"list_ranking\"]//td[@class=\"title\"]'))\n",
    "    point = WebDriverWait(driver, timeout=5).until(lambda x: x.find_elements(By.XPATH, '//table[@class=\"list_ranking\"]//td[@class=\"point\"]'))\n",
    "    for i in title :\n",
    "        title_list.append(i.text)\n",
    "    for j in point :\n",
    "        point_list.append(j.text)"
   ]
  },
  {
   "cell_type": "code",
   "execution_count": 31,
   "metadata": {},
   "outputs": [
    {
     "name": "stdout",
     "output_type": "stream",
     "text": [
      "['탑건: 매버릭', '클라우스', '그린 북', '가버나움', '인생은 뷰티풀: 비타돌체', '밥정', '할머니의 먼 집', '베일리 어게인', '원더', '아일라'] 명탐정 코난 : 제로의 집행인 500\n",
      "['9.76', '9.65', '9.60', '9.60', '9.60', '9.60', '9.59', '9.53', '9.53', '9.52'] 9.05 500\n"
     ]
    }
   ],
   "source": [
    "print(title_list[:10], title_list[-1], len(title_list))\n",
    "print(point_list[:10], point_list[-1], len(point_list))"
   ]
  },
  {
   "cell_type": "code",
   "execution_count": 32,
   "metadata": {},
   "outputs": [
    {
     "name": "stdout",
     "output_type": "stream",
     "text": [
      "[('탑건: 매버릭', '9.76'), ('클라우스', '9.65'), ('그린 북', '9.60'), ('가버나움', '9.60'), ('인생은 뷰티풀: 비타돌체', '9.60'), ('밥정', '9.60'), ('할머니의 먼 집', '9.59'), ('베일리 어게인', '9.53'), ('원더', '9.53'), ('아일라', '9.52')]\n"
     ]
    }
   ],
   "source": [
    "total = list(zip(title_list, point_list))\n",
    "print(total[:10])"
   ]
  },
  {
   "cell_type": "code",
   "execution_count": 33,
   "metadata": {},
   "outputs": [],
   "source": [
    "driver.quit()"
   ]
  }
 ],
 "metadata": {
  "kernelspec": {
   "display_name": "Python 3",
   "language": "python",
   "name": "python3"
  },
  "language_info": {
   "codemirror_mode": {
    "name": "ipython",
    "version": 3
   },
   "file_extension": ".py",
   "mimetype": "text/x-python",
   "name": "python",
   "nbconvert_exporter": "python",
   "pygments_lexer": "ipython3",
   "version": "3.10.9"
  },
  "orig_nbformat": 4,
  "vscode": {
   "interpreter": {
    "hash": "08804ff59ba42edf801cabf0150036e830ede650fb4c74b1d2ab081b0e1a309a"
   }
  }
 },
 "nbformat": 4,
 "nbformat_minor": 2
}
