{
 "cells": [
  {
   "cell_type": "code",
   "execution_count": 24,
   "id": "072fd127",
   "metadata": {},
   "outputs": [],
   "source": [
    "import requests\n",
    "import pickle\n",
    "\n",
    "page = requests.get('https://movie.naver.com/movie/running/current.naver')\n",
    "with open('page.pickle', 'wb') as f:\n",
    "    pickle.dump(page,f)"
   ]
  },
  {
   "cell_type": "code",
   "execution_count": 25,
   "id": "0a6a0f79",
   "metadata": {},
   "outputs": [],
   "source": [
    "with open('page.pickle', 'rb') as f:\n",
    "    page = pickle.load(f)\n",
    "#print(page.text)"
   ]
  },
  {
   "cell_type": "markdown",
   "id": "fe9b7487",
   "metadata": {},
   "source": [
    "## lxml.etree, xpath"
   ]
  },
  {
   "cell_type": "code",
   "execution_count": 26,
   "id": "e3d3ce4f",
   "metadata": {},
   "outputs": [],
   "source": [
    "from lxml import etree\n",
    "\n",
    "t = etree.fromstring(page.text, parser=etree.HTMLParser())"
   ]
  },
  {
   "cell_type": "code",
   "execution_count": 27,
   "id": "68c14d74",
   "metadata": {},
   "outputs": [
    {
     "name": "stdout",
     "output_type": "stream",
     "text": [
      "['앤트맨과 와스프: 퀀텀매니아', '어메이징 모리스', '두다다쿵: 후후섬의 비밀', '카메라를 멈추면 안돼! 프랑스에서도', '피터 본 칸트'] 107\n"
     ]
    }
   ],
   "source": [
    "r = t.xpath('//dt[@class=\"tit\"]/a')\n",
    "#print(r, len(r))  # 116\n",
    "\n",
    "title_name=[]\n",
    "for i in r:\n",
    "    #print(i.text)\n",
    "    title_name.append(i.text)\n",
    "    \n",
    "print(title_name[:5], len(title_name))"
   ]
  },
  {
   "cell_type": "code",
   "execution_count": 28,
   "id": "70a2deb2",
   "metadata": {},
   "outputs": [
    {
     "name": "stdout",
     "output_type": "stream",
     "text": [
      "['7.72', '9.46', '9.16', '7.00', '0.00'] 107\n"
     ]
    }
   ],
   "source": [
    "r = t.xpath('//a[contains(@href,\"pointAfter\")]/span[@class=\"num\"]')\n",
    "#print(len(r))\n",
    "\n",
    "title_score=[]\n",
    "for i in r:\n",
    "    #print(i.text)\n",
    "    title_score.append(i.text)\n",
    "\n",
    "print(title_score[:5], len(title_score))"
   ]
  },
  {
   "cell_type": "code",
   "execution_count": 29,
   "id": "edc9d415",
   "metadata": {},
   "outputs": [
    {
     "name": "stdout",
     "output_type": "stream",
     "text": [
      "['7.72', '9.46', '9.16', '7.00', '0.00'] 107\n"
     ]
    }
   ],
   "source": [
    "r = t.xpath('//dt[@class=\"tit_t1\"]/following-sibling::dd[1]//span[@class=\"num\"]')\n",
    "#print(len(r))\n",
    "\n",
    "title_score2=[]\n",
    "for i in r:\n",
    "    #print(i.text)\n",
    "    title_score2.append(i.text)\n",
    "    \n",
    "print(title_score2[:5], len(title_score2))"
   ]
  },
  {
   "cell_type": "markdown",
   "id": "47a3c6f2",
   "metadata": {},
   "source": [
    "### BeautifulSoup"
   ]
  },
  {
   "cell_type": "code",
   "execution_count": 30,
   "id": "77dd31c6",
   "metadata": {},
   "outputs": [],
   "source": [
    "from bs4 import BeautifulSoup as bs\n",
    "import re\n",
    "\n",
    "soup = bs(page.text, 'html.parser')"
   ]
  },
  {
   "cell_type": "code",
   "execution_count": 31,
   "id": "0f2ed512",
   "metadata": {},
   "outputs": [
    {
     "name": "stdout",
     "output_type": "stream",
     "text": [
      "['앤트맨과 와스프: 퀀텀매니아', '어메이징 모리스', '두다다쿵: 후후섬의 비밀', '카메라를 멈추면 안돼! 프랑스에서도', '피터 본 칸트'] 107\n"
     ]
    }
   ],
   "source": [
    "r = soup.find_all('dt', {'class':'tit'})\n",
    "title_name_bs=[]\n",
    "for e in r:\n",
    "    r2 = e.find_all('a')\n",
    "    title_name_bs.append(r2[0].text)\n",
    "    #print(r2[0].text)\n",
    "print(title_name_bs[:5], len(title_name_bs))"
   ]
  },
  {
   "cell_type": "code",
   "execution_count": 32,
   "id": "4148fc1a",
   "metadata": {},
   "outputs": [
    {
     "name": "stdout",
     "output_type": "stream",
     "text": [
      "['7.72', '9.46', '9.16', '7.00', '0.00'] 107\n"
     ]
    }
   ],
   "source": [
    "r = soup.find_all('dt', {'class':'tit_t1'})\n",
    "#print(r)\n",
    "title_score3=[]\n",
    "for e in r:\n",
    "    r2 = e.find_next_sibling('dd').find_all('span',{'class':'num'})\n",
    "    if len(r2)>0:\n",
    "        #print(r2[0].text)\n",
    "        title_score3.append(r2[0].text)\n",
    "        \n",
    "print(title_score3[:5], len(title_score3))"
   ]
  },
  {
   "cell_type": "code",
   "execution_count": 33,
   "id": "446ca38c",
   "metadata": {},
   "outputs": [
    {
     "name": "stdout",
     "output_type": "stream",
     "text": [
      "['7.72', '9.46', '9.16', '7.00', '0.00'] 107\n"
     ]
    }
   ],
   "source": [
    "r = soup.find_all('a', href=re.compile('pointAfterTab$'))\n",
    "\n",
    "title_score4=[]\n",
    "for e in r:\n",
    "    r2 = e.find_all('span', {'class': 'num'})\n",
    "    title_score4.append(r2[0].text)\n",
    "    #print(r2[0].text)\n",
    "    \n",
    "print(title_score4[:5], len(title_score4))"
   ]
  }
 ],
 "metadata": {
  "kernelspec": {
   "display_name": "Python 3",
   "language": "python",
   "name": "python3"
  },
  "language_info": {
   "codemirror_mode": {
    "name": "ipython",
    "version": 3
   },
   "file_extension": ".py",
   "mimetype": "text/x-python",
   "name": "python",
   "nbconvert_exporter": "python",
   "pygments_lexer": "ipython3",
   "version": "3.10.9"
  },
  "vscode": {
   "interpreter": {
    "hash": "08804ff59ba42edf801cabf0150036e830ede650fb4c74b1d2ab081b0e1a309a"
   }
  }
 },
 "nbformat": 4,
 "nbformat_minor": 5
}
