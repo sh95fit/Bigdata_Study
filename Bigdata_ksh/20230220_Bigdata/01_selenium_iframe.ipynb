{
 "cells": [
  {
   "cell_type": "code",
   "execution_count": 130,
   "metadata": {},
   "outputs": [],
   "source": [
    "from selenium import webdriver\n",
    "from selenium.webdriver.common.by import By\n",
    "from selenium.webdriver.common.keys import Keys\n",
    "from selenium.webdriver.support.wait import WebDriverWait"
   ]
  },
  {
   "cell_type": "code",
   "execution_count": 131,
   "metadata": {},
   "outputs": [],
   "source": [
    "driver = webdriver.Chrome()\n",
    "driver.get(\"https://www.naver.com/\")"
   ]
  },
  {
   "cell_type": "code",
   "execution_count": 132,
   "metadata": {},
   "outputs": [],
   "source": [
    "# iframe 전환하기\n",
    "# 방법 1\n",
    "# driver.switch_to.frame('shopcast_iframe')\n",
    "\n",
    "# 방법 2\n",
    "# 현재 페이지에 있는 iframe 리스트를 xpath로 검색할 수 있음!\n",
    "shopping_iframes = driver.find_elements(By.XPATH, '//iframe[@id=\"shopcast_iframe\"]')\n",
    "# print(shopping_iframes)\n",
    "driver.switch_to.frame(shopping_iframes[0]) # 선택한 iframe 영역으로 전환"
   ]
  },
  {
   "cell_type": "code",
   "execution_count": 133,
   "metadata": {},
   "outputs": [
    {
     "name": "stdout",
     "output_type": "stream",
     "text": [
      "쿠팡\n",
      "G마켓\n",
      "옥션\n",
      "11번가\n",
      "SSG닷컴\n",
      "올리브영\n"
     ]
    }
   ],
   "source": [
    "select_tab = driver.find_elements(By.XPATH, '//div[@class=\"group_mall\"]//div[2]/a')\n",
    "for s in select_tab :\n",
    "    print(s.text)\n",
    "select_tab[0].click()"
   ]
  },
  {
   "cell_type": "code",
   "execution_count": 134,
   "metadata": {},
   "outputs": [
    {
     "name": "stdout",
     "output_type": "stream",
     "text": [
      "CDwindow-AA8C839A81B3978EF7A11AC06EAB846E\n",
      "['CDwindow-AA8C839A81B3978EF7A11AC06EAB846E', 'CDwindow-BCCE59D1E47FF09FCAFB93A5D024BC1B']\n"
     ]
    }
   ],
   "source": [
    "print(driver.current_window_handle)\n",
    "print(driver.window_handles)"
   ]
  },
  {
   "cell_type": "code",
   "execution_count": null,
   "metadata": {},
   "outputs": [
    {
     "name": "stdout",
     "output_type": "stream",
     "text": [
      "NAVER\n"
     ]
    }
   ],
   "source": [
    "driver.switch_to.window(driver.window_handles[0])   # 선택한 윈도우(탭)으로 전환\n",
    "driver.current_window_handle    # 현재 브라우저에 오픈된 윈도우(탭) 리스트 확인\n",
    "print(driver.title)\n",
    "driver.close()  # 현재 선택된 윈도우 탭 닫기"
   ]
  },
  {
   "cell_type": "code",
   "execution_count": null,
   "metadata": {},
   "outputs": [],
   "source": [
    "driver.switch_to.default_content()  # 전체 페이지 영역으로 복귀\n",
    "print(driver.title)"
   ]
  },
  {
   "cell_type": "code",
   "execution_count": 136,
   "metadata": {},
   "outputs": [],
   "source": [
    "driver.quit()"
   ]
  }
 ],
 "metadata": {
  "kernelspec": {
   "display_name": "Python 3",
   "language": "python",
   "name": "python3"
  },
  "language_info": {
   "codemirror_mode": {
    "name": "ipython",
    "version": 3
   },
   "file_extension": ".py",
   "mimetype": "text/x-python",
   "name": "python",
   "nbconvert_exporter": "python",
   "pygments_lexer": "ipython3",
   "version": "3.10.9"
  },
  "orig_nbformat": 4,
  "vscode": {
   "interpreter": {
    "hash": "08804ff59ba42edf801cabf0150036e830ede650fb4c74b1d2ab081b0e1a309a"
   }
  }
 },
 "nbformat": 4,
 "nbformat_minor": 2
}
