{
 "cells": [
  {
   "attachments": {},
   "cell_type": "markdown",
   "metadata": {},
   "source": [
    "#### 쇼핑 검색\n",
    "시작 url : https://www.naver.com\n",
    "\n",
    "* 네이버 홈페이지에서 쿠팡, G마켓 페이지로 이동(총 3개 탭)\n",
    "* 쿠팡, G마켓에서 각각 \"고양이 캔\"으로 검색"
   ]
  },
  {
   "cell_type": "code",
   "execution_count": 99,
   "metadata": {},
   "outputs": [],
   "source": [
    "from selenium import webdriver\n",
    "from selenium.webdriver.common.by import By\n",
    "from selenium.webdriver.common.keys import Keys\n",
    "from selenium.webdriver.support.wait import WebDriverWait"
   ]
  },
  {
   "cell_type": "code",
   "execution_count": 100,
   "metadata": {},
   "outputs": [],
   "source": [
    "driver = webdriver.Chrome()\n",
    "driver.get(\"https://www.naver.com/\")"
   ]
  },
  {
   "cell_type": "code",
   "execution_count": 101,
   "metadata": {},
   "outputs": [],
   "source": [
    "# iframe 전환\n",
    "driver.switch_to.frame('shopcast_iframe')"
   ]
  },
  {
   "cell_type": "code",
   "execution_count": 102,
   "metadata": {},
   "outputs": [],
   "source": [
    "select_coopang = driver.find_elements(By.XPATH, '//div[@class=\"group_mall\"]//div[2]/a')\n",
    "select_coopang[0].click()"
   ]
  },
  {
   "cell_type": "code",
   "execution_count": 103,
   "metadata": {},
   "outputs": [
    {
     "name": "stdout",
     "output_type": "stream",
     "text": [
      "['CDwindow-0BFFF70E76903E1C45F8308C1EBEF456', 'CDwindow-0D91B93A7B6B1A324788AD4DF8ABD7A1']\n",
      "NAVER\n"
     ]
    }
   ],
   "source": [
    "print(driver.window_handles)\n",
    "print(driver.title)\n",
    "select_gmarket = driver.find_elements(By.XPATH, '//div[@class=\"group_mall\"]//div[2]/a')\n",
    "select_gmarket[1].click()"
   ]
  },
  {
   "cell_type": "code",
   "execution_count": 104,
   "metadata": {},
   "outputs": [
    {
     "name": "stdout",
     "output_type": "stream",
     "text": [
      "CDwindow-0BFFF70E76903E1C45F8308C1EBEF456\n",
      "NAVER\n"
     ]
    }
   ],
   "source": [
    "print(driver.current_window_handle)\n",
    "print(driver.title)"
   ]
  },
  {
   "cell_type": "code",
   "execution_count": 105,
   "metadata": {},
   "outputs": [
    {
     "name": "stdout",
     "output_type": "stream",
     "text": [
      "['CDwindow-0BFFF70E76903E1C45F8308C1EBEF456', 'CDwindow-0D91B93A7B6B1A324788AD4DF8ABD7A1', 'CDwindow-C997122EA619322A91E590993D8E7CEB']\n",
      "쿠팡!\n"
     ]
    }
   ],
   "source": [
    "print(driver.window_handles)\n",
    "driver.switch_to.window(driver.window_handles[1])\n",
    "print(driver.title)"
   ]
  },
  {
   "cell_type": "code",
   "execution_count": 106,
   "metadata": {},
   "outputs": [],
   "source": [
    "search_coopang = driver.find_elements(By.XPATH, '//input[@id=\"headerSearchKeyword\"]')\n",
    "search_coopang[0].send_keys(\"고양이 캔\"+Keys.ENTER)"
   ]
  },
  {
   "cell_type": "code",
   "execution_count": 107,
   "metadata": {},
   "outputs": [
    {
     "name": "stdout",
     "output_type": "stream",
     "text": [
      "['CDwindow-0BFFF70E76903E1C45F8308C1EBEF456', 'CDwindow-0D91B93A7B6B1A324788AD4DF8ABD7A1', 'CDwindow-C997122EA619322A91E590993D8E7CEB']\n",
      "G마켓 - 지금부터의 마켓\n"
     ]
    }
   ],
   "source": [
    "print(driver.window_handles)\n",
    "driver.switch_to.window(driver.window_handles[2])\n",
    "print(driver.title)"
   ]
  },
  {
   "cell_type": "code",
   "execution_count": 108,
   "metadata": {},
   "outputs": [],
   "source": [
    "search_gmarket = driver.find_elements(By.XPATH, '//input[@class=\"form__input\"]')\n",
    "search_gmarket[0].send_keys(\"고양이 캔\"+Keys.ENTER)"
   ]
  },
  {
   "cell_type": "code",
   "execution_count": 109,
   "metadata": {},
   "outputs": [],
   "source": [
    "for h in driver.window_handles :\n",
    "    if h == driver.current_window_handle :\n",
    "        pass\n",
    "    else :\n",
    "        driver.switch_to.window(h)\n",
    "        if 'G마켓' in driver.title :\n",
    "            search_gmarket = driver.find_elements(By.XPATH, '//input[@class=\"form__input\"]')\n",
    "            search_gmarket[0].send_keys(\"고양이 캔\"+Keys.ENTER)\n",
    "        elif '쿠팡' in driver.title :\n",
    "            search_coopang = driver.find_elements(By.XPATH, '//input[@id=\"headerSearchKeyword\"]')\n",
    "            search_coopang[0].send_keys(\"고양이 캔\"+Keys.ENTER)"
   ]
  }
 ],
 "metadata": {
  "kernelspec": {
   "display_name": "Python 3",
   "language": "python",
   "name": "python3"
  },
  "language_info": {
   "codemirror_mode": {
    "name": "ipython",
    "version": 3
   },
   "file_extension": ".py",
   "mimetype": "text/x-python",
   "name": "python",
   "nbconvert_exporter": "python",
   "pygments_lexer": "ipython3",
   "version": "3.10.9"
  },
  "orig_nbformat": 4,
  "vscode": {
   "interpreter": {
    "hash": "08804ff59ba42edf801cabf0150036e830ede650fb4c74b1d2ab081b0e1a309a"
   }
  }
 },
 "nbformat": 4,
 "nbformat_minor": 2
}
