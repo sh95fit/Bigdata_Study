{
 "cells": [
  {
   "cell_type": "code",
   "execution_count": 245,
   "metadata": {},
   "outputs": [],
   "source": [
    "from selenium import webdriver\n",
    "from selenium.webdriver.common.by import By\n",
    "from selenium.webdriver.common.keys import Keys\n",
    "from selenium.webdriver.support.wait import WebDriverWait"
   ]
  },
  {
   "cell_type": "code",
   "execution_count": 246,
   "metadata": {},
   "outputs": [],
   "source": [
    "driver = webdriver.Chrome()"
   ]
  },
  {
   "cell_type": "code",
   "execution_count": 247,
   "metadata": {},
   "outputs": [],
   "source": [
    "url = \"https://www.daum.net\"\n",
    "driver.get(url)\n",
    "window_daum = driver.current_window_handle"
   ]
  },
  {
   "cell_type": "code",
   "execution_count": 248,
   "metadata": {},
   "outputs": [],
   "source": [
    "search_daum = driver.find_elements(By.XPATH, '//input[@class=\"tf_keyword\"]')\n",
    "search_daum[0].send_keys(\"노트북\\n\")"
   ]
  },
  {
   "cell_type": "code",
   "execution_count": 249,
   "metadata": {},
   "outputs": [
    {
     "name": "stdout",
     "output_type": "stream",
     "text": [
      "삼성전자 갤럭시북2 NT550XEZ-A58A\n",
      "LG전자 2022 그램15(12세대) 15ZD95Q-GX56K\n",
      "삼성전자 노트북 플러스2 NT550XDA-K14A\n",
      "LG전자 2022 울트라PC 15UD40Q-GX30K\n"
     ]
    }
   ],
   "source": [
    "items_list = driver.find_elements(By.XPATH, '//div[@class=\"cont_shop\"]//div[@class=\"box_cont\"]//a[@class=\"tit_item\"]')\n",
    "for i in items_list :\n",
    "    print(i.text)"
   ]
  },
  {
   "cell_type": "code",
   "execution_count": 250,
   "metadata": {},
   "outputs": [],
   "source": [
    "url = \"https://www.naver.com\"\n",
    "driver.switch_to.new_window('tab')\n",
    "driver.get(url)\n",
    "window_naver = driver.current_window_handle"
   ]
  },
  {
   "cell_type": "code",
   "execution_count": 251,
   "metadata": {},
   "outputs": [],
   "source": [
    "search_naver = driver.find_elements(By.XPATH, '//input[@id=\"query\"]')\n",
    "search_naver[0].send_keys(\"노트북\\n\")"
   ]
  },
  {
   "cell_type": "code",
   "execution_count": 252,
   "metadata": {},
   "outputs": [
    {
     "name": "stdout",
     "output_type": "stream",
     "text": [
      "마이크로소프트 서피스 프로9 QIL-00032\n",
      "레노버 리전 LEGION 5 Pro 16ARH R7 3060 Edition\n",
      "삼성전자 노트북 플러스2 NT550XDA-K14A\n",
      "LG전자 LG그램 15ZD95Q-GX56K\n",
      "삼성전자 갤럭시북2 NT550XEZ-A58A\n"
     ]
    }
   ],
   "source": [
    "items_list1 = driver.find_elements(By.XPATH, '//div[@class=\"product_info\"]//a[contains(@class,\"title\")]')\n",
    "for i in items_list1 :\n",
    "    print(i.text)"
   ]
  },
  {
   "cell_type": "code",
   "execution_count": 253,
   "metadata": {},
   "outputs": [],
   "source": [
    "url = \"https://www.google.com\"\n",
    "driver.switch_to.new_window('tab')\n",
    "driver.get(url)\n",
    "window_google = driver.current_window_handle"
   ]
  },
  {
   "cell_type": "code",
   "execution_count": 254,
   "metadata": {},
   "outputs": [],
   "source": [
    "search_google = driver.find_elements(By.XPATH, '//input[@class=\"gLFyf\"]')\n",
    "search_google[0].send_keys(\"노트북\\n\")"
   ]
  },
  {
   "cell_type": "code",
   "execution_count": 255,
   "metadata": {},
   "outputs": [
    {
     "name": "stdout",
     "output_type": "stream",
     "text": [
      "가성비 끝판왕 삼성 LG 브랜드 리퍼브 노트북 - 삼성 i5-4210M/ 8GB-RAM/ 15.6\"/ 620GB\n",
      "LG그램 14ZB970 I5-6200/12G/SSD512G/UHD520/14인치/WIN10,LG 14ZB970,WIN10 Pro,12G\n",
      "LG 그램 13Z940 i5 8G 256G 정품윈도우10 실버컬러\n",
      "삼성전자 2022 갤럭시북2 15 WIN11 Pro 실버 128GB 펜티엄 NT550XED-K24AS 8GB\n",
      "2023 LG그램 스타일 OLED 오로라화이트 14Z90RS-GA56K 인텔 13세대 i5 랩터레이크 노트북 윈도우11\n"
     ]
    }
   ],
   "source": [
    "items_list2 = []\n",
    "for i in range(5) :\n",
    "    item = driver.find_element(By.XPATH, f'//*[@id=\"vplaurlt{i}\"]/span')\n",
    "    items_list2.append(item)\n",
    "\n",
    "for i in items_list2 :\n",
    "    print(i.text)"
   ]
  },
  {
   "cell_type": "code",
   "execution_count": 256,
   "metadata": {},
   "outputs": [
    {
     "name": "stdout",
     "output_type": "stream",
     "text": [
      "노트북 전체 : 다나와 가격비교\n",
      "노트북 - G마켓\n",
      "노트북 - 나무위키\n",
      "가격대 별 추천 노트북 (2023) - 노써치\n",
      "동영상\n",
      "노트북존 : 컴퓨존\n",
      "삼성노트북 : 롯데ON\n",
      "노트북 | Samsung 대한민국\n",
      "중고거래 - 당근마켓\n"
     ]
    }
   ],
   "source": [
    "x = driver.find_elements(By.XPATH, '//h1[text()=\"검색결과\"]/..//h3')\n",
    "for i in x :\n",
    "    print(i.text)"
   ]
  },
  {
   "cell_type": "code",
   "execution_count": 257,
   "metadata": {},
   "outputs": [],
   "source": [
    "driver.quit()"
   ]
  },
  {
   "cell_type": "code",
   "execution_count": 258,
   "metadata": {},
   "outputs": [],
   "source": [
    "def do_naver(search_keyword) :\n",
    "    window_naver = driver.current_window_handle\n",
    "    driver.get('https://www.naver.com')\n",
    "    search_box = driver.find_elements(By.XPATH, '//input[@id=\"query\"]')\n",
    "    search_box[0].send_keys(search_keyword+Keys.ENTER)\n",
    "\n",
    "    items_list = driver.find_elements(By.XPATH, '//div[@class=\"cont_shop\"]//div[@class=\"box_cont\"]//a[@class=\"tit_item\"]')\n",
    "    return window_naver, items_list\n",
    "    "
   ]
  },
  {
   "cell_type": "code",
   "execution_count": 259,
   "metadata": {},
   "outputs": [],
   "source": [
    "def do_daum(search_keyword) :\n",
    "    window_daum = driver.current_window_handle\n",
    "    driver.get('https://www.daum.net')\n",
    "    search_box = driver.find_elements(By.XPATH, '//input[@class=\"tf_keyword\"]')\n",
    "    search_box[0].send_keys(search_keyword+Keys.ENTER)\n",
    "\n",
    "    items_list1 = driver.find_elements(By.XPATH, '//div[@class=\"product_info\"]//a[contains(@class,\"title\")]')\n",
    "    return window_daum, items_list1"
   ]
  },
  {
   "cell_type": "code",
   "execution_count": 260,
   "metadata": {},
   "outputs": [],
   "source": [
    "def do_google(search_keyword) :\n",
    "    window_google = driver.current_window_handle\n",
    "    driver.get('https://www.google.com')\n",
    "    search_box = driver.find_elements(By.XPATH, '//input[@class=\"gLFyf\"]')\n",
    "    search_box[0].send_keys(search_keyword+Keys.ENTER)\n",
    "\n",
    "    items_list2 = []\n",
    "    for i in range(5) :\n",
    "        item = driver.find_element(By.XPATH, f'//*[@id=\"vplaurlt{i}\"]/span')\n",
    "        items_list2.append(item)\n",
    "    return window_google, items_list2"
   ]
  },
  {
   "cell_type": "code",
   "execution_count": 261,
   "metadata": {},
   "outputs": [],
   "source": [
    "# print(driver.current_window_handle)\n",
    "# print(driver.title)\n",
    "# driver.switch_to.window(driver.window_handles[0])\n",
    "# print(driver.title)"
   ]
  },
  {
   "cell_type": "code",
   "execution_count": 262,
   "metadata": {},
   "outputs": [
    {
     "name": "stdout",
     "output_type": "stream",
     "text": [
      "**다음\n",
      "**네이버\n",
      "**구글\n",
      "삼성전자 2022 갤럭시북2 15 WIN11 Pro 실버 128GB 펜티엄 NT550XED-K24AS 8GB\n",
      "LG그램 14ZB970 I5-6200/12G/SSD512G/UHD520/14인치/WIN10,LG 14ZB970,WIN10 Pro,12G\n",
      "가성비 끝판왕 삼성 LG 브랜드 리퍼브 노트북 - 삼성 i5-4210M/ 8GB-RAM/ 15.6\"/ 620GB\n",
      "사무용노트북 삼성노트북3/NT371B5L/i5-6세대 램16G SSD512G 윈도우10,WIN10 Home,블랙,16GB,512GB,코\n",
      "삼성전자 2021 노트북 플러스2 15.6 미스틱 그레이 셀러론 NVMe128GB 8GB WIN10 Pro NT550XDA-K14AG\n"
     ]
    }
   ],
   "source": [
    "options = webdriver.ChromeOptions()\n",
    "options.add_argument(\"--headless=new\")\n",
    "\n",
    "driver = webdriver.Chrome(options = options)\n",
    "\n",
    "# do_daum('노트북')\n",
    "win, data = do_daum('노트북')\n",
    "print(\"**다음\")\n",
    "for i in data :\n",
    "    print(i.text)\n",
    "\n",
    "# do_naver('노트북')\n",
    "driver.switch_to.new_window('tab')\n",
    "win, data = do_naver('노트북')\n",
    "print(\"**네이버\")\n",
    "for i in data :\n",
    "    print(i.text)\n",
    "\n",
    "# do_google('노트북')\n",
    "driver.switch_to.new_window('tab')\n",
    "win, data = do_google('노트북')\n",
    "print(\"**구글\")\n",
    "for i in data :\n",
    "    print(i.text)\n",
    "\n",
    "driver.quit()"
   ]
  },
  {
   "cell_type": "code",
   "execution_count": 263,
   "metadata": {},
   "outputs": [],
   "source": [
    "# search_daum = driver.find_elements(By.XPATH, '//input[@class=\"tf_keyword\"]')\n",
    "# search_daum[0].send_keys(\"노트북\\n\")"
   ]
  },
  {
   "cell_type": "code",
   "execution_count": 264,
   "metadata": {},
   "outputs": [],
   "source": [
    "# driver.switch_to.window(driver.window_handles[1])\n",
    "# print(driver.title)"
   ]
  },
  {
   "cell_type": "code",
   "execution_count": 265,
   "metadata": {},
   "outputs": [],
   "source": [
    "# search_naver = driver.find_elements(By.XPATH, '//input[@id=\"query\"]')\n",
    "# search_naver[0].send_keys(\"노트북\\n\")"
   ]
  },
  {
   "cell_type": "code",
   "execution_count": 266,
   "metadata": {},
   "outputs": [],
   "source": [
    "# driver.switch_to.window(driver.window_handles[2])\n",
    "# print(driver.title)"
   ]
  },
  {
   "cell_type": "code",
   "execution_count": 267,
   "metadata": {},
   "outputs": [],
   "source": [
    "# search_google = driver.find_elements(By.XPATH, '//input[@class=\"gLFyf\"]')\n",
    "# search_google[0].send_keys(\"노트북\\n\")"
   ]
  }
 ],
 "metadata": {
  "kernelspec": {
   "display_name": "Python 3",
   "language": "python",
   "name": "python3"
  },
  "language_info": {
   "codemirror_mode": {
    "name": "ipython",
    "version": 3
   },
   "file_extension": ".py",
   "mimetype": "text/x-python",
   "name": "python",
   "nbconvert_exporter": "python",
   "pygments_lexer": "ipython3",
   "version": "3.10.9"
  },
  "orig_nbformat": 4,
  "vscode": {
   "interpreter": {
    "hash": "08804ff59ba42edf801cabf0150036e830ede650fb4c74b1d2ab081b0e1a309a"
   }
  }
 },
 "nbformat": 4,
 "nbformat_minor": 2
}
