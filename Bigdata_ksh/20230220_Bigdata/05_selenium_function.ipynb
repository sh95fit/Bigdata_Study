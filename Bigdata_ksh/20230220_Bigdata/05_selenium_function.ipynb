{
 "cells": [
  {
   "cell_type": "code",
   "execution_count": 1,
   "metadata": {},
   "outputs": [],
   "source": [
    "from selenium import webdriver\n",
    "from selenium.webdriver.common.by import By\n",
    "from selenium.webdriver.common.keys import Keys\n",
    "from selenium.webdriver.support.wait import WebDriverWait"
   ]
  },
  {
   "cell_type": "code",
   "execution_count": 2,
   "metadata": {},
   "outputs": [],
   "source": [
    "driver = webdriver.Chrome()"
   ]
  },
  {
   "cell_type": "code",
   "execution_count": 3,
   "metadata": {},
   "outputs": [],
   "source": [
    "def do_naver(search_keyword) :\n",
    "    window_naver = driver.current_window_handle\n",
    "    driver.get('https://www.naver.com')\n",
    "    search_box = driver.find_elements(By.XPATH, '//input[@id=\"query\"]')\n",
    "    search_box[0].send_keys(search_keyword+Keys.ENTER)\n",
    "\n",
    "    items_list = driver.find_elements(By.XPATH, '//div[@class=\"cont_shop\"]//div[@class=\"box_cont\"]//a[@class=\"tit_item\"]')\n",
    "    return window_naver, items_list\n",
    "    "
   ]
  },
  {
   "cell_type": "code",
   "execution_count": 4,
   "metadata": {},
   "outputs": [],
   "source": [
    "def do_daum(search_keyword) :\n",
    "    window_daum = driver.current_window_handle\n",
    "    driver.get('https://www.daum.net')\n",
    "    search_box = driver.find_elements(By.XPATH, '//input[@class=\"tf_keyword\"]')\n",
    "    search_box[0].send_keys(search_keyword+Keys.ENTER)\n",
    "\n",
    "    items_list1 = driver.find_elements(By.XPATH, '//div[@class=\"product_info\"]//a[contains(@class,\"title\")]')\n",
    "    return window_daum, items_list1"
   ]
  },
  {
   "cell_type": "code",
   "execution_count": 5,
   "metadata": {},
   "outputs": [],
   "source": [
    "def do_google(search_keyword) :\n",
    "    window_google = driver.current_window_handle\n",
    "    driver.get('https://www.google.com')\n",
    "    search_box = driver.find_elements(By.XPATH, '//input[@class=\"gLFyf\"]')\n",
    "    search_box[0].send_keys(search_keyword+Keys.ENTER)\n",
    "\n",
    "    items_list2 = []\n",
    "    for i in range(5) :\n",
    "        item = driver.find_element(By.XPATH, f'//*[@id=\"vplaurlt{i}\"]/span')\n",
    "        items_list2.append(item)\n",
    "    return window_google, items_list2"
   ]
  },
  {
   "cell_type": "code",
   "execution_count": 6,
   "metadata": {},
   "outputs": [
    {
     "name": "stdout",
     "output_type": "stream",
     "text": [
      "**다음\n",
      "**네이버\n",
      "**구글\n",
      "M2 칩 탑재 MacBook Air - 미드나이트\n",
      "LG그램 14ZB970 I5-6200/12G/SSD512G/UHD520/14인치/WIN10,LG 14ZB970,WIN10 Pro,12G\n",
      "레노버 ThinkPad E15 Gen 4 (15\" AMD)\n",
      "삼성전자 2022 갤럭시북2 15 WIN11 Pro 실버 128GB 펜티엄 NT550XED-K24AS 8GB\n",
      "MacBook Pro 13 - 스페이스 그레이\n"
     ]
    }
   ],
   "source": [
    "options = webdriver.ChromeOptions()\n",
    "options.add_argument(\"--headless=new\")\n",
    "\n",
    "driver = webdriver.Chrome(options = options)\n",
    "\n",
    "# do_daum('노트북')\n",
    "win, data = do_daum('노트북')\n",
    "print(\"**다음\")\n",
    "for i in data :\n",
    "    print(i.text)\n",
    "\n",
    "# do_naver('노트북')\n",
    "driver.switch_to.new_window('tab')\n",
    "win, data = do_naver('노트북')\n",
    "print(\"**네이버\")\n",
    "for i in data :\n",
    "    print(i.text)\n",
    "\n",
    "# do_google('노트북')\n",
    "driver.switch_to.new_window('tab')\n",
    "win, data = do_google('노트북')\n",
    "print(\"**구글\")\n",
    "for i in data :\n",
    "    print(i.text)\n",
    "\n",
    "driver.quit()"
   ]
  }
 ],
 "metadata": {
  "kernelspec": {
   "display_name": "Python 3",
   "language": "python",
   "name": "python3"
  },
  "language_info": {
   "codemirror_mode": {
    "name": "ipython",
    "version": 3
   },
   "file_extension": ".py",
   "mimetype": "text/x-python",
   "name": "python",
   "nbconvert_exporter": "python",
   "pygments_lexer": "ipython3",
   "version": "3.10.9"
  },
  "orig_nbformat": 4,
  "vscode": {
   "interpreter": {
    "hash": "08804ff59ba42edf801cabf0150036e830ede650fb4c74b1d2ab081b0e1a309a"
   }
  }
 },
 "nbformat": 4,
 "nbformat_minor": 2
}
