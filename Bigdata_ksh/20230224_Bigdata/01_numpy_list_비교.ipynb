{
 "cells": [
  {
   "cell_type": "code",
   "execution_count": 3,
   "metadata": {},
   "outputs": [],
   "source": [
    "import numpy as np"
   ]
  },
  {
   "cell_type": "code",
   "execution_count": 4,
   "metadata": {},
   "outputs": [
    {
     "name": "stdout",
     "output_type": "stream",
     "text": [
      "[1, 2, 3, 4]\n",
      "[1 2 3 4]\n",
      "<class 'numpy.ndarray'>\n"
     ]
    }
   ],
   "source": [
    "list_a = [1,2,3,4]\n",
    "a1 = np.array(list_a)\n",
    "print(list_a)\n",
    "print(a1)\n",
    "print(type(a1))"
   ]
  },
  {
   "cell_type": "code",
   "execution_count": 5,
   "metadata": {},
   "outputs": [
    {
     "name": "stdout",
     "output_type": "stream",
     "text": [
      "[0, 1, 2, 3, 4, 5, 6, 7, 8, 9]\n",
      "[0 1 2 3 4 5 6 7 8 9]\n"
     ]
    }
   ],
   "source": [
    "list_b = [x for x in range(10)]\n",
    "print(list_b)\n",
    "\n",
    "# numpy에서는 for문 없이 범위만큼 출력시킬 수 있음\n",
    "a2 = np.arange(10)\n",
    "print(a2)"
   ]
  },
  {
   "cell_type": "code",
   "execution_count": 6,
   "metadata": {},
   "outputs": [
    {
     "name": "stdout",
     "output_type": "stream",
     "text": [
      "[1, 1.0, 'abc']\n",
      "['1' '1.0' 'abc']\n"
     ]
    }
   ],
   "source": [
    "list_c = [1, 1.0, 'abc']\n",
    "print(list_c)\n",
    "\n",
    "# 여러 가지 데이터 타입을 처리하지 않고 다양한 데이터 타입이 있는 경우 모두 문자열로 처리\n",
    "a3 = np.array(list_c)\n",
    "print(a3)"
   ]
  },
  {
   "cell_type": "code",
   "execution_count": 7,
   "metadata": {},
   "outputs": [
    {
     "name": "stdout",
     "output_type": "stream",
     "text": [
      "['a', 'b', 'c', 'd', 'e', 'f', 'g', 'h', 'i', 'j', 'k']\n",
      "['a' 'b' 'c' 'd' 'e' 'f' 'g' 'h' 'i' 'j' 'k']\n",
      "c\n",
      "['c' 'd' 'e' 'f']\n",
      "k\n",
      "['c' 'e']\n",
      "['b' 'h' 'f']\n",
      "[False False False  True  True  True  True  True  True  True  True]\n",
      "['d' 'e' 'f' 'g' 'h' 'i' 'j' 'k']\n",
      "['d' 'e' 'f' 'g' 'h' 'i' 'j' 'k']\n"
     ]
    }
   ],
   "source": [
    "list_d = list('abcdefghijk')\n",
    "print(list_d)\n",
    "\n",
    "a4 = np.array(list_d)\n",
    "print(a4)\n",
    "\n",
    "print(a4[2])\n",
    "print(a4[2:6])\n",
    "print(a4[-1])\n",
    "print(a4[2:6:2])\n",
    "\n",
    "print(a4[[1,7,5]])\n",
    "\n",
    "\n",
    "filter_1 = a4 > 'c'\n",
    "print(filter_1)\n",
    "print(a4[a4 > 'c'])\n",
    "print(a4[filter_1])"
   ]
  },
  {
   "cell_type": "code",
   "execution_count": 8,
   "metadata": {},
   "outputs": [
    {
     "name": "stdout",
     "output_type": "stream",
     "text": [
      "[10 12 14 16 18]\n"
     ]
    }
   ],
   "source": [
    "a5 = np.arange(10, 20, 2)\n",
    "print(a5)"
   ]
  },
  {
   "cell_type": "code",
   "execution_count": 9,
   "metadata": {},
   "outputs": [
    {
     "name": "stdout",
     "output_type": "stream",
     "text": [
      "[1.5 1.6 1.7 1.8 1.9 2.  2.1 2.2 2.3 2.4]\n"
     ]
    }
   ],
   "source": [
    "a6 = np.arange(1.5, 2.5, 0.1)\n",
    "print(a6)"
   ]
  },
  {
   "cell_type": "code",
   "execution_count": 10,
   "metadata": {},
   "outputs": [
    {
     "name": "stdout",
     "output_type": "stream",
     "text": [
      "[1.5        1.61111111 1.72222222 1.83333333 1.94444444 2.05555556\n",
      " 2.16666667 2.27777778 2.38888889 2.5       ]\n"
     ]
    }
   ],
   "source": [
    "a7 = np.linspace(1.5, 2.5, 10)\n",
    "print(a7)"
   ]
  },
  {
   "cell_type": "code",
   "execution_count": 11,
   "metadata": {},
   "outputs": [
    {
     "name": "stdout",
     "output_type": "stream",
     "text": [
      "[0. 0. 0. 0. 0.]\n",
      "[0 0 0 0 0]\n"
     ]
    }
   ],
   "source": [
    "a8 = np.zeros(5)\n",
    "print(a8)\n",
    "a8 = a8.astype(np.int64)\n",
    "print(a8)"
   ]
  },
  {
   "cell_type": "code",
   "execution_count": 12,
   "metadata": {},
   "outputs": [
    {
     "name": "stdout",
     "output_type": "stream",
     "text": [
      "[1 1 1 1 1 1 1 1 1 1]\n"
     ]
    }
   ],
   "source": [
    "a9 = np.ones(10, dtype=np.int64)\n",
    "print(a9)"
   ]
  },
  {
   "cell_type": "code",
   "execution_count": 13,
   "metadata": {},
   "outputs": [
    {
     "name": "stdout",
     "output_type": "stream",
     "text": [
      "[ 5  6  7  8  9 10 11 12 13 14]\n",
      "int32\n",
      "1\n",
      "(10,)\n",
      "10\n"
     ]
    }
   ],
   "source": [
    "a10 = np.arange(5,15)\n",
    "print(a10)\n",
    "print(a10.dtype)\n",
    "print(a10.ndim)\n",
    "print(a10.shape)\n",
    "print(a10.size)"
   ]
  },
  {
   "cell_type": "code",
   "execution_count": 23,
   "metadata": {},
   "outputs": [
    {
     "name": "stdout",
     "output_type": "stream",
     "text": [
      "[1, 2, 3, 4, 10, 20, 30, 40]\n",
      "[11 22 33 44]\n",
      "[ -9 -18 -27 -36]\n",
      "[ 10  40  90 160]\n",
      "[0.1 0.1 0.1 0.1]\n",
      "[1 2 3 4]\n",
      "[ 1  2  3  4 10 20 30 40]\n"
     ]
    }
   ],
   "source": [
    "lista = [1,2,3,4]\n",
    "listb = [10,20,30,40]\n",
    "\n",
    "print(lista + listb)\n",
    "\n",
    "a10 = np.array(lista)\n",
    "a11 = np.array(listb)\n",
    "print(a10+a11)\n",
    "print(a10-a11)\n",
    "print(a10*a11)\n",
    "print(a10/a11)\n",
    "print(a10%a11)\n",
    "print(np.concatenate((a10,a11)))"
   ]
  },
  {
   "cell_type": "code",
   "execution_count": 30,
   "metadata": {},
   "outputs": [
    {
     "name": "stdout",
     "output_type": "stream",
     "text": [
      "[1 2 3 4]\n",
      "10\n",
      "10\n",
      "10\n"
     ]
    }
   ],
   "source": [
    "print(a10)\n",
    "print(sum(a10))   # 파이썬 내장함수(built-in)\n",
    "print(a10.sum())   # ndarray method\n",
    "print(np.sum(a10))   # numpy function"
   ]
  }
 ],
 "metadata": {
  "kernelspec": {
   "display_name": "Python 3",
   "language": "python",
   "name": "python3"
  },
  "language_info": {
   "codemirror_mode": {
    "name": "ipython",
    "version": 3
   },
   "file_extension": ".py",
   "mimetype": "text/x-python",
   "name": "python",
   "nbconvert_exporter": "python",
   "pygments_lexer": "ipython3",
   "version": "3.10.9"
  },
  "orig_nbformat": 4,
  "vscode": {
   "interpreter": {
    "hash": "08804ff59ba42edf801cabf0150036e830ede650fb4c74b1d2ab081b0e1a309a"
   }
  }
 },
 "nbformat": 4,
 "nbformat_minor": 2
}
