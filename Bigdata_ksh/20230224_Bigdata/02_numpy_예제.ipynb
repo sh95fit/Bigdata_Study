{
 "cells": [
  {
   "cell_type": "code",
   "execution_count": 4,
   "metadata": {},
   "outputs": [
    {
     "name": "stdout",
     "output_type": "stream",
     "text": [
      "[18, 34, 69, 19, 78, 39, 22, 64, 94, 77]\n"
     ]
    }
   ],
   "source": [
    "import numpy as np\n",
    "import random\n",
    "\n",
    "random.seed(224)\n",
    "listr = [random.randint(10,100) for _ in range(10)]\n",
    "print(listr)"
   ]
  },
  {
   "cell_type": "code",
   "execution_count": 15,
   "metadata": {},
   "outputs": [
    {
     "name": "stdout",
     "output_type": "stream",
     "text": [
      "(10,)\n",
      "514\n",
      "18\n",
      "94\n",
      "26.706553502838965\n",
      "26.706553502838965\n",
      "26.706553502838965\n"
     ]
    }
   ],
   "source": [
    "a1 = np.array(listr)\n",
    "print(a1.shape)\n",
    "print(np.sum(a1))\n",
    "print(np.min(a1))\n",
    "print(np.max(a1))\n",
    "print(np.std(a1))\n",
    "print(a1.std())\n",
    "print(np.std(listr))    # document상 array_like로 명시되어 있는 경우 리스트도 문제 없이 처리 가능!"
   ]
  }
 ],
 "metadata": {
  "kernelspec": {
   "display_name": "Python 3",
   "language": "python",
   "name": "python3"
  },
  "language_info": {
   "codemirror_mode": {
    "name": "ipython",
    "version": 3
   },
   "file_extension": ".py",
   "mimetype": "text/x-python",
   "name": "python",
   "nbconvert_exporter": "python",
   "pygments_lexer": "ipython3",
   "version": "3.10.9"
  },
  "orig_nbformat": 4,
  "vscode": {
   "interpreter": {
    "hash": "08804ff59ba42edf801cabf0150036e830ede650fb4c74b1d2ab081b0e1a309a"
   }
  }
 },
 "nbformat": 4,
 "nbformat_minor": 2
}
