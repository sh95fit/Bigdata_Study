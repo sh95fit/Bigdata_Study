{
 "cells": [
  {
   "cell_type": "code",
   "execution_count": 8,
   "metadata": {},
   "outputs": [],
   "source": [
    "import numpy as np"
   ]
  },
  {
   "cell_type": "code",
   "execution_count": 9,
   "metadata": {},
   "outputs": [
    {
     "name": "stdout",
     "output_type": "stream",
     "text": [
      "[[1, 2, 10], [3, 4, 20]]\n",
      "[[ 1  2 10]\n",
      " [ 3  4 20]]\n",
      "(2, 3)\n",
      "2\n"
     ]
    }
   ],
   "source": [
    "lista = [[1,2,10],[3,4,20]]\n",
    "print(lista)\n",
    "\n",
    "a1 = np.array(lista)\n",
    "print(a1)\n",
    "print(a1.shape)\n",
    "print(a1.ndim)"
   ]
  },
  {
   "cell_type": "code",
   "execution_count": 10,
   "metadata": {},
   "outputs": [
    {
     "name": "stdout",
     "output_type": "stream",
     "text": [
      "[[10 11 12 13 14]\n",
      " [15 16 17 18 19]]\n",
      "(2, 5)\n",
      "10\n"
     ]
    }
   ],
   "source": [
    "a2 = np.arange(10,20)\n",
    "a2 = a2.reshape(2,5)\n",
    "print(a2)\n",
    "print(a2.shape)\n",
    "print(a2.size)"
   ]
  },
  {
   "cell_type": "code",
   "execution_count": 11,
   "metadata": {},
   "outputs": [
    {
     "name": "stdout",
     "output_type": "stream",
     "text": [
      "[[1, 2, 3], [4, 5]]\n"
     ]
    },
    {
     "ename": "ValueError",
     "evalue": "setting an array element with a sequence. The requested array has an inhomogeneous shape after 1 dimensions. The detected shape was (2,) + inhomogeneous part.",
     "output_type": "error",
     "traceback": [
      "\u001b[1;31m---------------------------------------------------------------------------\u001b[0m",
      "\u001b[1;31mValueError\u001b[0m                                Traceback (most recent call last)",
      "Cell \u001b[1;32mIn[11], line 4\u001b[0m\n\u001b[0;32m      1\u001b[0m listb \u001b[39m=\u001b[39m [[\u001b[39m1\u001b[39m,\u001b[39m2\u001b[39m,\u001b[39m3\u001b[39m], [\u001b[39m4\u001b[39m,\u001b[39m5\u001b[39m]]\n\u001b[0;32m      2\u001b[0m \u001b[39mprint\u001b[39m(listb)\n\u001b[1;32m----> 4\u001b[0m a3 \u001b[39m=\u001b[39m np\u001b[39m.\u001b[39;49marray(listb)\n\u001b[0;32m      5\u001b[0m \u001b[39mprint\u001b[39m(a3)\n\u001b[0;32m      6\u001b[0m \u001b[39mprint\u001b[39m(a3\u001b[39m.\u001b[39mshape)\n",
      "\u001b[1;31mValueError\u001b[0m: setting an array element with a sequence. The requested array has an inhomogeneous shape after 1 dimensions. The detected shape was (2,) + inhomogeneous part."
     ]
    }
   ],
   "source": [
    "listb = [[1,2,3], [4,5]]\n",
    "print(listb)\n",
    "\n",
    "a3 = np.array(listb)\n",
    "print(a3)\n",
    "print(a3.shape)"
   ]
  },
  {
   "cell_type": "code",
   "execution_count": null,
   "metadata": {},
   "outputs": [
    {
     "name": "stdout",
     "output_type": "stream",
     "text": [
      "[[10 11 12 13 14 15 16]\n",
      " [17 18 19 20 21 22 23]\n",
      " [24 25 26 27 28 29 30]\n",
      " [31 32 33 34 35 36 37]\n",
      " [38 39 40 41 42 43 44]]\n",
      "36\n",
      "[[13 14 15]\n",
      " [20 21 22]\n",
      " [27 28 29]\n",
      " [34 35 36]\n",
      " [41 42 43]]\n",
      "[[17 18 19 20 21 22 23]\n",
      " [31 32 33 34 35 36 37]]\n",
      "[[17 18 19 20 21 22 23]\n",
      " [31 32 33 34 35 36 37]]\n",
      "[[17 18 19 20 21 22 23]\n",
      " [31 32 33 34 35 36 37]]\n",
      "[False  True False  True False]\n"
     ]
    }
   ],
   "source": [
    "a4 = np.arange(10,45).reshape(5,7)\n",
    "print(a4)\n",
    "# print(a4[3])    # 4번째 행 출력\n",
    "# print(a4[1:3])  # row에 대한 인덱싱만 가능\n",
    "print(a4[3,5])    # ndarray[row, column]\n",
    "print(a4[:,3:6])\n",
    "print(a4[1:5:2])\n",
    "print(a4[1::2, :])\n",
    "print(a4[[1,3],:])\n",
    "\n",
    "filter1 = a4[:,0]%2 != 0\n",
    "print(filter1)\n",
    "# print(a4[filter1])"
   ]
  },
  {
   "cell_type": "code",
   "execution_count": 27,
   "metadata": {},
   "outputs": [
    {
     "name": "stdout",
     "output_type": "stream",
     "text": [
      "[[10 11 12 13 14 15 16]\n",
      " [17 18 19 20 21 22 23]\n",
      " [24 25 26 27 28 29 30]\n",
      " [31 32 33 34 35 36 37]\n",
      " [38 39 40 41 42 43 44]]\n",
      "[[18 20 22]\n",
      " [25 27 29]\n",
      " [32 34 36]]\n"
     ]
    }
   ],
   "source": [
    "a5 = np.arange(10,45).reshape(5,7)\n",
    "print(a5)\n",
    "\n",
    "filter2 = a5[0,:]%2 != 0\n",
    "# print(filter2)\n",
    "\n",
    "# print(a5[:,filter2][[1,2,3],:])\n",
    "\n",
    "print(a5[1:4,1::2])\n",
    "\n",
    "# a5 = a5[:,filter2]\n",
    "# print(a5[[1,2,3],:])"
   ]
  },
  {
   "cell_type": "code",
   "execution_count": 32,
   "metadata": {},
   "outputs": [
    {
     "name": "stdout",
     "output_type": "stream",
     "text": [
      "[[10 11 12 13 14 15 16]\n",
      " [17 18 19 20 21 22 23]\n",
      " [24 25 26 27 28 29 30]\n",
      " [31 32 33 34 35 36 37]\n",
      " [38 39 40 41 42 43 44]]\n",
      "945\n",
      "[ 91 140 189 238 287]\n",
      "[120 125 130 135 140 145 150]\n"
     ]
    }
   ],
   "source": [
    "print(a5)\n",
    "print(np.sum(a5))   # 모든 요소의 합\n",
    "print(np.sum(a5,axis=1))    # 행별 합\n",
    "print(np.sum(a5,axis=0))    # 열별 합"
   ]
  },
  {
   "cell_type": "code",
   "execution_count": 35,
   "metadata": {},
   "outputs": [
    {
     "name": "stdout",
     "output_type": "stream",
     "text": [
      "[[10 11 12 13 14 15 16]\n",
      " [17 18 19 20 21 22 23]\n",
      " [24 25 26 27 28 29 30]\n",
      " [31 32 33 34 35 36 37]\n",
      " [38 39 40 41 42 43 44]]\n",
      "(5, 7)\n",
      "[[10 17 24 31 38]\n",
      " [11 18 25 32 39]\n",
      " [12 19 26 33 40]\n",
      " [13 20 27 34 41]\n",
      " [14 21 28 35 42]\n",
      " [15 22 29 36 43]\n",
      " [16 23 30 37 44]]\n",
      "(7, 5)\n"
     ]
    }
   ],
   "source": [
    "print(a5)\n",
    "print(a5.shape)\n",
    "print(a5.T)\n",
    "print(a5.T.shape)"
   ]
  }
 ],
 "metadata": {
  "kernelspec": {
   "display_name": "Python 3",
   "language": "python",
   "name": "python3"
  },
  "language_info": {
   "codemirror_mode": {
    "name": "ipython",
    "version": 3
   },
   "file_extension": ".py",
   "mimetype": "text/x-python",
   "name": "python",
   "nbconvert_exporter": "python",
   "pygments_lexer": "ipython3",
   "version": "3.10.9"
  },
  "orig_nbformat": 4,
  "vscode": {
   "interpreter": {
    "hash": "08804ff59ba42edf801cabf0150036e830ede650fb4c74b1d2ab081b0e1a309a"
   }
  }
 },
 "nbformat": 4,
 "nbformat_minor": 2
}
