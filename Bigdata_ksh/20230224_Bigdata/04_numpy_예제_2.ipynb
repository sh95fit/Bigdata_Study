{
 "cells": [
  {
   "cell_type": "code",
   "execution_count": 70,
   "metadata": {},
   "outputs": [
    {
     "name": "stdout",
     "output_type": "stream",
     "text": [
      "[[  2016      1 166123]\n",
      " [  2016      2 160144]\n",
      " [  2016      3 181751]\n",
      " [  2016      4 179225]\n",
      " [  2016      5 176778]\n",
      " [  2016      6 165140]\n",
      " [  2016      7 159990]\n",
      " [  2016      8 168529]\n",
      " [  2016      9 180808]\n",
      " [  2016     10 189176]\n",
      " [  2016     11 211735]\n",
      " [  2016     12 206262]]\n"
     ]
    }
   ],
   "source": [
    "import numpy as np\n",
    "import pandas as pd\n",
    "\n",
    "# 지수형태로 프린트되는 것을 방지\n",
    "np.set_printoptions(precision=2, suppress=True)\n",
    "\n",
    "pd_data = pd.read_csv(\"개인통관고유부호 발급현황_20230131기준.csv\", encoding=\"cp949\")\n",
    "np_data = pd_data.to_numpy()\n",
    "print(np_data[:12])"
   ]
  },
  {
   "cell_type": "code",
   "execution_count": 71,
   "metadata": {},
   "outputs": [
    {
     "name": "stdout",
     "output_type": "stream",
     "text": [
      "[  2023      1 181985]\n"
     ]
    }
   ],
   "source": [
    "print(np_data[-1])"
   ]
  },
  {
   "cell_type": "code",
   "execution_count": 72,
   "metadata": {},
   "outputs": [
    {
     "name": "stdout",
     "output_type": "stream",
     "text": [
      "총 발급 건수 : 19811412\n"
     ]
    }
   ],
   "source": [
    "# 2016년 1월부터 2023년 1월까지(포함) 개인통관고유부호를 신규 발급 받은 건수 (합)\n",
    "print(\"총 발급 건수 :\", np.sum(np_data[:,2], axis=0))"
   ]
  },
  {
   "cell_type": "code",
   "execution_count": 73,
   "metadata": {},
   "outputs": [
    {
     "name": "stdout",
     "output_type": "stream",
     "text": [
      "2016년 : 2145661\n",
      "2017년 : 2428779\n",
      "2018년 : 2746613\n",
      "2019년 : 3357204\n",
      "2020년 : 3253296\n",
      "2021년 : 3361786\n",
      "2022년 : 2336088\n"
     ]
    }
   ],
   "source": [
    "# 2016년 1월부터, 2020년 12월까지(포함), 매년 신규부호 발급 받은 건수\n",
    "for n in range(7) :\n",
    "    print(f\"{2016+n}년 :\", np.sum(np_data[12*n:12*(n+1), 2], axis=0))"
   ]
  },
  {
   "cell_type": "code",
   "execution_count": 74,
   "metadata": {},
   "outputs": [
    {
     "name": "stdout",
     "output_type": "stream",
     "text": [
      "1월 : 1824210\n",
      "2월 : 1535634\n",
      "3월 : 1769114\n",
      "4월 : 1540919\n",
      "5월 : 1567368\n",
      "6월 : 1556606\n",
      "7월 : 1560707\n",
      "8월 : 1566450\n",
      "9월 : 1629510\n",
      "10월 : 1680455\n",
      "11월 : 1839020\n",
      "12월 : 1741419\n"
     ]
    }
   ],
   "source": [
    "# 2016년 1월부터, 2022년 12월까지(포함), 월별 신규부호 발급 받은 건수\n",
    "for i in range(1,13) :\n",
    "    print(f\"{i}월 :\", np.sum(np_data[i-1::12,2],axis=0))"
   ]
  },
  {
   "cell_type": "code",
   "execution_count": 75,
   "metadata": {},
   "outputs": [
    {
     "name": "stdout",
     "output_type": "stream",
     "text": [
      "[[  2017      1 203790]\n",
      " [  2017      2 224099]\n",
      " [  2017      3 211963]\n",
      " [  2017      4 191588]\n",
      " [  2017      5 198337]\n",
      " [  2017      6 191560]\n",
      " [  2017      7 184065]\n",
      " [  2017      8 207140]\n",
      " [  2017      9 204379]\n",
      " [  2017     10 190081]\n",
      " [  2017     11 227411]\n",
      " [  2017     12 194366]]\n"
     ]
    }
   ],
   "source": [
    "# 필터 적용 예시(년도별)\n",
    "filter1 = np_data[:,0]==2017\n",
    "print(np_data[filter1])"
   ]
  },
  {
   "cell_type": "code",
   "execution_count": 76,
   "metadata": {},
   "outputs": [
    {
     "name": "stdout",
     "output_type": "stream",
     "text": [
      "[[  2016      1 166123]\n",
      " [  2017      1 203790]\n",
      " [  2018      1 203923]\n",
      " [  2019      1 270568]\n",
      " [  2020      1 243144]\n",
      " [  2021      1 330413]\n",
      " [  2022      1 224264]\n",
      " [  2023      1 181985]]\n"
     ]
    }
   ],
   "source": [
    "# 필터 적용 예시(월별)\n",
    "filter2 = np_data[:,1]==1\n",
    "print(np_data[filter2])"
   ]
  },
  {
   "cell_type": "code",
   "execution_count": 77,
   "metadata": {},
   "outputs": [
    {
     "name": "stdout",
     "output_type": "stream",
     "text": [
      "*********************************\n",
      "총 발급 건수 : 19811412\n",
      "*********************************\n",
      "2016 2145661 178805.08333333334\n",
      "2017 2428779 202398.25\n",
      "2018 2746613 228884.41666666666\n",
      "2019 3357204 279767.0\n",
      "2020 3253296 271108.0\n",
      "2021 3361786 280148.8333333333\n",
      "2022 2336088 194674.0\n",
      "*********************************\n",
      "1 1824210 228026.25\n",
      "2 1535634 219376.2857142857\n",
      "3 1769114 252730.57142857142\n",
      "4 1540919 220131.2857142857\n",
      "5 1567368 223909.7142857143\n",
      "6 1556606 222372.2857142857\n",
      "7 1560707 222958.14285714287\n",
      "8 1566450 223778.57142857142\n",
      "9 1629510 232787.14285714287\n",
      "10 1680455 240065.0\n",
      "11 1839020 262717.14285714284\n",
      "12 1741419 248774.14285714287\n",
      "*********************************\n"
     ]
    }
   ],
   "source": [
    "#다른 풀이\n",
    "print(\"*********************************\")\n",
    "# 2016년 1월부터 2023년 1월까지(포함) 개인통관고유부호를 신규 발급 받은 건수 (합)\n",
    "print(\"총 발급 건수 :\", np.sum(np_data[:,2], axis=0))\n",
    "\n",
    "print(\"*********************************\")\n",
    "\n",
    "# 2016년 1월부터, 2020년 12월까지(포함), 매년 신규부호 발급 받은 건수\n",
    "yr_x = []\n",
    "yr_y = []\n",
    "for yr in range(2016,2023) :\n",
    "    filter1 = np_data[:,0]==yr\n",
    "    rt = np.sum(np_data[filter1], axis=0)\n",
    "    rt1 = np.mean(np_data[filter1], axis=0)\n",
    "    yr_x.append(yr)\n",
    "    yr_y.append(rt[2])\n",
    "    print(yr, rt[2], rt1[2])\n",
    "\n",
    "# 1~12까지 더한 값 확인\n",
    "# print(np.sum([x for x in range(1,13)]))\n",
    "print(\"*********************************\")\n",
    "\n",
    "\n",
    "# 2016년 1월부터, 2022년 12월까지(포함), 월별 신규부호 발급 받은 건수\n",
    "mo_x = []\n",
    "mo_y = []\n",
    "for mo in range(1,13) :\n",
    "    filter1 = np_data[:,1]==mo\n",
    "    rt = np.sum(np_data[filter1], axis=0)\n",
    "    rt1 = np.mean(np_data[filter1], axis=0)\n",
    "    mo_x.append(mo)\n",
    "    mo_y.append(rt[2])\n",
    "    print(mo, rt[2], rt1[2])\n",
    "print(\"*********************************\")"
   ]
  },
  {
   "cell_type": "code",
   "execution_count": 78,
   "metadata": {},
   "outputs": [
    {
     "data": {
      "text/plain": [
       "[<matplotlib.lines.Line2D at 0x1f80228a8c0>]"
      ]
     },
     "execution_count": 78,
     "metadata": {},
     "output_type": "execute_result"
    },
    {
     "data": {
      "image/png": "[encoded data removed]",
      "text/plain": [
       "<Figure size 640x480 with 1 Axes>"
      ]
     },
     "metadata": {},
     "output_type": "display_data"
    }
   ],
   "source": [
    "import matplotlib.pyplot as plt\n",
    "\n",
    "# 2016년 1월부터, 2022년 12월까지(포함), 월별 신규부호 발급 받은 건수\n",
    "_, axe = plt.subplots()\n",
    "axe.plot(mo_x, mo_y)"
   ]
  },
  {
   "cell_type": "code",
   "execution_count": 79,
   "metadata": {},
   "outputs": [
    {
     "data": {
      "text/plain": [
       "[<matplotlib.lines.Line2D at 0x1f802318490>]"
      ]
     },
     "execution_count": 79,
     "metadata": {},
     "output_type": "execute_result"
    },
    {
     "data": {
      "image/png": "[encoded data removed]",
      "text/plain": [
       "<Figure size 640x480 with 1 Axes>"
      ]
     },
     "metadata": {},
     "output_type": "display_data"
    }
   ],
   "source": [
    "# 2016년 1월부터, 2020년 12월까지(포함), 매년 신규부호 발급 받은 건수\n",
    "_, axe = plt.subplots()\n",
    "axe.plot(yr_x, yr_y)"
   ]
  }
 ],
 "metadata": {
  "kernelspec": {
   "display_name": "Python 3",
   "language": "python",
   "name": "python3"
  },
  "language_info": {
   "codemirror_mode": {
    "name": "ipython",
    "version": 3
   },
   "file_extension": ".py",
   "mimetype": "text/x-python",
   "name": "python",
   "nbconvert_exporter": "python",
   "pygments_lexer": "ipython3",
   "version": "3.10.9"
  },
  "orig_nbformat": 4,
  "vscode": {
   "interpreter": {
    "hash": "08804ff59ba42edf801cabf0150036e830ede650fb4c74b1d2ab081b0e1a309a"
   }
  }
 },
 "nbformat": 4,
 "nbformat_minor": 2
}
