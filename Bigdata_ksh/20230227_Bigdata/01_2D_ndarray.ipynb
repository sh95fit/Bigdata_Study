{
 "cells": [
  {
   "cell_type": "code",
   "execution_count": 1,
   "metadata": {},
   "outputs": [],
   "source": [
    "import numpy as np"
   ]
  },
  {
   "cell_type": "code",
   "execution_count": 3,
   "metadata": {},
   "outputs": [
    {
     "name": "stdout",
     "output_type": "stream",
     "text": [
      "[[10 20 30]\n",
      " [40 50 60]]\n"
     ]
    }
   ],
   "source": [
    "list_a = [[10,20,30],[40,50,60]]\n",
    "a1 = np.array(list_a)\n",
    "print(a1)"
   ]
  },
  {
   "cell_type": "code",
   "execution_count": 13,
   "metadata": {},
   "outputs": [
    {
     "name": "stdout",
     "output_type": "stream",
     "text": [
      "[ 10  20 100  40  50  60]\n",
      "[ 10  20 100  40  50  60]\n",
      "[[ 10  20 100]\n",
      " [ 40  50  60]]\n",
      "*********************************\n",
      "[ 10  20 100  40  50  60]\n",
      "[ 10  20 100  40  50  60]\n",
      "[[ 10  20 100]\n",
      " [ 40  50  60]]\n"
     ]
    }
   ],
   "source": [
    "# flatten, ravel  (2차원 -> 1차원 변환)\n",
    "\n",
    "# return copy\n",
    "a2 = a1.flatten()\n",
    "print(a2)\n",
    "a2[2]=100\n",
    "print(a2)\n",
    "print(a1)\n",
    "\n",
    "print(\"*********************************\")\n",
    "\n",
    "# return reference\n",
    "a3 = a1.ravel()\n",
    "print(a3)\n",
    "a3[2]=100\n",
    "print(a3)\n",
    "print(a1)"
   ]
  },
  {
   "cell_type": "code",
   "execution_count": 15,
   "metadata": {},
   "outputs": [
    {
     "name": "stdout",
     "output_type": "stream",
     "text": [
      "[[10 11 12 13 14]\n",
      " [15 16 17 18 19]] (2, 5)\n",
      "[[110 111 112 113 114]\n",
      " [115 116 117 118 119]] (2, 5)\n"
     ]
    }
   ],
   "source": [
    "# concatenate\n",
    "a1 = np.arange(10,20).reshape(2,5)\n",
    "a2 = np.arange(110,120).reshape(2,5)\n",
    "print(a1, a1.shape)\n",
    "print(a2, a2.shape)"
   ]
  },
  {
   "cell_type": "code",
   "execution_count": 24,
   "metadata": {},
   "outputs": [],
   "source": [
    "# np.concatenate((a1,a2))\n",
    "a5 = np.concatenate((a1,a2),axis=1)"
   ]
  },
  {
   "cell_type": "code",
   "execution_count": 23,
   "metadata": {},
   "outputs": [],
   "source": [
    "# np.hstack((a1, a2))\n",
    "# np.vstack((a1, a2))"
   ]
  },
  {
   "cell_type": "code",
   "execution_count": 40,
   "metadata": {},
   "outputs": [
    {
     "name": "stdout",
     "output_type": "stream",
     "text": [
      "[[ 10  11  12  13  14 110 111 112 113 114]\n",
      " [ 15  16  17  18  19 115 116 117 118 119]]\n"
     ]
    },
    {
     "data": {
      "text/plain": [
       "[array([[ 10,  11,  12,  13,  14, 110, 111, 112, 113, 114]]),\n",
       " array([[ 15,  16,  17,  18,  19, 115, 116, 117, 118, 119]])]"
      ]
     },
     "execution_count": 40,
     "metadata": {},
     "output_type": "execute_result"
    }
   ],
   "source": [
    "print(a5)\n",
    "# np.hsplit(a5, 2)\n",
    "# np.hsplit(a5, 5)\n",
    "# a5[:, :2]\n",
    "# a5[:, 2:4]\n",
    "# a5[:,4:6]\n",
    "# a5[:, 6:8]\n",
    "\n",
    "# for i in range(9):\n",
    "#     print(a5[:,i*2:(i*2)+2])\n",
    "\n",
    "np.hsplit(a5, 5)"
   ]
  },
  {
   "cell_type": "code",
   "execution_count": 43,
   "metadata": {},
   "outputs": [
    {
     "name": "stdout",
     "output_type": "stream",
     "text": [
      "[[ 10  15]\n",
      " [ 11  16]\n",
      " [ 12  17]\n",
      " [ 13  18]\n",
      " [ 14  19]\n",
      " [110 115]\n",
      " [111 116]\n",
      " [112 117]\n",
      " [113 118]\n",
      " [114 119]]\n"
     ]
    },
    {
     "data": {
      "text/plain": [
       "[array([[10, 15],\n",
       "        [11, 16]]),\n",
       " array([[12, 17],\n",
       "        [13, 18]]),\n",
       " array([[ 14,  19],\n",
       "        [110, 115]]),\n",
       " array([[111, 116],\n",
       "        [112, 117]]),\n",
       " array([[113, 118],\n",
       "        [114, 119]])]"
      ]
     },
     "execution_count": 43,
     "metadata": {},
     "output_type": "execute_result"
    }
   ],
   "source": [
    "a6 = a5.T\n",
    "print(a6)\n",
    "np.vsplit(a6,5)"
   ]
  }
 ],
 "metadata": {
  "kernelspec": {
   "display_name": "Python 3",
   "language": "python",
   "name": "python3"
  },
  "language_info": {
   "codemirror_mode": {
    "name": "ipython",
    "version": 3
   },
   "file_extension": ".py",
   "mimetype": "text/x-python",
   "name": "python",
   "nbconvert_exporter": "python",
   "pygments_lexer": "ipython3",
   "version": "3.10.9"
  },
  "orig_nbformat": 4,
  "vscode": {
   "interpreter": {
    "hash": "08804ff59ba42edf801cabf0150036e830ede650fb4c74b1d2ab081b0e1a309a"
   }
  }
 },
 "nbformat": 4,
 "nbformat_minor": 2
}
