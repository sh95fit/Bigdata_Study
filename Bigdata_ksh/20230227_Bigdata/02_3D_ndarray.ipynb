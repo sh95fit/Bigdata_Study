{
 "cells": [
  {
   "cell_type": "code",
   "execution_count": 2,
   "metadata": {},
   "outputs": [],
   "source": [
    "import numpy as np"
   ]
  },
  {
   "cell_type": "code",
   "execution_count": 7,
   "metadata": {},
   "outputs": [
    {
     "name": "stdout",
     "output_type": "stream",
     "text": [
      "[[[ 0  1]\n",
      "  [ 2  3]\n",
      "  [ 4  5]\n",
      "  [ 6  7]\n",
      "  [ 8  9]]\n",
      "\n",
      " [[10 11]\n",
      "  [12 13]\n",
      "  [14 15]\n",
      "  [16 17]\n",
      "  [18 19]]\n",
      "\n",
      " [[20 21]\n",
      "  [22 23]\n",
      "  [24 25]\n",
      "  [26 27]\n",
      "  [28 29]]] (3, 5, 2)\n"
     ]
    }
   ],
   "source": [
    "a1 = np.arange(30).reshape(3,5,2)\n",
    "print(a1, a1.shape)"
   ]
  },
  {
   "cell_type": "code",
   "execution_count": 10,
   "metadata": {},
   "outputs": [
    {
     "name": "stdout",
     "output_type": "stream",
     "text": [
      "[[30 33]\n",
      " [36 39]\n",
      " [42 45]\n",
      " [48 51]\n",
      " [54 57]] (5, 2)\n"
     ]
    }
   ],
   "source": [
    "a2 = np.sum(a1, axis=0)\n",
    "print(a2, a2.shape)"
   ]
  },
  {
   "cell_type": "code",
   "execution_count": 12,
   "metadata": {},
   "outputs": [
    {
     "name": "stdout",
     "output_type": "stream",
     "text": [
      "[[ 20  25]\n",
      " [ 70  75]\n",
      " [120 125]] (3, 2)\n"
     ]
    }
   ],
   "source": [
    "a3 = np.sum(a1, axis=1)\n",
    "print(a3, a3.shape)"
   ]
  },
  {
   "cell_type": "code",
   "execution_count": 14,
   "metadata": {},
   "outputs": [
    {
     "name": "stdout",
     "output_type": "stream",
     "text": [
      "[[ 1  5  9 13 17]\n",
      " [21 25 29 33 37]\n",
      " [41 45 49 53 57]] (3, 5)\n"
     ]
    }
   ],
   "source": [
    "a4 = np.sum(a1, axis=2)\n",
    "print(a4, a4.shape)"
   ]
  },
  {
   "cell_type": "code",
   "execution_count": 18,
   "metadata": {},
   "outputs": [
    {
     "data": {
      "text/plain": [
       "5"
      ]
     },
     "execution_count": 18,
     "metadata": {},
     "output_type": "execute_result"
    }
   ],
   "source": [
    "a1[0, 2, 1]"
   ]
  },
  {
   "cell_type": "code",
   "execution_count": 27,
   "metadata": {},
   "outputs": [
    {
     "name": "stdout",
     "output_type": "stream",
     "text": [
      "[[[ 0  2  4  6  8]\n",
      "  [10 12 14 16 18]\n",
      "  [20 22 24 26 28]]\n",
      "\n",
      " [[ 1  3  5  7  9]\n",
      "  [11 13 15 17 19]\n",
      "  [21 23 25 27 29]]] (2, 3, 5)\n",
      "[[[ 0 10 20]\n",
      "  [ 2 12 22]\n",
      "  [ 4 14 24]\n",
      "  [ 6 16 26]\n",
      "  [ 8 18 28]]\n",
      "\n",
      " [[ 1 11 21]\n",
      "  [ 3 13 23]\n",
      "  [ 5 15 25]\n",
      "  [ 7 17 27]\n",
      "  [ 9 19 29]]] (2, 5, 3)\n"
     ]
    }
   ],
   "source": [
    "# print(a1, a1.shape) #3,5,2\n",
    "a2 = np.moveaxis(a1, 2, 0) #2, 3, 5\n",
    "a3 = np.moveaxis(a2, 1, 2) #2, 5, 3\n",
    "print(a2, a2.shape)\n",
    "print(a3, a3.shape)"
   ]
  },
  {
   "cell_type": "code",
   "execution_count": 32,
   "metadata": {},
   "outputs": [
    {
     "name": "stdout",
     "output_type": "stream",
     "text": [
      "[0 1 2 3 4 5 6 7 8 9] (10,)\n",
      "[[0]\n",
      " [1]\n",
      " [2]\n",
      " [3]\n",
      " [4]\n",
      " [5]\n",
      " [6]\n",
      " [7]\n",
      " [8]\n",
      " [9]] (10, 1)\n",
      "[[0 1 2 3 4 5 6 7 8 9]] (1, 10)\n",
      "[[0]\n",
      " [1]\n",
      " [2]\n",
      " [3]\n",
      " [4]\n",
      " [5]\n",
      " [6]\n",
      " [7]\n",
      " [8]\n",
      " [9]] (10, 1)\n",
      "[[0 1 2 3 4 5 6 7 8 9]] (1, 10)\n"
     ]
    }
   ],
   "source": [
    "a10 = np.arange(10)\n",
    "print(a10, a10.shape)\n",
    "\n",
    "a11 = a10[:, np.newaxis]\n",
    "print(a11, a11.shape)\n",
    "\n",
    "a12 = a10[np.newaxis, :]\n",
    "print(a12, a12.shape)\n",
    "\n",
    "a13 = np.expand_dims(a10, 1)\n",
    "print(a13, a13.shape)\n",
    "\n",
    "a14 = np.expand_dims(a10, 0)\n",
    "print(a14, a14.shape)\n"
   ]
  }
 ],
 "metadata": {
  "kernelspec": {
   "display_name": "Python 3",
   "language": "python",
   "name": "python3"
  },
  "language_info": {
   "codemirror_mode": {
    "name": "ipython",
    "version": 3
   },
   "file_extension": ".py",
   "mimetype": "text/x-python",
   "name": "python",
   "nbconvert_exporter": "python",
   "pygments_lexer": "ipython3",
   "version": "3.10.9"
  },
  "orig_nbformat": 4,
  "vscode": {
   "interpreter": {
    "hash": "08804ff59ba42edf801cabf0150036e830ede650fb4c74b1d2ab081b0e1a309a"
   }
  }
 },
 "nbformat": 4,
 "nbformat_minor": 2
}
