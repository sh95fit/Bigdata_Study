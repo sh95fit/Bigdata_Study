{
 "cells": [
  {
   "cell_type": "code",
   "execution_count": 1,
   "metadata": {},
   "outputs": [],
   "source": [
    "import numpy as np"
   ]
  },
  {
   "cell_type": "code",
   "execution_count": 8,
   "metadata": {},
   "outputs": [
    {
     "name": "stdout",
     "output_type": "stream",
     "text": [
      "[0 1 2 3 4]\n",
      "[10 11 12 13 14]\n",
      "[10 12 14 16 18]\n",
      "***************************\n",
      "[100 100 100 100 100]\n",
      "[100 101 102 103 104]\n",
      "[100 101 102 103 104]\n"
     ]
    }
   ],
   "source": [
    "a1 = np.arange(5)\n",
    "a2 = np.arange(10, 15)\n",
    "a3 = np.array([100,100,100,100,100])\n",
    "print(a1)\n",
    "print(a2)\n",
    "print(a1+a2)\n",
    "print(\"***************************\")\n",
    "\n",
    "# a1 각 요소에 100을 더해주는 경우\n",
    "print(a3)\n",
    "print(a1+a3)\n",
    "\n",
    "# broadcasting 활용시\n",
    "print(a1+100)"
   ]
  },
  {
   "cell_type": "code",
   "execution_count": 13,
   "metadata": {},
   "outputs": [
    {
     "name": "stdout",
     "output_type": "stream",
     "text": [
      "[ 10  12  14  16  18  20  22  24  26  28  30  32  34  36  38  40  42  44\n",
      "  46  48  50  52  54  56  58  60  62  64  66  68  70  72  74  76  78  80\n",
      "  82  84  86  88  90  92  94  96  98 100 102 104 106 108 110 112 114 116\n",
      " 118 120 122 124 126 128 130 132 134 136 138 140 142 144 146 148 150 152\n",
      " 154 156 158 160 162 164 166 168 170 172 174 176 178 180 182 184 186 188\n",
      " 190 192 194 196 198]\n",
      "[ 30  34  38  42  46  50  54  58  62  66  70  74  78  82  86  90  94  98\n",
      " 102 106 110 114 118 122 126 130 134 138 142 146 150 154 158 162 166 170\n",
      " 174 178 182 186 190 194 198 202 206 210 214 218 222 226 230 234 238 242\n",
      " 246 250 254 258 262 266 270 274 278 282 286 290 294 298 302 306 310 314\n",
      " 318 322 326 330 334 338 342 346 350 354 358 362 366 370 374 378 382 386\n",
      " 390 394 398 402 406]\n"
     ]
    }
   ],
   "source": [
    "# f(x) = 2x+10\n",
    "xs = np.arange(10,200,2)\n",
    "print(xs)\n",
    "\n",
    "fx = 2*xs+10\n",
    "print(fx)"
   ]
  },
  {
   "cell_type": "code",
   "execution_count": 24,
   "metadata": {},
   "outputs": [
    {
     "name": "stdout",
     "output_type": "stream",
     "text": [
      "[[ 0  1  2  3  4  5]\n",
      " [ 6  7  8  9 10 11]\n",
      " [12 13 14 15 16 17]\n",
      " [18 19 20 21 22 23]\n",
      " [24 25 26 27 28 29]]\n",
      "[0 1 2 3 4 5]\n",
      "[[ 0  2  4  6  8 10]\n",
      " [ 6  8 10 12 14 16]\n",
      " [12 14 16 18 20 22]\n",
      " [18 20 22 24 26 28]\n",
      " [24 26 28 30 32 34]]\n",
      "[[100 101 102 103 104 105]\n",
      " [106 107 108 109 110 111]\n",
      " [112 113 114 115 116 117]\n",
      " [118 119 120 121 122 123]\n",
      " [124 125 126 127 128 129]]\n",
      "[[100 102 104 106 108 110]\n",
      " [112 114 116 118 120 122]\n",
      " [124 126 128 130 132 134]\n",
      " [136 138 140 142 144 146]\n",
      " [148 150 152 154 156 158]]\n"
     ]
    }
   ],
   "source": [
    "a2 = np.arange(30).reshape(5,6)\n",
    "print(a2)\n",
    "\n",
    "a2 *= a2\n",
    "# print(a2)\n",
    "\n",
    "# print(a2*5)   # a2 : (5,6), scalar\n",
    "\n",
    "a2 = np.arange(30).reshape(5,6)\n",
    "a3 = np.arange(6)\n",
    "print(a3)\n",
    "\n",
    "print(a2+a3)    # a2 : (5,6), a3 : (6,)\n",
    "\n",
    "a4 = np.arange(100,130).reshape(5,6)\n",
    "print(a4)\n",
    "print(a2+a4)    # a2 : (5,6), a4 : (5,6)"
   ]
  },
  {
   "cell_type": "code",
   "execution_count": 27,
   "metadata": {},
   "outputs": [
    {
     "name": "stdout",
     "output_type": "stream",
     "text": [
      "[[ 0  1  2]\n",
      " [ 3  4  5]\n",
      " [ 6  7  8]\n",
      " [ 9 10 11]\n",
      " [12 13 14]]\n",
      "[[  0  10  24]\n",
      " [  6  40  60]\n",
      " [ 12  70  96]\n",
      " [ 18 100 132]\n",
      " [ 24 130 168]]\n"
     ]
    }
   ],
   "source": [
    "a5 = np.arange(15).reshape(5,3)\n",
    "print(a5)\n",
    "\n",
    "# axis1을 따라 3개의 값에 대해 산술\n",
    "# 1. 첫번째 값에는 곱하기 2\n",
    "# 2. 두번째 값에는 곱하기 10\n",
    "# 3. 세번째 값에는 곱하기 12\n",
    "\n",
    "a6 = np.array([2,10,12])\n",
    "\n",
    "print(a5*a6)"
   ]
  }
 ],
 "metadata": {
  "kernelspec": {
   "display_name": "Python 3",
   "language": "python",
   "name": "python3"
  },
  "language_info": {
   "codemirror_mode": {
    "name": "ipython",
    "version": 3
   },
   "file_extension": ".py",
   "mimetype": "text/x-python",
   "name": "python",
   "nbconvert_exporter": "python",
   "pygments_lexer": "ipython3",
   "version": "3.10.9"
  },
  "orig_nbformat": 4
 },
 "nbformat": 4,
 "nbformat_minor": 2
}
