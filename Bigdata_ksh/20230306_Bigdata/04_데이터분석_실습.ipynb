{
 "cells": [
  {
   "cell_type": "code",
   "execution_count": 31,
   "metadata": {},
   "outputs": [
    {
     "name": "stdout",
     "output_type": "stream",
     "text": [
      "[['업체명' '사업장구분' '소재지도로명주소' ... '데이터기준일자' '제공기관코드' '제공기관명']\n",
      " ['㈜디디렌트카' '주사업장' '서울특별시 노원구 동일로250길 69(상계동)' ... '2022-08-17' '3100000'\n",
      "  '서울특별시 노원구']\n",
      " ['인천공항렌트카㈜' '주사업장' '서울특별시 노원구 동일로 178길 10 201호(공릉동)' ... '2022-08-17'\n",
      "  '3100000' '서울특별시 노원구']\n",
      " ...\n",
      " ['삼화렌트카' '주사업장' '서울특별시 도봉구 도봉로160길 22, 103호(도봉동)' ... '2020-01-29'\n",
      "  '3090000' '서울특별시 도봉구']\n",
      " ['태산렌트카' '주사업장' '서울특별시 도봉구 도봉로152길 26, 117호(방학동,렉시온프라자)' ...\n",
      "  '2020-01-29' '3090000' '서울특별시 도봉구']\n",
      " ['드림렌트카' '주사업장' '서울특별시 도봉구 노해로67길 2, B2, 9-85호(창동,한국빌딩)' ...\n",
      "  '2020-01-29' '3090000' '서울특별시 도봉구']]\n"
     ]
    }
   ],
   "source": [
    "import numpy as np\n",
    "import pandas as pd\n",
    "\n",
    "pd_data = pd.read_csv('전국렌터카업체정보표준데이터.csv', encoding='cp949', header=None)\n",
    "np_data = pd_data.to_numpy()\n",
    "\n",
    "np.set_printoptions(precision=3, suppress=True)\n",
    "\n",
    "print(np_data)\n"
   ]
  },
  {
   "cell_type": "code",
   "execution_count": 32,
   "metadata": {},
   "outputs": [
    {
     "name": "stdout",
     "output_type": "stream",
     "text": [
      "5753\n"
     ]
    }
   ],
   "source": [
    "# 전국 렌터카 업체 수\n",
    "print(len(np_data)-1)"
   ]
  },
  {
   "cell_type": "code",
   "execution_count": 33,
   "metadata": {},
   "outputs": [
    {
     "name": "stdout",
     "output_type": "stream",
     "text": [
      "{'강원': 2, '강원도': 300, '경기도': 1200, '경남남도': 14, '경상남도': 339, '경상북도': 496, '경주시': 1, '공주시': 1, '광주광역시': 177, '대구광역시': 154, '대전광역시': 265, '동대문구': 1, '동작구': 1, '부산광역시': 241, '서울특별기': 1, '서울특별시': 924, '서울특별시강남구': 1, '세종특별시': 1, '세종특별자치시': 28, '안천광역시': 1, '용인시': 1, '울산': 6, '울산광역시': 112, '울산시': 1, '인천광역시': 275, '전라남도': 271, '전라북도': 187, '제주특별자치도': 244, '충청남도': 288, '충청북도': 220}\n"
     ]
    }
   ],
   "source": [
    "# 소재지(시도)별 렌터카 업체 수\n",
    "addr = np_data[1:,2]\n",
    "# print(addr)\n",
    "addr1 = np_data[1:,3]\n",
    "\n",
    "addr_list = []\n",
    "\n",
    "for i in range(len(addr)) :\n",
    "    if str(addr[i]) != \"nan\" :\n",
    "        addr_list.append(str(addr[i]).split(' ')[0])\n",
    "    else:\n",
    "        addr_list.append(str(addr1[i]).split(' ')[0])\n",
    "\n",
    "# print(len(addr_list))\n",
    "# print(addr_list)\n",
    "\n",
    "addr_np = np.array(addr_list)\n",
    "\n",
    "name, cnt = np.unique(addr_np, return_counts = True)\n",
    "address_count = dict(zip(name, cnt))\n",
    "\n",
    "print(address_count)\n",
    "# 시도 개수 확인\n",
    "# print(len(address_count))"
   ]
  },
  {
   "cell_type": "code",
   "execution_count": 34,
   "metadata": {},
   "outputs": [
    {
     "name": "stdout",
     "output_type": "stream",
     "text": [
      "[60 66 83 ... 66 69 50]\n",
      "총 대수 :  1576207\n"
     ]
    }
   ],
   "source": [
    "# 전국 렌터카 차량 대수\n",
    "car = np_data[1:, 9]\n",
    "car = car.astype(int)\n",
    "print(car)\n",
    "total_car = car.sum()\n",
    "\n",
    "print(\"총 대수 : \", total_car)"
   ]
  },
  {
   "cell_type": "code",
   "execution_count": 38,
   "metadata": {},
   "outputs": [
    {
     "name": "stdout",
     "output_type": "stream",
     "text": [
      "{'울산광역시': 6214, '충청남도': 15798, '동작구': 0, '전라남도': 324253, '동대문구': 0, '대구광역시': 18136, '충청북도': 14002, '광주광역시': 16230, '대전광역시': 13944, '전라북도': 50105, '제주특별자치도': 331653, '강원도': 8400, '경상남도': 48394, '강원': 15, '울산시': 4, '경상북도': 11978, '세종특별시': 2, '부산광역시': 94970, '서울특별시': 137039, '공주시': 23, '경남남도': 349, '용인시': 11, '안천광역시': 16, '인천광역시': 412188, '울산': 200, '서울특별기': 66, '경기도': 70680, '세종특별자치시': 1371, '경주시': 20, '서울특별시강남구': 146}\n",
      "1576207\n"
     ]
    }
   ],
   "source": [
    "# 소재지(시도)별 렌터카 대수(합), 평균(업체별)\n",
    "# print(len(addr_np))\n",
    "# print(len(car))\n",
    "\n",
    "# print(np.stack([addr_np, car], 1))\n",
    "\n",
    "set_addr = set(addr_np)\n",
    "nh_data = np_data[1:,9]\n",
    "dic_rent = {}\n",
    "cnt=0\n",
    "\n",
    "for s in set_addr :\n",
    "    filter = addr_np == s\n",
    "    # print(f\"{s} :\", car[filter].sum())\n",
    "    dic_rent[s]=car[filter].sum()\n",
    "    cnt += car[filter].sum()\n",
    "print(dic_rent)\n",
    "# 총 대수와 비교\n",
    "print(cnt)\n",
    "# 위 시도 개수와 일치여부 확인\n",
    "# print(len(set_addr))"
   ]
  },
  {
   "cell_type": "code",
   "execution_count": 41,
   "metadata": {},
   "outputs": [
    {
     "name": "stdout",
     "output_type": "stream",
     "text": [
      "{'울산광역시': 55, '충청남도': 55, '동작구': 0, '전라남도': 1197, '동대문구': 0, '대구광역시': 118, '충청북도': 64, '광주광역시': 92, '대전광역시': 53, '전라북도': 268, '제주특별자치도': 1359, '강원도': 28, '경상남도': 143, '강원': 8, '울산시': 4, '경상북도': 24, '세종특별시': 2, '부산광역시': 394, '서울특별시': 148, '공주시': 23, '경남남도': 25, '용인시': 11, '안천광역시': 16, '인천광역시': 1499, '울산': 33, '서울특별기': 66, '경기도': 59, '세종특별자치시': 49, '경주시': 20, '서울특별시강남구': 146}\n"
     ]
    }
   ],
   "source": [
    "# 평균(업체별)\n",
    "# print(dic_rent)\n",
    "# print(address_count)\n",
    "# print(set_addr)\n",
    "\n",
    "# print(len(dic_rent))\n",
    "# print(len(address_count))\n",
    "# print(len(set_addr))\n",
    "\n",
    "avg_rent = {}\n",
    "\n",
    "for s in set_addr :\n",
    "    avg_rent[s] = round(dic_rent[s]/address_count[s])\n",
    "\n",
    "print(avg_rent)"
   ]
  }
 ],
 "metadata": {
  "kernelspec": {
   "display_name": "Python 3",
   "language": "python",
   "name": "python3"
  },
  "language_info": {
   "codemirror_mode": {
    "name": "ipython",
    "version": 3
   },
   "file_extension": ".py",
   "mimetype": "text/x-python",
   "name": "python",
   "nbconvert_exporter": "python",
   "pygments_lexer": "ipython3",
   "version": "3.11.1"
  },
  "orig_nbformat": 4
 },
 "nbformat": 4,
 "nbformat_minor": 2
}
