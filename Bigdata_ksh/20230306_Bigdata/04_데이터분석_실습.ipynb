{
 "cells": [
  {
   "cell_type": "code",
   "execution_count": 2,
   "metadata": {},
   "outputs": [
    {
     "name": "stdout",
     "output_type": "stream",
     "text": [
      "[['업체명' '사업장구분' '소재지도로명주소' ... '데이터기준일자' '제공기관코드' '제공기관명']\n",
      " ['㈜디디렌트카' '주사업장' '서울특별시 노원구 동일로250길 69(상계동)' ... '2022-08-17' '3100000'\n",
      "  '서울특별시 노원구']\n",
      " ['인천공항렌트카㈜' '주사업장' '서울특별시 노원구 동일로 178길 10 201호(공릉동)' ... '2022-08-17'\n",
      "  '3100000' '서울특별시 노원구']\n",
      " ...\n",
      " ['삼화렌트카' '주사업장' '서울특별시 도봉구 도봉로160길 22, 103호(도봉동)' ... '2020-01-29'\n",
      "  '3090000' '서울특별시 도봉구']\n",
      " ['태산렌트카' '주사업장' '서울특별시 도봉구 도봉로152길 26, 117호(방학동,렉시온프라자)' ...\n",
      "  '2020-01-29' '3090000' '서울특별시 도봉구']\n",
      " ['드림렌트카' '주사업장' '서울특별시 도봉구 노해로67길 2, B2, 9-85호(창동,한국빌딩)' ...\n",
      "  '2020-01-29' '3090000' '서울특별시 도봉구']]\n"
     ]
    }
   ],
   "source": [
    "import numpy as np\n",
    "import pandas as pd\n",
    "\n",
    "pd_data = pd.read_csv('전국렌터카업체정보표준데이터.csv', encoding='cp949', header=None)\n",
    "np_data = pd_data.to_numpy()\n",
    "np_data_1 = pd_data.to_numpy().astype(str)\n",
    "\n",
    "np.set_printoptions(precision=3, suppress=True)\n",
    "\n",
    "print(np_data)\n"
   ]
  },
  {
   "cell_type": "code",
   "execution_count": 3,
   "metadata": {},
   "outputs": [
    {
     "name": "stdout",
     "output_type": "stream",
     "text": [
      "5753\n"
     ]
    }
   ],
   "source": [
    "# 전국 렌터카 업체 수\n",
    "print(len(np_data)-1)"
   ]
  },
  {
   "cell_type": "code",
   "execution_count": 4,
   "metadata": {},
   "outputs": [
    {
     "name": "stdout",
     "output_type": "stream",
     "text": [
      "{'강원': 2, '강원도': 300, '경기도': 1200, '경남남도': 14, '경상남도': 339, '경상북도': 496, '경주시': 1, '공주시': 1, '광주광역시': 177, '대구광역시': 154, '대전광역시': 265, '동대문구': 1, '동작구': 1, '부산광역시': 241, '서울특별기': 1, '서울특별시': 924, '서울특별시강남구': 1, '세종특별시': 1, '세종특별자치시': 28, '안천광역시': 1, '용인시': 1, '울산': 6, '울산광역시': 112, '울산시': 1, '인천광역시': 275, '전라남도': 271, '전라북도': 187, '제주특별자치도': 244, '충청남도': 288, '충청북도': 220}\n"
     ]
    }
   ],
   "source": [
    "# 소재지(시도)별 렌터카 업체 수\n",
    "addr = np_data[1:,2]\n",
    "# print(addr)\n",
    "addr1 = np_data[1:,3]\n",
    "\n",
    "addr_list = []\n",
    "\n",
    "for i in range(len(addr)) :\n",
    "    if str(addr[i]) != \"nan\" :\n",
    "        addr_list.append(str(addr[i]).split(' ')[0])\n",
    "    else:\n",
    "        addr_list.append(str(addr1[i]).split(' ')[0])\n",
    "\n",
    "# print(len(addr_list))\n",
    "# print(addr_list)\n",
    "\n",
    "addr_np = np.array(addr_list)\n",
    "\n",
    "name, cnt = np.unique(addr_np, return_counts = True)\n",
    "address_count = dict(zip(name, cnt))\n",
    "\n",
    "print(address_count)\n",
    "# 시도 개수 확인\n",
    "# print(len(address_count))"
   ]
  },
  {
   "cell_type": "code",
   "execution_count": 5,
   "metadata": {},
   "outputs": [
    {
     "name": "stdout",
     "output_type": "stream",
     "text": [
      "[60 66 83 ... 66 69 50]\n",
      "총 대수 :  1576207\n"
     ]
    }
   ],
   "source": [
    "# 전국 렌터카 차량 대수\n",
    "car = np_data[1:, 9]\n",
    "car = car.astype(int)\n",
    "print(car)\n",
    "total_car = car.sum()\n",
    "\n",
    "print(\"총 대수 : \", total_car)"
   ]
  },
  {
   "cell_type": "code",
   "execution_count": 6,
   "metadata": {},
   "outputs": [
    {
     "name": "stdout",
     "output_type": "stream",
     "text": [
      "{'울산시': 4, '전라남도': 324253, '경남남도': 349, '서울특별시': 137039, '공주시': 23, '안천광역시': 16, '대전광역시': 13944, '인천광역시': 412188, '전라북도': 50105, '충청남도': 15798, '울산': 200, '동대문구': 0, '서울특별시강남구': 146, '용인시': 11, '세종특별시': 2, '제주특별자치도': 331653, '경상북도': 11978, '강원도': 8400, '세종특별자치시': 1371, '광주광역시': 16230, '부산광역시': 94970, '경상남도': 48394, '경기도': 70680, '경주시': 20, '동작구': 0, '강원': 15, '대구광역시': 18136, '울산광역시': 6214, '서울특별기': 66, '충청북도': 14002}\n",
      "1576207\n"
     ]
    }
   ],
   "source": [
    "# 소재지(시도)별 렌터카 대수(합), 평균(업체별)\n",
    "# print(len(addr_np))\n",
    "# print(len(car))\n",
    "\n",
    "# print(np.stack([addr_np, car], 1))\n",
    "\n",
    "set_addr = set(addr_np)\n",
    "nh_data = np_data[1:,9]\n",
    "dic_rent = {}\n",
    "cnt=0\n",
    "\n",
    "for s in set_addr :\n",
    "    filter = addr_np == s\n",
    "    # print(f\"{s} :\", car[filter].sum())\n",
    "    dic_rent[s]=car[filter].sum()\n",
    "    cnt += car[filter].sum()\n",
    "print(dic_rent)\n",
    "# 총 대수와 비교\n",
    "print(cnt)\n",
    "# 위 시도 개수와 일치여부 확인\n",
    "# print(len(set_addr))"
   ]
  },
  {
   "cell_type": "code",
   "execution_count": 7,
   "metadata": {},
   "outputs": [
    {
     "name": "stdout",
     "output_type": "stream",
     "text": [
      "{'울산시': 4, '전라남도': 1197, '경남남도': 25, '서울특별시': 148, '공주시': 23, '안천광역시': 16, '대전광역시': 53, '인천광역시': 1499, '전라북도': 268, '충청남도': 55, '울산': 33, '동대문구': 0, '서울특별시강남구': 146, '용인시': 11, '세종특별시': 2, '제주특별자치도': 1359, '경상북도': 24, '강원도': 28, '세종특별자치시': 49, '광주광역시': 92, '부산광역시': 394, '경상남도': 143, '경기도': 59, '경주시': 20, '동작구': 0, '강원': 8, '대구광역시': 118, '울산광역시': 55, '서울특별기': 66, '충청북도': 64}\n"
     ]
    }
   ],
   "source": [
    "# 평균(업체별)\n",
    "# print(dic_rent)\n",
    "# print(address_count)\n",
    "# print(set_addr)\n",
    "\n",
    "# print(len(dic_rent))\n",
    "# print(len(address_count))\n",
    "# print(len(set_addr))\n",
    "\n",
    "avg_rent = {}\n",
    "\n",
    "for s in set_addr :\n",
    "    avg_rent[s] = round(dic_rent[s]/address_count[s])\n",
    "\n",
    "print(avg_rent)"
   ]
  },
  {
   "cell_type": "code",
   "execution_count": 8,
   "metadata": {},
   "outputs": [
    {
     "name": "stdout",
     "output_type": "stream",
     "text": [
      "(0, '업체명')\n",
      "(1, '사업장구분')\n",
      "(2, '소재지도로명주소')\n",
      "(3, '소재지지번주소')\n",
      "(4, '위도')\n",
      "(5, '경도')\n",
      "(6, '차고지도로명주소')\n",
      "(7, '차고지지번주소')\n",
      "(8, '보유차고지수용능력')\n",
      "(9, '자동차총보유대수')\n",
      "(10, '승용차보유대수')\n",
      "(11, '승합차보유대수')\n",
      "(12, '전기승용자동차보유대수')\n",
      "(13, '전기승합자동차보유대수')\n",
      "(14, '경차요금')\n",
      "(15, '소형차요금')\n",
      "(16, '중형차요금')\n",
      "(17, '대형차요금')\n",
      "(18, '승합차요금')\n",
      "(19, '레저용차요금')\n",
      "(20, '수입차요금')\n",
      "(21, '평일운영시작시각')\n",
      "(22, '평일운영종료시각')\n",
      "(23, '주말운영시작시각')\n",
      "(24, '주말운영종료시각')\n",
      "(25, '공휴일운영시작시각')\n",
      "(26, '공휴일운영종료시각')\n",
      "(27, '휴무일')\n",
      "(28, '홈페이지주소')\n",
      "(29, '대표자명')\n",
      "(30, '전화번호')\n",
      "(31, '데이터기준일자')\n",
      "(32, '제공기관코드')\n",
      "(33, '제공기관명')\n"
     ]
    }
   ],
   "source": [
    "# 다른 풀이\n",
    "for e in enumerate(np_data[0]) :\n",
    "    print(e)"
   ]
  },
  {
   "cell_type": "code",
   "execution_count": 9,
   "metadata": {},
   "outputs": [
    {
     "name": "stdout",
     "output_type": "stream",
     "text": [
      "4499\n"
     ]
    }
   ],
   "source": [
    "# 전국 렌터카 업체수\n",
    "np_data.shape\n",
    "\n",
    "# print(np_data[1:, 0])\n",
    "\n",
    "# 중복을 제외한 전국 렌터카 업체수\n",
    "unique_array = np.unique(np_data[1:, 0])\n",
    "print(len(unique_array))"
   ]
  },
  {
   "cell_type": "code",
   "execution_count": 10,
   "metadata": {},
   "outputs": [
    {
     "name": "stdout",
     "output_type": "stream",
     "text": [
      "{'강원도': 305, '경기도': 1204, '경상남도': 352, '경상북도': 498, '광주광역시': 177, '대구광역시': 154, '대전광역시': 264, '부산광역시': 241, '서울특별시': 950, '안천광역시': 1, '울산광역시': 120, '인천광역시': 278, '전라남도': 272, '전라북도': 188, '제주특별자치도': 244, '충청남도': 287, '충청북도': 218}\n"
     ]
    }
   ],
   "source": [
    "# 소재지(시도)별 렌터카 업체수\n",
    "# print(np_data)\n",
    "area_names = []\n",
    "for i, addr in enumerate(np_data_1[1:, 2]) :\n",
    "    # print(addr)\n",
    "    if addr == 'nan' :\n",
    "        for m in [3,6,7] :\n",
    "            addr = np_data_1[i, m]\n",
    "            if addr != 'nan' :\n",
    "                break\n",
    "    area_names.append(addr.split()[0])\n",
    "\n",
    "np.unique(area_names)\n",
    "\n",
    "for i, e in enumerate(area_names) :\n",
    "    if e == \"강원\" :\n",
    "        area_names[i] = \"강원도\"\n",
    "    elif e == \"강진군\" :\n",
    "        area_names[i] = \"전라남도\"\n",
    "    elif e == \"경남남도\" :\n",
    "        area_names[i] = \"경상남도\"\n",
    "    elif e == \"경주시\" :\n",
    "        area_names[i] = \"경상북도\"\n",
    "    elif e == \"공주시\" :\n",
    "        area_names[i] = \"충청남도\"\n",
    "    elif e == \"동대문구\" :\n",
    "        area_names[i] = \"서울특별시\"\n",
    "    elif e == \"동작구\" :\n",
    "        area_names[i] = \"서울특별시\"\n",
    "    elif e == \"부산시\" :\n",
    "        area_names[i] = \"부산광역시\"\n",
    "    elif e == \"서울특별기\" :\n",
    "        area_names[i] = \"서울특별시\"\n",
    "    elif e == \"서울특별시강남구\" :\n",
    "        area_names[i] = \"서울특별시\"\n",
    "    elif e == \"세종특별자치시\" :\n",
    "        area_names[i] = \"서울특별시\"\n",
    "    elif e == \"용인시\" :\n",
    "        area_names[i] = \"경기도\"\n",
    "    elif e == \"울산\" :\n",
    "        area_names[i] = \"울산광역시\"\n",
    "    elif e == \"울산시\" :\n",
    "        area_names[i] = \"울산광역시\"\n",
    "\n",
    "area, cnt = np.unique(area_names, return_counts=True)\n",
    "d2 = dict(zip(area,cnt))\n",
    "print(d2)"
   ]
  },
  {
   "cell_type": "code",
   "execution_count": 11,
   "metadata": {},
   "outputs": [
    {
     "data": {
      "text/plain": [
       "1576207"
      ]
     },
     "execution_count": 11,
     "metadata": {},
     "output_type": "execute_result"
    }
   ],
   "source": [
    "# 전국 렌터카 총 보유 대수\n",
    "sub_data = np_data_1[1:, 9].astype(np.int64)\n",
    "# sub_data.dtype\n",
    "sub_data.sum()"
   ]
  },
  {
   "cell_type": "code",
   "execution_count": 12,
   "metadata": {},
   "outputs": [
    {
     "name": "stdout",
     "output_type": "stream",
     "text": [
      "강원도 9279\n",
      "경기도 70225\n",
      "경상남도 49572\n",
      "경상북도 12586\n",
      "광주광역시 16443\n",
      "대구광역시 18340\n",
      "대전광역시 13754\n",
      "부산광역시 91962\n",
      "서울특별시 137319\n",
      "안천광역시 0\n",
      "울산광역시 6598\n",
      "인천광역시 414679\n",
      "전라남도 324360\n",
      "전라북도 50565\n",
      "제주특별자치도 331249\n",
      "충청남도 14979\n",
      "충청북도 14297\n",
      "1576207\n"
     ]
    }
   ],
   "source": [
    "# 소재지(시도)별 렌터카 대수(합)\n",
    "\n",
    "np_area_names = np.array(area_names)\n",
    "\n",
    "# filter1 = np_area_names == '강원도'\n",
    "# print(filter1)\n",
    "\n",
    "# sub_data[filter1].sum()\n",
    "\n",
    "cnt = 0\n",
    "\n",
    "for name in np.unique(np_area_names):\n",
    "    filter1 = np_area_names==name\n",
    "    print(name, sub_data[filter1].sum())\n",
    "    cnt += sub_data[filter1].sum()\n",
    "\n",
    "print(cnt)"
   ]
  }
 ],
 "metadata": {
  "kernelspec": {
   "display_name": "Python 3",
   "language": "python",
   "name": "python3"
  },
  "language_info": {
   "codemirror_mode": {
    "name": "ipython",
    "version": 3
   },
   "file_extension": ".py",
   "mimetype": "text/x-python",
   "name": "python",
   "nbconvert_exporter": "python",
   "pygments_lexer": "ipython3",
   "version": "3.10.9"
  },
  "orig_nbformat": 4
 },
 "nbformat": 4,
 "nbformat_minor": 2
}
