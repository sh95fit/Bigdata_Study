{
 "cells": [
  {
   "cell_type": "code",
   "execution_count": 23,
   "metadata": {},
   "outputs": [
    {
     "name": "stdout",
     "output_type": "stream",
     "text": [
      "[[ 0  1  2  3  4  5]\n",
      " [ 6  7  8  9 10 11]\n",
      " [12 13 14 15 16 17]\n",
      " [18 19 20 21 22 23]\n",
      " [24 25 26 27 28 29]]\n",
      "np.sum: [ 6 24 42 60 78]\n",
      "None\n",
      "[[10 21 32 43 54 65]\n",
      " [ 6  7  8  9 10 11]\n",
      " [22 33 44 55 66 77]\n",
      " [18 19 20 21 22 23]\n",
      " [34 45 56 67 78 89]]\n"
     ]
    }
   ],
   "source": [
    "import numpy as np\n",
    "\n",
    "a1 = np.arange(30).reshape(5,6)\n",
    "print(a1)\n",
    "\n",
    "print('np.sum:', np.sum(a1[:,a1[1,:]%2==0], axis=1))\n",
    "\n",
    "# reduce\n",
    "# print(np.add.reduce(a1, axis=1, where=a1%2==0))\n",
    "\n",
    "# accumulate\n",
    "# print(np.add.accumulate(a1, axis=1))\n",
    "# print(np.add.accumulate(a1, axis=0))\n",
    "\n",
    "# reduceat\n",
    "# print(np.add.reduceat(a1, [0,2], axis=1))\n",
    "# print(np.add.reduceat(a1, [0,5], axis=1))\n",
    "# print(np.add.reduceat(a1, [0,2,4], axis=1))\n",
    "\n",
    "# at\n",
    "print(np.add.at(a1, [0,2,4], [10,20,30,40,50,60]))  #in-place\n",
    "print(a1)"
   ]
  },
  {
   "cell_type": "code",
   "execution_count": 28,
   "metadata": {},
   "outputs": [
    {
     "name": "stdout",
     "output_type": "stream",
     "text": [
      "[0 1 2 3 4] (5,)\n",
      "[100 101 102 103 104 105 106 107 108 109] (10,)\n",
      "[[100 101 102 103 104 105 106 107 108 109]\n",
      " [101 102 103 104 105 106 107 108 109 110]\n",
      " [102 103 104 105 106 107 108 109 110 111]\n",
      " [103 104 105 106 107 108 109 110 111 112]\n",
      " [104 105 106 107 108 109 110 111 112 113]] (5, 10)\n"
     ]
    }
   ],
   "source": [
    "a2 = np.arange(5)\n",
    "a3 = np.arange(100,110)\n",
    "print(a2, a2.shape)\n",
    "print(a3, a3.shape)\n",
    "a4 = np.add.outer(a2,a3)\n",
    "print(a4, a4.shape)"
   ]
  }
 ],
 "metadata": {
  "kernelspec": {
   "display_name": "Python 3",
   "language": "python",
   "name": "python3"
  },
  "language_info": {
   "codemirror_mode": {
    "name": "ipython",
    "version": 3
   },
   "file_extension": ".py",
   "mimetype": "text/x-python",
   "name": "python",
   "nbconvert_exporter": "python",
   "pygments_lexer": "ipython3",
   "version": "3.10.9"
  },
  "orig_nbformat": 4
 },
 "nbformat": 4,
 "nbformat_minor": 2
}
