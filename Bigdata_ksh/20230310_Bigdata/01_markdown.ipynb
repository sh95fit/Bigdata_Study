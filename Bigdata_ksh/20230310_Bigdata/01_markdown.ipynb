{
 "cells": [
  {
   "attachments": {},
   "cell_type": "markdown",
   "metadata": {},
   "source": [
    "First Level header\n",
    "==================\n",
    "\n",
    "Second Level Headder\n",
    "--------------------\n",
    "\n",
    "# Header 1\n",
    "\n",
    "## header 2\n",
    "\n",
    "### header 3\n",
    "\n",
    "\n",
    "_첫번_째 *문장* 내용 쓰기\n",
    "\n",
    "\n",
    "두번째 **문장** 내용 쓰기\n",
    "\n",
    "\n",
    "> block quote\n",
    ">\n",
    "> line 1\n",
    "> line 2\n",
    "\n",
    "\n",
    "* list item 1\n",
    "* list item 2\n",
    "* list item 3\n",
    "\n",
    "- list item 4\n",
    "- list item 5\n",
    "- list item 6\n",
    "\n",
    "1. list item 7\n",
    "2. list item 8\n",
    "3. list item 9\n",
    "3. list item 10\n",
    "3. list item 11\n",
    "3. list item 12\n"
   ]
  },
  {
   "attachments": {},
   "cell_type": "markdown",
   "metadata": {},
   "source": [
    "이것은 [링크](https://www.naver.com) 입니다."
   ]
  },
  {
   "attachments": {},
   "cell_type": "markdown",
   "metadata": {},
   "source": [
    "![고양이이미지](cat.jpg \"cat\")"
   ]
  },
  {
   "attachments": {},
   "cell_type": "markdown",
   "metadata": {},
   "source": [
    "$\n",
    "y = ax + b\n",
    "$\n",
    "\n",
    "\n",
    "* $ x $ : 소문자 기호의 변수 : 스칼라 값\n",
    "* $ X $ : 대문자 기호의 변수 : 스칼라 값의 집합. 백터 ex. [3,4,5]\n",
    "* $ \\bar X $ : 대문자 기호의 변수명 위에 수평선 :  평균치\n",
    "* $ \\hat X $ : 대문자 기호의 변수명 위에 모자 : 예측값\n"
   ]
  },
  {
   "attachments": {},
   "cell_type": "markdown",
   "metadata": {},
   "source": [
    "$ SSE = \\sum_{i=0}^{n} (Y_i - \\hat Y_i)^2 $"
   ]
  },
  {
   "attachments": {},
   "cell_type": "markdown",
   "metadata": {},
   "source": [
    "r'$\\alpha^{ic} > \\beta_{ic}$'\n",
    "\n",
    "r'$\\sum_{i=0}^\\infty x_i$'"
   ]
  },
  {
   "attachments": {},
   "cell_type": "markdown",
   "metadata": {},
   "source": [
    "$ SST = \\sum_{i=0}^{n}(Y_i - \\bar Y)^2 $  : 실제값 - 평균값"
   ]
  },
  {
   "attachments": {},
   "cell_type": "markdown",
   "metadata": {},
   "source": [
    "$ SSR = \\sum_{i=0}^{n} (\\hat Y_i - \\bar Y)^2 $ : 예측값 - 평균값"
   ]
  },
  {
   "attachments": {},
   "cell_type": "markdown",
   "metadata": {},
   "source": [
    "$SST = SSR + SSE$"
   ]
  },
  {
   "attachments": {},
   "cell_type": "markdown",
   "metadata": {},
   "source": [
    "$ a \\cdot b = \\sum_{i=0}^{n} a_i b_i $"
   ]
  }
 ],
 "metadata": {
  "kernelspec": {
   "display_name": "Python 3",
   "language": "python",
   "name": "python3"
  },
  "language_info": {
   "name": "python",
   "version": "3.10.9"
  },
  "orig_nbformat": 4
 },
 "nbformat": 4,
 "nbformat_minor": 2
}
