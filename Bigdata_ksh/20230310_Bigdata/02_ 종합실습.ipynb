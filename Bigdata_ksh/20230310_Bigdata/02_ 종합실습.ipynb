{
 "cells": [
  {
   "cell_type": "code",
   "execution_count": 63,
   "metadata": {},
   "outputs": [
    {
     "data": {
      "text/plain": [
       "80"
      ]
     },
     "execution_count": 63,
     "metadata": {},
     "output_type": "execute_result"
    }
   ],
   "source": [
    "# mean(평균), median(중간값), mode(최빈값), var(분산), stdev(표준편차), cover, corr\n",
    "\n",
    "import numpy as np\n",
    "import random\n",
    "\n",
    "random.seed(310)\n",
    "random.randint(10, 100)"
   ]
  },
  {
   "cell_type": "code",
   "execution_count": 64,
   "metadata": {},
   "outputs": [
    {
     "name": "stdout",
     "output_type": "stream",
     "text": [
      "[18 34 94 43 30 46 85 77 55 50 70 64 35 30 85 48 27 51 37 32]\n",
      "[82 74 20 47 90 75 51 84 12 72 39 87 47 37 80 60 11 38  6 52]\n"
     ]
    }
   ],
   "source": [
    "numlist = [random.randint(10,100) for _ in range(20)]\n",
    "anum = np.array(numlist)\n",
    "bnum = np.array([random.randint(10,100)-10 for _ in range(20)])\n",
    "\n",
    "print(anum)\n",
    "print(bnum)"
   ]
  },
  {
   "cell_type": "code",
   "execution_count": 65,
   "metadata": {},
   "outputs": [
    {
     "name": "stdout",
     "output_type": "stream",
     "text": [
      "0.015526417054419123 \n",
      " [[1.         0.01552642]\n",
      " [0.01552642 1.        ]]\n"
     ]
    }
   ],
   "source": [
    "# 평균값\n",
    "def my_mean(n) :       \n",
    "    return np.sum(n)/len(n)\n",
    "\n",
    "# 중간값\n",
    "def my_median(n) :\n",
    "    sorted_n = np.sort(n)\n",
    "    x = len(n)\n",
    "    if x%2 == 0 :\n",
    "        return (sorted_n[x//2] + sorted_n[(x//2)-1])/2\n",
    "    else :\n",
    "        return (sorted_n[x//2])/2\n",
    "\n",
    "# 최빈값\n",
    "def my_mode(n) :\n",
    "    val, cnt = np.unique(n, return_counts=True)\n",
    "    sn = sorted(zip(val,cnt), key=lambda x:x[1], reverse=True)\n",
    "    return sn[0][0]\n",
    "\n",
    "# 편차\n",
    "# 각각의 값들이 평균값 기준 얼마나 떨어져 있는가를 나타냄\n",
    "def my_deviation(n) :\n",
    "    return n-np.mean(n)\n",
    "\n",
    "# 분산\n",
    "# 값들이 평균에서 떨어져 있는 정도를 나타내는 하나의 수\n",
    "def my_variance(n) :\n",
    "    d = my_deviation(n)\n",
    "    return np.sum(d**2)/(len(n)-1)\n",
    "\n",
    "# 표준 편차\n",
    "def my_stdev(n) :\n",
    "    return np.sqrt(my_variance(n))\n",
    "\n",
    "# 공분산\n",
    "def my_covariance(n, m) :\n",
    "    n_dev = my_deviation(n)\n",
    "    m_dev = my_deviation(m)\n",
    "    return np.sum(n_dev*m_dev)/(len(n)-1)\n",
    "\n",
    "def my_corr(n, m) :\n",
    "    return my_covariance(n, m)/(my_stdev(n)*my_stdev(m))\n",
    "\n",
    "val, cnt = np.unique(anum, return_counts=True)\n",
    "# print(val)\n",
    "# print(cnt)\n",
    "\n",
    "ret = sorted(zip(val, cnt), key=lambda x:x[1], reverse=True)\n",
    "# print(ret[0][0])\n",
    "    \n",
    "# print(np.sort(anum))\n",
    "# my_median(anum)\n",
    "\n",
    "# my_mode(anum)\n",
    "\n",
    "# print(my_deviation(anum))\n",
    "# print(my_variance(anum))\n",
    "# print(my_stdev(anum), np.std(anum))\n",
    "print(my_corr(anum, bnum), \"\\n\", np.corrcoef(anum, bnum))\n"
   ]
  },
  {
   "attachments": {},
   "cell_type": "markdown",
   "metadata": {},
   "source": [
    "Deviation :\n",
    "$ (X - \\bar X)  $"
   ]
  }
 ],
 "metadata": {
  "kernelspec": {
   "display_name": "Python 3",
   "language": "python",
   "name": "python3"
  },
  "language_info": {
   "codemirror_mode": {
    "name": "ipython",
    "version": 3
   },
   "file_extension": ".py",
   "mimetype": "text/x-python",
   "name": "python",
   "nbconvert_exporter": "python",
   "pygments_lexer": "ipython3",
   "version": "3.10.9"
  },
  "orig_nbformat": 4
 },
 "nbformat": 4,
 "nbformat_minor": 2
}
