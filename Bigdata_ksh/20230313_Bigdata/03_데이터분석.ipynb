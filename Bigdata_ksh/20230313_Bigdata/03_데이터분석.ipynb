{
 "cells": [
  {
   "cell_type": "code",
   "execution_count": 3,
   "metadata": {},
   "outputs": [
    {
     "name": "stdout",
     "output_type": "stream",
     "text": [
      "[['부산광역시' '합계' 2015 164617 197132]\n",
      " ['부산광역시' '합계' 2016 168035 204377]\n",
      " ['부산광역시' '합계' 2017 176932 211967]\n",
      " ['부산광역시' '합계' 2018 183579 220829]\n",
      " ['부산광역시' '합계' 2019 191796 231431]\n",
      " ['부산광역시' '합계' 2020 206311 248896]\n",
      " ['부산광역시' '합계' 2021 222040 265322]]\n"
     ]
    }
   ],
   "source": [
    "import numpy as np\n",
    "import pandas as pd\n",
    "import matplotlib.pyplot as plt\n",
    "\n",
    "# 부산광역시, 합계, 연도, 남자, 여자\n",
    "pd_data = pd.read_csv('성_및_연령별_1인가구__시군구_20230313213550.csv', encoding='cp949')\n",
    "np_data = pd_data.to_numpy()\n",
    "print(np_data)"
   ]
  },
  {
   "attachments": {},
   "cell_type": "markdown",
   "metadata": {},
   "source": [
    "1. np_data에서 '부산광역시', '합계' 제외, dtype을 np.int64로 지정\n",
    "\n",
    "2. 2015-2021년까지 남자/여자 1인 가구 평균치\n",
    "\n",
    "3. 2015-2021년까지 남자/여자 편차\n",
    "\n",
    "4. 2015-2021년 남/녀 1인 가구 상관도  : 여자 1인 가구 수 증가 --> 남자 1인 가구 수 증가?\n",
    "\n",
    "5. 2015-2021년 연도별 남/녀 1인 가구 비율   (ex 2015년 남자 164617/(165617+197132))"
   ]
  },
  {
   "cell_type": "code",
   "execution_count": 13,
   "metadata": {},
   "outputs": [
    {
     "name": "stdout",
     "output_type": "stream",
     "text": [
      "[['부산광역시' '합계' 2015 164617 197132]\n",
      " ['부산광역시' '합계' 2016 168035 204377]\n",
      " ['부산광역시' '합계' 2017 176932 211967]\n",
      " ['부산광역시' '합계' 2018 183579 220829]\n",
      " ['부산광역시' '합계' 2019 191796 231431]\n",
      " ['부산광역시' '합계' 2020 206311 248896]\n",
      " ['부산광역시' '합계' 2021 222040 265322]]\n",
      "[[  2015 164617 197132]\n",
      " [  2016 168035 204377]\n",
      " [  2017 176932 211967]\n",
      " [  2018 183579 220829]\n",
      " [  2019 191796 231431]\n",
      " [  2020 206311 248896]\n",
      " [  2021 222040 265322]]\n"
     ]
    }
   ],
   "source": [
    "# np_data에서 '부산광역시', '합계' 제외, dtype을 np.int64로 지정\n",
    "\n",
    "np_data = np.concatenate((np_data[:,:2],np_data[:,2:].astype(np.int64)),axis=1)\n",
    "num_data = np_data[:,2:].astype(np.int64)\n",
    "print(np_data)\n",
    "print(num_data)"
   ]
  },
  {
   "cell_type": "code",
   "execution_count": 25,
   "metadata": {},
   "outputs": [
    {
     "name": "stdout",
     "output_type": "stream",
     "text": [
      "[164617 168035 176932 183579 191796 206311 222040]\n",
      "[197132 204377 211967 220829 231431 248896 265322]\n"
     ]
    }
   ],
   "source": [
    "m_num = num_data[:,1]\n",
    "print(m_num)\n",
    "f_num = num_data[:,2]\n",
    "print(f_num)\n"
   ]
  }
 ],
 "metadata": {
  "kernelspec": {
   "display_name": "Python 3",
   "language": "python",
   "name": "python3"
  },
  "language_info": {
   "codemirror_mode": {
    "name": "ipython",
    "version": 3
   },
   "file_extension": ".py",
   "mimetype": "text/x-python",
   "name": "python",
   "nbconvert_exporter": "python",
   "pygments_lexer": "ipython3",
   "version": "3.10.9"
  },
  "orig_nbformat": 4
 },
 "nbformat": 4,
 "nbformat_minor": 2
}
