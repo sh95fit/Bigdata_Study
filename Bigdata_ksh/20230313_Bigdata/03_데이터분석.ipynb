{
 "cells": [
  {
   "cell_type": "code",
   "execution_count": 31,
   "metadata": {},
   "outputs": [
    {
     "name": "stdout",
     "output_type": "stream",
     "text": [
      "[['부산광역시' '합계' 2015 164617 197132]\n",
      " ['부산광역시' '합계' 2016 168035 204377]\n",
      " ['부산광역시' '합계' 2017 176932 211967]\n",
      " ['부산광역시' '합계' 2018 183579 220829]\n",
      " ['부산광역시' '합계' 2019 191796 231431]\n",
      " ['부산광역시' '합계' 2020 206311 248896]\n",
      " ['부산광역시' '합계' 2021 222040 265322]]\n"
     ]
    }
   ],
   "source": [
    "import numpy as np\n",
    "import pandas as pd\n",
    "import matplotlib.pyplot as plt\n",
    "\n",
    "# 부산광역시, 합계, 연도, 남자, 여자\n",
    "pd_data = pd.read_csv('성_및_연령별_1인가구__시군구_20230313213550.csv', encoding='cp949')\n",
    "np_data = pd_data.to_numpy()\n",
    "print(np_data)"
   ]
  },
  {
   "attachments": {},
   "cell_type": "markdown",
   "metadata": {},
   "source": [
    "1. np_data에서 '부산광역시', '합계' 제외, dtype을 np.int64로 지정\n",
    "\n",
    "2. 2015-2021년까지 남자/여자 1인 가구 평균치\n",
    "\n",
    "3. 2015-2021년까지 남자/여자 편차\n",
    "\n",
    "4. 2015-2021년 남/녀 1인 가구 상관도  : 여자 1인 가구 수 증가 --> 남자 1인 가구 수 증가?\n",
    "\n",
    "5. 2015-2021년 연도별 남/녀 1인 가구 비율   (ex 2015년 남자 164617/(165617+197132))"
   ]
  },
  {
   "cell_type": "code",
   "execution_count": 32,
   "metadata": {},
   "outputs": [
    {
     "name": "stdout",
     "output_type": "stream",
     "text": [
      "[['부산광역시' '합계' 2015 164617 197132]\n",
      " ['부산광역시' '합계' 2016 168035 204377]\n",
      " ['부산광역시' '합계' 2017 176932 211967]\n",
      " ['부산광역시' '합계' 2018 183579 220829]\n",
      " ['부산광역시' '합계' 2019 191796 231431]\n",
      " ['부산광역시' '합계' 2020 206311 248896]\n",
      " ['부산광역시' '합계' 2021 222040 265322]]\n",
      "[[  2015 164617 197132]\n",
      " [  2016 168035 204377]\n",
      " [  2017 176932 211967]\n",
      " [  2018 183579 220829]\n",
      " [  2019 191796 231431]\n",
      " [  2020 206311 248896]\n",
      " [  2021 222040 265322]] int64\n"
     ]
    }
   ],
   "source": [
    "# np_data에서 '부산광역시', '합계' 제외, dtype을 np.int64로 지정\n",
    "\n",
    "np_data = np.concatenate((np_data[:,:2],np_data[:,2:].astype(np.int64)),axis=1)\n",
    "num_data = np_data[:,2:].astype(np.int64)\n",
    "print(np_data)\n",
    "print(num_data, num_data.dtype)"
   ]
  },
  {
   "cell_type": "code",
   "execution_count": 33,
   "metadata": {},
   "outputs": [
    {
     "name": "stdout",
     "output_type": "stream",
     "text": [
      "남성 평균치 : 187615.7142857143\n",
      "여성 평균치 : 225707.7142857143\n"
     ]
    },
    {
     "data": {
      "text/plain": [
       "<matplotlib.collections.PathCollection at 0x20376e8de70>"
      ]
     },
     "execution_count": 33,
     "metadata": {},
     "output_type": "execute_result"
    },
    {
     "data": {
      "image/png": "[encoded data removed]",
      "text/plain": [
       "<Figure size 640x480 with 1 Axes>"
      ]
     },
     "metadata": {},
     "output_type": "display_data"
    }
   ],
   "source": [
    "# 평균 구하기\n",
    "\n",
    "m_num = num_data[:,1]\n",
    "m_mean = m_num.mean()\n",
    "print(\"남성 평균치 :\", m_mean)\n",
    "f_num = num_data[:,2]\n",
    "f_mean = f_num.mean()\n",
    "print(\"여성 평균치 :\", f_mean)\n",
    "\n",
    "_, axe = plt.subplots()\n",
    "axe.scatter(num_data[:,0], m_num, color=\"blue\")\n",
    "axe.scatter(num_data[:,0], f_num, color=\"red\")"
   ]
  },
  {
   "attachments": {},
   "cell_type": "markdown",
   "metadata": {},
   "source": [
    "### total sum of squares\n",
    "\n",
    "$ SST = \\sum_{i=0}^{n}(Y_i - \\bar Y)^2 $  : 실제값 - 평균값\n",
    "\n",
    "### 모 분산\n",
    "\n",
    "$ s^2 = SST/(n-1) = \\sum_{i=0}^{n}(Y_i - \\bar Y)^2/(n) $  : (실제값 - 평균값)/(n)    \n",
    "* 표준 분산의 경우 (실제값 - 평균값)/(n-1)\n",
    "\n",
    "### 표준 편차\n",
    "$ s = \\sqrt {s^2} $"
   ]
  },
  {
   "cell_type": "code",
   "execution_count": 34,
   "metadata": {},
   "outputs": [
    {
     "name": "stdout",
     "output_type": "stream",
     "text": [
      "남성 Variance : 432466997.90476197\n",
      "여성 Variance : 603987354.5714287\n"
     ]
    }
   ],
   "source": [
    "# 분산 구하기\n",
    "m_sst = ((m_num - m_mean)**2).sum()\n",
    "f_sst = ((f_num - f_mean)**2).sum()\n",
    "\n",
    "m_variance = m_sst/(len(m_num)-1)\n",
    "f_variance = f_sst/(len(f_num)-1)\n",
    "print(\"남성 Variance :\", m_variance)\n",
    "print(\"여성 Variance :\", f_variance)"
   ]
  },
  {
   "cell_type": "code",
   "execution_count": 35,
   "metadata": {},
   "outputs": [
    {
     "name": "stdout",
     "output_type": "stream",
     "text": [
      "남성 Deviation : 20795.84087996352\n",
      "여성 Deviation : 24576.154185946765\n"
     ]
    }
   ],
   "source": [
    "# 편차 구하기\n",
    "m_deviation = np.sqrt(m_variance)\n",
    "f_deviation = np.sqrt(f_variance)\n",
    "\n",
    "print(\"남성 Deviation :\", m_deviation)\n",
    "print(\"여성 Deviation :\", f_deviation)"
   ]
  },
  {
   "cell_type": "code",
   "execution_count": 36,
   "metadata": {},
   "outputs": [
    {
     "name": "stdout",
     "output_type": "stream",
     "text": [
      "-----------------------검증하기---------------------\n",
      "남성 분산 비교 : 432466997.90476197 432466997.90476197\n",
      "여성 분산 비교 : 603987354.5714287 603987354.5714287\n",
      "---------------------------------------------------\n",
      "남성 편차 비교 : 20795.84087996352 20795.84087996352\n",
      "여성 편차 비교 : 24576.154185946765 24576.154185946765\n"
     ]
    }
   ],
   "source": [
    "# 검증\n",
    "m_var = np.var(m_num)*(len(m_num)/(len(m_num)-1))\n",
    "f_var = np.var(f_num)*(len(f_num)/(len(f_num)-1))\n",
    "\n",
    "m_std = np.std(m_num)*np.sqrt(len(m_num)/(len(m_num)-1))\n",
    "f_std = np.std(f_num)*np.sqrt(len(f_num)/(len(f_num)-1))\n",
    "print(\"-----------------------검증하기---------------------\")\n",
    "print('남성 분산 비교 :', m_variance, m_var)\n",
    "print('여성 분산 비교 :', f_variance, f_var)\n",
    "print(\"---------------------------------------------------\")\n",
    "print('남성 편차 비교 :', m_deviation, m_std)\n",
    "print('여성 편차 비교 :', f_deviation, f_std)"
   ]
  },
  {
   "attachments": {},
   "cell_type": "markdown",
   "metadata": {},
   "source": [
    "### 상관도 구하기\n",
    "\n",
    "np.corrcoef 활용\n",
    "\n",
    "피어슨 상관계수(Pearson correlation coefficient) 구하는 함수\n",
    "\n",
    "$ 피어슨 상관계수 = \\frac {공분산} {표준편차_1*표준편차_2} $"
   ]
  },
  {
   "cell_type": "code",
   "execution_count": 37,
   "metadata": {},
   "outputs": [
    {
     "name": "stdout",
     "output_type": "stream",
     "text": [
      "3062501237.428571\n",
      "0.9986989969155926\n",
      "[[1.       0.998699]\n",
      " [0.998699 1.      ]]\n",
      "-----------------------검증하기---------------------\n",
      "남/여 상관계수 비교 : 0.9986989969155926 0.9986989969155929\n"
     ]
    }
   ],
   "source": [
    "# 남/여 상관도 구하기\n",
    "\n",
    "# 공분산 구하기(/(n-1) 생략 상태)\n",
    "m_d = np.array(m_num - m_mean)\n",
    "f_d = np.array(f_num - f_mean)\n",
    "print((m_d*f_d).sum())\n",
    "# print(np.dot(m_d, f_d))\n",
    "\n",
    "\n",
    "# 상관계수 구하기\n",
    "r = np.dot(m_d, f_d)/((m_std)*(f_std)*(len(m_num)-1))\n",
    "# r = (m_d*f_d).sum()/((m_std)*(f_std)*(len(m_num)-1))\n",
    "\n",
    "# 넘파이 모듈 사용 상관계수 구하기\n",
    "r_m = np.corrcoef(m_num, f_num)\n",
    "\n",
    "print(r)\n",
    "print(r_m)\n",
    "\n",
    "print(\"-----------------------검증하기---------------------\")\n",
    "print('남/여 상관계수 비교 :', r, r_m[0][1])"
   ]
  },
  {
   "cell_type": "code",
   "execution_count": 38,
   "metadata": {},
   "outputs": [
    {
     "name": "stdout",
     "output_type": "stream",
     "text": [
      "-----------------------기울기 검증---------------------\n",
      "기울기 비교 : 0.8439792904943922 0.8450787405424048\n",
      "y절편 : -2876.92227625387\n"
     ]
    },
    {
     "data": {
      "text/plain": [
       "[<matplotlib.lines.Line2D at 0x20376f2c340>]"
      ]
     },
     "execution_count": 38,
     "metadata": {},
     "output_type": "execute_result"
    },
    {
     "data": {
      "image/png": "[encoded data removed]",
      "text/plain": [
       "<Figure size 640x480 with 1 Axes>"
      ]
     },
     "metadata": {},
     "output_type": "display_data"
    }
   ],
   "source": [
    "# 회귀선 구하기\n",
    "# 상관계수 : r, 남성 표준편차 : m_std, 여성 표준편차 : f_std, 남성 평균 : m_mean, 여성 평균 : f_mean\n",
    "\n",
    "# 영향을 주는 쪽(x) = 여성\n",
    "# 영향을 받는 쪽(y) = 남성\n",
    "x = f_num\n",
    "y = m_num\n",
    "\n",
    "# y = ax * b\n",
    "# a : slope (기울기)\n",
    "# b : intercept (y절편)\n",
    "\n",
    "# 기울기 구하기\n",
    "slope = r*(m_d*f_d).sum()/((f_d)**2).sum()\n",
    "slope_1 = r*m_std/f_std\n",
    "\n",
    "print(\"-----------------------기울기 검증---------------------\")\n",
    "print('기울기 비교 :', slope, slope_1)\n",
    "\n",
    "# y절편 구하기\n",
    "intercept = m_mean - (slope*f_mean)\n",
    "print(\"y절편 :\", intercept)\n",
    "\n",
    "_, axe = plt.subplots()\n",
    "axe.scatter(x, y)\n",
    "axe.plot(np.linspace(190000, 270000, 100), slope*np.linspace(190000, 270000,100)+intercept)"
   ]
  },
  {
   "cell_type": "code",
   "execution_count": 39,
   "metadata": {},
   "outputs": [
    {
     "name": "stdout",
     "output_type": "stream",
     "text": [
      "[ 1118.59678251 -1578.03317712   913.16400803    80.81953567\n",
      "  -650.04890215  -875.14721064   990.6489637 ]\n",
      "SSE : 6751679.357602098\n"
     ]
    }
   ],
   "source": [
    "# 예측치 구하기\n",
    "y_pred = slope*x + intercept\n",
    "\n",
    "# 에러 구하기\n",
    "err = y - y_pred\n",
    "print(err)\n",
    "\n",
    "# SSE : squared sum of err 구하기\n",
    "print(\"SSE :\", np.sum(err**2))"
   ]
  },
  {
   "cell_type": "code",
   "execution_count": 40,
   "metadata": {},
   "outputs": [
    {
     "name": "stdout",
     "output_type": "stream",
     "text": [
      "[2015 2016 2017 2018 2019 2020 2021]\n",
      "[0.45505862 0.45120727 0.45495617 0.45394503 0.45317525 0.45322458\n",
      " 0.45559564]\n",
      "[0.54494138 0.54879273 0.54504383 0.54605497 0.54682475 0.54677542\n",
      " 0.54440436]\n",
      "[[2015 2016 2017 2018 2019 2020 2021]\n",
      " [0.4550586179920332 0.451207265072017 0.4549561711395504\n",
      "  0.45394502581551305 0.4531752463807838 0.45322457695070595\n",
      "  0.4555956352772682]\n",
      " [0.5449413820079668 0.548792734927983 0.5450438288604497\n",
      "  0.546054974184487 0.5468247536192161 0.546775423049294\n",
      "  0.5444043647227318]]\n"
     ]
    }
   ],
   "source": [
    "# 남성/여성 % 구성 비율\n",
    "total_num = m_num + f_num\n",
    "m_per = m_num/total_num\n",
    "f_per = f_num/total_num\n",
    "print(np_data[:,2])\n",
    "print(m_per)\n",
    "print(f_per)\n",
    "\n",
    "per_mf = np.vstack((np_data[:,2],m_per,f_per))\n",
    "print(per_mf)"
   ]
  }
 ],
 "metadata": {
  "kernelspec": {
   "display_name": "Python 3.10.8 64-bit",
   "language": "python",
   "name": "python3"
  },
  "language_info": {
   "codemirror_mode": {
    "name": "ipython",
    "version": 3
   },
   "file_extension": ".py",
   "mimetype": "text/x-python",
   "name": "python",
   "nbconvert_exporter": "python",
   "pygments_lexer": "ipython3",
   "version": "3.10.8"
  },
  "orig_nbformat": 4,
  "vscode": {
   "interpreter": {
    "hash": "08804ff59ba42edf801cabf0150036e830ede650fb4c74b1d2ab081b0e1a309a"
   }
  }
 },
 "nbformat": 4,
 "nbformat_minor": 2
}
