{
 "cells": [
  {
   "cell_type": "code",
   "execution_count": 87,
   "metadata": {},
   "outputs": [
    {
     "name": "stdout",
     "output_type": "stream",
     "text": [
      "[[  2015 164617 197132]\n",
      " [  2016 168035 204377]\n",
      " [  2017 176932 211967]\n",
      " [  2018 183579 220829]\n",
      " [  2019 191796 231431]\n",
      " [  2020 206311 248896]\n",
      " [  2021 222040 265322]]\n"
     ]
    }
   ],
   "source": [
    "import numpy as np\n",
    "import pandas as pd\n",
    "import matplotlib.pyplot as plt\n",
    "\n",
    "np.set_printoptions(precision = 5, suppress = True)\n",
    "\n",
    "pd_data = pd.read_csv(\"성_및_연령별_1인가구__시군구_20230313213550.csv\", encoding=\"cp949\")\n",
    "pd_data.head()\n",
    "\n",
    "np_data = pd_data.to_numpy()\n",
    "np_data = np_data[:,2:].astype(np.int64)\n",
    "print(np_data)\n"
   ]
  },
  {
   "cell_type": "code",
   "execution_count": 88,
   "metadata": {},
   "outputs": [
    {
     "name": "stdout",
     "output_type": "stream",
     "text": [
      "[  2018.      187615.71429 225707.71429]\n",
      "187615.7142857143\n",
      "225707.7142857143\n"
     ]
    }
   ],
   "source": [
    "# 남성/여성 평균치\n",
    "mean = np.mean(np_data, axis=0)\n",
    "m_mean = np_data[:,1].mean()\n",
    "f_mean = np_data[:,2].mean()\n",
    "print(mean)\n",
    "print(m_mean)\n",
    "print(f_mean)"
   ]
  },
  {
   "cell_type": "code",
   "execution_count": 89,
   "metadata": {},
   "outputs": [
    {
     "name": "stdout",
     "output_type": "stream",
     "text": [
      "[-22998.71429 -19580.71429 -10683.71429  -4036.71429   4180.28571\n",
      "  18695.28571  34424.28571]\n",
      "[-28575.71429 -21330.71429 -13740.71429  -4878.71429   5723.28571\n",
      "  23188.28571  39614.28571]\n"
     ]
    }
   ],
   "source": [
    "# 남성/여성 편차\n",
    "m_deviation = np_data[:,1] - m_mean\n",
    "f_deviation = np_data[:,2] - f_mean\n",
    "\n",
    "\n",
    "print(m_deviation)\n",
    "print(f_deviation)"
   ]
  },
  {
   "cell_type": "code",
   "execution_count": 90,
   "metadata": {},
   "outputs": [
    {
     "name": "stdout",
     "output_type": "stream",
     "text": [
      "(7, 3)\n",
      "[[    -3.      -22998.71429 -28575.71429]\n",
      " [    -2.      -19580.71429 -21330.71429]\n",
      " [    -1.      -10683.71429 -13740.71429]\n",
      " [     0.       -4036.71429  -4878.71429]\n",
      " [     1.        4180.28571   5723.28571]\n",
      " [     2.       18695.28571  23188.28571]\n",
      " [     3.       34424.28571  39614.28571]]\n"
     ]
    }
   ],
   "source": [
    "print(np_data.shape)\n",
    "\n",
    "# by broadcasting\n",
    "# 편차 구하기\n",
    "print(np_data - np.mean(np_data, axis=0))"
   ]
  },
  {
   "cell_type": "code",
   "execution_count": 91,
   "metadata": {},
   "outputs": [
    {
     "name": "stdout",
     "output_type": "stream",
     "text": [
      "[[1.     0.9987]\n",
      " [0.9987 1.    ]]\n"
     ]
    }
   ],
   "source": [
    "# 남/여 1인 가구수 상관도\n",
    "\n",
    "corr = np.corrcoef(np_data[:, 1], np_data[:, 2])\n",
    "\n",
    "print(corr)\n"
   ]
  },
  {
   "cell_type": "code",
   "execution_count": 92,
   "metadata": {},
   "outputs": [
    {
     "name": "stdout",
     "output_type": "stream",
     "text": [
      "[[2015.         0.45506    0.54494]\n",
      " [2016.         0.45121    0.54879]\n",
      " [2017.         0.45496    0.54504]\n",
      " [2018.         0.45395    0.54605]\n",
      " [2019.         0.45318    0.54682]\n",
      " [2020.         0.45322    0.54678]\n",
      " [2021.         0.4556     0.5444 ]]\n"
     ]
    }
   ],
   "source": [
    "# 남성/여성 % 구성 비율\n",
    "\n",
    "# print(np_data)\n",
    "year_sum = np.sum(np_data[:,1:], axis=1)\n",
    "# print(year_sum, year_sum.shape)\n",
    "# print(np_data[:, 1:], np_data[:,1:].shape)\n",
    "\n",
    "year_sum = year_sum[:,np.newaxis]\n",
    "# print(year_sum, year_sum.shape)\n",
    "\n",
    "year_sum_concat = np.concatenate((year_sum, year_sum), axis=1)\n",
    "\n",
    "ratio = np_data[:,1:]/year_sum_concat\n",
    "\n",
    "# print(np_data)\n",
    "# print(ratio)\n",
    "\n",
    "total_concat = np.concatenate((np_data, ratio), axis=1)\n",
    "# print(total_concat)\n",
    "\n",
    "year = np_data[:,0]\n",
    "# print(year.reshape(7,1))\n",
    "year = year.reshape(7,1)\n",
    "# year = year[:, np.newaxis]\n",
    "t_concat = np.concatenate((year,ratio), axis=1)\n",
    "print(t_concat)"
   ]
  },
  {
   "cell_type": "code",
   "execution_count": 93,
   "metadata": {},
   "outputs": [
    {
     "name": "stdout",
     "output_type": "stream",
     "text": [
      "[[  2015 164617 197132]\n",
      " [  2016 168035 204377]\n",
      " [  2017 176932 211967]\n",
      " [  2018 183579 220829]\n",
      " [  2019 191796 231431]\n",
      " [  2020 206311 248896]\n",
      " [  2021 222040 265322]]\n",
      "남/여 평균 : [187615.71429 225707.71429]\n"
     ]
    }
   ],
   "source": [
    "print(np_data)\n",
    "print(\"남/여 평균 :\", np.mean(np_data, axis=0)[1:])"
   ]
  },
  {
   "cell_type": "code",
   "execution_count": 110,
   "metadata": {},
   "outputs": [
    {
     "data": {
      "text/plain": [
       "LeveneResult(statistic=0.1773168571799517, pvalue=0.6811330893323229)"
      ]
     },
     "execution_count": 110,
     "metadata": {},
     "output_type": "execute_result"
    },
    {
     "data": {
      "image/png": "[encoded data removed]",
      "text/plain": [
       "<Figure size 640x480 with 1 Axes>"
      ]
     },
     "metadata": {},
     "output_type": "display_data"
    }
   ],
   "source": [
    "from scipy import stats\n",
    "\n",
    "# t-test : 2개 그룹의 평균값 비교\n",
    "\n",
    "# t-test 조건\n",
    "# 각 샘플의 모집단은 normal distribution을 따른다\n",
    "# 각 샘플의 모집단 분산은 같다\n",
    "\n",
    "stats.ttest_ind(np_data[:,1], np_data[:,2]) # 남자, 여자\n",
    "\n",
    "# 귀무가설 기각 -> 두개 그룹의 평균값은 다르다\n",
    "\n",
    "# 표준 정규분포(normal distribution) 검정\n",
    "# shapiro, anderson, kstest\n",
    "\n",
    "# shapiro 활용\n",
    "# shapiro 귀무가설\n",
    "# 샘플의 모집단의 정규분포를 따른다\n",
    "stats.shapiro(np_data[:,1]) # 귀무가설 수용 : 정규분포를 따름\n",
    "stats.shapiro(np_data[:,2]) # 귀무가설 수용 : 정규분포를 따름\n",
    "\n",
    "# anderson 활용\n",
    "# anderson 귀무가설\n",
    "# 샘플의 모집단은 선택된 분포를 따른다. (anderson : 여러 가지 분포 선택 가능!)\n",
    "# statistic 값이 선택된 significance_level의 critical_value보다 크면 귀무가설 기각\n",
    "stats.anderson(np_data[:,1])  # 0.2212가 0.5%의 critical_value 0.742보다 작으므로 귀무가설 수용\n",
    "stats.anderson(np_data[:,2])\n",
    "\n",
    "# kstest 활용\n",
    "# goodness of fit (선택된 분포와 일치하는지 검정)\n",
    "# 귀무가설 : 선택된 분포와 데이터가 일치\n",
    "stats.kstest(np_data[:,1], stats.norm.cdf)  # p-value < 0.05 : 노멀 분포를 따르지 않음!\n",
    "ys = stats.norm.pdf(np.linspace(-3,3,20)) # 수정 필요! (정규분포를 따르는 랜덤값 필요)\n",
    "stats.kstest(ys, stats.norm.cdf)\n",
    "\n",
    "## qqplot\n",
    "_, axe = plt.subplots()\n",
    "# stats.probplot(np_data[:, 1], plot= axe)\n",
    "stats.probplot(ys, plot=axe)\n",
    "\n",
    "# 분산 검정 (equal variance)\n",
    "# bartlett, levene\n",
    "\n",
    "# bartlett\n",
    "# 귀무가설 : 2개 그룹의 varience(분산)은 같다.\n",
    "stats.bartlett(np_data[:,1], np_data[:,2])  # p-value > 0.05 : 귀무가설 수용. 즉, 분산이 같음!\n",
    "\n",
    "# levene\n",
    "# 귀무가설 : 2개 그룹의 varience(분산)은 같다.\n",
    "# 샘플이 normal distribution이 아닌 경우 사용\n",
    "stats.levene(np_data[:,1], np_data[:,2])  # p-value > 0.05 : 귀무가설 수용. 즉, 분산이 같음!\n",
    "\n"
   ]
  }
 ],
 "metadata": {
  "kernelspec": {
   "display_name": "Python 3.10.10 64-bit",
   "language": "python",
   "name": "python3"
  },
  "language_info": {
   "codemirror_mode": {
    "name": "ipython",
    "version": 3
   },
   "file_extension": ".py",
   "mimetype": "text/x-python",
   "name": "python",
   "nbconvert_exporter": "python",
   "pygments_lexer": "ipython3",
   "version": "3.10.10"
  },
  "orig_nbformat": 4,
  "vscode": {
   "interpreter": {
    "hash": "c19fa61d258bb2b35aae2ada233c33e2817c1ce895aa48acba720c6bf7cbe3cb"
   }
  }
 },
 "nbformat": 4,
 "nbformat_minor": 2
}
