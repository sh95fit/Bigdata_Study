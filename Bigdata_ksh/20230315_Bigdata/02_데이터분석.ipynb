{
 "cells": [
  {
   "cell_type": "code",
   "execution_count": 1,
   "metadata": {},
   "outputs": [
    {
     "name": "stdout",
     "output_type": "stream",
     "text": [
      "[[2020.01  168.3   136.6   160.2   159.2   157.8 ]\n",
      " [2020.02  169.8   132.    159.9   160.3   158.4 ]\n",
      " [2020.03  185.    144.3   170.8   174.6   173.2 ]\n",
      " [2020.04  169.9   136.1   159.2   159.1   157.7 ]\n",
      " [2020.05  157.4   130.3   154.6   150.6   149.3 ]\n",
      " [2020.06  177.7   143.3   171.3   174.2   172.5 ]\n",
      " [2020.07  184.2   145.5   177.3   179.3   178.7 ]\n",
      " [2020.08  160.3   132.6   158.2   156.9   153.9 ]\n",
      " [2020.09  176.4   137.5   166.    165.3   164.  ]\n",
      " [2020.1   163.4   127.8   152.7   150.1   148.6 ]\n",
      " [2020.11  178.    136.5   165.2   166.3   162.5 ]\n",
      " [2020.12  181.8   140.8   170.5   169.1   168.7 ]\n",
      " [2021.01  170.8   135.5   160.5   160.    158.5 ]\n",
      " [2021.02  154.    121.3   146.    145.2   144.2 ]\n",
      " [2021.03  183.6   140.7   171.4   172.8   173.  ]\n",
      " [2021.04  183.9   141.2   172.    174.3   173.2 ]\n",
      " [2021.05  164.8   129.3   155.2   151.7   149.4 ]\n",
      " [2021.06  183.9   142.1   171.9   173.6   171.6 ]\n",
      " [2021.07  182.1   140.5   171.4   173.1   170.7 ]\n",
      " [2021.08  166.5   136.    163.5   165.4   161.1 ]\n",
      " [2021.09  159.8   127.8   152.2   150.9   147.8 ]\n",
      " [2021.1   164.    128.8   154.4   150.8   147.2 ]\n",
      " [2021.11  183.1   141.7   171.2   173.7   170.3 ]\n",
      " [2021.12  186.    145.5   175.8   176.6   176.1 ]\n",
      " [2022.01  169.1   135.3   159.9   160.1   156.5 ]\n",
      " [2022.02  151.8   118.9   145.1   143.8   140.9 ]\n",
      " [2022.03  174.    135.6   164.4   164.6   161.  ]\n",
      " [2022.04  175.8   137.4   166.4   166.8   163.9 ]\n",
      " [2022.05  175.    136.5   165.2   166.    163.3 ]\n",
      " [2022.06  169.9   135.    159.5   159.2   156.6 ]\n",
      " [2022.07  174.5   136.5   164.9   166.2   162.7 ]\n",
      " [2022.08  169.7   138.6   168.3   170.9   167.9 ]\n",
      " [2022.09  166.    131.1   157.8   158.2   156.2 ]\n",
      " [2022.1   164.1   128.7   154.    152.1   148.6 ]\n",
      " [2022.11  182.8   139.    171.7   173.9   171.3 ]\n",
      " [2022.12  180.2   139.1   170.5   169.4   169.  ]]\n"
     ]
    }
   ],
   "source": [
    "import numpy as np\n",
    "import pandas as pd\n",
    "import matplotlib.pyplot as plt\n",
    "from scipy import stats\n",
    "\n",
    "np.set_printoptions(precision = 5, suppress = True)\n",
    "\n",
    "pd_data = pd.read_csv(\"산업_규모별_임금_및_근로시간_20230315211213.csv\", encoding=\"cp949\")\n",
    "np_data = pd_data.to_numpy()\n",
    "\n",
    "# C.제조업(10~34) F.건설업(41~42) G.도매 및 소매업(45~47) J.정보통신업(58~63) K.금융 및 보험업(64~66) 순서\n",
    "# print(np_data[:5], np_data.shape)\n",
    "\n",
    "np_data = np_data[:,2:].astype(np.float64)\n",
    "print(np_data)"
   ]
  },
  {
   "cell_type": "code",
   "execution_count": 2,
   "metadata": {},
   "outputs": [],
   "source": [
    "# 각 업종별 근로시간 평균\n",
    "# 평균값 비교, ttest(정보통신, 금융보험), shapiro, levene 검정 진행"
   ]
  },
  {
   "cell_type": "code",
   "execution_count": 3,
   "metadata": {},
   "outputs": [
    {
     "name": "stdout",
     "output_type": "stream",
     "text": [
      "[172.43333 135.70556 163.30833 163.45278 161.28611]\n"
     ]
    }
   ],
   "source": [
    "# 각 업종별 근로시간 평균\n",
    "mean = np.mean(np_data[:, 1:], axis=0)\n",
    "print(mean)"
   ]
  },
  {
   "cell_type": "code",
   "execution_count": 4,
   "metadata": {},
   "outputs": [
    {
     "data": {
      "text/plain": [
       "Ttest_indResult(statistic=0.9370074508726426, pvalue=0.3519763682469319)"
      ]
     },
     "execution_count": 4,
     "metadata": {},
     "output_type": "execute_result"
    }
   ],
   "source": [
    "# ttest\n",
    "stats.ttest_ind(np_data[:,4].astype(np.float64), np_data[:,5].astype(np.float64))\n",
    "\n",
    "# 귀무가설 : mean값은 같다.\n",
    "# p-value > 0.05 이므로 귀무가설 수용"
   ]
  },
  {
   "cell_type": "code",
   "execution_count": 5,
   "metadata": {},
   "outputs": [
    {
     "name": "stdout",
     "output_type": "stream",
     "text": [
      "ShapiroResult(statistic=0.9487087726593018, pvalue=0.09522990882396698)\n",
      "ShapiroResult(statistic=0.962058961391449, pvalue=0.24863143265247345)\n"
     ]
    }
   ],
   "source": [
    "# shapiro\n",
    "print(stats.shapiro(np_data[:,4]))\n",
    "print(stats.shapiro(np_data[:,5]))\n",
    "\n",
    "# 귀무가설 : normal distribution을 따른다\n",
    "# p-value > 0.05를 둘다 충족하므로 모두 정규 분포를 따른다"
   ]
  },
  {
   "cell_type": "code",
   "execution_count": 6,
   "metadata": {},
   "outputs": [
    {
     "data": {
      "text/plain": [
       "LeveneResult(statistic=0.054289038864324124, pvalue=0.816441308281775)"
      ]
     },
     "execution_count": 6,
     "metadata": {},
     "output_type": "execute_result"
    }
   ],
   "source": [
    "# levene\n",
    "stats.levene(np_data[:,4].astype(np.float64), np_data[:,5].astype(np.float64))\n",
    "\n",
    "# 귀무가설 : 분산이 같다\n",
    "# p-value > 0.05를 충족하므로 2개의 그룹의 varience(분산)이 같다."
   ]
  },
  {
   "cell_type": "code",
   "execution_count": 7,
   "metadata": {},
   "outputs": [
    {
     "name": "stdout",
     "output_type": "stream",
     "text": [
      "AndersonResult(statistic=0.6417561686890423, critical_values=array([0.528, 0.601, 0.721, 0.841, 1.   ]), significance_level=array([15. , 10. ,  5. ,  2.5,  1. ]), fit_result=  params: FitParams(loc=163.45277777777778, scale=9.636047978031277)\n",
      " success: True\n",
      " message: '`anderson` successfully fit the distribution to the data.')\n",
      "AndersonResult(statistic=0.4729205614971832, critical_values=array([0.528, 0.601, 0.721, 0.841, 1.   ]), significance_level=array([15. , 10. ,  5. ,  2.5,  1. ]), fit_result=  params: FitParams(loc=161.28611111111115, scale=9.981644662014878)\n",
      " success: True\n",
      " message: '`anderson` successfully fit the distribution to the data.')\n"
     ]
    }
   ],
   "source": [
    "# anderson\n",
    "print(stats.anderson(np_data[:,4]))\n",
    "print(stats.anderson(np_data[:,5]))"
   ]
  },
  {
   "cell_type": "code",
   "execution_count": 8,
   "metadata": {},
   "outputs": [],
   "source": [
    "# 2022년 제조업, 정보통신 검증\n",
    "# print(np_data)\n",
    "\n",
    "filter_y = 2022 <= np_data[:,0]\n",
    "\n",
    "np_data = np_data[filter_y]"
   ]
  },
  {
   "cell_type": "code",
   "execution_count": 9,
   "metadata": {},
   "outputs": [
    {
     "name": "stdout",
     "output_type": "stream",
     "text": [
      "[171.075 162.6  ]\n"
     ]
    }
   ],
   "source": [
    "# 2022년 제조업, 정보통신 평균\n",
    "mean = np.mean(np_data[:, [1,4]], axis=0)\n",
    "print(mean)"
   ]
  },
  {
   "cell_type": "code",
   "execution_count": 10,
   "metadata": {},
   "outputs": [
    {
     "data": {
      "text/plain": [
       "Ttest_indResult(statistic=2.4960989375114004, pvalue=0.020541352765606504)"
      ]
     },
     "execution_count": 10,
     "metadata": {},
     "output_type": "execute_result"
    }
   ],
   "source": [
    "# ttest\n",
    "stats.ttest_ind(np_data[:,1].astype(np.float64), np_data[:,4].astype(np.float64))\n",
    "\n",
    "# 귀무가설 : mean값은 같다.\n",
    "# p-value < 0.05 이므로 귀무가설 기각"
   ]
  },
  {
   "cell_type": "code",
   "execution_count": 11,
   "metadata": {},
   "outputs": [
    {
     "name": "stdout",
     "output_type": "stream",
     "text": [
      "ShapiroResult(statistic=0.9328454732894897, pvalue=0.411251038312912)\n",
      "ShapiroResult(statistic=0.9346754550933838, pvalue=0.43231019377708435)\n"
     ]
    }
   ],
   "source": [
    "# shapiro\n",
    "print(stats.shapiro(np_data[:,1]))\n",
    "print(stats.shapiro(np_data[:,4]))\n",
    "\n",
    "# 귀무가설 : normal distribution을 따른다\n",
    "# p-value > 0.05를 둘다 충족하므로 모두 정규 분포를 따른다"
   ]
  },
  {
   "cell_type": "code",
   "execution_count": 12,
   "metadata": {},
   "outputs": [
    {
     "data": {
      "text/plain": [
       "LeveneResult(statistic=0.01562407603446479, pvalue=0.9016616337948137)"
      ]
     },
     "execution_count": 12,
     "metadata": {},
     "output_type": "execute_result"
    }
   ],
   "source": [
    "# levene\n",
    "stats.levene(np_data[:,1].astype(np.float64), np_data[:,4].astype(np.float64))\n",
    "\n",
    "# 귀무가설 : 분산이 같다\n",
    "# p-value > 0.05를 충족하므로 2개의 그룹의 varience(분산)이 같다."
   ]
  },
  {
   "cell_type": "code",
   "execution_count": 13,
   "metadata": {},
   "outputs": [
    {
     "name": "stdout",
     "output_type": "stream",
     "text": [
      "AndersonResult(statistic=0.35210238932868343, critical_values=array([0.497, 0.566, 0.679, 0.792, 0.942]), significance_level=array([15. , 10. ,  5. ,  2.5,  1. ]), fit_result=  params: FitParams(loc=162.6, scale=8.473702636016702)\n",
      " success: True\n",
      " message: '`anderson` successfully fit the distribution to the data.')\n",
      "AndersonResult(statistic=0.3324287831869892, critical_values=array([0.497, 0.566, 0.679, 0.792, 0.942]), significance_level=array([15. , 10. ,  5. ,  2.5,  1. ]), fit_result=  params: FitParams(loc=159.825, scale=8.728961721033766)\n",
      " success: True\n",
      " message: '`anderson` successfully fit the distribution to the data.')\n"
     ]
    }
   ],
   "source": [
    "# anderson\n",
    "print(stats.anderson(np_data[:,4]))\n",
    "print(stats.anderson(np_data[:,5]))"
   ]
  }
 ],
 "metadata": {
  "kernelspec": {
   "display_name": "Python 3.10.10 64-bit",
   "language": "python",
   "name": "python3"
  },
  "language_info": {
   "codemirror_mode": {
    "name": "ipython",
    "version": 3
   },
   "file_extension": ".py",
   "mimetype": "text/x-python",
   "name": "python",
   "nbconvert_exporter": "python",
   "pygments_lexer": "ipython3",
   "version": "3.11.0"
  },
  "orig_nbformat": 4,
  "vscode": {
   "interpreter": {
    "hash": "c19fa61d258bb2b35aae2ada233c33e2817c1ce895aa48acba720c6bf7cbe3cb"
   }
  }
 },
 "nbformat": 4,
 "nbformat_minor": 2
}
