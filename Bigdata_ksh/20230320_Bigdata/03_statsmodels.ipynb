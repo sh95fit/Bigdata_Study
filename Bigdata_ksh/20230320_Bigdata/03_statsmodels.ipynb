{
 "cells": [
  {
   "cell_type": "code",
   "execution_count": 71,
   "metadata": {},
   "outputs": [],
   "source": [
    "import numpy as np\n",
    "import pandas as pd\n",
    "import matplotlib.pyplot as plt\n",
    "from scipy import stats\n",
    "import statsmodels.api as sm"
   ]
  },
  {
   "cell_type": "code",
   "execution_count": 72,
   "metadata": {},
   "outputs": [],
   "source": [
    "url = 'https://archive.ics.uci.edu/ml/machine-learning-databases/abalone/abalone.data'\n",
    "pd_data = pd.read_csv(url, header=None, encoding='cp949')\n",
    "# print(pd_data.head())\n",
    "np_data = pd_data.to_numpy()"
   ]
  },
  {
   "cell_type": "markdown",
   "metadata": {},
   "source": [
    "Sex / nominal / -- / M, F, and I (infant)\n",
    "Length / continuous / mm / Longest shell measurement\n",
    "Diameter / continuous / mm / perpendicular to length\n",
    "Height / continuous / mm / with meat in shell\n",
    "Whole weight / continuous / grams / whole abalone\n",
    "Shucked weight / continuous / grams / weight of meat\n",
    "Viscera weight / continuous / grams / gut weight (after bleeding)\n",
    "Shell weight / continuous / grams / after being dried\n",
    "Rings / integer / -- / +1.5 gives the age in years"
   ]
  },
  {
   "cell_type": "code",
   "execution_count": 73,
   "metadata": {},
   "outputs": [
    {
     "name": "stdout",
     "output_type": "stream",
     "text": [
      "0.8154606917560957 -0.019413705519976787\n"
     ]
    },
    {
     "data": {
      "text/plain": [
       "[<matplotlib.lines.Line2D at 0x19984709a20>]"
      ]
     },
     "execution_count": 73,
     "metadata": {},
     "output_type": "execute_result"
    },
    {
     "data": {
      "image/png": "[encoded data removed]",
      "text/plain": [
       "<Figure size 640x480 with 1 Axes>"
      ]
     },
     "metadata": {},
     "output_type": "display_data"
    }
   ],
   "source": [
    "# plot, regression line\n",
    "\n",
    "x = np_data[:,1].astype(np.float64) #Length\n",
    "y = np_data[:,2].astype(np.float64) #Diameter\n",
    "\n",
    "# length로 diameter 예측\n",
    "# indep_var : length\n",
    "# dep_var(종속변수) : diameter\n",
    "\n",
    "x_mean = np.mean(x)\n",
    "y_mean = np.mean(y)\n",
    "x_std = np.std(x)\n",
    "y_std = np.std(y)\n",
    "xy_corr = np.corrcoef(x,y)[0,1]\n",
    "\n",
    "slope = xy_corr*(y_std/x_std)\n",
    "intercept = y_mean - slope*x_mean\n",
    "\n",
    "print(slope, intercept)\n",
    "\n",
    "_, axe = plt.subplots()\n",
    "axe.scatter(x,y)\n",
    "axe.plot(x, x*slope+intercept, c='r')"
   ]
  },
  {
   "cell_type": "code",
   "execution_count": 74,
   "metadata": {},
   "outputs": [
    {
     "name": "stdout",
     "output_type": "stream",
     "text": [
      "[[1.    0.455]\n",
      " [1.    0.35 ]\n",
      " [1.    0.53 ]\n",
      " ...\n",
      " [1.    0.6  ]\n",
      " [1.    0.625]\n",
      " [1.    0.71 ]]\n",
      "<statsmodels.regression.linear_model.OLS object at 0x00000199846C3D30>\n",
      "<statsmodels.regression.linear_model.RegressionResultsWrapper object at 0x00000199846C3B50>\n",
      "                            OLS Regression Results                            \n",
      "==============================================================================\n",
      "Dep. Variable:                      y   R-squared:                       0.974\n",
      "Model:                            OLS   Adj. R-squared:                  0.974\n",
      "Method:                 Least Squares   F-statistic:                 1.552e+05\n",
      "Date:                Mon, 20 Mar 2023   Prob (F-statistic):               0.00\n",
      "Time:                        21:29:56   Log-Likelihood:                 11329.\n",
      "No. Observations:                4177   AIC:                        -2.265e+04\n",
      "Df Residuals:                    4175   BIC:                        -2.264e+04\n",
      "Df Model:                           1                                         \n",
      "Covariance Type:            nonrobust                                         \n",
      "==============================================================================\n",
      "                 coef    std err          t      P>|t|      [0.025      0.975]\n",
      "------------------------------------------------------------------------------\n",
      "const         -0.0194      0.001    -17.444      0.000      -0.022      -0.017\n",
      "x1             0.8155      0.002    393.902      0.000       0.811       0.820\n",
      "==============================================================================\n",
      "Omnibus:                     1362.158   Durbin-Watson:                   1.761\n",
      "Prob(Omnibus):                  0.000   Jarque-Bera (JB):            40764.266\n",
      "Skew:                           0.935   Prob(JB):                         0.00\n",
      "Kurtosis:                      18.190   Cond. No.                         10.6\n",
      "==============================================================================\n",
      "\n",
      "Notes:\n",
      "[1] Standard Errors assume that the covariance matrix of the errors is correctly specified.\n",
      "[-0.01941371  0.81546069]\n"
     ]
    }
   ],
   "source": [
    "x = np_data[:,1].astype(np.float64) #Length\n",
    "y = np_data[:,2].astype(np.float64) #Diameter\n",
    "\n",
    "x = sm.add_constant(x)\n",
    "print(x)\n",
    "\n",
    "reg_model = sm.OLS(y, x)\n",
    "reg_result = reg_model.fit()\n",
    "print(reg_model)\n",
    "print(reg_result)\n",
    "\n",
    "print(reg_result.summary())\n",
    "print(reg_result.params)"
   ]
  },
  {
   "cell_type": "code",
   "execution_count": 75,
   "metadata": {},
   "outputs": [
    {
     "name": "stdout",
     "output_type": "stream",
     "text": [
      "                            OLS Regression Results                            \n",
      "==============================================================================\n",
      "Dep. Variable:                      y   R-squared:                       0.356\n",
      "Model:                            OLS   Adj. R-squared:                  0.355\n",
      "Method:                 Least Squares   F-statistic:                     767.4\n",
      "Date:                Mon, 20 Mar 2023   Prob (F-statistic):               0.00\n",
      "Time:                        21:29:56   Log-Likelihood:                -9898.7\n",
      "No. Observations:                4177   AIC:                         1.981e+04\n",
      "Df Residuals:                    4173   BIC:                         1.983e+04\n",
      "Df Model:                           3                                         \n",
      "Covariance Type:            nonrobust                                         \n",
      "==============================================================================\n",
      "                 coef    std err          t      P>|t|      [0.025      0.975]\n",
      "------------------------------------------------------------------------------\n",
      "const          2.8365      0.186     15.243      0.000       2.472       3.201\n",
      "x1           -11.9327      2.064     -5.781      0.000     -15.980      -7.886\n",
      "x2            25.7661      2.539     10.147      0.000      20.788      30.744\n",
      "x3            20.3582      1.737     11.719      0.000      16.952      23.764\n",
      "==============================================================================\n",
      "Omnibus:                     1324.627   Durbin-Watson:                   1.041\n",
      "Prob(Omnibus):                  0.000   Jarque-Bera (JB):             5701.440\n",
      "Skew:                           1.492   Prob(JB):                         0.00\n",
      "Kurtosis:                       7.884   Cond. No.                         98.2\n",
      "==============================================================================\n",
      "\n",
      "Notes:\n",
      "[1] Standard Errors assume that the covariance matrix of the errors is correctly specified.\n",
      "[  2.83647907 -11.93268123  25.76614753  20.35823401]\n"
     ]
    }
   ],
   "source": [
    "x = np_data[:,1:4].astype(np.float64) #Length, Diameter, Height\n",
    "y = np_data[:,-1].astype(np.float64) #Rings : 나이\n",
    "\n",
    "x = sm.add_constant(x)\n",
    "reg_result = sm.OLS(y,x).fit()\n",
    "\n",
    "print(reg_result.summary())\n",
    "print(reg_result.params)"
   ]
  },
  {
   "cell_type": "code",
   "execution_count": 76,
   "metadata": {},
   "outputs": [
    {
     "name": "stdout",
     "output_type": "stream",
     "text": [
      "[[1.    0.455 0.365 0.095]\n",
      " [1.    0.35  0.265 0.09 ]\n",
      " [1.    0.53  0.42  0.135]\n",
      " ...\n",
      " [1.    0.6   0.475 0.205]\n",
      " [1.    0.625 0.485 0.15 ]\n",
      " [1.    0.71  0.555 0.195]]\n",
      "(4177, 4) (4,)\n",
      "[  2.83647907 -11.93268123  25.76614753  20.35823401]\n",
      "[ 8.74578519  7.3203108  10.08230157 ... 12.08922838 10.92886996\n",
      " 12.63434291]\n",
      "[15.  7.  9. ...  9. 10. 12.]\n",
      "27976.38631260371\n"
     ]
    }
   ],
   "source": [
    "# 나이 = -11.93 * 길이 + 25.76 * 지름(diameter) + 20.35 * 높이(Height) + 2.83\n",
    "#x_org = np_data[:,1:4].astype(np.float64)\n",
    "print(x)\n",
    "print(x.shape, reg_result.params.shape)\n",
    "\n",
    "print(reg_result.params)\n",
    "\n",
    "pred = np.sum(x * reg_result.params, axis=1)\n",
    "print(pred) # 예측값\n",
    "print(y)  # 실제값\n",
    "\n",
    "sse = np.sum((pred-y)**2)\n",
    "print(sse)"
   ]
  }
 ],
 "metadata": {
  "kernelspec": {
   "display_name": "Python 3.10.10 64-bit",
   "language": "python",
   "name": "python3"
  },
  "language_info": {
   "codemirror_mode": {
    "name": "ipython",
    "version": 3
   },
   "file_extension": ".py",
   "mimetype": "text/x-python",
   "name": "python",
   "nbconvert_exporter": "python",
   "pygments_lexer": "ipython3",
   "version": "3.10.10"
  },
  "orig_nbformat": 4,
  "vscode": {
   "interpreter": {
    "hash": "c19fa61d258bb2b35aae2ada233c33e2817c1ce895aa48acba720c6bf7cbe3cb"
   }
  }
 },
 "nbformat": 4,
 "nbformat_minor": 2
}
