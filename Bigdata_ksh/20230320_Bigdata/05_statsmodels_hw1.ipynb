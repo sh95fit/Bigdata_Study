{
 "cells": [
  {
   "attachments": {},
   "cell_type": "markdown",
   "metadata": {},
   "source": [
    "#### kosis.kr -> 범죄/안전 -> 교통사고 사망자수\n",
    "\n",
    "#### 주야별 교통사고 - 사망자수\n",
    "\n",
    "- 2021년, 주야 사망자 수 평균 차이가 있는가? (주간, 야간 95% 신뢰구간 : mean+-1.96*std)"
   ]
  },
  {
   "cell_type": "code",
   "execution_count": 1,
   "metadata": {},
   "outputs": [],
   "source": [
    "import numpy as np\n",
    "import pandas as pd\n",
    "import matplotlib.pyplot as plt\n",
    "from scipy import stats\n",
    "import statsmodels.api as sm\n",
    "\n",
    "np.set_printoptions(precision=5, suppress=True)"
   ]
  },
  {
   "cell_type": "code",
   "execution_count": 2,
   "metadata": {},
   "outputs": [],
   "source": [
    "pd_data = pd.read_csv(\"주야별_교통사고_20230320214415.csv\", encoding=\"cp949\")\n",
    "np_data = pd_data.to_numpy()\n",
    "\n",
    "# print(np_data[2:, 1:])\n",
    "np_data = np_data[2:, 1:].astype(np.float64)"
   ]
  },
  {
   "cell_type": "code",
   "execution_count": 3,
   "metadata": {},
   "outputs": [
    {
     "name": "stdout",
     "output_type": "stream",
     "text": [
      "[133.83333 109.16667]\n"
     ]
    }
   ],
   "source": [
    "# 주야간 평균값 구하기 -1\n",
    "\n",
    "mean = np.mean(np_data, axis=0)\n",
    "print(mean)"
   ]
  },
  {
   "cell_type": "code",
   "execution_count": 4,
   "metadata": {},
   "outputs": [
    {
     "name": "stdout",
     "output_type": "stream",
     "text": [
      "주간 사망자 평균 : 133.83333333333334 \n",
      "야간 사망자 평균 : 109.16666666666667\n"
     ]
    }
   ],
   "source": [
    "# 주야간 평균값 구하기 -2\n",
    "\n",
    "d_mean = np.mean(np_data[:,0])\n",
    "n_mean = np.mean(np_data[:,1])\n",
    "\n",
    "print(f\"주간 사망자 평균 : {d_mean} \\n야간 사망자 평균 : {n_mean}\")"
   ]
  },
  {
   "cell_type": "code",
   "execution_count": 5,
   "metadata": {},
   "outputs": [
    {
     "name": "stdout",
     "output_type": "stream",
     "text": [
      "                            OLS Regression Results                            \n",
      "==============================================================================\n",
      "Dep. Variable:                      y   R-squared:                       0.446\n",
      "Model:                            OLS   Adj. R-squared:                  0.390\n",
      "Method:                 Least Squares   F-statistic:                     8.041\n",
      "Date:                Wed, 22 Mar 2023   Prob (F-statistic):             0.0177\n",
      "Time:                        14:42:44   Log-Likelihood:                -48.806\n",
      "No. Observations:                  12   AIC:                             101.6\n",
      "Df Residuals:                      10   BIC:                             102.6\n",
      "Df Model:                           1                                         \n",
      "Covariance Type:            nonrobust                                         \n",
      "==============================================================================\n",
      "                 coef    std err          t      P>|t|      [0.025      0.975]\n",
      "------------------------------------------------------------------------------\n",
      "const         14.2258     33.777      0.421      0.683     -61.034      89.486\n",
      "x1             0.7094      0.250      2.836      0.018       0.152       1.267\n",
      "==============================================================================\n",
      "Omnibus:                        1.225   Durbin-Watson:                   1.811\n",
      "Prob(Omnibus):                  0.542   Jarque-Bera (JB):                0.113\n",
      "Skew:                           0.200   Prob(JB):                        0.945\n",
      "Kurtosis:                       3.257   Cond. No.                     1.02e+03\n",
      "==============================================================================\n",
      "\n",
      "Notes:\n",
      "[1] Standard Errors assume that the covariance matrix of the errors is correctly specified.\n",
      "[2] The condition number is large, 1.02e+03. This might indicate that there are\n",
      "strong multicollinearity or other numerical problems.\n",
      "[14.22577  0.7094 ]\n"
     ]
    },
    {
     "name": "stderr",
     "output_type": "stream",
     "text": [
      "c:\\Python311\\Lib\\site-packages\\scipy\\stats\\_stats_py.py:1736: UserWarning: kurtosistest only valid for n>=20 ... continuing anyway, n=12\n",
      "  warnings.warn(\"kurtosistest only valid for n>=20 ... continuing \"\n"
     ]
    }
   ],
   "source": [
    "# by statsmodels\n",
    "x = np_data[:,0]\n",
    "y = np_data[:,1]\n",
    "\n",
    "x = sm.add_constant(x)\n",
    "\n",
    "model = sm.OLS(y,x)\n",
    "result = model.fit()\n",
    "\n",
    "print(result.summary())\n",
    "print(result.params)"
   ]
  },
  {
   "cell_type": "code",
   "execution_count": 6,
   "metadata": {},
   "outputs": [
    {
     "name": "stdout",
     "output_type": "stream",
     "text": [
      "2395.418705913088\n"
     ]
    }
   ],
   "source": [
    "# SSE 구하기\n",
    "\n",
    "# print(x, x.shape)\n",
    "# print(result.params, result.params.shape)\n",
    "\n",
    "pred = np.sum(x * result.params, axis=1)\n",
    "# print(pred) # 예측값\n",
    "# print(y)  # 실제값\n",
    "\n",
    "sse = np.sum((pred-y)**2)\n",
    "print(sse)"
   ]
  },
  {
   "cell_type": "code",
   "execution_count": 7,
   "metadata": {},
   "outputs": [
    {
     "name": "stdout",
     "output_type": "stream",
     "text": [
      "0.7093964991726899 14.22576852738834\n"
     ]
    },
    {
     "data": {
      "text/plain": [
       "[<matplotlib.lines.Line2D at 0x2615eda7190>]"
      ]
     },
     "execution_count": 7,
     "metadata": {},
     "output_type": "execute_result"
    },
    {
     "data": {
      "image/png": "[encoded data removed]",
      "text/plain": [
       "<Figure size 640x480 with 1 Axes>"
      ]
     },
     "metadata": {},
     "output_type": "display_data"
    }
   ],
   "source": [
    "# plot, regression line\n",
    "x = np_data[:,0]\n",
    "y = np_data[:,1]\n",
    "\n",
    "x_mean = np.mean(x)\n",
    "y_mean = np.mean(y)\n",
    "x_std = np.std(x)\n",
    "y_std = np.std(y)\n",
    "xy_corr = np.corrcoef(x,y)[0,1]\n",
    "\n",
    "slope = xy_corr*(y_std/x_std)\n",
    "intercept = y_mean - slope*x_mean\n",
    "\n",
    "print(slope, intercept)\n",
    "\n",
    "_, axe = plt.subplots()\n",
    "axe.scatter(x,y)\n",
    "axe.plot(x, x*slope+intercept, c='r')"
   ]
  }
 ],
 "metadata": {
  "kernelspec": {
   "display_name": "Python 3.10.10 64-bit",
   "language": "python",
   "name": "python3"
  },
  "language_info": {
   "codemirror_mode": {
    "name": "ipython",
    "version": 3
   },
   "file_extension": ".py",
   "mimetype": "text/x-python",
   "name": "python",
   "nbconvert_exporter": "python",
   "pygments_lexer": "ipython3",
   "version": "3.10.10"
  },
  "orig_nbformat": 4,
  "vscode": {
   "interpreter": {
    "hash": "c19fa61d258bb2b35aae2ada233c33e2817c1ce895aa48acba720c6bf7cbe3cb"
   }
  }
 },
 "nbformat": 4,
 "nbformat_minor": 2
}
