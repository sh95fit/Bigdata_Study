{
 "cells": [
  {
   "attachments": {},
   "cell_type": "markdown",
   "metadata": {},
   "source": [
    "#### kosis.kr -> 범죄/안전 -> 교통사고 사망자수\n",
    "\n",
    "#### 주야별 교통사고 - 사망자수\n",
    "\n",
    "- 2011~2021년, 월별 차이가 있는가?"
   ]
  },
  {
   "cell_type": "code",
   "execution_count": 45,
   "metadata": {},
   "outputs": [],
   "source": [
    "import numpy as np\n",
    "import pandas as pd\n",
    "import matplotlib.pyplot as plt\n",
    "from scipy import stats\n",
    "import statsmodels.api as sm\n",
    "\n",
    "np.set_printoptions(precision=5, suppress=True)"
   ]
  },
  {
   "cell_type": "code",
   "execution_count": 46,
   "metadata": {},
   "outputs": [
    {
     "name": "stdout",
     "output_type": "stream",
     "text": [
      "1월 주간 평균 : 167.27272727272728 / 야간 평균 : 172.27272727272728\n",
      "\n",
      "2월 주간 평균 : 133.27272727272728 / 야간 평균 : 154.27272727272728\n",
      "\n",
      "3월 주간 평균 : 150.45454545454547 / 야간 평균 : 167.8181818181818\n",
      "\n",
      "4월 주간 평균 : 157.54545454545453 / 야간 평균 : 174.0\n",
      "\n",
      "5월 주간 평균 : 189.45454545454547 / 야간 평균 : 163.27272727272728\n",
      "\n",
      "6월 주간 평균 : 171.1818181818182 / 야간 평균 : 169.36363636363637\n",
      "\n",
      "7월 주간 평균 : 175.8181818181818 / 야간 평균 : 174.45454545454547\n",
      "\n",
      "8월 주간 평균 : 176.1818181818182 / 야간 평균 : 178.1818181818182\n",
      "\n",
      "9월 주간 평균 : 187.8181818181818 / 야간 평균 : 193.8181818181818\n",
      "\n",
      "10월 주간 평균 : 207.0 / 야간 평균 : 218.72727272727272\n",
      "\n",
      "11월 주간 평균 : 198.63636363636363 / 야간 평균 : 194.36363636363637\n",
      "\n",
      "12월 주간 평균 : 183.72727272727272 / 야간 평균 : 186.54545454545453\n",
      "\n"
     ]
    }
   ],
   "source": [
    "pd_data = pd.read_csv(\"2011_2021_주야별_교통사고_20230320214622.csv\", encoding=\"cp949\")\n",
    "np_data = pd_data.to_numpy()\n",
    "\n",
    "# print(np_data[1:, :2].shape)\n",
    "# print(np_data[1:,2:].astype(np.float64).shape)\n",
    "\n",
    "np_data = np.concatenate((np_data[1:, :2], np_data[1:,2:].astype(np.float64)), 1)\n",
    "\n",
    "filter_d = np_data[:, 1] == '주'\n",
    "filter_n = np_data[:, 1] == '야'\n",
    "\n",
    "d_data = np_data[:,2:][filter_d]\n",
    "n_data = np_data[:,2:][filter_n]\n",
    "\n",
    "d_monthly_mean = np.mean(d_data, axis=0)\n",
    "n_monthly_mean = np.mean(n_data, axis=0)\n",
    "\n",
    "for i in range(12) :\n",
    "  print(f\"{i+1}월 주간 평균 : {d_monthly_mean[i]} / 야간 평균 : {n_monthly_mean[i]}\\n\")"
   ]
  },
  {
   "cell_type": "code",
   "execution_count": 50,
   "metadata": {},
   "outputs": [
    {
     "name": "stdout",
     "output_type": "stream",
     "text": [
      "[-43.76557   1.29153]\n",
      "[2.44018 1.13926]\n",
      "[-44.76933   1.41297]\n",
      "[-57.53876   1.46966]\n",
      "[-32.09086   1.03119]\n",
      "[-14.31888   1.07303]\n",
      "[-39.56224   1.21726]\n",
      "[-63.40312   1.37123]\n",
      "[-85.97166   1.48968]\n",
      "[-33.68202   1.21937]\n",
      "[-121.87707    1.59206]\n",
      "[-38.43804   1.22455]\n"
     ]
    }
   ],
   "source": [
    "# by statsmodels\n",
    "for i in range(12) :\n",
    "  x = d_data[:,i].astype(float)\n",
    "  y = n_data[:,i].astype(float)\n",
    "\n",
    "  x = sm.add_constant(x)\n",
    "\n",
    "  model = sm.OLS(y,x)\n",
    "  result = model.fit()\n",
    "\n",
    "  # print(result.summary())\n",
    "  print(result.params)"
   ]
  },
  {
   "cell_type": "code",
   "execution_count": 55,
   "metadata": {},
   "outputs": [
    {
     "name": "stdout",
     "output_type": "stream",
     "text": [
      "2376.2100222460217\n",
      "13550.378962434479\n",
      "13654.55645120646\n",
      "11613.40585876386\n",
      "18478.627885304464\n",
      "5917.718492860537\n",
      "2675.2921391137047\n",
      "3357.0101497814403\n",
      "3582.6385553642444\n",
      "7061.3866525463445\n",
      "11262.50712553883\n",
      "6633.302289266669\n"
     ]
    }
   ],
   "source": [
    "# SSE 구하기\n",
    "\n",
    "for i in range(12) :\n",
    "  x = d_data[:,i].astype(float)\n",
    "  y = n_data[:,i].astype(float)\n",
    "\n",
    "  x = sm.add_constant(x)\n",
    "  \n",
    "  # print(x, x.shape)\n",
    "  # print(result.params, result.params.shape)\n",
    "\n",
    "  pred = np.sum(x * result.params, axis=1)\n",
    "  # print(pred) # 예측값\n",
    "  # print(y)  # 실제값\n",
    "\n",
    "  sse = np.sum((pred-y)**2)\n",
    "  print(sse)"
   ]
  }
 ],
 "metadata": {
  "kernelspec": {
   "display_name": "Python 3.10.10 64-bit",
   "language": "python",
   "name": "python3"
  },
  "language_info": {
   "codemirror_mode": {
    "name": "ipython",
    "version": 3
   },
   "file_extension": ".py",
   "mimetype": "text/x-python",
   "name": "python",
   "nbconvert_exporter": "python",
   "pygments_lexer": "ipython3",
   "version": "3.11.1"
  },
  "orig_nbformat": 4,
  "vscode": {
   "interpreter": {
    "hash": "c19fa61d258bb2b35aae2ada233c33e2817c1ce895aa48acba720c6bf7cbe3cb"
   }
  }
 },
 "nbformat": 4,
 "nbformat_minor": 2
}
