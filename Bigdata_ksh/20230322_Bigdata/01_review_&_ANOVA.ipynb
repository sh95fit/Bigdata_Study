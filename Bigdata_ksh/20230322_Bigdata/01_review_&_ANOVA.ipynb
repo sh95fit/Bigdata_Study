{
 "cells": [
  {
   "cell_type": "markdown",
   "metadata": {},
   "source": [
    "#### kosis.kr -> 범죄/안전 -> 교통사고 사망자수\n",
    "\n",
    "#### 주야별 교통사고 - 사망자수\n",
    "\n",
    "- 2021년, 주야 사망자 수 평균 차이가 있는가? (주간, 야간 95% 신뢰구간 : mean+-1.96*std)\n",
    "- 2011~2021년, 월별 차이가 있는가?"
   ]
  },
  {
   "cell_type": "code",
   "execution_count": 1,
   "metadata": {},
   "outputs": [],
   "source": [
    "import numpy as np\n",
    "import pandas as pd\n",
    "import matplotlib.pyplot as plt\n",
    "from scipy import stats\n",
    "import statsmodels.api as sm"
   ]
  },
  {
   "cell_type": "code",
   "execution_count": 2,
   "metadata": {},
   "outputs": [
    {
     "name": "stdout",
     "output_type": "stream",
     "text": [
      "[['1월' 107 90]\n",
      " ['2월' 107 96]\n",
      " ['3월' 128 81]\n",
      " ['4월' 119 93]\n",
      " ['5월' 154 101]\n",
      " ['6월' 124 103]\n",
      " ['7월' 139 115]\n",
      " ['8월' 129 118]\n",
      " ['9월' 131 115]\n",
      " ['10월' 156 156]\n",
      " ['11월' 163 122]\n",
      " ['12월' 149 120]]\n",
      "[['2011' '주' '186' '156' '143' '182' '185' '202' '225' '227' '217' '233'\n",
      "  '228' '250']\n",
      " ['2011' '야' '209' '183' '195' '247' '208' '213' '237' '245' '257' '287'\n",
      "  '286' '228']\n",
      " ['2012' '주' '206' '194' '179' '233' '218' '238' '198' '193' '233' '261'\n",
      "  '238' '196']\n",
      " ['2012' '야' '212' '199' '224' '250' '226' '238' '218' '216' '253' '272'\n",
      "  '270' '227']\n",
      " ['2013' '주' '190' '136' '198' '164' '215' '195' '221' '192' '211' '236'\n",
      "  '223' '209']\n",
      " ['2013' '야' '199' '199' '211' '216' '205' '241' '223' '220' '219' '263'\n",
      "  '256' '250']\n",
      " ['2014' '주' '189' '150' '153' '153' '226' '185' '196' '183' '200' '223'\n",
      "  '249' '209']\n",
      " ['2014' '야' '200' '175' '205' '188' '172' '182' '211' '176' '245' '247'\n",
      "  '227' '218']\n",
      " ['2015' '주' '174' '129' '175' '168' '202' '202' '179' '190' '199' '241'\n",
      "  '189' '204']\n",
      " ['2015' '야' '207' '167' '203' '186' '187' '188' '180' '215' '188' '229'\n",
      "  '221' '198']\n",
      " ['2016' '주' '159' '135' '154' '160' '210' '162' '187' '175' '187' '195'\n",
      "  '215' '196']\n",
      " ['2016' '야' '177' '157' '156' '193' '137' '159' '171' '161' '188' '245'\n",
      "  '201' '212']\n",
      " ['2017' '주' '183' '129' '127' '147' '193' '171' '170' '188' '205' '198'\n",
      "  '203' '162']\n",
      " ['2017' '야' '170' '151' '168' '146' '173' '144' '187' '165' '214' '222'\n",
      "  '176' '193']\n",
      " ['2018' '주' '149' '122' '150' '138' '171' '148' '171' '169' '169' '204'\n",
      "  '163' '164']\n",
      " ['2018' '야' '155' '153' '160' '165' '138' '118' '144' '188' '179' '169'\n",
      "  '135' '159']\n",
      " ['2019' '주' '152' '101' '124' '152' '174' '145' '132' '131' '150' '168'\n",
      "  '169' '152']\n",
      " ['2019' '야' '144' '102' '128' '134' '131' '134' '109' '122' '137' '169'\n",
      "  '128' '161']\n",
      " ['2020' '주' '145' '107' '124' '117' '136' '111' '116' '161' '164' '162'\n",
      "  '145' '130']\n",
      " ['2020' '야' '132' '115' '115' '96' '118' '143' '124' '134' '137' '147'\n",
      "  '116' '86']\n",
      " ['2021' '주' '107' '107' '128' '119' '154' '124' '139' '129' '131' '156'\n",
      "  '163' '149']\n",
      " ['2021' '야' '90' '96' '81' '93' '101' '103' '115' '118' '115' '156'\n",
      "  '122' '120']]\n"
     ]
    }
   ],
   "source": [
    "pd_data_1 = pd.read_csv(\"주야별_교통사고_20230320214415.csv\", encoding=\"cp949\", header=[0,1,2])\n",
    "pd_data_2 = pd.read_csv('2011_2021_주야별_교통사고_20230320214622.csv', encoding='cp949')\n",
    "np_data_1 = pd_data_1.to_numpy()\n",
    "np_data_2 = pd_data_2.to_numpy()\n",
    "\n",
    "np_data_1 = np_data_1[:, :]\n",
    "print(np_data_1)\n",
    "\n",
    "np_data_2 = np_data_2[1:, :]\n",
    "print(np_data_2)"
   ]
  },
  {
   "cell_type": "code",
   "execution_count": 3,
   "metadata": {},
   "outputs": [
    {
     "name": "stdout",
     "output_type": "stream",
     "text": [
      "[[107.  90.]\n",
      " [107.  96.]\n",
      " [128.  81.]\n",
      " [119.  93.]\n",
      " [154. 101.]\n",
      " [124. 103.]\n",
      " [139. 115.]\n",
      " [129. 118.]\n",
      " [131. 115.]\n",
      " [156. 156.]\n",
      " [163. 122.]\n",
      " [149. 120.]]\n",
      "[[186 156 143 182 185 202 225 227 217 233 228 250]\n",
      " [209 183 195 247 208 213 237 245 257 287 286 228]\n",
      " [206 194 179 233 218 238 198 193 233 261 238 196]\n",
      " [212 199 224 250 226 238 218 216 253 272 270 227]\n",
      " [190 136 198 164 215 195 221 192 211 236 223 209]\n",
      " [199 199 211 216 205 241 223 220 219 263 256 250]\n",
      " [189 150 153 153 226 185 196 183 200 223 249 209]\n",
      " [200 175 205 188 172 182 211 176 245 247 227 218]\n",
      " [174 129 175 168 202 202 179 190 199 241 189 204]\n",
      " [207 167 203 186 187 188 180 215 188 229 221 198]\n",
      " [159 135 154 160 210 162 187 175 187 195 215 196]\n",
      " [177 157 156 193 137 159 171 161 188 245 201 212]\n",
      " [183 129 127 147 193 171 170 188 205 198 203 162]\n",
      " [170 151 168 146 173 144 187 165 214 222 176 193]\n",
      " [149 122 150 138 171 148 171 169 169 204 163 164]\n",
      " [155 153 160 165 138 118 144 188 179 169 135 159]\n",
      " [152 101 124 152 174 145 132 131 150 168 169 152]\n",
      " [144 102 128 134 131 134 109 122 137 169 128 161]\n",
      " [145 107 124 117 136 111 116 161 164 162 145 130]\n",
      " [132 115 115  96 118 143 124 134 137 147 116  86]\n",
      " [107 107 128 119 154 124 139 129 131 156 163 149]\n",
      " [ 90  96  81  93 101 103 115 118 115 156 122 120]]\n"
     ]
    }
   ],
   "source": [
    "np_data_1 = np_data_1[:,1:].astype(np.float64)\n",
    "print(np_data_1)\n",
    "\n",
    "np_data_2 = np_data_2[:,2:].astype(np.int64)\n",
    "print(np_data_2)"
   ]
  },
  {
   "cell_type": "code",
   "execution_count": 4,
   "metadata": {},
   "outputs": [
    {
     "name": "stdout",
     "output_type": "stream",
     "text": [
      "day : 133.83333333333334\n",
      "night : 109.16666666666667\n"
     ]
    }
   ],
   "source": [
    "np_data_1_day = np.mean(np_data_1[:,0])\n",
    "np_data_1_night = np.mean(np_data_1[:,1])\n",
    "\n",
    "print(f\"day : {np_data_1_day}\")\n",
    "print(f\"night : {np_data_1_night}\")"
   ]
  },
  {
   "cell_type": "code",
   "execution_count": 5,
   "metadata": {},
   "outputs": [],
   "source": [
    "def do_mean_comparison(g1, g2) :\n",
    "  print(\"*******************************\")\n",
    "  print('g1 sharpiro : ', stats.shapiro(g1))\n",
    "  print('g2 shapiro : ', stats.shapiro(g2))\n",
    "  print('levene : ', stats.levene(g1, g2))\n",
    "  print('ttest_ind : ', stats.ttest_ind(g1, g2))\n",
    "  print(\"*******************************\")"
   ]
  },
  {
   "cell_type": "code",
   "execution_count": 6,
   "metadata": {},
   "outputs": [
    {
     "name": "stdout",
     "output_type": "stream",
     "text": [
      "*******************************\n",
      "g1 sharpiro :  ShapiroResult(statistic=0.9471257328987122, pvalue=0.5954177975654602)\n",
      "g2 shapiro :  ShapiroResult(statistic=0.923818051815033, pvalue=0.3191479444503784)\n",
      "levene :  LeveneResult(statistic=0.005013673655423849, pvalue=0.9441908530585174)\n",
      "ttest_ind :  Ttest_indResult(statistic=3.139325802166223, pvalue=0.004765481867654835)\n",
      "*******************************\n"
     ]
    }
   ],
   "source": [
    "do_mean_comparison(np_data_1[:,0], np_data_1[:,1])\n",
    "\n",
    "# ttest 귀무가설 기각으로 평균값이 같지 않음!"
   ]
  },
  {
   "cell_type": "code",
   "execution_count": 7,
   "metadata": {},
   "outputs": [],
   "source": [
    "def get_95ci(vals) :\n",
    "  vals_mean = np.mean(vals)\n",
    "  vals_std = np.std(vals)\n",
    "  print('upper : ', vals_mean + 1.96*vals_std)\n",
    "  print('lower : ', vals_mean - 1.96*vals_std)\n",
    "  print(vals_mean - 1.96*vals_std, '~', vals_mean, '~', vals_mean + 1.96*vals_std)"
   ]
  },
  {
   "cell_type": "code",
   "execution_count": 8,
   "metadata": {},
   "outputs": [
    {
     "name": "stdout",
     "output_type": "stream",
     "text": [
      "upper :  168.83852850332045\n",
      "lower :  98.82813816334624\n",
      "98.82813816334624 ~ 133.83333333333334 ~ 168.83852850332045\n",
      "upper :  146.36222494390665\n",
      "lower :  71.97110838942669\n",
      "71.97110838942669 ~ 109.16666666666667 ~ 146.36222494390665\n"
     ]
    }
   ],
   "source": [
    "get_95ci(np_data_1[:,0])\n",
    "get_95ci(np_data_1[:,1])"
   ]
  },
  {
   "cell_type": "code",
   "execution_count": 9,
   "metadata": {},
   "outputs": [
    {
     "name": "stdout",
     "output_type": "stream",
     "text": [
      "[[186 156 143 182 185 202 225 227 217 233 228 250]\n",
      " [209 183 195 247 208 213 237 245 257 287 286 228]\n",
      " [206 194 179 233 218 238 198 193 233 261 238 196]\n",
      " [212 199 224 250 226 238 218 216 253 272 270 227]\n",
      " [190 136 198 164 215 195 221 192 211 236 223 209]\n",
      " [199 199 211 216 205 241 223 220 219 263 256 250]\n",
      " [189 150 153 153 226 185 196 183 200 223 249 209]\n",
      " [200 175 205 188 172 182 211 176 245 247 227 218]\n",
      " [174 129 175 168 202 202 179 190 199 241 189 204]\n",
      " [207 167 203 186 187 188 180 215 188 229 221 198]\n",
      " [159 135 154 160 210 162 187 175 187 195 215 196]\n",
      " [177 157 156 193 137 159 171 161 188 245 201 212]\n",
      " [183 129 127 147 193 171 170 188 205 198 203 162]\n",
      " [170 151 168 146 173 144 187 165 214 222 176 193]\n",
      " [149 122 150 138 171 148 171 169 169 204 163 164]\n",
      " [155 153 160 165 138 118 144 188 179 169 135 159]\n",
      " [152 101 124 152 174 145 132 131 150 168 169 152]\n",
      " [144 102 128 134 131 134 109 122 137 169 128 161]\n",
      " [145 107 124 117 136 111 116 161 164 162 145 130]\n",
      " [132 115 115  96 118 143 124 134 137 147 116  86]\n",
      " [107 107 128 119 154 124 139 129 131 156 163 149]\n",
      " [ 90  96  81  93 101 103 115 118 115 156 122 120]]\n"
     ]
    },
    {
     "data": {
      "text/plain": [
       "array([169.77272727, 143.77272727, 159.13636364, 165.77272727,\n",
       "       176.36363636, 170.27272727, 175.13636364, 177.18181818,\n",
       "       190.81818182, 212.86363636, 196.5       , 185.13636364])"
      ]
     },
     "execution_count": 9,
     "metadata": {},
     "output_type": "execute_result"
    }
   ],
   "source": [
    "print(np_data_2)\n",
    "\n",
    "np.mean(np_data_2, axis=0)"
   ]
  },
  {
   "cell_type": "code",
   "execution_count": 10,
   "metadata": {},
   "outputs": [
    {
     "name": "stdout",
     "output_type": "stream",
     "text": [
      "*******************************\n",
      "g1 sharpiro :  ShapiroResult(statistic=0.9344812631607056, pvalue=0.1521020382642746)\n",
      "g2 shapiro :  ShapiroResult(statistic=0.9441033601760864, pvalue=0.24028174579143524)\n",
      "levene :  LeveneResult(statistic=0.037831565712641416, pvalue=0.8467195310345558)\n",
      "ttest_ind :  Ttest_indResult(statistic=2.611907155697852, pvalue=0.012435676148431905)\n",
      "*******************************\n"
     ]
    },
    {
     "data": {
      "text/plain": [
       "F_onewayResult(statistic=4.500366143142333, pvalue=3.2479850700053163e-06)"
      ]
     },
     "execution_count": 10,
     "metadata": {},
     "output_type": "execute_result"
    }
   ],
   "source": [
    "do_mean_comparison(np_data_2[:,0], np_data_2[:,1])\n",
    "\n",
    "# ANOVA\n",
    "# ttest는 특정 2개만 가지고 판별\n",
    "# but F_oneway의 경우 여러 개를 가지고 전체적인 관점에서의 판별(ANOVA)\n",
    "lista=[np_data_2[:, x] for x in range(12)]\n",
    "# *를 리스트 앞에 붙이게 되면 []를 벗겨낸 값을 의미, 즉 for, if로 생성된 리스트의 경우 for, if문에 적용됨\n",
    "stats.f_oneway(*lista)"
   ]
  },
  {
   "cell_type": "code",
   "execution_count": 11,
   "metadata": {},
   "outputs": [
    {
     "name": "stdout",
     "output_type": "stream",
     "text": [
      "[[186 156 143 182 185 202 225 227 217 233 228 250]\n",
      " [206 194 179 233 218 238 198 193 233 261 238 196]\n",
      " [190 136 198 164 215 195 221 192 211 236 223 209]\n",
      " [189 150 153 153 226 185 196 183 200 223 249 209]\n",
      " [174 129 175 168 202 202 179 190 199 241 189 204]\n",
      " [159 135 154 160 210 162 187 175 187 195 215 196]\n",
      " [183 129 127 147 193 171 170 188 205 198 203 162]\n",
      " [149 122 150 138 171 148 171 169 169 204 163 164]\n",
      " [152 101 124 152 174 145 132 131 150 168 169 152]\n",
      " [145 107 124 117 136 111 116 161 164 162 145 130]\n",
      " [107 107 128 119 154 124 139 129 131 156 163 149]]\n",
      "***************************************************\n",
      "[[209 183 195 247 208 213 237 245 257 287 286 228]\n",
      " [212 199 224 250 226 238 218 216 253 272 270 227]\n",
      " [199 199 211 216 205 241 223 220 219 263 256 250]\n",
      " [200 175 205 188 172 182 211 176 245 247 227 218]\n",
      " [207 167 203 186 187 188 180 215 188 229 221 198]\n",
      " [177 157 156 193 137 159 171 161 188 245 201 212]\n",
      " [170 151 168 146 173 144 187 165 214 222 176 193]\n",
      " [155 153 160 165 138 118 144 188 179 169 135 159]\n",
      " [144 102 128 134 131 134 109 122 137 169 128 161]\n",
      " [132 115 115  96 118 143 124 134 137 147 116  86]\n",
      " [ 90  96  81  93 101 103 115 118 115 156 122 120]]\n"
     ]
    }
   ],
   "source": [
    "# print(np_data_2)\n",
    "\n",
    "day_np_data = np_data_2[::2,:]\n",
    "print(day_np_data)\n",
    "\n",
    "print(\"***************************************************\")\n",
    "\n",
    "night_np_data = np_data_2[1::2,:]\n",
    "print(night_np_data)"
   ]
  },
  {
   "cell_type": "code",
   "execution_count": 12,
   "metadata": {},
   "outputs": [
    {
     "name": "stdout",
     "output_type": "stream",
     "text": [
      "F_onewayResult(statistic=4.736555362643578, pvalue=5.19483057699425e-06)\n",
      "*************************************************************************\n",
      "F_onewayResult(statistic=1.453139015449641, pvalue=0.15835383757059698)\n"
     ]
    }
   ],
   "source": [
    "# ANOVA : ANalysis Of VArience(분산 분석)\n",
    "listd=[day_np_data[:, x] for x in range(12)]\n",
    "listn=[night_np_data[:, x] for x in range(12)]\n",
    "\n",
    "print(stats.f_oneway(*listd))\n",
    "# 귀무가설 : mean 값에 차이가 없다(같은 것으로 보는 것이 맞다)\n",
    "# p-value < 0.05 귀무가설 기각\n",
    "# 결론 : 2011~2021년 주간 사망자수는 월별 차이가 있다\n",
    "\n",
    "print(\"*************************************************************************\")\n",
    "print(stats.f_oneway(*listn))\n",
    "# 귀무가설 : mean 값에 차이가 없다(같은 것으로 보는 것이 맞다)\n",
    "# p-value > 0.05 귀무가설 수용\n",
    "# 결론 : 2011~2021년 야간 사망자수는 월별 차이가 없다"
   ]
  },
  {
   "cell_type": "code",
   "execution_count": 13,
   "metadata": {},
   "outputs": [
    {
     "name": "stdout",
     "output_type": "stream",
     "text": [
      "4756.520661157024\n",
      "3259.0055096418714\n"
     ]
    }
   ],
   "source": [
    "# 그룹 간 분산\n",
    "\n",
    "# day\n",
    "d_group_mean = np.mean(day_np_data, axis=0)\n",
    "total_d_group_mean = np.mean(day_np_data)\n",
    "d_inter_g = np.sum(11*((d_group_mean - total_d_group_mean)**2))/(12-1)\n",
    "print(d_inter_g)\n",
    "\n",
    "# night\n",
    "n_group_mean = np.mean(night_np_data, axis=0)\n",
    "total_n_group_mean = np.mean(night_np_data)\n",
    "n_inter_g = np.sum(11*((n_group_mean - total_n_group_mean)**2))/(12-1)\n",
    "print(n_inter_g)"
   ]
  },
  {
   "cell_type": "code",
   "execution_count": 14,
   "metadata": {},
   "outputs": [
    {
     "name": "stdout",
     "output_type": "stream",
     "text": [
      "4756.520661157024 1004.2151515151515 4.7365553626435775\n",
      "3259.0055096418714 2242.7348484848485 1.4531390154496404\n"
     ]
    }
   ],
   "source": [
    "# 그룹 내 분산\n",
    "d_intra_g = np.sum(np.sum((day_np_data - d_group_mean)**2, axis=0))/((11*12)-12)\n",
    "print(d_inter_g, d_intra_g, d_inter_g/d_intra_g)\n",
    "\n",
    "\n",
    "n_intra_g = np.sum(np.sum((night_np_data - n_group_mean)**2, axis=0))/((11*12)-12)\n",
    "print(n_inter_g, n_intra_g, n_inter_g/n_intra_g)"
   ]
  },
  {
   "cell_type": "code",
   "execution_count": 15,
   "metadata": {},
   "outputs": [
    {
     "data": {
      "text/plain": [
       "array([0.15835384])"
      ]
     },
     "execution_count": 15,
     "metadata": {},
     "output_type": "execute_result"
    },
    {
     "data": {
      "image/png": "[encoded data removed]",
      "text/plain": [
       "<Figure size 640x480 with 1 Axes>"
      ]
     },
     "metadata": {},
     "output_type": "display_data"
    }
   ],
   "source": [
    "xs = np.linspace(-5, 5, 100)\n",
    "ys = stats.ncf.cdf(xs, 12-1, (11*12)-1, 0)  # f 누적 분포\n",
    "\n",
    "_, axe = plt.subplots()\n",
    "axe.plot(xs, ys)\n",
    "\n",
    "1 - stats.ncf.cdf([1.453139015449641], 12-1, (11*12)-12,0)"
   ]
  },
  {
   "cell_type": "code",
   "execution_count": 16,
   "metadata": {},
   "outputs": [
    {
     "data": {
      "text/plain": [
       "array([5.19483058e-06])"
      ]
     },
     "execution_count": 16,
     "metadata": {},
     "output_type": "execute_result"
    },
    {
     "data": {
      "image/png": "[encoded data removed]",
      "text/plain": [
       "<Figure size 640x480 with 1 Axes>"
      ]
     },
     "metadata": {},
     "output_type": "display_data"
    }
   ],
   "source": [
    "xs = np.linspace(-5, 5, 100)\n",
    "ys = stats.ncf.cdf(xs, 12-1, (11*12)-1, 0)  # f 누적 분포\n",
    "\n",
    "_, axe = plt.subplots()\n",
    "axe.plot(xs, ys)\n",
    "\n",
    "1 - stats.ncf.cdf([4.7365553626435775], 12-1, (11*12)-12,0)"
   ]
  }
 ],
 "metadata": {
  "kernelspec": {
   "display_name": "Python 3.10.10 64-bit",
   "language": "python",
   "name": "python3"
  },
  "language_info": {
   "codemirror_mode": {
    "name": "ipython",
    "version": 3
   },
   "file_extension": ".py",
   "mimetype": "text/x-python",
   "name": "python",
   "nbconvert_exporter": "python",
   "pygments_lexer": "ipython3",
   "version": "3.10.11"
  },
  "orig_nbformat": 4,
  "vscode": {
   "interpreter": {
    "hash": "c19fa61d258bb2b35aae2ada233c33e2817c1ce895aa48acba720c6bf7cbe3cb"
   }
  }
 },
 "nbformat": 4,
 "nbformat_minor": 2
}
