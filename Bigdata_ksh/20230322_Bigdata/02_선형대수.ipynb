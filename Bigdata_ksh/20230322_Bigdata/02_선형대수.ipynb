{
 "cells": [
  {
   "cell_type": "code",
   "execution_count": 1,
   "metadata": {},
   "outputs": [],
   "source": [
    "import numpy as np\n",
    "import pandas as pd\n",
    "import matplotlib.pyplot as plt\n",
    "from scipy import stats\n",
    "import statsmodels.api as sm"
   ]
  },
  {
   "cell_type": "code",
   "execution_count": 2,
   "metadata": {},
   "outputs": [
    {
     "name": "stdout",
     "output_type": "stream",
     "text": [
      "[[107  90]\n",
      " [107  96]\n",
      " [128  81]\n",
      " [119  93]\n",
      " [154 101]\n",
      " [124 103]\n",
      " [139 115]\n",
      " [129 118]\n",
      " [131 115]\n",
      " [156 156]\n",
      " [163 122]\n",
      " [149 120]]\n"
     ]
    }
   ],
   "source": [
    "death_2021 = pd.read_csv(\"주야별_교통사고_20230320214415.csv\", encoding=\"cp949\")\n",
    "death_2021 = death_2021.to_numpy()\n",
    "\n",
    "death_2021 = death_2021[2:, 1:].astype(np.int64)\n",
    "print(death_2021)"
   ]
  },
  {
   "cell_type": "markdown",
   "metadata": {},
   "source": [
    " #### value\n",
    " #### scalar(1D) ---> vector(2D) ---> matrix(3D) ---> tensor(4D+)\n",
    "\n",
    " "
   ]
  },
  {
   "cell_type": "code",
   "execution_count": 3,
   "metadata": {},
   "outputs": [
    {
     "name": "stdout",
     "output_type": "stream",
     "text": [
      "[[107  90]\n",
      " [107  96]\n",
      " [128  81]\n",
      " [119  93]\n",
      " [154 101]\n",
      " [124 103]\n",
      " [139 115]\n",
      " [129 118]\n",
      " [131 115]\n",
      " [156 156]\n",
      " [163 122]\n",
      " [149 120]]\n"
     ]
    },
    {
     "data": {
      "text/plain": [
       "<matplotlib.collections.PathCollection at 0x20e07f9c310>"
      ]
     },
     "execution_count": 3,
     "metadata": {},
     "output_type": "execute_result"
    },
    {
     "data": {
      "image/png": "[encoded data removed]",
      "text/plain": [
       "<Figure size 640x480 with 1 Axes>"
      ]
     },
     "metadata": {},
     "output_type": "display_data"
    }
   ],
   "source": [
    "print(death_2021)\n",
    "\n",
    "_, axe = plt.subplots()\n",
    "\n",
    "# 축 간격 조정\n",
    "axe.set_ylim(80, 130)\n",
    "axe.set_xlim(100,160)\n",
    "\n",
    "# x축 : 주간, y축 : 야간\n",
    "axe.scatter(death_2021[0,0], death_2021[0,1]) # 첫번째 주간, 야간값\n",
    "axe.scatter(death_2021[-1,0], death_2021[-1,1]) # 마지막 주간, 야간값"
   ]
  },
  {
   "attachments": {},
   "cell_type": "markdown",
   "metadata": {},
   "source": [
    "$ euclidean - dist = \\sqrt ( (a_x - b_x)^2 + (a_y - b_y )^2 ) = ( (a_x - b_x)^2 + (a_y - b_y )^2 ) ^ {1/2}$\n",
    "\n",
    "$ manhattan  - dist = \\left| (a_x - b_x) \\right| + \\left| (a_y - b_y) \\right| $\n",
    "\n",
    "$ minkowski - dist = (\\left| (a_x - b_x) \\right| ^ p + \\left| (a_y - b_y) \\right| ^ p) ^ {1/p} $"
   ]
  },
  {
   "cell_type": "code",
   "execution_count": 4,
   "metadata": {},
   "outputs": [
    {
     "name": "stdout",
     "output_type": "stream",
     "text": [
      "[107  90]\n",
      "197\n",
      "[107  90]\n",
      "139.8177385026664\n"
     ]
    }
   ],
   "source": [
    "# norm : vector를 scalar 값으로 표현\n",
    "\n",
    "# L1 norm : manhattan dist\n",
    "a = death_2021[0]\n",
    "print(a)\n",
    "l1_norm = np.sum(np.abs(a))\n",
    "print(l1_norm)\n",
    "\n",
    "# L2 norm : euclidean norm\n",
    "a = death_2021[0]\n",
    "print(a)\n",
    "l2_norm = np.sqrt(np.sum(a**2))\n",
    "print(l2_norm)"
   ]
  },
  {
   "cell_type": "markdown",
   "metadata": {},
   "source": [
    "##### 내적(Dot product)\n",
    "$ a \\cdot b = (a_x \\times b_x) + (a_y \\times b_y) = \\vert a \\vert \\vert b \\vert cos \\theta$"
   ]
  },
  {
   "cell_type": "code",
   "execution_count": 5,
   "metadata": {},
   "outputs": [
    {
     "name": "stdout",
     "output_type": "stream",
     "text": [
      "[0 5]\n",
      "[5 0]\n",
      "0\n",
      "90.0\n"
     ]
    }
   ],
   "source": [
    "a = death_2021[0]\n",
    "b = death_2021[-1]\n",
    "\n",
    "# 각이 90이 나오는지 확인하는 용도\n",
    "a = np.array([0, 5])\n",
    "b = np.array([5, 0])\n",
    "\n",
    "print(a)\n",
    "print(b)\n",
    "\n",
    "print(np.dot(a,b))\n",
    "# print(107*149+90*120)\n",
    "\n",
    "dot_prod = np.dot(a, b)\n",
    "a_norm = np.sqrt(np.sum(a**2))\n",
    "b_norm = np.sqrt(np.sum(b**2))\n",
    "\n",
    "rad_angle = np.arccos(dot_prod/(a_norm * b_norm))\n",
    "print(np.rad2deg(rad_angle))"
   ]
  },
  {
   "cell_type": "code",
   "execution_count": 6,
   "metadata": {},
   "outputs": [
    {
     "name": "stdout",
     "output_type": "stream",
     "text": [
      "(array([[-2.20692305e-02, -2.86693290e-02, -1.52782099e-02, ...,\n",
      "        -1.70295285e-02, -1.77496374e-02, -2.04245636e-02],\n",
      "       [-1.03132722e-02, -1.24097637e-02,  1.26816152e-02, ...,\n",
      "         5.75382650e-03, -3.06270177e-03,  2.64024721e-03],\n",
      "       [-1.33309493e-02, -2.05791386e-03,  1.46215653e-02, ...,\n",
      "         2.82316376e-02, -1.05710256e-02,  4.50475083e-03],\n",
      "       ...,\n",
      "       [-1.34228236e-02,  1.66918459e-02,  8.45125584e-03, ...,\n",
      "         9.98226069e-01, -2.98478114e-04, -2.39963780e-04],\n",
      "       [-1.48754085e-02,  1.10892193e-02,  9.15315112e-03, ...,\n",
      "        -2.77586951e-04,  9.99048176e-01, -4.85348546e-04],\n",
      "       [-1.79465847e-02,  3.47193014e-02, -1.60444566e-02, ...,\n",
      "        -1.78609411e-04, -4.96539108e-04,  9.96810487e-01]]), array([679.44804626,  31.68664549,   8.42923506,   3.31568665,\n",
      "         2.0951808 ,   1.42890475,   1.33429837,   0.79601659]), array([[-4.94227407e-02, -3.86187473e-02, -1.33215105e-02,\n",
      "        -8.29573747e-02, -3.53521606e-02, -1.80040147e-02,\n",
      "        -2.42208703e-02, -9.93401241e-01],\n",
      "       [ 1.96054408e-01,  1.58186275e-01,  5.51078394e-02,\n",
      "         8.28982977e-01,  4.00406549e-01,  1.82415948e-01,\n",
      "         2.02355028e-01, -1.08358576e-01],\n",
      "       [ 7.54701212e-01,  5.54260382e-01,  1.51768533e-01,\n",
      "        -2.74873280e-01,  3.86933366e-02, -3.50009119e-02,\n",
      "        -1.43722443e-01, -3.54136036e-02],\n",
      "       [-1.08874377e-01, -1.19435552e-01, -7.15193444e-02,\n",
      "        -1.50660825e-01,  7.62200418e-01, -7.36370072e-02,\n",
      "        -5.99617732e-01,  1.24301105e-02],\n",
      "       [ 2.03251418e-02, -3.31835853e-02, -1.73108344e-03,\n",
      "         1.31029603e-01, -3.34574570e-01,  7.54559268e-01,\n",
      "        -5.47734661e-01,  9.45862525e-04],\n",
      "       [ 1.56325375e-01,  8.06796942e-02, -9.15883485e-01,\n",
      "         1.74122657e-01, -1.62438777e-01, -2.20021638e-01,\n",
      "        -1.58416598e-01,  4.58262141e-04],\n",
      "       [-1.88361417e-02, -1.71860532e-02,  3.59232404e-01,\n",
      "         4.00189506e-01, -3.43001666e-01, -5.84540858e-01,\n",
      "        -5.00808842e-01, -1.62028516e-03],\n",
      "       [ 5.93706138e-01, -8.02564981e-01,  2.72668991e-02,\n",
      "         3.49228015e-03, -1.23584968e-03, -1.71924525e-02,\n",
      "         4.84732232e-02,  1.78862759e-04]])) 3\n"
     ]
    }
   ],
   "source": [
    "# SVD(Singular Value Decomposition) => 소인수분해 기법\n",
    "# PCA(Principal Component Analysis) => demension reduction(차원 축소) 기법 중 하나\n",
    "\n",
    "url = 'https://archive.ics.uci.edu/ml/machine-learning-databases/abalone/abalone.data'\n",
    "\n",
    "np_data = pd.read_csv(url, header=None).to_numpy()\n",
    "np_data = np_data[:,1:].astype(np.float64)\n",
    "\n",
    "# print(np_data)\n",
    "\n",
    "# SVD\n",
    "# 소인수분해 ex> 24 = 2 * 3 * 4\n",
    "x = np.linalg.svd(np_data)\n",
    "print(x, len(x))\n",
    "\n",
    "\n",
    "# _, axe = plt.subplots()\n",
    "# axe.scatter(np_data[:,0], np_data[:, 1])"
   ]
  }
 ],
 "metadata": {
  "kernelspec": {
   "display_name": "Python 3.10.10 64-bit",
   "language": "python",
   "name": "python3"
  },
  "language_info": {
   "codemirror_mode": {
    "name": "ipython",
    "version": 3
   },
   "file_extension": ".py",
   "mimetype": "text/x-python",
   "name": "python",
   "nbconvert_exporter": "python",
   "pygments_lexer": "ipython3",
   "version": "3.11.1"
  },
  "orig_nbformat": 4,
  "vscode": {
   "interpreter": {
    "hash": "c19fa61d258bb2b35aae2ada233c33e2817c1ce895aa48acba720c6bf7cbe3cb"
   }
  }
 },
 "nbformat": 4,
 "nbformat_minor": 2
}
