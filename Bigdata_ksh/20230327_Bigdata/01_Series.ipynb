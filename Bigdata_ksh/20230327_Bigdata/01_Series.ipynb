{
 "cells": [
  {
   "cell_type": "code",
   "execution_count": 2,
   "metadata": {},
   "outputs": [
    {
     "name": "stdout",
     "output_type": "stream",
     "text": [
      "       0    1    2    3               4\n",
      "0    5.1  3.5  1.4  0.2     Iris-setosa\n",
      "1    4.9  3.0  1.4  0.2     Iris-setosa\n",
      "2    4.7  3.2  1.3  0.2     Iris-setosa\n",
      "3    4.6  3.1  1.5  0.2     Iris-setosa\n",
      "4    5.0  3.6  1.4  0.2     Iris-setosa\n",
      "..   ...  ...  ...  ...             ...\n",
      "145  6.7  3.0  5.2  2.3  Iris-virginica\n",
      "146  6.3  2.5  5.0  1.9  Iris-virginica\n",
      "147  6.5  3.0  5.2  2.0  Iris-virginica\n",
      "148  6.2  3.4  5.4  2.3  Iris-virginica\n",
      "149  5.9  3.0  5.1  1.8  Iris-virginica\n",
      "\n",
      "[150 rows x 5 columns]\n",
      "<class 'pandas.core.frame.DataFrame'>\n"
     ]
    }
   ],
   "source": [
    "import numpy as np\n",
    "import pandas as pd\n",
    "\n",
    "url = 'https://archive.ics.uci.edu/ml/machine-learning-databases/iris/iris.data'\n",
    "iris_df = pd.read_csv(url, encoding='cp949', header=None)\n",
    "print(iris_df)\n",
    "print(type(iris_df))"
   ]
  },
  {
   "cell_type": "code",
   "execution_count": 3,
   "metadata": {},
   "outputs": [
    {
     "name": "stdout",
     "output_type": "stream",
     "text": [
      "0    10\n",
      "1    20\n",
      "2    30\n",
      "3    40\n",
      "dtype: int32\n",
      "x    10\n",
      "y    20\n",
      "z    30\n",
      "1    40\n",
      "Name: new_name, dtype: int32\n"
     ]
    }
   ],
   "source": [
    "s1 = pd.Series([1,2,3,4,5,'a','b','c'])\n",
    "s2 = pd.Series(np.array([10,20,30,40]))\n",
    "s2_idx = pd.Series(np.array([10,20,30,40]), index=['a','b','c','d'], name='s2_idx')\n",
    "\n",
    "# print(s1)\n",
    "print(s2)\n",
    "\n",
    "s2.index = list('xyz1')\n",
    "s2.name = 'new_name'\n",
    "print(s2)\n",
    "\n",
    "# print(s2.astype(np.float64))\n",
    "# print(s2.index) # Series의 property : index  - range index를 표시\n",
    "# print(s2_idx)\n",
    "# print(s2_idx.index)\n",
    "\n",
    "# 인덱스 활용하기\n",
    "# for i in s2_idx.index :\n",
    "#   print(i)\n",
    "\n",
    "\n"
   ]
  },
  {
   "cell_type": "code",
   "execution_count": 4,
   "metadata": {},
   "outputs": [
    {
     "name": "stdout",
     "output_type": "stream",
     "text": [
      "0    10\n",
      "1    11\n",
      "2    12\n",
      "3    13\n",
      "4    14\n",
      "5    15\n",
      "6    16\n",
      "7    17\n",
      "8    18\n",
      "9    19\n",
      "dtype: int32\n",
      "13\n",
      "5    15\n",
      "6    16\n",
      "7    17\n",
      "8    18\n",
      "9    19\n",
      "dtype: int32\n",
      "5    15\n",
      "6    16\n",
      "7    17\n",
      "8    18\n",
      "9    19\n",
      "dtype: int32\n"
     ]
    }
   ],
   "source": [
    "s3 = pd.Series(np.arange(10,20))\n",
    "print(s3)\n",
    "\n",
    "# Series도 인덱싱, 인덱스 슬라이싱 적용 가능\n",
    "print(s3[3])\n",
    "# print(s3[3:7])\n",
    "# print(s3[3:7:2])\n",
    "# print(s3[[8, 3, 4, 6]])\n",
    "\n",
    "# 필터도 적용된다!\n",
    "print(s3[s3>14])\n",
    "\n",
    "filter1 = s3>14\n",
    "print(s3[filter1])\n",
    "\n",
    "# Series 적용가능 범위\n",
    "# list of index\n",
    "# bool list, filter"
   ]
  },
  {
   "cell_type": "code",
   "execution_count": 5,
   "metadata": {},
   "outputs": [
    {
     "name": "stdout",
     "output_type": "stream",
     "text": [
      "0    10\n",
      "1    11\n",
      "2    12\n",
      "3    13\n",
      "4    14\n",
      "5    15\n",
      "6    16\n",
      "7    17\n",
      "8    18\n",
      "9    19\n",
      "dtype: int32\n",
      "[10 11 12 13 14 15 16 17 18 19]\n",
      "[10 11 12 13 14 15 16 17 18 19]\n"
     ]
    }
   ],
   "source": [
    "print(s3)\n",
    "print(s3.to_numpy())  # method\n",
    "print(s3.values)  # property"
   ]
  },
  {
   "cell_type": "code",
   "execution_count": 6,
   "metadata": {},
   "outputs": [
    {
     "name": "stdout",
     "output_type": "stream",
     "text": [
      "e    20\n",
      "d    21\n",
      "c    22\n",
      "b    23\n",
      "a    24\n",
      "dtype: int32\n"
     ]
    }
   ],
   "source": [
    "s4 = pd.Series(np.arange(20,25), index=list('edcba'))\n",
    "# print(s4)\n",
    "# print(s4['e'])\n",
    "# print(s4['e':'b':2])\n",
    "# print(s4.sort_index())\n",
    "s5 = s4.sort_index()\n",
    "print(s5.sort_values())"
   ]
  },
  {
   "cell_type": "code",
   "execution_count": 7,
   "metadata": {},
   "outputs": [
    {
     "name": "stdout",
     "output_type": "stream",
     "text": [
      "a    24\n",
      "b    23\n",
      "c    22\n",
      "d    21\n",
      "e    20\n",
      "dtype: int32\n",
      "22.0\n",
      "22.0\n",
      "<class 'pandas.core.series.Series'>\n",
      "Index(['count', 'mean', 'std', 'min', '25%', '50%', '75%', 'max'], dtype='object')\n"
     ]
    }
   ],
   "source": [
    "print(s5)\n",
    "# print(s5*5)\n",
    "print(np.mean(s5))\n",
    "print(s5.mean())\n",
    "s5_descr = s5.describe()\n",
    "print(type(s5_descr))\n",
    "print(s5_descr.index)"
   ]
  },
  {
   "cell_type": "code",
   "execution_count": 8,
   "metadata": {},
   "outputs": [
    {
     "name": "stdout",
     "output_type": "stream",
     "text": [
      "e    20\n",
      "d    21\n",
      "c    22\n",
      "b    23\n",
      "a    24\n",
      "dtype: int32\n",
      "**************\n",
      "a    120\n",
      "b    115\n",
      "c    110\n",
      "d    105\n",
      "e    100\n",
      "dtype: int32\n",
      "**************\n",
      "0     20\n",
      "1     21\n",
      "2     22\n",
      "3     23\n",
      "4     24\n",
      "5    120\n",
      "6    115\n",
      "7    110\n",
      "8    105\n",
      "9    100\n",
      "dtype: int32\n"
     ]
    }
   ],
   "source": [
    "print(s4)\n",
    "print('**************')\n",
    "print(s5*5)\n",
    "print('**************')\n",
    "s6 = pd.concat((s4,s5*5),  ignore_index=True)\n",
    "print(s6)"
   ]
  },
  {
   "cell_type": "code",
   "execution_count": 16,
   "metadata": {},
   "outputs": [
    {
     "name": "stdout",
     "output_type": "stream",
     "text": [
      "0    1.0\n",
      "1    2.0\n",
      "2    3.0\n",
      "3    4.0\n",
      "4    NaN\n",
      "dtype: float64\n",
      "0    1.0\n",
      "1    2.0\n",
      "2    3.0\n",
      "3    4.0\n",
      "4    0.0\n",
      "dtype: float64\n",
      "0     1.0\n",
      "1    12.0\n",
      "2     3.0\n",
      "3     4.0\n",
      "4     NaN\n",
      "dtype: float64\n"
     ]
    }
   ],
   "source": [
    "# 결측치 대응\n",
    "\n",
    "s7 = pd.Series([1,2,3,4,np.NaN])\n",
    "print(s7)\n",
    "\n",
    "# print(s7.isna())\n",
    "# print(s7.dropna())\n",
    "# print(s7.fillna(10.0))\n",
    "print(s7.replace(np.NaN, 0.0))\n",
    "print(s7.replace(2.0, 12.0))"
   ]
  }
 ],
 "metadata": {
  "kernelspec": {
   "display_name": "Python 3.10.10 64-bit",
   "language": "python",
   "name": "python3"
  },
  "language_info": {
   "codemirror_mode": {
    "name": "ipython",
    "version": 3
   },
   "file_extension": ".py",
   "mimetype": "text/x-python",
   "name": "python",
   "nbconvert_exporter": "python",
   "pygments_lexer": "ipython3",
   "version": "3.10.10"
  },
  "orig_nbformat": 4,
  "vscode": {
   "interpreter": {
    "hash": "c19fa61d258bb2b35aae2ada233c33e2817c1ce895aa48acba720c6bf7cbe3cb"
   }
  }
 },
 "nbformat": 4,
 "nbformat_minor": 2
}
