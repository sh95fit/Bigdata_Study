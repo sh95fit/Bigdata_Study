{
 "cells": [
  {
   "cell_type": "code",
   "execution_count": 2,
   "metadata": {},
   "outputs": [
    {
     "name": "stdout",
     "output_type": "stream",
     "text": [
      "       0    1    2    3               4\n",
      "0    5.1  3.5  1.4  0.2     Iris-setosa\n",
      "1    4.9  3.0  1.4  0.2     Iris-setosa\n",
      "2    4.7  3.2  1.3  0.2     Iris-setosa\n",
      "3    4.6  3.1  1.5  0.2     Iris-setosa\n",
      "4    5.0  3.6  1.4  0.2     Iris-setosa\n",
      "..   ...  ...  ...  ...             ...\n",
      "145  6.7  3.0  5.2  2.3  Iris-virginica\n",
      "146  6.3  2.5  5.0  1.9  Iris-virginica\n",
      "147  6.5  3.0  5.2  2.0  Iris-virginica\n",
      "148  6.2  3.4  5.4  2.3  Iris-virginica\n",
      "149  5.9  3.0  5.1  1.8  Iris-virginica\n",
      "\n",
      "[150 rows x 5 columns]\n",
      "<class 'pandas.core.frame.DataFrame'>\n"
     ]
    }
   ],
   "source": [
    "import numpy as np\n",
    "import pandas as pd\n",
    "\n",
    "url = 'https://archive.ics.uci.edu/ml/machine-learning-databases/iris/iris.data'\n",
    "iris_df = pd.read_csv(url, encoding='cp949', header=None)\n",
    "print(iris_df)\n",
    "print(type(iris_df))"
   ]
  },
  {
   "cell_type": "code",
   "execution_count": 8,
   "metadata": {},
   "outputs": [
    {
     "name": "stdout",
     "output_type": "stream",
     "text": [
      "        a     b\n",
      "0    10.0   NaN\n",
      "1    11.0   NaN\n",
      "2    12.0   NaN\n",
      "3    13.0   NaN\n",
      "4    14.0   NaN\n",
      "100   NaN  20.0\n",
      "101   NaN  21.0\n",
      "102   NaN  22.0\n",
      "103   NaN  23.0\n",
      "104   NaN  24.0\n"
     ]
    }
   ],
   "source": [
    "s1 = pd.Series(np.arange(10,15), index=np.arange(5))\n",
    "s2 = pd.Series(np.arange(20,25), index=np.arange(100,105))\n",
    "df1 = pd.DataFrame({'a':s1, 'b':s2})\n",
    "print(df1)"
   ]
  },
  {
   "cell_type": "code",
   "execution_count": 12,
   "metadata": {},
   "outputs": [
    {
     "name": "stdout",
     "output_type": "stream",
     "text": [
      "Int64Index([0, 1, 2, 3, 4, 100, 101, 102, 103, 104], dtype='int64')\n",
      "Index(['col_A', 'col_B'], dtype='object')\n",
      "     col_A  col_B\n",
      "0     10.0    NaN\n",
      "1     11.0    NaN\n",
      "2     12.0    NaN\n",
      "3     13.0    NaN\n",
      "4     14.0    NaN\n",
      "100    NaN   20.0\n",
      "101    NaN   21.0\n",
      "102    NaN   22.0\n",
      "103    NaN   23.0\n",
      "104    NaN   24.0\n"
     ]
    }
   ],
   "source": [
    "print(df1.index)\n",
    "print(df1.columns)\n",
    "\n",
    "df1.columns = ['col_A', 'col_B']\n",
    "print(df1)"
   ]
  },
  {
   "cell_type": "code",
   "execution_count": 25,
   "metadata": {},
   "outputs": [
    {
     "name": "stdout",
     "output_type": "stream",
     "text": [
      "2      12.0\n",
      "3      13.0\n",
      "4      14.0\n",
      "100     NaN\n",
      "101     NaN\n",
      "102     NaN\n",
      "Name: col_A, dtype: float64\n",
      "     col_A  col_B\n",
      "2     12.0    NaN\n",
      "3     13.0    NaN\n",
      "4     14.0    NaN\n",
      "100    NaN   20.0\n",
      "101    NaN   21.0\n",
      "102    NaN   22.0\n",
      "103    NaN   23.0\n",
      "104    NaN   24.0\n"
     ]
    }
   ],
   "source": [
    "# print(df1)\n",
    "\n",
    "# for i in df1 :\n",
    "#   print(i)\n",
    "\n",
    "# print(df1['col_A'])\n",
    "# print(df1['col_A'][0])\n",
    "\n",
    "# print(df1[2:102])\n",
    "\n",
    "# print(df1.loc[:,'col_A'])\n",
    "print(df1.loc[2:102, 'col_A'])\n",
    "print(df1.iloc[2:102, 0:])"
   ]
  }
 ],
 "metadata": {
  "kernelspec": {
   "display_name": "Python 3.10.10 64-bit",
   "language": "python",
   "name": "python3"
  },
  "language_info": {
   "codemirror_mode": {
    "name": "ipython",
    "version": 3
   },
   "file_extension": ".py",
   "mimetype": "text/x-python",
   "name": "python",
   "nbconvert_exporter": "python",
   "pygments_lexer": "ipython3",
   "version": "3.10.10"
  },
  "orig_nbformat": 4,
  "vscode": {
   "interpreter": {
    "hash": "c19fa61d258bb2b35aae2ada233c33e2817c1ce895aa48acba720c6bf7cbe3cb"
   }
  }
 },
 "nbformat": 4,
 "nbformat_minor": 2
}
