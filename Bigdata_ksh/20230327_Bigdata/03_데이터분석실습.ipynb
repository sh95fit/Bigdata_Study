{
 "cells": [
  {
   "cell_type": "code",
   "execution_count": 36,
   "metadata": {},
   "outputs": [
    {
     "name": "stdout",
     "output_type": "stream",
     "text": [
      "       건강증진센터명 건강증진센터구분               소재지도로명주소                   소재지지번주소  \\\n",
      "0     맞춤형건강클리닉     건강증진      인천광역시 연수구 함박뫼로 13       인천광역시 연수구 청학동 465-4   \n",
      "1     정신건강복지센터     정신보건   경상북도 청송군 청송읍 의료원길 19  경상북도 청송군 청송읍 금곡리 1056-54   \n",
      "2   중구정신건강복지센터     정신보건   인천광역시 중구 참외전로72번길 21           인천광역시 중구 전동 2-1   \n",
      "3  의령군정신건강복지센터     정신보건  경상남도 의령군 의령읍 의병로8길 16      경상남도 의령군 의령읍 서동리 534   \n",
      "4  고성군정신건강복지센터     정신보건     강원도 고성군 간성읍 수성로 30       강원도 고성군 간성읍 신안리 178   \n",
      "\n",
      "          위도          경도                                           건강증진업무내용  \\\n",
      "0  37.419132  126.671161          치매검진, 당뇨.고혈압 상담 및 검사, 뇌경색.심뇌혈관질환, 정신건강 상담   \n",
      "1  36.431132  129.051804          중증정신질환자 관리+정신건강증진사업+아동청소년 정신건강증진사업+자살예방사업   \n",
      "2  37.477217  126.629108                        정신건강사업+생명피움사업+종합자가검진 및 상담제공   \n",
      "3  35.317820  128.254769  정신질환 예방ㆍ상담ㆍ치료연계+정신질환자 주간재활프로그램 운영+자살예방 및 정신건강증...   \n",
      "4  38.377617  128.472194                                        자살예방+정신건강증진   \n",
      "\n",
      "  운영시작시각 운영종료시각     휴무일정보  ...  영양사수            기타인력현황  \\\n",
      "0  09:00  18:00  일요일, 공휴일  ...   0.0                 0   \n",
      "1  09:00  17:00   토+일+공휴일  ...   0.0                 0   \n",
      "2  09:00  18:00   토+일+공휴일  ...   0.0  작업치료사(2)+행정요원(1)   \n",
      "3  09:00  18:00   토+일+공휴일  ...   0.0                 0   \n",
      "4  09:00  18:00       공휴일  ...   0.0            보건직(1)   \n",
      "\n",
      "                           기타이용안내      운영기관전화번호           운영기관명      관리기관전화번호  \\\n",
      "0  검사전날 오후8시 전까지 식사마치고 검사당일 아침 금식  032-749-8104        맞춤형건강클리닉  032-749-8122   \n",
      "1                             NaN  054-870-7362  경상북도 청송군 보건의료원  054-870-7361   \n",
      "2      전화 예약 후 내소 / 전화 및 온라인상담 가능  032-760-6090   인하대학교의과대학부속병원  032-760-6062   \n",
      "3         정신건강위기상담전화 운영 1577-0199  055-570-4091          의령군보건소  055-570-4022   \n",
      "4                             NaN  033-680-4001      강원도 고성군보건소  033-680-3541   \n",
      "\n",
      "            관리기관명     데이터기준일자   제공기관코드      제공기관명  \n",
      "0   인천광역시 연수구 보건소  2021-10-25  3520000  인천광역시 연수구  \n",
      "1  경상북도 청송군 보건의료원  2022-12-09  5160000   경상북도 청송군  \n",
      "2     인천광역시 중구보건소  2022-11-29  3490000   인천광역시 중구  \n",
      "3       경상남도 의령군청  2022-12-05  5390000   경상남도 의령군  \n",
      "4      강원도 고성군보건소  2022-12-01  4340000    강원도 고성군  \n",
      "\n",
      "[5 rows x 24 columns]\n"
     ]
    }
   ],
   "source": [
    "import numpy as np\n",
    "import pandas as pd\n",
    "\n",
    "fn = '전국건강증진센터표준데이터.csv'\n",
    "pd_data = pd.read_csv(fn, encoding='cp949')\n",
    "print(pd_data.head())\n",
    "# print(type(df))"
   ]
  },
  {
   "cell_type": "code",
   "execution_count": 37,
   "metadata": {},
   "outputs": [
    {
     "name": "stdout",
     "output_type": "stream",
     "text": [
      "0 건강증진센터명\n",
      "1 건강증진센터구분\n",
      "2 소재지도로명주소\n",
      "3 소재지지번주소\n",
      "4 위도\n",
      "5 경도\n",
      "6 건강증진업무내용\n",
      "7 운영시작시각\n",
      "8 운영종료시각\n",
      "9 휴무일정보\n",
      "10 건물면적\n",
      "11 의사수\n",
      "12 간호사수\n",
      "13 사회복지사수\n",
      "14 영양사수\n",
      "15 기타인력현황\n",
      "16 기타이용안내\n",
      "17 운영기관전화번호\n",
      "18 운영기관명\n",
      "19 관리기관전화번호\n",
      "20 관리기관명\n",
      "21 데이터기준일자\n",
      "22 제공기관코드\n",
      "23 제공기관명\n"
     ]
    }
   ],
   "source": [
    "# print(pd_data.columns)\n",
    "\n",
    "for i, n in enumerate(pd_data.columns) :\n",
    "  print(i, n)"
   ]
  },
  {
   "cell_type": "code",
   "execution_count": 38,
   "metadata": {},
   "outputs": [
    {
     "name": "stdout",
     "output_type": "stream",
     "text": [
      "     의사수  간호사수\n",
      "0      0     5\n",
      "1      0     4\n",
      "2      1     5\n",
      "3      0     6\n",
      "4      0     4\n",
      "..   ...   ...\n",
      "290    0     0\n",
      "291    1     1\n",
      "292    1     0\n",
      "293    0     3\n",
      "294    1    13\n",
      "\n",
      "[295 rows x 2 columns]\n"
     ]
    }
   ],
   "source": [
    "# pd_data[['의사수','간호사수']]\n",
    "\n",
    "# pd_data.loc[:, ['의사수', '간호사수']]\n",
    "\n",
    "# pd_data.loc[:,'의사수':'간호사수']\n",
    "\n",
    "# pd_data.iloc[:,[11,12]]\n",
    "\n",
    "df1 = pd_data.iloc[:,11:13]\n",
    "\n",
    "print(df1)"
   ]
  },
  {
   "cell_type": "code",
   "execution_count": 47,
   "metadata": {},
   "outputs": [
    {
     "name": "stdout",
     "output_type": "stream",
     "text": [
      "0       5\n",
      "1       4\n",
      "2       6\n",
      "3       6\n",
      "4       4\n",
      "       ..\n",
      "290     0\n",
      "291     2\n",
      "292     1\n",
      "293     3\n",
      "294    14\n",
      "Length: 295, dtype: int64\n"
     ]
    }
   ],
   "source": [
    "# print(df1.dtypes)\n",
    "\n",
    "df1_sum = df1['의사수'] + df1['간호사수']\n",
    "\n",
    "print(df1_sum)"
   ]
  },
  {
   "cell_type": "code",
   "execution_count": 49,
   "metadata": {},
   "outputs": [
    {
     "name": "stdout",
     "output_type": "stream",
     "text": [
      "count    295.000000\n",
      "mean       3.433898\n",
      "std        3.401911\n",
      "min        0.000000\n",
      "25%        1.000000\n",
      "50%        2.000000\n",
      "75%        5.000000\n",
      "max       18.000000\n",
      "dtype: float64\n"
     ]
    }
   ],
   "source": [
    "print(df1_sum.describe())"
   ]
  },
  {
   "cell_type": "code",
   "execution_count": 55,
   "metadata": {},
   "outputs": [
    {
     "name": "stdout",
     "output_type": "stream",
     "text": [
      "0     43\n",
      "1     53\n",
      "2     54\n",
      "3     36\n",
      "4     31\n",
      "5     19\n",
      "6     19\n",
      "7     10\n",
      "8      7\n",
      "9      3\n",
      "10     6\n",
      "11     1\n",
      "12     2\n",
      "13     3\n",
      "14     3\n",
      "16     4\n",
      "18     1\n",
      "dtype: int64\n"
     ]
    },
    {
     "data": {
      "text/plain": [
       "[<matplotlib.lines.Line2D at 0x1c416256f20>]"
      ]
     },
     "execution_count": 55,
     "metadata": {},
     "output_type": "execute_result"
    },
    {
     "data": {
      "image/png": "[encoded data removed]",
      "text/plain": [
       "<Figure size 640x480 with 1 Axes>"
      ]
     },
     "metadata": {},
     "output_type": "display_data"
    }
   ],
   "source": [
    "# print(df1_sum.value_counts())\n",
    "# 인덱스에 value가 표시, 값 자리에 counts 표시\n",
    "cnt = df1_sum.value_counts()\n",
    "print(cnt.sort_index())\n",
    "\n",
    "\n",
    "import matplotlib.pyplot as plt\n",
    "_, axe = plt.subplots()\n",
    "axe.plot(cnt.sort_index())"
   ]
  },
  {
   "cell_type": "code",
   "execution_count": 62,
   "metadata": {},
   "outputs": [
    {
     "name": "stdout",
     "output_type": "stream",
     "text": [
      "     사회복지사수  영양사수\n",
      "0         0   0.0\n",
      "1         1   0.0\n",
      "2        12   0.0\n",
      "3         1   0.0\n",
      "4         1   0.0\n",
      "..      ...   ...\n",
      "290       0   0.0\n",
      "291       0   0.0\n",
      "292       7   0.0\n",
      "293       0   1.0\n",
      "294       2   NaN\n",
      "\n",
      "[295 rows x 2 columns]\n"
     ]
    }
   ],
   "source": [
    "df2 = pd_data[['사회복지사수','영양사수']]\n",
    "\n",
    "df2 = pd_data.iloc[:,13:15]\n",
    "\n",
    "df2 = pd_data.loc[:,['사회복지사수','영양사수']]\n",
    "\n",
    "print(df2)"
   ]
  },
  {
   "cell_type": "code",
   "execution_count": 65,
   "metadata": {},
   "outputs": [
    {
     "name": "stdout",
     "output_type": "stream",
     "text": [
      "0       0.0\n",
      "1       1.0\n",
      "2      12.0\n",
      "3       1.0\n",
      "4       1.0\n",
      "       ... \n",
      "290     0.0\n",
      "291     0.0\n",
      "292     7.0\n",
      "293     1.0\n",
      "294     NaN\n",
      "Length: 295, dtype: float64\n"
     ]
    }
   ],
   "source": [
    "df2_sum = df2['사회복지사수'] + df2['영양사수']\n",
    "\n",
    "print(df2_sum)"
   ]
  },
  {
   "cell_type": "code",
   "execution_count": 67,
   "metadata": {},
   "outputs": [
    {
     "name": "stdout",
     "output_type": "stream",
     "text": [
      "count    245.000000\n",
      "mean       4.795918\n",
      "std        6.176302\n",
      "min        0.000000\n",
      "25%        1.000000\n",
      "50%        2.000000\n",
      "75%        7.000000\n",
      "max       42.000000\n",
      "dtype: float64\n"
     ]
    }
   ],
   "source": [
    "print(df2_sum.describe())"
   ]
  },
  {
   "cell_type": "code",
   "execution_count": 74,
   "metadata": {},
   "outputs": [
    {
     "name": "stdout",
     "output_type": "stream",
     "text": [
      "0.0     47\n",
      "1.0     64\n",
      "2.0     25\n",
      "3.0     11\n",
      "4.0     11\n",
      "5.0      6\n",
      "6.0     14\n",
      "7.0      7\n",
      "8.0      9\n",
      "9.0      5\n",
      "10.0     6\n",
      "11.0     5\n",
      "12.0     8\n",
      "13.0     6\n",
      "14.0     3\n",
      "15.0     3\n",
      "16.0     2\n",
      "17.0     2\n",
      "18.0     2\n",
      "19.0     1\n",
      "20.0     2\n",
      "21.0     2\n",
      "23.0     1\n",
      "27.0     1\n",
      "33.0     1\n",
      "42.0     1\n",
      "dtype: int64\n"
     ]
    },
    {
     "data": {
      "text/plain": [
       "[<matplotlib.lines.Line2D at 0x1c417d8dba0>]"
      ]
     },
     "execution_count": 74,
     "metadata": {},
     "output_type": "execute_result"
    },
    {
     "data": {
      "image/png": "[encoded data removed]",
      "text/plain": [
       "<Figure size 640x480 with 1 Axes>"
      ]
     },
     "metadata": {},
     "output_type": "display_data"
    }
   ],
   "source": [
    "df2_count = df2_sum.value_counts()\n",
    "df2_count = df2_count.sort_index()\n",
    "print(df2_count)\n",
    "\n",
    "_, axe = plt.subplots()\n",
    "axe.plot\n",
    "axe.plot(df2_count)"
   ]
  },
  {
   "cell_type": "code",
   "execution_count": 91,
   "metadata": {},
   "outputs": [
    {
     "name": "stdout",
     "output_type": "stream",
     "text": [
      "56    42.0\n",
      "dtype: float64\n",
      "56    부천시정신건강복지센터\n",
      "Name: 건강증진센터명, dtype: object\n",
      "        건강증진센터명 건강증진센터구분         소재지도로명주소            소재지지번주소         위도  \\\n",
      "56  부천시정신건강복지센터     정신보건  경기도 부천시 성오로 172  경기도 부천시 오정동 129번지  37.528349   \n",
      "\n",
      "            경도                                 건강증진업무내용 운영시작시각 운영종료시각  \\\n",
      "56  126.796026  중증정신질환자관리사업+아동청소년정신보건사업+자살예방사업+정신건강증진사업  09:00  18:00   \n",
      "\n",
      "          휴무일정보  ...  영양사수  기타인력현황  기타이용안내      운영기관전화번호       운영기관명  \\\n",
      "56  토요일+일요일+공휴일  ...   0.0       5     NaN  032-654-4024  순천향대학교부천병원   \n",
      "\n",
      "        관리기관전화번호   관리기관명     데이터기준일자   제공기관코드    제공기관명  \n",
      "56  032-625-4131  부천시보건소  2022-05-31  3860000  경기도 부천시  \n",
      "\n",
      "[1 rows x 24 columns]\n"
     ]
    }
   ],
   "source": [
    "filter1 = df2_sum == 42\n",
    "\n",
    "print(df2_sum[filter1])\n",
    "\n",
    "print(pd_data.iloc[df2_sum[filter1].index, 0])\n",
    "print(pd_data[filter1])"
   ]
  }
 ],
 "metadata": {
  "kernelspec": {
   "display_name": "Python 3.10.10 64-bit",
   "language": "python",
   "name": "python3"
  },
  "language_info": {
   "codemirror_mode": {
    "name": "ipython",
    "version": 3
   },
   "file_extension": ".py",
   "mimetype": "text/x-python",
   "name": "python",
   "nbconvert_exporter": "python",
   "pygments_lexer": "ipython3",
   "version": "3.10.10"
  },
  "orig_nbformat": 4,
  "vscode": {
   "interpreter": {
    "hash": "c19fa61d258bb2b35aae2ada233c33e2817c1ce895aa48acba720c6bf7cbe3cb"
   }
  }
 },
 "nbformat": 4,
 "nbformat_minor": 2
}
