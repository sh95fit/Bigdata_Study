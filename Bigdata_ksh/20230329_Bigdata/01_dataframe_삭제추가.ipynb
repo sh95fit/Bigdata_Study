{
 "cells": [
  {
   "cell_type": "code",
   "execution_count": 17,
   "metadata": {},
   "outputs": [
    {
     "name": "stdout",
     "output_type": "stream",
     "text": [
      "     A    B    C    D    E    F\n",
      "0  166  192  198  117  183  157\n",
      "1  186  197  196  147  173  132\n",
      "2  146  196  125  183  178  136\n",
      "3  196  180  168  149  155  167\n",
      "4  102  184  139  166  184  147\n"
     ]
    }
   ],
   "source": [
    "import numpy as np\n",
    "import pandas as pd\n",
    "import matplotlib.pyplot as plt\n",
    "\n",
    "np.random.seed(123)\n",
    "df1 = pd.DataFrame(np.random.randint(100,200,30).reshape(5,6))\n",
    "df1.columns = list('ABCDEF')\n",
    "\n",
    "print(df1)"
   ]
  },
  {
   "cell_type": "code",
   "execution_count": 18,
   "metadata": {},
   "outputs": [
    {
     "name": "stdout",
     "output_type": "stream",
     "text": [
      "RangeIndex(start=0, stop=5, step=1)\n",
      "Index(['A', 'B', 'C', 'D', 'E', 'F'], dtype='object')\n",
      "A    int32\n",
      "B    int32\n",
      "C    int32\n",
      "D    int32\n",
      "E    int32\n",
      "F    int32\n",
      "dtype: object\n",
      "                A           B           C           D           E           F\n",
      "count    5.000000    5.000000    5.000000    5.000000    5.000000    5.000000\n",
      "mean   159.200000  189.800000  165.200000  152.400000  174.600000  147.800000\n",
      "std     37.298794    7.496666   32.919599   24.572342   11.802542   14.515509\n",
      "min    102.000000  180.000000  125.000000  117.000000  155.000000  132.000000\n",
      "25%    146.000000  184.000000  139.000000  147.000000  173.000000  136.000000\n",
      "50%    166.000000  192.000000  168.000000  149.000000  178.000000  147.000000\n",
      "75%    186.000000  196.000000  196.000000  166.000000  183.000000  157.000000\n",
      "max    196.000000  197.000000  198.000000  183.000000  184.000000  167.000000\n"
     ]
    }
   ],
   "source": [
    "print(df1.index)\n",
    "print(df1.columns)\n",
    "print(df1.dtypes)\n",
    "print(df1.describe())"
   ]
  },
  {
   "cell_type": "code",
   "execution_count": 19,
   "metadata": {},
   "outputs": [
    {
     "name": "stdout",
     "output_type": "stream",
     "text": [
      "     A    B      C    D    E    F\n",
      "0  166  192  198.0  117  183  157\n",
      "1  186  197  196.0  147  173  132\n",
      "2  146  196    NaN  183  178  136\n",
      "3  196  180  168.0  149  155  167\n",
      "4  102  184  139.0  166  184  147\n",
      "                A           B           C           D           E           F\n",
      "count    5.000000    5.000000    4.000000    5.000000    5.000000    5.000000\n",
      "mean   159.200000  189.800000  175.250000  152.400000  174.600000  147.800000\n",
      "std     37.298794    7.496666   27.777389   24.572342   11.802542   14.515509\n",
      "min    102.000000  180.000000  139.000000  117.000000  155.000000  132.000000\n",
      "25%    146.000000  184.000000  160.750000  147.000000  173.000000  136.000000\n",
      "50%    166.000000  192.000000  182.000000  149.000000  178.000000  147.000000\n",
      "75%    186.000000  196.000000  196.500000  166.000000  183.000000  157.000000\n",
      "max    196.000000  197.000000  198.000000  183.000000  184.000000  167.000000\n"
     ]
    }
   ],
   "source": [
    "df1.loc[2,'C'] = np.NaN\n",
    "\n",
    "print(df1)\n",
    "print(df1.describe()) # NaN이 있는 경우 count 값이 줄어들어 결측치 유무 확인이 가능!"
   ]
  },
  {
   "cell_type": "code",
   "execution_count": 20,
   "metadata": {},
   "outputs": [
    {
     "name": "stdout",
     "output_type": "stream",
     "text": [
      "       A      B      C      D      E      F\n",
      "0  False  False  False  False  False  False\n",
      "1  False  False  False  False  False  False\n",
      "2  False  False   True  False  False  False\n",
      "3  False  False  False  False  False  False\n",
      "4  False  False  False  False  False  False\n",
      "A False\n",
      "B False\n",
      "C True\n",
      "D False\n",
      "E False\n",
      "F False\n"
     ]
    }
   ],
   "source": [
    "print(df1.isna())\n",
    "df1['A'].hasnans  # Series에만 있는 프로퍼티\n",
    "# df1.hasnans # Dataframe에는 적용 불가!\n",
    "\n",
    "for col_name in df1:\n",
    "  print(col_name, df1[col_name].hasnans)"
   ]
  },
  {
   "cell_type": "code",
   "execution_count": 21,
   "metadata": {},
   "outputs": [
    {
     "name": "stdout",
     "output_type": "stream",
     "text": [
      "     A    B      C    D    E    F\n",
      "0  166  192  198.0  117  183  157\n",
      "1  186  197  196.0  147  173  132\n",
      "3  196  180  168.0  149  155  167\n",
      "4  102  184  139.0  166  184  147\n",
      "None\n",
      "     A    B      C    D    E    F\n",
      "0  166  192  198.0  117  183  157\n",
      "1  186  197  196.0  147  173  132\n",
      "3  196  180  168.0  149  155  167\n",
      "4  102  184  139.0  166  184  147\n"
     ]
    }
   ],
   "source": [
    "print(df1.dropna())   # 결측치가 있는 경우 무조건 삭제 처리\n",
    "\n",
    "print(df1.dropna(inplace=True)) # return 값은 None\n",
    "\n",
    "print(df1)  # 원본은 그대로 살아있음!"
   ]
  },
  {
   "cell_type": "code",
   "execution_count": 22,
   "metadata": {},
   "outputs": [],
   "source": [
    "# sorted() --> copy\n",
    "# np.sort() --> inplace"
   ]
  },
  {
   "cell_type": "code",
   "execution_count": 23,
   "metadata": {},
   "outputs": [
    {
     "name": "stdout",
     "output_type": "stream",
     "text": [
      "     A    B      C    D    E    F\n",
      "0  166  192  198.0  117  183  157\n",
      "1  186  197  196.0  147  173  132\n",
      "3  196  180  168.0  149  155  167\n",
      "4  102  184  139.0  166  184  147\n",
      "None\n",
      "     B    D    F\n",
      "0  192  117  157\n",
      "1  197  147  132\n",
      "3  180  149  167\n",
      "4  184  166  147\n"
     ]
    }
   ],
   "source": [
    "print(df1)\n",
    "# print(df1.drop('A', axis=1))\n",
    "# print(df1.drop(3, axis=0))\n",
    "\n",
    "print(df1.drop(['A', 'C', 'E'], axis=1, inplace=True))\n",
    "print(df1)"
   ]
  },
  {
   "cell_type": "code",
   "execution_count": 24,
   "metadata": {},
   "outputs": [
    {
     "name": "stdout",
     "output_type": "stream",
     "text": [
      "     B    D    F\n",
      "0  192  117  157\n",
      "1  197  147  132\n",
      "3  180  149  167\n",
      "4  184  166  147\n",
      "     B    D    F  D+F\n",
      "0  192  117  157  274\n",
      "1  197  147  132  279\n",
      "3  180  149  167  316\n",
      "4  184  166  147  313\n",
      "     D*F    B    D    F  D+F\n",
      "0  18369  192  117  157  274\n",
      "1  19404  197  147  132  279\n",
      "3  24883  180  149  167  316\n",
      "4  24402  184  166  147  313\n"
     ]
    }
   ],
   "source": [
    "print(df1)\n",
    "\n",
    "df1['D+F'] = df1['D']+df1['F']\n",
    "print(df1)\n",
    "df1.insert(0, 'D*F', df1['D']*df1['F']) #in-place \n",
    "\n",
    "print(df1)"
   ]
  }
 ],
 "metadata": {
  "kernelspec": {
   "display_name": "Python 3.10.10 64-bit",
   "language": "python",
   "name": "python3"
  },
  "language_info": {
   "codemirror_mode": {
    "name": "ipython",
    "version": 3
   },
   "file_extension": ".py",
   "mimetype": "text/x-python",
   "name": "python",
   "nbconvert_exporter": "python",
   "pygments_lexer": "ipython3",
   "version": "3.10.10"
  },
  "orig_nbformat": 4,
  "vscode": {
   "interpreter": {
    "hash": "c19fa61d258bb2b35aae2ada233c33e2817c1ce895aa48acba720c6bf7cbe3cb"
   }
  }
 },
 "nbformat": 4,
 "nbformat_minor": 2
}
