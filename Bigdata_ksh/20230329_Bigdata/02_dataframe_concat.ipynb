{
 "cells": [
  {
   "cell_type": "code",
   "execution_count": 72,
   "metadata": {},
   "outputs": [],
   "source": [
    "import numpy as np\n",
    "import pandas as pd\n",
    "import matplotlib.pyplot as plt"
   ]
  },
  {
   "cell_type": "code",
   "execution_count": 73,
   "metadata": {},
   "outputs": [],
   "source": [
    "np.random.seed(123)\n",
    "df1 = pd.DataFrame(np.random.randint(100,200,30).reshape(5,6))\n",
    "df1.columns = list('ABCDEF')\n",
    "\n",
    "df2 = pd.DataFrame(np.random.randint(10,100,30).reshape(5,6))\n",
    "df2.columns = list('ABCDEF')"
   ]
  },
  {
   "cell_type": "code",
   "execution_count": 74,
   "metadata": {},
   "outputs": [
    {
     "data": {
      "text/html": [
       "<div>\n",
       "<style scoped>\n",
       "    .dataframe tbody tr th:only-of-type {\n",
       "        vertical-align: middle;\n",
       "    }\n",
       "\n",
       "    .dataframe tbody tr th {\n",
       "        vertical-align: top;\n",
       "    }\n",
       "\n",
       "    .dataframe thead th {\n",
       "        text-align: right;\n",
       "    }\n",
       "</style>\n",
       "<table border=\"1\" class=\"dataframe\">\n",
       "  <thead>\n",
       "    <tr style=\"text-align: right;\">\n",
       "      <th></th>\n",
       "      <th>0</th>\n",
       "      <th>1</th>\n",
       "      <th>2</th>\n",
       "      <th>3</th>\n",
       "      <th>4</th>\n",
       "      <th>5</th>\n",
       "      <th>6</th>\n",
       "      <th>7</th>\n",
       "      <th>8</th>\n",
       "      <th>9</th>\n",
       "      <th>10</th>\n",
       "      <th>11</th>\n",
       "    </tr>\n",
       "  </thead>\n",
       "  <tbody>\n",
       "    <tr>\n",
       "      <th>0</th>\n",
       "      <td>166</td>\n",
       "      <td>192</td>\n",
       "      <td>198</td>\n",
       "      <td>117</td>\n",
       "      <td>183</td>\n",
       "      <td>157</td>\n",
       "      <td>71</td>\n",
       "      <td>58</td>\n",
       "      <td>17</td>\n",
       "      <td>62</td>\n",
       "      <td>95</td>\n",
       "      <td>37</td>\n",
       "    </tr>\n",
       "    <tr>\n",
       "      <th>1</th>\n",
       "      <td>186</td>\n",
       "      <td>197</td>\n",
       "      <td>196</td>\n",
       "      <td>147</td>\n",
       "      <td>173</td>\n",
       "      <td>132</td>\n",
       "      <td>44</td>\n",
       "      <td>86</td>\n",
       "      <td>50</td>\n",
       "      <td>13</td>\n",
       "      <td>79</td>\n",
       "      <td>74</td>\n",
       "    </tr>\n",
       "    <tr>\n",
       "      <th>2</th>\n",
       "      <td>146</td>\n",
       "      <td>196</td>\n",
       "      <td>125</td>\n",
       "      <td>183</td>\n",
       "      <td>178</td>\n",
       "      <td>136</td>\n",
       "      <td>85</td>\n",
       "      <td>44</td>\n",
       "      <td>68</td>\n",
       "      <td>20</td>\n",
       "      <td>32</td>\n",
       "      <td>87</td>\n",
       "    </tr>\n",
       "    <tr>\n",
       "      <th>3</th>\n",
       "      <td>196</td>\n",
       "      <td>180</td>\n",
       "      <td>168</td>\n",
       "      <td>149</td>\n",
       "      <td>155</td>\n",
       "      <td>167</td>\n",
       "      <td>28</td>\n",
       "      <td>25</td>\n",
       "      <td>37</td>\n",
       "      <td>40</td>\n",
       "      <td>62</td>\n",
       "      <td>80</td>\n",
       "    </tr>\n",
       "    <tr>\n",
       "      <th>4</th>\n",
       "      <td>102</td>\n",
       "      <td>184</td>\n",
       "      <td>139</td>\n",
       "      <td>166</td>\n",
       "      <td>184</td>\n",
       "      <td>147</td>\n",
       "      <td>36</td>\n",
       "      <td>90</td>\n",
       "      <td>16</td>\n",
       "      <td>24</td>\n",
       "      <td>85</td>\n",
       "      <td>64</td>\n",
       "    </tr>\n",
       "  </tbody>\n",
       "</table>\n",
       "</div>"
      ],
      "text/plain": [
       "    0    1    2    3    4    5   6   7   8   9   10  11\n",
       "0  166  192  198  117  183  157  71  58  17  62  95  37\n",
       "1  186  197  196  147  173  132  44  86  50  13  79  74\n",
       "2  146  196  125  183  178  136  85  44  68  20  32  87\n",
       "3  196  180  168  149  155  167  28  25  37  40  62  80\n",
       "4  102  184  139  166  184  147  36  90  16  24  85  64"
      ]
     },
     "execution_count": 74,
     "metadata": {},
     "output_type": "execute_result"
    }
   ],
   "source": [
    "#pd.concat((df1,df2), ignore_index=True)\n",
    "\n",
    "pd.concat((df1,df2), axis=1, ignore_index=True)"
   ]
  },
  {
   "cell_type": "code",
   "execution_count": 75,
   "metadata": {},
   "outputs": [
    {
     "name": "stdout",
     "output_type": "stream",
     "text": [
      "     A    B    C    D    E    F\n",
      "0  166  192  198  117  183  157\n",
      "1  186  197  196  147  173  132\n",
      "2  146  196  125  183  178  136\n",
      "3  196  180  168  149  155  167\n",
      "4  102  184  139  166  184  147\n",
      "    E   F   G   H   I   J\n",
      "0  71  58  17  62  95  37\n",
      "1  44  86  50  13  79  74\n",
      "2  85  44  68  20  32  87\n",
      "3  28  25  37  40  62  80\n",
      "4  36  90  16  24  85  64\n"
     ]
    }
   ],
   "source": [
    "df2.columns = list('EFGHIJ')\n",
    "print(df1)\n",
    "print(df2)\n",
    "\n",
    "# pd.concat((df1, df2), join='inner')"
   ]
  },
  {
   "cell_type": "code",
   "execution_count": 76,
   "metadata": {},
   "outputs": [
    {
     "name": "stdout",
     "output_type": "stream",
     "text": [
      "Empty DataFrame\n",
      "Columns: [A, B, C, D, E, F, G, H, I, J]\n",
      "Index: []\n"
     ]
    }
   ],
   "source": [
    "df3 = pd.concat((df1, df2), join='outer')\n",
    "print(df3.dropna())"
   ]
  },
  {
   "cell_type": "code",
   "execution_count": 77,
   "metadata": {},
   "outputs": [
    {
     "data": {
      "text/html": [
       "<div>\n",
       "<style scoped>\n",
       "    .dataframe tbody tr th:only-of-type {\n",
       "        vertical-align: middle;\n",
       "    }\n",
       "\n",
       "    .dataframe tbody tr th {\n",
       "        vertical-align: top;\n",
       "    }\n",
       "\n",
       "    .dataframe thead th {\n",
       "        text-align: right;\n",
       "    }\n",
       "</style>\n",
       "<table border=\"1\" class=\"dataframe\">\n",
       "  <thead>\n",
       "    <tr style=\"text-align: right;\">\n",
       "      <th></th>\n",
       "      <th>E</th>\n",
       "      <th>F</th>\n",
       "    </tr>\n",
       "  </thead>\n",
       "  <tbody>\n",
       "    <tr>\n",
       "      <th>0</th>\n",
       "      <td>183</td>\n",
       "      <td>157</td>\n",
       "    </tr>\n",
       "    <tr>\n",
       "      <th>1</th>\n",
       "      <td>173</td>\n",
       "      <td>132</td>\n",
       "    </tr>\n",
       "    <tr>\n",
       "      <th>2</th>\n",
       "      <td>178</td>\n",
       "      <td>136</td>\n",
       "    </tr>\n",
       "    <tr>\n",
       "      <th>3</th>\n",
       "      <td>155</td>\n",
       "      <td>167</td>\n",
       "    </tr>\n",
       "    <tr>\n",
       "      <th>4</th>\n",
       "      <td>184</td>\n",
       "      <td>147</td>\n",
       "    </tr>\n",
       "    <tr>\n",
       "      <th>0</th>\n",
       "      <td>71</td>\n",
       "      <td>58</td>\n",
       "    </tr>\n",
       "    <tr>\n",
       "      <th>1</th>\n",
       "      <td>44</td>\n",
       "      <td>86</td>\n",
       "    </tr>\n",
       "    <tr>\n",
       "      <th>2</th>\n",
       "      <td>85</td>\n",
       "      <td>44</td>\n",
       "    </tr>\n",
       "    <tr>\n",
       "      <th>3</th>\n",
       "      <td>28</td>\n",
       "      <td>25</td>\n",
       "    </tr>\n",
       "    <tr>\n",
       "      <th>4</th>\n",
       "      <td>36</td>\n",
       "      <td>90</td>\n",
       "    </tr>\n",
       "  </tbody>\n",
       "</table>\n",
       "</div>"
      ],
      "text/plain": [
       "     E    F\n",
       "0  183  157\n",
       "1  173  132\n",
       "2  178  136\n",
       "3  155  167\n",
       "4  184  147\n",
       "0   71   58\n",
       "1   44   86\n",
       "2   85   44\n",
       "3   28   25\n",
       "4   36   90"
      ]
     },
     "execution_count": 77,
     "metadata": {},
     "output_type": "execute_result"
    }
   ],
   "source": [
    "df3.dropna(axis=1)"
   ]
  },
  {
   "cell_type": "code",
   "execution_count": 78,
   "metadata": {},
   "outputs": [
    {
     "name": "stdout",
     "output_type": "stream",
     "text": [
      "     A    B    C    D    E    F\n",
      "0  166  192  198  117  183  157\n",
      "1  186  197  196  147  173  132\n",
      "2  146  196  125  183  178  136\n",
      "3  196  180  168  149  155  167\n",
      "4  102  184  139  166  184  147\n",
      "     A    B    C    D    E    F\n",
      "0  166  192  198  117  183  157\n",
      "1  186  197  196  147  173  132\n",
      "2  146  196  125  183  178  136\n",
      "3  196  180  168  149  155  167\n",
      "4  102  184  139  166  184  147\n",
      "5   10   20   30   40   50   60\n"
     ]
    }
   ],
   "source": [
    "print(df1)\n",
    "\n",
    "new_sample = pd.Series([10,20,30,40,50,60], index=list('ABCDEF'), name='new_sample')\n",
    "\n",
    "new_row = new_sample.to_frame().T\n",
    "\n",
    "df4 =pd.concat((df1,new_row), ignore_index=True)\n",
    "print(df4)"
   ]
  },
  {
   "cell_type": "code",
   "execution_count": 79,
   "metadata": {},
   "outputs": [],
   "source": [
    "import pickle\n",
    "\n",
    "with open('mydata.pickle', 'wb') as f :\n",
    "  pickle.dump(df4, f)"
   ]
  },
  {
   "cell_type": "code",
   "execution_count": 81,
   "metadata": {},
   "outputs": [],
   "source": [
    "df4.to_csv('mydata.csv')"
   ]
  },
  {
   "cell_type": "code",
   "execution_count": 82,
   "metadata": {},
   "outputs": [
    {
     "name": "stdout",
     "output_type": "stream",
     "text": [
      "     A    B    C    D    E    F\n",
      "0  166  192  198  117  183  157\n",
      "1  186  197  196  147  173  132\n",
      "2  146  196  125  183  178  136\n",
      "3  196  180  168  149  155  167\n",
      "4  102  184  139  166  184  147\n",
      "5   10   20   30   40   50   60\n"
     ]
    }
   ],
   "source": [
    "with open('mydata.pickle', 'rb') as f :\n",
    "  df_read = pickle.load(f)\n",
    "  \n",
    "print(df_read)"
   ]
  }
 ],
 "metadata": {
  "kernelspec": {
   "display_name": "Python 3.10.10 64-bit",
   "language": "python",
   "name": "python3"
  },
  "language_info": {
   "codemirror_mode": {
    "name": "ipython",
    "version": 3
   },
   "file_extension": ".py",
   "mimetype": "text/x-python",
   "name": "python",
   "nbconvert_exporter": "python",
   "pygments_lexer": "ipython3",
   "version": "3.10.10"
  },
  "orig_nbformat": 4,
  "vscode": {
   "interpreter": {
    "hash": "c19fa61d258bb2b35aae2ada233c33e2817c1ce895aa48acba720c6bf7cbe3cb"
   }
  }
 },
 "nbformat": 4,
 "nbformat_minor": 2
}
