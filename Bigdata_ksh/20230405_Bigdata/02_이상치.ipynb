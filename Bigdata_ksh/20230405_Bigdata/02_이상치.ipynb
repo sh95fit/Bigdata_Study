{
 "cells": [
  {
   "cell_type": "code",
   "execution_count": 38,
   "metadata": {},
   "outputs": [],
   "source": [
    "import pandas as pd\n",
    "\n",
    "url = 'https://archive.ics.uci.edu/ml/machine-learning-databases/iris/iris.data'\n",
    "\n",
    "pd_iris = pd.read_csv(url, header=None, encoding='cp949')"
   ]
  },
  {
   "cell_type": "code",
   "execution_count": 39,
   "metadata": {},
   "outputs": [
    {
     "data": {
      "text/plain": [
       "array(['Iris-setosa', 'Iris-versicolor', 'Iris-virginica'], dtype=object)"
      ]
     },
     "execution_count": 39,
     "metadata": {},
     "output_type": "execute_result"
    }
   ],
   "source": [
    "pd_iris.head()\n",
    "pd_iris.columns = ['sepal_len','sepal_width', 'petal_len', 'petal_width', 'class']\n",
    "\n",
    "pd_iris['class'].unique()"
   ]
  },
  {
   "attachments": {},
   "cell_type": "markdown",
   "metadata": {},
   "source": [
    "#### iris\n",
    "\n",
    "- sepal_len의 iqr, 이상치 upper/lower 값 구하기\n",
    "- class 코드화 : 'Iris-virginica', 'Iris-setosa', 'Iris-versicolor' 순으로 0,1,2 지정, class_code 컬럼 생성"
   ]
  },
  {
   "cell_type": "code",
   "execution_count": 40,
   "metadata": {},
   "outputs": [
    {
     "name": "stdout",
     "output_type": "stream",
     "text": [
      "[5.1 6.4]\n",
      "1.3000000000000007\n",
      "8.350000000000001\n",
      "3.1499999999999986\n"
     ]
    }
   ],
   "source": [
    "qv = pd_iris['sepal_len'].quantile([0.25, 0.75])\n",
    "qv = qv.to_numpy()\n",
    "print(qv)\n",
    "\n",
    "iqr = qv[1] - qv[0]\n",
    "print(iqr)\n",
    "\n",
    "upper = qv[1] + 1.5*iqr\n",
    "lower = qv[0] - 1.5*iqr\n",
    "print(upper)\n",
    "print(lower)"
   ]
  },
  {
   "cell_type": "code",
   "execution_count": 41,
   "metadata": {},
   "outputs": [
    {
     "name": "stdout",
     "output_type": "stream",
     "text": [
      "Series([], Name: sepal_len, dtype: float64)\n",
      "Series([], Name: sepal_len, dtype: float64)\n"
     ]
    },
    {
     "data": {
      "text/html": [
       "<div>\n",
       "<style scoped>\n",
       "    .dataframe tbody tr th:only-of-type {\n",
       "        vertical-align: middle;\n",
       "    }\n",
       "\n",
       "    .dataframe tbody tr th {\n",
       "        vertical-align: top;\n",
       "    }\n",
       "\n",
       "    .dataframe thead th {\n",
       "        text-align: right;\n",
       "    }\n",
       "</style>\n",
       "<table border=\"1\" class=\"dataframe\">\n",
       "  <thead>\n",
       "    <tr style=\"text-align: right;\">\n",
       "      <th></th>\n",
       "      <th>sepal_len</th>\n",
       "      <th>sepal_width</th>\n",
       "      <th>petal_len</th>\n",
       "      <th>petal_width</th>\n",
       "      <th>class</th>\n",
       "    </tr>\n",
       "  </thead>\n",
       "  <tbody>\n",
       "  </tbody>\n",
       "</table>\n",
       "</div>"
      ],
      "text/plain": [
       "Empty DataFrame\n",
       "Columns: [sepal_len, sepal_width, petal_len, petal_width, class]\n",
       "Index: []"
      ]
     },
     "execution_count": 41,
     "metadata": {},
     "output_type": "execute_result"
    }
   ],
   "source": [
    "pd_iris['sepal_len']\n",
    "\n",
    "filter1 = pd_iris['sepal_len']<lower\n",
    "print(pd_iris['sepal_len'][filter1])\n",
    "\n",
    "\n",
    "filter2 = pd_iris['sepal_len']>upper\n",
    "print(pd_iris['sepal_len'][filter2])\n",
    "\n",
    "pd_iris.loc[filter2, :]\n"
   ]
  },
  {
   "cell_type": "code",
   "execution_count": 42,
   "metadata": {},
   "outputs": [
    {
     "name": "stdout",
     "output_type": "stream",
     "text": [
      "sepal_len       float64\n",
      "sepal_width     float64\n",
      "petal_len       float64\n",
      "petal_width     float64\n",
      "class            object\n",
      "iris_cat       category\n",
      "dtype: object\n"
     ]
    },
    {
     "data": {
      "text/html": [
       "<div>\n",
       "<style scoped>\n",
       "    .dataframe tbody tr th:only-of-type {\n",
       "        vertical-align: middle;\n",
       "    }\n",
       "\n",
       "    .dataframe tbody tr th {\n",
       "        vertical-align: top;\n",
       "    }\n",
       "\n",
       "    .dataframe thead th {\n",
       "        text-align: right;\n",
       "    }\n",
       "</style>\n",
       "<table border=\"1\" class=\"dataframe\">\n",
       "  <thead>\n",
       "    <tr style=\"text-align: right;\">\n",
       "      <th></th>\n",
       "      <th>sepal_len</th>\n",
       "      <th>sepal_width</th>\n",
       "      <th>petal_len</th>\n",
       "      <th>petal_width</th>\n",
       "      <th>class</th>\n",
       "      <th>iris_cat</th>\n",
       "    </tr>\n",
       "  </thead>\n",
       "  <tbody>\n",
       "    <tr>\n",
       "      <th>149</th>\n",
       "      <td>5.9</td>\n",
       "      <td>3.0</td>\n",
       "      <td>5.1</td>\n",
       "      <td>1.8</td>\n",
       "      <td>Iris-virginica</td>\n",
       "      <td>Iris-virginica</td>\n",
       "    </tr>\n",
       "    <tr>\n",
       "      <th>121</th>\n",
       "      <td>5.6</td>\n",
       "      <td>2.8</td>\n",
       "      <td>4.9</td>\n",
       "      <td>2.0</td>\n",
       "      <td>Iris-virginica</td>\n",
       "      <td>Iris-virginica</td>\n",
       "    </tr>\n",
       "    <tr>\n",
       "      <th>120</th>\n",
       "      <td>6.9</td>\n",
       "      <td>3.2</td>\n",
       "      <td>5.7</td>\n",
       "      <td>2.3</td>\n",
       "      <td>Iris-virginica</td>\n",
       "      <td>Iris-virginica</td>\n",
       "    </tr>\n",
       "    <tr>\n",
       "      <th>119</th>\n",
       "      <td>6.0</td>\n",
       "      <td>2.2</td>\n",
       "      <td>5.0</td>\n",
       "      <td>1.5</td>\n",
       "      <td>Iris-virginica</td>\n",
       "      <td>Iris-virginica</td>\n",
       "    </tr>\n",
       "    <tr>\n",
       "      <th>118</th>\n",
       "      <td>7.7</td>\n",
       "      <td>2.6</td>\n",
       "      <td>6.9</td>\n",
       "      <td>2.3</td>\n",
       "      <td>Iris-virginica</td>\n",
       "      <td>Iris-virginica</td>\n",
       "    </tr>\n",
       "    <tr>\n",
       "      <th>...</th>\n",
       "      <td>...</td>\n",
       "      <td>...</td>\n",
       "      <td>...</td>\n",
       "      <td>...</td>\n",
       "      <td>...</td>\n",
       "      <td>...</td>\n",
       "    </tr>\n",
       "    <tr>\n",
       "      <th>80</th>\n",
       "      <td>5.5</td>\n",
       "      <td>2.4</td>\n",
       "      <td>3.8</td>\n",
       "      <td>1.1</td>\n",
       "      <td>Iris-versicolor</td>\n",
       "      <td>Iris-versicolor</td>\n",
       "    </tr>\n",
       "    <tr>\n",
       "      <th>79</th>\n",
       "      <td>5.7</td>\n",
       "      <td>2.6</td>\n",
       "      <td>3.5</td>\n",
       "      <td>1.0</td>\n",
       "      <td>Iris-versicolor</td>\n",
       "      <td>Iris-versicolor</td>\n",
       "    </tr>\n",
       "    <tr>\n",
       "      <th>78</th>\n",
       "      <td>6.0</td>\n",
       "      <td>2.9</td>\n",
       "      <td>4.5</td>\n",
       "      <td>1.5</td>\n",
       "      <td>Iris-versicolor</td>\n",
       "      <td>Iris-versicolor</td>\n",
       "    </tr>\n",
       "    <tr>\n",
       "      <th>76</th>\n",
       "      <td>6.8</td>\n",
       "      <td>2.8</td>\n",
       "      <td>4.8</td>\n",
       "      <td>1.4</td>\n",
       "      <td>Iris-versicolor</td>\n",
       "      <td>Iris-versicolor</td>\n",
       "    </tr>\n",
       "    <tr>\n",
       "      <th>74</th>\n",
       "      <td>6.4</td>\n",
       "      <td>2.9</td>\n",
       "      <td>4.3</td>\n",
       "      <td>1.3</td>\n",
       "      <td>Iris-versicolor</td>\n",
       "      <td>Iris-versicolor</td>\n",
       "    </tr>\n",
       "  </tbody>\n",
       "</table>\n",
       "<p>150 rows × 6 columns</p>\n",
       "</div>"
      ],
      "text/plain": [
       "     sepal_len  sepal_width  petal_len  petal_width            class  \\\n",
       "149        5.9          3.0        5.1          1.8   Iris-virginica   \n",
       "121        5.6          2.8        4.9          2.0   Iris-virginica   \n",
       "120        6.9          3.2        5.7          2.3   Iris-virginica   \n",
       "119        6.0          2.2        5.0          1.5   Iris-virginica   \n",
       "118        7.7          2.6        6.9          2.3   Iris-virginica   \n",
       "..         ...          ...        ...          ...              ...   \n",
       "80         5.5          2.4        3.8          1.1  Iris-versicolor   \n",
       "79         5.7          2.6        3.5          1.0  Iris-versicolor   \n",
       "78         6.0          2.9        4.5          1.5  Iris-versicolor   \n",
       "76         6.8          2.8        4.8          1.4  Iris-versicolor   \n",
       "74         6.4          2.9        4.3          1.3  Iris-versicolor   \n",
       "\n",
       "            iris_cat  \n",
       "149   Iris-virginica  \n",
       "121   Iris-virginica  \n",
       "120   Iris-virginica  \n",
       "119   Iris-virginica  \n",
       "118   Iris-virginica  \n",
       "..               ...  \n",
       "80   Iris-versicolor  \n",
       "79   Iris-versicolor  \n",
       "78   Iris-versicolor  \n",
       "76   Iris-versicolor  \n",
       "74   Iris-versicolor  \n",
       "\n",
       "[150 rows x 6 columns]"
      ]
     },
     "execution_count": 42,
     "metadata": {},
     "output_type": "execute_result"
    }
   ],
   "source": [
    "from pandas.api.types import CategoricalDtype\n",
    "\n",
    "pd_iris\n",
    "\n",
    "iris_list = ['Iris-virginica', 'Iris-setosa', 'Iris-versicolor']\n",
    "\n",
    "iris_cat = CategoricalDtype(categories = iris_list, ordered=True)\n",
    "pd_iris['iris_cat'] = pd_iris['class'].astype(iris_cat)\n",
    "\n",
    "print(pd_iris.dtypes)\n",
    "\n",
    "\n",
    "pd_iris.sort_values('iris_cat')"
   ]
  },
  {
   "cell_type": "code",
   "execution_count": 43,
   "metadata": {},
   "outputs": [
    {
     "data": {
      "text/plain": [
       "array(['Iris-setosa', 'Iris-versicolor', 'Iris-virginica'], dtype=object)"
      ]
     },
     "execution_count": 43,
     "metadata": {},
     "output_type": "execute_result"
    }
   ],
   "source": [
    "# 다른 풀이\n",
    "pd_iris = pd.read_csv(url, header=None, encoding='cp949')\n",
    "\n",
    "pd_iris.head()\n",
    "pd_iris.columns = ['sepal_len','sepal_width', 'petal_len', 'petal_width', 'class']\n",
    "\n",
    "pd_iris['class'].unique()"
   ]
  },
  {
   "cell_type": "code",
   "execution_count": 44,
   "metadata": {},
   "outputs": [
    {
     "name": "stdout",
     "output_type": "stream",
     "text": [
      "range :  8.350000000000001 ~ 3.1499999999999986\n",
      "Series([], Name: sepal_len, dtype: float64)\n",
      "Series([], Name: sepal_len, dtype: float64)\n"
     ]
    }
   ],
   "source": [
    "qv = pd_iris['sepal_len'].quantile([0.25, 0.75]).to_numpy()\n",
    "iqr = qv[1] - qv[0]\n",
    "\n",
    "upper = qv[1] + 1.5*iqr\n",
    "lower = qv[0] - 1.5*iqr\n",
    "\n",
    "print('range : ', upper, '~', lower)\n",
    "\n",
    "filter1 = pd_iris['sepal_len'] < lower\n",
    "filter2 = pd_iris['sepal_len'] > upper\n",
    "\n",
    "print(pd_iris['sepal_len'][filter1])\n",
    "print(pd_iris['sepal_len'][filter2])"
   ]
  },
  {
   "cell_type": "code",
   "execution_count": 47,
   "metadata": {},
   "outputs": [
    {
     "name": "stdout",
     "output_type": "stream",
     "text": [
      "              class  class_code0\n",
      "0       Iris-setosa            0\n",
      "1       Iris-setosa            0\n",
      "2       Iris-setosa            0\n",
      "3       Iris-setosa            0\n",
      "4       Iris-setosa            0\n",
      "..              ...          ...\n",
      "145  Iris-virginica            2\n",
      "146  Iris-virginica            2\n",
      "147  Iris-virginica            2\n",
      "148  Iris-virginica            2\n",
      "149  Iris-virginica            2\n",
      "\n",
      "[150 rows x 2 columns]\n"
     ]
    }
   ],
   "source": [
    "pd_iris['class'].unique()\n",
    "\n",
    "pd_iris['class_code0'] = pd_iris['class'].astype('category').cat.codes\n",
    "print(pd_iris[['class','class_code0']])"
   ]
  },
  {
   "cell_type": "code",
   "execution_count": 49,
   "metadata": {},
   "outputs": [
    {
     "name": "stdout",
     "output_type": "stream",
     "text": [
      "              class  class_code0  class_code\n",
      "0       Iris-setosa            0           1\n",
      "1       Iris-setosa            0           1\n",
      "2       Iris-setosa            0           1\n",
      "3       Iris-setosa            0           1\n",
      "4       Iris-setosa            0           1\n",
      "..              ...          ...         ...\n",
      "145  Iris-virginica            2           0\n",
      "146  Iris-virginica            2           0\n",
      "147  Iris-virginica            2           0\n",
      "148  Iris-virginica            2           0\n",
      "149  Iris-virginica            2           0\n",
      "\n",
      "[150 rows x 3 columns]\n"
     ]
    }
   ],
   "source": [
    "class_cat = ['Iris-virginica', 'Iris-setosa', 'Iris-versicolor']\n",
    "\n",
    "my_class_category_type = pd.api.types.CategoricalDtype(class_cat, ordered=True)\n",
    "\n",
    "pd_iris['class_code'] = pd_iris['class'].astype(my_class_category_type).cat.codes\n",
    "\n",
    "print(pd_iris[['class', 'class_code0', 'class_code']])"
   ]
  }
 ],
 "metadata": {
  "kernelspec": {
   "display_name": "Python 3",
   "language": "python",
   "name": "python3"
  },
  "language_info": {
   "codemirror_mode": {
    "name": "ipython",
    "version": 3
   },
   "file_extension": ".py",
   "mimetype": "text/x-python",
   "name": "python",
   "nbconvert_exporter": "python",
   "pygments_lexer": "ipython3",
   "version": "3.11.1"
  },
  "orig_nbformat": 4
 },
 "nbformat": 4,
 "nbformat_minor": 2
}
