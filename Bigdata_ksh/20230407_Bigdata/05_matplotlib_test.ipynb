{
 "cells": [
  {
   "cell_type": "code",
   "execution_count": 65,
   "metadata": {},
   "outputs": [],
   "source": [
    "import numpy as np\n",
    "import pandas as pd\n",
    "import matplotlib.pyplot as plt"
   ]
  },
  {
   "cell_type": "code",
   "execution_count": 66,
   "metadata": {},
   "outputs": [
    {
     "data": {
      "text/plain": [
       "['Batang', 'Batang', 'Batang', 'Batang', 'Batang', 'sans-serif']"
      ]
     },
     "execution_count": 66,
     "metadata": {},
     "output_type": "execute_result"
    }
   ],
   "source": [
    "import matplotlib\n",
    "\n",
    "matplotlib.rcParams\n",
    "\n",
    "matplotlib.rcParams['font.family']\n",
    "\n",
    "current_font_list = matplotlib.rcParams['font.family']\n",
    "\n",
    "font_path = 'C:\\\\Windows\\\\Fonts\\\\batang.ttc'\n",
    "\n",
    "kfont = matplotlib.font_manager.FontProperties(fname=font_path).get_name()\n",
    "\n",
    "matplotlib.rcParams['font.family'] = [kfont] + current_font_list\n",
    "\n",
    "current_font_list"
   ]
  },
  {
   "cell_type": "code",
   "execution_count": 67,
   "metadata": {},
   "outputs": [
    {
     "name": "stdout",
     "output_type": "stream",
     "text": [
      "0 시도명\n",
      "1 시군구명\n",
      "2 도로종류\n",
      "3 도로노선번호\n",
      "4 도로노선명\n",
      "5 도로노선방향\n",
      "6 소재지도로명주소\n",
      "7 소재지지번주소\n",
      "8 위도\n",
      "9 경도\n",
      "10 신호기설치방식\n",
      "11 도로형태\n",
      "12 주도로여부\n",
      "13 신호등관리번호\n",
      "14 신호등구분\n",
      "15 신호등색종류\n",
      "16 신호등화방식\n",
      "17 신호등화순서\n",
      "18 신호등화시간\n",
      "19 광원종류\n",
      "20 신호제어방식\n",
      "21 신호시간결정방식\n",
      "22 점멸등운영여부\n",
      "23 점멸등운영시작시각\n",
      "24 점멸등운영종료시각\n",
      "25 보행자작동신호기유무\n",
      "26 잔여시간표시기유무\n",
      "27 시각장애인용음향신호기유무\n",
      "28 도로안내표지일련번호\n",
      "29 관리기관명\n",
      "30 관리기관전화번호\n",
      "31 데이터기준일자\n",
      "32 제공기관코드\n",
      "33 제공기관명\n"
     ]
    },
    {
     "name": "stderr",
     "output_type": "stream",
     "text": [
      "C:\\Users\\tpgns\\AppData\\Local\\Temp\\ipykernel_5004\\1895598225.py:1: DtypeWarning: Columns (3,6,28) have mixed types. Specify dtype option on import or set low_memory=False.\n",
      "  pd_data = pd.read_csv('전국신호등표준데이터.csv', encoding='cp949')\n"
     ]
    }
   ],
   "source": [
    "pd_data = pd.read_csv('전국신호등표준데이터.csv', encoding='cp949')\n",
    "\n",
    "for i, v in enumerate(pd_data.columns) :\n",
    "    print(i, v)"
   ]
  },
  {
   "cell_type": "code",
   "execution_count": 68,
   "metadata": {},
   "outputs": [
    {
     "data": {
      "text/plain": [
       "N    45457\n",
       "Y     4543\n",
       "Name: 시각장애인용음향신호기유무, dtype: int64"
      ]
     },
     "execution_count": 68,
     "metadata": {},
     "output_type": "execute_result"
    }
   ],
   "source": [
    "pd_data['시각장애인용음향신호기유무'].unique()\n",
    "\n",
    "pd_data['시각장애인용음향신호기유무'].value_counts()"
   ]
  },
  {
   "cell_type": "code",
   "execution_count": 75,
   "metadata": {},
   "outputs": [
    {
     "data": {
      "text/plain": [
       "Text(0, 0.5, '개소 수')"
      ]
     },
     "execution_count": 75,
     "metadata": {},
     "output_type": "execute_result"
    },
    {
     "data": {
      "image/png": "[encoded data removed]",
      "text/plain": [
       "<Figure size 400x600 with 1 Axes>"
      ]
     },
     "metadata": {},
     "output_type": "display_data"
    }
   ],
   "source": [
    "# fig, axe = plt.subplots()\n",
    "fig = plt.figure(figsize=(4, 6))\n",
    "\n",
    "fig.suptitle('시각장애인용 음향신호기 유무')\n",
    "\n",
    "axe= fig.add_subplot(211)\n",
    "\n",
    "\n",
    "x = pd_data['시각장애인용음향신호기유무'].unique()\n",
    "y = pd_data['시각장애인용음향신호기유무'].value_counts()\n",
    "\n",
    "axe.bar(x,y, width=0.8, color=['r','g'], edgecolor=['b'], linewidth=2)\n",
    "\n",
    "axe.set_xlabel('음향 신호기 유무')\n",
    "axe.set_ylabel('개소 수')"
   ]
  }
 ],
 "metadata": {
  "kernelspec": {
   "display_name": "Python 3",
   "language": "python",
   "name": "python3"
  },
  "language_info": {
   "codemirror_mode": {
    "name": "ipython",
    "version": 3
   },
   "file_extension": ".py",
   "mimetype": "text/x-python",
   "name": "python",
   "nbconvert_exporter": "python",
   "pygments_lexer": "ipython3",
   "version": "3.11.0"
  },
  "orig_nbformat": 4
 },
 "nbformat": 4,
 "nbformat_minor": 2
}
