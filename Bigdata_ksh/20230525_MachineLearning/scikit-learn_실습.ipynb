{
 "cells": [
  {
   "cell_type": "code",
   "execution_count": 212,
   "metadata": {},
   "outputs": [],
   "source": [
    "import numpy as np\n",
    "import pandas as pd\n",
    "import matplotlib.pyplot as plt\n",
    "import seaborn as sns\n",
    "from scipy import stats\n",
    "\n",
    "from sklearn.datasets import load_linnerud    # built-in data\n",
    "from sklearn.model_selection import train_test_split    # train, test 데이터 분할\n",
    "from sklearn.linear_model import LinearRegression, SGDRegressor # 선형 회귀 분석\n",
    "from sklearn.metrics import r2_score, mean_squared_error"
   ]
  },
  {
   "cell_type": "code",
   "execution_count": 213,
   "metadata": {},
   "outputs": [],
   "source": [
    "def my_line(x, coef=1.0, intercept=1.0) :\n",
    "  return x*coef+intercept\n",
    "\n",
    "def err(y, y_pred) :\n",
    "  return y - y_pred\n",
    "\n",
    "def sqerr(y, y_pred) :\n",
    "  return ((y-y_pred)**2).sum()\n",
    "\n",
    "\n",
    "# rsq의 결과값이 작을수록 예측 모델이 더 좋음을 나타냄 (평균값 대비 모델이 좋은지 판단하는 척도)\n",
    "def rsq(y, y_pred) :\n",
    "  return 1 - (sqerr(y, y_pred) / sqerr(y, y.mean()))"
   ]
  },
  {
   "cell_type": "code",
   "execution_count": 214,
   "metadata": {},
   "outputs": [
    {
     "name": "stdout",
     "output_type": "stream",
     "text": [
      ".. _linnerrud_dataset:\n",
      "\n",
      "Linnerrud dataset\n",
      "-----------------\n",
      "\n",
      "**Data Set Characteristics:**\n",
      "\n",
      "    :Number of Instances: 20\n",
      "    :Number of Attributes: 3\n",
      "    :Missing Attribute Values: None\n",
      "\n",
      "The Linnerud dataset is a multi-output regression dataset. It consists of three\n",
      "exercise (data) and three physiological (target) variables collected from\n",
      "twenty middle-aged men in a fitness club:\n",
      "\n",
      "- *physiological* - CSV containing 20 observations on 3 physiological variables:\n",
      "   Weight, Waist and Pulse.\n",
      "- *exercise* - CSV containing 20 observations on 3 exercise variables:\n",
      "   Chins, Situps and Jumps.\n",
      "\n",
      ".. topic:: References\n",
      "\n",
      "  * Tenenhaus, M. (1998). La regression PLS: theorie et pratique. Paris:\n",
      "    Editions Technic.\n",
      "\n"
     ]
    }
   ],
   "source": [
    "linnerud = load_linnerud()\n",
    "data = linnerud['data']\n",
    "target = linnerud['target']\n",
    "descr = linnerud['DESCR']\n",
    "\n",
    "# print(data)\n",
    "# print(target)\n",
    "print(descr)"
   ]
  },
  {
   "cell_type": "code",
   "execution_count": 215,
   "metadata": {},
   "outputs": [
    {
     "name": "stdout",
     "output_type": "stream",
     "text": [
      "<class 'numpy.ndarray'> <class 'numpy.ndarray'>\n",
      "(20, 3) (20, 3)\n",
      "[[191.  36.  50.]\n",
      " [189.  37.  52.]\n",
      " [193.  38.  58.]\n",
      " [162.  35.  62.]\n",
      " [189.  35.  46.]\n",
      " [182.  36.  56.]\n",
      " [211.  38.  56.]\n",
      " [167.  34.  60.]\n",
      " [176.  31.  74.]\n",
      " [154.  33.  56.]\n",
      " [169.  34.  50.]\n",
      " [166.  33.  52.]\n",
      " [154.  34.  64.]\n",
      " [247.  46.  50.]\n",
      " [193.  36.  46.]\n",
      " [202.  37.  62.]\n",
      " [176.  37.  54.]\n",
      " [157.  32.  52.]\n",
      " [156.  33.  54.]\n",
      " [138.  33.  68.]]\n",
      "[[  5. 162.  60.]\n",
      " [  2. 110.  60.]\n",
      " [ 12. 101. 101.]\n",
      " [ 12. 105.  37.]\n",
      " [ 13. 155.  58.]\n",
      " [  4. 101.  42.]\n",
      " [  8. 101.  38.]\n",
      " [  6. 125.  40.]\n",
      " [ 15. 200.  40.]\n",
      " [ 17. 251. 250.]\n",
      " [ 17. 120.  38.]\n",
      " [ 13. 210. 115.]\n",
      " [ 14. 215. 105.]\n",
      " [  1.  50.  50.]\n",
      " [  6.  70.  31.]\n",
      " [ 12. 210. 120.]\n",
      " [  4.  60.  25.]\n",
      " [ 11. 230.  80.]\n",
      " [ 15. 225.  73.]\n",
      " [  2. 110.  43.]]\n"
     ]
    }
   ],
   "source": [
    "# 데이터셋 가져오기\n",
    "y, X = load_linnerud(return_X_y=True)\n",
    "\n",
    "print(type(X), type(y))\n",
    "print(X.shape, y.shape)\n",
    "print(X) # weight, Waist, Pulse  // 신체 정도\n",
    "print(y) # Chins, Situps, Jumps  // 운동 능력"
   ]
  },
  {
   "cell_type": "code",
   "execution_count": 216,
   "metadata": {},
   "outputs": [],
   "source": [
    "# weight, waist, pulse를 이용해 situps 갯수를 예측하는 회귀모델\n",
    "\n",
    "# situp에 대한 정보만 추출 (1차원 배열로 만듦)\n",
    "y = y[:, 1] "
   ]
  },
  {
   "cell_type": "code",
   "execution_count": 217,
   "metadata": {},
   "outputs": [
    {
     "name": "stdout",
     "output_type": "stream",
     "text": [
      "[  0.32839127 -15.85832621   1.71141571]\n",
      "544.6419986110332\n",
      "0.3732027444047571 0.3732027444047571\n",
      "0.29678137835789054 0.29678137835789054\n"
     ]
    }
   ],
   "source": [
    "# LinearRegression 사용 coef, intercept, r2 값 확인\n",
    "\n",
    "# data split\n",
    "X_train, X_test, y_train, y_test = train_test_split(X, y, random_state=100)\n",
    "\n",
    "# create model\n",
    "m = LinearRegression()\n",
    "\n",
    "# fit\n",
    "m.fit(X_train, y_train)\n",
    "\n",
    "\n",
    "# check coef, intercept, r2\n",
    "print(m.coef_)\n",
    "print(m.intercept_)\n",
    "\n",
    "train_score_lr = m.score(X_train, y_train)\n",
    "train_r2_lr = r2_score(y_train, m.predict(X_train))\n",
    "print(train_score_lr, train_r2_lr)\n",
    "\n",
    "test_score_lr = m.score(X_test, y_test)\n",
    "test_r2_lr = r2_score(y_test, m.predict(X_test))\n",
    "print(test_score_lr, test_r2_lr)\n",
    "\n",
    "# _, axe = plt.subplots()\n",
    "# axe.scatter(X_train[:,0], y_train)\n",
    "# axe.plot(X_train[:,0], m.predict(X_train), c='b')"
   ]
  },
  {
   "cell_type": "code",
   "execution_count": 218,
   "metadata": {},
   "outputs": [
    {
     "name": "stdout",
     "output_type": "stream",
     "text": [
      "[-3.30670739e+11  9.11880432e+10 -3.20051131e+11]\n",
      "[1.18137871e+09]\n",
      "-1.8291352227815113e+24 -1.8291352227815113e+24\n",
      "-1.0048103435113629e+24 -1.0048103435113629e+24\n"
     ]
    }
   ],
   "source": [
    "# SGDRegressor 사용 coef, intercept, r2 값 확인\n",
    "\n",
    "# data split\n",
    "X_train, X_test, y_train, y_test = train_test_split(X, y, random_state=100)\n",
    "\n",
    "# create model\n",
    "m = SGDRegressor()\n",
    "\n",
    "# fit\n",
    "m.fit(X_train, y_train)\n",
    "\n",
    "\n",
    "# check coef, intercept, r2\n",
    "print(m.coef_)\n",
    "print(m.intercept_)\n",
    "\n",
    "train_score_sg = m.score(X_train, y_train)\n",
    "train_r2_sg = r2_score(y_train, m.predict(X_train))\n",
    "print(train_score_sg, train_r2_sg)\n",
    "\n",
    "test_score_sg = m.score(X_test, y_test)\n",
    "test_r2_sg = r2_score(y_test, m.predict(X_test))\n",
    "print(test_score_sg, test_r2_sg)\n",
    "\n",
    "# _, axe = plt.subplots()\n",
    "# axe.scatter(X_train[:,0], y_train)\n",
    "# axe.plot(X_train[:,0], m.predict(X_train), c='b')"
   ]
  },
  {
   "cell_type": "code",
   "execution_count": null,
   "metadata": {},
   "outputs": [],
   "source": []
  }
 ],
 "metadata": {
  "kernelspec": {
   "display_name": "Python 3",
   "language": "python",
   "name": "python3"
  },
  "language_info": {
   "codemirror_mode": {
    "name": "ipython",
    "version": 3
   },
   "file_extension": ".py",
   "mimetype": "text/x-python",
   "name": "python",
   "nbconvert_exporter": "python",
   "pygments_lexer": "ipython3",
   "version": "3.11.1"
  },
  "orig_nbformat": 4
 },
 "nbformat": 4,
 "nbformat_minor": 2
}
