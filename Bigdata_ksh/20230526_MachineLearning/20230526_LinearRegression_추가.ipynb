{
 "cells": [
  {
   "cell_type": "code",
   "execution_count": 16,
   "metadata": {},
   "outputs": [],
   "source": [
    "import numpy as np\n",
    "import pandas as pd\n",
    "import matplotlib.pyplot as plt\n",
    "import seaborn as sns\n",
    "from scipy import stats\n",
    "\n",
    "from sklearn.datasets import load_linnerud    # built-in data\n",
    "from sklearn.model_selection import train_test_split    # train, test 데이터 분할\n",
    "from sklearn.linear_model import LinearRegression, SGDRegressor, Ridge, Lasso # 선형 회귀 분석\n",
    "from sklearn.metrics import r2_score, mean_squared_error"
   ]
  },
  {
   "cell_type": "code",
   "execution_count": 17,
   "metadata": {},
   "outputs": [
    {
     "name": "stdout",
     "output_type": "stream",
     "text": [
      "<class 'numpy.ndarray'> <class 'numpy.ndarray'>\n",
      "(20, 3) (20,)\n",
      "[[  5. 162.  60.]\n",
      " [  2. 110.  60.]\n",
      " [ 12. 101. 101.]\n",
      " [ 12. 105.  37.]\n",
      " [ 13. 155.  58.]\n",
      " [  4. 101.  42.]\n",
      " [  8. 101.  38.]\n",
      " [  6. 125.  40.]\n",
      " [ 15. 200.  40.]\n",
      " [ 17. 251. 250.]\n",
      " [ 17. 120.  38.]\n",
      " [ 13. 210. 115.]\n",
      " [ 14. 215. 105.]\n",
      " [  1.  50.  50.]\n",
      " [  6.  70.  31.]\n",
      " [ 12. 210. 120.]\n",
      " [  4.  60.  25.]\n",
      " [ 11. 230.  80.]\n",
      " [ 15. 225.  73.]\n",
      " [  2. 110.  43.]]\n",
      "[191. 189. 193. 162. 189. 182. 211. 167. 176. 154. 169. 166. 154. 247.\n",
      " 193. 202. 176. 157. 156. 138.]\n"
     ]
    }
   ],
   "source": [
    "# chins, situps, jumps를 이용해 weight 예측 모델\n",
    "\n",
    "X, y =  load_linnerud(return_X_y=True)\n",
    "# X : chins, situps, jumps\n",
    "# Y : weight, waist, pulse\n",
    "y = y[:,0]\n",
    "\n",
    "print(type(X), type(y))\n",
    "print(X.shape, y.shape)\n",
    "print(X)\n",
    "print(y)"
   ]
  },
  {
   "cell_type": "code",
   "execution_count": 18,
   "metadata": {},
   "outputs": [
    {
     "name": "stdout",
     "output_type": "stream",
     "text": [
      "[ 0.49402866 -0.27433127  0.05463569] 212.78877148077424\n",
      "train score 0.31399852800761685\n",
      "test score -0.32991213695066324\n",
      "=========================================================\n",
      "[-1.95727798e+10 -1.83570084e+11 -1.39185482e+11] [1.46156232e+10]\n",
      "train score -2.908594356116873e+24\n",
      "test score -2.1515525799887522e+24\n",
      "=========================================================\n"
     ]
    }
   ],
   "source": [
    "X_train, X_test, y_train, y_test = train_test_split(X, y, random_state=10)\n",
    "\n",
    "for m in [LinearRegression(), SGDRegressor(max_iter=10000)] :\n",
    "    m.fit(X_train, y_train)\n",
    "\n",
    "    print(m.coef_, m.intercept_)\n",
    "    print('train score', m.score(X_train, y_train))\n",
    "    print('test score', m.score(X_test, y_test))\n",
    "    print('=========================================================')"
   ]
  },
  {
   "cell_type": "code",
   "execution_count": 19,
   "metadata": {},
   "outputs": [],
   "source": [
    "# overfit, underfit, bias, variance\n",
    "# bias : 실제값에서 멀어진 정도\n",
    "# variance : 예측된 값들이 얼마나 떨어져있는가를 나타냄\n",
    "\n",
    "\n",
    "# overfit : low bias, high variance\n",
    "# underfit : high bias, low variance\n",
    "\n",
    "\n",
    "# 과적합을 피해야 한다! \n",
    "# 과적합을 방해하는 작업(예방하는 작업) 필요 -> 정규화(Regularization)를 통한 과적합 감소\n",
    "# Ordinary Least Squares : 에러값을 최소화(OLS)\n",
    "# Ridge regression : 에러값을 최소화한 값(OLS)에 L2 norm을 더한 것!\n",
    "# Lasso : 계수(1/2n)* 에러값의 최소화한 값(OLS)에 L1 norem을 더함 (L1 norm의 계수가 알파(alpha) => 노이즈의 정도)"
   ]
  },
  {
   "cell_type": "code",
   "execution_count": 20,
   "metadata": {},
   "outputs": [
    {
     "name": "stdout",
     "output_type": "stream",
     "text": [
      "[ 0.48264555 -0.27360712  0.05471788] 212.7760120253623\n",
      "train score 0.31399672117445876\n",
      "test score -0.32520242685054224\n"
     ]
    }
   ],
   "source": [
    "# m = Ridge(alpha=0.1)  # L2 norm\n",
    "m = Lasso(alpha=0.1)    # L1 norm\n",
    "\n",
    "m.fit(X_train, y_train)\n",
    "\n",
    "print(m.coef_, m.intercept_)\n",
    "print('train score', m.score(X_train, y_train))\n",
    "print('test score', m.score(X_test, y_test))"
   ]
  },
  {
   "cell_type": "code",
   "execution_count": 21,
   "metadata": {},
   "outputs": [
    {
     "name": "stdout",
     "output_type": "stream",
     "text": [
      "[ 0.49402866 -0.27433127  0.05463569] 212.78877148077424\n",
      "train score 0.31399852800761685\n",
      "test score -0.32991213695066324\n",
      "=========================================================\n",
      "[-6.63369887e+10  6.53209344e+08  2.19490784e+10] [7.04864071e+10]\n",
      "train score -4.184693139974682e+21\n",
      "test score -8.106067148795169e+20\n",
      "=========================================================\n",
      "[ 0.49365994 -0.27430916  0.05464038] 212.78840575465998\n",
      "train score 0.3139985261328352\n",
      "test score -0.32975689230914385\n",
      "=========================================================\n",
      "[ 0.48264555 -0.27360712  0.05471788] 212.7760120253623\n",
      "train score 0.31399672117445876\n",
      "test score -0.32520242685054224\n",
      "=========================================================\n"
     ]
    }
   ],
   "source": [
    "X_train, X_test, y_train, y_test = train_test_split(X, y, random_state=10)\n",
    "\n",
    "for m in [LinearRegression(), SGDRegressor(max_iter=10000), Ridge(alpha=0.1), Lasso(alpha=0.1)] :\n",
    "    m.fit(X_train, y_train)\n",
    "\n",
    "    print(m.coef_, m.intercept_)\n",
    "    print('train score', m.score(X_train, y_train))\n",
    "    print('test score', m.score(X_test, y_test))\n",
    "    print('=========================================================')"
   ]
  }
 ],
 "metadata": {
  "kernelspec": {
   "display_name": "Python 3",
   "language": "python",
   "name": "python3"
  },
  "language_info": {
   "codemirror_mode": {
    "name": "ipython",
    "version": 3
   },
   "file_extension": ".py",
   "mimetype": "text/x-python",
   "name": "python",
   "nbconvert_exporter": "python",
   "pygments_lexer": "ipython3",
   "version": "3.11.0"
  },
  "orig_nbformat": 4
 },
 "nbformat": 4,
 "nbformat_minor": 2
}
