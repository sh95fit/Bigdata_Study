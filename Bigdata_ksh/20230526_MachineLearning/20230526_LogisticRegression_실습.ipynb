{
 "cells": [
  {
   "cell_type": "code",
   "execution_count": 99,
   "metadata": {},
   "outputs": [],
   "source": [
    "import numpy as np\n",
    "import pandas as pd\n",
    "import matplotlib.pyplot as plt\n",
    "import seaborn as sns\n",
    "from scipy import stats\n",
    "\n",
    "from sklearn.datasets import load_wine    # built-in data\n",
    "from sklearn.model_selection import train_test_split    # train, test 데이터 분할\n",
    "# from sklearn.linear_model import LinearRegression, SGDRegressor, Ridge, Lasso # 선형 회귀 분석\n",
    "# from sklearn.metrics import r2_score, mean_squared_error\n",
    "\n",
    "\n",
    "# 확률을 통해 예측\n",
    "from sklearn.linear_model import LogisticRegression, SGDClassifier # 로지스틱 회귀 분석 / 선형 분류\n",
    "from sklearn.metrics import RocCurveDisplay, roc_auc_score"
   ]
  },
  {
   "cell_type": "code",
   "execution_count": 100,
   "metadata": {},
   "outputs": [
    {
     "name": "stdout",
     "output_type": "stream",
     "text": [
      "(array([0, 1, 2]), array([59, 71, 48], dtype=int64))\n"
     ]
    }
   ],
   "source": [
    "X, y = load_wine(return_X_y=True)\n",
    "\n",
    "# 레이블 개수 확인\n",
    "print(np.unique(y, return_counts=True))"
   ]
  },
  {
   "cell_type": "code",
   "execution_count": 101,
   "metadata": {},
   "outputs": [
    {
     "name": "stdout",
     "output_type": "stream",
     "text": [
      "train score :  0.9849624060150376\n",
      "test score :  0.9333333333333333\n",
      "test pred :  [0 1 2 2 2 0 1 0 2 1 1 0 0 1 0 0 1 2 2 0 0 1 1 2 1 0 1 2 2 2 1 2 0 1 0 2 1\n",
      " 1 0 2 0 1 0 1 1]\n",
      "test target [0 1 2 2 2 0 1 0 2 1 1 0 0 1 1 0 1 2 2 0 0 0 1 2 1 0 1 2 1 2 1 2 0 1 0 2 1\n",
      " 1 0 2 0 1 0 1 1]\n"
     ]
    }
   ],
   "source": [
    "# LogisticRegression\n",
    "X, y = load_wine(return_X_y=True)\n",
    "\n",
    "X_train, X_test, y_train, y_test = train_test_split(X, y, stratify=y, random_state=10)\n",
    "\n",
    "m = LogisticRegression(solver='liblinear')\n",
    "\n",
    "m.fit(X_train, y_train)\n",
    "\n",
    "print('train score : ', m.score(X_train, y_train))\n",
    "print('test score : ', m.score(X_test, y_test))\n",
    "print('test pred : ', m.predict(X_test))\n",
    "print('test target', y_test)"
   ]
  },
  {
   "cell_type": "code",
   "execution_count": 102,
   "metadata": {},
   "outputs": [
    {
     "name": "stdout",
     "output_type": "stream",
     "text": [
      "train score :  0.6240601503759399\n",
      "test score :  0.6\n",
      "test pred :  [0 1 1 1 0 0 1 0 1 1 1 0 0 1 0 0 1 0 1 0 0 1 1 0 1 0 1 0 0 1 1 1 0 0 0 1 0\n",
      " 1 0 0 0 1 0 1 0]\n",
      "test target [0 1 2 2 2 0 1 0 2 1 1 0 0 1 1 0 1 2 2 0 0 0 1 2 1 0 1 2 1 2 1 2 0 1 0 2 1\n",
      " 1 0 2 0 1 0 1 1]\n"
     ]
    }
   ],
   "source": [
    "# SGDClassifier\n",
    "X, y = load_wine(return_X_y=True)\n",
    "\n",
    "X_train, X_test, y_train, y_test = train_test_split(X, y, stratify=y, random_state=10)\n",
    "\n",
    "m = SGDClassifier(loss='log_loss')\n",
    "\n",
    "m.fit(X_train, y_train)\n",
    "\n",
    "print('train score : ', m.score(X_train, y_train))\n",
    "print('test score : ', m.score(X_test, y_test))\n",
    "print('test pred : ', m.predict(X_test))\n",
    "print('test target', y_test)"
   ]
  },
  {
   "cell_type": "code",
   "execution_count": 103,
   "metadata": {},
   "outputs": [
    {
     "name": "stdout",
     "output_type": "stream",
     "text": [
      "130 130\n",
      "[0 0 0 0 0 0 0 0 0 0 0 0 0 0 0 0 0 0 0 0 0 0 0 0 0 0 0 0 0 0 0 0 0 0 0 0 0\n",
      " 0 0 0 0 0 0 0 0 0 0 0 0 0 0 0 0 0 0 0 0 0 0 1 1 1 1 1 1 1 1 1 1 1 1 1 1 1\n",
      " 1 1 1 1 1 1 1 1 1 1 1 1 1 1 1 1 1 1 1 1 1 1 1 1 1 1 1 1 1 1 1 1 1 1 1 1 1\n",
      " 1 1 1 1 1 1 1 1 1 1 1 1 1 1 1 1 1 1 1]\n",
      "[0 1 0 1 1 1 0 0 1 1 1 0 1 0 1 1 0 1 1 1 1 1 0 0 0 0 1 0 1 1 0 0 0]\n",
      "(array([0, 1]), array([15, 18], dtype=int64))\n",
      "0.9393939393939394\n",
      "0.9814814814814815\n"
     ]
    },
    {
     "data": {
      "image/png": "[encoded data removed]",
      "text/plain": [
       "<Figure size 640x480 with 1 Axes>"
      ]
     },
     "metadata": {},
     "output_type": "display_data"
    }
   ],
   "source": [
    "# 세번째 분류(인덱스 2)를 제외, LogisticRegression 후 ROC 그리기\n",
    "X, y = load_wine(return_X_y=True)\n",
    "\n",
    "X = X[y != 2]\n",
    "y = y[y != 2]\n",
    "\n",
    "# X = X[:-48]\n",
    "# y = y[:-48]\n",
    "\n",
    "print(len(X), len(y))\n",
    "\n",
    "X_train, X_test, y_train, y_test = train_test_split(X, y, stratify=y, random_state=10)\n",
    "\n",
    "\n",
    "print(y)\n",
    "\n",
    "print(y_test)\n",
    "print(np.unique(y_test, return_counts=True))\n",
    "\n",
    "# solver{‘lbfgs’, ‘liblinear’, ‘newton-cg’, ‘newton-cholesky’, ‘sag’, ‘saga’}, default=’lbfgs’\n",
    "m = LogisticRegression(solver='liblinear') \n",
    "\n",
    "m.fit(X_train, y_train)\n",
    "\n",
    "print(m.score(X_test, y_test))\n",
    "\n",
    "RocCurveDisplay.from_predictions(y_test, m.predict(X_test))\n",
    "\n",
    "roc_auc = roc_auc_score(y_test, m.decision_function(X_test))\n",
    "# roc_auc = roc_auc_score(y_test, m.predict_proba(X_test)[:, 1])\n",
    "print(roc_auc)\n"
   ]
  }
 ],
 "metadata": {
  "kernelspec": {
   "display_name": "Python 3.10.11 64-bit",
   "language": "python",
   "name": "python3"
  },
  "language_info": {
   "codemirror_mode": {
    "name": "ipython",
    "version": 3
   },
   "file_extension": ".py",
   "mimetype": "text/x-python",
   "name": "python",
   "nbconvert_exporter": "python",
   "pygments_lexer": "ipython3",
   "version": "3.10.11"
  },
  "orig_nbformat": 4,
  "vscode": {
   "interpreter": {
    "hash": "c19fa61d258bb2b35aae2ada233c33e2817c1ce895aa48acba720c6bf7cbe3cb"
   }
  }
 },
 "nbformat": 4,
 "nbformat_minor": 2
}
