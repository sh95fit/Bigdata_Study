{
 "cells": [
  {
   "cell_type": "code",
   "execution_count": 2,
   "metadata": {},
   "outputs": [],
   "source": [
    "import numpy as np\n",
    "import pandas as pd\n",
    "import matplotlib.pyplot as plt\n",
    "import seaborn as sns\n",
    "from scipy import stats\n",
    "\n",
    "from sklearn.datasets import load_iris    # built-in data\n",
    "from sklearn.model_selection import train_test_split    # train, test 데이터 분할\n",
    "# from sklearn.linear_model import LinearRegression, SGDRegressor, Ridge, Lasso # 선형 회귀 분석\n",
    "# from sklearn.metrics import r2_score, mean_squared_error\n",
    "\n",
    "\n",
    "# 확률을 통해 예측\n",
    "from sklearn.linear_model import LogisticRegression, SGDClassifier # 로지스틱 회귀 분석 / 선형 분류\n",
    "from sklearn.metrics import RocCurveDisplay, roc_auc_score"
   ]
  },
  {
   "attachments": {},
   "cell_type": "markdown",
   "metadata": {},
   "source": [
    "independent var : 4개 선택\n",
    "\n",
    "dependent var : 품종 (class)  문자열 -> 숫자로 변환\n",
    "\n",
    "분류기 만들어보기"
   ]
  },
  {
   "cell_type": "code",
   "execution_count": 3,
   "metadata": {},
   "outputs": [
    {
     "data": {
      "text/html": [
       "<div>\n",
       "<style scoped>\n",
       "    .dataframe tbody tr th:only-of-type {\n",
       "        vertical-align: middle;\n",
       "    }\n",
       "\n",
       "    .dataframe tbody tr th {\n",
       "        vertical-align: top;\n",
       "    }\n",
       "\n",
       "    .dataframe thead th {\n",
       "        text-align: right;\n",
       "    }\n",
       "</style>\n",
       "<table border=\"1\" class=\"dataframe\">\n",
       "  <thead>\n",
       "    <tr style=\"text-align: right;\">\n",
       "      <th></th>\n",
       "      <th>Area</th>\n",
       "      <th>MajorAxisLength</th>\n",
       "      <th>MinorAxisLength</th>\n",
       "      <th>Eccentricity</th>\n",
       "      <th>Class</th>\n",
       "    </tr>\n",
       "  </thead>\n",
       "  <tbody>\n",
       "    <tr>\n",
       "      <th>0</th>\n",
       "      <td>87524</td>\n",
       "      <td>442.246011</td>\n",
       "      <td>253.291155</td>\n",
       "      <td>0.819738</td>\n",
       "      <td>0</td>\n",
       "    </tr>\n",
       "    <tr>\n",
       "      <th>1</th>\n",
       "      <td>75166</td>\n",
       "      <td>406.690687</td>\n",
       "      <td>243.032436</td>\n",
       "      <td>0.801805</td>\n",
       "      <td>0</td>\n",
       "    </tr>\n",
       "    <tr>\n",
       "      <th>2</th>\n",
       "      <td>90856</td>\n",
       "      <td>442.267048</td>\n",
       "      <td>266.328318</td>\n",
       "      <td>0.798354</td>\n",
       "      <td>0</td>\n",
       "    </tr>\n",
       "    <tr>\n",
       "      <th>3</th>\n",
       "      <td>45928</td>\n",
       "      <td>286.540559</td>\n",
       "      <td>208.760042</td>\n",
       "      <td>0.684989</td>\n",
       "      <td>0</td>\n",
       "    </tr>\n",
       "    <tr>\n",
       "      <th>4</th>\n",
       "      <td>79408</td>\n",
       "      <td>352.190770</td>\n",
       "      <td>290.827533</td>\n",
       "      <td>0.564011</td>\n",
       "      <td>0</td>\n",
       "    </tr>\n",
       "  </tbody>\n",
       "</table>\n",
       "</div>"
      ],
      "text/plain": [
       "    Area  MajorAxisLength  MinorAxisLength  Eccentricity  Class\n",
       "0  87524       442.246011       253.291155      0.819738      0\n",
       "1  75166       406.690687       243.032436      0.801805      0\n",
       "2  90856       442.267048       266.328318      0.798354      0\n",
       "3  45928       286.540559       208.760042      0.684989      0\n",
       "4  79408       352.190770       290.827533      0.564011      0"
      ]
     },
     "execution_count": 3,
     "metadata": {},
     "output_type": "execute_result"
    }
   ],
   "source": [
    "pd_data = pd.read_csv('./Raisin_Dataset.CSV', encoding='cp949')\n",
    "\n",
    "class_num = 0\n",
    "for name in pd_data['Class'].unique() :\n",
    "    pd_data.replace(name, class_num, inplace=True)\n",
    "    class_num+=1\n",
    "\n",
    "pd_data = pd_data.iloc[:, [0,1,2,3,7]]\n",
    "\n",
    "pd_data.head()"
   ]
  },
  {
   "cell_type": "code",
   "execution_count": 4,
   "metadata": {},
   "outputs": [
    {
     "name": "stdout",
     "output_type": "stream",
     "text": [
      "      Area  MajorAxisLength  MinorAxisLength  Eccentricity\n",
      "0    87524       442.246011       253.291155      0.819738\n",
      "1    75166       406.690687       243.032436      0.801805\n",
      "2    90856       442.267048       266.328318      0.798354\n",
      "3    45928       286.540559       208.760042      0.684989\n",
      "4    79408       352.190770       290.827533      0.564011\n",
      "..     ...              ...              ...           ...\n",
      "895  83248       430.077308       247.838695      0.817263\n",
      "896  87350       440.735698       259.293149      0.808629\n",
      "897  99657       431.706981       298.837323      0.721684\n",
      "898  93523       476.344094       254.176054      0.845739\n",
      "899  85609       512.081774       215.271976      0.907345\n",
      "\n",
      "[900 rows x 4 columns]\n",
      "0      0\n",
      "1      0\n",
      "2      0\n",
      "3      0\n",
      "4      0\n",
      "      ..\n",
      "895    1\n",
      "896    1\n",
      "897    1\n",
      "898    1\n",
      "899    1\n",
      "Name: Class, Length: 900, dtype: int64\n"
     ]
    }
   ],
   "source": [
    "X = pd_data.iloc[:,:4]\n",
    "y = pd_data.iloc[:,-1]\n",
    "\n",
    "print(X)\n",
    "print(y)"
   ]
  },
  {
   "cell_type": "code",
   "execution_count": 5,
   "metadata": {},
   "outputs": [
    {
     "name": "stdout",
     "output_type": "stream",
     "text": [
      "train score :  0.8562962962962963\n",
      "test score :  0.8533333333333334\n",
      "test pred :  [1 1 0 1 0 1 0 1 0 1 1 0 1 0 0 1 0 1 0 1 1 0 1 0 0 0 0 0 1 0 1 0 0 0 1 0 0\n",
      " 0 1 1 0 0 0 1 0 1 1 0 0 0 1 1 1 0 1 1 1 1 0 1 1 1 0 1 1 1 1 1 0 1 0 0 0 1\n",
      " 1 1 0 1 1 1 0 1 1 0 0 0 1 0 0 0 0 0 0 1 1 1 1 0 1 0 0 1 1 1 0 0 1 0 0 1 0\n",
      " 0 0 1 1 0 0 1 0 0 0 1 0 0 1 0 0 0 0 0 0 1 0 0 1 0 1 1 0 1 0 0 1 1 1 0 0 1\n",
      " 1 1 1 0 1 0 0 1 0 1 0 0 0 1 0 1 0 0 0 0 1 1 0 1 1 0 1 0 1 1 1 0 1 0 0 0 0\n",
      " 0 1 1 1 0 1 0 0 0 1 1 0 0 0 0 1 1 0 0 0 0 0 0 1 1 1 0 0 1 1 1 1 0 1 1 0 1\n",
      " 0 1 0]\n",
      "test target 836    1\n",
      "666    1\n",
      "237    0\n",
      "842    1\n",
      "430    0\n",
      "      ..\n",
      "340    0\n",
      "649    1\n",
      "239    0\n",
      "538    1\n",
      "635    1\n",
      "Name: Class, Length: 225, dtype: int64\n"
     ]
    }
   ],
   "source": [
    "X_train, X_test, y_train, y_test = train_test_split(X, y, stratify=y, random_state=10)\n",
    "\n",
    "m = LogisticRegression(solver='liblinear')\n",
    "\n",
    "m.fit(X_train, y_train)\n",
    "\n",
    "print('train score : ', m.score(X_train, y_train))\n",
    "print('test score : ', m.score(X_test, y_test))\n",
    "print('test pred : ', m.predict(X_test))\n",
    "print('test target', y_test)"
   ]
  },
  {
   "cell_type": "code",
   "execution_count": 6,
   "metadata": {},
   "outputs": [
    {
     "name": "stdout",
     "output_type": "stream",
     "text": [
      "train score :  0.49925925925925924\n",
      "test score :  0.5022222222222222\n",
      "test pred :  [1 1 1 1 1 1 1 1 1 1 1 1 1 1 1 1 1 1 1 1 1 1 1 1 1 1 1 1 1 1 1 1 1 1 1 1 1\n",
      " 1 1 1 1 1 1 1 1 1 1 1 1 1 1 1 1 1 1 1 1 1 1 1 1 1 1 1 1 1 1 1 1 1 1 1 1 1\n",
      " 1 1 1 1 1 1 1 1 1 1 1 1 1 1 1 1 1 1 1 1 1 1 1 1 1 1 1 1 1 1 1 1 1 1 1 1 1\n",
      " 1 1 1 1 1 1 1 1 1 1 1 1 1 1 1 1 1 1 1 1 1 1 1 1 1 1 1 1 1 1 1 1 1 1 1 1 1\n",
      " 1 1 1 1 1 1 1 1 1 1 1 1 1 1 1 1 1 1 1 1 1 1 1 1 1 1 1 1 1 1 1 1 1 1 1 1 1\n",
      " 1 1 1 1 1 1 1 1 1 1 1 1 1 1 1 1 1 1 1 1 1 1 1 1 1 1 1 1 1 1 1 1 1 1 1 1 1\n",
      " 1 1 1]\n",
      "test target 836    1\n",
      "666    1\n",
      "237    0\n",
      "842    1\n",
      "430    0\n",
      "      ..\n",
      "340    0\n",
      "649    1\n",
      "239    0\n",
      "538    1\n",
      "635    1\n",
      "Name: Class, Length: 225, dtype: int64\n"
     ]
    }
   ],
   "source": [
    "# SGDClassifier\n",
    "X_train, X_test, y_train, y_test = train_test_split(X, y, stratify=y, random_state=10)\n",
    "\n",
    "m = SGDClassifier(loss='log_loss')\n",
    "\n",
    "m.fit(X_train, y_train)\n",
    "\n",
    "print('train score : ', m.score(X_train, y_train))\n",
    "print('test score : ', m.score(X_test, y_test))\n",
    "print('test pred : ', m.predict(X_test))\n",
    "print('test target', y_test)"
   ]
  },
  {
   "cell_type": "code",
   "execution_count": 7,
   "metadata": {},
   "outputs": [
    {
     "name": "stdout",
     "output_type": "stream",
     "text": [
      "(array([0, 1], dtype=int64), array([112, 113], dtype=int64))\n",
      "0.8533333333333334\n",
      "0.9125316055625791\n"
     ]
    },
    {
     "data": {
      "image/png": "[encoded data removed]",
      "text/plain": [
       "<Figure size 640x480 with 1 Axes>"
      ]
     },
     "metadata": {},
     "output_type": "display_data"
    }
   ],
   "source": [
    "# ROC 그리기\n",
    "\n",
    "X_train, X_test, y_train, y_test = train_test_split(X, y, stratify=y, random_state=10)\n",
    "\n",
    "\n",
    "# print(y)\n",
    "\n",
    "# print(y_test)\n",
    "print(np.unique(y_test, return_counts=True))\n",
    "\n",
    "# solver{‘lbfgs’, ‘liblinear’, ‘newton-cg’, ‘newton-cholesky’, ‘sag’, ‘saga’}, default=’lbfgs’\n",
    "m = LogisticRegression(solver='liblinear') \n",
    "\n",
    "m.fit(X_train, y_train)\n",
    "\n",
    "print(m.score(X_test, y_test))\n",
    "\n",
    "RocCurveDisplay.from_predictions(y_test, m.predict(X_test))\n",
    "\n",
    "roc_auc = roc_auc_score(y_test, m.decision_function(X_test))\n",
    "# roc_auc = roc_auc_score(y_test, m.predict_proba(X_test)[:, 1])\n",
    "print(roc_auc)\n"
   ]
  }
 ],
 "metadata": {
  "kernelspec": {
   "display_name": "Python 3.10.11 64-bit",
   "language": "python",
   "name": "python3"
  },
  "language_info": {
   "codemirror_mode": {
    "name": "ipython",
    "version": 3
   },
   "file_extension": ".py",
   "mimetype": "text/x-python",
   "name": "python",
   "nbconvert_exporter": "python",
   "pygments_lexer": "ipython3",
   "version": "3.10.11"
  },
  "orig_nbformat": 4,
  "vscode": {
   "interpreter": {
    "hash": "c19fa61d258bb2b35aae2ada233c33e2817c1ce895aa48acba720c6bf7cbe3cb"
   }
  }
 },
 "nbformat": 4,
 "nbformat_minor": 2
}
