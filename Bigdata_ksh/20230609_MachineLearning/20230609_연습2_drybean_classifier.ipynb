{
 "cells": [
  {
   "cell_type": "code",
   "execution_count": 21,
   "metadata": {},
   "outputs": [],
   "source": [
    "import matplotlib.pyplot as plt\n",
    "import numpy as np\n",
    "import pandas as pd\n",
    "from sklearn.preprocessing import LabelEncoder, MinMaxScaler, StandardScaler\n",
    "from sklearn.model_selection import train_test_split\n",
    "\n",
    "import tensorflow as tf\n",
    "from tensorflow import keras"
   ]
  },
  {
   "cell_type": "code",
   "execution_count": null,
   "metadata": {},
   "outputs": [],
   "source": [
    "# UCI DryBean\n",
    "# independent variable (X) : 13~16 : Shape Factor (SF1, SF2, SF3, SF4)\n",
    "# dependent variable (y) : class\n",
    "\n",
    "# DNN Classifier 적용"
   ]
  },
  {
   "cell_type": "code",
   "execution_count": 33,
   "metadata": {},
   "outputs": [
    {
     "name": "stdout",
     "output_type": "stream",
     "text": [
      "(10208, 4)\n"
     ]
    }
   ],
   "source": [
    "data = pd.read_csv('Dry_Bean_Dataset.csv', encoding='cp949')\n",
    "\n",
    "X = data.iloc[:, 12:16]\n",
    "\n",
    "# print(X)\n",
    "\n",
    "y = data.iloc[:, -1]\n",
    "\n",
    "enc = LabelEncoder()\n",
    "y = enc.fit(y).transform(y)\n",
    "\n",
    "# print(y)\n",
    "\n",
    "\n",
    "X_train, X_test, y_train, y_test = train_test_split(X, y, stratify=y, random_state=10)\n",
    "\n",
    "print(X_train.shape)"
   ]
  },
  {
   "cell_type": "code",
   "execution_count": 38,
   "metadata": {},
   "outputs": [
    {
     "name": "stdout",
     "output_type": "stream",
     "text": [
      "Epoch 1/50\n",
      "319/319 [==============================] - 1s 721us/step - loss: 1.2291 - accuracy: 0.5159\n",
      "Epoch 2/50\n",
      "319/319 [==============================] - 0s 753us/step - loss: 1.0724 - accuracy: 0.5834\n",
      "Epoch 3/50\n",
      "319/319 [==============================] - 0s 706us/step - loss: 1.0719 - accuracy: 0.5839\n",
      "Epoch 4/50\n",
      "319/319 [==============================] - 0s 705us/step - loss: 1.0452 - accuracy: 0.5970\n",
      "Epoch 5/50\n",
      "319/319 [==============================] - 0s 702us/step - loss: 1.0505 - accuracy: 0.5955\n",
      "Epoch 6/50\n",
      "319/319 [==============================] - 0s 715us/step - loss: 1.0490 - accuracy: 0.5923\n",
      "Epoch 7/50\n",
      "319/319 [==============================] - 0s 806us/step - loss: 1.0167 - accuracy: 0.6071\n",
      "Epoch 8/50\n",
      "319/319 [==============================] - 0s 734us/step - loss: 1.0306 - accuracy: 0.6061\n",
      "Epoch 9/50\n",
      "319/319 [==============================] - 0s 775us/step - loss: 1.0089 - accuracy: 0.6069\n",
      "Epoch 10/50\n",
      "319/319 [==============================] - 0s 746us/step - loss: 0.9553 - accuracy: 0.6248\n",
      "Epoch 11/50\n",
      "319/319 [==============================] - 0s 718us/step - loss: 0.8011 - accuracy: 0.6897\n",
      "Epoch 12/50\n",
      "319/319 [==============================] - 0s 715us/step - loss: 0.5738 - accuracy: 0.7922\n",
      "Epoch 13/50\n",
      "319/319 [==============================] - 0s 728us/step - loss: 0.4689 - accuracy: 0.8302\n",
      "Epoch 14/50\n",
      "319/319 [==============================] - 0s 732us/step - loss: 0.4275 - accuracy: 0.8417\n",
      "Epoch 15/50\n",
      "319/319 [==============================] - 0s 728us/step - loss: 0.4051 - accuracy: 0.8522\n",
      "Epoch 16/50\n",
      "319/319 [==============================] - 0s 709us/step - loss: 0.4061 - accuracy: 0.8475\n",
      "Epoch 17/50\n",
      "319/319 [==============================] - 0s 712us/step - loss: 0.4100 - accuracy: 0.8444\n",
      "Epoch 18/50\n",
      "319/319 [==============================] - 0s 718us/step - loss: 0.3758 - accuracy: 0.8583\n",
      "Epoch 19/50\n",
      "319/319 [==============================] - 0s 724us/step - loss: 0.3718 - accuracy: 0.8613\n",
      "Epoch 20/50\n",
      "319/319 [==============================] - 0s 706us/step - loss: 0.3801 - accuracy: 0.8571\n",
      "Epoch 21/50\n",
      "319/319 [==============================] - 0s 724us/step - loss: 0.3884 - accuracy: 0.8533\n",
      "Epoch 22/50\n",
      "319/319 [==============================] - 0s 724us/step - loss: 0.3788 - accuracy: 0.8550\n",
      "Epoch 23/50\n",
      "319/319 [==============================] - 0s 746us/step - loss: 0.3707 - accuracy: 0.8574\n",
      "Epoch 24/50\n",
      "319/319 [==============================] - 0s 778us/step - loss: 0.3741 - accuracy: 0.8561\n",
      "Epoch 25/50\n",
      "319/319 [==============================] - 0s 790us/step - loss: 0.3682 - accuracy: 0.8581\n",
      "Epoch 26/50\n",
      "319/319 [==============================] - 0s 709us/step - loss: 0.3626 - accuracy: 0.8616\n",
      "Epoch 27/50\n",
      "319/319 [==============================] - 0s 699us/step - loss: 0.3773 - accuracy: 0.8615\n",
      "Epoch 28/50\n",
      "319/319 [==============================] - 0s 706us/step - loss: 0.3641 - accuracy: 0.8620\n",
      "Epoch 29/50\n",
      "319/319 [==============================] - 0s 696us/step - loss: 0.3505 - accuracy: 0.8676\n",
      "Epoch 30/50\n",
      "319/319 [==============================] - 0s 712us/step - loss: 0.3647 - accuracy: 0.8604\n",
      "Epoch 31/50\n",
      "319/319 [==============================] - 0s 715us/step - loss: 0.3807 - accuracy: 0.8592\n",
      "Epoch 32/50\n",
      "319/319 [==============================] - 0s 718us/step - loss: 0.3663 - accuracy: 0.8591\n",
      "Epoch 33/50\n",
      "319/319 [==============================] - 0s 703us/step - loss: 0.3641 - accuracy: 0.8612\n",
      "Epoch 34/50\n",
      "319/319 [==============================] - 0s 703us/step - loss: 0.3878 - accuracy: 0.8538\n",
      "Epoch 35/50\n",
      "319/319 [==============================] - 0s 712us/step - loss: 0.3835 - accuracy: 0.8514\n",
      "Epoch 36/50\n",
      "319/319 [==============================] - 0s 704us/step - loss: 0.3518 - accuracy: 0.8693\n",
      "Epoch 37/50\n",
      "319/319 [==============================] - 0s 712us/step - loss: 0.3583 - accuracy: 0.8661\n",
      "Epoch 38/50\n",
      "319/319 [==============================] - 0s 710us/step - loss: 0.3646 - accuracy: 0.8604\n",
      "Epoch 39/50\n",
      "319/319 [==============================] - 0s 699us/step - loss: 0.3474 - accuracy: 0.8661\n",
      "Epoch 40/50\n",
      "319/319 [==============================] - 0s 765us/step - loss: 0.3467 - accuracy: 0.8680\n",
      "Epoch 41/50\n",
      "319/319 [==============================] - 0s 706us/step - loss: 0.3658 - accuracy: 0.8629\n",
      "Epoch 42/50\n",
      "319/319 [==============================] - 0s 715us/step - loss: 0.3444 - accuracy: 0.8693\n",
      "Epoch 43/50\n",
      "319/319 [==============================] - 0s 684us/step - loss: 0.3592 - accuracy: 0.8621\n",
      "Epoch 44/50\n",
      "319/319 [==============================] - 0s 717us/step - loss: 0.3422 - accuracy: 0.8674\n",
      "Epoch 45/50\n",
      "319/319 [==============================] - 0s 703us/step - loss: 0.3717 - accuracy: 0.8572\n",
      "Epoch 46/50\n",
      "319/319 [==============================] - 0s 703us/step - loss: 0.3781 - accuracy: 0.8581\n",
      "Epoch 47/50\n",
      "319/319 [==============================] - 0s 708us/step - loss: 0.3692 - accuracy: 0.8598\n",
      "Epoch 48/50\n",
      "319/319 [==============================] - 0s 724us/step - loss: 0.3451 - accuracy: 0.8659\n",
      "Epoch 49/50\n",
      "319/319 [==============================] - 0s 699us/step - loss: 0.3607 - accuracy: 0.8645\n",
      "Epoch 50/50\n",
      "319/319 [==============================] - 0s 699us/step - loss: 0.3547 - accuracy: 0.8622\n"
     ]
    },
    {
     "data": {
      "text/plain": [
       "[<matplotlib.lines.Line2D at 0x12d5465d600>]"
      ]
     },
     "execution_count": 38,
     "metadata": {},
     "output_type": "execute_result"
    },
    {
     "data": {
      "image/png": "[encoded data removed]",
      "text/plain": [
       "<Figure size 640x480 with 1 Axes>"
      ]
     },
     "metadata": {},
     "output_type": "display_data"
    }
   ],
   "source": [
    "model = keras.Sequential([\n",
    "  keras.layers.InputLayer(input_shape=[4,]),\n",
    "  keras.layers.Flatten(),\n",
    "  keras.layers.Dense(128, activation='relu'),\n",
    "  keras.layers.Dense(64, activation='relu'),\n",
    "  keras.layers.Dense(7)  # target의 개수\n",
    "])\n",
    "\n",
    "model.compile(optimizer=keras.optimizers.Adam(learning_rate=0.01), \n",
    "              loss=keras.losses.SparseCategoricalCrossentropy(from_logits=True),\n",
    "              metrics=['accuracy']) # 분류기는 accuracy를 확인\n",
    "\n",
    "h = model.fit(X_train, y_train, epochs=50)\n",
    "\n",
    "_, axe = plt.subplots()\n",
    "\n",
    "axe.plot(h.history['accuracy'])"
   ]
  }
 ],
 "metadata": {
  "kernelspec": {
   "display_name": "Python 3.10.11 64-bit",
   "language": "python",
   "name": "python3"
  },
  "language_info": {
   "codemirror_mode": {
    "name": "ipython",
    "version": 3
   },
   "file_extension": ".py",
   "mimetype": "text/x-python",
   "name": "python",
   "nbconvert_exporter": "python",
   "pygments_lexer": "ipython3",
   "version": "3.10.11"
  },
  "orig_nbformat": 4,
  "vscode": {
   "interpreter": {
    "hash": "c19fa61d258bb2b35aae2ada233c33e2817c1ce895aa48acba720c6bf7cbe3cb"
   }
  }
 },
 "nbformat": 4,
 "nbformat_minor": 2
}
