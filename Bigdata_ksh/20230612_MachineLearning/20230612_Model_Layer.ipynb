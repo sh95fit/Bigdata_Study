{
 "cells": [
  {
   "cell_type": "code",
   "execution_count": 141,
   "metadata": {},
   "outputs": [],
   "source": [
    "import tensorflow as tf\n",
    "from tensorflow import keras\n",
    "import numpy as np               \n",
    "import matplotlib.pyplot as plt"
   ]
  },
  {
   "cell_type": "code",
   "execution_count": 142,
   "metadata": {},
   "outputs": [
    {
     "name": "stdout",
     "output_type": "stream",
     "text": [
      "Model: \"my_model_1\"\n",
      "_________________________________________________________________\n",
      " Layer (type)                Output Shape              Param #   \n",
      "=================================================================\n",
      " my_dense_input_1 (Dense)    (None, 8)                 16        \n",
      "                                                                 \n",
      " my_dense_input_2 (Dense)    (None, 4)                 36        \n",
      "                                                                 \n",
      "=================================================================\n",
      "Total params: 52\n",
      "Trainable params: 52\n",
      "Non-trainable params: 0\n",
      "_________________________________________________________________\n"
     ]
    },
    {
     "data": {
      "text/plain": [
       "'my_dense_input_1'"
      ]
     },
     "execution_count": 142,
     "metadata": {},
     "output_type": "execute_result"
    }
   ],
   "source": [
    "model = keras.Sequential([\n",
    "  # keras.layers.InputLayer(input_shape=(1,)),\n",
    "  keras.layers.Dense(units=8, input_shape=(1,), name='my_dense_input_1'),\n",
    "  keras.layers.Dense(units=4, name='my_dense_input_2')\n",
    "], name='my_model_1')\n",
    "\n",
    "model.summary()\n",
    "model.layers\n",
    "\n",
    "model.layers[0].name\n",
    "model.get_layer(index=0).name\n",
    "model.get_layer(name='my_dense_input_1').name"
   ]
  },
  {
   "cell_type": "code",
   "execution_count": 143,
   "metadata": {},
   "outputs": [
    {
     "name": "stdout",
     "output_type": "stream",
     "text": [
      "Model: \"my_model_1\"\n",
      "_________________________________________________________________\n",
      " Layer (type)                Output Shape              Param #   \n",
      "=================================================================\n",
      " my_dense_input_1 (Dense)    (None, 8)                 16        \n",
      "                                                                 \n",
      " my_dense_input_2 (Dense)    (None, 4)                 36        \n",
      "                                                                 \n",
      " my_dense_last_output (Dense  (None, 1)                5         \n",
      " )                                                               \n",
      "                                                                 \n",
      "=================================================================\n",
      "Total params: 57\n",
      "Trainable params: 57\n",
      "Non-trainable params: 0\n",
      "_________________________________________________________________\n"
     ]
    }
   ],
   "source": [
    "model.add(keras.layers.Dense(units=1, name='my_dense_last_output'))\n",
    "\n",
    "model.summary()"
   ]
  },
  {
   "cell_type": "code",
   "execution_count": 144,
   "metadata": {},
   "outputs": [
    {
     "name": "stdout",
     "output_type": "stream",
     "text": [
      "Model: \"my_model_1\"\n",
      "_________________________________________________________________\n",
      " Layer (type)                Output Shape              Param #   \n",
      "=================================================================\n",
      " my_dense_input_1 (Dense)    (None, 8)                 16        \n",
      "                                                                 \n",
      " my_dense_input_2 (Dense)    (None, 4)                 36        \n",
      "                                                                 \n",
      "=================================================================\n",
      "Total params: 52\n",
      "Trainable params: 52\n",
      "Non-trainable params: 0\n",
      "_________________________________________________________________\n"
     ]
    }
   ],
   "source": [
    "model.pop()\n",
    "model.summary()"
   ]
  },
  {
   "cell_type": "code",
   "execution_count": 145,
   "metadata": {},
   "outputs": [
    {
     "name": "stdout",
     "output_type": "stream",
     "text": [
      "(5, 1)\n"
     ]
    }
   ],
   "source": [
    "X = np.ones(5).reshape(5,1)\n",
    "print(X.shape)"
   ]
  },
  {
   "cell_type": "code",
   "execution_count": 146,
   "metadata": {},
   "outputs": [
    {
     "name": "stdout",
     "output_type": "stream",
     "text": [
      "Model: \"sequential_17\"\n",
      "_________________________________________________________________\n",
      " Layer (type)                Output Shape              Param #   \n",
      "=================================================================\n",
      " dense_57 (Dense)            (None, 10)                20        \n",
      "                                                                 \n",
      " dense_58 (Dense)            (None, 5)                 55        \n",
      "                                                                 \n",
      "=================================================================\n",
      "Total params: 75\n",
      "Trainable params: 75\n",
      "Non-trainable params: 0\n",
      "_________________________________________________________________\n"
     ]
    }
   ],
   "source": [
    "model2 = keras.Sequential()\n",
    "\n",
    "layer1 = keras.layers.Dense(10, input_shape=(1,))\n",
    "layer2 = keras.layers.Dense(5)\n",
    "\n",
    "model2.add(layer1)\n",
    "model2.add(layer2)\n",
    "model2.summary()\n",
    "\n",
    "# other type\n",
    "# model3 = keras.Sequential([layer1, layer2 ...])"
   ]
  },
  {
   "cell_type": "code",
   "execution_count": 147,
   "metadata": {},
   "outputs": [
    {
     "name": "stdout",
     "output_type": "stream",
     "text": [
      "You must install pydot (`pip install pydot`) and install graphviz (see instructions at https://graphviz.gitlab.io/download/) for plot_model to work.\n",
      "1/1 [==============================] - 0s 42ms/step\n",
      "[[-0.835791   -0.13618928 -0.13095754 -0.09250429  0.46671432]\n",
      " [-0.835791   -0.13618928 -0.13095754 -0.09250429  0.46671432]\n",
      " [-0.835791   -0.13618928 -0.13095754 -0.09250429  0.46671432]\n",
      " [-0.835791   -0.13618928 -0.13095754 -0.09250429  0.46671432]\n",
      " [-0.835791   -0.13618928 -0.13095754 -0.09250429  0.46671432]] (5, 5)\n"
     ]
    }
   ],
   "source": [
    "keras.utils.plot_model(model2)\n",
    "\n",
    "out1 = model2.predict(X)\n",
    "print(out1, np.array(out1).shape)"
   ]
  },
  {
   "cell_type": "code",
   "execution_count": 148,
   "metadata": {},
   "outputs": [
    {
     "name": "stdout",
     "output_type": "stream",
     "text": [
      "You must install pydot (`pip install pydot`) and install graphviz (see instructions at https://graphviz.gitlab.io/download/) for plot_model to work.\n",
      "1/1 [==============================] - 0s 39ms/step\n",
      "[array([[-0.29676044],\n",
      "       [-0.29676044],\n",
      "       [-0.29676044],\n",
      "       [-0.29676044],\n",
      "       [-0.29676044]], dtype=float32), array([[-0.39403194],\n",
      "       [-0.39403194],\n",
      "       [-0.39403194],\n",
      "       [-0.39403194],\n",
      "       [-0.39403194]], dtype=float32)] (2, 5, 1)\n",
      "You must install pydot (`pip install pydot`) and install graphviz (see instructions at https://graphviz.gitlab.io/download/) for plot_model to work.\n"
     ]
    }
   ],
   "source": [
    "#### functional model\n",
    "\n",
    "input_layer = keras.layers.Input(shape=(1,))\n",
    "hidden_layer1 = keras.layers.Dense(1, name='hidden1')\n",
    "hidden_layer2 = keras.layers.Dense(1, name='hidden2')\n",
    "output_layer = keras.layers.Dense(1, name='output')\n",
    "\n",
    "# step1 = hidden_layer1(input_layer)\n",
    "# step2 = hidden_layer2(step1)\n",
    "# step3 = output_layer(step2)\n",
    "\n",
    "step1 = hidden_layer1(input_layer)\n",
    "step2 = hidden_layer2(input_layer)\n",
    "step3 = output_layer(step2)\n",
    "\n",
    "model = keras.Model(inputs=[input_layer], outputs=[step1, step3])\n",
    "keras.utils.plot_model(model)\n",
    "\n",
    "out2 = model.predict(X)\n",
    "print(out2, np.array(out2).shape)\n",
    "\n",
    "keras.utils.plot_model(model)"
   ]
  },
  {
   "cell_type": "code",
   "execution_count": 149,
   "metadata": {},
   "outputs": [
    {
     "name": "stdout",
     "output_type": "stream",
     "text": [
      "You must install pydot (`pip install pydot`) and install graphviz (see instructions at https://graphviz.gitlab.io/download/) for plot_model to work.\n"
     ]
    }
   ],
   "source": [
    "input_layer = keras.layers.Input(shape=(1,))\n",
    "hidden_layer1 = keras.layers.Dense(1, name='hidden1')(input_layer)\n",
    "hidden_layer2 = keras.layers.Dense(1, name='hidden2')(input_layer)\n",
    "output_layer = keras.layers.Dense(1, name='output')(hidden_layer2)\n",
    "\n",
    "model = keras.Model(inputs=[input_layer], outputs=[hidden_layer1, output_layer])\n",
    "keras.utils.plot_model(model)"
   ]
  },
  {
   "cell_type": "code",
   "execution_count": 150,
   "metadata": {},
   "outputs": [
    {
     "name": "stdout",
     "output_type": "stream",
     "text": [
      "Model: \"my_model1\"\n",
      "_________________________________________________________________\n",
      " Layer (type)                Output Shape              Param #   \n",
      "=================================================================\n",
      " my_dense_input (Dense)      (None, 1)                 2         \n",
      "                                                                 \n",
      "=================================================================\n",
      "Total params: 2\n",
      "Trainable params: 0\n",
      "Non-trainable params: 2\n",
      "_________________________________________________________________\n"
     ]
    }
   ],
   "source": [
    "#### Layer\n",
    "\n",
    "model = keras.Sequential([\n",
    "  keras.layers.Dense(units=1, input_shape=(1,), name=\"my_dense_input\", kernel_initializer=tf.keras.initializers.Ones()) # 초기값 설정 가능\n",
    "], name='my_model1')\n",
    "\n",
    "# model.summary()\n",
    "\n",
    "layer1 = model.get_layer(index=0)\n",
    "\n",
    "layer1.weights\n",
    "\n",
    "layer1.get_weights()\n",
    "\n",
    "# layer1.set_weights([np.array([[0.12345]]), np.array([0.54321])])  # 인자 : 기울기, 절편\n",
    "# layer1.get_weights()\n",
    "\n",
    "# layer1.trainable_weights\n",
    "\n",
    "layer1.trainable = False\n",
    "layer1.trainable_weights  # 전이 학습 시 활용\n",
    "\n",
    "model.summary()"
   ]
  },
  {
   "cell_type": "code",
   "execution_count": 153,
   "metadata": {},
   "outputs": [],
   "source": [
    "model = keras.Sequential([\n",
    "  keras.layers.Dense(units=1, input_shape=(1,), activation='relu')\n",
    "], name='my_model1')\n",
    "\n",
    "model = keras.Sequential([\n",
    "  keras.layers.Dense(units=1, input_shape=(1,)), keras.layers.ReLU()\n",
    "], name='my_model2')\n",
    "\n",
    "model = keras.Sequential([\n",
    "  keras.layers.Dense(units=1, input_shape=(1,)), keras.layers.Activation('relu')\n",
    "], name='my_model3')\n",
    "\n",
    "model = keras.Sequential([\n",
    "  keras.layers.Dense(units=1, input_shape=(1,), activation=keras.activations.relu)\n",
    "], name='my_model4')\n",
    "\n",
    "model = keras.Sequential([\n",
    "  keras.layers.Dense(1, input_shape=(1,)),\n",
    "  keras.layers.Activation(keras.activations.relu)\n",
    "])\n",
    "\n",
    "model = keras.Sequential([\n",
    "  keras.layers.Dense(1, input_shape=(1,)),\n",
    "  keras.layers.ReLU()\n",
    "])\n"
   ]
  },
  {
   "cell_type": "code",
   "execution_count": 163,
   "metadata": {},
   "outputs": [
    {
     "name": "stdout",
     "output_type": "stream",
     "text": [
      "4/4 [==============================] - 0s 997us/step\n",
      "4/4 [==============================] - 0s 997us/step\n"
     ]
    },
    {
     "data": {
      "text/plain": [
       "array([[-3.        ],\n",
       "       [-2.939394  ],\n",
       "       [-2.878788  ],\n",
       "       [-2.8181818 ],\n",
       "       [-2.757576  ],\n",
       "       [-2.6969697 ],\n",
       "       [-2.6363637 ],\n",
       "       [-2.5757575 ],\n",
       "       [-2.5151517 ],\n",
       "       [-2.4545455 ],\n",
       "       [-2.3939395 ],\n",
       "       [-2.3333335 ],\n",
       "       [-2.2727273 ],\n",
       "       [-2.2121212 ],\n",
       "       [-2.1515152 ],\n",
       "       [-2.0909092 ],\n",
       "       [-2.0303032 ],\n",
       "       [-1.9696971 ],\n",
       "       [-1.909091  ],\n",
       "       [-1.848485  ],\n",
       "       [-1.7878789 ],\n",
       "       [-1.7272729 ],\n",
       "       [-1.6666666 ],\n",
       "       [-1.6060606 ],\n",
       "       [-1.5454546 ],\n",
       "       [-1.4848485 ],\n",
       "       [-1.4242425 ],\n",
       "       [-1.3636364 ],\n",
       "       [-1.3030304 ],\n",
       "       [-1.2424242 ],\n",
       "       [-1.1818182 ],\n",
       "       [-1.1212122 ],\n",
       "       [-1.0606061 ],\n",
       "       [-1.        ],\n",
       "       [-0.93939394],\n",
       "       [-0.87878793],\n",
       "       [-0.8181819 ],\n",
       "       [-0.7575758 ],\n",
       "       [-0.69696975],\n",
       "       [-0.6363636 ],\n",
       "       [-0.5757576 ],\n",
       "       [-0.5151515 ],\n",
       "       [-0.45454547],\n",
       "       [-0.3939394 ],\n",
       "       [-0.33333337],\n",
       "       [-0.27272728],\n",
       "       [-0.21212122],\n",
       "       [-0.15151516],\n",
       "       [-0.09090909],\n",
       "       [-0.03030303],\n",
       "       [ 0.1010101 ],\n",
       "       [ 0.3030303 ],\n",
       "       [ 0.5050505 ],\n",
       "       [ 0.7070707 ],\n",
       "       [ 0.90909094],\n",
       "       [ 1.1111112 ],\n",
       "       [ 1.3131313 ],\n",
       "       [ 1.5151515 ],\n",
       "       [ 1.7171717 ],\n",
       "       [ 1.919192  ],\n",
       "       [ 2.121212  ],\n",
       "       [ 2.3232324 ],\n",
       "       [ 2.5252526 ],\n",
       "       [ 2.7272727 ],\n",
       "       [ 2.929293  ],\n",
       "       [ 3.131313  ],\n",
       "       [ 3.3333333 ],\n",
       "       [ 3.5353534 ],\n",
       "       [ 3.7373738 ],\n",
       "       [ 3.939394  ],\n",
       "       [ 4.141414  ],\n",
       "       [ 4.3434343 ],\n",
       "       [ 4.5454545 ],\n",
       "       [ 4.7474747 ],\n",
       "       [ 4.949495  ],\n",
       "       [ 5.151515  ],\n",
       "       [ 5.353535  ],\n",
       "       [ 5.5555553 ],\n",
       "       [ 5.757576  ],\n",
       "       [ 5.959596  ],\n",
       "       [ 6.1616163 ],\n",
       "       [ 6.3636365 ],\n",
       "       [ 6.5656567 ],\n",
       "       [ 6.767677  ],\n",
       "       [ 6.969697  ],\n",
       "       [ 7.171717  ],\n",
       "       [ 7.3737373 ],\n",
       "       [ 7.5757575 ],\n",
       "       [ 7.7777777 ],\n",
       "       [ 7.979798  ],\n",
       "       [ 8.181818  ],\n",
       "       [ 8.383839  ],\n",
       "       [ 8.585858  ],\n",
       "       [ 8.787879  ],\n",
       "       [ 8.989899  ],\n",
       "       [ 9.191919  ],\n",
       "       [ 9.393939  ],\n",
       "       [ 9.59596   ],\n",
       "       [ 9.797979  ],\n",
       "       [10.        ]], dtype=float32)"
      ]
     },
     "execution_count": 163,
     "metadata": {},
     "output_type": "execute_result"
    },
    {
     "data": {
      "image/png": "[encoded data removed]",
      "text/plain": [
       "<Figure size 640x480 with 1 Axes>"
      ]
     },
     "metadata": {},
     "output_type": "display_data"
    }
   ],
   "source": [
    "X = np.linspace(-10, 10, 100).reshape(100, 1)\n",
    "model = keras.Sequential([\n",
    "  # keras.layers.Activation(keras.activations.sigmoid)\n",
    "  # keras.layers.Activation('sigmoid')\n",
    "  # keras.layers.Activation('relu')\n",
    "  # keras.layers.ReLU(negative_slope=0.2)\n",
    "  # keras.layers.ELU()\n",
    "  keras.layers.LeakyReLU()\n",
    "])\n",
    "\n",
    "_, axe = plt.subplots()\n",
    "axe.plot(X, model.predict(X))\n",
    "model.predict(X)"
   ]
  }
 ],
 "metadata": {
  "kernelspec": {
   "display_name": "Python 3.10.11 64-bit",
   "language": "python",
   "name": "python3"
  },
  "language_info": {
   "codemirror_mode": {
    "name": "ipython",
    "version": 3
   },
   "file_extension": ".py",
   "mimetype": "text/x-python",
   "name": "python",
   "nbconvert_exporter": "python",
   "pygments_lexer": "ipython3",
   "version": "3.10.11"
  },
  "orig_nbformat": 4,
  "vscode": {
   "interpreter": {
    "hash": "c19fa61d258bb2b35aae2ada233c33e2817c1ce895aa48acba720c6bf7cbe3cb"
   }
  }
 },
 "nbformat": 4,
 "nbformat_minor": 2
}
