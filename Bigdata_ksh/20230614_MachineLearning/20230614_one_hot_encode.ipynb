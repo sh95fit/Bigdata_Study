{
 "cells": [
  {
   "cell_type": "code",
   "execution_count": 3,
   "metadata": {},
   "outputs": [],
   "source": [
    "from tensorflow import keras\n",
    "\n",
    "from sklearn.datasets import load_iris\n",
    "from sklearn.model_selection import train_test_split"
   ]
  },
  {
   "cell_type": "code",
   "execution_count": 4,
   "metadata": {},
   "outputs": [],
   "source": [
    "X, y = load_iris(return_X_y=True)\n",
    "\n",
    "X_train, X_test, y_train, y_test = train_test_split(X, y, stratify=y, random_state=10)"
   ]
  },
  {
   "cell_type": "code",
   "execution_count": 5,
   "metadata": {},
   "outputs": [
    {
     "name": "stdout",
     "output_type": "stream",
     "text": [
      "(112, 4)\n"
     ]
    }
   ],
   "source": [
    "print(X_train.shape)"
   ]
  },
  {
   "cell_type": "code",
   "execution_count": 6,
   "metadata": {},
   "outputs": [
    {
     "name": "stdout",
     "output_type": "stream",
     "text": [
      "Epoch 1/5\n",
      "4/4 [==============================] - 1s 4ms/step - loss: 2.0624 - sparse_categorical_accuracy: 0.3304\n",
      "Epoch 2/5\n",
      "4/4 [==============================] - 0s 2ms/step - loss: 1.8844 - sparse_categorical_accuracy: 0.3214\n",
      "Epoch 3/5\n",
      "4/4 [==============================] - 0s 2ms/step - loss: 1.7926 - sparse_categorical_accuracy: 0.3036\n",
      "Epoch 4/5\n",
      "4/4 [==============================] - 0s 2ms/step - loss: 1.7466 - sparse_categorical_accuracy: 0.3036\n",
      "Epoch 5/5\n",
      "4/4 [==============================] - 0s 2ms/step - loss: 1.7043 - sparse_categorical_accuracy: 0.2857\n"
     ]
    },
    {
     "data": {
      "text/plain": [
       "<keras.callbacks.History at 0x24b9120fbd0>"
      ]
     },
     "execution_count": 6,
     "metadata": {},
     "output_type": "execute_result"
    }
   ],
   "source": [
    "m = keras.Sequential([\n",
    "    keras.layers.Dense(12, input_shape=(4,), activation='relu'),\n",
    "    keras.layers.Dense(6, activation='relu'),\n",
    "    keras.layers.Dense(3, activation='softmax') # logit값이 아니므로 from_logits를 False로 둔다\n",
    "])\n",
    "\n",
    "m.compile(loss = keras.losses.SparseCategoricalCrossentropy(from_logits=False),\n",
    "          optimizer=keras.optimizers.Adam(),\n",
    "          metrics=[keras.metrics.SparseCategoricalAccuracy()])\n",
    "\n",
    "m.compile(loss = keras.losses.SparseCategoricalCrossentropy(),\n",
    "          optimizer=keras.optimizers.Adam(),\n",
    "          metrics=[keras.metrics.SparseCategoricalAccuracy()])\n",
    "\n",
    "m.compile(loss = 'SparseCategoricalCrossentropy',\n",
    "          optimizer=keras.optimizers.Adam(),\n",
    "          metrics=[keras.metrics.SparseCategoricalAccuracy()])\n",
    "\n",
    "\n",
    "m.fit(X_train, y_train, epochs=5)"
   ]
  },
  {
   "cell_type": "code",
   "execution_count": 7,
   "metadata": {},
   "outputs": [
    {
     "name": "stdout",
     "output_type": "stream",
     "text": [
      "[0 2 1 0 1 1 2 1 1 1 2 0 2 2 1 2 0 2 0 2 0 1 1 1 0 1 0 2 2 1 1 2 0 0 0 1 0\n",
      " 0 0 1 1 2 0 2 1 0 2 1 0 0 2 0 2 0 0 0 1 2 1 0 1 2 1 0 1 1 2 1 1 0 1 2 1 0\n",
      " 2 2 2 1 0 2 2 1 1 2 1 2 1 2 0 0 0 0 0 2 1 2 2 2 0 0 1 0 1 2 2 2 0 2 0 2 0\n",
      " 1]\n",
      "[[1. 0. 0.]\n",
      " [0. 0. 1.]\n",
      " [0. 1. 0.]\n",
      " [1. 0. 0.]\n",
      " [0. 1. 0.]\n",
      " [0. 1. 0.]\n",
      " [0. 0. 1.]\n",
      " [0. 1. 0.]\n",
      " [0. 1. 0.]\n",
      " [0. 1. 0.]\n",
      " [0. 0. 1.]\n",
      " [1. 0. 0.]\n",
      " [0. 0. 1.]\n",
      " [0. 0. 1.]\n",
      " [0. 1. 0.]\n",
      " [0. 0. 1.]\n",
      " [1. 0. 0.]\n",
      " [0. 0. 1.]\n",
      " [1. 0. 0.]\n",
      " [0. 0. 1.]\n",
      " [1. 0. 0.]\n",
      " [0. 1. 0.]\n",
      " [0. 1. 0.]\n",
      " [0. 1. 0.]\n",
      " [1. 0. 0.]\n",
      " [0. 1. 0.]\n",
      " [1. 0. 0.]\n",
      " [0. 0. 1.]\n",
      " [0. 0. 1.]\n",
      " [0. 1. 0.]\n",
      " [0. 1. 0.]\n",
      " [0. 0. 1.]\n",
      " [1. 0. 0.]\n",
      " [1. 0. 0.]\n",
      " [1. 0. 0.]\n",
      " [0. 1. 0.]\n",
      " [1. 0. 0.]\n",
      " [1. 0. 0.]\n",
      " [1. 0. 0.]\n",
      " [0. 1. 0.]\n",
      " [0. 1. 0.]\n",
      " [0. 0. 1.]\n",
      " [1. 0. 0.]\n",
      " [0. 0. 1.]\n",
      " [0. 1. 0.]\n",
      " [1. 0. 0.]\n",
      " [0. 0. 1.]\n",
      " [0. 1. 0.]\n",
      " [1. 0. 0.]\n",
      " [1. 0. 0.]\n",
      " [0. 0. 1.]\n",
      " [1. 0. 0.]\n",
      " [0. 0. 1.]\n",
      " [1. 0. 0.]\n",
      " [1. 0. 0.]\n",
      " [1. 0. 0.]\n",
      " [0. 1. 0.]\n",
      " [0. 0. 1.]\n",
      " [0. 1. 0.]\n",
      " [1. 0. 0.]\n",
      " [0. 1. 0.]\n",
      " [0. 0. 1.]\n",
      " [0. 1. 0.]\n",
      " [1. 0. 0.]\n",
      " [0. 1. 0.]\n",
      " [0. 1. 0.]\n",
      " [0. 0. 1.]\n",
      " [0. 1. 0.]\n",
      " [0. 1. 0.]\n",
      " [1. 0. 0.]\n",
      " [0. 1. 0.]\n",
      " [0. 0. 1.]\n",
      " [0. 1. 0.]\n",
      " [1. 0. 0.]\n",
      " [0. 0. 1.]\n",
      " [0. 0. 1.]\n",
      " [0. 0. 1.]\n",
      " [0. 1. 0.]\n",
      " [1. 0. 0.]\n",
      " [0. 0. 1.]\n",
      " [0. 0. 1.]\n",
      " [0. 1. 0.]\n",
      " [0. 1. 0.]\n",
      " [0. 0. 1.]\n",
      " [0. 1. 0.]\n",
      " [0. 0. 1.]\n",
      " [0. 1. 0.]\n",
      " [0. 0. 1.]\n",
      " [1. 0. 0.]\n",
      " [1. 0. 0.]\n",
      " [1. 0. 0.]\n",
      " [1. 0. 0.]\n",
      " [1. 0. 0.]\n",
      " [0. 0. 1.]\n",
      " [0. 1. 0.]\n",
      " [0. 0. 1.]\n",
      " [0. 0. 1.]\n",
      " [0. 0. 1.]\n",
      " [1. 0. 0.]\n",
      " [1. 0. 0.]\n",
      " [0. 1. 0.]\n",
      " [1. 0. 0.]\n",
      " [0. 1. 0.]\n",
      " [0. 0. 1.]\n",
      " [0. 0. 1.]\n",
      " [0. 0. 1.]\n",
      " [1. 0. 0.]\n",
      " [0. 0. 1.]\n",
      " [1. 0. 0.]\n",
      " [0. 0. 1.]\n",
      " [1. 0. 0.]\n",
      " [0. 1. 0.]]\n"
     ]
    }
   ],
   "source": [
    "print(y_train)\n",
    "print(keras.utils.to_categorical(y_train))  # one-hot encode (행렬 계산이 가능하므로 속도가 빠르다!)"
   ]
  },
  {
   "cell_type": "code",
   "execution_count": 9,
   "metadata": {},
   "outputs": [
    {
     "name": "stdout",
     "output_type": "stream",
     "text": [
      "Epoch 1/5\n",
      "4/4 [==============================] - 1s 3ms/step - loss: 1.2637 - categorical_accuracy: 0.3393\n",
      "Epoch 2/5\n",
      "4/4 [==============================] - 0s 3ms/step - loss: 1.2055 - categorical_accuracy: 0.3393\n",
      "Epoch 3/5\n",
      "4/4 [==============================] - 0s 3ms/step - loss: 1.1551 - categorical_accuracy: 0.3393\n",
      "Epoch 4/5\n",
      "4/4 [==============================] - 0s 3ms/step - loss: 1.1126 - categorical_accuracy: 0.3393\n",
      "Epoch 5/5\n",
      "4/4 [==============================] - 0s 3ms/step - loss: 1.0743 - categorical_accuracy: 0.3482\n"
     ]
    },
    {
     "data": {
      "text/plain": [
       "<keras.callbacks.History at 0x24b944ad250>"
      ]
     },
     "execution_count": 9,
     "metadata": {},
     "output_type": "execute_result"
    }
   ],
   "source": [
    "y_train_onehot = keras.utils.to_categorical(y_train)\n",
    "y_test_onehot = keras.utils.to_categorical(y_test)\n",
    "\n",
    "m = keras.Sequential([\n",
    "    keras.layers.Dense(12, input_shape=(4,), activation='relu'),\n",
    "    keras.layers.Dense(6, activation='relu'),\n",
    "    keras.layers.Dense(3) # logit값이 아니므로 from_logits를 False로 둔다\n",
    "])\n",
    "\n",
    "m.compile(loss = keras.losses.CategoricalCrossentropy(from_logits=True),\n",
    "          optimizer=keras.optimizers.Adam(),\n",
    "          metrics=[keras.metrics.CategoricalAccuracy()])\n",
    "\n",
    "m.fit(X_train, y_train_onehot, epochs=5)"
   ]
  },
  {
   "cell_type": "code",
   "execution_count": 15,
   "metadata": {},
   "outputs": [
    {
     "name": "stdout",
     "output_type": "stream",
     "text": [
      "Test batch # 0\n",
      "Epoch 1/5\n",
      "4/4 [==============================] - 1s 2ms/step - loss: 1.5115 - sparse_categorical_accuracy: 0.3304\n",
      "Test batch # 1\n",
      "Epoch 2/5\n",
      "4/4 [==============================] - 0s 2ms/step - loss: 1.3947 - sparse_categorical_accuracy: 0.3304\n",
      "Test batch # 2\n",
      "Epoch 3/5\n",
      "4/4 [==============================] - 0s 2ms/step - loss: 1.2957 - sparse_categorical_accuracy: 0.3304\n"
     ]
    },
    {
     "data": {
      "text/plain": [
       "<keras.callbacks.History at 0x24b9692cb10>"
      ]
     },
     "execution_count": 15,
     "metadata": {},
     "output_type": "execute_result"
    }
   ],
   "source": [
    "m = keras.Sequential([\n",
    "    keras.layers.Dense(12, input_shape=(4,), activation='relu'),\n",
    "    keras.layers.Dense(6, activation='relu'),\n",
    "    keras.layers.Dense(3) # logit값이 아니므로 from_logits를 False로 둔다\n",
    "])\n",
    "\n",
    "m.compile(loss = keras.losses.SparseCategoricalCrossentropy(from_logits=True),\n",
    "          optimizer=keras.optimizers.Adam(),\n",
    "          metrics=[keras.metrics.SparseCategoricalAccuracy()])\n",
    "\n",
    "# callback 함수 리스트\n",
    "cb1 = [\n",
    "    keras.callbacks.EarlyStopping(monitor='sparse_categorical_accuracy',\n",
    "                                  mode='max', min_delta=0.001, patience=2),\n",
    "    keras.callbacks.LambdaCallback(on_epoch_begin=lambda batch, logs: print('Test batch #', batch))\n",
    "]\n",
    "\n",
    "# m.fit(X_train, y_train, epochs=5, callbacks=[])\n",
    "m.fit(X_train, y_train, epochs=5, callbacks=cb1)"
   ]
  },
  {
   "cell_type": "code",
   "execution_count": null,
   "metadata": {},
   "outputs": [],
   "source": []
  }
 ],
 "metadata": {
  "kernelspec": {
   "display_name": "Python 3",
   "language": "python",
   "name": "python3"
  },
  "language_info": {
   "codemirror_mode": {
    "name": "ipython",
    "version": 3
   },
   "file_extension": ".py",
   "mimetype": "text/x-python",
   "name": "python",
   "nbconvert_exporter": "python",
   "pygments_lexer": "ipython3",
   "version": "3.11.0"
  },
  "orig_nbformat": 4
 },
 "nbformat": 4,
 "nbformat_minor": 2
}
