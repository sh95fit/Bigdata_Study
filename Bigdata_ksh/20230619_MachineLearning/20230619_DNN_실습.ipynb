{
 "cells": [
  {
   "attachments": {},
   "cell_type": "markdown",
   "metadata": {},
   "source": [
    "# UCI Machine Learning - Mushroom\n",
    "\n",
    "* DNN Classifier\n",
    "\n",
    "  - target : poisonous"
   ]
  },
  {
   "cell_type": "code",
   "execution_count": 2,
   "metadata": {},
   "outputs": [],
   "source": [
    "import tensorflow as tf\n",
    "from tensorflow import keras\n",
    "import pandas as pd\n",
    "import numpy as np               \n",
    "import matplotlib.pyplot as plt\n",
    "\n",
    "from sklearn.model_selection import train_test_split"
   ]
  },
  {
   "cell_type": "code",
   "execution_count": 3,
   "metadata": {},
   "outputs": [
    {
     "name": "stdout",
     "output_type": "stream",
     "text": [
      "      p  x  s  n  t p.1  f  c n.1  k  ... s.2  w w.1 p.2 w.2  o p.3 k.1 s.3  u\n",
      "0     e  x  s  y  t   a  f  c   b  k  ...   s  w   w   p   w  o   p   n   n  g\n",
      "1     e  b  s  w  t   l  f  c   b  n  ...   s  w   w   p   w  o   p   n   n  m\n",
      "2     p  x  y  w  t   p  f  c   n  n  ...   s  w   w   p   w  o   p   k   s  u\n",
      "3     e  x  s  g  f   n  f  w   b  k  ...   s  w   w   p   w  o   e   n   a  g\n",
      "4     e  x  y  y  t   a  f  c   b  n  ...   s  w   w   p   w  o   p   k   n  g\n",
      "...  .. .. .. .. ..  .. .. ..  .. ..  ...  .. ..  ..  ..  .. ..  ..  ..  .. ..\n",
      "8118  e  k  s  n  f   n  a  c   b  y  ...   s  o   o   p   o  o   p   b   c  l\n",
      "8119  e  x  s  n  f   n  a  c   b  y  ...   s  o   o   p   n  o   p   b   v  l\n",
      "8120  e  f  s  n  f   n  a  c   b  n  ...   s  o   o   p   o  o   p   b   c  l\n",
      "8121  p  k  y  n  f   y  f  c   n  b  ...   k  w   w   p   w  o   e   w   v  l\n",
      "8122  e  x  s  n  f   n  a  c   b  y  ...   s  o   o   p   o  o   p   o   c  l\n",
      "\n",
      "[8123 rows x 23 columns]\n"
     ]
    }
   ],
   "source": [
    "data = pd.read_csv('agaricus-lepiota.data', encoding='cp949')\n",
    "\n",
    "print(data)"
   ]
  },
  {
   "cell_type": "code",
   "execution_count": 4,
   "metadata": {},
   "outputs": [
    {
     "name": "stdout",
     "output_type": "stream",
     "text": [
      "(8123, 22)\n",
      "[0 1]\n"
     ]
    }
   ],
   "source": [
    "for i in data:\n",
    "    data[i] = data[i].astype('category').cat.codes\n",
    "X = data.iloc[:, 1:]\n",
    "y = data.iloc[:, 0]\n",
    "\n",
    "print(X.shape)\n",
    "print(y.unique())"
   ]
  },
  {
   "cell_type": "code",
   "execution_count": 5,
   "metadata": {},
   "outputs": [],
   "source": [
    "X_train, X_test, y_train, y_test = train_test_split(X, y, stratify=y, random_state=10)"
   ]
  },
  {
   "cell_type": "code",
   "execution_count": 6,
   "metadata": {},
   "outputs": [
    {
     "name": "stdout",
     "output_type": "stream",
     "text": [
      "Epoch 1/10\n",
      "191/191 [==============================] - 1s 730us/step - loss: 0.4459 - accuracy: 0.7902\n",
      "Epoch 2/10\n",
      "191/191 [==============================] - 0s 640us/step - loss: 0.2179 - accuracy: 0.9289\n",
      "Epoch 3/10\n",
      "191/191 [==============================] - 0s 651us/step - loss: 0.1340 - accuracy: 0.9641\n",
      "Epoch 4/10\n",
      "191/191 [==============================] - 0s 651us/step - loss: 0.0884 - accuracy: 0.9792\n",
      "Epoch 5/10\n",
      "191/191 [==============================] - 0s 656us/step - loss: 0.0614 - accuracy: 0.9856\n",
      "Epoch 6/10\n",
      "191/191 [==============================] - 0s 640us/step - loss: 0.0395 - accuracy: 0.9905\n",
      "Epoch 7/10\n",
      "191/191 [==============================] - 0s 640us/step - loss: 0.0295 - accuracy: 0.9933\n",
      "Epoch 8/10\n",
      "191/191 [==============================] - 0s 892us/step - loss: 0.0197 - accuracy: 0.9962\n",
      "Epoch 9/10\n",
      "191/191 [==============================] - 0s 1ms/step - loss: 0.0143 - accuracy: 0.9972\n",
      "Epoch 10/10\n",
      "191/191 [==============================] - 0s 791us/step - loss: 0.0112 - accuracy: 0.9980\n"
     ]
    }
   ],
   "source": [
    "m = keras.Sequential([\n",
    "  keras.layers.Dense(32, input_shape=[22,], activation='relu'),\n",
    "  keras.layers.Dense(16, activation='relu'),\n",
    "  keras.layers.Dense(2)  \n",
    "])\n",
    "\n",
    "m.compile(loss=keras.losses.SparseCategoricalCrossentropy(from_logits=True), optimizer=keras.optimizers.Adam(learning_rate=0.001), metrics=['accuracy'])\n",
    "\n",
    "\n",
    "h = m.fit(X_train, y_train, epochs=10)"
   ]
  },
  {
   "cell_type": "code",
   "execution_count": 7,
   "metadata": {},
   "outputs": [
    {
     "data": {
      "text/plain": [
       "[<matplotlib.lines.Line2D at 0x12b8d6e0460>]"
      ]
     },
     "execution_count": 7,
     "metadata": {},
     "output_type": "execute_result"
    },
    {
     "data": {
      "image/png": "[encoded data removed]",
      "text/plain": [
       "<Figure size 640x480 with 1 Axes>"
      ]
     },
     "metadata": {},
     "output_type": "display_data"
    }
   ],
   "source": [
    "import matplotlib.pyplot as plt\n",
    "\n",
    "_, axe = plt.subplots()\n",
    "\n",
    "axe.plot(h.history['accuracy'])"
   ]
  },
  {
   "cell_type": "code",
   "execution_count": 9,
   "metadata": {},
   "outputs": [
    {
     "name": "stdout",
     "output_type": "stream",
     "text": [
      "      p  x  s  n  t p.1  f  c n.1  k  ... s.2  w w.1 p.2 w.2  o p.3 k.1 s.3  u\n",
      "0     e  x  s  y  t   a  f  c   b  k  ...   s  w   w   p   w  o   p   n   n  g\n",
      "1     e  b  s  w  t   l  f  c   b  n  ...   s  w   w   p   w  o   p   n   n  m\n",
      "2     p  x  y  w  t   p  f  c   n  n  ...   s  w   w   p   w  o   p   k   s  u\n",
      "3     e  x  s  g  f   n  f  w   b  k  ...   s  w   w   p   w  o   e   n   a  g\n",
      "4     e  x  y  y  t   a  f  c   b  n  ...   s  w   w   p   w  o   p   k   n  g\n",
      "...  .. .. .. .. ..  .. .. ..  .. ..  ...  .. ..  ..  ..  .. ..  ..  ..  .. ..\n",
      "8118  e  k  s  n  f   n  a  c   b  y  ...   s  o   o   p   o  o   p   b   c  l\n",
      "8119  e  x  s  n  f   n  a  c   b  y  ...   s  o   o   p   n  o   p   b   v  l\n",
      "8120  e  f  s  n  f   n  a  c   b  n  ...   s  o   o   p   o  o   p   b   c  l\n",
      "8121  p  k  y  n  f   y  f  c   n  b  ...   k  w   w   p   w  o   e   w   v  l\n",
      "8122  e  x  s  n  f   n  a  c   b  y  ...   s  o   o   p   o  o   p   o   c  l\n",
      "\n",
      "[8123 rows x 23 columns]\n"
     ]
    }
   ],
   "source": [
    "data = pd.read_csv('agaricus-lepiota.data', encoding='cp949')\n",
    "\n",
    "print(data)"
   ]
  },
  {
   "cell_type": "code",
   "execution_count": 10,
   "metadata": {},
   "outputs": [
    {
     "name": "stdout",
     "output_type": "stream",
     "text": [
      "(8123, 22)\n",
      "[0 1]\n"
     ]
    }
   ],
   "source": [
    "for i in data:\n",
    "    data[i] = data[i].astype('category').cat.codes\n",
    "X = data.iloc[:, 1:]\n",
    "y = data.iloc[:, 0]\n",
    "\n",
    "print(X.shape)\n",
    "print(y.unique())"
   ]
  },
  {
   "cell_type": "code",
   "execution_count": 13,
   "metadata": {},
   "outputs": [
    {
     "name": "stdout",
     "output_type": "stream",
     "text": [
      "(6092, 22)\n"
     ]
    }
   ],
   "source": [
    "X_train, X_test, y_train, y_test = train_test_split(X, y, stratify=y, random_state=10)\n",
    "\n",
    "print(X_train.shape)"
   ]
  },
  {
   "cell_type": "code",
   "execution_count": 14,
   "metadata": {},
   "outputs": [
    {
     "name": "stdout",
     "output_type": "stream",
     "text": [
      "Epoch 1/10\n",
      "191/191 [==============================] - 1s 693us/step - loss: 0.3524 - accuracy: 0.8572\n",
      "Epoch 2/10\n",
      "191/191 [==============================] - 0s 745us/step - loss: 0.1453 - accuracy: 0.9527\n",
      "Epoch 3/10\n",
      "191/191 [==============================] - 0s 919us/step - loss: 0.0896 - accuracy: 0.9736\n",
      "Epoch 4/10\n",
      "191/191 [==============================] - 0s 821us/step - loss: 0.0608 - accuracy: 0.9819\n",
      "Epoch 5/10\n",
      "191/191 [==============================] - 0s 871us/step - loss: 0.0413 - accuracy: 0.9879\n",
      "Epoch 6/10\n",
      "191/191 [==============================] - 0s 766us/step - loss: 0.0289 - accuracy: 0.9915\n",
      "Epoch 7/10\n",
      "191/191 [==============================] - 0s 777us/step - loss: 0.0191 - accuracy: 0.9949\n",
      "Epoch 8/10\n",
      "191/191 [==============================] - 0s 740us/step - loss: 0.0134 - accuracy: 0.9964\n",
      "Epoch 9/10\n",
      "191/191 [==============================] - 0s 709us/step - loss: 0.0113 - accuracy: 0.9972\n",
      "Epoch 10/10\n",
      "191/191 [==============================] - 0s 766us/step - loss: 0.0067 - accuracy: 0.9985\n"
     ]
    }
   ],
   "source": [
    "m = keras.Sequential([\n",
    "  keras.layers.Dense(44, input_shape=(22,), activation=\"relu\"),\n",
    "  keras.layers.Dense(22, activation='relu'),\n",
    "  keras.layers.Dense(2)\n",
    "])\n",
    "\n",
    "m.compile(loss=keras.losses.SparseCategoricalCrossentropy(from_logits=True), optimizer=keras.optimizers.Adam(), metrics=['accuracy'])\n",
    "\n",
    "h = m.fit(X_train, y_train, epochs=10)"
   ]
  },
  {
   "cell_type": "code",
   "execution_count": 16,
   "metadata": {},
   "outputs": [
    {
     "data": {
      "text/plain": [
       "[<matplotlib.lines.Line2D at 0x12b8d8773d0>]"
      ]
     },
     "execution_count": 16,
     "metadata": {},
     "output_type": "execute_result"
    },
    {
     "data": {
      "image/png": "[encoded data removed]",
      "text/plain": [
       "<Figure size 640x480 with 1 Axes>"
      ]
     },
     "metadata": {},
     "output_type": "display_data"
    }
   ],
   "source": [
    "_, axe = plt.subplots()\n",
    "\n",
    "axe.plot(h.history['accuracy'])"
   ]
  },
  {
   "cell_type": "code",
   "execution_count": 18,
   "metadata": {},
   "outputs": [
    {
     "name": "stdout",
     "output_type": "stream",
     "text": [
      "      p  x  s  n  t p.1  f  c n.1  k  ... s.2  w w.1 p.2 w.2  o p.3 k.1 s.3  u\n",
      "0     e  x  s  y  t   a  f  c   b  k  ...   s  w   w   p   w  o   p   n   n  g\n",
      "1     e  b  s  w  t   l  f  c   b  n  ...   s  w   w   p   w  o   p   n   n  m\n",
      "2     p  x  y  w  t   p  f  c   n  n  ...   s  w   w   p   w  o   p   k   s  u\n",
      "3     e  x  s  g  f   n  f  w   b  k  ...   s  w   w   p   w  o   e   n   a  g\n",
      "4     e  x  y  y  t   a  f  c   b  n  ...   s  w   w   p   w  o   p   k   n  g\n",
      "...  .. .. .. .. ..  .. .. ..  .. ..  ...  .. ..  ..  ..  .. ..  ..  ..  .. ..\n",
      "8118  e  k  s  n  f   n  a  c   b  y  ...   s  o   o   p   o  o   p   b   c  l\n",
      "8119  e  x  s  n  f   n  a  c   b  y  ...   s  o   o   p   n  o   p   b   v  l\n",
      "8120  e  f  s  n  f   n  a  c   b  n  ...   s  o   o   p   o  o   p   b   c  l\n",
      "8121  p  k  y  n  f   y  f  c   n  b  ...   k  w   w   p   w  o   e   w   v  l\n",
      "8122  e  x  s  n  f   n  a  c   b  y  ...   s  o   o   p   o  o   p   o   c  l\n",
      "\n",
      "[8123 rows x 23 columns]\n"
     ]
    }
   ],
   "source": [
    "data = pd.read_csv('agaricus-lepiota.data', encoding='cp949')\n",
    "\n",
    "print(data)"
   ]
  },
  {
   "cell_type": "code",
   "execution_count": 19,
   "metadata": {},
   "outputs": [
    {
     "name": "stdout",
     "output_type": "stream",
     "text": [
      "(8123, 22)\n",
      "[0 1]\n"
     ]
    }
   ],
   "source": [
    "for i in data:\n",
    "    data[i] = data[i].astype('category').cat.codes\n",
    "X = data.iloc[:, 1:]\n",
    "y = data.iloc[:, 0]\n",
    "\n",
    "print(X.shape)\n",
    "print(y.unique())"
   ]
  },
  {
   "cell_type": "code",
   "execution_count": 24,
   "metadata": {},
   "outputs": [
    {
     "name": "stdout",
     "output_type": "stream",
     "text": [
      "Epoch 1/10\n",
      "191/191 [==============================] - 0s 622us/step - loss: 0.5349 - accuracy: 0.7710\n",
      "Epoch 2/10\n",
      "191/191 [==============================] - 0s 614us/step - loss: 0.2784 - accuracy: 0.8941\n",
      "Epoch 3/10\n",
      "191/191 [==============================] - 0s 604us/step - loss: 0.2447 - accuracy: 0.9105\n",
      "Epoch 4/10\n",
      "191/191 [==============================] - 0s 605us/step - loss: 0.2294 - accuracy: 0.9148\n",
      "Epoch 5/10\n",
      "191/191 [==============================] - 0s 625us/step - loss: 0.2231 - accuracy: 0.9164\n",
      "Epoch 6/10\n",
      "191/191 [==============================] - 0s 703us/step - loss: 0.2133 - accuracy: 0.9215\n",
      "Epoch 7/10\n",
      "191/191 [==============================] - 0s 735us/step - loss: 0.2099 - accuracy: 0.9235\n",
      "Epoch 8/10\n",
      "191/191 [==============================] - 0s 656us/step - loss: 0.2058 - accuracy: 0.9248\n",
      "Epoch 9/10\n",
      "191/191 [==============================] - 0s 630us/step - loss: 0.2026 - accuracy: 0.9268\n",
      "Epoch 10/10\n",
      "191/191 [==============================] - 0s 659us/step - loss: 0.1982 - accuracy: 0.9248\n"
     ]
    }
   ],
   "source": [
    "m = keras.Sequential([\n",
    "  keras.layers.Dense(1) # Binary로 사용할 경우 Dense를 1로 주고 확인 가능!\n",
    "])\n",
    "\n",
    "m.compile(loss=keras.losses.BinaryCrossentropy(from_logits=True), optimizer=keras.optimizers.Adam(learning_rate=0.01),metrics=['accuracy'])\n",
    "\n",
    "h = m.fit(X_train, y_train, epochs=10)"
   ]
  }
 ],
 "metadata": {
  "kernelspec": {
   "display_name": "Python 3.10.11 64-bit",
   "language": "python",
   "name": "python3"
  },
  "language_info": {
   "codemirror_mode": {
    "name": "ipython",
    "version": 3
   },
   "file_extension": ".py",
   "mimetype": "text/x-python",
   "name": "python",
   "nbconvert_exporter": "python",
   "pygments_lexer": "ipython3",
   "version": "3.10.11"
  },
  "orig_nbformat": 4,
  "vscode": {
   "interpreter": {
    "hash": "c19fa61d258bb2b35aae2ada233c33e2817c1ce895aa48acba720c6bf7cbe3cb"
   }
  }
 },
 "nbformat": 4,
 "nbformat_minor": 2
}
