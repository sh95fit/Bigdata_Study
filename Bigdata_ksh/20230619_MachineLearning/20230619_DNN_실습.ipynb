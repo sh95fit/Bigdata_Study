{
 "cells": [
  {
   "attachments": {},
   "cell_type": "markdown",
   "metadata": {},
   "source": [
    "# UCI Machine Learning - Mushroom\n",
    "\n",
    "* DNN Classifier\n",
    "\n",
    "  - target : poisonous"
   ]
  },
  {
   "cell_type": "code",
   "execution_count": 43,
   "metadata": {},
   "outputs": [],
   "source": [
    "import tensorflow as tf\n",
    "from tensorflow import keras\n",
    "import pandas as pd\n",
    "import numpy as np               \n",
    "import matplotlib.pyplot as plt\n",
    "\n",
    "from sklearn.model_selection import train_test_split"
   ]
  },
  {
   "cell_type": "code",
   "execution_count": 44,
   "metadata": {},
   "outputs": [
    {
     "name": "stdout",
     "output_type": "stream",
     "text": [
      "      p  x  s  n  t p.1  f  c n.1  k  ... s.2  w w.1 p.2 w.2  o p.3 k.1 s.3  u\n",
      "0     e  x  s  y  t   a  f  c   b  k  ...   s  w   w   p   w  o   p   n   n  g\n",
      "1     e  b  s  w  t   l  f  c   b  n  ...   s  w   w   p   w  o   p   n   n  m\n",
      "2     p  x  y  w  t   p  f  c   n  n  ...   s  w   w   p   w  o   p   k   s  u\n",
      "3     e  x  s  g  f   n  f  w   b  k  ...   s  w   w   p   w  o   e   n   a  g\n",
      "4     e  x  y  y  t   a  f  c   b  n  ...   s  w   w   p   w  o   p   k   n  g\n",
      "...  .. .. .. .. ..  .. .. ..  .. ..  ...  .. ..  ..  ..  .. ..  ..  ..  .. ..\n",
      "8118  e  k  s  n  f   n  a  c   b  y  ...   s  o   o   p   o  o   p   b   c  l\n",
      "8119  e  x  s  n  f   n  a  c   b  y  ...   s  o   o   p   n  o   p   b   v  l\n",
      "8120  e  f  s  n  f   n  a  c   b  n  ...   s  o   o   p   o  o   p   b   c  l\n",
      "8121  p  k  y  n  f   y  f  c   n  b  ...   k  w   w   p   w  o   e   w   v  l\n",
      "8122  e  x  s  n  f   n  a  c   b  y  ...   s  o   o   p   o  o   p   o   c  l\n",
      "\n",
      "[8123 rows x 23 columns]\n"
     ]
    }
   ],
   "source": [
    "data = pd.read_csv('agaricus-lepiota.data', encoding='cp949')\n",
    "\n",
    "print(data)"
   ]
  },
  {
   "cell_type": "code",
   "execution_count": 45,
   "metadata": {},
   "outputs": [
    {
     "name": "stdout",
     "output_type": "stream",
     "text": [
      "(8123, 22)\n",
      "[0 1]\n"
     ]
    }
   ],
   "source": [
    "for i in data:\n",
    "    data[i] = data[i].astype('category').cat.codes\n",
    "X = data.iloc[:, 1:]\n",
    "y = data.iloc[:, 0]\n",
    "\n",
    "print(X.shape)\n",
    "print(y.unique())"
   ]
  },
  {
   "cell_type": "code",
   "execution_count": 46,
   "metadata": {},
   "outputs": [],
   "source": [
    "X_train, X_test, y_train, y_test = train_test_split(X, y, stratify=y, random_state=10)"
   ]
  },
  {
   "cell_type": "code",
   "execution_count": 47,
   "metadata": {},
   "outputs": [
    {
     "name": "stdout",
     "output_type": "stream",
     "text": [
      "Epoch 1/10\n",
      "191/191 [==============================] - 1s 642us/step - loss: 0.5798 - accuracy: 0.8101\n",
      "Epoch 2/10\n",
      "191/191 [==============================] - 0s 658us/step - loss: 0.2062 - accuracy: 0.9281\n",
      "Epoch 3/10\n",
      "191/191 [==============================] - 0s 621us/step - loss: 0.1456 - accuracy: 0.9424\n",
      "Epoch 4/10\n",
      "191/191 [==============================] - 0s 637us/step - loss: 0.1097 - accuracy: 0.9537\n",
      "Epoch 5/10\n",
      "191/191 [==============================] - 0s 647us/step - loss: 0.0798 - accuracy: 0.9709\n",
      "Epoch 6/10\n",
      "191/191 [==============================] - 0s 642us/step - loss: 0.0572 - accuracy: 0.9839\n",
      "Epoch 7/10\n",
      "191/191 [==============================] - 0s 624us/step - loss: 0.0409 - accuracy: 0.9918\n",
      "Epoch 8/10\n",
      "191/191 [==============================] - 0s 616us/step - loss: 0.0290 - accuracy: 0.9941\n",
      "Epoch 9/10\n",
      "191/191 [==============================] - 0s 610us/step - loss: 0.0208 - accuracy: 0.9962\n",
      "Epoch 10/10\n",
      "191/191 [==============================] - 0s 626us/step - loss: 0.0160 - accuracy: 0.9974\n"
     ]
    }
   ],
   "source": [
    "m = keras.Sequential([\n",
    "  keras.layers.Dense(32, input_shape=[22,], activation='relu'),\n",
    "  keras.layers.Dense(16, activation='relu'),\n",
    "  keras.layers.Dense(2)  \n",
    "])\n",
    "\n",
    "m.compile(loss=keras.losses.SparseCategoricalCrossentropy(from_logits=True), optimizer=keras.optimizers.Adam(learning_rate=0.001), metrics=['accuracy'])\n",
    "\n",
    "\n",
    "h = m.fit(X_train, y_train, epochs=10)"
   ]
  },
  {
   "cell_type": "code",
   "execution_count": 48,
   "metadata": {},
   "outputs": [
    {
     "data": {
      "text/plain": [
       "[<matplotlib.lines.Line2D at 0x271784119d0>]"
      ]
     },
     "execution_count": 48,
     "metadata": {},
     "output_type": "execute_result"
    },
    {
     "data": {
      "image/png": "[encoded data removed]",
      "text/plain": [
       "<Figure size 640x480 with 1 Axes>"
      ]
     },
     "metadata": {},
     "output_type": "display_data"
    }
   ],
   "source": [
    "import matplotlib.pyplot as plt\n",
    "\n",
    "_, axe = plt.subplots()\n",
    "\n",
    "axe.plot(h.history['accuracy'])"
   ]
  }
 ],
 "metadata": {
  "kernelspec": {
   "display_name": "Python 3",
   "language": "python",
   "name": "python3"
  },
  "language_info": {
   "codemirror_mode": {
    "name": "ipython",
    "version": 3
   },
   "file_extension": ".py",
   "mimetype": "text/x-python",
   "name": "python",
   "nbconvert_exporter": "python",
   "pygments_lexer": "ipython3",
   "version": "3.11.1"
  },
  "orig_nbformat": 4
 },
 "nbformat": 4,
 "nbformat_minor": 2
}
