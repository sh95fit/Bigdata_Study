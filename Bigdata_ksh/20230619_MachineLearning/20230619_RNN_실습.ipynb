{
 "cells": [
  {
   "cell_type": "code",
   "execution_count": 2,
   "metadata": {},
   "outputs": [],
   "source": [
    "import numpy as np\n",
    "import pandas as pd\n",
    "import matplotlib.pyplot as plt\n",
    "\n",
    "from tensorflow import keras"
   ]
  },
  {
   "cell_type": "code",
   "execution_count": 6,
   "metadata": {},
   "outputs": [
    {
     "name": "stdout",
     "output_type": "stream",
     "text": [
      "(14, 120)\n"
     ]
    }
   ],
   "source": [
    "###### Blood.csv\n",
    "\n",
    "data = pd.read_csv('blood.csv', encoding='utf8', delimiter=':', header=3)\n",
    "\n",
    "data = data.drop(['합계', '소계','계'], axis=1)\n",
    "data.columns = [x for x in np.arange(120)]\n",
    "data.drop(0, axis=0, inplace=True)\n",
    "\n",
    "for c in data :\n",
    "  data[c] = data[c].apply(lambda x: x.replace(',','')).astype('float32')\n",
    "\n",
    "print(data.shape)"
   ]
  },
  {
   "cell_type": "code",
   "execution_count": 4,
   "metadata": {},
   "outputs": [
    {
     "name": "stdout",
     "output_type": "stream",
     "text": [
      "(14, 119, 1) (14, 1)\n",
      "(12, 119, 1) (12, 1)\n"
     ]
    }
   ],
   "source": [
    "# X = data.iloc[:, :-1]\n",
    "X = np.expand_dims(data.iloc[:, :-1], -1)\n",
    "y = np.expand_dims(data.iloc[:, -1], -1)\n",
    "\n",
    "print(X.shape, y.shape)\n",
    "\n",
    "X_train = X[:12]\n",
    "X_test = X[12:]\n",
    "y_train = y[:12]\n",
    "y_test = y[12:]\n",
    "\n",
    "print(X_train.shape, y_train.shape)"
   ]
  },
  {
   "cell_type": "code",
   "execution_count": 5,
   "metadata": {},
   "outputs": [
    {
     "name": "stdout",
     "output_type": "stream",
     "text": [
      "Epoch 1/10\n",
      "1/1 [==============================] - 1s 1s/step - loss: 258909520.0000 - mae: 15299.4717\n",
      "Epoch 2/10\n",
      "1/1 [==============================] - 0s 20ms/step - loss: 258906192.0000 - mae: 15299.3623\n",
      "Epoch 3/10\n",
      "1/1 [==============================] - 0s 19ms/step - loss: 258899856.0000 - mae: 15299.1562\n",
      "Epoch 4/10\n",
      "1/1 [==============================] - 0s 19ms/step - loss: 258888704.0000 - mae: 15298.7920\n",
      "Epoch 5/10\n",
      "1/1 [==============================] - 0s 20ms/step - loss: 258884592.0000 - mae: 15298.6562\n",
      "Epoch 6/10\n",
      "1/1 [==============================] - 0s 20ms/step - loss: 258882224.0000 - mae: 15298.5781\n",
      "Epoch 7/10\n",
      "1/1 [==============================] - 0s 19ms/step - loss: 258880496.0000 - mae: 15298.5205\n",
      "Epoch 8/10\n",
      "1/1 [==============================] - 0s 19ms/step - loss: 258879104.0000 - mae: 15298.4795\n",
      "Epoch 9/10\n",
      "1/1 [==============================] - 0s 20ms/step - loss: 258877952.0000 - mae: 15298.4404\n",
      "Epoch 10/10\n",
      "1/1 [==============================] - 0s 21ms/step - loss: 258876992.0000 - mae: 15298.4092\n",
      "1/1 [==============================] - 0s 203ms/step - loss: 76164184.0000 - mae: 7712.1304\n"
     ]
    },
    {
     "data": {
      "text/plain": [
       "[76164184.0, 7712.13037109375]"
      ]
     },
     "execution_count": 5,
     "metadata": {},
     "output_type": "execute_result"
    }
   ],
   "source": [
    "m = keras.Sequential([\n",
    "  # return_sequences : sequence를 그대로 전달하라는 의미 (RNN에서 RNN으로 연결할 때 True로 설정)\n",
    "  keras.layers.SimpleRNN(10, input_shape=(None,1), return_sequences=True),  \n",
    "  keras.layers.SimpleRNN(5)\n",
    "])\n",
    "\n",
    "m.compile(loss='mse', optimizer=keras.optimizers.Adam(learning_rate=0.01), metrics='mae')\n",
    "m.fit(X_train, y_train, epochs=10)\n",
    "m.evaluate(X_test, y_test)"
   ]
  },
  {
   "cell_type": "code",
   "execution_count": 7,
   "metadata": {},
   "outputs": [
    {
     "name": "stdout",
     "output_type": "stream",
     "text": [
      "Epoch 1/10\n",
      "1/1 [==============================] - 2s 2s/step - loss: 258901616.0000 - mae: 15299.2139\n",
      "Epoch 2/10\n",
      "1/1 [==============================] - 0s 33ms/step - loss: 258900304.0000 - mae: 15299.1719\n",
      "Epoch 3/10\n",
      "1/1 [==============================] - 0s 37ms/step - loss: 258898992.0000 - mae: 15299.1279\n",
      "Epoch 4/10\n",
      "1/1 [==============================] - 0s 36ms/step - loss: 258897600.0000 - mae: 15299.0811\n",
      "Epoch 5/10\n",
      "1/1 [==============================] - 0s 39ms/step - loss: 258896192.0000 - mae: 15299.0352\n",
      "Epoch 6/10\n",
      "1/1 [==============================] - 0s 34ms/step - loss: 258894800.0000 - mae: 15298.9893\n",
      "Epoch 7/10\n",
      "1/1 [==============================] - 0s 35ms/step - loss: 258893520.0000 - mae: 15298.9482\n",
      "Epoch 8/10\n",
      "1/1 [==============================] - 0s 36ms/step - loss: 258892304.0000 - mae: 15298.9092\n",
      "Epoch 9/10\n",
      "1/1 [==============================] - 0s 41ms/step - loss: 258891248.0000 - mae: 15298.8750\n",
      "Epoch 10/10\n",
      "1/1 [==============================] - 0s 37ms/step - loss: 258890304.0000 - mae: 15298.8438\n",
      "1/1 [==============================] - 0s 495ms/step - loss: 76170912.0000 - mae: 7712.5664\n"
     ]
    },
    {
     "data": {
      "text/plain": [
       "[76170912.0, 7712.56640625]"
      ]
     },
     "execution_count": 7,
     "metadata": {},
     "output_type": "execute_result"
    }
   ],
   "source": [
    "m = keras.Sequential([\n",
    "  # return_sequences : sequence를 그대로 전달하라는 의미 (RNN에서 RNN으로 연결할 때 True로 설정)\n",
    "  keras.layers.LSTM(10, input_shape=(None,1), return_sequences=True),  \n",
    "  keras.layers.LSTM(5)\n",
    "])\n",
    "\n",
    "m.compile(loss='mse', optimizer=keras.optimizers.Adam(learning_rate=0.01), metrics='mae')\n",
    "m.fit(X_train, y_train, epochs=10)\n",
    "m.evaluate(X_test, y_test)"
   ]
  }
 ],
 "metadata": {
  "kernelspec": {
   "display_name": "Python 3.10.11 64-bit",
   "language": "python",
   "name": "python3"
  },
  "language_info": {
   "codemirror_mode": {
    "name": "ipython",
    "version": 3
   },
   "file_extension": ".py",
   "mimetype": "text/x-python",
   "name": "python",
   "nbconvert_exporter": "python",
   "pygments_lexer": "ipython3",
   "version": "3.10.11"
  },
  "orig_nbformat": 4,
  "vscode": {
   "interpreter": {
    "hash": "c19fa61d258bb2b35aae2ada233c33e2817c1ce895aa48acba720c6bf7cbe3cb"
   }
  }
 },
 "nbformat": 4,
 "nbformat_minor": 2
}
