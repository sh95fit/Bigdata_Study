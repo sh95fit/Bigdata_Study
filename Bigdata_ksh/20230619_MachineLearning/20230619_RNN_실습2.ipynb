{
 "cells": [
  {
   "cell_type": "code",
   "execution_count": 79,
   "metadata": {},
   "outputs": [],
   "source": [
    "import numpy as np\n",
    "import pandas as pd\n",
    "import matplotlib.pyplot as plt\n",
    "\n",
    "from tensorflow import keras"
   ]
  },
  {
   "cell_type": "code",
   "execution_count": 80,
   "metadata": {},
   "outputs": [],
   "source": [
    "# 1인 가구수 RNN 예측 모델\n",
    "# X : 6개 광역시 2015~2020년 1인 가구수\n",
    "# y : 6개 광역시 2021년 1인 가구수\n",
    "\n",
    "# train/test : 대구, 인천, 광주, 대전, 울산 / 부산\n",
    "\n",
    "# 부산 0번째 row"
   ]
  },
  {
   "cell_type": "code",
   "execution_count": 81,
   "metadata": {},
   "outputs": [
    {
     "name": "stdout",
     "output_type": "stream",
     "text": [
      "        0       1       2       3       4       5       6\n",
      "0  361749  372412  388899  404408  423227  455207  487362\n",
      "1  239517  247444  259525  269903  284416  304543  326866\n",
      "2  243678  254076  266434  275898  297865  324841  355657\n",
      "3  163577  165169  171424  174614  182364  193948  212385\n",
      "4  169391  179605  188136  195544  205165  228842  240932\n",
      "5  103551  104856  107497  110236  116015  122848  133061\n",
      "(6, 7)\n"
     ]
    }
   ],
   "source": [
    "data = pd.read_csv('성_및_연령별_1인가구__시군구_20230619204436.csv', encoding='cp949', header=1)\n",
    "\n",
    "data = data.drop(['행정구역별(시군구)', '연령별'], axis=1)\n",
    "data.columns = [x for x in np.arange(7)]\n",
    "print(data)\n",
    "print(data.shape)"
   ]
  },
  {
   "cell_type": "code",
   "execution_count": 82,
   "metadata": {},
   "outputs": [
    {
     "name": "stdout",
     "output_type": "stream",
     "text": [
      "(6, 6, 1) (6, 1)\n"
     ]
    }
   ],
   "source": [
    "X = np.expand_dims(data.iloc[:, :-1], -1)\n",
    "y = np.expand_dims(data.iloc[:, -1], -1)\n",
    "\n",
    "print(X.shape, y.shape)"
   ]
  },
  {
   "cell_type": "code",
   "execution_count": 83,
   "metadata": {},
   "outputs": [
    {
     "name": "stdout",
     "output_type": "stream",
     "text": [
      "(5, 6, 1) (5, 1)\n",
      "(1, 6, 1) (1, 1)\n"
     ]
    }
   ],
   "source": [
    "X_train = X[1:]\n",
    "# X_test = X[:1]\n",
    "X_test = np.expand_dims(X[0], 0)\n",
    "y_train = y[1:]\n",
    "# y_test = y[:1]\n",
    "y_test = np.expand_dims(y[0], 0)\n",
    "\n",
    "print(X_train.shape, y_train.shape)\n",
    "print(X_test.shape, y_test.shape)"
   ]
  },
  {
   "cell_type": "code",
   "execution_count": 88,
   "metadata": {},
   "outputs": [
    {
     "name": "stdout",
     "output_type": "stream",
     "text": [
      "Epoch 1/10\n",
      "1/1 [==============================] - 2s 2s/step - loss: 70838829056.0000 - mae: 253780.2031\n",
      "Epoch 2/10\n",
      "1/1 [==============================] - 0s 4ms/step - loss: 70838738944.0000 - mae: 253780.0312\n",
      "Epoch 3/10\n",
      "1/1 [==============================] - 0s 3ms/step - loss: 70838566912.0000 - mae: 253779.7031\n",
      "Epoch 4/10\n",
      "1/1 [==============================] - 0s 4ms/step - loss: 70838411264.0000 - mae: 253779.4062\n",
      "Epoch 5/10\n",
      "1/1 [==============================] - 0s 5ms/step - loss: 70838345728.0000 - mae: 253779.2500\n",
      "Epoch 6/10\n",
      "1/1 [==============================] - 0s 5ms/step - loss: 70838337536.0000 - mae: 253779.2188\n",
      "Epoch 7/10\n",
      "1/1 [==============================] - 0s 6ms/step - loss: 70838329344.0000 - mae: 253779.2031\n",
      "Epoch 8/10\n",
      "1/1 [==============================] - 0s 5ms/step - loss: 70838321152.0000 - mae: 253779.2031\n",
      "Epoch 9/10\n",
      "1/1 [==============================] - 0s 6ms/step - loss: 70838321152.0000 - mae: 253779.2031\n",
      "Epoch 10/10\n",
      "1/1 [==============================] - 0s 4ms/step - loss: 70838312960.0000 - mae: 253779.2031\n",
      "1/1 [==============================] - 0s 191ms/step - loss: 237520748544.0000 - mae: 487361.0000\n"
     ]
    },
    {
     "data": {
      "text/plain": [
       "[237520748544.0, 487361.0]"
      ]
     },
     "execution_count": 88,
     "metadata": {},
     "output_type": "execute_result"
    }
   ],
   "source": [
    "m = keras.Sequential([\n",
    "  keras.layers.SimpleRNN(4, input_shape=(None,1), return_sequences=True),  \n",
    "  keras.layers.SimpleRNN(2)\n",
    "])\n",
    "\n",
    "m.compile(loss='mse', optimizer=keras.optimizers.Adam(learning_rate=0.1), metrics='mae')\n",
    "m.fit(X_train, y_train, epochs=10)\n",
    "m.evaluate(X_test, y_test)"
   ]
  }
 ],
 "metadata": {
  "kernelspec": {
   "display_name": "Python 3.10.11 64-bit",
   "language": "python",
   "name": "python3"
  },
  "language_info": {
   "codemirror_mode": {
    "name": "ipython",
    "version": 3
   },
   "file_extension": ".py",
   "mimetype": "text/x-python",
   "name": "python",
   "nbconvert_exporter": "python",
   "pygments_lexer": "ipython3",
   "version": "3.10.11"
  },
  "orig_nbformat": 4,
  "vscode": {
   "interpreter": {
    "hash": "c19fa61d258bb2b35aae2ada233c33e2817c1ce895aa48acba720c6bf7cbe3cb"
   }
  }
 },
 "nbformat": 4,
 "nbformat_minor": 2
}
