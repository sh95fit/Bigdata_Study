{
 "cells": [
  {
   "cell_type": "code",
   "execution_count": 1,
   "metadata": {},
   "outputs": [],
   "source": [
    "import numpy as np\n",
    "import pandas as pd\n",
    "import matplotlib.pyplot as plt\n",
    "\n",
    "from tensorflow import keras"
   ]
  },
  {
   "cell_type": "code",
   "execution_count": 10,
   "metadata": {},
   "outputs": [],
   "source": [
    "#### Sentiment Analysis\n",
    "(X_train, y_train), (X_test, y_test) = keras.datasets.imdb.load_data()\n",
    "\n",
    "# print(X_train)\n",
    "\n",
    "r_dict = keras.datasets.imdb.get_word_index()\n",
    "reverse_dict = dict((i+3, w) for (w, i) in r_dict.items())\n",
    "reverse_dict[0] = '<pad>'\n",
    "reverse_dict[1] = '<sos>'\n",
    "reverse_dict[2] = '<unk>'\n",
    "\n",
    "# print(reverse_dict)\n",
    "\n",
    "def decode_review(rev_dict, encoded_review) :\n",
    "  return ' '.join(rev_dict[i] for i in encoded_review)"
   ]
  },
  {
   "cell_type": "code",
   "execution_count": 12,
   "metadata": {},
   "outputs": [
    {
     "name": "stdout",
     "output_type": "stream",
     "text": [
      "[1, 14, 22, 16, 43, 530, 973, 1622, 1385, 65, 458, 4468, 66, 3941, 4, 173, 36, 256, 5, 25, 100, 43, 838, 112, 50, 670, 22665, 9, 35, 480, 284, 5, 150, 4, 172, 112, 167, 21631, 336, 385, 39, 4, 172, 4536, 1111, 17, 546, 38, 13, 447, 4, 192, 50, 16, 6, 147, 2025, 19, 14, 22, 4, 1920, 4613, 469, 4, 22, 71, 87, 12, 16, 43, 530, 38, 76, 15, 13, 1247, 4, 22, 17, 515, 17, 12, 16, 626, 18, 19193, 5, 62, 386, 12, 8, 316, 8, 106, 5, 4, 2223, 5244, 16, 480, 66, 3785, 33, 4, 130, 12, 16, 38, 619, 5, 25, 124, 51, 36, 135, 48, 25, 1415, 33, 6, 22, 12, 215, 28, 77, 52, 5, 14, 407, 16, 82, 10311, 8, 4, 107, 117, 5952, 15, 256, 4, 31050, 7, 3766, 5, 723, 36, 71, 43, 530, 476, 26, 400, 317, 46, 7, 4, 12118, 1029, 13, 104, 88, 4, 381, 15, 297, 98, 32, 2071, 56, 26, 141, 6, 194, 7486, 18, 4, 226, 22, 21, 134, 476, 26, 480, 5, 144, 30, 5535, 18, 51, 36, 28, 224, 92, 25, 104, 4, 226, 65, 16, 38, 1334, 88, 12, 16, 283, 5, 16, 4472, 113, 103, 32, 15, 16, 5345, 19, 178, 32]\n"
     ]
    },
    {
     "data": {
      "text/plain": [
       "\"<sos> this film was just brilliant casting location scenery story direction everyone's really suited the part they played and you could just imagine being there robert redford's is an amazing actor and now the same being director norman's father came from the same scottish island as myself so i loved the fact there was a real connection with this film the witty remarks throughout the film were great it was just brilliant so much that i bought the film as soon as it was released for retail and would recommend it to everyone to watch and the fly fishing was amazing really cried at the end it was so sad and you know what they say if you cry at a film it must have been good and this definitely was also congratulations to the two little boy's that played the part's of norman and paul they were just brilliant children are often left out of the praising list i think because the stars that play them all grown up are such a big profile for the whole film but these children are amazing and should be praised for what they have done don't you think the whole story was so lovely because it was true and was someone's life after all that was shared with us all\""
      ]
     },
     "execution_count": 12,
     "metadata": {},
     "output_type": "execute_result"
    }
   ],
   "source": [
    "print(X_train[0])\n",
    "decode_review(reverse_dict, X_train[0])"
   ]
  },
  {
   "cell_type": "code",
   "execution_count": 19,
   "metadata": {},
   "outputs": [
    {
     "name": "stdout",
     "output_type": "stream",
     "text": [
      "[218 189 141 ... 184 150 153]\n",
      "(25000, 11)\n"
     ]
    }
   ],
   "source": [
    "review_len = np.array([len(review) for review in X_train])\n",
    "print(review_len)\n",
    "\n",
    "X_train_cut=[]\n",
    "\n",
    "for review in X_train :\n",
    "  X_train_cut.append(review[:review_len.min()])\n",
    "\n",
    "X_train_cut = np.array(X_train_cut)\n",
    "\n",
    "print(X_train_cut.shape)"
   ]
  },
  {
   "cell_type": "code",
   "execution_count": 23,
   "metadata": {},
   "outputs": [
    {
     "name": "stdout",
     "output_type": "stream",
     "text": [
      "Epoch 1/10\n",
      "782/782 [==============================] - 53s 67ms/step - loss: 0.6419 - accuracy: 0.5929\n",
      "Epoch 2/10\n",
      "782/782 [==============================] - 52s 66ms/step - loss: 0.4571 - accuracy: 0.7694\n",
      "Epoch 3/10\n",
      "782/782 [==============================] - 51s 65ms/step - loss: 0.2692 - accuracy: 0.8822\n",
      "Epoch 4/10\n",
      "782/782 [==============================] - 51s 65ms/step - loss: 0.1693 - accuracy: 0.9274\n",
      "Epoch 5/10\n",
      "782/782 [==============================] - 51s 66ms/step - loss: 0.1190 - accuracy: 0.9495\n",
      "Epoch 6/10\n",
      "782/782 [==============================] - 52s 66ms/step - loss: 0.0914 - accuracy: 0.9629\n",
      "Epoch 7/10\n",
      "782/782 [==============================] - 52s 66ms/step - loss: 0.0724 - accuracy: 0.9700\n",
      "Epoch 8/10\n",
      "782/782 [==============================] - 52s 66ms/step - loss: 0.0617 - accuracy: 0.9736\n",
      "Epoch 9/10\n",
      "782/782 [==============================] - 52s 67ms/step - loss: 0.0551 - accuracy: 0.9756\n",
      "Epoch 10/10\n",
      "782/782 [==============================] - 52s 67ms/step - loss: 0.0472 - accuracy: 0.9793\n"
     ]
    },
    {
     "data": {
      "text/plain": [
       "<keras.callbacks.History at 0x247c8713040>"
      ]
     },
     "execution_count": 23,
     "metadata": {},
     "output_type": "execute_result"
    }
   ],
   "source": [
    "dict_word_count = len(r_dict)\n",
    "\n",
    "m = keras.Sequential([\n",
    "  keras.layers.Embedding(dict_word_count, 32, input_length=11),\n",
    "  keras.layers.SimpleRNN(32),\n",
    "  keras.layers.Dense(11, activation='relu'),\n",
    "  keras.layers.Dense(1)   # unit을 2개로 두는 경우 SparseCategoricalCrossentropy 사용\n",
    "])\n",
    "\n",
    "m.compile(optimizer='adam', loss=keras.losses.BinaryCrossentropy(from_logits=True), metrics=['accuracy'])\n",
    "m.fit(X_train_cut, y_train, epochs=10)"
   ]
  }
 ],
 "metadata": {
  "kernelspec": {
   "display_name": "Python 3.10.11 64-bit",
   "language": "python",
   "name": "python3"
  },
  "language_info": {
   "codemirror_mode": {
    "name": "ipython",
    "version": 3
   },
   "file_extension": ".py",
   "mimetype": "text/x-python",
   "name": "python",
   "nbconvert_exporter": "python",
   "pygments_lexer": "ipython3",
   "version": "3.10.11"
  },
  "orig_nbformat": 4,
  "vscode": {
   "interpreter": {
    "hash": "c19fa61d258bb2b35aae2ada233c33e2817c1ce895aa48acba720c6bf7cbe3cb"
   }
  }
 },
 "nbformat": 4,
 "nbformat_minor": 2
}
