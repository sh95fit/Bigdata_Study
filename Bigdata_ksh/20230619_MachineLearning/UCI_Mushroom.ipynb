{
 "cells": [
  {
   "cell_type": "markdown",
   "id": "89a5bfa0",
   "metadata": {},
   "source": [
    "#### UCI Mushroom    \n",
    "    \n",
    "    1. cap-shape:                bell=b,conical=c,convex=x,flat=f, knobbed=k,sunken=s\n",
    "\n",
    "    2. cap-surface:              fibrous=f,grooves=g,scaly=y,smooth=s\n",
    "\n",
    "    3. cap-color:                brown=n,buff=b,cinnamon=c,gray=g,green=r, pink=p,purple=u,red=e,white=w,yellow=y\n",
    "\n",
    "     4. bruises?:                 bruises=t,no=f\n",
    "\n",
    "     5. odor:                     almond=a,anise=l,creosote=c,fishy=y,foul=f, musty=m,none=n,pungent=p,spicy=s\n",
    "\n",
    "     6. gill-attachment:          attached=a,descending=d,free=f,notched=n\n",
    "\n",
    "     7. gill-spacing:             close=c,crowded=w,distant=d\n",
    "\n",
    "     8. gill-size:                broad=b,narrow=n\n",
    "\n",
    "     9. gill-color:               black=k,brown=n,buff=b,chocolate=h,gray=g, green=r,orange=o,pink=p,purple=u,red=e, white=w,yellow=y\n",
    "\n",
    "    10. stalk-shape:              enlarging=e,tapering=t\n",
    "\n",
    "    11. stalk-root:               bulbous=b,club=c,cup=u,equal=e, rhizomorphs=z,rooted=r,missing=?\n",
    "\n",
    "    12. stalk-surface-above-ring: fibrous=f,scaly=y,silky=k,smooth=s\n",
    "\n",
    "    13. stalk-surface-below-ring: fibrous=f,scaly=y,silky=k,smooth=s\n",
    "\n",
    "    14. stalk-color-above-ring:   brown=n,buff=b,cinnamon=c,gray=g,orange=o, pink=p,red=e,white=w,yellow=y\n",
    "\n",
    "    15. stalk-color-below-ring:   brown=n,buff=b,cinnamon=c,gray=g,orange=o, pink=p,red=e,white=w,yellow=y\n",
    "\n",
    "    16. veil-type:                partial=p,universal=u\n",
    "\n",
    "    17. veil-color:               brown=n,orange=o,white=w,yellow=y\n",
    "\n",
    "    18. ring-number:              none=n,one=o,two=t\n",
    "\n",
    "    19. ring-type:                cobwebby=c,evanescent=e,flaring=f,large=l, none=n,pendant=p,sheathing=s,zone=z\n",
    "\n",
    "    20. spore-print-color:        black=k,brown=n,buff=b,chocolate=h,green=r, orange=o,purple=u,white=w,yellow=y\n",
    "\n",
    "    21. population:               abundant=a,clustered=c,numerous=n, scattered=s,several=v,solitary=y\n",
    "\n",
    "    22. habitat:                  grasses=g,leaves=l,meadows=m,paths=p, urban=u,waste=w,woods=d"
   ]
  },
  {
   "cell_type": "code",
   "execution_count": 1,
   "id": "9368a524",
   "metadata": {},
   "outputs": [],
   "source": [
    "import pandas as pd\n",
    "\n",
    "data = pd.read_csv('agaricus-lepiota.data', header=None)"
   ]
  },
  {
   "cell_type": "code",
   "execution_count": 3,
   "id": "c8e6c421",
   "metadata": {},
   "outputs": [
    {
     "name": "stdout",
     "output_type": "stream",
     "text": [
      "     0  1  2  3  4  5  6  7  8  9   ... 13 14 15 16 17 18 19 20 21 22\n",
      "0     p  x  s  n  t  p  f  c  n  k  ...  s  w  w  p  w  o  p  k  s  u\n",
      "1     e  x  s  y  t  a  f  c  b  k  ...  s  w  w  p  w  o  p  n  n  g\n",
      "2     e  b  s  w  t  l  f  c  b  n  ...  s  w  w  p  w  o  p  n  n  m\n",
      "3     p  x  y  w  t  p  f  c  n  n  ...  s  w  w  p  w  o  p  k  s  u\n",
      "4     e  x  s  g  f  n  f  w  b  k  ...  s  w  w  p  w  o  e  n  a  g\n",
      "...  .. .. .. .. .. .. .. .. .. ..  ... .. .. .. .. .. .. .. .. .. ..\n",
      "8119  e  k  s  n  f  n  a  c  b  y  ...  s  o  o  p  o  o  p  b  c  l\n",
      "8120  e  x  s  n  f  n  a  c  b  y  ...  s  o  o  p  n  o  p  b  v  l\n",
      "8121  e  f  s  n  f  n  a  c  b  n  ...  s  o  o  p  o  o  p  b  c  l\n",
      "8122  p  k  y  n  f  y  f  c  n  b  ...  k  w  w  p  w  o  e  w  v  l\n",
      "8123  e  x  s  n  f  n  a  c  b  y  ...  s  o  o  p  o  o  p  o  c  l\n",
      "\n",
      "[8124 rows x 23 columns]\n",
      "0 ['p' 'e']\n",
      "1 ['x' 'b' 's' 'f' 'k' 'c']\n",
      "2 ['s' 'y' 'f' 'g']\n",
      "3 ['n' 'y' 'w' 'g' 'e' 'p' 'b' 'u' 'c' 'r']\n",
      "4 ['t' 'f']\n",
      "5 ['p' 'a' 'l' 'n' 'f' 'c' 'y' 's' 'm']\n",
      "6 ['f' 'a']\n",
      "7 ['c' 'w']\n",
      "8 ['n' 'b']\n",
      "9 ['k' 'n' 'g' 'p' 'w' 'h' 'u' 'e' 'b' 'r' 'y' 'o']\n",
      "10 ['e' 't']\n",
      "11 ['e' 'c' 'b' 'r' '?']\n",
      "12 ['s' 'f' 'k' 'y']\n",
      "13 ['s' 'f' 'y' 'k']\n",
      "14 ['w' 'g' 'p' 'n' 'b' 'e' 'o' 'c' 'y']\n",
      "15 ['w' 'p' 'g' 'b' 'n' 'e' 'y' 'o' 'c']\n",
      "16 ['p']\n",
      "17 ['w' 'n' 'o' 'y']\n",
      "18 ['o' 't' 'n']\n",
      "19 ['p' 'e' 'l' 'f' 'n']\n",
      "20 ['k' 'n' 'u' 'h' 'w' 'r' 'o' 'y' 'b']\n",
      "21 ['s' 'n' 'a' 'v' 'y' 'c']\n",
      "22 ['u' 'g' 'm' 'd' 'p' 'w' 'l']\n"
     ]
    }
   ],
   "source": [
    "print(data)\n",
    "for i in data:\n",
    "    print(i, data[i].unique())"
   ]
  },
  {
   "cell_type": "code",
   "execution_count": 5,
   "id": "31c1adf5",
   "metadata": {},
   "outputs": [],
   "source": [
    "for i in data:\n",
    "    data[i] = data[i].astype('category').cat.codes\n",
    "X = data[1:]\n",
    "y = data[0]"
   ]
  }
 ],
 "metadata": {
  "kernelspec": {
   "display_name": "Python 3 (ipykernel)",
   "language": "python",
   "name": "python3"
  },
  "language_info": {
   "codemirror_mode": {
    "name": "ipython",
    "version": 3
   },
   "file_extension": ".py",
   "mimetype": "text/x-python",
   "name": "python",
   "nbconvert_exporter": "python",
   "pygments_lexer": "ipython3",
   "version": "3.8.10"
  }
 },
 "nbformat": 4,
 "nbformat_minor": 5
}
