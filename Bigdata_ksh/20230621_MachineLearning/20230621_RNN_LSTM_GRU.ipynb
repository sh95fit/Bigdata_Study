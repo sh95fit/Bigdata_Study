{
 "cells": [
  {
   "cell_type": "code",
   "execution_count": 60,
   "metadata": {},
   "outputs": [],
   "source": [
    "from tensorflow import keras\n",
    "import numpy as np\n",
    "import tensorflow as tf"
   ]
  },
  {
   "cell_type": "code",
   "execution_count": 61,
   "metadata": {},
   "outputs": [
    {
     "name": "stdout",
     "output_type": "stream",
     "text": [
      "[[[1]\n",
      "  [2]\n",
      "  [3]]] (1, 3, 1)\n"
     ]
    }
   ],
   "source": [
    "data = np.arange(1*3*1).reshape(1,3,1)\n",
    "data = data+1\n",
    "print(data, data.shape)"
   ]
  },
  {
   "cell_type": "code",
   "execution_count": 62,
   "metadata": {},
   "outputs": [
    {
     "name": "stdout",
     "output_type": "stream",
     "text": [
      "[<tf.Variable 'simple_rnn_17/simple_rnn_cell_17/kernel:0' shape=(1, 1) dtype=float32, numpy=array([[0.5]], dtype=float32)>, <tf.Variable 'simple_rnn_17/simple_rnn_cell_17/recurrent_kernel:0' shape=(1, 1) dtype=float32, numpy=array([[1.]], dtype=float32)>, <tf.Variable 'simple_rnn_17/simple_rnn_cell_17/bias:0' shape=(1,) dtype=float32, numpy=array([0.], dtype=float32)>]\n",
      "Model: \"sequential_23\"\n",
      "_________________________________________________________________\n",
      " Layer (type)                Output Shape              Param #   \n",
      "=================================================================\n",
      " simple_rnn_17 (SimpleRNN)   (None, 1)                 3         \n",
      "                                                                 \n",
      "=================================================================\n",
      "Total params: 3\n",
      "Trainable params: 3\n",
      "Non-trainable params: 0\n",
      "_________________________________________________________________\n"
     ]
    }
   ],
   "source": [
    "m = keras.Sequential([\n",
    "  keras.layers.SimpleRNN(1, input_shape=(None, 1), activation=None,\n",
    "                        kernel_initializer=keras.initializers.Constant(0.5),\n",
    "                        recurrent_initializer=keras.initializers.Ones()) # 1개의 layer, 1개의 unit 적용\n",
    "])\n",
    "\n",
    "print(m.layers[0].weights)\n",
    "m.summary()"
   ]
  },
  {
   "cell_type": "code",
   "execution_count": 63,
   "metadata": {},
   "outputs": [
    {
     "name": "stdout",
     "output_type": "stream",
     "text": [
      "1/1 [==============================] - 0s 110ms/step\n"
     ]
    },
    {
     "data": {
      "text/plain": [
       "array([[3.]], dtype=float32)"
      ]
     },
     "execution_count": 63,
     "metadata": {},
     "output_type": "execute_result"
    }
   ],
   "source": [
    "m.predict(data)"
   ]
  },
  {
   "cell_type": "code",
   "execution_count": 64,
   "metadata": {},
   "outputs": [
    {
     "name": "stdout",
     "output_type": "stream",
     "text": [
      "[[[1]\n",
      "  [2]\n",
      "  [3]]] (1, 3, 1)\n"
     ]
    }
   ],
   "source": [
    "data = np.arange(1*3*1).reshape(1,3,1)\n",
    "data = data+1\n",
    "print(data, data.shape)"
   ]
  },
  {
   "cell_type": "code",
   "execution_count": 65,
   "metadata": {},
   "outputs": [
    {
     "name": "stdout",
     "output_type": "stream",
     "text": [
      "[<tf.Variable 'simple_rnn_18/simple_rnn_cell_18/kernel:0' shape=(1, 2) dtype=float32, numpy=array([[0.5, 0.5]], dtype=float32)>, <tf.Variable 'simple_rnn_18/simple_rnn_cell_18/recurrent_kernel:0' shape=(2, 2) dtype=float32, numpy=\n",
      "array([[1., 1.],\n",
      "       [1., 1.]], dtype=float32)>, <tf.Variable 'simple_rnn_18/simple_rnn_cell_18/bias:0' shape=(2,) dtype=float32, numpy=array([0., 0.], dtype=float32)>]\n",
      "Model: \"sequential_24\"\n",
      "_________________________________________________________________\n",
      " Layer (type)                Output Shape              Param #   \n",
      "=================================================================\n",
      " simple_rnn_18 (SimpleRNN)   (None, 2)                 8         \n",
      "                                                                 \n",
      "=================================================================\n",
      "Total params: 8\n",
      "Trainable params: 8\n",
      "Non-trainable params: 0\n",
      "_________________________________________________________________\n"
     ]
    }
   ],
   "source": [
    "m = keras.Sequential([\n",
    "  keras.layers.SimpleRNN(2, input_shape=(None, 1), activation=None,\n",
    "                        kernel_initializer=keras.initializers.Constant(0.5),\n",
    "                        recurrent_initializer=keras.initializers.Ones()) # 1개의 layer, 1개의 unit 적용\n",
    "])\n",
    "\n",
    "print(m.layers[0].weights)\n",
    "m.summary()"
   ]
  },
  {
   "cell_type": "code",
   "execution_count": 66,
   "metadata": {},
   "outputs": [
    {
     "name": "stdout",
     "output_type": "stream",
     "text": [
      "1/1 [==============================] - 0s 105ms/step\n"
     ]
    },
    {
     "data": {
      "text/plain": [
       "array([[5.5, 5.5]], dtype=float32)"
      ]
     },
     "execution_count": 66,
     "metadata": {},
     "output_type": "execute_result"
    }
   ],
   "source": [
    "m.predict(data)"
   ]
  },
  {
   "cell_type": "code",
   "execution_count": 67,
   "metadata": {},
   "outputs": [
    {
     "name": "stdout",
     "output_type": "stream",
     "text": [
      "[[[1]\n",
      "  [2]\n",
      "  [3]]] (1, 3, 1)\n",
      "[<tf.Variable 'lstm_3/lstm_cell_3/kernel:0' shape=(1, 4) dtype=float32, numpy=array([[0.5, 0.5, 0.5, 0.5]], dtype=float32)>, <tf.Variable 'lstm_3/lstm_cell_3/recurrent_kernel:0' shape=(1, 4) dtype=float32, numpy=array([[1., 1., 1., 1.]], dtype=float32)>, <tf.Variable 'lstm_3/lstm_cell_3/bias:0' shape=(4,) dtype=float32, numpy=array([0., 1., 0., 0.], dtype=float32)>]\n",
      "Model: \"sequential_25\"\n",
      "_________________________________________________________________\n",
      " Layer (type)                Output Shape              Param #   \n",
      "=================================================================\n",
      " lstm_3 (LSTM)               (None, 1)                 12        \n",
      "                                                                 \n",
      "=================================================================\n",
      "Total params: 12\n",
      "Trainable params: 12\n",
      "Non-trainable params: 0\n",
      "_________________________________________________________________\n",
      "1/1 [==============================] - 0s 110ms/step\n"
     ]
    },
    {
     "data": {
      "text/plain": [
       "array([[3.1017737]], dtype=float32)"
      ]
     },
     "execution_count": 67,
     "metadata": {},
     "output_type": "execute_result"
    }
   ],
   "source": [
    "# LSTM\n",
    "\n",
    "data = np.arange(1*3*1).reshape(1,3,1)\n",
    "data = data+1\n",
    "print(data, data.shape)\n",
    "\n",
    "m = keras.Sequential([\n",
    "  keras.layers.LSTM(1, input_shape=(None, 1), activation=None,\n",
    "                        kernel_initializer=keras.initializers.Constant(0.5),\n",
    "                        recurrent_initializer=keras.initializers.Ones()) # 1개의 layer, 1개의 unit 적용\n",
    "])\n",
    "\n",
    "print(m.layers[0].weights)\n",
    "m.summary()\n",
    "\n",
    "m.predict(data)"
   ]
  },
  {
   "cell_type": "code",
   "execution_count": 68,
   "metadata": {},
   "outputs": [
    {
     "name": "stdout",
     "output_type": "stream",
     "text": [
      "[[[1]\n",
      "  [2]\n",
      "  [3]]] (1, 3, 1)\n",
      "[<tf.Variable 'gru_3/gru_cell_3/kernel:0' shape=(1, 3) dtype=float32, numpy=array([[0.5, 0.5, 0.5]], dtype=float32)>, <tf.Variable 'gru_3/gru_cell_3/recurrent_kernel:0' shape=(1, 3) dtype=float32, numpy=array([[1., 1., 1.]], dtype=float32)>, <tf.Variable 'gru_3/gru_cell_3/bias:0' shape=(2, 3) dtype=float32, numpy=\n",
      "array([[0., 0., 0.],\n",
      "       [0., 0., 0.]], dtype=float32)>]\n",
      "Model: \"sequential_26\"\n",
      "_________________________________________________________________\n",
      " Layer (type)                Output Shape              Param #   \n",
      "=================================================================\n",
      " gru_3 (GRU)                 (None, 1)                 12        \n",
      "                                                                 \n",
      "=================================================================\n",
      "Total params: 12\n",
      "Trainable params: 12\n",
      "Non-trainable params: 0\n",
      "_________________________________________________________________\n",
      "1/1 [==============================] - 0s 106ms/step\n"
     ]
    },
    {
     "data": {
      "text/plain": [
       "array([[0.59827036]], dtype=float32)"
      ]
     },
     "execution_count": 68,
     "metadata": {},
     "output_type": "execute_result"
    }
   ],
   "source": [
    "# GRU\n",
    "\n",
    "data = np.arange(1*3*1).reshape(1,3,1)\n",
    "data = data+1\n",
    "print(data, data.shape)\n",
    "\n",
    "m = keras.Sequential([\n",
    "  keras.layers.GRU(1, input_shape=(None, 1), activation=None,\n",
    "                        kernel_initializer=keras.initializers.Constant(0.5),\n",
    "                        recurrent_initializer=keras.initializers.Ones()) # 1개의 layer, 1개의 unit 적용\n",
    "])\n",
    "\n",
    "print(m.layers[0].weights)\n",
    "m.summary()\n",
    "\n",
    "m.predict(data)"
   ]
  },
  {
   "cell_type": "code",
   "execution_count": 69,
   "metadata": {},
   "outputs": [
    {
     "name": "stdout",
     "output_type": "stream",
     "text": [
      "1/1 [==============================] - 0s 33ms/step\n"
     ]
    },
    {
     "data": {
      "text/plain": [
       "array([[[10.,  0.]]], dtype=float32)"
      ]
     },
     "execution_count": 69,
     "metadata": {},
     "output_type": "execute_result"
    }
   ],
   "source": [
    "# Attention Layer\n",
    "\n",
    "query = tf.keras.layers.Input(shape=(None,3,))\n",
    "value = tf.keras.layers.Input(shape=(4,2,)) \n",
    "key = tf.keras.layers.Input(shape=(4,3,))\n",
    "\n",
    "x = tf.keras.layers.Attention()([query, value, key])\n",
    "model = tf.keras.models.Model(inputs=[query, value, key], outputs=x)\n",
    "\n",
    "temp_k = tf.constant([[[10,0,0],\n",
    "                       [0,10,0],\n",
    "                       [0,0,10],\n",
    "                       [0,0,10]]], dtype=tf.float32)  # (4, 3)\n",
    "\n",
    "temp_v = tf.constant([[[   1,0],\n",
    "                       [  10,0],\n",
    "                       [ 100,5],\n",
    "                       [1000,6]]], dtype=tf.float32)  # (4, 2)\n",
    "\n",
    "temp_q = tf.constant([[[0, 10, 0]]], dtype=tf.float32)  # (1, 3)\n",
    "\n",
    "model.predict([temp_q,temp_v,temp_k])"
   ]
  },
  {
   "cell_type": "code",
   "execution_count": 70,
   "metadata": {},
   "outputs": [
    {
     "name": "stdout",
     "output_type": "stream",
     "text": [
      "(1, 1, 3)\n",
      "(1, 4, 3)\n",
      "(1, 1, 4) tf.Tensor([[[  0. 100.   0.   0.]]], shape=(1, 1, 4), dtype=float32)\n",
      "(1, 1, 4) tf.Tensor([[[0. 1. 0. 0.]]], shape=(1, 1, 4), dtype=float32)\n",
      "(1, 1, 2) tf.Tensor([[[10.  0.]]], shape=(1, 1, 2), dtype=float32)\n"
     ]
    }
   ],
   "source": [
    "print(temp_q.shape)\n",
    "print(temp_k.shape)\n",
    "\n",
    "scores = tf.matmul(temp_q, temp_k, transpose_b=True)    # matmul : 행렬 곱\n",
    "\n",
    "print(scores.shape, scores)\n",
    "\n",
    "dist =tf.nn.softmax(scores) # softmax를 거치면 모든 결과값의 합은 1이 된다 (max : 1, min : 0)\n",
    "print(dist.shape, dist)\n",
    "\n",
    "out = tf.matmul(dist, temp_v)\n",
    "print(out.shape, out)"
   ]
  }
 ],
 "metadata": {
  "kernelspec": {
   "display_name": "Python 3.10.11 64-bit",
   "language": "python",
   "name": "python3"
  },
  "language_info": {
   "codemirror_mode": {
    "name": "ipython",
    "version": 3
   },
   "file_extension": ".py",
   "mimetype": "text/x-python",
   "name": "python",
   "nbconvert_exporter": "python",
   "pygments_lexer": "ipython3",
   "version": "3.10.11"
  },
  "orig_nbformat": 4,
  "vscode": {
   "interpreter": {
    "hash": "c19fa61d258bb2b35aae2ada233c33e2817c1ce895aa48acba720c6bf7cbe3cb"
   }
  }
 },
 "nbformat": 4,
 "nbformat_minor": 2
}
