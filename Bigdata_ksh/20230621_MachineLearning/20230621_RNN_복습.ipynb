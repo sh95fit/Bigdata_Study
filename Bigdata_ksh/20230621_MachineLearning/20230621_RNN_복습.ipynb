{
 "cells": [
  {
   "cell_type": "code",
   "execution_count": 1,
   "metadata": {},
   "outputs": [],
   "source": [
    "import numpy as np\n",
    "import pandas as pd\n",
    "import matplotlib.pyplot as plt\n",
    "\n",
    "from tensorflow import keras"
   ]
  },
  {
   "cell_type": "code",
   "execution_count": 2,
   "metadata": {},
   "outputs": [
    {
     "name": "stdout",
     "output_type": "stream",
     "text": [
      "(22, 12)\n",
      "      0     1    2    3     4          5          6          7          8    \n",
      "0   -7.1  -6.5 -2.5  2.8  10.7  14.800000  18.400000  21.200001  16.299999  \\\n",
      "1  -10.3  -4.4 -3.3  3.8  11.1  15.500000  19.200001  18.900000  14.600000   \n",
      "2   -6.2  -3.3  0.1  6.6  10.3  13.700000  19.400000  18.100000  15.500000   \n",
      "3   -8.7  -3.0 -1.5  5.6   7.8  14.300000  17.100000  19.100000  14.600000   \n",
      "4  -10.5  -4.9 -5.0  4.7  11.4  13.500000  18.299999  16.799999  16.100000   \n",
      "5   -7.6  -7.9 -4.9  4.3   9.1  13.500000  17.400000  20.200001  17.100000   \n",
      "6   -6.3  -9.6 -6.5  4.5   8.2  13.400000  16.799999  21.200001  16.600000   \n",
      "7   -2.6  -3.5 -3.6  4.0  10.9  14.900000  18.100000  20.000000  18.600000   \n",
      "8   -5.2  -5.8  1.0  6.9   9.6  14.100000  18.600000  19.900000  13.100000   \n",
      "9   -7.6  -3.1 -0.6  3.3  12.5  15.800000  18.400000  19.799999  17.600000   \n",
      "10  -7.2  -5.0 -2.5  1.9   8.5  12.400000  20.200001  24.000000  16.799999   \n",
      "11 -12.8  -3.4 -2.5  5.3  11.7  15.200000  19.400000  19.500000  14.800000   \n",
      "12  -6.5  -9.9 -3.6  2.1  11.4  15.900000  20.200001  20.600000  14.100000   \n",
      "13  -8.1 -10.7 -2.0  3.5  10.0  15.500000  21.799999  21.299999  17.299999   \n",
      "14  -5.4  -5.6 -0.6  4.1  10.4  16.500000  19.299999  19.400000  17.200001   \n",
      "15  -4.9  -7.8 -4.1  5.9  12.3  13.700000  18.400000  20.500000  17.000000   \n",
      "16 -10.2  -4.0 -4.3  8.0  11.5  15.700000  19.500000  17.500000  17.100000   \n",
      "17  -7.7  -5.7 -2.3  5.0  12.8  15.400000  21.200001  18.700001  14.500000   \n",
      "18  -9.9  -9.6 -0.7  3.0   9.8  15.100000  17.799999  21.200001  14.900000   \n",
      "19  -4.4  -4.2  0.5  2.1  11.0  15.500000  19.799999  20.299999  15.800000   \n",
      "20  -3.2  -5.0 -0.3  4.4  12.2  16.799999  17.799999  23.400000  15.500000   \n",
      "21 -12.2  -7.2  1.6  6.3   8.6  16.600000  20.799999  20.400000  18.900000   \n",
      "\n",
      "      9    10    11  \n",
      "0   10.3  2.0  -5.2  \n",
      "1   11.8 -0.3  -2.3  \n",
      "2    3.7  0.8  -4.1  \n",
      "3    7.0  0.4  -4.6  \n",
      "4    9.6  2.8  -3.2  \n",
      "5    7.4  2.8 -10.6  \n",
      "6   13.5  3.8  -7.4  \n",
      "7    8.0 -0.1  -1.6  \n",
      "8    9.9 -0.9  -6.1  \n",
      "9   12.4 -0.1  -6.0  \n",
      "10   5.5  1.8  -8.1  \n",
      "11   6.4  0.9  -5.6  \n",
      "12   8.5  0.6  -7.7  \n",
      "13   9.1 -0.8  -4.0  \n",
      "14  10.9  1.8  -6.0  \n",
      "15   5.8  1.1  -2.5  \n",
      "16   9.8  0.1  -3.2  \n",
      "17   7.3 -1.0  -6.1  \n",
      "18   7.9  2.7  -7.1  \n",
      "19  10.4  2.0  -2.8  \n",
      "20   7.0  1.1  -8.0  \n",
      "21   5.5  3.6  -8.6  \n"
     ]
    }
   ],
   "source": [
    "import pickle\n",
    "\n",
    "with open('busan_mintemp.pickle', 'rb') as f :\n",
    "  data = pickle.load(f)\n",
    "\n",
    "data = pd.DataFrame(data.reshape(22, 12))\n",
    "print(data.shape)\n",
    "print(data)"
   ]
  },
  {
   "cell_type": "code",
   "execution_count": 3,
   "metadata": {},
   "outputs": [],
   "source": [
    "# X : 1-11월 최저기온\n",
    "# y : 12월 최저기온\n",
    "# train/test = 20 / 2\n",
    "\n",
    "# 3 LSTM layers, unit (10 -> 5 -> 1)"
   ]
  },
  {
   "cell_type": "code",
   "execution_count": 4,
   "metadata": {},
   "outputs": [
    {
     "name": "stdout",
     "output_type": "stream",
     "text": [
      "(22, 11, 1) (22, 1)\n"
     ]
    }
   ],
   "source": [
    "X = np.expand_dims(data.iloc[:, :-1], -1)\n",
    "y = np.expand_dims(data.iloc[:, -1], -1)\n",
    "\n",
    "# print(X)\n",
    "# print(y)\n",
    "print(X.shape, y.shape)"
   ]
  },
  {
   "cell_type": "code",
   "execution_count": 5,
   "metadata": {},
   "outputs": [
    {
     "name": "stdout",
     "output_type": "stream",
     "text": [
      "(20, 11, 1) (20, 1)\n",
      "(2, 11, 1) (2, 1)\n"
     ]
    }
   ],
   "source": [
    "X_train = X[:20]\n",
    "X_test = X[20:]\n",
    "y_train = y[:20]\n",
    "y_test = y[20:]\n",
    "\n",
    "print(X_train.shape, y_train.shape)\n",
    "print(X_test.shape, y_test.shape)"
   ]
  },
  {
   "cell_type": "code",
   "execution_count": 6,
   "metadata": {},
   "outputs": [
    {
     "name": "stdout",
     "output_type": "stream",
     "text": [
      "Epoch 1/30\n",
      "1/1 [==============================] - 1s 1s/step - loss: 37.4130 - mae: 5.6474\n",
      "Epoch 2/30\n",
      "1/1 [==============================] - 0s 7ms/step - loss: 30.1906 - mae: 4.9311\n",
      "Epoch 3/30\n",
      "1/1 [==============================] - 0s 6ms/step - loss: 25.4138 - mae: 4.4800\n",
      "Epoch 4/30\n",
      "1/1 [==============================] - 0s 7ms/step - loss: 24.3378 - mae: 4.3786\n",
      "Epoch 5/30\n",
      "1/1 [==============================] - 0s 9ms/step - loss: 24.0306 - mae: 4.3470\n",
      "Epoch 6/30\n",
      "1/1 [==============================] - 0s 8ms/step - loss: 23.8402 - mae: 4.3263\n",
      "Epoch 7/30\n",
      "1/1 [==============================] - 0s 6ms/step - loss: 23.6726 - mae: 4.3082\n",
      "Epoch 8/30\n",
      "1/1 [==============================] - 0s 11ms/step - loss: 23.5206 - mae: 4.2919\n",
      "Epoch 9/30\n",
      "1/1 [==============================] - 0s 14ms/step - loss: 23.3870 - mae: 4.2777\n",
      "Epoch 10/30\n",
      "1/1 [==============================] - 0s 10ms/step - loss: 23.2743 - mae: 4.2658\n",
      "Epoch 11/30\n",
      "1/1 [==============================] - 0s 8ms/step - loss: 23.1832 - mae: 4.2562\n",
      "Epoch 12/30\n",
      "1/1 [==============================] - 0s 8ms/step - loss: 23.1115 - mae: 4.2486\n",
      "Epoch 13/30\n",
      "1/1 [==============================] - 0s 11ms/step - loss: 23.0558 - mae: 4.2427\n",
      "Epoch 14/30\n",
      "1/1 [==============================] - 0s 12ms/step - loss: 23.0139 - mae: 4.2382\n",
      "Epoch 15/30\n",
      "1/1 [==============================] - 0s 6ms/step - loss: 22.9854 - mae: 4.2350\n",
      "Epoch 16/30\n",
      "1/1 [==============================] - 0s 11ms/step - loss: 22.9678 - mae: 4.2330\n",
      "Epoch 17/30\n",
      "1/1 [==============================] - 0s 11ms/step - loss: 22.9540 - mae: 4.2315\n",
      "Epoch 18/30\n",
      "1/1 [==============================] - 0s 6ms/step - loss: 22.9369 - mae: 4.2298\n",
      "Epoch 19/30\n",
      "1/1 [==============================] - 0s 10ms/step - loss: 22.9165 - mae: 4.2279\n",
      "Epoch 20/30\n",
      "1/1 [==============================] - 0s 13ms/step - loss: 22.8960 - mae: 4.2259\n",
      "Epoch 21/30\n",
      "1/1 [==============================] - 0s 11ms/step - loss: 22.8777 - mae: 4.2241\n",
      "Epoch 22/30\n",
      "1/1 [==============================] - 0s 10ms/step - loss: 22.8623 - mae: 4.2226\n",
      "Epoch 23/30\n",
      "1/1 [==============================] - 0s 6ms/step - loss: 22.8500 - mae: 4.2213\n",
      "Epoch 24/30\n",
      "1/1 [==============================] - 0s 12ms/step - loss: 22.8403 - mae: 4.2203\n",
      "Epoch 25/30\n",
      "1/1 [==============================] - 0s 12ms/step - loss: 22.8327 - mae: 4.2195\n",
      "Epoch 26/30\n",
      "1/1 [==============================] - 0s 6ms/step - loss: 22.8268 - mae: 4.2189\n",
      "Epoch 27/30\n",
      "1/1 [==============================] - 0s 12ms/step - loss: 22.8220 - mae: 4.2183\n",
      "Epoch 28/30\n",
      "1/1 [==============================] - 0s 12ms/step - loss: 22.8181 - mae: 4.2179\n",
      "Epoch 29/30\n",
      "1/1 [==============================] - 0s 9ms/step - loss: 22.8148 - mae: 4.2175\n",
      "Epoch 30/30\n",
      "1/1 [==============================] - 0s 9ms/step - loss: 22.8120 - mae: 4.2172\n",
      "1/1 [==============================] - 0s 451ms/step - loss: 58.2341 - mae: 7.6071\n"
     ]
    },
    {
     "data": {
      "text/plain": [
       "[58.234100341796875, 7.607145309448242]"
      ]
     },
     "execution_count": 6,
     "metadata": {},
     "output_type": "execute_result"
    }
   ],
   "source": [
    "m = keras.Sequential([\n",
    "  keras.layers.SimpleRNN(10, input_shape=(None,1), return_sequences=True),  \n",
    "  keras.layers.SimpleRNN(5, return_sequences=True),\n",
    "  keras.layers.SimpleRNN(1)\n",
    "])\n",
    "\n",
    "m.compile(loss='mse', optimizer=keras.optimizers.Adam(learning_rate=0.01), metrics='mae')\n",
    "m.fit(X_train, y_train, epochs=30)\n",
    "m.evaluate(X_test, y_test)"
   ]
  }
 ],
 "metadata": {
  "kernelspec": {
   "display_name": "Python 3.10.11 64-bit",
   "language": "python",
   "name": "python3"
  },
  "language_info": {
   "codemirror_mode": {
    "name": "ipython",
    "version": 3
   },
   "file_extension": ".py",
   "mimetype": "text/x-python",
   "name": "python",
   "nbconvert_exporter": "python",
   "pygments_lexer": "ipython3",
   "version": "3.10.11"
  },
  "orig_nbformat": 4,
  "vscode": {
   "interpreter": {
    "hash": "c19fa61d258bb2b35aae2ada233c33e2817c1ce895aa48acba720c6bf7cbe3cb"
   }
  }
 },
 "nbformat": 4,
 "nbformat_minor": 2
}
