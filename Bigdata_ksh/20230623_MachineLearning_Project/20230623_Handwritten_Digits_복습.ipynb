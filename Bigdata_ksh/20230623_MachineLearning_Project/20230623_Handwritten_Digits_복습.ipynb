{
 "cells": [
  {
   "cell_type": "code",
   "execution_count": 2,
   "metadata": {},
   "outputs": [],
   "source": [
    "import numpy as np\n",
    "import pandas as pd\n",
    "import matplotlib.pyplot as plt\n",
    "\n",
    "from tensorflow import keras\n",
    "\n",
    "from sklearn.model_selection import train_test_split"
   ]
  },
  {
   "cell_type": "code",
   "execution_count": 3,
   "metadata": {},
   "outputs": [
    {
     "name": "stdout",
     "output_type": "stream",
     "text": [
      "(3823, 65)\n",
      "[0 7 4 6 2 5 8 1 9 3]\n",
      "      0   1   2   3   4   5   6   7   8   9   ...  55  56  57  58  59  60  61   \n",
      "0      0   1   6  15  12   1   0   0   0   7  ...   0   0   0   6  14   7   1  \\\n",
      "1      0   0  10  16   6   0   0   0   0   7  ...   0   0   0  10  16  15   3   \n",
      "2      0   0   8  15  16  13   0   0   0   1  ...   0   0   0   9  14   0   0   \n",
      "3      0   0   0   3  11  16   0   0   0   0  ...   0   0   0   0   1  15   2   \n",
      "4      0   0   5  14   4   0   0   0   0   0  ...   0   0   0   4  12  14   7   \n",
      "...   ..  ..  ..  ..  ..  ..  ..  ..  ..  ..  ...  ..  ..  ..  ..  ..  ..  ..   \n",
      "3818   0   0   5  13  11   2   0   0   0   2  ...   0   0   0   8  13  15  10   \n",
      "3819   0   0   0   1  12   1   0   0   0   0  ...   0   0   0   0   4   9   0   \n",
      "3820   0   0   3  15   0   0   0   0   0   0  ...   0   0   0   4  14  16   9   \n",
      "3821   0   0   6  16   2   0   0   0   0   0  ...   0   0   0   5  16  16  16   \n",
      "3822   0   0   2  15  16  13   1   0   0   0  ...   0   0   0   4  14   1   0   \n",
      "\n",
      "      62  63  64  \n",
      "0      0   0   0  \n",
      "1      0   0   0  \n",
      "2      0   0   7  \n",
      "3      0   0   4  \n",
      "4      0   0   6  \n",
      "...   ..  ..  ..  \n",
      "3818   1   0   9  \n",
      "3819   0   0   4  \n",
      "3820   0   0   6  \n",
      "3821   5   0   6  \n",
      "3822   0   0   7  \n",
      "\n",
      "[3823 rows x 65 columns]\n"
     ]
    }
   ],
   "source": [
    "train_data = pd.read_csv('optdigits.tra', encoding='cp949', header=None)\n",
    "\n",
    "print(train_data.shape)\n",
    "print(train_data[64].unique())\n",
    "print(train_data)"
   ]
  },
  {
   "cell_type": "code",
   "execution_count": 4,
   "metadata": {},
   "outputs": [
    {
     "name": "stdout",
     "output_type": "stream",
     "text": [
      "(3823, 64) (3823,)\n"
     ]
    }
   ],
   "source": [
    "X_train = train_data.iloc[:, :-1]\n",
    "y_train = train_data.iloc[:, -1]\n",
    "\n",
    "print(X_train.shape, y_train.shape)"
   ]
  },
  {
   "cell_type": "code",
   "execution_count": 5,
   "metadata": {},
   "outputs": [
    {
     "name": "stdout",
     "output_type": "stream",
     "text": [
      "(1797, 65)\n",
      "[0 1 2 3 4 5 6 7 8 9]\n",
      "      0   1   2   3   4   5   6   7   8   9   ...  55  56  57  58  59  60  61   \n",
      "0      0   0   5  13   9   1   0   0   0   0  ...   0   0   0   6  13  10   0  \\\n",
      "1      0   0   0  12  13   5   0   0   0   0  ...   0   0   0   0  11  16  10   \n",
      "2      0   0   0   4  15  12   0   0   0   0  ...   0   0   0   0   3  11  16   \n",
      "3      0   0   7  15  13   1   0   0   0   8  ...   0   0   0   7  13  13   9   \n",
      "4      0   0   0   1  11   0   0   0   0   0  ...   0   0   0   0   2  16   4   \n",
      "...   ..  ..  ..  ..  ..  ..  ..  ..  ..  ..  ...  ..  ..  ..  ..  ..  ..  ..   \n",
      "1792   0   0   4  10  13   6   0   0   0   1  ...   0   0   0   2  14  15   9   \n",
      "1793   0   0   6  16  13  11   1   0   0   0  ...   0   0   0   6  16  14   6   \n",
      "1794   0   0   1  11  15   1   0   0   0   0  ...   0   0   0   2   9  13   6   \n",
      "1795   0   0   2  10   7   0   0   0   0   0  ...   0   0   0   5  12  16  12   \n",
      "1796   0   0  10  14   8   1   0   0   0   2  ...   0   0   1   8  12  14  12   \n",
      "\n",
      "      62  63  64  \n",
      "0      0   0   0  \n",
      "1      0   0   1  \n",
      "2      9   0   2  \n",
      "3      0   0   3  \n",
      "4      0   0   4  \n",
      "...   ..  ..  ..  \n",
      "1792   0   0   9  \n",
      "1793   0   0   0  \n",
      "1794   0   0   8  \n",
      "1795   0   0   9  \n",
      "1796   1   0   8  \n",
      "\n",
      "[1797 rows x 65 columns]\n"
     ]
    }
   ],
   "source": [
    "test_data = pd.read_csv('optdigits.tes', encoding='cp949', header=None)\n",
    "\n",
    "print(test_data.shape)\n",
    "print(test_data[64].unique())\n",
    "print(test_data)"
   ]
  },
  {
   "cell_type": "code",
   "execution_count": 6,
   "metadata": {},
   "outputs": [
    {
     "name": "stdout",
     "output_type": "stream",
     "text": [
      "(1797, 64) (1797,)\n"
     ]
    }
   ],
   "source": [
    "X_test = test_data.iloc[:, :-1]\n",
    "y_test = test_data.iloc[:, -1]\n",
    "\n",
    "print(X_test.shape, y_test.shape)"
   ]
  },
  {
   "cell_type": "code",
   "execution_count": 7,
   "metadata": {},
   "outputs": [
    {
     "name": "stdout",
     "output_type": "stream",
     "text": [
      "4\n"
     ]
    },
    {
     "data": {
      "image/png": "[encoded data removed]",
      "text/plain": [
       "<Figure size 640x480 with 1 Axes>"
      ]
     },
     "metadata": {},
     "output_type": "display_data"
    }
   ],
   "source": [
    "sample_i = 100\n",
    "\n",
    "image = X_train.iloc[sample_i,:].to_numpy()\n",
    "target = y_train\n",
    "\n",
    "image = image.reshape(8,8)\n",
    "\n",
    "_, axe = plt.subplots()\n",
    "\n",
    "axe.imshow(image)\n",
    "print(target[sample_i])"
   ]
  },
  {
   "cell_type": "code",
   "execution_count": 8,
   "metadata": {},
   "outputs": [
    {
     "name": "stdout",
     "output_type": "stream",
     "text": [
      "(3823, 64) (3823,)\n",
      "(1797, 64) (1797,)\n"
     ]
    }
   ],
   "source": [
    "print(X_train.shape, y_train.shape)\n",
    "print(X_test.shape, y_test.shape)"
   ]
  },
  {
   "cell_type": "code",
   "execution_count": 10,
   "metadata": {},
   "outputs": [
    {
     "name": "stdout",
     "output_type": "stream",
     "text": [
      "Epoch 1/10\n",
      "120/120 [==============================] - 0s 659us/step - loss: 2.3421 - accuracy: 0.3720\n",
      "Epoch 2/10\n",
      "120/120 [==============================] - 0s 754us/step - loss: 0.7097 - accuracy: 0.7803\n",
      "Epoch 3/10\n",
      "120/120 [==============================] - 0s 712us/step - loss: 0.3719 - accuracy: 0.8951\n",
      "Epoch 4/10\n",
      "120/120 [==============================] - 0s 729us/step - loss: 0.2421 - accuracy: 0.9296\n",
      "Epoch 5/10\n",
      "120/120 [==============================] - 0s 771us/step - loss: 0.1728 - accuracy: 0.9524\n",
      "Epoch 6/10\n",
      "120/120 [==============================] - 0s 746us/step - loss: 0.1364 - accuracy: 0.9610\n",
      "Epoch 7/10\n",
      "120/120 [==============================] - 0s 729us/step - loss: 0.1132 - accuracy: 0.9694\n",
      "Epoch 8/10\n",
      "120/120 [==============================] - 0s 746us/step - loss: 0.1001 - accuracy: 0.9728\n",
      "Epoch 9/10\n",
      "120/120 [==============================] - 0s 721us/step - loss: 0.0853 - accuracy: 0.9741\n",
      "Epoch 10/10\n",
      "120/120 [==============================] - 0s 738us/step - loss: 0.0754 - accuracy: 0.9772\n"
     ]
    }
   ],
   "source": [
    "m = keras.Sequential([\n",
    "  keras.layers.Dense(32, input_shape=[64,], activation='relu'),\n",
    "  keras.layers.Dense(16, activation='relu'),\n",
    "  keras.layers.Dense(10)  \n",
    "])\n",
    "\n",
    "m.compile(loss=keras.losses.SparseCategoricalCrossentropy(from_logits=True), optimizer=keras.optimizers.Adam(learning_rate=0.001), metrics=['accuracy'])\n",
    "\n",
    "\n",
    "h = m.fit(X_train, y_train, epochs=10)"
   ]
  },
  {
   "cell_type": "code",
   "execution_count": 11,
   "metadata": {},
   "outputs": [
    {
     "name": "stdout",
     "output_type": "stream",
     "text": [
      "(3823, 64) (3823,)\n",
      "(1797, 64) (1797,)\n"
     ]
    }
   ],
   "source": [
    "train_data = pd.read_csv('optdigits.tra', encoding='cp949', header=None)\n",
    "\n",
    "X_train = train_data.iloc[:, :-1]\n",
    "y_train = train_data.iloc[:, -1]\n",
    "\n",
    "X_test = test_data.iloc[:, :-1]\n",
    "y_test = test_data.iloc[:, -1]\n",
    "\n",
    "print(X_train.shape, y_train.shape)\n",
    "print(X_test.shape, y_test.shape)"
   ]
  },
  {
   "cell_type": "code",
   "execution_count": 24,
   "metadata": {},
   "outputs": [
    {
     "name": "stdout",
     "output_type": "stream",
     "text": [
      "Epoch 1/10\n",
      "120/120 [==============================] - 0s 796us/step - loss: 2.1268 - accuracy: 0.5341\n",
      "Epoch 2/10\n",
      "120/120 [==============================] - 0s 754us/step - loss: 0.3315 - accuracy: 0.9048\n",
      "Epoch 3/10\n",
      "120/120 [==============================] - 0s 746us/step - loss: 0.1854 - accuracy: 0.9464\n",
      "Epoch 4/10\n",
      "120/120 [==============================] - 0s 805us/step - loss: 0.1301 - accuracy: 0.9618\n",
      "Epoch 5/10\n",
      "120/120 [==============================] - 0s 788us/step - loss: 0.1066 - accuracy: 0.9678\n",
      "Epoch 6/10\n",
      "120/120 [==============================] - 0s 738us/step - loss: 0.0871 - accuracy: 0.9736\n",
      "Epoch 7/10\n",
      "120/120 [==============================] - 0s 779us/step - loss: 0.0707 - accuracy: 0.9799\n",
      "Epoch 8/10\n",
      "120/120 [==============================] - 0s 704us/step - loss: 0.0629 - accuracy: 0.9793\n",
      "Epoch 9/10\n",
      "120/120 [==============================] - 0s 687us/step - loss: 0.0573 - accuracy: 0.9830\n",
      "Epoch 10/10\n",
      "120/120 [==============================] - 0s 754us/step - loss: 0.0406 - accuracy: 0.9893\n",
      "57/57 [==============================] - 0s 588us/step - loss: 0.1533 - accuracy: 0.9533\n"
     ]
    },
    {
     "data": {
      "text/plain": [
       "[0.15331345796585083, 0.9532554149627686]"
      ]
     },
     "execution_count": 24,
     "metadata": {},
     "output_type": "execute_result"
    }
   ],
   "source": [
    "m = keras.Sequential([\n",
    "  keras.layers.Dense(64, input_shape=(64,), activation=\"relu\"),\n",
    "  keras.layers.Dense(32, activation=\"relu\"),\n",
    "  keras.layers.Dense(10)\n",
    "])\n",
    "\n",
    "m.compile(loss=keras.losses.SparseCategoricalCrossentropy(from_logits=True),\n",
    "          optimizer = keras.optimizers.Adam(learning_rate=0.001),\n",
    "          metrics=['accuracy']\n",
    ")\n",
    "\n",
    "h = m.fit(X_train, y_train, epochs=10)\n",
    "m.evaluate(X_test, y_test)"
   ]
  },
  {
   "cell_type": "code",
   "execution_count": 26,
   "metadata": {},
   "outputs": [
    {
     "name": "stdout",
     "output_type": "stream",
     "text": [
      "0.9869212660214491\n",
      "0.9471341124095715\n"
     ]
    }
   ],
   "source": [
    "from sklearn.linear_model import LogisticRegression\n",
    "\n",
    "m = LogisticRegression(solver='liblinear')\n",
    "m.fit(X_train, y_train)\n",
    "print(m.score(X_train, y_train))\n",
    "print(m.score(X_test, y_test))"
   ]
  },
  {
   "cell_type": "code",
   "execution_count": 28,
   "metadata": {},
   "outputs": [
    {
     "name": "stdout",
     "output_type": "stream",
     "text": [
      "(3823, 64)\n",
      "(3823, 8)\n"
     ]
    }
   ],
   "source": [
    "# PCA\n",
    "from sklearn.decomposition import PCA\n",
    "\n",
    "p = PCA(n_components=8)\n",
    "p = p.fit(X_train)\n",
    "p_result =  p.transform(X_train)\n",
    "\n",
    "print(X_train.shape)\n",
    "print(p_result.shape)"
   ]
  },
  {
   "cell_type": "code",
   "execution_count": 31,
   "metadata": {},
   "outputs": [
    {
     "name": "stdout",
     "output_type": "stream",
     "text": [
      "0.9152498038189903\n",
      "0.8759042849193099\n"
     ]
    }
   ],
   "source": [
    "m = LogisticRegression(solver='liblinear')\n",
    "m.fit(p_result, y_train)\n",
    "print(m.score(p_result, y_train))\n",
    "\n",
    "p_result_test = p.transform(X_test)\n",
    "print(m.score(p_result_test, y_test))\n",
    "\n",
    "# print(m.score(X_test, y_test))  : p_result는 차원축소된 값으로 차원이 맞지 않아 오류 발생!"
   ]
  }
 ],
 "metadata": {
  "kernelspec": {
   "display_name": "Python 3.10.11 64-bit",
   "language": "python",
   "name": "python3"
  },
  "language_info": {
   "codemirror_mode": {
    "name": "ipython",
    "version": 3
   },
   "file_extension": ".py",
   "mimetype": "text/x-python",
   "name": "python",
   "nbconvert_exporter": "python",
   "pygments_lexer": "ipython3",
   "version": "3.10.11"
  },
  "orig_nbformat": 4,
  "vscode": {
   "interpreter": {
    "hash": "c19fa61d258bb2b35aae2ada233c33e2817c1ce895aa48acba720c6bf7cbe3cb"
   }
  }
 },
 "nbformat": 4,
 "nbformat_minor": 2
}
