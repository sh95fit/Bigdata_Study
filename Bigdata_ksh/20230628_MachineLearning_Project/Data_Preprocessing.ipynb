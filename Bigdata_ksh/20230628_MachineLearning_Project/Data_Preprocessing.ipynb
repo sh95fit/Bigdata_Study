{
 "cells": [
  {
   "cell_type": "code",
   "execution_count": 741,
   "metadata": {},
   "outputs": [],
   "source": [
    "import numpy as np\n",
    "import pandas as pd\n",
    "\n",
    "import pymysql\n",
    "import dotenv\n",
    "import os\n",
    "import pickle\n",
    "\n",
    "from datetime import timedelta\n",
    "\n",
    "# 경고 무시\n",
    "import warnings\n",
    "warnings.filterwarnings('ignore')"
   ]
  },
  {
   "cell_type": "code",
   "execution_count": 742,
   "metadata": {},
   "outputs": [
    {
     "data": {
      "text/plain": [
       "False"
      ]
     },
     "execution_count": 742,
     "metadata": {},
     "output_type": "execute_result"
    }
   ],
   "source": [
    "dotenv_file = dotenv.find_dotenv()\n",
    "dotenv.load_dotenv(dotenv_file)\n",
    "\n",
    "# print(os.environ[\"db_name\"])\n",
    "\n",
    "# conn = pymysql.connect(\n",
    "#   host = os.environ['db_host'],\n",
    "#   port = int(os.environ['db_port']),\n",
    "#   user = os.environ['db_user'],\n",
    "#   password = os.environ['db_password'],\n",
    "#   db = os.environ['db_name']\n",
    "#   # charset= os.environ['db_charset']\n",
    "# )"
   ]
  },
  {
   "cell_type": "code",
   "execution_count": 743,
   "metadata": {},
   "outputs": [],
   "source": [
    "# curs = conn.cursor()\n",
    "\n",
    "# sql = \"SELECT cpg, DATE_FORMAT(save_time_id, '%Y-%m-%d'), HOUR(save_time) FROM gsmon_solar_data WHERE rtu_id='24' AND lerr != '57'\"\n",
    "# curs.execute(sql)\n",
    "\n",
    "# result = curs.fetchall()\n",
    "\n",
    "# print(result)"
   ]
  },
  {
   "cell_type": "code",
   "execution_count": 744,
   "metadata": {},
   "outputs": [],
   "source": [
    "# with open('plant_data', 'wb') as file :\n",
    "#   pickle.dump(result, file)"
   ]
  },
  {
   "cell_type": "code",
   "execution_count": 745,
   "metadata": {},
   "outputs": [],
   "source": [
    "# with open( \"plant_data\", \"rb\" ) as file:\n",
    "#     data = pickle.load(file)"
   ]
  },
  {
   "cell_type": "code",
   "execution_count": 746,
   "metadata": {},
   "outputs": [
    {
     "data": {
      "text/html": [
       "<div>\n",
       "<style scoped>\n",
       "    .dataframe tbody tr th:only-of-type {\n",
       "        vertical-align: middle;\n",
       "    }\n",
       "\n",
       "    .dataframe tbody tr th {\n",
       "        vertical-align: top;\n",
       "    }\n",
       "\n",
       "    .dataframe thead th {\n",
       "        text-align: right;\n",
       "    }\n",
       "</style>\n",
       "<table border=\"1\" class=\"dataframe\">\n",
       "  <thead>\n",
       "    <tr style=\"text-align: right;\">\n",
       "      <th></th>\n",
       "      <th>누적발전량</th>\n",
       "      <th>날짜</th>\n",
       "      <th>시간</th>\n",
       "    </tr>\n",
       "  </thead>\n",
       "  <tbody>\n",
       "    <tr>\n",
       "      <th>920524</th>\n",
       "      <td>238822000</td>\n",
       "      <td>2023-06-28</td>\n",
       "      <td>19</td>\n",
       "    </tr>\n",
       "    <tr>\n",
       "      <th>920525</th>\n",
       "      <td>238822000</td>\n",
       "      <td>2023-06-28</td>\n",
       "      <td>19</td>\n",
       "    </tr>\n",
       "    <tr>\n",
       "      <th>920526</th>\n",
       "      <td>238822000</td>\n",
       "      <td>2023-06-28</td>\n",
       "      <td>19</td>\n",
       "    </tr>\n",
       "    <tr>\n",
       "      <th>920527</th>\n",
       "      <td>238822000</td>\n",
       "      <td>2023-06-28</td>\n",
       "      <td>19</td>\n",
       "    </tr>\n",
       "    <tr>\n",
       "      <th>920528</th>\n",
       "      <td>238822000</td>\n",
       "      <td>2023-06-28</td>\n",
       "      <td>19</td>\n",
       "    </tr>\n",
       "  </tbody>\n",
       "</table>\n",
       "</div>"
      ],
      "text/plain": [
       "            누적발전량          날짜  시간\n",
       "920524  238822000  2023-06-28  19\n",
       "920525  238822000  2023-06-28  19\n",
       "920526  238822000  2023-06-28  19\n",
       "920527  238822000  2023-06-28  19\n",
       "920528  238822000  2023-06-28  19"
      ]
     },
     "execution_count": 746,
     "metadata": {},
     "output_type": "execute_result"
    }
   ],
   "source": [
    "plant_data = pd.read_pickle('plant_data')\n",
    "\n",
    "data = pd.DataFrame(plant_data, columns=['누적발전량', '날짜', '시간'])\n",
    "\n",
    "data.tail()"
   ]
  },
  {
   "cell_type": "code",
   "execution_count": 747,
   "metadata": {},
   "outputs": [
    {
     "data": {
      "text/html": [
       "<div>\n",
       "<style scoped>\n",
       "    .dataframe tbody tr th:only-of-type {\n",
       "        vertical-align: middle;\n",
       "    }\n",
       "\n",
       "    .dataframe tbody tr th {\n",
       "        vertical-align: top;\n",
       "    }\n",
       "\n",
       "    .dataframe thead th {\n",
       "        text-align: right;\n",
       "    }\n",
       "</style>\n",
       "<table border=\"1\" class=\"dataframe\">\n",
       "  <thead>\n",
       "    <tr style=\"text-align: right;\">\n",
       "      <th></th>\n",
       "      <th>날짜</th>\n",
       "      <th>년</th>\n",
       "      <th>월</th>\n",
       "      <th>일</th>\n",
       "      <th>시간</th>\n",
       "      <th>누적발전량</th>\n",
       "    </tr>\n",
       "  </thead>\n",
       "  <tbody>\n",
       "    <tr>\n",
       "      <th>796473</th>\n",
       "      <td>2022-12-31</td>\n",
       "      <td>2022</td>\n",
       "      <td>12</td>\n",
       "      <td>31</td>\n",
       "      <td>17</td>\n",
       "      <td>204302000</td>\n",
       "    </tr>\n",
       "    <tr>\n",
       "      <th>796474</th>\n",
       "      <td>2022-12-31</td>\n",
       "      <td>2022</td>\n",
       "      <td>12</td>\n",
       "      <td>31</td>\n",
       "      <td>17</td>\n",
       "      <td>204302000</td>\n",
       "    </tr>\n",
       "    <tr>\n",
       "      <th>796475</th>\n",
       "      <td>2022-12-31</td>\n",
       "      <td>2022</td>\n",
       "      <td>12</td>\n",
       "      <td>31</td>\n",
       "      <td>17</td>\n",
       "      <td>204302000</td>\n",
       "    </tr>\n",
       "    <tr>\n",
       "      <th>796476</th>\n",
       "      <td>2022-12-31</td>\n",
       "      <td>2022</td>\n",
       "      <td>12</td>\n",
       "      <td>31</td>\n",
       "      <td>17</td>\n",
       "      <td>204302000</td>\n",
       "    </tr>\n",
       "    <tr>\n",
       "      <th>796477</th>\n",
       "      <td>2022-12-31</td>\n",
       "      <td>2022</td>\n",
       "      <td>12</td>\n",
       "      <td>31</td>\n",
       "      <td>17</td>\n",
       "      <td>204302000</td>\n",
       "    </tr>\n",
       "  </tbody>\n",
       "</table>\n",
       "</div>"
      ],
      "text/plain": [
       "               날짜     년   월   일  시간      누적발전량\n",
       "796473 2022-12-31  2022  12  31  17  204302000\n",
       "796474 2022-12-31  2022  12  31  17  204302000\n",
       "796475 2022-12-31  2022  12  31  17  204302000\n",
       "796476 2022-12-31  2022  12  31  17  204302000\n",
       "796477 2022-12-31  2022  12  31  17  204302000"
      ]
     },
     "execution_count": 747,
     "metadata": {},
     "output_type": "execute_result"
    }
   ],
   "source": [
    "# 날짜 분리하기\n",
    "data['날짜'] = pd.to_datetime(data['날짜'])\n",
    "\n",
    "data['년'] = data['날짜'].dt.year\n",
    "data['월'] = data['날짜'].dt.month\n",
    "data['일'] = data['날짜'].dt.day\n",
    "\n",
    "data = data[['날짜', '년','월','일','시간','누적발전량']]\n",
    "\n",
    "year = [2020, 2023]\n",
    "\n",
    "filter_y = data['년'].isin(year)\n",
    "pg_data = data.drop(index=data[filter_y].index, axis=0)\n",
    "\n",
    "pg_data.tail()"
   ]
  },
  {
   "cell_type": "code",
   "execution_count": 748,
   "metadata": {},
   "outputs": [
    {
     "name": "stdout",
     "output_type": "stream",
     "text": [
      "(1, 6)\n",
      "(532266, 6)\n"
     ]
    },
    {
     "data": {
      "text/html": [
       "<div>\n",
       "<style scoped>\n",
       "    .dataframe tbody tr th:only-of-type {\n",
       "        vertical-align: middle;\n",
       "    }\n",
       "\n",
       "    .dataframe tbody tr th {\n",
       "        vertical-align: top;\n",
       "    }\n",
       "\n",
       "    .dataframe thead th {\n",
       "        text-align: right;\n",
       "    }\n",
       "</style>\n",
       "<table border=\"1\" class=\"dataframe\">\n",
       "  <thead>\n",
       "    <tr style=\"text-align: right;\">\n",
       "      <th></th>\n",
       "      <th>날짜</th>\n",
       "      <th>년</th>\n",
       "      <th>월</th>\n",
       "      <th>일</th>\n",
       "      <th>시간</th>\n",
       "      <th>누적발전량</th>\n",
       "    </tr>\n",
       "  </thead>\n",
       "  <tbody>\n",
       "    <tr>\n",
       "      <th>264211</th>\n",
       "      <td>2020-12-31</td>\n",
       "      <td>2020</td>\n",
       "      <td>12</td>\n",
       "      <td>31</td>\n",
       "      <td>17</td>\n",
       "      <td>72059000</td>\n",
       "    </tr>\n",
       "    <tr>\n",
       "      <th>264212</th>\n",
       "      <td>2021-01-01</td>\n",
       "      <td>2021</td>\n",
       "      <td>1</td>\n",
       "      <td>1</td>\n",
       "      <td>7</td>\n",
       "      <td>72059000</td>\n",
       "    </tr>\n",
       "    <tr>\n",
       "      <th>264213</th>\n",
       "      <td>2021-01-01</td>\n",
       "      <td>2021</td>\n",
       "      <td>1</td>\n",
       "      <td>1</td>\n",
       "      <td>7</td>\n",
       "      <td>72059000</td>\n",
       "    </tr>\n",
       "    <tr>\n",
       "      <th>264214</th>\n",
       "      <td>2021-01-01</td>\n",
       "      <td>2021</td>\n",
       "      <td>1</td>\n",
       "      <td>1</td>\n",
       "      <td>7</td>\n",
       "      <td>72059000</td>\n",
       "    </tr>\n",
       "    <tr>\n",
       "      <th>264215</th>\n",
       "      <td>2021-01-01</td>\n",
       "      <td>2021</td>\n",
       "      <td>1</td>\n",
       "      <td>1</td>\n",
       "      <td>7</td>\n",
       "      <td>72059000</td>\n",
       "    </tr>\n",
       "  </tbody>\n",
       "</table>\n",
       "</div>"
      ],
      "text/plain": [
       "               날짜     년   월   일  시간     누적발전량\n",
       "264211 2020-12-31  2020  12  31  17  72059000\n",
       "264212 2021-01-01  2021   1   1   7  72059000\n",
       "264213 2021-01-01  2021   1   1   7  72059000\n",
       "264214 2021-01-01  2021   1   1   7  72059000\n",
       "264215 2021-01-01  2021   1   1   7  72059000"
      ]
     },
     "execution_count": 748,
     "metadata": {},
     "output_type": "execute_result"
    }
   ],
   "source": [
    "# 2021년 1월 1일의 전일 데이터 처리를 위한 2020년 12월 31일 마지막 row 가져오기\n",
    "\n",
    "filter_l = data['년']==2020\n",
    "\n",
    "last_data_2020 = data[filter_l]\n",
    "\n",
    "last_data = (last_data_2020.iloc[-1, :]).to_frame()\n",
    "\n",
    "last_data= last_data.transpose()\n",
    "\n",
    "print(last_data.shape)\n",
    "print(pg_data.shape)\n",
    "\n",
    "pg_data = pd.concat([last_data, pg_data], axis=0)\n",
    "\n",
    "pg_data.head()"
   ]
  },
  {
   "cell_type": "code",
   "execution_count": 749,
   "metadata": {},
   "outputs": [
    {
     "name": "stdout",
     "output_type": "stream",
     "text": [
      "72213000\n",
      "2021-01-01\n"
     ]
    }
   ],
   "source": [
    "# 전일 최대 누적 발전량 column 추가\n",
    "\n",
    "for i in range(1, len(pg_data)) :\n",
    "  yesterday_date = pg_data.iloc[i]['날짜']-timedelta(days=1)\n",
    "  # print(yesterday_date)\n",
    "  filter_d = pg_data['날짜'] == yesterday_date.strftime('%Y-%m-%d')\n",
    "  pg_data.iloc[i]['전일최대누적발전량'] = max(pg_data[filter_d]['누적발전량'])\n",
    "\n",
    "# pg_data = pg_data.reset_index(drop=True)\n",
    "\n",
    "# pg_data.loc[0]['누적발전량']\n",
    "\n",
    "# for문 적용 테스트\n",
    "# yesterday_date = pg_data.iloc[1]['날짜']-timedelta(days=1)\n",
    "# filter_d = pg_data['날짜'] == yesterday_date.strftime('%Y-%m-%d')\n",
    "# print(max(pg_data[filter_d]['누적발전량']))\n",
    "# print(yesterday_date.strftime('%Y-%m-%d'))"
   ]
  },
  {
   "cell_type": "code",
   "execution_count": 750,
   "metadata": {},
   "outputs": [
    {
     "name": "stdout",
     "output_type": "stream",
     "text": [
      "               날짜     년   월   일  시간     누적발전량\n",
      "264211 2020-12-31  2020  12  31  17  72059000\n",
      "264212 2021-01-01  2021   1   1   7  72059000\n",
      "264213 2021-01-01  2021   1   1   7  72059000\n",
      "264214 2021-01-01  2021   1   1   7  72059000\n",
      "264215 2021-01-01  2021   1   1   7  72059000\n"
     ]
    }
   ],
   "source": [
    "# pg_data = pg_data.iloc[1:, :]\n",
    "print(pg_data.head())\n",
    "\n",
    "# with open('plant_data_addy', 'wb') as file :\n",
    "#   pickle.dump(pg_data, file)"
   ]
  }
 ],
 "metadata": {
  "kernelspec": {
   "display_name": "Python 3.10.11 64-bit",
   "language": "python",
   "name": "python3"
  },
  "language_info": {
   "codemirror_mode": {
    "name": "ipython",
    "version": 3
   },
   "file_extension": ".py",
   "mimetype": "text/x-python",
   "name": "python",
   "nbconvert_exporter": "python",
   "pygments_lexer": "ipython3",
   "version": "3.10.11"
  },
  "orig_nbformat": 4,
  "vscode": {
   "interpreter": {
    "hash": "c19fa61d258bb2b35aae2ada233c33e2817c1ce895aa48acba720c6bf7cbe3cb"
   }
  }
 },
 "nbformat": 4,
 "nbformat_minor": 2
}
