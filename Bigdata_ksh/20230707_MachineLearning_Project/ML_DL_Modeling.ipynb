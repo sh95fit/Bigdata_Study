{
 "cells": [
  {
   "cell_type": "code",
   "execution_count": 15,
   "metadata": {},
   "outputs": [],
   "source": [
    "import numpy as np\n",
    "import pandas as pd\n",
    "\n",
    "import pymysql\n",
    "import dotenv\n",
    "import os\n",
    "import pickle\n",
    "import seaborn as sns\n",
    "import matplotlib\n",
    "\n",
    "from datetime import timedelta\n",
    "\n",
    "import matplotlib.pyplot as plt\n",
    "\n",
    "# Normalization/Standardization\n",
    "from sklearn.preprocessing import MinMaxScaler, StandardScaler, OneHotEncoder\n",
    "\n",
    "\n",
    "# 경고 무시 코드 추가\n",
    "import warnings\n",
    "warnings.filterwarnings('ignore')\n",
    "\n",
    "def pltconfig_default() :\n",
    "  sns.reset_defaults()\n",
    "  %matplotlib inline\n",
    "\n",
    "pltconfig_default()\n",
    "\n",
    "matplotlib.rcParams\n",
    "\n",
    "matplotlib.rcParams['font.family']\n",
    "\n",
    "current_font_list = matplotlib.rcParams['font.family']\n",
    "\n",
    "font_path = 'C:\\\\Windows\\\\Fonts\\\\batang.ttc'\n",
    "\n",
    "kfont = matplotlib.font_manager.FontProperties(fname=font_path).get_name()\n",
    "\n",
    "matplotlib.rcParams['font.family'] = [kfont] + current_font_list\n"
   ]
  },
  {
   "cell_type": "code",
   "execution_count": 20,
   "metadata": {},
   "outputs": [],
   "source": [
    "with open('StandardScalar_final_data', 'rb') as file :\n",
    "  NotEncode_data = pickle.load(file)\n",
    "  \n",
    "with open('encoded_StandardScalar_final_data', 'rb') as file :\n",
    "  Encode_data = pickle.load(file)\n",
    "  \n",
    "\n",
    "with open('Basic_final_data', 'rb') as file :\n",
    "  Base_data = pickle.load(file)"
   ]
  },
  {
   "cell_type": "code",
   "execution_count": 21,
   "metadata": {},
   "outputs": [
    {
     "name": "stdout",
     "output_type": "stream",
     "text": [
      "          년   월   일  시간  지역   발전량  강수량   풍속     풍향    습도  일조시간  일사량  전운량  \\\n",
      "52578  2022  12  31  19  부산  2.48  0.0  2.1  250.0  48.0   0.0  0.0  0.0   \n",
      "52579  2022  12  31  20  부산  3.40  0.0  2.9  250.0  51.0   0.0  0.0  0.0   \n",
      "52580  2022  12  31  21  부산  2.64  0.0  1.6  200.0  50.0   0.0  0.0  0.0   \n",
      "52581  2022  12  31  22  부산  1.05  0.0  2.5  230.0  52.0   0.0  0.0  0.0   \n",
      "52582  2022  12  31  23  부산  0.75  0.0  1.8  270.0  53.0   0.0  0.0  0.0   \n",
      "\n",
      "           시정  \n",
      "52578  4309.0  \n",
      "52579  3672.0  \n",
      "52580  3800.0  \n",
      "52581  3406.0  \n",
      "52582  3238.0  \n"
     ]
    }
   ],
   "source": [
    "# print(NotEncode_data.tail())\n",
    "# print(Encode_data.tail())\n",
    "print(Base_data.tail())"
   ]
  },
  {
   "cell_type": "code",
   "execution_count": null,
   "metadata": {},
   "outputs": [],
   "source": []
  }
 ],
 "metadata": {
  "kernelspec": {
   "display_name": "Python 3",
   "language": "python",
   "name": "python3"
  },
  "language_info": {
   "codemirror_mode": {
    "name": "ipython",
    "version": 3
   },
   "file_extension": ".py",
   "mimetype": "text/x-python",
   "name": "python",
   "nbconvert_exporter": "python",
   "pygments_lexer": "ipython3",
   "version": "3.11.1"
  },
  "orig_nbformat": 4
 },
 "nbformat": 4,
 "nbformat_minor": 2
}
