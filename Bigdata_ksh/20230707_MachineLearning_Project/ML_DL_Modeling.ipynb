{
 "cells": [
  {
   "cell_type": "code",
   "execution_count": 15,
   "metadata": {},
   "outputs": [],
   "source": [
    "import numpy as np\n",
    "import pandas as pd\n",
    "\n",
    "import pymysql\n",
    "import dotenv\n",
    "import os\n",
    "import pickle\n",
    "import seaborn as sns\n",
    "import matplotlib\n",
    "\n",
    "from datetime import timedelta\n",
    "\n",
    "import matplotlib.pyplot as plt\n",
    "\n",
    "# Normalization/Standardization\n",
    "from sklearn.preprocessing import MinMaxScaler, StandardScaler, OneHotEncoder\n",
    "\n",
    "\n",
    "# 경고 무시 코드 추가\n",
    "import warnings\n",
    "warnings.filterwarnings('ignore')\n",
    "\n",
    "def pltconfig_default() :\n",
    "  sns.reset_defaults()\n",
    "  %matplotlib inline\n",
    "\n",
    "pltconfig_default()\n",
    "\n",
    "matplotlib.rcParams\n",
    "\n",
    "matplotlib.rcParams['font.family']\n",
    "\n",
    "current_font_list = matplotlib.rcParams['font.family']\n",
    "\n",
    "font_path = 'C:\\\\Windows\\\\Fonts\\\\batang.ttc'\n",
    "\n",
    "kfont = matplotlib.font_manager.FontProperties(fname=font_path).get_name()\n",
    "\n",
    "matplotlib.rcParams['font.family'] = [kfont] + current_font_list\n"
   ]
  },
  {
   "cell_type": "code",
   "execution_count": 16,
   "metadata": {},
   "outputs": [],
   "source": [
    "with open('StandardScalar_final_data', 'rb') as file :\n",
    "  NotEncode_data = pickle.load(file)\n",
    "  \n",
    "with open('encoded_StandardScalar_final_data', 'rb') as file :\n",
    "  Encode_data = pickle.load(file)"
   ]
  },
  {
   "cell_type": "code",
   "execution_count": 19,
   "metadata": {},
   "outputs": [
    {
     "name": "stdout",
     "output_type": "stream",
     "text": [
      "              0         1         2         3         4         5         6  \\\n",
      "17513 -0.113213 -0.300526  1.658384 -0.656891 -0.666187 -1.234854  0.354197   \n",
      "17514 -0.113213 -1.026363 -1.060294 -0.390894 -0.666187 -1.234854  0.317609   \n",
      "17515 -0.113213 -1.130055 -1.060294  0.008101 -0.666187 -1.234854  0.150351   \n",
      "17516 -0.113213 -0.507908  1.356308  0.362763 -0.666187 -1.234854 -0.189392   \n",
      "17517 -0.113213 -1.026363 -1.060294  0.584427 -0.666187 -1.234854 -0.486667   \n",
      "\n",
      "              7    8  \n",
      "17513 -1.312322  0.0  \n",
      "17514 -1.349798  0.0  \n",
      "17515 -1.402265  0.0  \n",
      "17516 -1.439741  0.0  \n",
      "17517 -1.477217  0.0  \n"
     ]
    }
   ],
   "source": [
    "print(NotEncode_data.tail())\n",
    "# print(Encode_data.tail())"
   ]
  },
  {
   "cell_type": "code",
   "execution_count": null,
   "metadata": {},
   "outputs": [],
   "source": []
  }
 ],
 "metadata": {
  "kernelspec": {
   "display_name": "Python 3",
   "language": "python",
   "name": "python3"
  },
  "language_info": {
   "codemirror_mode": {
    "name": "ipython",
    "version": 3
   },
   "file_extension": ".py",
   "mimetype": "text/x-python",
   "name": "python",
   "nbconvert_exporter": "python",
   "pygments_lexer": "ipython3",
   "version": "3.11.1"
  },
  "orig_nbformat": 4
 },
 "nbformat": 4,
 "nbformat_minor": 2
}
