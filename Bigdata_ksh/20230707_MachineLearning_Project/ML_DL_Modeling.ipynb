{
 "cells": [
  {
   "cell_type": "code",
   "execution_count": 100,
   "metadata": {},
   "outputs": [],
   "source": [
    "import numpy as np\n",
    "import pandas as pd\n",
    "\n",
    "import pymysql\n",
    "import dotenv\n",
    "import os\n",
    "import pickle\n",
    "import seaborn as sns\n",
    "import matplotlib\n",
    "\n",
    "from datetime import timedelta\n",
    "\n",
    "import matplotlib.pyplot as plt\n",
    "\n",
    "# Normalization/Standardization\n",
    "from sklearn.preprocessing import MinMaxScaler, StandardScaler, OneHotEncoder\n",
    "\n",
    "\n",
    "# 경고 무시 코드 추가\n",
    "import warnings\n",
    "warnings.filterwarnings('ignore')\n",
    "\n",
    "def pltconfig_default() :\n",
    "  sns.reset_defaults()\n",
    "  %matplotlib inline\n",
    "\n",
    "pltconfig_default()\n",
    "\n",
    "matplotlib.rcParams\n",
    "\n",
    "matplotlib.rcParams['font.family']\n",
    "\n",
    "current_font_list = matplotlib.rcParams['font.family']\n",
    "\n",
    "font_path = 'C:\\\\Windows\\\\Fonts\\\\batang.ttc'\n",
    "\n",
    "kfont = matplotlib.font_manager.FontProperties(fname=font_path).get_name()\n",
    "\n",
    "matplotlib.rcParams['font.family'] = [kfont] + current_font_list\n"
   ]
  },
  {
   "cell_type": "code",
   "execution_count": 101,
   "metadata": {},
   "outputs": [],
   "source": [
    "with open('StandardScalar_final_data', 'rb') as file :\n",
    "  NotEncode_data = pickle.load(file)\n",
    "  \n",
    "with open('encoded_StandardScalar_final_data', 'rb') as file :\n",
    "  Encode_data = pickle.load(file)\n",
    "  \n",
    "\n",
    "with open('Basic_StandardScalar_final_data', 'rb') as file :\n",
    "  Base_data = pickle.load(file)"
   ]
  },
  {
   "cell_type": "code",
   "execution_count": 102,
   "metadata": {},
   "outputs": [
    {
     "name": "stdout",
     "output_type": "stream",
     "text": [
      "              0         1         2         3         4         5         6  \\\n",
      "17513 -0.113213 -0.300526  1.658384 -0.656891 -0.666187 -1.234854  0.354197   \n",
      "17514 -0.113213 -1.026363 -1.060294 -0.390894 -0.666187 -1.234854  0.317609   \n",
      "17515 -0.113213 -1.130055 -1.060294  0.008101 -0.666187 -1.234854  0.150351   \n",
      "17516 -0.113213 -0.507908  1.356308  0.362763 -0.666187 -1.234854 -0.189392   \n",
      "17517 -0.113213 -1.026363 -1.060294  0.584427 -0.666187 -1.234854 -0.486667   \n",
      "\n",
      "              7    8  \n",
      "17513 -1.312322  0.0  \n",
      "17514 -1.349798  0.0  \n",
      "17515 -1.402265  0.0  \n",
      "17516 -1.439741  0.0  \n",
      "17517 -1.477217  0.0  \n",
      "             0         1         2         3         4         5         6   \\\n",
      "17513 -0.113213 -0.300526 -0.656891  0.354197 -1.312322 -0.663439 -0.261843   \n",
      "17514 -0.113213 -1.026363 -0.390894  0.317609 -1.349798  1.507298 -0.261843   \n",
      "17515 -0.113213 -1.130055  0.008101  0.150351 -1.402265  1.507298 -0.261843   \n",
      "17516 -0.113213 -0.507908  0.362763 -0.189392 -1.439741 -0.663439 -0.261843   \n",
      "17517 -0.113213 -1.026363  0.584427 -0.486667 -1.477217  1.507298 -0.261843   \n",
      "\n",
      "             7         8         9   ...        35        36        37  \\\n",
      "17513 -0.254802 -0.174211 -0.117359  ... -0.172112 -0.180882 -0.190263   \n",
      "17514 -0.254802 -0.174211 -0.117359  ... -0.172112 -0.180882 -0.190263   \n",
      "17515 -0.254802 -0.174211 -0.117359  ... -0.172112 -0.180882 -0.190263   \n",
      "17516 -0.254802 -0.174211 -0.117359  ... -0.172112 -0.180882 -0.190263   \n",
      "17517 -0.254802 -0.174211 -0.117359  ... -0.172112 -0.180882 -0.190263   \n",
      "\n",
      "             38        39        40        41        42      43   44  \n",
      "17513 -0.216739 -0.269356 -0.300176 -0.318348 -0.324939 -0.4685  0.0  \n",
      "17514 -0.216739 -0.269356 -0.300176 -0.318348 -0.324939 -0.4685  0.0  \n",
      "17515 -0.216739 -0.269356 -0.300176 -0.318348 -0.324939 -0.4685  0.0  \n",
      "17516 -0.216739 -0.269356 -0.300176 -0.318348 -0.324939 -0.4685  0.0  \n",
      "17517 -0.216739 -0.269356 -0.300176 -0.318348 -0.324939 -0.4685  0.0  \n",
      "\n",
      "[5 rows x 45 columns]\n"
     ]
    }
   ],
   "source": [
    "print(NotEncode_data.tail())\n",
    "print(Encode_data.tail())\n"
   ]
  },
  {
   "cell_type": "code",
   "execution_count": 103,
   "metadata": {},
   "outputs": [
    {
     "name": "stdout",
     "output_type": "stream",
     "text": [
      "              0         1         2         3         4         5         6  \\\n",
      "52573 -0.114319 -0.595412  0.652879 -0.726003 -0.686676 -0.668423 -1.125648   \n",
      "52574 -0.114319 -0.141313  0.652879 -0.581577 -0.686676 -0.668423 -1.125648   \n",
      "52575 -0.114319 -0.879224  0.197166 -0.629719 -0.686676 -0.668423 -1.125648   \n",
      "52576 -0.114319 -0.368363  0.470594 -0.533435 -0.686676 -0.668423 -1.125648   \n",
      "52577 -0.114319 -0.765699  0.835164 -0.485293 -0.686676 -0.668423 -1.125648   \n",
      "\n",
      "              7     8  \n",
      "52573  1.206665  2.48  \n",
      "52574  0.782347  3.40  \n",
      "52575  0.867610  2.64  \n",
      "52576  0.605159  1.05  \n",
      "52577  0.493250  0.75  \n"
     ]
    }
   ],
   "source": [
    "print(Base_data.tail())"
   ]
  }
 ],
 "metadata": {
  "kernelspec": {
   "display_name": "Python 3",
   "language": "python",
   "name": "python3"
  },
  "language_info": {
   "codemirror_mode": {
    "name": "ipython",
    "version": 3
   },
   "file_extension": ".py",
   "mimetype": "text/x-python",
   "name": "python",
   "nbconvert_exporter": "python",
   "pygments_lexer": "ipython3",
   "version": "3.11.1"
  },
  "orig_nbformat": 4
 },
 "nbformat": 4,
 "nbformat_minor": 2
}
